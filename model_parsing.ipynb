{
 "cells": [
  {
   "cell_type": "code",
   "execution_count": 1,
   "metadata": {},
   "outputs": [],
   "source": [
    "from common.model import *\n",
    "import numpy as np\n",
    "import torch"
   ]
  },
  {
   "cell_type": "markdown",
   "metadata": {},
   "source": [
    "Temporal Model"
   ]
  },
  {
   "cell_type": "code",
   "execution_count": 2,
   "metadata": {},
   "outputs": [],
   "source": [
    "model_tm = TemporalModel(\n",
    "    num_joints_in = 17,\n",
    "    in_features = 2,\n",
    "    num_joints_out = 17,\n",
    "    filter_widths = [3, 3, 3, 3, 3],\n",
    "    causal =False,\n",
    "    dropout = 0.25,\n",
    "    channels = 1024,\n",
    "    dense = False\n",
    ")"
   ]
  },
  {
   "cell_type": "code",
   "execution_count": 3,
   "metadata": {},
   "outputs": [],
   "source": [
    "batch_2d = np.random.rand(10, model_tm.receptive_field(), 17, 2)\n",
    "inputs_2d = torch.from_numpy(batch_2d.astype('float32'))"
   ]
  },
  {
   "cell_type": "code",
   "execution_count": 4,
   "metadata": {},
   "outputs": [],
   "source": [
    "predicted_3d_pos = model_tm(inputs_2d)"
   ]
  },
  {
   "cell_type": "code",
   "execution_count": 5,
   "metadata": {},
   "outputs": [
    {
     "data": {
      "text/plain": [
       "torch.Size([10, 1, 17, 3])"
      ]
     },
     "execution_count": 5,
     "metadata": {},
     "output_type": "execute_result"
    }
   ],
   "source": [
    "predicted_3d_pos.shape"
   ]
  },
  {
   "cell_type": "markdown",
   "metadata": {},
   "source": [
    "convert a batch data [10, 27, 17, 2] to [10, 27, 34] to [10, 34, 27] (batch, channels, frames)"
   ]
  },
  {
   "cell_type": "code",
   "execution_count": 6,
   "metadata": {},
   "outputs": [
    {
     "name": "stdout",
     "output_type": "stream",
     "text": [
      "torch.Size([10, 243, 17, 2])\n",
      "torch.Size([10, 243, 34])\n",
      "torch.Size([10, 34, 243])\n"
     ]
    }
   ],
   "source": [
    "x = inputs_2d\n",
    "print(x.shape)\n",
    "sz = x.shape[:3]\n",
    "x = x.view(x.shape[0], x.shape[1], -1)\n",
    "print(x.shape)\n",
    "x = x.permute(0, 2, 1)\n",
    "print(x.shape)"
   ]
  },
  {
   "cell_type": "markdown",
   "metadata": {},
   "source": [
    "conv1d layer"
   ]
  },
  {
   "cell_type": "code",
   "execution_count": 7,
   "metadata": {},
   "outputs": [
    {
     "name": "stdout",
     "output_type": "stream",
     "text": [
      "input :  torch.Size([10, 34, 243])\n",
      "layer :  Conv1d(34, 1024, kernel_size=(3,), stride=(1,), bias=False)\n",
      "conv1d :  torch.Size([10, 1024, 241])\n"
     ]
    }
   ],
   "source": [
    "print(\"input : \", x.shape)\n",
    "print(\"layer : \", model_tm.expand_conv)\n",
    "x = model_tm.expand_conv(x)\n",
    "print(\"conv1d : \", x.shape)"
   ]
  },
  {
   "cell_type": "markdown",
   "metadata": {},
   "source": [
    "bn 1d "
   ]
  },
  {
   "cell_type": "code",
   "execution_count": 8,
   "metadata": {},
   "outputs": [
    {
     "name": "stdout",
     "output_type": "stream",
     "text": [
      "layer :  BatchNorm1d(1024, eps=1e-05, momentum=0.1, affine=True, track_running_stats=True)\n",
      "bn 1d :  torch.Size([10, 1024, 241])\n"
     ]
    }
   ],
   "source": [
    "print(\"layer : \", model_tm.expand_bn)\n",
    "x = model_tm.expand_bn(x)\n",
    "print(\"bn 1d : \", x.shape)"
   ]
  },
  {
   "cell_type": "markdown",
   "metadata": {},
   "source": [
    "Relu"
   ]
  },
  {
   "cell_type": "code",
   "execution_count": 9,
   "metadata": {},
   "outputs": [
    {
     "name": "stdout",
     "output_type": "stream",
     "text": [
      "layer :  ReLU(inplace)\n",
      "relu :  torch.Size([10, 1024, 241])\n"
     ]
    }
   ],
   "source": [
    "print(\"layer : \", model_tm.relu)\n",
    "x = model_tm.relu(x)\n",
    "print(\"relu : \", x.shape)"
   ]
  },
  {
   "cell_type": "markdown",
   "metadata": {},
   "source": [
    "drop out 0.25"
   ]
  },
  {
   "cell_type": "code",
   "execution_count": 10,
   "metadata": {},
   "outputs": [
    {
     "name": "stdout",
     "output_type": "stream",
     "text": [
      "layer :  Dropout(p=0.25)\n",
      "drop :  torch.Size([10, 1024, 241])\n"
     ]
    }
   ],
   "source": [
    "print(\"layer : \", model_tm.drop)\n",
    "x = model_tm.drop(x)\n",
    "print(\"drop : \", x.shape)"
   ]
  },
  {
   "cell_type": "code",
   "execution_count": 11,
   "metadata": {},
   "outputs": [
    {
     "data": {
      "text/plain": [
       "[1, 3, 9, 27, 81]"
      ]
     },
     "execution_count": 11,
     "metadata": {},
     "output_type": "execute_result"
    }
   ],
   "source": [
    "model_tm.pad"
   ]
  },
  {
   "cell_type": "code",
   "execution_count": 12,
   "metadata": {},
   "outputs": [],
   "source": [
    "pad = model_tm.pad[1]"
   ]
  },
  {
   "cell_type": "code",
   "execution_count": 13,
   "metadata": {},
   "outputs": [],
   "source": [
    "shift = model_tm.causal_shift[1]"
   ]
  },
  {
   "cell_type": "code",
   "execution_count": 14,
   "metadata": {},
   "outputs": [
    {
     "name": "stdout",
     "output_type": "stream",
     "text": [
      "res :  torch.Size([10, 1024, 235])\n"
     ]
    }
   ],
   "source": [
    "res = x[:,:,pad+shift : x.shape[2] - pad+shift]\n",
    "print(\"res : \", res.shape)"
   ]
  },
  {
   "cell_type": "code",
   "execution_count": 15,
   "metadata": {},
   "outputs": [
    {
     "name": "stdout",
     "output_type": "stream",
     "text": [
      "block 1a : \n",
      "Conv1d(1024, 1024, kernel_size=(3,), stride=(1,), dilation=(3,), bias=False)\n",
      "BatchNorm1d(1024, eps=1e-05, momentum=0.1, affine=True, track_running_stats=True)\n",
      "ReLU(inplace)\n",
      "Dropout(p=0.25)\n",
      "block 1a out :  torch.Size([10, 1024, 235])\n"
     ]
    }
   ],
   "source": [
    "print(\"block 1a : \")\n",
    "print(model_tm.layers_conv[0])\n",
    "print(model_tm.layers_bn[0])\n",
    "print(model_tm.relu)\n",
    "print(model_tm.drop)\n",
    "x = model_tm.drop(model_tm.relu(model_tm.layers_bn[0](model_tm.layers_conv[0](x))))\n",
    "print(\"block 1a out : \", x.shape)"
   ]
  },
  {
   "cell_type": "code",
   "execution_count": 16,
   "metadata": {},
   "outputs": [
    {
     "name": "stdout",
     "output_type": "stream",
     "text": [
      "block 1b : \n",
      "Conv1d(1024, 1024, kernel_size=(1,), stride=(1,), bias=False)\n",
      "BatchNorm1d(1024, eps=1e-05, momentum=0.1, affine=True, track_running_stats=True)\n",
      "ReLU(inplace)\n",
      "Dropout(p=0.25)\n",
      "block 1b out :  torch.Size([10, 1024, 235])\n"
     ]
    }
   ],
   "source": [
    "print(\"block 1b : \")\n",
    "print(model_tm.layers_conv[1])\n",
    "print(model_tm.layers_bn[1])\n",
    "print(model_tm.relu)\n",
    "print(model_tm.drop)\n",
    "x = model_tm.drop(model_tm.relu(model_tm.layers_bn[1](model_tm.layers_conv[1](x))))\n",
    "print(\"block 1b out : \", x.shape)"
   ]
  },
  {
   "cell_type": "code",
   "execution_count": null,
   "metadata": {},
   "outputs": [],
   "source": []
  },
  {
   "cell_type": "code",
   "execution_count": null,
   "metadata": {},
   "outputs": [],
   "source": []
  }
 ],
 "metadata": {
  "kernelspec": {
   "display_name": "PyTorch",
   "language": "python",
   "name": "pytorch"
  },
  "language_info": {
   "codemirror_mode": {
    "name": "ipython",
    "version": 3
   },
   "file_extension": ".py",
   "mimetype": "text/x-python",
   "name": "python",
   "nbconvert_exporter": "python",
   "pygments_lexer": "ipython3",
   "version": "3.6.6"
  }
 },
 "nbformat": 4,
 "nbformat_minor": 2
}
