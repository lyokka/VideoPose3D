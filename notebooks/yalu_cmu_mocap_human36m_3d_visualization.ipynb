{
 "cells": [
  {
   "cell_type": "code",
   "execution_count": 1,
   "metadata": {},
   "outputs": [
    {
     "data": {
      "text/html": [
       "        <script type=\"text/javascript\">\n",
       "        window.PlotlyConfig = {MathJaxConfig: 'local'};\n",
       "        if (window.MathJax) {MathJax.Hub.Config({SVG: {font: \"STIX-Web\"}});}\n",
       "        if (typeof require !== 'undefined') {\n",
       "        require.undef(\"plotly\");\n",
       "        requirejs.config({\n",
       "            paths: {\n",
       "                'plotly': ['https://cdn.plot.ly/plotly-latest.min']\n",
       "            }\n",
       "        });\n",
       "        require(['plotly'], function(Plotly) {\n",
       "            window._Plotly = Plotly;\n",
       "        });\n",
       "        }\n",
       "        </script>\n",
       "        "
      ]
     },
     "metadata": {},
     "output_type": "display_data"
    }
   ],
   "source": [
    "import plotly\n",
    "import plotly.graph_objs as go\n",
    "import numpy as np\n",
    "import json\n",
    "from common.h36m_dataset import Human36mDataset\n",
    "%matplotlib inline\n",
    "plotly.offline.init_notebook_mode(connected=True)"
   ]
  },
  {
   "cell_type": "code",
   "execution_count": 2,
   "metadata": {},
   "outputs": [],
   "source": [
    "human36m_path = \"./data/data_3d_h36m.npz\"\n",
    "human36m = Human36mDataset(human36m_path)\n",
    "skeleton = human36m.skeleton()"
   ]
  },
  {
   "cell_type": "code",
   "execution_count": 3,
   "metadata": {},
   "outputs": [],
   "source": [
    "human36m_kpts_name = ['Pelvis', 'RHip', 'RKnee', 'RAnkle','LHip','LKnee',\n",
    "                      'LAnkle','Spine1','Neck', 'Head','Site','LShoulder',\n",
    "                      'LElbow','LWrist','RShoulder', 'RElbow','RWrist']"
   ]
  },
  {
   "cell_type": "code",
   "execution_count": 4,
   "metadata": {},
   "outputs": [],
   "source": [
    "pts_3d = np.load(\"./wild_data/yalu/box.npy\")"
   ]
  },
  {
   "cell_type": "code",
   "execution_count": 5,
   "metadata": {},
   "outputs": [],
   "source": [
    "pts_3d = pts_3d[:,:,[0,2,1]]\n",
    "pts_3d = pts_3d[:,:,[1,0,2]]"
   ]
  },
  {
   "cell_type": "code",
   "execution_count": 6,
   "metadata": {},
   "outputs": [
    {
     "name": "stdout",
     "output_type": "stream",
     "text": [
      "xmin, xmax -11.459874893771065 19.646576196387734\n",
      "ymin, ymax -13.368016642301232 12.986789133967875\n"
     ]
    }
   ],
   "source": [
    "obj_pts = pts_3d.reshape(-1,3)\n",
    "xmin = obj_pts[:,0].min()\n",
    "xmax = obj_pts[:,0].max()\n",
    "ymin = obj_pts[:,1].min()\n",
    "ymax = obj_pts[:,1].max()\n",
    "zmin = obj_pts[:,2].min()\n",
    "zmax = obj_pts[:,2].max()\n",
    "\n",
    "print(\"xmin, xmax\", xmin, xmax)\n",
    "print(\"ymin, ymax\", ymin, ymax)"
   ]
  },
  {
   "cell_type": "code",
   "execution_count": 7,
   "metadata": {},
   "outputs": [],
   "source": [
    "def get_line_3d_segs(pts, k, skeleton, human36m_kpts_name, traj_p = 0):\n",
    "    line_3d_segs = []\n",
    "    cols = []\n",
    "    for j, j_parent in enumerate(skeleton.parents()):\n",
    "        if j_parent == -1:\n",
    "            continue\n",
    "\n",
    "        col = 'red' if j in skeleton.joints_right() else 'black'\n",
    "        cols.append(col)\n",
    "        trace = go.Scatter3d(\n",
    "                    x = [pts[k, j, 0], pts[k, j_parent, 0]], \n",
    "                    y = [pts[k, j, 1], pts[k, j_parent, 1]], \n",
    "                    z = [pts[k, j, 2], pts[k, j_parent, 2]],\n",
    "                    marker = dict(size=2, color=\"blue\"),\n",
    "                    text = [human36m_kpts_name[j]],\n",
    "                    line = dict(color=col, width=5))\n",
    "        line_3d_segs.append(trace)\n",
    "    \n",
    "    #if k != 0:\n",
    "    trajectory = go.Scatter3d(\n",
    "                    x = pts[:k, traj_p, 0], \n",
    "                    y = pts[:k, traj_p, 1], \n",
    "                    z = pts[:k, traj_p, 2],\n",
    "                    marker = dict(color='#1f77b4', size=1),\n",
    "                    line = dict(color='#1f77b4', width=1))\n",
    "    \n",
    "    surface = go.Mesh3d(\n",
    "                    x = [-50, 50, -50, 50],\n",
    "                    y = [-50, 50, 50, -50],\n",
    "                    z = [0, 0, 0, 0],\n",
    "                    color='#00FFFF',\n",
    "                )\n",
    "    \n",
    "    line_3d_segs.append(trajectory)\n",
    "    line_3d_segs.append(surface)\n",
    "        \n",
    "    return line_3d_segs"
   ]
  },
  {
   "cell_type": "code",
   "execution_count": 9,
   "metadata": {},
   "outputs": [],
   "source": [
    "def generate_frames_layout(pts, skeleton, human36m_kpts_name, x_range = [-2, 5], y_range = [-2, 2], z_range = [-2, 5]):\n",
    "    frames = []\n",
    "\n",
    "    for k in range(len(pts)):\n",
    "        frames.append(dict(data = get_line_3d_segs(pts, k, skeleton, human36m_kpts_name, traj_p = 3), name=\"frame{}\".format(k+1)))    \n",
    "    \n",
    "    sliders=[\n",
    "        dict(\n",
    "            steps=[dict(method='animate',\n",
    "                        args= [['frame{}'.format(k + 1)],\n",
    "                                dict(mode='immediate',\n",
    "                                     frame= dict(duration=70, redraw= True),\n",
    "                                     transition=dict(duration=0))],\n",
    "                                label='{:d}'.format(k+1)) for k in range(len(pts))], \n",
    "                        transition= dict(duration=0),\n",
    "                    x=0,\n",
    "                    y=0, \n",
    "                    currentvalue=dict(font=dict(size=12), \n",
    "                                      prefix='slice: ', \n",
    "                                      visible=True, \n",
    "                                      xanchor='center'),  \n",
    "                    len=1.0)]\n",
    "    \n",
    "    # x_range = [-2, 5]\n",
    "    # y_range = [-2, 2]\n",
    "    # z_range = [-2, 5]\n",
    "    t_sum = x_range[1]-x_range[0] + y_range[1]-y_range[0] + z_range[1]-z_range[0]\n",
    "    ratio = ((x_range[1]-x_range[0])/t_sum, (y_range[1]-y_range[0])/t_sum, (z_range[1]-z_range[0])/ t_sum)\n",
    "    ratio = np.array(ratio)*3\n",
    "    layout = dict(\n",
    "                width=800,\n",
    "                height=700,\n",
    "                autosize=False,\n",
    "                title='action animation',\n",
    "                scene=dict(\n",
    "                    camera=dict(\n",
    "                        up=dict(\n",
    "                            x=0,\n",
    "                            y=1,\n",
    "                            z=0\n",
    "                        ),\n",
    "                        eye=dict(\n",
    "                            x=-1.7428,\n",
    "                            y=1.0707,\n",
    "                            z=0.7100,\n",
    "                        )\n",
    "                    ),\n",
    "                    xaxis=dict(\n",
    "                        range=x_range),\n",
    "                    yaxis=dict(\n",
    "                        range=y_range),\n",
    "                    zaxis=dict(\n",
    "                        range=z_range),\n",
    "                    aspectratio = dict( x=ratio[0], y=ratio[1], z=ratio[2] ),\n",
    "                ),\n",
    "                updatemenus=[\n",
    "                    dict(type='buttons',\n",
    "                         showactive=False,\n",
    "                         y=1,\n",
    "                         x=1.3,\n",
    "                         xanchor='right',\n",
    "                         yanchor='top',\n",
    "                         pad=dict(t=0, r=10),\n",
    "                         buttons=[dict(label='Play',\n",
    "                                       method='animate',\n",
    "                                       args=[None])])\n",
    "                ],\n",
    "                sliders=sliders\n",
    "            )\n",
    "    return frames, layout"
   ]
  },
  {
   "cell_type": "code",
   "execution_count": 10,
   "metadata": {},
   "outputs": [
    {
     "data": {
      "application/vnd.plotly.v1+json": {
       "config": {
        "linkText": "Export to plot.ly",
        "plotlyServerURL": "https://plot.ly",
        "responsive": true,
        "showLink": false
       },
       "data": [
        {
         "line": {
          "color": "red",
          "width": 5
         },
         "marker": {
          "color": "blue",
          "size": 2
         },
         "text": [
          "RHip"
         ],
         "type": "scatter3d",
         "uid": "88da7bdf-2b76-43f8-9054-26b98ed532f1",
         "x": [
          -4.437206110243867,
          -3.86645
         ],
         "y": [
          2.705744946354109,
          4.10189
         ],
         "z": [
          15.42071474921815,
          17.5181
         ]
        },
        {
         "line": {
          "color": "red",
          "width": 5
         },
         "marker": {
          "color": "blue",
          "size": 2
         },
         "text": [
          "RKnee"
         ],
         "type": "scatter3d",
         "uid": "13483300-4709-4532-a8fb-ac1bf7fa8ed4",
         "x": [
          -2.9139766548170147,
          -4.437206110243867
         ],
         "y": [
          1.4728643194295088,
          2.705744946354109
         ],
         "z": [
          8.262640413159254,
          15.42071474921815
         ]
        },
        {
         "line": {
          "color": "red",
          "width": 5
         },
         "marker": {
          "color": "blue",
          "size": 2
         },
         "text": [
          "RAnkle"
         ],
         "type": "scatter3d",
         "uid": "896a861c-75b2-4a7a-94b1-40992632e1e2",
         "x": [
          -7.68200201222643,
          -2.9139766548170147
         ],
         "y": [
          3.4053156803910536,
          1.4728643194295088
         ],
         "z": [
          1.865911632557168,
          8.262640413159254
         ]
        },
        {
         "line": {
          "color": "black",
          "width": 5
         },
         "marker": {
          "color": "blue",
          "size": 2
         },
         "text": [
          "LHip"
         ],
         "type": "scatter3d",
         "uid": "ff607497-f0fd-4245-871b-422f3e43009e",
         "x": [
          -2.3268302543258557,
          -3.86645
         ],
         "y": [
          5.076811563003487,
          4.10189
         ],
         "z": [
          15.723790370184785,
          17.5181
         ]
        },
        {
         "line": {
          "color": "black",
          "width": 5
         },
         "marker": {
          "color": "blue",
          "size": 2
         },
         "text": [
          "LKnee"
         ],
         "type": "scatter3d",
         "uid": "cf1e2e8e-17bc-45d0-8b60-0553ca7327a6",
         "x": [
          0.27102330957788023,
          -2.3268302543258557
         ],
         "y": [
          4.041927482301514,
          5.076811563003487
         ],
         "z": [
          8.64445661373614,
          15.723790370184785
         ]
        },
        {
         "line": {
          "color": "black",
          "width": 5
         },
         "marker": {
          "color": "blue",
          "size": 2
         },
         "text": [
          "LAnkle"
         ],
         "type": "scatter3d",
         "uid": "367b1008-e9b5-4050-ac6f-6c6f5d37299c",
         "x": [
          -1.689285037936163,
          0.27102330957788023
         ],
         "y": [
          7.559732931777601,
          4.041927482301514
         ],
         "z": [
          1.588925789414379,
          8.64445661373614
         ]
        },
        {
         "line": {
          "color": "black",
          "width": 5
         },
         "marker": {
          "color": "blue",
          "size": 2
         },
         "text": [
          "Spine1"
         ],
         "type": "scatter3d",
         "uid": "c2e5e266-3666-4aff-b504-0f75f6880b5f",
         "x": [
          -3.525928257606838,
          -3.86645
         ],
         "y": [
          3.601364499972928,
          4.10189
         ],
         "z": [
          21.484032688974096,
          17.5181
         ]
        },
        {
         "line": {
          "color": "black",
          "width": 5
         },
         "marker": {
          "color": "blue",
          "size": 2
         },
         "text": [
          "Neck"
         ],
         "type": "scatter3d",
         "uid": "2a2a5545-947a-4013-88cf-21ab512ae756",
         "x": [
          -3.213832325899128,
          -3.525928257606838
         ],
         "y": [
          3.262536080383826,
          3.601364499972928
         ],
         "z": [
          25.24546328460673,
          21.484032688974096
         ]
        },
        {
         "line": {
          "color": "black",
          "width": 5
         },
         "marker": {
          "color": "blue",
          "size": 2
         },
         "text": [
          "Head"
         ],
         "type": "scatter3d",
         "uid": "2daedcc2-0f36-40e0-aa12-0d7390f0b893",
         "x": [
          -3.0866046732769408,
          -3.213832325899128
         ],
         "y": [
          3.249925142993387,
          3.262536080383826
         ],
         "z": [
          27.02057489858693,
          25.24546328460673
         ]
        },
        {
         "line": {
          "color": "black",
          "width": 5
         },
         "marker": {
          "color": "blue",
          "size": 2
         },
         "text": [
          "Site"
         ],
         "type": "scatter3d",
         "uid": "54c02da0-b0fc-47eb-a742-47586e6fdb8e",
         "x": [
          -2.890591433605404,
          -3.0866046732769408
         ],
         "y": [
          3.0260172846861515,
          3.249925142993387
         ],
         "z": [
          28.778191570224312,
          27.02057489858693
         ]
        },
        {
         "line": {
          "color": "black",
          "width": 5
         },
         "marker": {
          "color": "blue",
          "size": 2
         },
         "text": [
          "LShoulder"
         ],
         "type": "scatter3d",
         "uid": "f0bbf4be-1941-47af-9116-3e327512c774",
         "x": [
          -1.0276839917226872,
          -3.213832325899128
         ],
         "y": [
          5.885694654693221,
          3.262536080383826
         ],
         "z": [
          24.887878624969584,
          25.24546328460673
         ]
        },
        {
         "line": {
          "color": "black",
          "width": 5
         },
         "marker": {
          "color": "blue",
          "size": 2
         },
         "text": [
          "LElbow"
         ],
         "type": "scatter3d",
         "uid": "e1501e3f-1f31-4f50-8086-784dda4bb32a",
         "x": [
          1.711206515495843,
          -1.0276839917226872
         ],
         "y": [
          4.688861418937911,
          5.885694654693221
         ],
         "z": [
          21.569927034938434,
          24.887878624969584
         ]
        },
        {
         "line": {
          "color": "black",
          "width": 5
         },
         "marker": {
          "color": "blue",
          "size": 2
         },
         "text": [
          "LWrist"
         ],
         "type": "scatter3d",
         "uid": "5382c9bb-1c17-4bea-a028-9f9057317a4f",
         "x": [
          2.8665698074727715,
          1.711206515495843
         ],
         "y": [
          3.6572421763491754,
          4.688861418937911
         ],
         "z": [
          22.568311923632606,
          21.569927034938434
         ]
        },
        {
         "line": {
          "color": "red",
          "width": 5
         },
         "marker": {
          "color": "blue",
          "size": 2
         },
         "text": [
          "RShoulder"
         ],
         "type": "scatter3d",
         "uid": "5c54109e-93cc-490e-a862-6b6a402f746f",
         "x": [
          -5.355613290443367,
          -3.213832325899128
         ],
         "y": [
          1.0845662808855199,
          3.262536080383826
         ],
         "z": [
          24.775853159338816,
          25.24546328460673
         ]
        },
        {
         "line": {
          "color": "red",
          "width": 5
         },
         "marker": {
          "color": "blue",
          "size": 2
         },
         "text": [
          "RElbow"
         ],
         "type": "scatter3d",
         "uid": "3118655a-26de-40bd-a057-3006e74c4bcb",
         "x": [
          -3.375781762493287,
          -5.355613290443367
         ],
         "y": [
          -0.836543547978387,
          1.0845662808855199
         ],
         "z": [
          18.798146618242278,
          24.775853159338816
         ]
        },
        {
         "line": {
          "color": "red",
          "width": 5
         },
         "marker": {
          "color": "blue",
          "size": 2
         },
         "text": [
          "RWrist"
         ],
         "type": "scatter3d",
         "uid": "b6b80ca1-9fe9-43c8-b63e-42f703886894",
         "x": [
          -1.659115207038853,
          -3.375781762493287
         ],
         "y": [
          -1.4247972465693044,
          -0.836543547978387
         ],
         "z": [
          18.751430549504455,
          18.798146618242278
         ]
        },
        {
         "line": {
          "color": "#1f77b4",
          "width": 1
         },
         "marker": {
          "color": "#1f77b4",
          "size": 1
         },
         "type": "scatter3d",
         "uid": "527a46ad-dffd-46ea-bbcc-05ab3c29b834",
         "x": [],
         "y": [],
         "z": []
        },
        {
         "color": "#00FFFF",
         "type": "mesh3d",
         "uid": "e2fac1f1-4361-4777-a777-d5a636286dac",
         "x": [
          -50,
          50,
          -50,
          50
         ],
         "y": [
          -50,
          50,
          50,
          -50
         ],
         "z": [
          0,
          0,
          0,
          0
         ]
        }
       ],
       "frames": [
        {
         "data": [
          {
           "line": {
            "color": "red",
            "width": 5
           },
           "marker": {
            "color": "blue",
            "size": 2
           },
           "text": [
            "RHip"
           ],
           "type": "scatter3d",
           "x": [
            -4.437206110243867,
            -3.86645
           ],
           "y": [
            2.705744946354109,
            4.10189
           ],
           "z": [
            15.42071474921815,
            17.5181
           ]
          },
          {
           "line": {
            "color": "red",
            "width": 5
           },
           "marker": {
            "color": "blue",
            "size": 2
           },
           "text": [
            "RKnee"
           ],
           "type": "scatter3d",
           "x": [
            -2.9139766548170147,
            -4.437206110243867
           ],
           "y": [
            1.4728643194295088,
            2.705744946354109
           ],
           "z": [
            8.262640413159254,
            15.42071474921815
           ]
          },
          {
           "line": {
            "color": "red",
            "width": 5
           },
           "marker": {
            "color": "blue",
            "size": 2
           },
           "text": [
            "RAnkle"
           ],
           "type": "scatter3d",
           "x": [
            -7.68200201222643,
            -2.9139766548170147
           ],
           "y": [
            3.4053156803910536,
            1.4728643194295088
           ],
           "z": [
            1.865911632557168,
            8.262640413159254
           ]
          },
          {
           "line": {
            "color": "black",
            "width": 5
           },
           "marker": {
            "color": "blue",
            "size": 2
           },
           "text": [
            "LHip"
           ],
           "type": "scatter3d",
           "x": [
            -2.3268302543258557,
            -3.86645
           ],
           "y": [
            5.076811563003487,
            4.10189
           ],
           "z": [
            15.723790370184785,
            17.5181
           ]
          },
          {
           "line": {
            "color": "black",
            "width": 5
           },
           "marker": {
            "color": "blue",
            "size": 2
           },
           "text": [
            "LKnee"
           ],
           "type": "scatter3d",
           "x": [
            0.27102330957788023,
            -2.3268302543258557
           ],
           "y": [
            4.041927482301514,
            5.076811563003487
           ],
           "z": [
            8.64445661373614,
            15.723790370184785
           ]
          },
          {
           "line": {
            "color": "black",
            "width": 5
           },
           "marker": {
            "color": "blue",
            "size": 2
           },
           "text": [
            "LAnkle"
           ],
           "type": "scatter3d",
           "x": [
            -1.689285037936163,
            0.27102330957788023
           ],
           "y": [
            7.559732931777601,
            4.041927482301514
           ],
           "z": [
            1.588925789414379,
            8.64445661373614
           ]
          },
          {
           "line": {
            "color": "black",
            "width": 5
           },
           "marker": {
            "color": "blue",
            "size": 2
           },
           "text": [
            "Spine1"
           ],
           "type": "scatter3d",
           "x": [
            -3.525928257606838,
            -3.86645
           ],
           "y": [
            3.601364499972928,
            4.10189
           ],
           "z": [
            21.484032688974096,
            17.5181
           ]
          },
          {
           "line": {
            "color": "black",
            "width": 5
           },
           "marker": {
            "color": "blue",
            "size": 2
           },
           "text": [
            "Neck"
           ],
           "type": "scatter3d",
           "x": [
            -3.213832325899128,
            -3.525928257606838
           ],
           "y": [
            3.262536080383826,
            3.601364499972928
           ],
           "z": [
            25.24546328460673,
            21.484032688974096
           ]
          },
          {
           "line": {
            "color": "black",
            "width": 5
           },
           "marker": {
            "color": "blue",
            "size": 2
           },
           "text": [
            "Head"
           ],
           "type": "scatter3d",
           "x": [
            -3.0866046732769408,
            -3.213832325899128
           ],
           "y": [
            3.249925142993387,
            3.262536080383826
           ],
           "z": [
            27.02057489858693,
            25.24546328460673
           ]
          },
          {
           "line": {
            "color": "black",
            "width": 5
           },
           "marker": {
            "color": "blue",
            "size": 2
           },
           "text": [
            "Site"
           ],
           "type": "scatter3d",
           "x": [
            -2.890591433605404,
            -3.0866046732769408
           ],
           "y": [
            3.0260172846861515,
            3.249925142993387
           ],
           "z": [
            28.778191570224312,
            27.02057489858693
           ]
          },
          {
           "line": {
            "color": "black",
            "width": 5
           },
           "marker": {
            "color": "blue",
            "size": 2
           },
           "text": [
            "LShoulder"
           ],
           "type": "scatter3d",
           "x": [
            -1.0276839917226872,
            -3.213832325899128
           ],
           "y": [
            5.885694654693221,
            3.262536080383826
           ],
           "z": [
            24.887878624969584,
            25.24546328460673
           ]
          },
          {
           "line": {
            "color": "black",
            "width": 5
           },
           "marker": {
            "color": "blue",
            "size": 2
           },
           "text": [
            "LElbow"
           ],
           "type": "scatter3d",
           "x": [
            1.711206515495843,
            -1.0276839917226872
           ],
           "y": [
            4.688861418937911,
            5.885694654693221
           ],
           "z": [
            21.569927034938434,
            24.887878624969584
           ]
          },
          {
           "line": {
            "color": "black",
            "width": 5
           },
           "marker": {
            "color": "blue",
            "size": 2
           },
           "text": [
            "LWrist"
           ],
           "type": "scatter3d",
           "x": [
            2.8665698074727715,
            1.711206515495843
           ],
           "y": [
            3.6572421763491754,
            4.688861418937911
           ],
           "z": [
            22.568311923632606,
            21.569927034938434
           ]
          },
          {
           "line": {
            "color": "red",
            "width": 5
           },
           "marker": {
            "color": "blue",
            "size": 2
           },
           "text": [
            "RShoulder"
           ],
           "type": "scatter3d",
           "x": [
            -5.355613290443367,
            -3.213832325899128
           ],
           "y": [
            1.0845662808855199,
            3.262536080383826
           ],
           "z": [
            24.775853159338816,
            25.24546328460673
           ]
          },
          {
           "line": {
            "color": "red",
            "width": 5
           },
           "marker": {
            "color": "blue",
            "size": 2
           },
           "text": [
            "RElbow"
           ],
           "type": "scatter3d",
           "x": [
            -3.375781762493287,
            -5.355613290443367
           ],
           "y": [
            -0.836543547978387,
            1.0845662808855199
           ],
           "z": [
            18.798146618242278,
            24.775853159338816
           ]
          },
          {
           "line": {
            "color": "red",
            "width": 5
           },
           "marker": {
            "color": "blue",
            "size": 2
           },
           "text": [
            "RWrist"
           ],
           "type": "scatter3d",
           "x": [
            -1.659115207038853,
            -3.375781762493287
           ],
           "y": [
            -1.4247972465693044,
            -0.836543547978387
           ],
           "z": [
            18.751430549504455,
            18.798146618242278
           ]
          },
          {
           "line": {
            "color": "#1f77b4",
            "width": 1
           },
           "marker": {
            "color": "#1f77b4",
            "size": 1
           },
           "type": "scatter3d",
           "x": [],
           "y": [],
           "z": []
          },
          {
           "color": "#00FFFF",
           "type": "mesh3d",
           "x": [
            -50,
            50,
            -50,
            50
           ],
           "y": [
            -50,
            50,
            50,
            -50
           ],
           "z": [
            0,
            0,
            0,
            0
           ]
          }
         ],
         "name": "frame1"
        },
        {
         "data": [
          {
           "line": {
            "color": "red",
            "width": 5
           },
           "marker": {
            "color": "blue",
            "size": 2
           },
           "text": [
            "RHip"
           ],
           "type": "scatter3d",
           "x": [
            -6.195200892278333,
            -5.32477
           ],
           "y": [
            3.823017877993978,
            5.22304
           ],
           "z": [
            15.41745586824748,
            17.4065
           ]
          },
          {
           "line": {
            "color": "red",
            "width": 5
           },
           "marker": {
            "color": "blue",
            "size": 2
           },
           "text": [
            "RKnee"
           ],
           "type": "scatter3d",
           "x": [
            -6.152445821104819,
            -6.195200892278333
           ],
           "y": [
            1.827771941328842,
            3.823017877993978
           ],
           "z": [
            8.26935007224941,
            15.41745586824748
           ]
          },
          {
           "line": {
            "color": "red",
            "width": 5
           },
           "marker": {
            "color": "blue",
            "size": 2
           },
           "text": [
            "RAnkle"
           ],
           "type": "scatter3d",
           "x": [
            -11.202351483965106,
            -6.152445821104819
           ],
           "y": [
            3.729440580134272,
            1.827771941328842
           ],
           "z": [
            2.0831814398599002,
            8.26935007224941
           ]
          },
          {
           "line": {
            "color": "black",
            "width": 5
           },
           "marker": {
            "color": "blue",
            "size": 2
           },
           "text": [
            "LHip"
           ],
           "type": "scatter3d",
           "x": [
            -3.7384828212748387,
            -5.32477
           ],
           "y": [
            5.853987799219669,
            5.22304
           ],
           "z": [
            15.502282070192987,
            17.4065
           ]
          },
          {
           "line": {
            "color": "black",
            "width": 5
           },
           "marker": {
            "color": "blue",
            "size": 2
           },
           "text": [
            "LKnee"
           ],
           "type": "scatter3d",
           "x": [
            0.7507890613850412,
            -3.7384828212748387
           ],
           "y": [
            4.467748963636584,
            5.853987799219669
           ],
           "z": [
            9.513828639677586,
            15.502282070192987
           ]
          },
          {
           "line": {
            "color": "black",
            "width": 5
           },
           "marker": {
            "color": "blue",
            "size": 2
           },
           "text": [
            "LAnkle"
           ],
           "type": "scatter3d",
           "x": [
            -0.9920504089580968,
            0.7507890613850412
           ],
           "y": [
            9.21765137279283,
            4.467748963636584
           ],
           "z": [
            3.157790809806124,
            9.513828639677586
           ]
          },
          {
           "line": {
            "color": "black",
            "width": 5
           },
           "marker": {
            "color": "blue",
            "size": 2
           },
           "text": [
            "Spine1"
           ],
           "type": "scatter3d",
           "x": [
            -5.0340371738237035,
            -5.32477
           ],
           "y": [
            4.8045147467349585,
            5.22304
           ],
           "z": [
            21.3802413678344,
            17.4065
           ]
          },
          {
           "line": {
            "color": "black",
            "width": 5
           },
           "marker": {
            "color": "blue",
            "size": 2
           },
           "text": [
            "Neck"
           ],
           "type": "scatter3d",
           "x": [
            -4.026584243398448,
            -5.0340371738237035
           ],
           "y": [
            4.280559760198768,
            4.8045147467349585
           ],
           "z": [
            24.99741871391048,
            21.3802413678344
           ]
          },
          {
           "line": {
            "color": "black",
            "width": 5
           },
           "marker": {
            "color": "blue",
            "size": 2
           },
           "text": [
            "Head"
           ],
           "type": "scatter3d",
           "x": [
            -2.8029594749753644,
            -4.026584243398448
           ],
           "y": [
            3.696652870857257,
            4.280559760198768
           ],
           "z": [
            26.150311737613062,
            24.99741871391048
           ]
          },
          {
           "line": {
            "color": "black",
            "width": 5
           },
           "marker": {
            "color": "blue",
            "size": 2
           },
           "text": [
            "Site"
           ],
           "type": "scatter3d",
           "x": [
            -1.4755477683598124,
            -2.8029594749753644
           ],
           "y": [
            2.8735603245760775,
            3.696652870857257
           ],
           "z": [
            27.009537613010384,
            26.150311737613062
           ]
          },
          {
           "line": {
            "color": "black",
            "width": 5
           },
           "marker": {
            "color": "blue",
            "size": 2
           },
           "text": [
            "LShoulder"
           ],
           "type": "scatter3d",
           "x": [
            -2.098875973640653,
            -4.026584243398448
           ],
           "y": [
            7.035716791697325,
            4.280559760198768
           ],
           "z": [
            24.45467171950546,
            24.99741871391048
           ]
          },
          {
           "line": {
            "color": "black",
            "width": 5
           },
           "marker": {
            "color": "blue",
            "size": 2
           },
           "text": [
            "LElbow"
           ],
           "type": "scatter3d",
           "x": [
            0.5892460050192598,
            -2.098875973640653
           ],
           "y": [
            5.110256831741295,
            7.035716791697325
           ],
           "z": [
            23.140377668358227,
            24.45467171950546
           ]
          },
          {
           "line": {
            "color": "black",
            "width": 5
           },
           "marker": {
            "color": "blue",
            "size": 2
           },
           "text": [
            "LWrist"
           ],
           "type": "scatter3d",
           "x": [
            0.6142536282822768,
            0.5892460050192598
           ],
           "y": [
            4.373530699191389,
            5.110256831741295
           ],
           "z": [
            24.829307568767593,
            23.140377668358227
           ]
          },
          {
           "line": {
            "color": "red",
            "width": 5
           },
           "marker": {
            "color": "blue",
            "size": 2
           },
           "text": [
            "RShoulder"
           ],
           "type": "scatter3d",
           "x": [
            -6.67313870016965,
            -4.026584243398448
           ],
           "y": [
            2.490278339230457,
            4.280559760198768
           ],
           "z": [
            24.91234536412483,
            24.99741871391048
           ]
          },
          {
           "line": {
            "color": "red",
            "width": 5
           },
           "marker": {
            "color": "blue",
            "size": 2
           },
           "text": [
            "RElbow"
           ],
           "type": "scatter3d",
           "x": [
            -4.383117099933591,
            -6.67313870016965
           ],
           "y": [
            -0.2791504674847557,
            2.490278339230457
           ],
           "z": [
            23.03490328075296,
            24.91234536412483
           ]
          },
          {
           "line": {
            "color": "red",
            "width": 5
           },
           "marker": {
            "color": "blue",
            "size": 2
           },
           "text": [
            "RWrist"
           ],
           "type": "scatter3d",
           "x": [
            -3.694642597993352,
            -4.383117099933591
           ],
           "y": [
            -0.1526790118646894,
            -0.2791504674847557
           ],
           "z": [
            24.709769454120696,
            23.03490328075296
           ]
          },
          {
           "line": {
            "color": "#1f77b4",
            "width": 1
           },
           "marker": {
            "color": "#1f77b4",
            "size": 1
           },
           "type": "scatter3d",
           "x": [
            -7.68200201222643
           ],
           "y": [
            3.4053156803910536
           ],
           "z": [
            1.865911632557168
           ]
          },
          {
           "color": "#00FFFF",
           "type": "mesh3d",
           "x": [
            -50,
            50,
            -50,
            50
           ],
           "y": [
            -50,
            50,
            50,
            -50
           ],
           "z": [
            0,
            0,
            0,
            0
           ]
          }
         ],
         "name": "frame2"
        },
        {
         "data": [
          {
           "line": {
            "color": "red",
            "width": 5
           },
           "marker": {
            "color": "blue",
            "size": 2
           },
           "text": [
            "RHip"
           ],
           "type": "scatter3d",
           "x": [
            -5.525438029324765,
            -4.31743
           ],
           "y": [
            6.238481074910603,
            7.29418
           ],
           "z": [
            15.290698812521995,
            17.3156
           ]
          },
          {
           "line": {
            "color": "red",
            "width": 5
           },
           "marker": {
            "color": "blue",
            "size": 2
           },
           "text": [
            "RKnee"
           ],
           "type": "scatter3d",
           "x": [
            -6.011757355671929,
            -5.525438029324765
           ],
           "y": [
            4.019393654483469,
            6.238481074910603
           ],
           "z": [
            8.225474446092132,
            15.290698812521995
           ]
          },
          {
           "line": {
            "color": "red",
            "width": 5
           },
           "marker": {
            "color": "blue",
            "size": 2
           },
           "text": [
            "RAnkle"
           ],
           "type": "scatter3d",
           "x": [
            -10.955869104893946,
            -6.011757355671929
           ],
           "y": [
            7.115938837216567,
            4.019393654483469
           ],
           "z": [
            2.4502047462026466,
            8.225474446092132
           ]
          },
          {
           "line": {
            "color": "black",
            "width": 5
           },
           "marker": {
            "color": "blue",
            "size": 2
           },
           "text": [
            "LHip"
           ],
           "type": "scatter3d",
           "x": [
            -2.5376789052817674,
            -4.31743
           ],
           "y": [
            7.336268474396715,
            7.29418
           ],
           "z": [
            15.479527380494252,
            17.3156
           ]
          },
          {
           "line": {
            "color": "black",
            "width": 5
           },
           "marker": {
            "color": "blue",
            "size": 2
           },
           "text": [
            "LKnee"
           ],
           "type": "scatter3d",
           "x": [
            1.629164659330315,
            -2.5376789052817674
           ],
           "y": [
            5.659253474108365,
            7.336268474396715
           ],
           "z": [
            9.334461877830368,
            15.479527380494252
           ]
          },
          {
           "line": {
            "color": "black",
            "width": 5
           },
           "marker": {
            "color": "blue",
            "size": 2
           },
           "text": [
            "LAnkle"
           ],
           "type": "scatter3d",
           "x": [
            2.9020384537456776,
            1.629164659330315
           ],
           "y": [
            10.511928216639518,
            5.659253474108365
           ],
           "z": [
            2.9446559842728623,
            9.334461877830368
           ]
          },
          {
           "line": {
            "color": "black",
            "width": 5
           },
           "marker": {
            "color": "blue",
            "size": 2
           },
           "text": [
            "Spine1"
           ],
           "type": "scatter3d",
           "x": [
            -4.104165632741966,
            -4.31743
           ],
           "y": [
            6.71881485414298,
            7.29418
           ],
           "z": [
            21.2743079979893,
            17.3156
           ]
          },
          {
           "line": {
            "color": "black",
            "width": 5
           },
           "marker": {
            "color": "blue",
            "size": 2
           },
           "text": [
            "Neck"
           ],
           "type": "scatter3d",
           "x": [
            -3.509448079240657,
            -4.104165632741966
           ],
           "y": [
            6.127611178054413,
            6.71881485414298
           ],
           "z": [
            24.97973493107477,
            21.2743079979893
           ]
          },
          {
           "line": {
            "color": "black",
            "width": 5
           },
           "marker": {
            "color": "blue",
            "size": 2
           },
           "text": [
            "Head"
           ],
           "type": "scatter3d",
           "x": [
            -2.913305619401993,
            -3.509448079240657
           ],
           "y": [
            6.005880894425508,
            6.127611178054413
           ],
           "z": [
            26.65220707106579,
            24.97973493107477
           ]
          },
          {
           "line": {
            "color": "black",
            "width": 5
           },
           "marker": {
            "color": "blue",
            "size": 2
           },
           "text": [
            "Site"
           ],
           "type": "scatter3d",
           "x": [
            -2.2090022568881147,
            -2.913305619401993
           ],
           "y": [
            5.710835652339388,
            6.005880894425508
           ],
           "z": [
            28.263007295249384,
            26.65220707106579
           ]
          },
          {
           "line": {
            "color": "black",
            "width": 5
           },
           "marker": {
            "color": "blue",
            "size": 2
           },
           "text": [
            "LShoulder"
           ],
           "type": "scatter3d",
           "x": [
            -0.6497776090148135,
            -3.509448079240657
           ],
           "y": [
            7.966540228230165,
            6.127611178054413
           ],
           "z": [
            24.365576442523015,
            24.97973493107477
           ]
          },
          {
           "line": {
            "color": "black",
            "width": 5
           },
           "marker": {
            "color": "blue",
            "size": 2
           },
           "text": [
            "LElbow"
           ],
           "type": "scatter3d",
           "x": [
            2.1451665109601703,
            -0.6497776090148135
           ],
           "y": [
            5.900112194116408,
            7.966540228230165
           ],
           "z": [
            23.553427295863642,
            24.365576442523015
           ]
          },
          {
           "line": {
            "color": "black",
            "width": 5
           },
           "marker": {
            "color": "blue",
            "size": 2
           },
           "text": [
            "LWrist"
           ],
           "type": "scatter3d",
           "x": [
            1.8921100057142097,
            2.1451665109601703
           ],
           "y": [
            5.235179516488178,
            5.900112194116408
           ],
           "z": [
            25.25333962403673,
            23.553427295863642
           ]
          },
          {
           "line": {
            "color": "red",
            "width": 5
           },
           "marker": {
            "color": "blue",
            "size": 2
           },
           "text": [
            "RShoulder"
           ],
           "type": "scatter3d",
           "x": [
            -6.381909387732792,
            -3.509448079240657
           ],
           "y": [
            5.00823640769891,
            6.127611178054413
           ],
           "z": [
            24.796226135774592,
            24.97973493107477
           ]
          },
          {
           "line": {
            "color": "red",
            "width": 5
           },
           "marker": {
            "color": "blue",
            "size": 2
           },
           "text": [
            "RElbow"
           ],
           "type": "scatter3d",
           "x": [
            -4.800080025572952,
            -6.381909387732792
           ],
           "y": [
            2.1333401077230043,
            5.00823640769891
           ],
           "z": [
            22.053164753941637,
            24.796226135774592
           ]
          },
          {
           "line": {
            "color": "red",
            "width": 5
           },
           "marker": {
            "color": "blue",
            "size": 2
           },
           "text": [
            "RWrist"
           ],
           "type": "scatter3d",
           "x": [
            -3.6406870018366866,
            -4.800080025572952
           ],
           "y": [
            1.9554559979823172,
            2.1333401077230043
           ],
           "z": [
            23.438565030978364,
            22.053164753941637
           ]
          },
          {
           "line": {
            "color": "#1f77b4",
            "width": 1
           },
           "marker": {
            "color": "#1f77b4",
            "size": 1
           },
           "type": "scatter3d",
           "x": [
            -7.68200201222643,
            -11.202351483965106
           ],
           "y": [
            3.4053156803910536,
            3.729440580134272
           ],
           "z": [
            1.865911632557168,
            2.0831814398599002
           ]
          },
          {
           "color": "#00FFFF",
           "type": "mesh3d",
           "x": [
            -50,
            50,
            -50,
            50
           ],
           "y": [
            -50,
            50,
            50,
            -50
           ],
           "z": [
            0,
            0,
            0,
            0
           ]
          }
         ],
         "name": "frame3"
        },
        {
         "data": [
          {
           "line": {
            "color": "red",
            "width": 5
           },
           "marker": {
            "color": "blue",
            "size": 2
           },
           "text": [
            "RHip"
           ],
           "type": "scatter3d",
           "x": [
            -2.366894277489319,
            -1.48011
           ],
           "y": [
            4.1987066230998265,
            5.92549
           ],
           "z": [
            15.755247175270924,
            17.4599
           ]
          },
          {
           "line": {
            "color": "red",
            "width": 5
           },
           "marker": {
            "color": "blue",
            "size": 2
           },
           "text": [
            "RKnee"
           ],
           "type": "scatter3d",
           "x": [
            -2.3120874735820105,
            -2.366894277489319
           ],
           "y": [
            2.064835828722675,
            4.1987066230998265
           ],
           "z": [
            8.647375309387249,
            15.755247175270924
           ]
          },
          {
           "line": {
            "color": "red",
            "width": 5
           },
           "marker": {
            "color": "blue",
            "size": 2
           },
           "text": [
            "RAnkle"
           ],
           "type": "scatter3d",
           "x": [
            -7.261455157517169,
            -2.3120874735820105
           ],
           "y": [
            6.2383953833599834,
            2.064835828722675
           ],
           "z": [
            3.600422432940081,
            8.647375309387249
           ]
          },
          {
           "line": {
            "color": "black",
            "width": 5
           },
           "marker": {
            "color": "blue",
            "size": 2
           },
           "text": [
            "LHip"
           ],
           "type": "scatter3d",
           "x": [
            0.1966369929169689,
            -1.48011
           ],
           "y": [
            6.082158262207539,
            5.92549
           ],
           "z": [
            15.5352123265612,
            17.4599
           ]
          },
          {
           "line": {
            "color": "black",
            "width": 5
           },
           "marker": {
            "color": "blue",
            "size": 2
           },
           "text": [
            "LKnee"
           ],
           "type": "scatter3d",
           "x": [
            3.9507217923129976,
            0.1966369929169689
           ],
           "y": [
            4.101211388982666,
            6.082158262207539
           ],
           "z": [
            9.21702497261424,
            15.5352123265612
           ]
          },
          {
           "line": {
            "color": "black",
            "width": 5
           },
           "marker": {
            "color": "blue",
            "size": 2
           },
           "text": [
            "LAnkle"
           ],
           "type": "scatter3d",
           "x": [
            3.5541335094787403,
            3.9507217923129976
           ],
           "y": [
            7.899476723923147,
            4.101211388982666
           ],
           "z": [
            2.046656963232892,
            9.21702497261424
           ]
          },
          {
           "line": {
            "color": "black",
            "width": 5
           },
           "marker": {
            "color": "blue",
            "size": 2
           },
           "text": [
            "Spine1"
           ],
           "type": "scatter3d",
           "x": [
            -1.2689711898815477,
            -1.48011
           ],
           "y": [
            6.46963934430726,
            5.92549
           ],
           "z": [
            21.42502329492211,
            17.4599
           ]
          },
          {
           "line": {
            "color": "black",
            "width": 5
           },
           "marker": {
            "color": "blue",
            "size": 2
           },
           "text": [
            "Neck"
           ],
           "type": "scatter3d",
           "x": [
            -0.46246758644261493,
            -1.2689711898815477
           ],
           "y": [
            6.846360661598354,
            6.46963934430726
           ],
           "z": [
            25.116606897661267,
            21.42502329492211
           ]
          },
          {
           "line": {
            "color": "black",
            "width": 5
           },
           "marker": {
            "color": "blue",
            "size": 2
           },
           "text": [
            "Head"
           ],
           "type": "scatter3d",
           "x": [
            0.22011171351743236,
            -0.46246758644261493
           ],
           "y": [
            6.707209867110457,
            6.846360661598354
           ],
           "z": [
            26.75431557416037,
            25.116606897661267
           ]
          },
          {
           "line": {
            "color": "black",
            "width": 5
           },
           "marker": {
            "color": "blue",
            "size": 2
           },
           "text": [
            "Site"
           ],
           "type": "scatter3d",
           "x": [
            0.9774540977927504,
            0.22011171351743236
           ],
           "y": [
            6.3238649603586214,
            6.707209867110457
           ],
           "z": [
            28.32187784692772,
            26.75431557416037
           ]
          },
          {
           "line": {
            "color": "black",
            "width": 5
           },
           "marker": {
            "color": "blue",
            "size": 2
           },
           "text": [
            "LShoulder"
           ],
           "type": "scatter3d",
           "x": [
            1.482756955916557,
            -0.46246758644261493
           ],
           "y": [
            9.499415446290845,
            6.846360661598354
           ],
           "z": [
            23.933808819284874,
            25.116606897661267
           ]
          },
          {
           "line": {
            "color": "black",
            "width": 5
           },
           "marker": {
            "color": "blue",
            "size": 2
           },
           "text": [
            "LElbow"
           ],
           "type": "scatter3d",
           "x": [
            3.493131897289377,
            1.482756955916557
           ],
           "y": [
            7.194891663643896,
            9.499415446290845
           ],
           "z": [
            22.768884104899794,
            23.933808819284874
           ]
          },
          {
           "line": {
            "color": "black",
            "width": 5
           },
           "marker": {
            "color": "blue",
            "size": 2
           },
           "text": [
            "LWrist"
           ],
           "type": "scatter3d",
           "x": [
            3.4315545260023317,
            3.493131897289377
           ],
           "y": [
            6.765952784873782,
            7.194891663643896
           ],
           "z": [
            24.559999581278916,
            22.768884104899794
           ]
          },
          {
           "line": {
            "color": "red",
            "width": 5
           },
           "marker": {
            "color": "blue",
            "size": 2
           },
           "text": [
            "RShoulder"
           ],
           "type": "scatter3d",
           "x": [
            -2.949094876652719,
            -0.46246758644261493
           ],
           "y": [
            5.018235503951882,
            6.846360661598354
           ],
           "z": [
            25.373277832493343,
            25.116606897661267
           ]
          },
          {
           "line": {
            "color": "red",
            "width": 5
           },
           "marker": {
            "color": "blue",
            "size": 2
           },
           "text": [
            "RElbow"
           ],
           "type": "scatter3d",
           "x": [
            -1.4315749932235766,
            -2.949094876652719
           ],
           "y": [
            1.928188711070105,
            5.018235503951882
           ],
           "z": [
            23.02081176357835,
            25.373277832493343
           ]
          },
          {
           "line": {
            "color": "red",
            "width": 5
           },
           "marker": {
            "color": "blue",
            "size": 2
           },
           "text": [
            "RWrist"
           ],
           "type": "scatter3d",
           "x": [
            -0.14609999036918486,
            -1.4315749932235766
           ],
           "y": [
            2.141483677895189,
            1.928188711070105
           ],
           "z": [
            24.284626679522766,
            23.02081176357835
           ]
          },
          {
           "line": {
            "color": "#1f77b4",
            "width": 1
           },
           "marker": {
            "color": "#1f77b4",
            "size": 1
           },
           "type": "scatter3d",
           "x": [
            -7.68200201222643,
            -11.202351483965106,
            -10.955869104893946
           ],
           "y": [
            3.4053156803910536,
            3.729440580134272,
            7.115938837216567
           ],
           "z": [
            1.865911632557168,
            2.0831814398599002,
            2.4502047462026466
           ]
          },
          {
           "color": "#00FFFF",
           "type": "mesh3d",
           "x": [
            -50,
            50,
            -50,
            50
           ],
           "y": [
            -50,
            50,
            50,
            -50
           ],
           "z": [
            0,
            0,
            0,
            0
           ]
          }
         ],
         "name": "frame4"
        },
        {
         "data": [
          {
           "line": {
            "color": "red",
            "width": 5
           },
           "marker": {
            "color": "blue",
            "size": 2
           },
           "text": [
            "RHip"
           ],
           "type": "scatter3d",
           "x": [
            1.378494805638312,
            2.19366
           ],
           "y": [
            2.187993328581115,
            3.81387
           ],
           "z": [
            14.161623136452917,
            15.9963
           ]
          },
          {
           "line": {
            "color": "red",
            "width": 5
           },
           "marker": {
            "color": "blue",
            "size": 2
           },
           "text": [
            "RKnee"
           ],
           "type": "scatter3d",
           "x": [
            -0.5678647930414589,
            1.378494805638312
           ],
           "y": [
            2.6835685051371825,
            2.187993328581115
           ],
           "z": [
            7.0170909354141715,
            14.161623136452917
           ]
          },
          {
           "line": {
            "color": "red",
            "width": 5
           },
           "marker": {
            "color": "blue",
            "size": 2
           },
           "text": [
            "RAnkle"
           ],
           "type": "scatter3d",
           "x": [
            -6.696189981227148,
            -0.5678647930414589
           ],
           "y": [
            6.738902405987771,
            2.6835685051371825
           ],
           "z": [
            3.3586116742422365,
            7.0170909354141715
           ]
          },
          {
           "line": {
            "color": "black",
            "width": 5
           },
           "marker": {
            "color": "blue",
            "size": 2
           },
           "text": [
            "LHip"
           ],
           "type": "scatter3d",
           "x": [
            3.2103475705367632,
            2.19366
           ],
           "y": [
            4.780199040449176,
            3.81387
           ],
           "z": [
            13.857841996571567,
            15.9963
           ]
          },
          {
           "line": {
            "color": "black",
            "width": 5
           },
           "marker": {
            "color": "blue",
            "size": 2
           },
           "text": [
            "LKnee"
           ],
           "type": "scatter3d",
           "x": [
            8.383108400222323,
            3.2103475705367632
           ],
           "y": [
            1.6586945523454522,
            4.780199040449176
           ],
           "z": [
            9.227987812605285,
            13.857841996571567
           ]
          },
          {
           "line": {
            "color": "black",
            "width": 5
           },
           "marker": {
            "color": "blue",
            "size": 2
           },
           "text": [
            "LAnkle"
           ],
           "type": "scatter3d",
           "x": [
            9.13339793927276,
            8.383108400222323
           ],
           "y": [
            4.60211653006948,
            1.6586945523454522
           ],
           "z": [
            1.6932939316772728,
            9.227987812605285
           ]
          },
          {
           "line": {
            "color": "black",
            "width": 5
           },
           "marker": {
            "color": "blue",
            "size": 2
           },
           "text": [
            "Spine1"
           ],
           "type": "scatter3d",
           "x": [
            3.4913950181661115,
            2.19366
           ],
           "y": [
            3.827804892471594,
            3.81387
           ],
           "z": [
            19.77492298070063,
            15.9963
           ]
          },
          {
           "line": {
            "color": "black",
            "width": 5
           },
           "marker": {
            "color": "blue",
            "size": 2
           },
           "text": [
            "Neck"
           ],
           "type": "scatter3d",
           "x": [
            5.592467315894737,
            3.4913950181661115
           ],
           "y": [
            4.4160680596262045,
            3.827804892471594
           ],
           "z": [
            22.87300350579544,
            19.77492298070063
           ]
          },
          {
           "line": {
            "color": "black",
            "width": 5
           },
           "marker": {
            "color": "blue",
            "size": 2
           },
           "text": [
            "Head"
           ],
           "type": "scatter3d",
           "x": [
            7.117019446443386,
            5.592467315894737
           ],
           "y": [
            4.787744471196624,
            4.4160680596262045
           ],
           "z": [
            23.712625206171698,
            22.87300350579544
           ]
          },
          {
           "line": {
            "color": "black",
            "width": 5
           },
           "marker": {
            "color": "blue",
            "size": 2
           },
           "text": [
            "Site"
           ],
           "type": "scatter3d",
           "x": [
            8.792850866888555,
            7.117019446443386
           ],
           "y": [
            4.982108880717947,
            4.787744471196624
           ],
           "z": [
            24.288458350507877,
            23.712625206171698
           ]
          },
          {
           "line": {
            "color": "black",
            "width": 5
           },
           "marker": {
            "color": "blue",
            "size": 2
           },
           "text": [
            "LShoulder"
           ],
           "type": "scatter3d",
           "x": [
            5.348411855405661,
            5.592467315894737
           ],
           "y": [
            7.642416289690811,
            4.4160680596262045
           ],
           "z": [
            22.021205282236785,
            22.87300350579544
           ]
          },
          {
           "line": {
            "color": "black",
            "width": 5
           },
           "marker": {
            "color": "blue",
            "size": 2
           },
           "text": [
            "LElbow"
           ],
           "type": "scatter3d",
           "x": [
            7.530542847910535,
            5.348411855405661
           ],
           "y": [
            5.179435552621605,
            7.642416289690811
           ],
           "z": [
            17.933220595511287,
            22.021205282236785
           ]
          },
          {
           "line": {
            "color": "black",
            "width": 5
           },
           "marker": {
            "color": "blue",
            "size": 2
           },
           "text": [
            "LWrist"
           ],
           "type": "scatter3d",
           "x": [
            8.831537991533725,
            7.530542847910535
           ],
           "y": [
            4.0459932935439245,
            5.179435552621605
           ],
           "z": [
            18.5802099815956,
            17.933220595511287
           ]
          },
          {
           "line": {
            "color": "red",
            "width": 5
           },
           "marker": {
            "color": "blue",
            "size": 2
           },
           "text": [
            "RShoulder"
           ],
           "type": "scatter3d",
           "x": [
            4.592094713696643,
            5.592467315894737
           ],
           "y": [
            1.3765232368953524,
            4.4160680596262045
           ],
           "z": [
            23.421535248188654,
            22.87300350579544
           ]
          },
          {
           "line": {
            "color": "red",
            "width": 5
           },
           "marker": {
            "color": "blue",
            "size": 2
           },
           "text": [
            "RElbow"
           ],
           "type": "scatter3d",
           "x": [
            11.698461510455978,
            4.592094713696643
           ],
           "y": [
            -1.4131591850379133,
            1.3765232368953524
           ],
           "z": [
            21.73642252380482,
            23.421535248188654
           ]
          },
          {
           "line": {
            "color": "red",
            "width": 5
           },
           "marker": {
            "color": "blue",
            "size": 2
           },
           "text": [
            "RWrist"
           ],
           "type": "scatter3d",
           "x": [
            13.347770236853385,
            11.698461510455978
           ],
           "y": [
            -0.78582174093524,
            -1.4131591850379133
           ],
           "z": [
            22.162330170902273,
            21.73642252380482
           ]
          },
          {
           "line": {
            "color": "#1f77b4",
            "width": 1
           },
           "marker": {
            "color": "#1f77b4",
            "size": 1
           },
           "type": "scatter3d",
           "x": [
            -7.68200201222643,
            -11.202351483965106,
            -10.955869104893946,
            -7.261455157517169
           ],
           "y": [
            3.4053156803910536,
            3.729440580134272,
            7.115938837216567,
            6.2383953833599834
           ],
           "z": [
            1.865911632557168,
            2.0831814398599002,
            2.4502047462026466,
            3.600422432940081
           ]
          },
          {
           "color": "#00FFFF",
           "type": "mesh3d",
           "x": [
            -50,
            50,
            -50,
            50
           ],
           "y": [
            -50,
            50,
            50,
            -50
           ],
           "z": [
            0,
            0,
            0,
            0
           ]
          }
         ],
         "name": "frame5"
        },
        {
         "data": [
          {
           "line": {
            "color": "red",
            "width": 5
           },
           "marker": {
            "color": "blue",
            "size": 2
           },
           "text": [
            "RHip"
           ],
           "type": "scatter3d",
           "x": [
            -1.974741913344484,
            -0.513905
           ],
           "y": [
            -1.4247726281767406,
            0.371601
           ],
           "z": [
            13.708835374924622,
            14.8547
           ]
          },
          {
           "line": {
            "color": "red",
            "width": 5
           },
           "marker": {
            "color": "blue",
            "size": 2
           },
           "text": [
            "RKnee"
           ],
           "type": "scatter3d",
           "x": [
            -3.2526643522472245,
            -1.974741913344484
           ],
           "y": [
            -4.521865119313231,
            -1.4247726281767406
           ],
           "z": [
            7.08666177736877,
            13.708835374924622
           ]
          },
          {
           "line": {
            "color": "red",
            "width": 5
           },
           "marker": {
            "color": "blue",
            "size": 2
           },
           "text": [
            "RAnkle"
           ],
           "type": "scatter3d",
           "x": [
            -6.597702295821579,
            -3.2526643522472245
           ],
           "y": [
            1.6798788535843796,
            -4.521865119313231
           ],
           "z": [
            2.8752883654471493,
            7.08666177736877
           ]
          },
          {
           "line": {
            "color": "black",
            "width": 5
           },
           "marker": {
            "color": "blue",
            "size": 2
           },
           "text": [
            "LHip"
           ],
           "type": "scatter3d",
           "x": [
            1.0216107160471632,
            -0.513905
           ],
           "y": [
            -0.5657110582679801,
            0.371601
           ],
           "z": [
            13.036985596105895,
            14.8547
           ]
          },
          {
           "line": {
            "color": "black",
            "width": 5
           },
           "marker": {
            "color": "blue",
            "size": 2
           },
           "text": [
            "LKnee"
           ],
           "type": "scatter3d",
           "x": [
            5.107425187538558,
            1.0216107160471632
           ],
           "y": [
            -4.89628549008811,
            -0.5657110582679801
           ],
           "z": [
            8.294724549918302,
            13.036985596105895
           ]
          },
          {
           "line": {
            "color": "black",
            "width": 5
           },
           "marker": {
            "color": "blue",
            "size": 2
           },
           "text": [
            "LAnkle"
           ],
           "type": "scatter3d",
           "x": [
            5.620056189561114,
            5.107425187538558
           ],
           "y": [
            -0.3433169634728328,
            -4.89628549008811
           ],
           "z": [
            1.5860759332394236,
            8.294724549918302
           ]
          },
          {
           "line": {
            "color": "black",
            "width": 5
           },
           "marker": {
            "color": "blue",
            "size": 2
           },
           "text": [
            "Spine1"
           ],
           "type": "scatter3d",
           "x": [
            -0.24453642148313315,
            -0.513905
           ],
           "y": [
            1.9686098278377615,
            0.371601
           ],
           "z": [
            18.523215927123484,
            14.8547
           ]
          },
          {
           "line": {
            "color": "black",
            "width": 5
           },
           "marker": {
            "color": "blue",
            "size": 2
           },
           "text": [
            "Neck"
           ],
           "type": "scatter3d",
           "x": [
            0.5474008974326807,
            -0.24453642148313315
           ],
           "y": [
            3.533748098758789,
            1.9686098278377615
           ],
           "z": [
            21.893406271278714,
            18.523215927123484
           ]
          },
          {
           "line": {
            "color": "black",
            "width": 5
           },
           "marker": {
            "color": "blue",
            "size": 2
           },
           "text": [
            "Head"
           ],
           "type": "scatter3d",
           "x": [
            0.9557792224098676,
            0.5474008974326807
           ],
           "y": [
            4.17215419972089,
            3.533748098758789
           ],
           "z": [
            23.503695669916176,
            21.893406271278714
           ]
          },
          {
           "line": {
            "color": "black",
            "width": 5
           },
           "marker": {
            "color": "blue",
            "size": 2
           },
           "text": [
            "Site"
           ],
           "type": "scatter3d",
           "x": [
            1.408826595271394,
            0.9557792224098676
           ],
           "y": [
            4.573690684858273,
            4.17215419972089
           ],
           "z": [
            25.180385507841702,
            23.503695669916176
           ]
          },
          {
           "line": {
            "color": "black",
            "width": 5
           },
           "marker": {
            "color": "blue",
            "size": 2
           },
           "text": [
            "LShoulder"
           ],
           "type": "scatter3d",
           "x": [
            3.0590054873940082,
            0.5474008974326807
           ],
           "y": [
            5.099997627383023,
            3.533748098758789
           ],
           "z": [
            20.048528068598777,
            21.893406271278714
           ]
          },
          {
           "line": {
            "color": "black",
            "width": 5
           },
           "marker": {
            "color": "blue",
            "size": 2
           },
           "text": [
            "LElbow"
           ],
           "type": "scatter3d",
           "x": [
            4.2643821980054755,
            3.0590054873940082
           ],
           "y": [
            1.5799774905285575,
            5.099997627383023
           ],
           "z": [
            19.97943670841996,
            20.048528068598777
           ]
          },
          {
           "line": {
            "color": "black",
            "width": 5
           },
           "marker": {
            "color": "blue",
            "size": 2
           },
           "text": [
            "LWrist"
           ],
           "type": "scatter3d",
           "x": [
            4.253347648642129,
            4.2643821980054755
           ],
           "y": [
            1.6642480349346171,
            1.5799774905285575
           ],
           "z": [
            21.820265787440025,
            19.97943670841996
           ]
          },
          {
           "line": {
            "color": "red",
            "width": 5
           },
           "marker": {
            "color": "blue",
            "size": 2
           },
           "text": [
            "RShoulder"
           ],
           "type": "scatter3d",
           "x": [
            -2.0512570399962935,
            0.5474008974326807
           ],
           "y": [
            2.135480585809421,
            3.533748098758789
           ],
           "z": [
            22.673639683907016,
            21.893406271278714
           ]
          },
          {
           "line": {
            "color": "red",
            "width": 5
           },
           "marker": {
            "color": "blue",
            "size": 2
           },
           "text": [
            "RElbow"
           ],
           "type": "scatter3d",
           "x": [
            -0.25662152671460436,
            -2.0512570399962935
           ],
           "y": [
            -1.7634043505900219,
            2.135480585809421
           ],
           "z": [
            21.631313436903643,
            22.673639683907016
           ]
          },
          {
           "line": {
            "color": "red",
            "width": 5
           },
           "marker": {
            "color": "blue",
            "size": 2
           },
           "text": [
            "RWrist"
           ],
           "type": "scatter3d",
           "x": [
            0.9687703608272107,
            -0.25662152671460436
           ],
           "y": [
            -1.2329943050699297,
            -1.7634043505900219
           ],
           "z": [
            22.861048682051184,
            21.631313436903643
           ]
          },
          {
           "line": {
            "color": "#1f77b4",
            "width": 1
           },
           "marker": {
            "color": "#1f77b4",
            "size": 1
           },
           "type": "scatter3d",
           "x": [
            -7.68200201222643,
            -11.202351483965106,
            -10.955869104893946,
            -7.261455157517169,
            -6.696189981227148
           ],
           "y": [
            3.4053156803910536,
            3.729440580134272,
            7.115938837216567,
            6.2383953833599834,
            6.738902405987771
           ],
           "z": [
            1.865911632557168,
            2.0831814398599002,
            2.4502047462026466,
            3.600422432940081,
            3.3586116742422365
           ]
          },
          {
           "color": "#00FFFF",
           "type": "mesh3d",
           "x": [
            -50,
            50,
            -50,
            50
           ],
           "y": [
            -50,
            50,
            50,
            -50
           ],
           "z": [
            0,
            0,
            0,
            0
           ]
          }
         ],
         "name": "frame6"
        },
        {
         "data": [
          {
           "line": {
            "color": "red",
            "width": 5
           },
           "marker": {
            "color": "blue",
            "size": 2
           },
           "text": [
            "RHip"
           ],
           "type": "scatter3d",
           "x": [
            1.417572761060435,
            2.11883
           ],
           "y": [
            -1.5245341680347573,
            0.207411
           ],
           "z": [
            14.92021214741979,
            16.7042
           ]
          },
          {
           "line": {
            "color": "red",
            "width": 5
           },
           "marker": {
            "color": "blue",
            "size": 2
           },
           "text": [
            "RKnee"
           ],
           "type": "scatter3d",
           "x": [
            0.07785990360587358,
            1.417572761060435
           ],
           "y": [
            -1.5471414782164754,
            -1.5245341680347573
           ],
           "z": [
            7.620697835921506,
            14.92021214741979
           ]
          },
          {
           "line": {
            "color": "red",
            "width": 5
           },
           "marker": {
            "color": "blue",
            "size": 2
           },
           "text": [
            "RAnkle"
           ],
           "type": "scatter3d",
           "x": [
            -6.51772886461975,
            0.07785990360587358
           ],
           "y": [
            0.426703045092959,
            -1.5471414782164754
           ],
           "z": [
            3.1498232277243945,
            7.620697835921506
           ]
          },
          {
           "line": {
            "color": "black",
            "width": 5
           },
           "marker": {
            "color": "blue",
            "size": 2
           },
           "text": [
            "LHip"
           ],
           "type": "scatter3d",
           "x": [
            3.382588798266998,
            2.11883
           ],
           "y": [
            0.9680657014978715,
            0.207411
           ],
           "z": [
            14.614997714959504,
            16.7042
           ]
          },
          {
           "line": {
            "color": "black",
            "width": 5
           },
           "marker": {
            "color": "blue",
            "size": 2
           },
           "text": [
            "LKnee"
           ],
           "type": "scatter3d",
           "x": [
            8.624454173941691,
            3.382588798266998
           ],
           "y": [
            -1.3250406357242746,
            0.9680657014978715
           ],
           "z": [
            9.594907541997923,
            14.614997714959504
           ]
          },
          {
           "line": {
            "color": "black",
            "width": 5
           },
           "marker": {
            "color": "blue",
            "size": 2
           },
           "text": [
            "LAnkle"
           ],
           "type": "scatter3d",
           "x": [
            9.611895250253067,
            8.624454173941691
           ],
           "y": [
            1.6299941195475793,
            -1.3250406357242746
           ],
           "z": [
            2.092174111667359,
            9.594907541997923
           ]
          },
          {
           "line": {
            "color": "black",
            "width": 5
           },
           "marker": {
            "color": "blue",
            "size": 2
           },
           "text": [
            "Spine1"
           ],
           "type": "scatter3d",
           "x": [
            2.903564040888809,
            2.11883
           ],
           "y": [
            0.25512157154445886,
            0.207411
           ],
           "z": [
            20.6393172453143,
            16.7042
           ]
          },
          {
           "line": {
            "color": "black",
            "width": 5
           },
           "marker": {
            "color": "blue",
            "size": 2
           },
           "text": [
            "Neck"
           ],
           "type": "scatter3d",
           "x": [
            3.5505395111674787,
            2.903564040888809
           ],
           "y": [
            0.42970366417865474,
            0.25512157154445886
           ],
           "z": [
            24.367225427483202,
            20.6393172453143
           ]
          },
          {
           "line": {
            "color": "black",
            "width": 5
           },
           "marker": {
            "color": "blue",
            "size": 2
           },
           "text": [
            "Head"
           ],
           "type": "scatter3d",
           "x": [
            3.7928743255419604,
            3.5505395111674787
           ],
           "y": [
            0.7336420533801861,
            0.42970366417865474
           ],
           "z": [
            26.10396445414572,
            24.367225427483202
           ]
          },
          {
           "line": {
            "color": "black",
            "width": 5
           },
           "marker": {
            "color": "blue",
            "size": 2
           },
           "text": [
            "Site"
           ],
           "type": "scatter3d",
           "x": [
            4.094139515668052,
            3.7928743255419604
           ],
           "y": [
            0.8281680809175369,
            0.7336420533801861
           ],
           "z": [
            27.858409209301104,
            26.10396445414572
           ]
          },
          {
           "line": {
            "color": "black",
            "width": 5
           },
           "marker": {
            "color": "blue",
            "size": 2
           },
           "text": [
            "LShoulder"
           ],
           "type": "scatter3d",
           "x": [
            5.720068390360268,
            3.5505395111674787
           ],
           "y": [
            2.893584119455271,
            0.42970366417865474
           ],
           "z": [
            23.494378445439583,
            24.367225427483202
           ]
          },
          {
           "line": {
            "color": "black",
            "width": 5
           },
           "marker": {
            "color": "blue",
            "size": 2
           },
           "text": [
            "LElbow"
           ],
           "type": "scatter3d",
           "x": [
            7.647539689301781,
            5.720068390360268
           ],
           "y": [
            0.46544839064043586,
            2.893584119455271
           ],
           "z": [
            21.636362005476702,
            23.494378445439583
           ]
          },
          {
           "line": {
            "color": "black",
            "width": 5
           },
           "marker": {
            "color": "blue",
            "size": 2
           },
           "text": [
            "LWrist"
           ],
           "type": "scatter3d",
           "x": [
            8.007267815447102,
            7.647539689301781
           ],
           "y": [
            -0.2561241452956403,
            0.46544839064043586
           ],
           "z": [
            23.293408696050857,
            21.636362005476702
           ]
          },
          {
           "line": {
            "color": "red",
            "width": 5
           },
           "marker": {
            "color": "blue",
            "size": 2
           },
           "text": [
            "RShoulder"
           ],
           "type": "scatter3d",
           "x": [
            1.3200916998804888,
            3.5505395111674787
           ],
           "y": [
            -1.7605354434427691,
            0.42970366417865474
           ],
           "z": [
            24.37399859012729,
            24.367225427483202
           ]
          },
          {
           "line": {
            "color": "red",
            "width": 5
           },
           "marker": {
            "color": "blue",
            "size": 2
           },
           "text": [
            "RElbow"
           ],
           "type": "scatter3d",
           "x": [
            0.4949380101067167,
            1.3200916998804888
           ],
           "y": [
            -4.630022478797398,
            -1.7605354434427691
           ],
           "z": [
            21.480506186894228,
            24.37399859012729
           ]
          },
          {
           "line": {
            "color": "red",
            "width": 5
           },
           "marker": {
            "color": "blue",
            "size": 2
           },
           "text": [
            "RWrist"
           ],
           "type": "scatter3d",
           "x": [
            2.0246061361423973,
            0.4949380101067167
           ],
           "y": [
            -5.243006854178823,
            -4.630022478797398
           ],
           "z": [
            22.24177778581851,
            21.480506186894228
           ]
          },
          {
           "line": {
            "color": "#1f77b4",
            "width": 1
           },
           "marker": {
            "color": "#1f77b4",
            "size": 1
           },
           "type": "scatter3d",
           "x": [
            -7.68200201222643,
            -11.202351483965106,
            -10.955869104893946,
            -7.261455157517169,
            -6.696189981227148,
            -6.597702295821579
           ],
           "y": [
            3.4053156803910536,
            3.729440580134272,
            7.115938837216567,
            6.2383953833599834,
            6.738902405987771,
            1.6798788535843796
           ],
           "z": [
            1.865911632557168,
            2.0831814398599002,
            2.4502047462026466,
            3.600422432940081,
            3.3586116742422365,
            2.8752883654471493
           ]
          },
          {
           "color": "#00FFFF",
           "type": "mesh3d",
           "x": [
            -50,
            50,
            -50,
            50
           ],
           "y": [
            -50,
            50,
            50,
            -50
           ],
           "z": [
            0,
            0,
            0,
            0
           ]
          }
         ],
         "name": "frame7"
        },
        {
         "data": [
          {
           "line": {
            "color": "red",
            "width": 5
           },
           "marker": {
            "color": "blue",
            "size": 2
           },
           "text": [
            "RHip"
           ],
           "type": "scatter3d",
           "x": [
            0.9749837736434389,
            0.565041
           ],
           "y": [
            -5.300129397801715,
            -3.79848
           ],
           "z": [
            15.536303587446831,
            17.5981
           ]
          },
          {
           "line": {
            "color": "red",
            "width": 5
           },
           "marker": {
            "color": "blue",
            "size": 2
           },
           "text": [
            "RKnee"
           ],
           "type": "scatter3d",
           "x": [
            2.9710264635469597,
            0.9749837736434389
           ],
           "y": [
            -6.374630452675108,
            -5.300129397801715
           ],
           "z": [
            8.469514226086915,
            15.536303587446831
           ]
          },
          {
           "line": {
            "color": "red",
            "width": 5
           },
           "marker": {
            "color": "blue",
            "size": 2
           },
           "text": [
            "RAnkle"
           ],
           "type": "scatter3d",
           "x": [
            -3.8476915953707365,
            2.9710264635469597
           ],
           "y": [
            -8.57887314276572,
            -6.374630452675108
           ],
           "z": [
            4.465394927147864,
            8.469514226086915
           ]
          },
          {
           "line": {
            "color": "black",
            "width": 5
           },
           "marker": {
            "color": "blue",
            "size": 2
           },
           "text": [
            "LHip"
           ],
           "type": "scatter3d",
           "x": [
            1.075754891069761,
            0.565041
           ],
           "y": [
            -2.1194507285654463,
            -3.79848
           ],
           "z": [
            15.737863431694551,
            17.5981
           ]
          },
          {
           "line": {
            "color": "black",
            "width": 5
           },
           "marker": {
            "color": "blue",
            "size": 2
           },
           "text": [
            "LKnee"
           ],
           "type": "scatter3d",
           "x": [
            3.1551475238533824,
            1.075754891069761
           ],
           "y": [
            -0.7170003487698833,
            -2.1194507285654463
           ],
           "z": [
            8.551344535448088,
            15.737863431694551
           ]
          },
          {
           "line": {
            "color": "black",
            "width": 5
           },
           "marker": {
            "color": "blue",
            "size": 2
           },
           "text": [
            "LAnkle"
           ],
           "type": "scatter3d",
           "x": [
            -0.6239828111413535,
            3.1551475238533824
           ],
           "y": [
            1.6606057851477547,
            -0.7170003487698833
           ],
           "z": [
            1.7643391432496127,
            8.551344535448088
           ]
          },
          {
           "line": {
            "color": "black",
            "width": 5
           },
           "marker": {
            "color": "blue",
            "size": 2
           },
           "text": [
            "Spine1"
           ],
           "type": "scatter3d",
           "x": [
            1.2417609362399862,
            0.565041
           ],
           "y": [
            -3.6067707676583516,
            -3.79848
           ],
           "z": [
            21.546763135361996,
            17.5981
           ]
          },
          {
           "line": {
            "color": "black",
            "width": 5
           },
           "marker": {
            "color": "blue",
            "size": 2
           },
           "text": [
            "Neck"
           ],
           "type": "scatter3d",
           "x": [
            2.1081214173549827,
            1.2417609362399862
           ],
           "y": [
            -3.237668018669725,
            -3.6067707676583516
           ],
           "z": [
            25.218252112186786,
            21.546763135361996
           ]
          },
          {
           "line": {
            "color": "black",
            "width": 5
           },
           "marker": {
            "color": "blue",
            "size": 2
           },
           "text": [
            "Head"
           ],
           "type": "scatter3d",
           "x": [
            2.662482927847524,
            2.1081214173549827
           ],
           "y": [
            -3.1159416000779205,
            -3.237668018669725
           ],
           "z": [
            26.905034003280665,
            25.218252112186786
           ]
          },
          {
           "line": {
            "color": "black",
            "width": 5
           },
           "marker": {
            "color": "blue",
            "size": 2
           },
           "text": [
            "Site"
           ],
           "type": "scatter3d",
           "x": [
            3.3652434100208386,
            2.662482927847524
           ],
           "y": [
            -3.228713494664406,
            -3.1159416000779205
           ],
           "z": [
            28.53940926252893,
            26.905034003280665
           ]
          },
          {
           "line": {
            "color": "black",
            "width": 5
           },
           "marker": {
            "color": "blue",
            "size": 2
           },
           "text": [
            "LShoulder"
           ],
           "type": "scatter3d",
           "x": [
            1.8464508491723415,
            2.1081214173549827
           ],
           "y": [
            -0.004504432254380131,
            -3.237668018669725
           ],
           "z": [
            24.661820627896212,
            25.218252112186786
           ]
          },
          {
           "line": {
            "color": "black",
            "width": 5
           },
           "marker": {
            "color": "blue",
            "size": 2
           },
           "text": [
            "LElbow"
           ],
           "type": "scatter3d",
           "x": [
            5.4268795448590055,
            1.8464508491723415
           ],
           "y": [
            -1.563283767735882,
            -0.004504432254380131
           ],
           "z": [
            23.024615127802026,
            24.661820627896212
           ]
          },
          {
           "line": {
            "color": "black",
            "width": 5
           },
           "marker": {
            "color": "blue",
            "size": 2
           },
           "text": [
            "LWrist"
           ],
           "type": "scatter3d",
           "x": [
            6.084096624106573,
            5.4268795448590055
           ],
           "y": [
            -2.13388308091681,
            -1.563283767735882
           ],
           "z": [
            24.648917168262095,
            23.024615127802026
           ]
          },
          {
           "line": {
            "color": "red",
            "width": 5
           },
           "marker": {
            "color": "blue",
            "size": 2
           },
           "text": [
            "RShoulder"
           ],
           "type": "scatter3d",
           "x": [
            1.5482164785108514,
            2.1081214173549827
           ],
           "y": [
            -6.450224216235835,
            -3.237668018669725
           ],
           "z": [
            25.059448730527613,
            25.218252112186786
           ]
          },
          {
           "line": {
            "color": "red",
            "width": 5
           },
           "marker": {
            "color": "blue",
            "size": 2
           },
           "text": [
            "RElbow"
           ],
           "type": "scatter3d",
           "x": [
            3.3885538938582833,
            1.5482164785108514
           ],
           "y": [
            -6.55565740900359,
            -6.450224216235835
           ],
           "z": [
            21.36182016084176,
            25.059448730527613
           ]
          },
          {
           "line": {
            "color": "red",
            "width": 5
           },
           "marker": {
            "color": "blue",
            "size": 2
           },
           "text": [
            "RWrist"
           ],
           "type": "scatter3d",
           "x": [
            4.676468291027943,
            3.3885538938582833
           ],
           "y": [
            -5.899828345051015,
            -6.55565740900359
           ],
           "z": [
            22.460152356508534,
            21.36182016084176
           ]
          },
          {
           "line": {
            "color": "#1f77b4",
            "width": 1
           },
           "marker": {
            "color": "#1f77b4",
            "size": 1
           },
           "type": "scatter3d",
           "x": [
            -7.68200201222643,
            -11.202351483965106,
            -10.955869104893946,
            -7.261455157517169,
            -6.696189981227148,
            -6.597702295821579,
            -6.51772886461975
           ],
           "y": [
            3.4053156803910536,
            3.729440580134272,
            7.115938837216567,
            6.2383953833599834,
            6.738902405987771,
            1.6798788535843796,
            0.426703045092959
           ],
           "z": [
            1.865911632557168,
            2.0831814398599002,
            2.4502047462026466,
            3.600422432940081,
            3.3586116742422365,
            2.8752883654471493,
            3.1498232277243945
           ]
          },
          {
           "color": "#00FFFF",
           "type": "mesh3d",
           "x": [
            -50,
            50,
            -50,
            50
           ],
           "y": [
            -50,
            50,
            50,
            -50
           ],
           "z": [
            0,
            0,
            0,
            0
           ]
          }
         ],
         "name": "frame8"
        },
        {
         "data": [
          {
           "line": {
            "color": "red",
            "width": 5
           },
           "marker": {
            "color": "blue",
            "size": 2
           },
           "text": [
            "RHip"
           ],
           "type": "scatter3d",
           "x": [
            0.07988011238311282,
            -0.306669
           ],
           "y": [
            -2.069394013315473,
            -0.567404
           ],
           "z": [
            14.61583750771806,
            16.6819
           ]
          },
          {
           "line": {
            "color": "red",
            "width": 5
           },
           "marker": {
            "color": "blue",
            "size": 2
           },
           "text": [
            "RKnee"
           ],
           "type": "scatter3d",
           "x": [
            4.383585747968253,
            0.07988011238311282
           ],
           "y": [
            -3.0005996362286513,
            -2.069394013315473
           ],
           "z": [
            8.641791583492287,
            14.61583750771806
           ]
          },
          {
           "line": {
            "color": "red",
            "width": 5
           },
           "marker": {
            "color": "blue",
            "size": 2
           },
           "text": [
            "RAnkle"
           ],
           "type": "scatter3d",
           "x": [
            -0.7970128046349325,
            4.383585747968253
           ],
           "y": [
            -5.457469816021779,
            -3.0005996362286513
           ],
           "z": [
            2.7671204675596304,
            8.641791583492287
           ]
          },
          {
           "line": {
            "color": "black",
            "width": 5
           },
           "marker": {
            "color": "blue",
            "size": 2
           },
           "text": [
            "LHip"
           ],
           "type": "scatter3d",
           "x": [
            0.40560268362568935,
            -0.306669
           ],
           "y": [
            1.0922800857764778,
            -0.567404
           ],
           "z": [
            14.871218954909004,
            16.6819
           ]
          },
          {
           "line": {
            "color": "black",
            "width": 5
           },
           "marker": {
            "color": "blue",
            "size": 2
           },
           "text": [
            "LKnee"
           ],
           "type": "scatter3d",
           "x": [
            3.9973130652516677,
            0.40560268362568935
           ],
           "y": [
            1.9258911011472413,
            1.0922800857764778
           ],
           "z": [
            8.212277308915723,
            14.871218954909004
           ]
          },
          {
           "line": {
            "color": "black",
            "width": 5
           },
           "marker": {
            "color": "blue",
            "size": 2
           },
           "text": [
            "LAnkle"
           ],
           "type": "scatter3d",
           "x": [
            -0.7226237943758735,
            3.9973130652516677
           ],
           "y": [
            3.881979792799565,
            1.9258911011472413
           ],
           "z": [
            1.8960923621166996,
            8.212277308915723
           ]
          },
          {
           "line": {
            "color": "black",
            "width": 5
           },
           "marker": {
            "color": "blue",
            "size": 2
           },
           "text": [
            "Spine1"
           ],
           "type": "scatter3d",
           "x": [
            1.0116572712253489,
            -0.306669
           ],
           "y": [
            -0.7414297565334358,
            -0.567404
           ],
           "z": [
            20.453502447701023,
            16.6819
           ]
          },
          {
           "line": {
            "color": "black",
            "width": 5
           },
           "marker": {
            "color": "blue",
            "size": 2
           },
           "text": [
            "Neck"
           ],
           "type": "scatter3d",
           "x": [
            2.750523375487127,
            1.0116572712253489
           ],
           "y": [
            -1.1492215535907673,
            -0.7414297565334358
           ],
           "z": [
            23.795900592286014,
            20.453502447701023
           ]
          },
          {
           "line": {
            "color": "black",
            "width": 5
           },
           "marker": {
            "color": "blue",
            "size": 2
           },
           "text": [
            "Head"
           ],
           "type": "scatter3d",
           "x": [
            3.6841869573750174,
            2.750523375487127
           ],
           "y": [
            -1.2962826722857175,
            -1.1492215535907673
           ],
           "z": [
            25.303883515480262,
            23.795900592286014
           ]
          },
          {
           "line": {
            "color": "black",
            "width": 5
           },
           "marker": {
            "color": "blue",
            "size": 2
           },
           "text": [
            "Site"
           ],
           "type": "scatter3d",
           "x": [
            4.665762382895986,
            3.6841869573750174
           ],
           "y": [
            -1.6021011295962106,
            -1.2962826722857175
           ],
           "z": [
            26.76016543830204,
            25.303883515480262
           ]
          },
          {
           "line": {
            "color": "black",
            "width": 5
           },
           "marker": {
            "color": "blue",
            "size": 2
           },
           "text": [
            "LShoulder"
           ],
           "type": "scatter3d",
           "x": [
            2.890748181493281,
            2.750523375487127
           ],
           "y": [
            2.283947232316394,
            -1.1492215535907673
           ],
           "z": [
            23.672456819863953,
            23.795900592286014
           ]
          },
          {
           "line": {
            "color": "black",
            "width": 5
           },
           "marker": {
            "color": "blue",
            "size": 2
           },
           "text": [
            "LElbow"
           ],
           "type": "scatter3d",
           "x": [
            7.127486076761004,
            2.890748181493281
           ],
           "y": [
            0.19414244254489565,
            2.283947232316394
           ],
           "z": [
            22.72104733205455,
            23.672456819863953
           ]
          },
          {
           "line": {
            "color": "black",
            "width": 5
           },
           "marker": {
            "color": "blue",
            "size": 2
           },
           "text": [
            "LWrist"
           ],
           "type": "scatter3d",
           "x": [
            7.579100181780581,
            7.127486076761004
           ],
           "y": [
            -0.543363330693377,
            0.19414244254489565
           ],
           "z": [
            24.34831649193179,
            22.72104733205455
           ]
          },
          {
           "line": {
            "color": "red",
            "width": 5
           },
           "marker": {
            "color": "blue",
            "size": 2
           },
           "text": [
            "RShoulder"
           ],
           "type": "scatter3d",
           "x": [
            1.3505255731256431,
            2.750523375487127
           ],
           "y": [
            -3.9941796948412707,
            -1.1492215535907673
           ],
           "z": [
            23.587651250311602,
            23.795900592286014
           ]
          },
          {
           "line": {
            "color": "red",
            "width": 5
           },
           "marker": {
            "color": "blue",
            "size": 2
           },
           "text": [
            "RElbow"
           ],
           "type": "scatter3d",
           "x": [
            5.93380957903893,
            1.3505255731256431
           ],
           "y": [
            -5.233190806332711,
            -3.9941796948412707
           ],
           "z": [
            22.893381722901136,
            23.587651250311602
           ]
          },
          {
           "line": {
            "color": "red",
            "width": 5
           },
           "marker": {
            "color": "blue",
            "size": 2
           },
           "text": [
            "RWrist"
           ],
           "type": "scatter3d",
           "x": [
            6.228121655445078,
            5.93380957903893
           ],
           "y": [
            -4.912564062473618,
            -5.233190806332711
           ],
           "z": [
            24.655694907441223,
            22.893381722901136
           ]
          },
          {
           "line": {
            "color": "#1f77b4",
            "width": 1
           },
           "marker": {
            "color": "#1f77b4",
            "size": 1
           },
           "type": "scatter3d",
           "x": [
            -7.68200201222643,
            -11.202351483965106,
            -10.955869104893946,
            -7.261455157517169,
            -6.696189981227148,
            -6.597702295821579,
            -6.51772886461975,
            -3.8476915953707365
           ],
           "y": [
            3.4053156803910536,
            3.729440580134272,
            7.115938837216567,
            6.2383953833599834,
            6.738902405987771,
            1.6798788535843796,
            0.426703045092959,
            -8.57887314276572
           ],
           "z": [
            1.865911632557168,
            2.0831814398599002,
            2.4502047462026466,
            3.600422432940081,
            3.3586116742422365,
            2.8752883654471493,
            3.1498232277243945,
            4.465394927147864
           ]
          },
          {
           "color": "#00FFFF",
           "type": "mesh3d",
           "x": [
            -50,
            50,
            -50,
            50
           ],
           "y": [
            -50,
            50,
            50,
            -50
           ],
           "z": [
            0,
            0,
            0,
            0
           ]
          }
         ],
         "name": "frame9"
        },
        {
         "data": [
          {
           "line": {
            "color": "red",
            "width": 5
           },
           "marker": {
            "color": "blue",
            "size": 2
           },
           "text": [
            "RHip"
           ],
           "type": "scatter3d",
           "x": [
            -1.6487310252309757,
            -1.507
           ],
           "y": [
            -3.124523737744936,
            -1.43312
           ],
           "z": [
            15.32921838403951,
            17.2768
           ]
          },
          {
           "line": {
            "color": "red",
            "width": 5
           },
           "marker": {
            "color": "blue",
            "size": 2
           },
           "text": [
            "RKnee"
           ],
           "type": "scatter3d",
           "x": [
            0.7740152002094489,
            -1.6487310252309757
           ],
           "y": [
            -4.5399769882770915,
            -3.124523737744936
           ],
           "z": [
            8.45862571401874,
            15.32921838403951
           ]
          },
          {
           "line": {
            "color": "red",
            "width": 5
           },
           "marker": {
            "color": "blue",
            "size": 2
           },
           "text": [
            "RAnkle"
           ],
           "type": "scatter3d",
           "x": [
            -5.5020630048652315,
            0.7740152002094489
           ],
           "y": [
            -6.145413681234592,
            -4.5399769882770915
           ],
           "z": [
            3.4168017828747113,
            8.45862571401874
           ]
          },
          {
           "line": {
            "color": "black",
            "width": 5
           },
           "marker": {
            "color": "blue",
            "size": 2
           },
           "text": [
            "LHip"
           ],
           "type": "scatter3d",
           "x": [
            -0.7844864462286291,
            -1.507
           ],
           "y": [
            -0.05634769262848538,
            -1.43312
           ],
           "z": [
            15.2463024646166,
            17.2768
           ]
          },
          {
           "line": {
            "color": "black",
            "width": 5
           },
           "marker": {
            "color": "blue",
            "size": 2
           },
           "text": [
            "LKnee"
           ],
           "type": "scatter3d",
           "x": [
            3.916544930997063,
            -0.7844864462286291
           ],
           "y": [
            -1.225744413745118,
            -0.05634769262848538
           ],
           "z": [
            9.375219946532546,
            15.2463024646166
           ]
          },
          {
           "line": {
            "color": "black",
            "width": 5
           },
           "marker": {
            "color": "blue",
            "size": 2
           },
           "text": [
            "LAnkle"
           ],
           "type": "scatter3d",
           "x": [
            1.3041369417843818,
            3.916544930997063
           ],
           "y": [
            -4.42937727762805,
            -1.225744413745118
           ],
           "z": [
            2.3816271515523884,
            9.375219946532546
           ]
          },
          {
           "line": {
            "color": "black",
            "width": 5
           },
           "marker": {
            "color": "blue",
            "size": 2
           },
           "text": [
            "Spine1"
           ],
           "type": "scatter3d",
           "x": [
            0.17468909765137353,
            -1.507
           ],
           "y": [
            -1.9152083511489573,
            -1.43312
           ],
           "z": [
            20.86897714028629,
            17.2768
           ]
          },
          {
           "line": {
            "color": "black",
            "width": 5
           },
           "marker": {
            "color": "blue",
            "size": 2
           },
           "text": [
            "Neck"
           ],
           "type": "scatter3d",
           "x": [
            2.2940067426475337,
            0.17468909765137353
           ],
           "y": [
            -2.0611034665911445,
            -1.9152083511489573
           ],
           "z": [
            24.002263393223764,
            20.86897714028629
           ]
          },
          {
           "line": {
            "color": "black",
            "width": 5
           },
           "marker": {
            "color": "blue",
            "size": 2
           },
           "text": [
            "Head"
           ],
           "type": "scatter3d",
           "x": [
            3.254904157845983,
            2.2940067426475337
           ],
           "y": [
            -2.0942878688995923,
            -2.0611034665911445
           ],
           "z": [
            25.499908914142974,
            24.002263393223764
           ]
          },
          {
           "line": {
            "color": "black",
            "width": 5
           },
           "marker": {
            "color": "blue",
            "size": 2
           },
           "text": [
            "Site"
           ],
           "type": "scatter3d",
           "x": [
            4.249120634027901,
            3.254904157845983
           ],
           "y": [
            -2.3424201304341103,
            -2.0942878688995923
           ],
           "z": [
            26.958585116331147,
            25.499908914142974
           ]
          },
          {
           "line": {
            "color": "black",
            "width": 5
           },
           "marker": {
            "color": "blue",
            "size": 2
           },
           "text": [
            "LShoulder"
           ],
           "type": "scatter3d",
           "x": [
            2.4442682191545035,
            2.2940067426475337
           ],
           "y": [
            1.187947258204626,
            -2.0611034665911445
           ],
           "z": [
            23.74386699889913,
            24.002263393223764
           ]
          },
          {
           "line": {
            "color": "black",
            "width": 5
           },
           "marker": {
            "color": "blue",
            "size": 2
           },
           "text": [
            "LElbow"
           ],
           "type": "scatter3d",
           "x": [
            6.720597817674204,
            2.4442682191545035
           ],
           "y": [
            -0.36193265854268963,
            1.187947258204626
           ],
           "z": [
            22.6623216523015,
            23.74386699889913
           ]
          },
          {
           "line": {
            "color": "black",
            "width": 5
           },
           "marker": {
            "color": "blue",
            "size": 2
           },
           "text": [
            "LWrist"
           ],
           "type": "scatter3d",
           "x": [
            7.279944506518443,
            6.720597817674204
           ],
           "y": [
            -0.9764896273831586,
            -0.36193265854268963
           ],
           "z": [
            24.30710917591317,
            22.6623216523015
           ]
          },
          {
           "line": {
            "color": "red",
            "width": 5
           },
           "marker": {
            "color": "blue",
            "size": 2
           },
           "text": [
            "RShoulder"
           ],
           "type": "scatter3d",
           "x": [
            1.0070443551770596,
            2.2940067426475337
           ],
           "y": [
            -5.111096570319728,
            -2.0611034665911445
           ],
           "z": [
            23.969232907144015,
            24.002263393223764
           ]
          },
          {
           "line": {
            "color": "red",
            "width": 5
           },
           "marker": {
            "color": "blue",
            "size": 2
           },
           "text": [
            "RElbow"
           ],
           "type": "scatter3d",
           "x": [
            5.692176346679401,
            1.0070443551770596
           ],
           "y": [
            -5.62378370569462,
            -5.111096570319728
           ],
           "z": [
            22.826702662733013,
            23.969232907144015
           ]
          },
          {
           "line": {
            "color": "red",
            "width": 5
           },
           "marker": {
            "color": "blue",
            "size": 2
           },
           "text": [
            "RWrist"
           ],
           "type": "scatter3d",
           "x": [
            6.116947207046354,
            5.692176346679401
           ],
           "y": [
            -5.33212323391928,
            -5.62378370569462
           ],
           "z": [
            24.567298179499304,
            22.826702662733013
           ]
          },
          {
           "line": {
            "color": "#1f77b4",
            "width": 1
           },
           "marker": {
            "color": "#1f77b4",
            "size": 1
           },
           "type": "scatter3d",
           "x": [
            -7.68200201222643,
            -11.202351483965106,
            -10.955869104893946,
            -7.261455157517169,
            -6.696189981227148,
            -6.597702295821579,
            -6.51772886461975,
            -3.8476915953707365,
            -0.7970128046349325
           ],
           "y": [
            3.4053156803910536,
            3.729440580134272,
            7.115938837216567,
            6.2383953833599834,
            6.738902405987771,
            1.6798788535843796,
            0.426703045092959,
            -8.57887314276572,
            -5.457469816021779
           ],
           "z": [
            1.865911632557168,
            2.0831814398599002,
            2.4502047462026466,
            3.600422432940081,
            3.3586116742422365,
            2.8752883654471493,
            3.1498232277243945,
            4.465394927147864,
            2.7671204675596304
           ]
          },
          {
           "color": "#00FFFF",
           "type": "mesh3d",
           "x": [
            -50,
            50,
            -50,
            50
           ],
           "y": [
            -50,
            50,
            50,
            -50
           ],
           "z": [
            0,
            0,
            0,
            0
           ]
          }
         ],
         "name": "frame10"
        },
        {
         "data": [
          {
           "line": {
            "color": "red",
            "width": 5
           },
           "marker": {
            "color": "blue",
            "size": 2
           },
           "text": [
            "RHip"
           ],
           "type": "scatter3d",
           "x": [
            -1.6947430609973022,
            -0.879051
           ],
           "y": [
            -1.1635491867814474,
            0.0885223
           ],
           "z": [
            15.796838642279708,
            17.9042
           ]
          },
          {
           "line": {
            "color": "red",
            "width": 5
           },
           "marker": {
            "color": "blue",
            "size": 2
           },
           "text": [
            "RKnee"
           ],
           "type": "scatter3d",
           "x": [
            0.483564665631798,
            -1.6947430609973022
           ],
           "y": [
            -4.405144745128723,
            -1.1635491867814474
           ],
           "z": [
            9.48611091095726,
            15.796838642279708
           ]
          },
          {
           "line": {
            "color": "red",
            "width": 5
           },
           "marker": {
            "color": "blue",
            "size": 2
           },
           "text": [
            "RAnkle"
           ],
           "type": "scatter3d",
           "x": [
            -4.462829338330973,
            0.483564665631798
           ],
           "y": [
            -2.651627769211558,
            -4.405144745128723
           ],
           "z": [
            3.173826242416413,
            9.48611091095726
           ]
          },
          {
           "line": {
            "color": "black",
            "width": 5
           },
           "marker": {
            "color": "blue",
            "size": 2
           },
           "text": [
            "LHip"
           ],
           "type": "scatter3d",
           "x": [
            0.6350872827193186,
            -0.879051
           ],
           "y": [
            0.9981323704532734,
            0.0885223
           ],
           "z": [
            16.05475607182584,
            17.9042
           ]
          },
          {
           "line": {
            "color": "black",
            "width": 5
           },
           "marker": {
            "color": "blue",
            "size": 2
           },
           "text": [
            "LKnee"
           ],
           "type": "scatter3d",
           "x": [
            4.166572638837864,
            0.6350872827193186
           ],
           "y": [
            0.05523347609818796,
            0.9981323704532734
           ],
           "z": [
            9.37820400584783,
            16.05475607182584
           ]
          },
          {
           "line": {
            "color": "black",
            "width": 5
           },
           "marker": {
            "color": "blue",
            "size": 2
           },
           "text": [
            "LAnkle"
           ],
           "type": "scatter3d",
           "x": [
            1.6936057675625125,
            4.166572638837864
           ],
           "y": [
            4.703123262895883,
            0.05523347609818796
           ],
           "z": [
            3.191134053600024,
            9.37820400584783
           ]
          },
          {
           "line": {
            "color": "black",
            "width": 5
           },
           "marker": {
            "color": "blue",
            "size": 2
           },
           "text": [
            "Spine1"
           ],
           "type": "scatter3d",
           "x": [
            0.04466692856983501,
            -0.879051
           ],
           "y": [
            -0.9679143958728931,
            0.0885223
           ],
           "z": [
            21.64954280134062,
            17.9042
           ]
          },
          {
           "line": {
            "color": "black",
            "width": 5
           },
           "marker": {
            "color": "blue",
            "size": 2
           },
           "text": [
            "Neck"
           ],
           "type": "scatter3d",
           "x": [
            1.5868590633221968,
            0.04466692856983501
           ],
           "y": [
            -1.6581409133294367,
            -0.9679143958728931
           ],
           "z": [
            25.042408633116768,
            21.64954280134062
           ]
          },
          {
           "line": {
            "color": "black",
            "width": 5
           },
           "marker": {
            "color": "blue",
            "size": 2
           },
           "text": [
            "Head"
           ],
           "type": "scatter3d",
           "x": [
            2.3093092094771714,
            1.5868590633221968
           ],
           "y": [
            -1.856835517586365,
            -1.6581409133294367
           ],
           "z": [
            26.656705196323433,
            25.042408633116768
           ]
          },
          {
           "line": {
            "color": "black",
            "width": 5
           },
           "marker": {
            "color": "blue",
            "size": 2
           },
           "text": [
            "Site"
           ],
           "type": "scatter3d",
           "x": [
            3.005664179926332,
            2.3093092094771714
           ],
           "y": [
            -2.2583124640791366,
            -1.856835517586365
           ],
           "z": [
            28.247830050042186,
            26.656705196323433
           ]
          },
          {
           "line": {
            "color": "black",
            "width": 5
           },
           "marker": {
            "color": "blue",
            "size": 2
           },
           "text": [
            "LShoulder"
           ],
           "type": "scatter3d",
           "x": [
            3.216872719607839,
            1.5868590633221968
           ],
           "y": [
            1.1626764935538694,
            -1.6581409133294367
           ],
           "z": [
            24.555269681998386,
            25.042408633116768
           ]
          },
          {
           "line": {
            "color": "black",
            "width": 5
           },
           "marker": {
            "color": "blue",
            "size": 2
           },
           "text": [
            "LElbow"
           ],
           "type": "scatter3d",
           "x": [
            7.010772630458279,
            3.216872719607839
           ],
           "y": [
            -0.7914829089052684,
            1.1626764935538694
           ],
           "z": [
            24.163184208217583,
            24.555269681998386
           ]
          },
          {
           "line": {
            "color": "black",
            "width": 5
           },
           "marker": {
            "color": "blue",
            "size": 2
           },
           "text": [
            "LWrist"
           ],
           "type": "scatter3d",
           "x": [
            6.963954336453258,
            7.010772630458279
           ],
           "y": [
            -1.5715244882859682,
            -0.7914829089052684
           ],
           "z": [
            25.83208149861137,
            24.163184208217583
           ]
          },
          {
           "line": {
            "color": "red",
            "width": 5
           },
           "marker": {
            "color": "blue",
            "size": 2
           },
           "text": [
            "RShoulder"
           ],
           "type": "scatter3d",
           "x": [
            -0.8224959053277001,
            1.5868590633221968
           ],
           "y": [
            -3.863113606120443,
            -1.6581409133294367
           ],
           "z": [
            25.02355417603818,
            25.042408633116768
           ]
          },
          {
           "line": {
            "color": "red",
            "width": 5
           },
           "marker": {
            "color": "blue",
            "size": 2
           },
           "text": [
            "RElbow"
           ],
           "type": "scatter3d",
           "x": [
            2.4555564943567227,
            -0.8224959053277001
           ],
           "y": [
            -4.820980197669793,
            -3.863113606120443
           ],
           "z": [
            21.520030649929428,
            25.02355417603818
           ]
          },
          {
           "line": {
            "color": "red",
            "width": 5
           },
           "marker": {
            "color": "blue",
            "size": 2
           },
           "text": [
            "RWrist"
           ],
           "type": "scatter3d",
           "x": [
            3.785590407856996,
            2.4555564943567227
           ],
           "y": [
            -4.730504057054546,
            -4.820980197669793
           ],
           "z": [
            22.752099123886342,
            21.520030649929428
           ]
          },
          {
           "line": {
            "color": "#1f77b4",
            "width": 1
           },
           "marker": {
            "color": "#1f77b4",
            "size": 1
           },
           "type": "scatter3d",
           "x": [
            -7.68200201222643,
            -11.202351483965106,
            -10.955869104893946,
            -7.261455157517169,
            -6.696189981227148,
            -6.597702295821579,
            -6.51772886461975,
            -3.8476915953707365,
            -0.7970128046349325,
            -5.5020630048652315
           ],
           "y": [
            3.4053156803910536,
            3.729440580134272,
            7.115938837216567,
            6.2383953833599834,
            6.738902405987771,
            1.6798788535843796,
            0.426703045092959,
            -8.57887314276572,
            -5.457469816021779,
            -6.145413681234592
           ],
           "z": [
            1.865911632557168,
            2.0831814398599002,
            2.4502047462026466,
            3.600422432940081,
            3.3586116742422365,
            2.8752883654471493,
            3.1498232277243945,
            4.465394927147864,
            2.7671204675596304,
            3.4168017828747113
           ]
          },
          {
           "color": "#00FFFF",
           "type": "mesh3d",
           "x": [
            -50,
            50,
            -50,
            50
           ],
           "y": [
            -50,
            50,
            50,
            -50
           ],
           "z": [
            0,
            0,
            0,
            0
           ]
          }
         ],
         "name": "frame11"
        },
        {
         "data": [
          {
           "line": {
            "color": "red",
            "width": 5
           },
           "marker": {
            "color": "blue",
            "size": 2
           },
           "text": [
            "RHip"
           ],
           "type": "scatter3d",
           "x": [
            4.330106381652748,
            2.85383
           ],
           "y": [
            -0.13738410148460045,
            1.38567
           ],
           "z": [
            15.371838091309973,
            16.8466
           ]
          },
          {
           "line": {
            "color": "red",
            "width": 5
           },
           "marker": {
            "color": "blue",
            "size": 2
           },
           "text": [
            "RKnee"
           ],
           "type": "scatter3d",
           "x": [
            5.166346352361967,
            4.330106381652748
           ],
           "y": [
            -2.1611632361434996,
            -0.13738410148460045
           ],
           "z": [
            8.280768246767579,
            15.371838091309973
           ]
          },
          {
           "line": {
            "color": "red",
            "width": 5
           },
           "marker": {
            "color": "blue",
            "size": 2
           },
           "text": [
            "RAnkle"
           ],
           "type": "scatter3d",
           "x": [
            2.1426985093789725,
            5.166346352361967
           ],
           "y": [
            -7.988855680680584,
            -2.1611632361434996
           ],
           "z": [
            3.3530783562129756,
            8.280768246767579
           ]
          },
          {
           "line": {
            "color": "black",
            "width": 5
           },
           "marker": {
            "color": "blue",
            "size": 2
           },
           "text": [
            "LHip"
           ],
           "type": "scatter3d",
           "x": [
            2.5104379444225953,
            2.85383
           ],
           "y": [
            2.3298100399573842,
            1.38567
           ],
           "z": [
            14.4947646435088,
            16.8466
           ]
          },
          {
           "line": {
            "color": "black",
            "width": 5
           },
           "marker": {
            "color": "blue",
            "size": 2
           },
           "text": [
            "LKnee"
           ],
           "type": "scatter3d",
           "x": [
            6.937814631693552,
            2.5104379444225953
           ],
           "y": [
            6.240416783930389,
            2.3298100399573842
           ],
           "z": [
            9.694526607934575,
            14.4947646435088
           ]
          },
          {
           "line": {
            "color": "black",
            "width": 5
           },
           "marker": {
            "color": "blue",
            "size": 2
           },
           "text": [
            "LAnkle"
           ],
           "type": "scatter3d",
           "x": [
            6.294465802176363,
            6.937814631693552
           ],
           "y": [
            5.804770626082693,
            6.240416783930389
           ],
           "z": [
            1.6078342112025954,
            9.694526607934575
           ]
          },
          {
           "line": {
            "color": "black",
            "width": 5
           },
           "marker": {
            "color": "blue",
            "size": 2
           },
           "text": [
            "Spine1"
           ],
           "type": "scatter3d",
           "x": [
            3.4422408183223934,
            2.85383
           ],
           "y": [
            3.1008881409068287,
            1.38567
           ],
           "z": [
            20.414404943639703,
            16.8466
           ]
          },
          {
           "line": {
            "color": "black",
            "width": 5
           },
           "marker": {
            "color": "blue",
            "size": 2
           },
           "text": [
            "Neck"
           ],
           "type": "scatter3d",
           "x": [
            4.040818691156798,
            3.4422408183223934
           ],
           "y": [
            5.334201020480544,
            3.1008881409068287
           ],
           "z": [
            23.41714570407838,
            20.414404943639703
           ]
          },
          {
           "line": {
            "color": "black",
            "width": 5
           },
           "marker": {
            "color": "blue",
            "size": 2
           },
           "text": [
            "Head"
           ],
           "type": "scatter3d",
           "x": [
            4.793666958695125,
            4.040818691156798
           ],
           "y": [
            6.023302086949632,
            5.334201020480544
           ],
           "z": [
            24.87513279581709,
            23.41714570407838
           ]
          },
          {
           "line": {
            "color": "black",
            "width": 5
           },
           "marker": {
            "color": "blue",
            "size": 2
           },
           "text": [
            "Site"
           ],
           "type": "scatter3d",
           "x": [
            5.825390961185887,
            4.793666958695125
           ],
           "y": [
            6.420436371308637,
            6.023302086949632
           ],
           "z": [
            26.27356128037647,
            24.87513279581709
           ]
          },
          {
           "line": {
            "color": "black",
            "width": 5
           },
           "marker": {
            "color": "blue",
            "size": 2
           },
           "text": [
            "LShoulder"
           ],
           "type": "scatter3d",
           "x": [
            1.2844082401469188,
            4.040818691156798
           ],
           "y": [
            6.943182511176571,
            5.334201020480544
           ],
           "z": [
            22.318634016135587,
            23.41714570407838
           ]
          },
          {
           "line": {
            "color": "black",
            "width": 5
           },
           "marker": {
            "color": "blue",
            "size": 2
           },
           "text": [
            "LElbow"
           ],
           "type": "scatter3d",
           "x": [
            4.529664380838726,
            1.2844082401469188
           ],
           "y": [
            7.216473399992521,
            6.943182511176571
           ],
           "z": [
            20.16579151948833,
            22.318634016135587
           ]
          },
          {
           "line": {
            "color": "black",
            "width": 5
           },
           "marker": {
            "color": "blue",
            "size": 2
           },
           "text": [
            "LWrist"
           ],
           "type": "scatter3d",
           "x": [
            5.505551592516025,
            4.529664380838726
           ],
           "y": [
            7.462794797538845,
            7.216473399992521
           ],
           "z": [
            21.709438144624905,
            20.16579151948833
           ]
          },
          {
           "line": {
            "color": "red",
            "width": 5
           },
           "marker": {
            "color": "blue",
            "size": 2
           },
           "text": [
            "RShoulder"
           ],
           "type": "scatter3d",
           "x": [
            5.870792640080971,
            4.040818691156798
           ],
           "y": [
            2.8056746945838738,
            5.334201020480544
           ],
           "z": [
            24.22663364536301,
            23.41714570407838
           ]
          },
          {
           "line": {
            "color": "red",
            "width": 5
           },
           "marker": {
            "color": "blue",
            "size": 2
           },
           "text": [
            "RElbow"
           ],
           "type": "scatter3d",
           "x": [
            13.278146952360279,
            5.870792640080971
           ],
           "y": [
            3.14528788895472,
            2.8056746945838738
           ],
           "z": [
            22.17181572625298,
            24.22663364536301
           ]
          },
          {
           "line": {
            "color": "red",
            "width": 5
           },
           "marker": {
            "color": "blue",
            "size": 2
           },
           "text": [
            "RWrist"
           ],
           "type": "scatter3d",
           "x": [
            14.503808366154617,
            13.278146952360279
           ],
           "y": [
            4.434554342841718,
            3.14528788895472
           ],
           "z": [
            22.533360989280045,
            22.17181572625298
           ]
          },
          {
           "line": {
            "color": "#1f77b4",
            "width": 1
           },
           "marker": {
            "color": "#1f77b4",
            "size": 1
           },
           "type": "scatter3d",
           "x": [
            -7.68200201222643,
            -11.202351483965106,
            -10.955869104893946,
            -7.261455157517169,
            -6.696189981227148,
            -6.597702295821579,
            -6.51772886461975,
            -3.8476915953707365,
            -0.7970128046349325,
            -5.5020630048652315,
            -4.462829338330973
           ],
           "y": [
            3.4053156803910536,
            3.729440580134272,
            7.115938837216567,
            6.2383953833599834,
            6.738902405987771,
            1.6798788535843796,
            0.426703045092959,
            -8.57887314276572,
            -5.457469816021779,
            -6.145413681234592,
            -2.651627769211558
           ],
           "z": [
            1.865911632557168,
            2.0831814398599002,
            2.4502047462026466,
            3.600422432940081,
            3.3586116742422365,
            2.8752883654471493,
            3.1498232277243945,
            4.465394927147864,
            2.7671204675596304,
            3.4168017828747113,
            3.173826242416413
           ]
          },
          {
           "color": "#00FFFF",
           "type": "mesh3d",
           "x": [
            -50,
            50,
            -50,
            50
           ],
           "y": [
            -50,
            50,
            50,
            -50
           ],
           "z": [
            0,
            0,
            0,
            0
           ]
          }
         ],
         "name": "frame12"
        },
        {
         "data": [
          {
           "line": {
            "color": "red",
            "width": 5
           },
           "marker": {
            "color": "blue",
            "size": 2
           },
           "text": [
            "RHip"
           ],
           "type": "scatter3d",
           "x": [
            -0.5034998047863785,
            0.787089
           ],
           "y": [
            1.7674062371508845,
            2.79336
           ],
           "z": [
            15.070778721554408,
            17.0597
           ]
          },
          {
           "line": {
            "color": "red",
            "width": 5
           },
           "marker": {
            "color": "blue",
            "size": 2
           },
           "text": [
            "RKnee"
           ],
           "type": "scatter3d",
           "x": [
            -1.320384239790283,
            -0.5034998047863785
           ],
           "y": [
            -0.6365794062491346,
            1.7674062371508845
           ],
           "z": [
            8.09712805200937,
            15.070778721554408
           ]
          },
          {
           "line": {
            "color": "red",
            "width": 5
           },
           "marker": {
            "color": "blue",
            "size": 2
           },
           "text": [
            "RAnkle"
           ],
           "type": "scatter3d",
           "x": [
            -6.550621684435969,
            -1.320384239790283
           ],
           "y": [
            1.322022686032784,
            -0.6365794062491346
           ],
           "z": [
            2.08089440622238,
            8.09712805200937
           ]
          },
          {
           "line": {
            "color": "black",
            "width": 5
           },
           "marker": {
            "color": "blue",
            "size": 2
           },
           "text": [
            "LHip"
           ],
           "type": "scatter3d",
           "x": [
            2.494505403001353,
            0.787089
           ],
           "y": [
            2.850044375141962,
            2.79336
           ],
           "z": [
            15.15655413819561,
            17.0597
           ]
          },
          {
           "line": {
            "color": "black",
            "width": 5
           },
           "marker": {
            "color": "blue",
            "size": 2
           },
           "text": [
            "LKnee"
           ],
           "type": "scatter3d",
           "x": [
            6.469732428472504,
            2.494505403001353
           ],
           "y": [
            1.8567310005485957,
            2.850044375141962
           ],
           "z": [
            8.741907361405111,
            15.15655413819561
           ]
          },
          {
           "line": {
            "color": "black",
            "width": 5
           },
           "marker": {
            "color": "blue",
            "size": 2
           },
           "text": [
            "LAnkle"
           ],
           "type": "scatter3d",
           "x": [
            8.624919878261124,
            6.469732428472504
           ],
           "y": [
            6.260711243063564,
            1.8567310005485957
           ],
           "z": [
            2.264376636625582,
            8.741907361405111
           ]
          },
          {
           "line": {
            "color": "black",
            "width": 5
           },
           "marker": {
            "color": "blue",
            "size": 2
           },
           "text": [
            "Spine1"
           ],
           "type": "scatter3d",
           "x": [
            1.2396149707914614,
            0.787089
           ],
           "y": [
            1.9453154224912508,
            2.79336
           ],
           "z": [
            20.94935886308439,
            17.0597
           ]
          },
          {
           "line": {
            "color": "black",
            "width": 5
           },
           "marker": {
            "color": "blue",
            "size": 2
           },
           "text": [
            "Neck"
           ],
           "type": "scatter3d",
           "x": [
            1.789548065260915,
            1.2396149707914614
           ],
           "y": [
            1.0042346420973902,
            1.9453154224912508
           ],
           "z": [
            24.591592075306686,
            20.94935886308439
           ]
          },
          {
           "line": {
            "color": "black",
            "width": 5
           },
           "marker": {
            "color": "blue",
            "size": 2
           },
           "text": [
            "Head"
           ],
           "type": "scatter3d",
           "x": [
            2.2933075181696743,
            1.789548065260915
           ],
           "y": [
            0.7802713166095849,
            1.0042346420973902
           ],
           "z": [
            26.28376050541715,
            24.591592075306686
           ]
          },
          {
           "line": {
            "color": "black",
            "width": 5
           },
           "marker": {
            "color": "blue",
            "size": 2
           },
           "text": [
            "Site"
           ],
           "type": "scatter3d",
           "x": [
            2.911434934807249,
            2.2933075181696743
           ],
           "y": [
            0.4541300496017408,
            0.7802713166095849
           ],
           "z": [
            27.92367594662484,
            26.28376050541715
           ]
          },
          {
           "line": {
            "color": "black",
            "width": 5
           },
           "marker": {
            "color": "blue",
            "size": 2
           },
           "text": [
            "LShoulder"
           ],
           "type": "scatter3d",
           "x": [
            4.733375213581688,
            1.789548065260915
           ],
           "y": [
            3.0051237866679443,
            1.0042346420973902
           ],
           "z": [
            24.066408978321547,
            24.591592075306686
           ]
          },
          {
           "line": {
            "color": "black",
            "width": 5
           },
           "marker": {
            "color": "blue",
            "size": 2
           },
           "text": [
            "LElbow"
           ],
           "type": "scatter3d",
           "x": [
            9.049249352898572,
            4.733375213581688
           ],
           "y": [
            2.589184524775228,
            3.0051237866679443
           ],
           "z": [
            23.02427453143649,
            24.066408978321547
           ]
          },
          {
           "line": {
            "color": "black",
            "width": 5
           },
           "marker": {
            "color": "blue",
            "size": 2
           },
           "text": [
            "LWrist"
           ],
           "type": "scatter3d",
           "x": [
            9.250067216461623,
            9.049249352898572
           ],
           "y": [
            0.8284920686836685,
            2.589184524775228
           ],
           "z": [
            23.529753754388572,
            23.02427453143649
           ]
          },
          {
           "line": {
            "color": "red",
            "width": 5
           },
           "marker": {
            "color": "blue",
            "size": 2
           },
           "text": [
            "RShoulder"
           ],
           "type": "scatter3d",
           "x": [
            -0.9983922483082861,
            1.789548065260915
           ],
           "y": [
            0.032713080917976534,
            1.0042346420973902
           ],
           "z": [
            24.391941988350297,
            24.591592075306686
           ]
          },
          {
           "line": {
            "color": "red",
            "width": 5
           },
           "marker": {
            "color": "blue",
            "size": 2
           },
           "text": [
            "RElbow"
           ],
           "type": "scatter3d",
           "x": [
            0.22313058802722763,
            -0.9983922483082861
           ],
           "y": [
            -1.9053472630389579,
            0.032713080917976534
           ],
           "z": [
            20.628796612511067,
            24.391941988350297
           ]
          },
          {
           "line": {
            "color": "red",
            "width": 5
           },
           "marker": {
            "color": "blue",
            "size": 2
           },
           "text": [
            "RWrist"
           ],
           "type": "scatter3d",
           "x": [
            1.5750318964592522,
            0.22313058802722763
           ],
           "y": [
            -2.498137661207227,
            -1.9053472630389579
           ],
           "z": [
            21.685267749693377,
            20.628796612511067
           ]
          },
          {
           "line": {
            "color": "#1f77b4",
            "width": 1
           },
           "marker": {
            "color": "#1f77b4",
            "size": 1
           },
           "type": "scatter3d",
           "x": [
            -7.68200201222643,
            -11.202351483965106,
            -10.955869104893946,
            -7.261455157517169,
            -6.696189981227148,
            -6.597702295821579,
            -6.51772886461975,
            -3.8476915953707365,
            -0.7970128046349325,
            -5.5020630048652315,
            -4.462829338330973,
            2.1426985093789725
           ],
           "y": [
            3.4053156803910536,
            3.729440580134272,
            7.115938837216567,
            6.2383953833599834,
            6.738902405987771,
            1.6798788535843796,
            0.426703045092959,
            -8.57887314276572,
            -5.457469816021779,
            -6.145413681234592,
            -2.651627769211558,
            -7.988855680680584
           ],
           "z": [
            1.865911632557168,
            2.0831814398599002,
            2.4502047462026466,
            3.600422432940081,
            3.3586116742422365,
            2.8752883654471493,
            3.1498232277243945,
            4.465394927147864,
            2.7671204675596304,
            3.4168017828747113,
            3.173826242416413,
            3.3530783562129756
           ]
          },
          {
           "color": "#00FFFF",
           "type": "mesh3d",
           "x": [
            -50,
            50,
            -50,
            50
           ],
           "y": [
            -50,
            50,
            50,
            -50
           ],
           "z": [
            0,
            0,
            0,
            0
           ]
          }
         ],
         "name": "frame13"
        },
        {
         "data": [
          {
           "line": {
            "color": "red",
            "width": 5
           },
           "marker": {
            "color": "blue",
            "size": 2
           },
           "text": [
            "RHip"
           ],
           "type": "scatter3d",
           "x": [
            3.4250877224060257,
            2.80158
           ],
           "y": [
            4.200730835538191,
            5.38183
           ],
           "z": [
            13.15920873606557,
            15.3706
           ]
          },
          {
           "line": {
            "color": "red",
            "width": 5
           },
           "marker": {
            "color": "blue",
            "size": 2
           },
           "text": [
            "RKnee"
           ],
           "type": "scatter3d",
           "x": [
            3.0920060561069573,
            3.4250877224060257
           ],
           "y": [
            2.8831465316625424,
            4.200730835538191
           ],
           "z": [
            5.863231829548736,
            13.15920873606557
           ]
          },
          {
           "line": {
            "color": "red",
            "width": 5
           },
           "marker": {
            "color": "blue",
            "size": 2
           },
           "text": [
            "RAnkle"
           ],
           "type": "scatter3d",
           "x": [
            -4.382364421867683,
            3.0920060561069573
           ],
           "y": [
            0.4111020926919453,
            2.8831465316625424
           ],
           "z": [
            3.537429728401681,
            5.863231829548736
           ]
          },
          {
           "line": {
            "color": "black",
            "width": 5
           },
           "marker": {
            "color": "blue",
            "size": 2
           },
           "text": [
            "LHip"
           ],
           "type": "scatter3d",
           "x": [
            3.5752951192322637,
            2.80158
           ],
           "y": [
            7.304894655863658,
            5.38183
           ],
           "z": [
            13.872723066949128,
            15.3706
           ]
          },
          {
           "line": {
            "color": "black",
            "width": 5
           },
           "marker": {
            "color": "blue",
            "size": 2
           },
           "text": [
            "LKnee"
           ],
           "type": "scatter3d",
           "x": [
            9.512559111695374,
            3.5752951192322637
           ],
           "y": [
            6.969651539893477,
            7.304894655863658
           ],
           "z": [
            9.121586048069688,
            13.872723066949128
           ]
          },
          {
           "line": {
            "color": "black",
            "width": 5
           },
           "marker": {
            "color": "blue",
            "size": 2
           },
           "text": [
            "LAnkle"
           ],
           "type": "scatter3d",
           "x": [
            7.6743636868242024,
            9.512559111695374
           ],
           "y": [
            8.686867507484516,
            6.969651539893477
           ],
           "z": [
            1.3969186693870022,
            9.121586048069688
           ]
          },
          {
           "line": {
            "color": "black",
            "width": 5
           },
           "marker": {
            "color": "blue",
            "size": 2
           },
           "text": [
            "Spine1"
           ],
           "type": "scatter3d",
           "x": [
            3.8014766908070956,
            2.80158
           ],
           "y": [
            3.5155820068040047,
            5.38183
           ],
           "z": [
            18.738926309816566,
            15.3706
           ]
          },
          {
           "line": {
            "color": "black",
            "width": 5
           },
           "marker": {
            "color": "blue",
            "size": 2
           },
           "text": [
            "Neck"
           ],
           "type": "scatter3d",
           "x": [
            5.466491413223574,
            3.8014766908070956
           ],
           "y": [
            1.4311192496730656,
            3.5155820068040047
           ],
           "z": [
            21.43284520852717,
            18.738926309816566
           ]
          },
          {
           "line": {
            "color": "black",
            "width": 5
           },
           "marker": {
            "color": "blue",
            "size": 2
           },
           "text": [
            "Head"
           ],
           "type": "scatter3d",
           "x": [
            6.771101812660438,
            5.466491413223574
           ],
           "y": [
            0.9481649444579039,
            1.4311192496730656
           ],
           "z": [
            22.542851513994094,
            21.43284520852717
           ]
          },
          {
           "line": {
            "color": "black",
            "width": 5
           },
           "marker": {
            "color": "blue",
            "size": 2
           },
           "text": [
            "Site"
           ],
           "type": "scatter3d",
           "x": [
            8.244373448113102,
            6.771101812660438
           ],
           "y": [
            0.5455138309060104,
            0.9481649444579039
           ],
           "z": [
            23.46215290770673,
            22.542851513994094
           ]
          },
          {
           "line": {
            "color": "black",
            "width": 5
           },
           "marker": {
            "color": "blue",
            "size": 2
           },
           "text": [
            "LShoulder"
           ],
           "type": "scatter3d",
           "x": [
            4.861585408705022,
            5.466491413223574
           ],
           "y": [
            4.295555457958576,
            1.4311192496730656
           ],
           "z": [
            23.355566510818946,
            21.43284520852717
           ]
          },
          {
           "line": {
            "color": "black",
            "width": 5
           },
           "marker": {
            "color": "blue",
            "size": 2
           },
           "text": [
            "LElbow"
           ],
           "type": "scatter3d",
           "x": [
            6.379105153938751,
            4.861585408705022
           ],
           "y": [
            6.932084197854094,
            4.295555457958576
           ],
           "z": [
            21.164045584540787,
            23.355566510818946
           ]
          },
          {
           "line": {
            "color": "black",
            "width": 5
           },
           "marker": {
            "color": "blue",
            "size": 2
           },
           "text": [
            "LWrist"
           ],
           "type": "scatter3d",
           "x": [
            7.993739128238612,
            6.379105153938751
           ],
           "y": [
            6.089039552820615,
            6.932084197854094
           ],
           "z": [
            21.44352338261607,
            21.164045584540787
           ]
          },
          {
           "line": {
            "color": "red",
            "width": 5
           },
           "marker": {
            "color": "blue",
            "size": 2
           },
           "text": [
            "RShoulder"
           ],
           "type": "scatter3d",
           "x": [
            4.7115411912618805,
            5.466491413223574
           ],
           "y": [
            -0.8625603428369035,
            1.4311192496730656
           ],
           "z": [
            19.46125225798162,
            21.43284520852717
           ]
          },
          {
           "line": {
            "color": "red",
            "width": 5
           },
           "marker": {
            "color": "blue",
            "size": 2
           },
           "text": [
            "RElbow"
           ],
           "type": "scatter3d",
           "x": [
            4.212762438212554,
            4.7115411912618805
           ],
           "y": [
            -0.3551561885775991,
            -0.8625603428369035
           ],
           "z": [
            11.154197423017287,
            19.46125225798162
           ]
          },
          {
           "line": {
            "color": "red",
            "width": 5
           },
           "marker": {
            "color": "blue",
            "size": 2
           },
           "text": [
            "RWrist"
           ],
           "type": "scatter3d",
           "x": [
            5.1246573314049275,
            4.212762438212554
           ],
           "y": [
            -0.939371495787744,
            -0.3551561885775991
           ],
           "z": [
            9.697382731235582,
            11.154197423017287
           ]
          },
          {
           "line": {
            "color": "#1f77b4",
            "width": 1
           },
           "marker": {
            "color": "#1f77b4",
            "size": 1
           },
           "type": "scatter3d",
           "x": [
            -7.68200201222643,
            -11.202351483965106,
            -10.955869104893946,
            -7.261455157517169,
            -6.696189981227148,
            -6.597702295821579,
            -6.51772886461975,
            -3.8476915953707365,
            -0.7970128046349325,
            -5.5020630048652315,
            -4.462829338330973,
            2.1426985093789725,
            -6.550621684435969
           ],
           "y": [
            3.4053156803910536,
            3.729440580134272,
            7.115938837216567,
            6.2383953833599834,
            6.738902405987771,
            1.6798788535843796,
            0.426703045092959,
            -8.57887314276572,
            -5.457469816021779,
            -6.145413681234592,
            -2.651627769211558,
            -7.988855680680584,
            1.322022686032784
           ],
           "z": [
            1.865911632557168,
            2.0831814398599002,
            2.4502047462026466,
            3.600422432940081,
            3.3586116742422365,
            2.8752883654471493,
            3.1498232277243945,
            4.465394927147864,
            2.7671204675596304,
            3.4168017828747113,
            3.173826242416413,
            3.3530783562129756,
            2.08089440622238
           ]
          },
          {
           "color": "#00FFFF",
           "type": "mesh3d",
           "x": [
            -50,
            50,
            -50,
            50
           ],
           "y": [
            -50,
            50,
            50,
            -50
           ],
           "z": [
            0,
            0,
            0,
            0
           ]
          }
         ],
         "name": "frame14"
        },
        {
         "data": [
          {
           "line": {
            "color": "red",
            "width": 5
           },
           "marker": {
            "color": "blue",
            "size": 2
           },
           "text": [
            "RHip"
           ],
           "type": "scatter3d",
           "x": [
            -0.797376925863199,
            -0.129777
           ],
           "y": [
            3.633638210638597,
            5.05384
           ],
           "z": [
            14.469143657300945,
            16.5213
           ]
          },
          {
           "line": {
            "color": "red",
            "width": 5
           },
           "marker": {
            "color": "blue",
            "size": 2
           },
           "text": [
            "RKnee"
           ],
           "type": "scatter3d",
           "x": [
            -0.6686501287504325,
            -0.797376925863199
           ],
           "y": [
            1.0973655644984461,
            3.633638210638597
           ],
           "z": [
            7.495693916260481,
            14.469143657300945
           ]
          },
          {
           "line": {
            "color": "red",
            "width": 5
           },
           "marker": {
            "color": "blue",
            "size": 2
           },
           "text": [
            "RAnkle"
           ],
           "type": "scatter3d",
           "x": [
            -6.238933645893352,
            -0.6686501287504325
           ],
           "y": [
            3.3084733072069357,
            1.0973655644984461
           ],
           "z": [
            1.885924112360784,
            7.495693916260481
           ]
          },
          {
           "line": {
            "color": "black",
            "width": 5
           },
           "marker": {
            "color": "blue",
            "size": 2
           },
           "text": [
            "LHip"
           ],
           "type": "scatter3d",
           "x": [
            1.524267917226744,
            -0.129777
           ],
           "y": [
            5.8048058974703505,
            5.05384
           ],
           "z": [
            14.721123982061917,
            16.5213
           ]
          },
          {
           "line": {
            "color": "black",
            "width": 5
           },
           "marker": {
            "color": "blue",
            "size": 2
           },
           "text": [
            "LKnee"
           ],
           "type": "scatter3d",
           "x": [
            6.711613924864345,
            1.524267917226744
           ],
           "y": [
            4.672263567009161,
            5.8048058974703505
           ],
           "z": [
            9.267172762814463,
            14.721123982061917
           ]
          },
          {
           "line": {
            "color": "black",
            "width": 5
           },
           "marker": {
            "color": "blue",
            "size": 2
           },
           "text": [
            "LAnkle"
           ],
           "type": "scatter3d",
           "x": [
            4.645351824754977,
            6.711613924864345
           ],
           "y": [
            9.021880877998637,
            4.672263567009161
           ],
           "z": [
            2.7242629061647694,
            9.267172762814463
           ]
          },
          {
           "line": {
            "color": "black",
            "width": 5
           },
           "marker": {
            "color": "blue",
            "size": 2
           },
           "text": [
            "Spine1"
           ],
           "type": "scatter3d",
           "x": [
            0.15270421125842848,
            -0.129777
           ],
           "y": [
            3.9457592849293732,
            5.05384
           ],
           "z": [
            20.361269376069565,
            16.5213
           ]
          },
          {
           "line": {
            "color": "black",
            "width": 5
           },
           "marker": {
            "color": "blue",
            "size": 2
           },
           "text": [
            "Neck"
           ],
           "type": "scatter3d",
           "x": [
            0.45921967368162325,
            0.15270421125842848
           ],
           "y": [
            3.058030937341342,
            3.9457592849293732
           ],
           "z": [
            24.037266348674596,
            20.361269376069565
           ]
          },
          {
           "line": {
            "color": "black",
            "width": 5
           },
           "marker": {
            "color": "blue",
            "size": 2
           },
           "text": [
            "Head"
           ],
           "type": "scatter3d",
           "x": [
            0.5417230199818789,
            0.45921967368162325
           ],
           "y": [
            2.7028325804624025,
            3.058030937341342
           ],
           "z": [
            25.77921769085978,
            24.037266348674596
           ]
          },
          {
           "line": {
            "color": "black",
            "width": 5
           },
           "marker": {
            "color": "blue",
            "size": 2
           },
           "text": [
            "Site"
           ],
           "type": "scatter3d",
           "x": [
            0.7221524209566259,
            0.5417230199818789
           ],
           "y": [
            2.1585196356889167,
            2.7028325804624025
           ],
           "z": [
            27.467098294744975,
            25.77921769085978
           ]
          },
          {
           "line": {
            "color": "black",
            "width": 5
           },
           "marker": {
            "color": "blue",
            "size": 2
           },
           "text": [
            "LShoulder"
           ],
           "type": "scatter3d",
           "x": [
            2.357898926288474,
            0.45921967368162325
           ],
           "y": [
            6.012637996902879,
            3.058030937341342
           ],
           "z": [
            24.090972377995424,
            24.037266348674596
           ]
          },
          {
           "line": {
            "color": "black",
            "width": 5
           },
           "marker": {
            "color": "blue",
            "size": 2
           },
           "text": [
            "LElbow"
           ],
           "type": "scatter3d",
           "x": [
            4.670958900740389,
            2.357898926288474
           ],
           "y": [
            4.485313759525743,
            6.012637996902879
           ],
           "z": [
            21.50592042665655,
            24.090972377995424
           ]
          },
          {
           "line": {
            "color": "black",
            "width": 5
           },
           "marker": {
            "color": "blue",
            "size": 2
           },
           "text": [
            "LWrist"
           ],
           "type": "scatter3d",
           "x": [
            5.207404313833559,
            4.670958900740389
           ],
           "y": [
            3.296240956706413,
            4.485313759525743
           ],
           "z": [
            22.807537564092396,
            21.50592042665655
           ]
          },
          {
           "line": {
            "color": "red",
            "width": 5
           },
           "marker": {
            "color": "blue",
            "size": 2
           },
           "text": [
            "RShoulder"
           ],
           "type": "scatter3d",
           "x": [
            -1.4075189367451313,
            0.45921967368162325
           ],
           "y": [
            0.8252351606827326,
            3.058030937341342
           ],
           "z": [
            23.250237275255767,
            24.037266348674596
           ]
          },
          {
           "line": {
            "color": "red",
            "width": 5
           },
           "marker": {
            "color": "blue",
            "size": 2
           },
           "text": [
            "RElbow"
           ],
           "type": "scatter3d",
           "x": [
            3.811952720972209,
            -1.4075189367451313
           ],
           "y": [
            -1.10532127156325,
            0.8252351606827326
           ],
           "z": [
            19.702106830519313,
            23.250237275255767
           ]
          },
          {
           "line": {
            "color": "red",
            "width": 5
           },
           "marker": {
            "color": "blue",
            "size": 2
           },
           "text": [
            "RWrist"
           ],
           "type": "scatter3d",
           "x": [
            5.362126223815148,
            3.811952720972209
           ],
           "y": [
            -1.165149229555738,
            -1.10532127156325
           ],
           "z": [
            20.644736977568567,
            19.702106830519313
           ]
          },
          {
           "line": {
            "color": "#1f77b4",
            "width": 1
           },
           "marker": {
            "color": "#1f77b4",
            "size": 1
           },
           "type": "scatter3d",
           "x": [
            -7.68200201222643,
            -11.202351483965106,
            -10.955869104893946,
            -7.261455157517169,
            -6.696189981227148,
            -6.597702295821579,
            -6.51772886461975,
            -3.8476915953707365,
            -0.7970128046349325,
            -5.5020630048652315,
            -4.462829338330973,
            2.1426985093789725,
            -6.550621684435969,
            -4.382364421867683
           ],
           "y": [
            3.4053156803910536,
            3.729440580134272,
            7.115938837216567,
            6.2383953833599834,
            6.738902405987771,
            1.6798788535843796,
            0.426703045092959,
            -8.57887314276572,
            -5.457469816021779,
            -6.145413681234592,
            -2.651627769211558,
            -7.988855680680584,
            1.322022686032784,
            0.4111020926919453
           ],
           "z": [
            1.865911632557168,
            2.0831814398599002,
            2.4502047462026466,
            3.600422432940081,
            3.3586116742422365,
            2.8752883654471493,
            3.1498232277243945,
            4.465394927147864,
            2.7671204675596304,
            3.4168017828747113,
            3.173826242416413,
            3.3530783562129756,
            2.08089440622238,
            3.537429728401681
           ]
          },
          {
           "color": "#00FFFF",
           "type": "mesh3d",
           "x": [
            -50,
            50,
            -50,
            50
           ],
           "y": [
            -50,
            50,
            50,
            -50
           ],
           "z": [
            0,
            0,
            0,
            0
           ]
          }
         ],
         "name": "frame15"
        },
        {
         "data": [
          {
           "line": {
            "color": "red",
            "width": 5
           },
           "marker": {
            "color": "blue",
            "size": 2
           },
           "text": [
            "RHip"
           ],
           "type": "scatter3d",
           "x": [
            0.1505386699380189,
            0.949353
           ],
           "y": [
            4.839766956982838,
            6.24037
           ],
           "z": [
            15.077531466587468,
            17.096
           ]
          },
          {
           "line": {
            "color": "red",
            "width": 5
           },
           "marker": {
            "color": "blue",
            "size": 2
           },
           "text": [
            "RKnee"
           ],
           "type": "scatter3d",
           "x": [
            -0.6268937759821323,
            0.1505386699380189
           ],
           "y": [
            2.439208436891089,
            4.839766956982838
           ],
           "z": [
            8.0981927874348,
            15.077531466587468
           ]
          },
          {
           "line": {
            "color": "red",
            "width": 5
           },
           "marker": {
            "color": "blue",
            "size": 2
           },
           "text": [
            "RAnkle"
           ],
           "type": "scatter3d",
           "x": [
            -6.0372324143801315,
            -0.6268937759821323
           ],
           "y": [
            4.507646719655471,
            2.439208436891089
           ],
           "z": [
            2.281288795428674,
            8.0981927874348
           ]
          },
          {
           "line": {
            "color": "black",
            "width": 5
           },
           "marker": {
            "color": "blue",
            "size": 2
           },
           "text": [
            "LHip"
           ],
           "type": "scatter3d",
           "x": [
            2.7280192361966544,
            0.949353
           ],
           "y": [
            6.701657031332778,
            6.24037
           ],
           "z": [
            15.317233922668663,
            17.096
           ]
          },
          {
           "line": {
            "color": "black",
            "width": 5
           },
           "marker": {
            "color": "blue",
            "size": 2
           },
           "text": [
            "LKnee"
           ],
           "type": "scatter3d",
           "x": [
            7.007169751430842,
            2.7280192361966544
           ],
           "y": [
            5.402449109718994,
            6.701657031332778
           ],
           "z": [
            9.157873218865225,
            15.317233922668663
           ]
          },
          {
           "line": {
            "color": "black",
            "width": 5
           },
           "marker": {
            "color": "blue",
            "size": 2
           },
           "text": [
            "LAnkle"
           ],
           "type": "scatter3d",
           "x": [
            6.8853161514855445,
            7.007169751430842
           ],
           "y": [
            10.334923248857402,
            5.402449109718994
           ],
           "z": [
            2.703872151499138,
            9.157873218865225
           ]
          },
          {
           "line": {
            "color": "black",
            "width": 5
           },
           "marker": {
            "color": "blue",
            "size": 2
           },
           "text": [
            "Spine1"
           ],
           "type": "scatter3d",
           "x": [
            0.9182775699718181,
            0.949353
           ],
           "y": [
            5.5218823804221,
            6.24037
           ],
           "z": [
            21.035348773664087,
            17.096
           ]
          },
          {
           "line": {
            "color": "black",
            "width": 5
           },
           "marker": {
            "color": "blue",
            "size": 2
           },
           "text": [
            "Neck"
           ],
           "type": "scatter3d",
           "x": [
            1.2266598288044666,
            0.9182775699718181
           ],
           "y": [
            4.695063778568346,
            5.5218823804221
           ],
           "z": [
            24.7328789885122,
            21.035348773664087
           ]
          },
          {
           "line": {
            "color": "black",
            "width": 5
           },
           "marker": {
            "color": "blue",
            "size": 2
           },
           "text": [
            "Head"
           ],
           "type": "scatter3d",
           "x": [
            1.5877478543023043,
            1.2266598288044666
           ],
           "y": [
            4.319506938886243,
            4.695063778568346
           ],
           "z": [
            26.43462504813187,
            24.7328789885122
           ]
          },
          {
           "line": {
            "color": "black",
            "width": 5
           },
           "marker": {
            "color": "blue",
            "size": 2
           },
           "text": [
            "Site"
           ],
           "type": "scatter3d",
           "x": [
            2.0834314564269225,
            1.5877478543023043
           ],
           "y": [
            3.768426191191197,
            4.319506938886243
           ],
           "z": [
            28.055852996219542,
            26.43462504813187
           ]
          },
          {
           "line": {
            "color": "black",
            "width": 5
           },
           "marker": {
            "color": "blue",
            "size": 2
           },
           "text": [
            "LShoulder"
           ],
           "type": "scatter3d",
           "x": [
            3.174979510489853,
            1.2266598288044666
           ],
           "y": [
            7.607955099756039,
            4.695063778568346
           ],
           "z": [
            24.723322849643107,
            24.7328789885122
           ]
          },
          {
           "line": {
            "color": "black",
            "width": 5
           },
           "marker": {
            "color": "blue",
            "size": 2
           },
           "text": [
            "LElbow"
           ],
           "type": "scatter3d",
           "x": [
            6.157541499647481,
            3.174979510489853
           ],
           "y": [
            5.285931573287361,
            7.607955099756039
           ],
           "z": [
            23.825910321940565,
            24.723322849643107
           ]
          },
          {
           "line": {
            "color": "black",
            "width": 5
           },
           "marker": {
            "color": "blue",
            "size": 2
           },
           "text": [
            "LWrist"
           ],
           "type": "scatter3d",
           "x": [
            6.101544743981924,
            6.157541499647481
           ],
           "y": [
            4.606577106255158,
            5.285931573287361
           ],
           "z": [
            25.537990009215175,
            23.825910321940565
           ]
          },
          {
           "line": {
            "color": "red",
            "width": 5
           },
           "marker": {
            "color": "blue",
            "size": 2
           },
           "text": [
            "RShoulder"
           ],
           "type": "scatter3d",
           "x": [
            -0.9542755518932835,
            1.2266598288044666
           ],
           "y": [
            2.6826310049797497,
            4.695063778568346
           ],
           "z": [
            24.02705381208979,
            24.7328789885122
           ]
          },
          {
           "line": {
            "color": "red",
            "width": 5
           },
           "marker": {
            "color": "blue",
            "size": 2
           },
           "text": [
            "RElbow"
           ],
           "type": "scatter3d",
           "x": [
            4.315673902510235,
            -0.9542755518932835
           ],
           "y": [
            -0.058834590204809474,
            2.6826310049797497
           ],
           "z": [
            23.59878164000735,
            24.02705381208979
           ]
          },
          {
           "line": {
            "color": "red",
            "width": 5
           },
           "marker": {
            "color": "blue",
            "size": 2
           },
           "text": [
            "RWrist"
           ],
           "type": "scatter3d",
           "x": [
            4.982206971227129,
            4.315673902510235
           ],
           "y": [
            -0.07727710376016506,
            -0.058834590204809474
           ],
           "z": [
            25.28714250475179,
            23.59878164000735
           ]
          },
          {
           "line": {
            "color": "#1f77b4",
            "width": 1
           },
           "marker": {
            "color": "#1f77b4",
            "size": 1
           },
           "type": "scatter3d",
           "x": [
            -7.68200201222643,
            -11.202351483965106,
            -10.955869104893946,
            -7.261455157517169,
            -6.696189981227148,
            -6.597702295821579,
            -6.51772886461975,
            -3.8476915953707365,
            -0.7970128046349325,
            -5.5020630048652315,
            -4.462829338330973,
            2.1426985093789725,
            -6.550621684435969,
            -4.382364421867683,
            -6.238933645893352
           ],
           "y": [
            3.4053156803910536,
            3.729440580134272,
            7.115938837216567,
            6.2383953833599834,
            6.738902405987771,
            1.6798788535843796,
            0.426703045092959,
            -8.57887314276572,
            -5.457469816021779,
            -6.145413681234592,
            -2.651627769211558,
            -7.988855680680584,
            1.322022686032784,
            0.4111020926919453,
            3.3084733072069357
           ],
           "z": [
            1.865911632557168,
            2.0831814398599002,
            2.4502047462026466,
            3.600422432940081,
            3.3586116742422365,
            2.8752883654471493,
            3.1498232277243945,
            4.465394927147864,
            2.7671204675596304,
            3.4168017828747113,
            3.173826242416413,
            3.3530783562129756,
            2.08089440622238,
            3.537429728401681,
            1.885924112360784
           ]
          },
          {
           "color": "#00FFFF",
           "type": "mesh3d",
           "x": [
            -50,
            50,
            -50,
            50
           ],
           "y": [
            -50,
            50,
            50,
            -50
           ],
           "z": [
            0,
            0,
            0,
            0
           ]
          }
         ],
         "name": "frame16"
        },
        {
         "data": [
          {
           "line": {
            "color": "red",
            "width": 5
           },
           "marker": {
            "color": "blue",
            "size": 2
           },
           "text": [
            "RHip"
           ],
           "type": "scatter3d",
           "x": [
            -1.6541965130469556,
            -0.829782
           ],
           "y": [
            2.479980143935096,
            3.95587
           ],
           "z": [
            15.722916372773986,
            17.6764
           ]
          },
          {
           "line": {
            "color": "red",
            "width": 5
           },
           "marker": {
            "color": "blue",
            "size": 2
           },
           "text": [
            "RKnee"
           ],
           "type": "scatter3d",
           "x": [
            -0.6247193569360161,
            -1.6541965130469556
           ],
           "y": [
            -0.8637606391052834,
            2.479980143935096
           ],
           "z": [
            9.177855244293273,
            15.722916372773986
           ]
          },
          {
           "line": {
            "color": "red",
            "width": 5
           },
           "marker": {
            "color": "blue",
            "size": 2
           },
           "text": [
            "RAnkle"
           ],
           "type": "scatter3d",
           "x": [
            -5.622770625880111,
            -0.6247193569360161
           ],
           "y": [
            1.2562719135064158,
            -0.8637606391052834
           ],
           "z": [
            3.0206222088432257,
            9.177855244293273
           ]
          },
          {
           "line": {
            "color": "black",
            "width": 5
           },
           "marker": {
            "color": "blue",
            "size": 2
           },
           "text": [
            "LHip"
           ],
           "type": "scatter3d",
           "x": [
            0.8378354246537139,
            -0.829782
           ],
           "y": [
            4.4675266961984486,
            3.95587
           ],
           "z": [
            15.806184073120676,
            17.6764
           ]
          },
          {
           "line": {
            "color": "black",
            "width": 5
           },
           "marker": {
            "color": "blue",
            "size": 2
           },
           "text": [
            "LKnee"
           ],
           "type": "scatter3d",
           "x": [
            2.9505433941067256,
            0.8378354246537139
           ],
           "y": [
            3.044471290494394,
            4.4675266961984486
           ],
           "z": [
            8.633445894204815,
            15.806184073120676
           ]
          },
          {
           "line": {
            "color": "black",
            "width": 5
           },
           "marker": {
            "color": "blue",
            "size": 2
           },
           "text": [
            "LAnkle"
           ],
           "type": "scatter3d",
           "x": [
            -0.8942619979782842,
            2.9505433941067256
           ],
           "y": [
            7.02946179279686,
            3.044471290494394
           ],
           "z": [
            2.689070283242417,
            8.633445894204815
           ]
          },
          {
           "line": {
            "color": "black",
            "width": 5
           },
           "marker": {
            "color": "blue",
            "size": 2
           },
           "text": [
            "Spine1"
           ],
           "type": "scatter3d",
           "x": [
            -0.4672244590935099,
            -0.829782
           ],
           "y": [
            3.6854264936991474,
            3.95587
           ],
           "z": [
            21.655303062518453,
            17.6764
           ]
          },
          {
           "line": {
            "color": "black",
            "width": 5
           },
           "marker": {
            "color": "blue",
            "size": 2
           },
           "text": [
            "Neck"
           ],
           "type": "scatter3d",
           "x": [
            0.10493016168662145,
            -0.4672244590935099
           ],
           "y": [
            2.953913068770335,
            3.6854264936991474
           ],
           "z": [
            25.34148200066428,
            21.655303062518453
           ]
          },
          {
           "line": {
            "color": "black",
            "width": 5
           },
           "marker": {
            "color": "blue",
            "size": 2
           },
           "text": [
            "Head"
           ],
           "type": "scatter3d",
           "x": [
            0.8459805031767,
            0.10493016168662145
           ],
           "y": [
            2.6405896818167296,
            2.953913068770335
           ],
           "z": [
            26.92894538606451,
            25.34148200066428
           ]
          },
          {
           "line": {
            "color": "black",
            "width": 5
           },
           "marker": {
            "color": "blue",
            "size": 2
           },
           "text": [
            "Site"
           ],
           "type": "scatter3d",
           "x": [
            1.7449356664635407,
            0.8459805031767
           ],
           "y": [
            2.1914155199274377,
            2.6405896818167296
           ],
           "z": [
            28.401322535522798,
            26.92894538606451
           ]
          },
          {
           "line": {
            "color": "black",
            "width": 5
           },
           "marker": {
            "color": "blue",
            "size": 2
           },
           "text": [
            "LShoulder"
           ],
           "type": "scatter3d",
           "x": [
            2.402111452582306,
            0.10493016168662145
           ],
           "y": [
            5.640881474406155,
            2.953913068770335
           ],
           "z": [
            24.970218305503728,
            25.34148200066428
           ]
          },
          {
           "line": {
            "color": "black",
            "width": 5
           },
           "marker": {
            "color": "blue",
            "size": 2
           },
           "text": [
            "LElbow"
           ],
           "type": "scatter3d",
           "x": [
            6.251397994766612,
            2.402111452582306
           ],
           "y": [
            3.23790672174344,
            5.640881474406155
           ],
           "z": [
            25.284458854297696,
            24.970218305503728
           ]
          },
          {
           "line": {
            "color": "black",
            "width": 5
           },
           "marker": {
            "color": "blue",
            "size": 2
           },
           "text": [
            "LWrist"
           ],
           "type": "scatter3d",
           "x": [
            5.998040929558784,
            6.251397994766612
           ],
           "y": [
            2.521717764715387,
            3.23790672174344
           ],
           "z": [
            26.963374742435143,
            25.284458854297696
           ]
          },
          {
           "line": {
            "color": "red",
            "width": 5
           },
           "marker": {
            "color": "blue",
            "size": 2
           },
           "text": [
            "RShoulder"
           ],
           "type": "scatter3d",
           "x": [
            -2.413779240362082,
            0.10493016168662145
           ],
           "y": [
            1.3280173787183556,
            2.953913068770335
           ],
           "z": [
            24.997704796635055,
            25.34148200066428
           ]
          },
          {
           "line": {
            "color": "red",
            "width": 5
           },
           "marker": {
            "color": "blue",
            "size": 2
           },
           "text": [
            "RElbow"
           ],
           "type": "scatter3d",
           "x": [
            1.7541160517433372,
            -2.413779240362082
           ],
           "y": [
            -1.4847413803251273,
            1.3280173787183556
           ],
           "z": [
            23.433586941581062,
            24.997704796635055
           ]
          },
          {
           "line": {
            "color": "red",
            "width": 5
           },
           "marker": {
            "color": "blue",
            "size": 2
           },
           "text": [
            "RWrist"
           ],
           "type": "scatter3d",
           "x": [
            2.6722540489319138,
            1.7541160517433372
           ],
           "y": [
            -1.3112931576608555,
            -1.4847413803251273
           ],
           "z": [
            24.989898992479965,
            23.433586941581062
           ]
          },
          {
           "line": {
            "color": "#1f77b4",
            "width": 1
           },
           "marker": {
            "color": "#1f77b4",
            "size": 1
           },
           "type": "scatter3d",
           "x": [
            -7.68200201222643,
            -11.202351483965106,
            -10.955869104893946,
            -7.261455157517169,
            -6.696189981227148,
            -6.597702295821579,
            -6.51772886461975,
            -3.8476915953707365,
            -0.7970128046349325,
            -5.5020630048652315,
            -4.462829338330973,
            2.1426985093789725,
            -6.550621684435969,
            -4.382364421867683,
            -6.238933645893352,
            -6.0372324143801315
           ],
           "y": [
            3.4053156803910536,
            3.729440580134272,
            7.115938837216567,
            6.2383953833599834,
            6.738902405987771,
            1.6798788535843796,
            0.426703045092959,
            -8.57887314276572,
            -5.457469816021779,
            -6.145413681234592,
            -2.651627769211558,
            -7.988855680680584,
            1.322022686032784,
            0.4111020926919453,
            3.3084733072069357,
            4.507646719655471
           ],
           "z": [
            1.865911632557168,
            2.0831814398599002,
            2.4502047462026466,
            3.600422432940081,
            3.3586116742422365,
            2.8752883654471493,
            3.1498232277243945,
            4.465394927147864,
            2.7671204675596304,
            3.4168017828747113,
            3.173826242416413,
            3.3530783562129756,
            2.08089440622238,
            3.537429728401681,
            1.885924112360784,
            2.281288795428674
           ]
          },
          {
           "color": "#00FFFF",
           "type": "mesh3d",
           "x": [
            -50,
            50,
            -50,
            50
           ],
           "y": [
            -50,
            50,
            50,
            -50
           ],
           "z": [
            0,
            0,
            0,
            0
           ]
          }
         ],
         "name": "frame17"
        },
        {
         "data": [
          {
           "line": {
            "color": "red",
            "width": 5
           },
           "marker": {
            "color": "blue",
            "size": 2
           },
           "text": [
            "RHip"
           ],
           "type": "scatter3d",
           "x": [
            1.3021480268093775,
            2.35617
           ],
           "y": [
            2.9553845394657348,
            3.90198
           ],
           "z": [
            15.789975220591794,
            17.9503
           ]
          },
          {
           "line": {
            "color": "red",
            "width": 5
           },
           "marker": {
            "color": "blue",
            "size": 2
           },
           "text": [
            "RKnee"
           ],
           "type": "scatter3d",
           "x": [
            0.9153131681707354,
            1.3021480268093775
           ],
           "y": [
            0.2733232336952489,
            2.9553845394657348
           ],
           "z": [
            8.88091184275962,
            15.789975220591794
           ]
          },
          {
           "line": {
            "color": "red",
            "width": 5
           },
           "marker": {
            "color": "blue",
            "size": 2
           },
           "text": [
            "RAnkle"
           ],
           "type": "scatter3d",
           "x": [
            -4.622031270382943,
            0.9153131681707354
           ],
           "y": [
            2.5679035233151972,
            0.2733232336952489
           ],
           "z": [
            3.2720535786143525,
            8.88091184275962
           ]
          },
          {
           "line": {
            "color": "black",
            "width": 5
           },
           "marker": {
            "color": "blue",
            "size": 2
           },
           "text": [
            "LHip"
           ],
           "type": "scatter3d",
           "x": [
            4.017250565737474,
            2.35617
           ],
           "y": [
            4.592006011883207,
            3.90198
           ],
           "z": [
            16.132300132018617,
            17.9503
           ]
          },
          {
           "line": {
            "color": "black",
            "width": 5
           },
           "marker": {
            "color": "blue",
            "size": 2
           },
           "text": [
            "LKnee"
           ],
           "type": "scatter3d",
           "x": [
            8.300542528073478,
            4.017250565737474
           ],
           "y": [
            3.6180680875998052,
            4.592006011883207
           ],
           "z": [
            9.916059345160264,
            16.132300132018617
           ]
          },
          {
           "line": {
            "color": "black",
            "width": 5
           },
           "marker": {
            "color": "blue",
            "size": 2
           },
           "text": [
            "LAnkle"
           ],
           "type": "scatter3d",
           "x": [
            6.277927114787039,
            8.300542528073478
           ],
           "y": [
            8.791319939942456,
            3.6180680875998052
           ],
           "z": [
            3.9877567742028015,
            9.916059345160264
           ]
          },
          {
           "line": {
            "color": "black",
            "width": 5
           },
           "marker": {
            "color": "blue",
            "size": 2
           },
           "text": [
            "Spine1"
           ],
           "type": "scatter3d",
           "x": [
            2.744136186155399,
            2.35617
           ],
           "y": [
            2.269089156992144,
            3.90198
           ],
           "z": [
            21.587293266127233,
            17.9503
           ]
          },
          {
           "line": {
            "color": "black",
            "width": 5
           },
           "marker": {
            "color": "blue",
            "size": 2
           },
           "text": [
            "Neck"
           ],
           "type": "scatter3d",
           "x": [
            3.094414590952876,
            2.744136186155399
           ],
           "y": [
            0.5729647920584515,
            2.269089156992144
           ],
           "z": [
            24.970545620620566,
            21.587293266127233
           ]
          },
          {
           "line": {
            "color": "black",
            "width": 5
           },
           "marker": {
            "color": "blue",
            "size": 2
           },
           "text": [
            "Head"
           ],
           "type": "scatter3d",
           "x": [
            3.3291903315374443,
            3.094414590952876
           ],
           "y": [
            0.23597638170204271,
            0.5729647920584515
           ],
           "z": [
            26.702217158857373,
            24.970545620620566
           ]
          },
          {
           "line": {
            "color": "black",
            "width": 5
           },
           "marker": {
            "color": "blue",
            "size": 2
           },
           "text": [
            "Site"
           ],
           "type": "scatter3d",
           "x": [
            3.664634958833484,
            3.3291903315374443
           ],
           "y": [
            -0.1219854389009295,
            0.23597638170204271
           ],
           "z": [
            28.416017765860637,
            26.702217158857373
           ]
          },
          {
           "line": {
            "color": "black",
            "width": 5
           },
           "marker": {
            "color": "blue",
            "size": 2
           },
           "text": [
            "LShoulder"
           ],
           "type": "scatter3d",
           "x": [
            5.7616554872661485,
            3.094414590952876
           ],
           "y": [
            3.007925271439092,
            0.5729647920584515
           ],
           "z": [
            25.24710942096254,
            24.970545620620566
           ]
          },
          {
           "line": {
            "color": "black",
            "width": 5
           },
           "marker": {
            "color": "blue",
            "size": 2
           },
           "text": [
            "LElbow"
           ],
           "type": "scatter3d",
           "x": [
            8.020115607259534,
            5.7616554872661485
           ],
           "y": [
            1.3931583172817072,
            3.007925271439092
           ],
           "z": [
            23.197142791379996,
            25.24710942096254
           ]
          },
          {
           "line": {
            "color": "black",
            "width": 5
           },
           "marker": {
            "color": "blue",
            "size": 2
           },
           "text": [
            "LWrist"
           ],
           "type": "scatter3d",
           "x": [
            8.017302328786537,
            8.020115607259534
           ],
           "y": [
            0.18901581550712687,
            1.3931583172817072
           ],
           "z": [
            24.592100821208952,
            23.197142791379996
           ]
          },
          {
           "line": {
            "color": "red",
            "width": 5
           },
           "marker": {
            "color": "blue",
            "size": 2
           },
           "text": [
            "RShoulder"
           ],
           "type": "scatter3d",
           "x": [
            0.5824450290869456,
            3.094414590952876
           ],
           "y": [
            -0.7209887982469223,
            0.5729647920584515
           ],
           "z": [
            24.21495910621139,
            24.970545620620566
           ]
          },
          {
           "line": {
            "color": "red",
            "width": 5
           },
           "marker": {
            "color": "blue",
            "size": 2
           },
           "text": [
            "RElbow"
           ],
           "type": "scatter3d",
           "x": [
            2.523485183277039,
            0.5824450290869456
           ],
           "y": [
            -2.2927812045861238,
            -0.7209887982469223
           ],
           "z": [
            20.243910891064434,
            24.21495910621139
           ]
          },
          {
           "line": {
            "color": "red",
            "width": 5
           },
           "marker": {
            "color": "blue",
            "size": 2
           },
           "text": [
            "RWrist"
           ],
           "type": "scatter3d",
           "x": [
            3.8042994897874935,
            2.523485183277039
           ],
           "y": [
            -3.0334891598786653,
            -2.2927812045861238
           ],
           "z": [
            21.29559302213089,
            20.243910891064434
           ]
          },
          {
           "line": {
            "color": "#1f77b4",
            "width": 1
           },
           "marker": {
            "color": "#1f77b4",
            "size": 1
           },
           "type": "scatter3d",
           "x": [
            -7.68200201222643,
            -11.202351483965106,
            -10.955869104893946,
            -7.261455157517169,
            -6.696189981227148,
            -6.597702295821579,
            -6.51772886461975,
            -3.8476915953707365,
            -0.7970128046349325,
            -5.5020630048652315,
            -4.462829338330973,
            2.1426985093789725,
            -6.550621684435969,
            -4.382364421867683,
            -6.238933645893352,
            -6.0372324143801315,
            -5.622770625880111
           ],
           "y": [
            3.4053156803910536,
            3.729440580134272,
            7.115938837216567,
            6.2383953833599834,
            6.738902405987771,
            1.6798788535843796,
            0.426703045092959,
            -8.57887314276572,
            -5.457469816021779,
            -6.145413681234592,
            -2.651627769211558,
            -7.988855680680584,
            1.322022686032784,
            0.4111020926919453,
            3.3084733072069357,
            4.507646719655471,
            1.2562719135064158
           ],
           "z": [
            1.865911632557168,
            2.0831814398599002,
            2.4502047462026466,
            3.600422432940081,
            3.3586116742422365,
            2.8752883654471493,
            3.1498232277243945,
            4.465394927147864,
            2.7671204675596304,
            3.4168017828747113,
            3.173826242416413,
            3.3530783562129756,
            2.08089440622238,
            3.537429728401681,
            1.885924112360784,
            2.281288795428674,
            3.0206222088432257
           ]
          },
          {
           "color": "#00FFFF",
           "type": "mesh3d",
           "x": [
            -50,
            50,
            -50,
            50
           ],
           "y": [
            -50,
            50,
            50,
            -50
           ],
           "z": [
            0,
            0,
            0,
            0
           ]
          }
         ],
         "name": "frame18"
        },
        {
         "data": [
          {
           "line": {
            "color": "red",
            "width": 5
           },
           "marker": {
            "color": "blue",
            "size": 2
           },
           "text": [
            "RHip"
           ],
           "type": "scatter3d",
           "x": [
            2.605927395570681,
            2.71225
           ],
           "y": [
            -1.5523272206227487,
            0.109016
           ],
           "z": [
            15.95538926971377,
            17.9309
           ]
          },
          {
           "line": {
            "color": "red",
            "width": 5
           },
           "marker": {
            "color": "blue",
            "size": 2
           },
           "text": [
            "RKnee"
           ],
           "type": "scatter3d",
           "x": [
            3.663342949525854,
            2.605927395570681
           ],
           "y": [
            -2.8851560969665266,
            -1.5523272206227487
           ],
           "z": [
            8.731561313061643,
            15.95538926971377
           ]
          },
          {
           "line": {
            "color": "red",
            "width": 5
           },
           "marker": {
            "color": "blue",
            "size": 2
           },
           "text": [
            "RAnkle"
           ],
           "type": "scatter3d",
           "x": [
            -1.8315147477995466,
            3.663342949525854
           ],
           "y": [
            -4.250612202162369,
            -2.8851560969665266
           ],
           "z": [
            2.7877711354988826,
            8.731561313061643
           ]
          },
          {
           "line": {
            "color": "black",
            "width": 5
           },
           "marker": {
            "color": "blue",
            "size": 2
           },
           "text": [
            "LHip"
           ],
           "type": "scatter3d",
           "x": [
            3.4416899624654125,
            2.71225
           ],
           "y": [
            1.524740880690876,
            0.109016
           ],
           "z": [
            15.92987814447774,
            17.9309
           ]
          },
          {
           "line": {
            "color": "black",
            "width": 5
           },
           "marker": {
            "color": "blue",
            "size": 2
           },
           "text": [
            "LKnee"
           ],
           "type": "scatter3d",
           "x": [
            7.401522132820324,
            3.4416899624654125
           ],
           "y": [
            1.8288832063182336,
            1.524740880690876
           ],
           "z": [
            9.436495261607265,
            15.92987814447774
           ]
          },
          {
           "line": {
            "color": "black",
            "width": 5
           },
           "marker": {
            "color": "blue",
            "size": 2
           },
           "text": [
            "LAnkle"
           ],
           "type": "scatter3d",
           "x": [
            3.2639231242375546,
            7.401522132820324
           ],
           "y": [
            4.170782464279901,
            1.8288832063182336
           ],
           "z": [
            2.849078353563198,
            9.436495261607265
           ]
          },
          {
           "line": {
            "color": "black",
            "width": 5
           },
           "marker": {
            "color": "blue",
            "size": 2
           },
           "text": [
            "Spine1"
           ],
           "type": "scatter3d",
           "x": [
            4.14467801747219,
            2.71225
           ],
           "y": [
            0.10139872359855284,
            0.109016
           ],
           "z": [
            21.669060707203357,
            17.9309
           ]
          },
          {
           "line": {
            "color": "black",
            "width": 5
           },
           "marker": {
            "color": "blue",
            "size": 2
           },
           "text": [
            "Neck"
           ],
           "type": "scatter3d",
           "x": [
            5.662838975564384,
            4.14467801747219
           ],
           "y": [
            0.4231821927816469,
            0.10139872359855284
           ],
           "z": [
            25.13744944355856,
            21.669060707203357
           ]
          },
          {
           "line": {
            "color": "black",
            "width": 5
           },
           "marker": {
            "color": "blue",
            "size": 2
           },
           "text": [
            "Head"
           ],
           "type": "scatter3d",
           "x": [
            6.6684941531922215,
            5.662838975564384
           ],
           "y": [
            0.8953576112630577,
            0.4231821927816469
           ],
           "z": [
            26.527800187548447,
            25.13744944355856
           ]
          },
          {
           "line": {
            "color": "black",
            "width": 5
           },
           "marker": {
            "color": "blue",
            "size": 2
           },
           "text": [
            "Site"
           ],
           "type": "scatter3d",
           "x": [
            7.908379752494444,
            6.6684941531922215
           ],
           "y": [
            1.3481880688439363,
            0.8953576112630577
           ],
           "z": [
            27.72588222183742,
            26.527800187548447
           ]
          },
          {
           "line": {
            "color": "black",
            "width": 5
           },
           "marker": {
            "color": "blue",
            "size": 2
           },
           "text": [
            "LShoulder"
           ],
           "type": "scatter3d",
           "x": [
            5.386290991766267,
            5.662838975564384
           ],
           "y": [
            3.8301674910570425,
            0.4231821927816469
           ],
           "z": [
            24.42591335554552,
            25.13744944355856
           ]
          },
          {
           "line": {
            "color": "black",
            "width": 5
           },
           "marker": {
            "color": "blue",
            "size": 2
           },
           "text": [
            "LElbow"
           ],
           "type": "scatter3d",
           "x": [
            7.614049932695064,
            5.386290991766267
           ],
           "y": [
            4.5802436208326025,
            3.8301674910570425
           ],
           "z": [
            22.180132144964553,
            24.42591335554552
           ]
          },
          {
           "line": {
            "color": "black",
            "width": 5
           },
           "marker": {
            "color": "blue",
            "size": 2
           },
           "text": [
            "LWrist"
           ],
           "type": "scatter3d",
           "x": [
            8.659573314351576,
            7.614049932695064
           ],
           "y": [
            4.189611870477313,
            4.5802436208326025
           ],
           "z": [
            23.64647544655661,
            22.180132144964553
           ]
          },
          {
           "line": {
            "color": "red",
            "width": 5
           },
           "marker": {
            "color": "blue",
            "size": 2
           },
           "text": [
            "RShoulder"
           ],
           "type": "scatter3d",
           "x": [
            5.188088460927969,
            5.662838975564384
           ],
           "y": [
            -2.589814134998329,
            0.4231821927816469
           ],
           "z": [
            25.160016249789077,
            25.13744944355856
           ]
          },
          {
           "line": {
            "color": "red",
            "width": 5
           },
           "marker": {
            "color": "blue",
            "size": 2
           },
           "text": [
            "RElbow"
           ],
           "type": "scatter3d",
           "x": [
            8.05599369459763,
            5.188088460927969
           ],
           "y": [
            -4.88797316235745,
            -2.589814134998329
           ],
           "z": [
            19.956051736663177,
            25.160016249789077
           ]
          },
          {
           "line": {
            "color": "red",
            "width": 5
           },
           "marker": {
            "color": "blue",
            "size": 2
           },
           "text": [
            "RWrist"
           ],
           "type": "scatter3d",
           "x": [
            9.854590632708442,
            8.05599369459763
           ],
           "y": [
            -4.664273953101144,
            -4.88797316235745
           ],
           "z": [
            20.056930800876295,
            19.956051736663177
           ]
          },
          {
           "line": {
            "color": "#1f77b4",
            "width": 1
           },
           "marker": {
            "color": "#1f77b4",
            "size": 1
           },
           "type": "scatter3d",
           "x": [
            -7.68200201222643,
            -11.202351483965106,
            -10.955869104893946,
            -7.261455157517169,
            -6.696189981227148,
            -6.597702295821579,
            -6.51772886461975,
            -3.8476915953707365,
            -0.7970128046349325,
            -5.5020630048652315,
            -4.462829338330973,
            2.1426985093789725,
            -6.550621684435969,
            -4.382364421867683,
            -6.238933645893352,
            -6.0372324143801315,
            -5.622770625880111,
            -4.622031270382943
           ],
           "y": [
            3.4053156803910536,
            3.729440580134272,
            7.115938837216567,
            6.2383953833599834,
            6.738902405987771,
            1.6798788535843796,
            0.426703045092959,
            -8.57887314276572,
            -5.457469816021779,
            -6.145413681234592,
            -2.651627769211558,
            -7.988855680680584,
            1.322022686032784,
            0.4111020926919453,
            3.3084733072069357,
            4.507646719655471,
            1.2562719135064158,
            2.5679035233151972
           ],
           "z": [
            1.865911632557168,
            2.0831814398599002,
            2.4502047462026466,
            3.600422432940081,
            3.3586116742422365,
            2.8752883654471493,
            3.1498232277243945,
            4.465394927147864,
            2.7671204675596304,
            3.4168017828747113,
            3.173826242416413,
            3.3530783562129756,
            2.08089440622238,
            3.537429728401681,
            1.885924112360784,
            2.281288795428674,
            3.0206222088432257,
            3.2720535786143525
           ]
          },
          {
           "color": "#00FFFF",
           "type": "mesh3d",
           "x": [
            -50,
            50,
            -50,
            50
           ],
           "y": [
            -50,
            50,
            50,
            -50
           ],
           "z": [
            0,
            0,
            0,
            0
           ]
          }
         ],
         "name": "frame19"
        },
        {
         "data": [
          {
           "line": {
            "color": "red",
            "width": 5
           },
           "marker": {
            "color": "blue",
            "size": 2
           },
           "text": [
            "RHip"
           ],
           "type": "scatter3d",
           "x": [
            -4.789566868290368,
            -4.29524
           ],
           "y": [
            0.8955651387453061,
            2.42984
           ],
           "z": [
            14.570976076076478,
            16.5898
           ]
          },
          {
           "line": {
            "color": "red",
            "width": 5
           },
           "marker": {
            "color": "blue",
            "size": 2
           },
           "text": [
            "RKnee"
           ],
           "type": "scatter3d",
           "x": [
            -3.397947865685949,
            -4.789566868290368
           ],
           "y": [
            -1.4729836144661428,
            0.8955651387453061
           ],
           "z": [
            7.67665782334679,
            14.570976076076478
           ]
          },
          {
           "line": {
            "color": "red",
            "width": 5
           },
           "marker": {
            "color": "blue",
            "size": 2
           },
           "text": [
            "RAnkle"
           ],
           "type": "scatter3d",
           "x": [
            -8.80699809751267,
            -3.397947865685949
           ],
           "y": [
            -1.208029219654247,
            -1.4729836144661428
           ],
           "z": [
            1.5074967845823197,
            7.67665782334679
           ]
          },
          {
           "line": {
            "color": "black",
            "width": 5
           },
           "marker": {
            "color": "blue",
            "size": 2
           },
           "text": [
            "LHip"
           ],
           "type": "scatter3d",
           "x": [
            -2.9405806155861685,
            -4.29524
           ],
           "y": [
            3.4903166190834645,
            2.42984
           ],
           "z": [
            14.69751689340011,
            16.5898
           ]
          },
          {
           "line": {
            "color": "black",
            "width": 5
           },
           "marker": {
            "color": "blue",
            "size": 2
           },
           "text": [
            "LKnee"
           ],
           "type": "scatter3d",
           "x": [
            1.471917568599567,
            -2.9405806155861685
           ],
           "y": [
            4.415392645041455,
            3.4903166190834645
           ],
           "z": [
            8.564745190823341,
            14.69751689340011
           ]
          },
          {
           "line": {
            "color": "black",
            "width": 5
           },
           "marker": {
            "color": "blue",
            "size": 2
           },
           "text": [
            "LAnkle"
           ],
           "type": "scatter3d",
           "x": [
            -3.7004074217382064,
            1.471917568599567
           ],
           "y": [
            7.740923018557493,
            4.415392645041455
           ],
           "z": [
            3.255679252280008,
            8.564745190823341
           ]
          },
          {
           "line": {
            "color": "black",
            "width": 5
           },
           "marker": {
            "color": "blue",
            "size": 2
           },
           "text": [
            "Spine1"
           ],
           "type": "scatter3d",
           "x": [
            -3.4819780150642807,
            -4.29524
           ],
           "y": [
            1.6535408731342658,
            2.42984
           ],
           "z": [
            20.43154342644982,
            16.5898
           ]
          },
          {
           "line": {
            "color": "black",
            "width": 5
           },
           "marker": {
            "color": "blue",
            "size": 2
           },
           "text": [
            "Neck"
           ],
           "type": "scatter3d",
           "x": [
            -2.417234428529946,
            -3.4819780150642807
           ],
           "y": [
            0.6970196198394805,
            1.6535408731342658
           ],
           "z": [
            23.948978646793087,
            20.43154342644982
           ]
          },
          {
           "line": {
            "color": "black",
            "width": 5
           },
           "marker": {
            "color": "blue",
            "size": 2
           },
           "text": [
            "Head"
           ],
           "type": "scatter3d",
           "x": [
            -1.9795264776123669,
            -2.417234428529946
           ],
           "y": [
            0.35209539622706826,
            0.6970196198394805
           ],
           "z": [
            25.639187563788237,
            23.948978646793087
           ]
          },
          {
           "line": {
            "color": "black",
            "width": 5
           },
           "marker": {
            "color": "blue",
            "size": 2
           },
           "text": [
            "Site"
           ],
           "type": "scatter3d",
           "x": [
            -1.5787897600916274,
            -1.9795264776123669
           ],
           "y": [
            -0.1660393933522037,
            0.35209539622706826
           ],
           "z": [
            27.297113589464377,
            25.639187563788237
           ]
          },
          {
           "line": {
            "color": "black",
            "width": 5
           },
           "marker": {
            "color": "blue",
            "size": 2
           },
           "text": [
            "LShoulder"
           ],
           "type": "scatter3d",
           "x": [
            -0.7400362508754945,
            -2.417234428529946
           ],
           "y": [
            3.661118449281159,
            0.6970196198394805
           ],
           "z": [
            23.822257726022983,
            23.948978646793087
           ]
          },
          {
           "line": {
            "color": "black",
            "width": 5
           },
           "marker": {
            "color": "blue",
            "size": 2
           },
           "text": [
            "LElbow"
           ],
           "type": "scatter3d",
           "x": [
            0.9802584917481915,
            -0.7400362508754945
           ],
           "y": [
            1.1090495819286699,
            3.661118449281159
           ],
           "z": [
            21.571920655286878,
            23.822257726022983
           ]
          },
          {
           "line": {
            "color": "black",
            "width": 5
           },
           "marker": {
            "color": "blue",
            "size": 2
           },
           "text": [
            "LWrist"
           ],
           "type": "scatter3d",
           "x": [
            1.285430217839602,
            0.9802584917481915
           ],
           "y": [
            0.09111134579415192,
            1.1090495819286699
           ],
           "z": [
            23.077426201311113,
            21.571920655286878
           ]
          },
          {
           "line": {
            "color": "red",
            "width": 5
           },
           "marker": {
            "color": "blue",
            "size": 2
           },
           "text": [
            "RShoulder"
           ],
           "type": "scatter3d",
           "x": [
            -4.716259026162945,
            -2.417234428529946
           ],
           "y": [
            -1.4270346173807402,
            0.6970196198394805
           ],
           "z": [
            23.5145140129101,
            23.948978646793087
           ]
          },
          {
           "line": {
            "color": "red",
            "width": 5
           },
           "marker": {
            "color": "blue",
            "size": 2
           },
           "text": [
            "RElbow"
           ],
           "type": "scatter3d",
           "x": [
            -1.1248653423538333,
            -4.716259026162945
           ],
           "y": [
            -3.489314267840128,
            -1.4270346173807402
           ],
           "z": [
            21.490422867998742,
            23.5145140129101
           ]
          },
          {
           "line": {
            "color": "red",
            "width": 5
           },
           "marker": {
            "color": "blue",
            "size": 2
           },
           "text": [
            "RWrist"
           ],
           "type": "scatter3d",
           "x": [
            -0.45171809241842464,
            -1.1248653423538333
           ],
           "y": [
            -3.6196416859084493,
            -3.489314267840128
           ],
           "z": [
            23.17121328075223,
            21.490422867998742
           ]
          },
          {
           "line": {
            "color": "#1f77b4",
            "width": 1
           },
           "marker": {
            "color": "#1f77b4",
            "size": 1
           },
           "type": "scatter3d",
           "x": [
            -7.68200201222643,
            -11.202351483965106,
            -10.955869104893946,
            -7.261455157517169,
            -6.696189981227148,
            -6.597702295821579,
            -6.51772886461975,
            -3.8476915953707365,
            -0.7970128046349325,
            -5.5020630048652315,
            -4.462829338330973,
            2.1426985093789725,
            -6.550621684435969,
            -4.382364421867683,
            -6.238933645893352,
            -6.0372324143801315,
            -5.622770625880111,
            -4.622031270382943,
            -1.8315147477995466
           ],
           "y": [
            3.4053156803910536,
            3.729440580134272,
            7.115938837216567,
            6.2383953833599834,
            6.738902405987771,
            1.6798788535843796,
            0.426703045092959,
            -8.57887314276572,
            -5.457469816021779,
            -6.145413681234592,
            -2.651627769211558,
            -7.988855680680584,
            1.322022686032784,
            0.4111020926919453,
            3.3084733072069357,
            4.507646719655471,
            1.2562719135064158,
            2.5679035233151972,
            -4.250612202162369
           ],
           "z": [
            1.865911632557168,
            2.0831814398599002,
            2.4502047462026466,
            3.600422432940081,
            3.3586116742422365,
            2.8752883654471493,
            3.1498232277243945,
            4.465394927147864,
            2.7671204675596304,
            3.4168017828747113,
            3.173826242416413,
            3.3530783562129756,
            2.08089440622238,
            3.537429728401681,
            1.885924112360784,
            2.281288795428674,
            3.0206222088432257,
            3.2720535786143525,
            2.7877711354988826
           ]
          },
          {
           "color": "#00FFFF",
           "type": "mesh3d",
           "x": [
            -50,
            50,
            -50,
            50
           ],
           "y": [
            -50,
            50,
            50,
            -50
           ],
           "z": [
            0,
            0,
            0,
            0
           ]
          }
         ],
         "name": "frame20"
        },
        {
         "data": [
          {
           "line": {
            "color": "red",
            "width": 5
           },
           "marker": {
            "color": "blue",
            "size": 2
           },
           "text": [
            "RHip"
           ],
           "type": "scatter3d",
           "x": [
            -3.2511576125033015,
            -1.76297
           ],
           "y": [
            4.416452734676283,
            4.81958
           ],
           "z": [
            15.861528929155943,
            17.9344
           ]
          },
          {
           "line": {
            "color": "red",
            "width": 5
           },
           "marker": {
            "color": "blue",
            "size": 2
           },
           "text": [
            "RKnee"
           ],
           "type": "scatter3d",
           "x": [
            -4.049625451962417,
            -3.2511576125033015
           ],
           "y": [
            2.446216420271699,
            4.416452734676283
           ],
           "z": [
            8.75105294020683,
            15.861528929155943
           ]
          },
          {
           "line": {
            "color": "red",
            "width": 5
           },
           "marker": {
            "color": "blue",
            "size": 2
           },
           "text": [
            "RAnkle"
           ],
           "type": "scatter3d",
           "x": [
            -5.336259744172091,
            -4.049625451962417
           ],
           "y": [
            7.660506207376087,
            2.446216420271699
           ],
           "z": [
            2.5428062168417425,
            8.75105294020683
           ]
          },
          {
           "line": {
            "color": "black",
            "width": 5
           },
           "marker": {
            "color": "blue",
            "size": 2
           },
           "text": [
            "LHip"
           ],
           "type": "scatter3d",
           "x": [
            -0.1336047556001254,
            -1.76297
           ],
           "y": [
            3.849792651115132,
            4.81958
           ],
           "z": [
            16.218262050646544,
            17.9344
           ]
          },
          {
           "line": {
            "color": "black",
            "width": 5
           },
           "marker": {
            "color": "blue",
            "size": 2
           },
           "text": [
            "LKnee"
           ],
           "type": "scatter3d",
           "x": [
            1.1295414967603956,
            -0.1336047556001254
           ],
           "y": [
            1.3046878443877445,
            3.849792651115132
           ],
           "z": [
            9.156838844019447,
            16.218262050646544
           ]
          },
          {
           "line": {
            "color": "black",
            "width": 5
           },
           "marker": {
            "color": "blue",
            "size": 2
           },
           "text": [
            "LAnkle"
           ],
           "type": "scatter3d",
           "x": [
            3.3542337752529923,
            1.1295414967603956
           ],
           "y": [
            4.93280641375168,
            1.3046878443877445
           ],
           "z": [
            2.2368837051978527,
            9.156838844019447
           ]
          },
          {
           "line": {
            "color": "black",
            "width": 5
           },
           "marker": {
            "color": "blue",
            "size": 2
           },
           "text": [
            "Spine1"
           ],
           "type": "scatter3d",
           "x": [
            -2.1338866447369718,
            -1.76297
           ],
           "y": [
            4.580444826073762,
            4.81958
           ],
           "z": [
            21.919767590736896,
            17.9344
           ]
          },
          {
           "line": {
            "color": "black",
            "width": 5
           },
           "marker": {
            "color": "blue",
            "size": 2
           },
           "text": [
            "Neck"
           ],
           "type": "scatter3d",
           "x": [
            -2.5526474636187597,
            -2.1338866447369718
           ],
           "y": [
            4.120148144531844,
            4.580444826073762
           ],
           "z": [
            25.670356386190793,
            21.919767590736896
           ]
          },
          {
           "line": {
            "color": "black",
            "width": 5
           },
           "marker": {
            "color": "blue",
            "size": 2
           },
           "text": [
            "Head"
           ],
           "type": "scatter3d",
           "x": [
            -2.4968833135557436,
            -2.5526474636187597
           ],
           "y": [
            3.7758151260621715,
            4.120148144531844
           ],
           "z": [
            27.415547574966485,
            25.670356386190793
           ]
          },
          {
           "line": {
            "color": "black",
            "width": 5
           },
           "marker": {
            "color": "blue",
            "size": 2
           },
           "text": [
            "Site"
           ],
           "type": "scatter3d",
           "x": [
            -2.446954753706562,
            -2.4968833135557436
           ],
           "y": [
            3.231029198912207,
            3.7758151260621715
           ],
           "z": [
            29.112158230375286,
            27.415547574966485
           ]
          },
          {
           "line": {
            "color": "black",
            "width": 5
           },
           "marker": {
            "color": "blue",
            "size": 2
           },
           "text": [
            "LShoulder"
           ],
           "type": "scatter3d",
           "x": [
            1.0308163409367652,
            -2.5526474636187597
           ],
           "y": [
            4.184557085310029,
            4.120148144531844
           ],
           "z": [
            25.50773132145676,
            25.670356386190793
           ]
          },
          {
           "line": {
            "color": "black",
            "width": 5
           },
           "marker": {
            "color": "blue",
            "size": 2
           },
           "text": [
            "LElbow"
           ],
           "type": "scatter3d",
           "x": [
            1.1172787157686221,
            1.0308163409367652
           ],
           "y": [
            1.4452731258402656,
            4.184557085310029
           ],
           "z": [
            24.178709109472358,
            25.50773132145676
           ]
          },
          {
           "line": {
            "color": "black",
            "width": 5
           },
           "marker": {
            "color": "blue",
            "size": 2
           },
           "text": [
            "LWrist"
           ],
           "type": "scatter3d",
           "x": [
            0.5106406462264211,
            1.1172787157686221
           ],
           "y": [
            1.169301241681198,
            1.4452731258402656
           ],
           "z": [
            25.89676171513838,
            24.178709109472358
           ]
          },
          {
           "line": {
            "color": "red",
            "width": 5
           },
           "marker": {
            "color": "blue",
            "size": 2
           },
           "text": [
            "RShoulder"
           ],
           "type": "scatter3d",
           "x": [
            -5.397784426408819,
            -2.5526474636187597
           ],
           "y": [
            4.699844280347371,
            4.120148144531844
           ],
           "z": [
            25.058368815043117,
            25.670356386190793
           ]
          },
          {
           "line": {
            "color": "red",
            "width": 5
           },
           "marker": {
            "color": "blue",
            "size": 2
           },
           "text": [
            "RElbow"
           ],
           "type": "scatter3d",
           "x": [
            -5.0472781770228865,
            -5.397784426408819
           ],
           "y": [
            0.8620842457003125,
            4.699844280347371
           ],
           "z": [
            23.993685750481653,
            25.058368815043117
           ]
          },
          {
           "line": {
            "color": "red",
            "width": 5
           },
           "marker": {
            "color": "blue",
            "size": 2
           },
           "text": [
            "RWrist"
           ],
           "type": "scatter3d",
           "x": [
            -4.523809464315982,
            -5.0472781770228865
           ],
           "y": [
            0.9577880122505943,
            0.8620842457003125
           ],
           "z": [
            25.72919436857753,
            23.993685750481653
           ]
          },
          {
           "line": {
            "color": "#1f77b4",
            "width": 1
           },
           "marker": {
            "color": "#1f77b4",
            "size": 1
           },
           "type": "scatter3d",
           "x": [
            -7.68200201222643,
            -11.202351483965106,
            -10.955869104893946,
            -7.261455157517169,
            -6.696189981227148,
            -6.597702295821579,
            -6.51772886461975,
            -3.8476915953707365,
            -0.7970128046349325,
            -5.5020630048652315,
            -4.462829338330973,
            2.1426985093789725,
            -6.550621684435969,
            -4.382364421867683,
            -6.238933645893352,
            -6.0372324143801315,
            -5.622770625880111,
            -4.622031270382943,
            -1.8315147477995466,
            -8.80699809751267
           ],
           "y": [
            3.4053156803910536,
            3.729440580134272,
            7.115938837216567,
            6.2383953833599834,
            6.738902405987771,
            1.6798788535843796,
            0.426703045092959,
            -8.57887314276572,
            -5.457469816021779,
            -6.145413681234592,
            -2.651627769211558,
            -7.988855680680584,
            1.322022686032784,
            0.4111020926919453,
            3.3084733072069357,
            4.507646719655471,
            1.2562719135064158,
            2.5679035233151972,
            -4.250612202162369,
            -1.208029219654247
           ],
           "z": [
            1.865911632557168,
            2.0831814398599002,
            2.4502047462026466,
            3.600422432940081,
            3.3586116742422365,
            2.8752883654471493,
            3.1498232277243945,
            4.465394927147864,
            2.7671204675596304,
            3.4168017828747113,
            3.173826242416413,
            3.3530783562129756,
            2.08089440622238,
            3.537429728401681,
            1.885924112360784,
            2.281288795428674,
            3.0206222088432257,
            3.2720535786143525,
            2.7877711354988826,
            1.5074967845823197
           ]
          },
          {
           "color": "#00FFFF",
           "type": "mesh3d",
           "x": [
            -50,
            50,
            -50,
            50
           ],
           "y": [
            -50,
            50,
            50,
            -50
           ],
           "z": [
            0,
            0,
            0,
            0
           ]
          }
         ],
         "name": "frame21"
        },
        {
         "data": [
          {
           "line": {
            "color": "red",
            "width": 5
           },
           "marker": {
            "color": "blue",
            "size": 2
           },
           "text": [
            "RHip"
           ],
           "type": "scatter3d",
           "x": [
            4.317871392853632,
            4.91369
           ],
           "y": [
            -4.074658853477304,
            -2.60486
           ],
           "z": [
            14.14431091894925,
            16.1836
           ]
          },
          {
           "line": {
            "color": "red",
            "width": 5
           },
           "marker": {
            "color": "blue",
            "size": 2
           },
           "text": [
            "RKnee"
           ],
           "type": "scatter3d",
           "x": [
            3.159540136390708,
            4.317871392853632
           ],
           "y": [
            -2.6689035319645895,
            -4.074658853477304
           ],
           "z": [
            6.949842801637818,
            14.14431091894925
           ]
          },
          {
           "line": {
            "color": "red",
            "width": 5
           },
           "marker": {
            "color": "blue",
            "size": 2
           },
           "text": [
            "RAnkle"
           ],
           "type": "scatter3d",
           "x": [
            -3.3386011500038735,
            3.159540136390708
           ],
           "y": [
            1.1225209147164903,
            -2.6689035319645895
           ],
           "z": [
            3.6656635052035282,
            6.949842801637818
           ]
          },
          {
           "line": {
            "color": "black",
            "width": 5
           },
           "marker": {
            "color": "blue",
            "size": 2
           },
           "text": [
            "LHip"
           ],
           "type": "scatter3d",
           "x": [
            5.8461591832536985,
            4.91369
           ],
           "y": [
            -1.2768178666283128,
            -2.60486
           ],
           "z": [
            14.206922642109175,
            16.1836
           ]
          },
          {
           "line": {
            "color": "black",
            "width": 5
           },
           "marker": {
            "color": "blue",
            "size": 2
           },
           "text": [
            "LKnee"
           ],
           "type": "scatter3d",
           "x": [
            10.637542364842833,
            5.8461591832536985
           ],
           "y": [
            -4.716408645686633,
            -1.2768178666283128
           ],
           "z": [
            9.39561750576906,
            14.206922642109175
           ]
          },
          {
           "line": {
            "color": "black",
            "width": 5
           },
           "marker": {
            "color": "blue",
            "size": 2
           },
           "text": [
            "LAnkle"
           ],
           "type": "scatter3d",
           "x": [
            10.401327878009745,
            10.637542364842833
           ],
           "y": [
            -2.9296354803262927,
            -4.716408645686633
           ],
           "z": [
            1.4741325703286234,
            9.39561750576906
           ]
          },
          {
           "line": {
            "color": "black",
            "width": 5
           },
           "marker": {
            "color": "blue",
            "size": 2
           },
           "text": [
            "Spine1"
           ],
           "type": "scatter3d",
           "x": [
            6.291516954640396,
            4.91369
           ],
           "y": [
            -3.08689569380194,
            -2.60486
           ],
           "z": [
            19.907906488506715,
            16.1836
           ]
          },
          {
           "line": {
            "color": "black",
            "width": 5
           },
           "marker": {
            "color": "blue",
            "size": 2
           },
           "text": [
            "Neck"
           ],
           "type": "scatter3d",
           "x": [
            8.346336057231339,
            6.291516954640396
           ],
           "y": [
            -2.8916317891352596,
            -3.08689569380194
           ],
           "z": [
            23.074302709191304,
            19.907906488506715
           ]
          },
          {
           "line": {
            "color": "black",
            "width": 5
           },
           "marker": {
            "color": "blue",
            "size": 2
           },
           "text": [
            "Head"
           ],
           "type": "scatter3d",
           "x": [
            9.375969950897382,
            8.346336057231339
           ],
           "y": [
            -3.2384052505464567,
            -2.8916317891352596
           ],
           "z": [
            24.483901717738064,
            23.074302709191304
           ]
          },
          {
           "line": {
            "color": "black",
            "width": 5
           },
           "marker": {
            "color": "blue",
            "size": 2
           },
           "text": [
            "Site"
           ],
           "type": "scatter3d",
           "x": [
            10.389390610809023,
            9.375969950897382
           ],
           "y": [
            -3.8866044092314644,
            -3.2384052505464567
           ],
           "z": [
            25.7994201327746,
            24.483901717738064
           ]
          },
          {
           "line": {
            "color": "black",
            "width": 5
           },
           "marker": {
            "color": "blue",
            "size": 2
           },
           "text": [
            "LShoulder"
           ],
           "type": "scatter3d",
           "x": [
            7.603308290623727,
            8.346336057231339
           ],
           "y": [
            0.4459998986736977,
            -2.8916317891352596
           ],
           "z": [
            22.881693307914883,
            23.074302709191304
           ]
          },
          {
           "line": {
            "color": "black",
            "width": 5
           },
           "marker": {
            "color": "blue",
            "size": 2
           },
           "text": [
            "LElbow"
           ],
           "type": "scatter3d",
           "x": [
            9.947552830953164,
            7.603308290623727
           ],
           "y": [
            -0.6674573539141508,
            0.4459998986736977
           ],
           "z": [
            18.531008304354312,
            22.881693307914883
           ]
          },
          {
           "line": {
            "color": "black",
            "width": 5
           },
           "marker": {
            "color": "blue",
            "size": 2
           },
           "text": [
            "LWrist"
           ],
           "type": "scatter3d",
           "x": [
            11.43603988025123,
            9.947552830953164
           ],
           "y": [
            -1.645119845146044,
            -0.6674573539141508
           ],
           "z": [
            19.00477759568733,
            18.531008304354312
           ]
          },
          {
           "line": {
            "color": "red",
            "width": 5
           },
           "marker": {
            "color": "blue",
            "size": 2
           },
           "text": [
            "RShoulder"
           ],
           "type": "scatter3d",
           "x": [
            7.557325882387322,
            8.346336057231339
           ],
           "y": [
            -6.014126640883043,
            -2.8916317891352596
           ],
           "z": [
            23.124605004840905,
            23.074302709191304
           ]
          },
          {
           "line": {
            "color": "red",
            "width": 5
           },
           "marker": {
            "color": "blue",
            "size": 2
           },
           "text": [
            "RElbow"
           ],
           "type": "scatter3d",
           "x": [
            13.995914046937326,
            7.557325882387322
           ],
           "y": [
            -12.025266160023294,
            -6.014126640883043
           ],
           "z": [
            22.667652330012345,
            23.124605004840905
           ]
          },
          {
           "line": {
            "color": "red",
            "width": 5
           },
           "marker": {
            "color": "blue",
            "size": 2
           },
           "text": [
            "RWrist"
           ],
           "type": "scatter3d",
           "x": [
            15.482434940691036,
            13.995914046937326
           ],
           "y": [
            -12.724555902654984,
            -12.025266160023294
           ],
           "z": [
            23.439933597352024,
            22.667652330012345
           ]
          },
          {
           "line": {
            "color": "#1f77b4",
            "width": 1
           },
           "marker": {
            "color": "#1f77b4",
            "size": 1
           },
           "type": "scatter3d",
           "x": [
            -7.68200201222643,
            -11.202351483965106,
            -10.955869104893946,
            -7.261455157517169,
            -6.696189981227148,
            -6.597702295821579,
            -6.51772886461975,
            -3.8476915953707365,
            -0.7970128046349325,
            -5.5020630048652315,
            -4.462829338330973,
            2.1426985093789725,
            -6.550621684435969,
            -4.382364421867683,
            -6.238933645893352,
            -6.0372324143801315,
            -5.622770625880111,
            -4.622031270382943,
            -1.8315147477995466,
            -8.80699809751267,
            -5.336259744172091
           ],
           "y": [
            3.4053156803910536,
            3.729440580134272,
            7.115938837216567,
            6.2383953833599834,
            6.738902405987771,
            1.6798788535843796,
            0.426703045092959,
            -8.57887314276572,
            -5.457469816021779,
            -6.145413681234592,
            -2.651627769211558,
            -7.988855680680584,
            1.322022686032784,
            0.4111020926919453,
            3.3084733072069357,
            4.507646719655471,
            1.2562719135064158,
            2.5679035233151972,
            -4.250612202162369,
            -1.208029219654247,
            7.660506207376087
           ],
           "z": [
            1.865911632557168,
            2.0831814398599002,
            2.4502047462026466,
            3.600422432940081,
            3.3586116742422365,
            2.8752883654471493,
            3.1498232277243945,
            4.465394927147864,
            2.7671204675596304,
            3.4168017828747113,
            3.173826242416413,
            3.3530783562129756,
            2.08089440622238,
            3.537429728401681,
            1.885924112360784,
            2.281288795428674,
            3.0206222088432257,
            3.2720535786143525,
            2.7877711354988826,
            1.5074967845823197,
            2.5428062168417425
           ]
          },
          {
           "color": "#00FFFF",
           "type": "mesh3d",
           "x": [
            -50,
            50,
            -50,
            50
           ],
           "y": [
            -50,
            50,
            50,
            -50
           ],
           "z": [
            0,
            0,
            0,
            0
           ]
          }
         ],
         "name": "frame22"
        },
        {
         "data": [
          {
           "line": {
            "color": "red",
            "width": 5
           },
           "marker": {
            "color": "blue",
            "size": 2
           },
           "text": [
            "RHip"
           ],
           "type": "scatter3d",
           "x": [
            2.2084717380835333,
            4.254
           ],
           "y": [
            -4.287721637366236,
            -3.89216
           ],
           "z": [
            15.004868147912132,
            16.5324
           ]
          },
          {
           "line": {
            "color": "red",
            "width": 5
           },
           "marker": {
            "color": "blue",
            "size": 2
           },
           "text": [
            "RKnee"
           ],
           "type": "scatter3d",
           "x": [
            -0.9966513972045483,
            2.2084717380835333
           ],
           "y": [
            -4.656837790972483,
            -4.287721637366236
           ],
           "z": [
            8.321366837411848,
            15.004868147912132
           ]
          },
          {
           "line": {
            "color": "red",
            "width": 5
           },
           "marker": {
            "color": "blue",
            "size": 2
           },
           "text": [
            "RAnkle"
           ],
           "type": "scatter3d",
           "x": [
            -6.154514249840276,
            -0.9966513972045483
           ],
           "y": [
            -0.12399672775587334,
            -4.656837790972483
           ],
           "z": [
            3.822880886229819,
            8.321366837411848
           ]
          },
          {
           "line": {
            "color": "black",
            "width": 5
           },
           "marker": {
            "color": "blue",
            "size": 2
           },
           "text": [
            "LHip"
           ],
           "type": "scatter3d",
           "x": [
            5.264498489266858,
            4.254
           ],
           "y": [
            -3.8967518642807213,
            -3.89216
           ],
           "z": [
            14.183076739803925,
            16.5324
           ]
          },
          {
           "line": {
            "color": "black",
            "width": 5
           },
           "marker": {
            "color": "blue",
            "size": 2
           },
           "text": [
            "LKnee"
           ],
           "type": "scatter3d",
           "x": [
            7.056297501680328,
            5.264498489266858
           ],
           "y": [
            -9.111233619387132,
            -3.8967518642807213
           ],
           "z": [
            8.93565537689171,
            14.183076739803925
           ]
          },
          {
           "line": {
            "color": "black",
            "width": 5
           },
           "marker": {
            "color": "blue",
            "size": 2
           },
           "text": [
            "LAnkle"
           ],
           "type": "scatter3d",
           "x": [
            9.432832250137098,
            7.056297501680328
           ],
           "y": [
            -7.509969397041802,
            -9.111233619387132
           ],
           "z": [
            1.3339243444053794,
            8.93565537689171
           ]
          },
          {
           "line": {
            "color": "black",
            "width": 5
           },
           "marker": {
            "color": "blue",
            "size": 2
           },
           "text": [
            "Spine1"
           ],
           "type": "scatter3d",
           "x": [
            5.862490846055734,
            4.254
           ],
           "y": [
            -5.579522790224285,
            -3.89216
           ],
           "z": [
            19.778373524904417,
            16.5324
           ]
          },
          {
           "line": {
            "color": "black",
            "width": 5
           },
           "marker": {
            "color": "blue",
            "size": 2
           },
           "text": [
            "Neck"
           ],
           "type": "scatter3d",
           "x": [
            7.84044622297574,
            5.862490846055734
           ],
           "y": [
            -7.368914349952555,
            -5.579522790224285
           ],
           "z": [
            22.485040627914163,
            19.778373524904417
           ]
          },
          {
           "line": {
            "color": "black",
            "width": 5
           },
           "marker": {
            "color": "blue",
            "size": 2
           },
           "text": [
            "Head"
           ],
           "type": "scatter3d",
           "x": [
            8.855706841396948,
            7.84044622297574
           ],
           "y": [
            -8.663620299133353,
            -7.368914349952555
           ],
           "z": [
            23.16353125810727,
            22.485040627914163
           ]
          },
          {
           "line": {
            "color": "black",
            "width": 5
           },
           "marker": {
            "color": "blue",
            "size": 2
           },
           "text": [
            "Site"
           ],
           "type": "scatter3d",
           "x": [
            9.74239224366159,
            8.855706841396948
           ],
           "y": [
            -10.165919235900073,
            -8.663620299133353
           ],
           "z": [
            23.53049063672609,
            23.16353125810727
           ]
          },
          {
           "line": {
            "color": "black",
            "width": 5
           },
           "marker": {
            "color": "blue",
            "size": 2
           },
           "text": [
            "LShoulder"
           ],
           "type": "scatter3d",
           "x": [
            10.527269516658285,
            7.84044622297574
           ],
           "y": [
            -5.916839422780148,
            -7.368914349952555
           ],
           "z": [
            20.86078438380835,
            22.485040627914163
           ]
          },
          {
           "line": {
            "color": "black",
            "width": 5
           },
           "marker": {
            "color": "blue",
            "size": 2
           },
           "text": [
            "LElbow"
           ],
           "type": "scatter3d",
           "x": [
            10.403935619047784,
            10.527269516658285
           ],
           "y": [
            -10.664535894966649,
            -5.916839422780148
           ],
           "z": [
            16.809964487466022,
            20.86078438380835
           ]
          },
          {
           "line": {
            "color": "black",
            "width": 5
           },
           "marker": {
            "color": "blue",
            "size": 2
           },
           "text": [
            "LWrist"
           ],
           "type": "scatter3d",
           "x": [
            10.74628093363349,
            10.403935619047784
           ],
           "y": [
            -12.385162409633505,
            -10.664535894966649
           ],
           "z": [
            17.373984936303298,
            16.809964487466022
           ]
          },
          {
           "line": {
            "color": "red",
            "width": 5
           },
           "marker": {
            "color": "blue",
            "size": 2
           },
           "text": [
            "RShoulder"
           ],
           "type": "scatter3d",
           "x": [
            4.993591977980916,
            7.84044622297574
           ],
           "y": [
            -7.726145515601664,
            -7.368914349952555
           ],
           "z": [
            23.671332327159,
            22.485040627914163
           ]
          },
          {
           "line": {
            "color": "red",
            "width": 5
           },
           "marker": {
            "color": "blue",
            "size": 2
           },
           "text": [
            "RElbow"
           ],
           "type": "scatter3d",
           "x": [
            0.14394132254210434,
            4.993591977980916
           ],
           "y": [
            -5.893016129506115,
            -7.726145515601664
           ],
           "z": [
            17.356486745221105,
            23.671332327159
           ]
          },
          {
           "line": {
            "color": "red",
            "width": 5
           },
           "marker": {
            "color": "blue",
            "size": 2
           },
           "text": [
            "RWrist"
           ],
           "type": "scatter3d",
           "x": [
            -0.2546050293283638,
            0.14394132254210434
           ],
           "y": [
            -6.648759146921286,
            -5.893016129506115
           ],
           "z": [
            15.754868137487367,
            17.356486745221105
           ]
          },
          {
           "line": {
            "color": "#1f77b4",
            "width": 1
           },
           "marker": {
            "color": "#1f77b4",
            "size": 1
           },
           "type": "scatter3d",
           "x": [
            -7.68200201222643,
            -11.202351483965106,
            -10.955869104893946,
            -7.261455157517169,
            -6.696189981227148,
            -6.597702295821579,
            -6.51772886461975,
            -3.8476915953707365,
            -0.7970128046349325,
            -5.5020630048652315,
            -4.462829338330973,
            2.1426985093789725,
            -6.550621684435969,
            -4.382364421867683,
            -6.238933645893352,
            -6.0372324143801315,
            -5.622770625880111,
            -4.622031270382943,
            -1.8315147477995466,
            -8.80699809751267,
            -5.336259744172091,
            -3.3386011500038735
           ],
           "y": [
            3.4053156803910536,
            3.729440580134272,
            7.115938837216567,
            6.2383953833599834,
            6.738902405987771,
            1.6798788535843796,
            0.426703045092959,
            -8.57887314276572,
            -5.457469816021779,
            -6.145413681234592,
            -2.651627769211558,
            -7.988855680680584,
            1.322022686032784,
            0.4111020926919453,
            3.3084733072069357,
            4.507646719655471,
            1.2562719135064158,
            2.5679035233151972,
            -4.250612202162369,
            -1.208029219654247,
            7.660506207376087,
            1.1225209147164903
           ],
           "z": [
            1.865911632557168,
            2.0831814398599002,
            2.4502047462026466,
            3.600422432940081,
            3.3586116742422365,
            2.8752883654471493,
            3.1498232277243945,
            4.465394927147864,
            2.7671204675596304,
            3.4168017828747113,
            3.173826242416413,
            3.3530783562129756,
            2.08089440622238,
            3.537429728401681,
            1.885924112360784,
            2.281288795428674,
            3.0206222088432257,
            3.2720535786143525,
            2.7877711354988826,
            1.5074967845823197,
            2.5428062168417425,
            3.6656635052035282
           ]
          },
          {
           "color": "#00FFFF",
           "type": "mesh3d",
           "x": [
            -50,
            50,
            -50,
            50
           ],
           "y": [
            -50,
            50,
            50,
            -50
           ],
           "z": [
            0,
            0,
            0,
            0
           ]
          }
         ],
         "name": "frame23"
        },
        {
         "data": [
          {
           "line": {
            "color": "red",
            "width": 5
           },
           "marker": {
            "color": "blue",
            "size": 2
           },
           "text": [
            "RHip"
           ],
           "type": "scatter3d",
           "x": [
            0.42799250452260695,
            2.18963
           ],
           "y": [
            0.48000038326292244,
            0.390756
           ],
           "z": [
            15.506594446900355,
            17.3941
           ]
          },
          {
           "line": {
            "color": "red",
            "width": 5
           },
           "marker": {
            "color": "blue",
            "size": 2
           },
           "text": [
            "RKnee"
           ],
           "type": "scatter3d",
           "x": [
            -1.1461193471945885,
            0.42799250452260695
           ],
           "y": [
            0.6405674226564574,
            0.48000038326292244
           ],
           "z": [
            8.255757190499214,
            15.506594446900355
           ]
          },
          {
           "line": {
            "color": "red",
            "width": 5
           },
           "marker": {
            "color": "blue",
            "size": 2
           },
           "text": [
            "RAnkle"
           ],
           "type": "scatter3d",
           "x": [
            -2.3716164831946065,
            -1.1461193471945885
           ],
           "y": [
            6.2154445047511295,
            0.6405674226564574
           ],
           "z": [
            2.35614063913287,
            8.255757190499214
           ]
          },
          {
           "line": {
            "color": "black",
            "width": 5
           },
           "marker": {
            "color": "blue",
            "size": 2
           },
           "text": [
            "LHip"
           ],
           "type": "scatter3d",
           "x": [
            3.478775290291943,
            2.18963
           ],
           "y": [
            -0.43326398163467683,
            0.390756
           ],
           "z": [
            15.34482121142306,
            17.3941
           ]
          },
          {
           "line": {
            "color": "black",
            "width": 5
           },
           "marker": {
            "color": "blue",
            "size": 2
           },
           "text": [
            "LKnee"
           ],
           "type": "scatter3d",
           "x": [
            4.2589930779367,
            3.478775290291943
           ],
           "y": [
            -3.4589578893093496,
            -0.43326398163467683
           ],
           "z": [
            8.404127354460769,
            15.34482121142306
           ]
          },
          {
           "line": {
            "color": "black",
            "width": 5
           },
           "marker": {
            "color": "blue",
            "size": 2
           },
           "text": [
            "LAnkle"
           ],
           "type": "scatter3d",
           "x": [
            6.206554955411117,
            4.2589930779367
           ],
           "y": [
            0.9575543305835552,
            -3.4589578893093496
           ],
           "z": [
            1.8696264740877044,
            8.404127354460769
           ]
          },
          {
           "line": {
            "color": "black",
            "width": 5
           },
           "marker": {
            "color": "blue",
            "size": 2
           },
           "text": [
            "Spine1"
           ],
           "type": "scatter3d",
           "x": [
            2.0658804583342922,
            2.18963
           ],
           "y": [
            -0.5549616709212942,
            0.390756
           ],
           "z": [
            21.28933497551861,
            17.3941
           ]
          },
          {
           "line": {
            "color": "black",
            "width": 5
           },
           "marker": {
            "color": "blue",
            "size": 2
           },
           "text": [
            "Neck"
           ],
           "type": "scatter3d",
           "x": [
            1.9907447870685855,
            2.0658804583342922
           ],
           "y": [
            -1.7293556736913016,
            -0.5549616709212942
           ],
           "z": [
            24.902478838015906,
            21.28933497551861
           ]
          },
          {
           "line": {
            "color": "black",
            "width": 5
           },
           "marker": {
            "color": "blue",
            "size": 2
           },
           "text": [
            "Head"
           ],
           "type": "scatter3d",
           "x": [
            1.948463808260368,
            1.9907447870685855
           ],
           "y": [
            -2.347165283327028,
            -1.7293556736913016
           ],
           "z": [
            26.570978391055636,
            24.902478838015906
           ]
          },
          {
           "line": {
            "color": "black",
            "width": 5
           },
           "marker": {
            "color": "blue",
            "size": 2
           },
           "text": [
            "Site"
           ],
           "type": "scatter3d",
           "x": [
            1.814043631760617,
            1.948463808260368
           ],
           "y": [
            -3.0923579402185553,
            -2.347165283327028
           ],
           "z": [
            28.184791082733533,
            26.570978391055636
           ]
          },
          {
           "line": {
            "color": "black",
            "width": 5
           },
           "marker": {
            "color": "blue",
            "size": 2
           },
           "text": [
            "LShoulder"
           ],
           "type": "scatter3d",
           "x": [
            5.523675439312539,
            1.9907447870685855
           ],
           "y": [
            -1.5586349548967022,
            -1.7293556736913016
           ],
           "z": [
            24.46452782514777,
            24.902478838015906
           ]
          },
          {
           "line": {
            "color": "black",
            "width": 5
           },
           "marker": {
            "color": "blue",
            "size": 2
           },
           "text": [
            "LElbow"
           ],
           "type": "scatter3d",
           "x": [
            6.123017438249542,
            5.523675439312539
           ],
           "y": [
            -3.26975598461548,
            -1.5586349548967022
           ],
           "z": [
            22.185500942660518,
            24.46452782514777
           ]
          },
          {
           "line": {
            "color": "black",
            "width": 5
           },
           "marker": {
            "color": "blue",
            "size": 2
           },
           "text": [
            "LWrist"
           ],
           "type": "scatter3d",
           "x": [
            5.85162366549744,
            6.123017438249542
           ],
           "y": [
            -4.314482794560063,
            -3.26975598461548
           ],
           "z": [
            23.679075948073503,
            22.185500942660518
           ]
          },
          {
           "line": {
            "color": "red",
            "width": 5
           },
           "marker": {
            "color": "blue",
            "size": 2
           },
           "text": [
            "RShoulder"
           ],
           "type": "scatter3d",
           "x": [
            -0.9018721887033454,
            1.9907447870685855
           ],
           "y": [
            -0.8852990325677251,
            -1.7293556736913016
           ],
           "z": [
            24.695421301142392,
            24.902478838015906
           ]
          },
          {
           "line": {
            "color": "red",
            "width": 5
           },
           "marker": {
            "color": "blue",
            "size": 2
           },
           "text": [
            "RElbow"
           ],
           "type": "scatter3d",
           "x": [
            -0.7962752300991917,
            -0.9018721887033454
           ],
           "y": [
            -4.455126175628903,
            -0.8852990325677251
           ],
           "z": [
            21.57881536087976,
            24.695421301142392
           ]
          },
          {
           "line": {
            "color": "red",
            "width": 5
           },
           "marker": {
            "color": "blue",
            "size": 2
           },
           "text": [
            "RWrist"
           ],
           "type": "scatter3d",
           "x": [
            -0.36846222041293664,
            -0.7962752300991917
           ],
           "y": [
            -5.54113226450406,
            -4.455126175628903
           ],
           "z": [
            22.96904400080532,
            21.57881536087976
           ]
          },
          {
           "line": {
            "color": "#1f77b4",
            "width": 1
           },
           "marker": {
            "color": "#1f77b4",
            "size": 1
           },
           "type": "scatter3d",
           "x": [
            -7.68200201222643,
            -11.202351483965106,
            -10.955869104893946,
            -7.261455157517169,
            -6.696189981227148,
            -6.597702295821579,
            -6.51772886461975,
            -3.8476915953707365,
            -0.7970128046349325,
            -5.5020630048652315,
            -4.462829338330973,
            2.1426985093789725,
            -6.550621684435969,
            -4.382364421867683,
            -6.238933645893352,
            -6.0372324143801315,
            -5.622770625880111,
            -4.622031270382943,
            -1.8315147477995466,
            -8.80699809751267,
            -5.336259744172091,
            -3.3386011500038735,
            -6.154514249840276
           ],
           "y": [
            3.4053156803910536,
            3.729440580134272,
            7.115938837216567,
            6.2383953833599834,
            6.738902405987771,
            1.6798788535843796,
            0.426703045092959,
            -8.57887314276572,
            -5.457469816021779,
            -6.145413681234592,
            -2.651627769211558,
            -7.988855680680584,
            1.322022686032784,
            0.4111020926919453,
            3.3084733072069357,
            4.507646719655471,
            1.2562719135064158,
            2.5679035233151972,
            -4.250612202162369,
            -1.208029219654247,
            7.660506207376087,
            1.1225209147164903,
            -0.12399672775587334
           ],
           "z": [
            1.865911632557168,
            2.0831814398599002,
            2.4502047462026466,
            3.600422432940081,
            3.3586116742422365,
            2.8752883654471493,
            3.1498232277243945,
            4.465394927147864,
            2.7671204675596304,
            3.4168017828747113,
            3.173826242416413,
            3.3530783562129756,
            2.08089440622238,
            3.537429728401681,
            1.885924112360784,
            2.281288795428674,
            3.0206222088432257,
            3.2720535786143525,
            2.7877711354988826,
            1.5074967845823197,
            2.5428062168417425,
            3.6656635052035282,
            3.822880886229819
           ]
          },
          {
           "color": "#00FFFF",
           "type": "mesh3d",
           "x": [
            -50,
            50,
            -50,
            50
           ],
           "y": [
            -50,
            50,
            50,
            -50
           ],
           "z": [
            0,
            0,
            0,
            0
           ]
          }
         ],
         "name": "frame24"
        },
        {
         "data": [
          {
           "line": {
            "color": "red",
            "width": 5
           },
           "marker": {
            "color": "blue",
            "size": 2
           },
           "text": [
            "RHip"
           ],
           "type": "scatter3d",
           "x": [
            2.8265007111131952,
            3.88497
           ],
           "y": [
            -2.4490091572412465,
            -1.50937
           ],
           "z": [
            13.645712951857183,
            15.8069
           ]
          },
          {
           "line": {
            "color": "red",
            "width": 5
           },
           "marker": {
            "color": "blue",
            "size": 2
           },
           "text": [
            "RKnee"
           ],
           "type": "scatter3d",
           "x": [
            1.506877716526451,
            2.8265007111131952
           ],
           "y": [
            -0.9899597982395456,
            -2.4490091572412465
           ],
           "z": [
            6.489734965947386,
            13.645712951857183
           ]
          },
          {
           "line": {
            "color": "red",
            "width": 5
           },
           "marker": {
            "color": "blue",
            "size": 2
           },
           "text": [
            "RAnkle"
           ],
           "type": "scatter3d",
           "x": [
            -3.7972808897935995,
            1.506877716526451
           ],
           "y": [
            4.537339874920296,
            -0.9899597982395456
           ],
           "z": [
            3.5399158247028906,
            6.489734965947386
           ]
          },
          {
           "line": {
            "color": "black",
            "width": 5
           },
           "marker": {
            "color": "blue",
            "size": 2
           },
           "text": [
            "LHip"
           ],
           "type": "scatter3d",
           "x": [
            5.2961253063737725,
            3.88497
           ],
           "y": [
            -0.4554545765361193,
            -1.50937
           ],
           "z": [
            13.952620882821419,
            15.8069
           ]
          },
          {
           "line": {
            "color": "black",
            "width": 5
           },
           "marker": {
            "color": "blue",
            "size": 2
           },
           "text": [
            "LKnee"
           ],
           "type": "scatter3d",
           "x": [
            8.677207062665193,
            5.2961253063737725
           ],
           "y": [
            -5.283117080552817,
            -0.4554545765361193
           ],
           "z": [
            9.136112236534611,
            13.952620882821419
           ]
          },
          {
           "line": {
            "color": "black",
            "width": 5
           },
           "marker": {
            "color": "blue",
            "size": 2
           },
           "text": [
            "LAnkle"
           ],
           "type": "scatter3d",
           "x": [
            10.660938670007505,
            8.677207062665193
           ],
           "y": [
            -4.173830425354688,
            -5.283117080552817
           ],
           "z": [
            1.3365884538103199,
            9.136112236534611
           ]
          },
          {
           "line": {
            "color": "black",
            "width": 5
           },
           "marker": {
            "color": "blue",
            "size": 2
           },
           "text": [
            "Spine1"
           ],
           "type": "scatter3d",
           "x": [
            4.909698610407637,
            3.88497
           ],
           "y": [
            -3.019733875310701,
            -1.50937
           ],
           "z": [
            19.37309926325537,
            15.8069
           ]
          },
          {
           "line": {
            "color": "black",
            "width": 5
           },
           "marker": {
            "color": "blue",
            "size": 2
           },
           "text": [
            "Neck"
           ],
           "type": "scatter3d",
           "x": [
            6.487649261364787,
            4.909698610407637
           ],
           "y": [
            -3.8822314029430203,
            -3.019733875310701
           ],
           "z": [
            22.692162573955347,
            19.37309926325537
           ]
          },
          {
           "line": {
            "color": "black",
            "width": 5
           },
           "marker": {
            "color": "blue",
            "size": 2
           },
           "text": [
            "Head"
           ],
           "type": "scatter3d",
           "x": [
            7.645036111469914,
            6.487649261364787
           ],
           "y": [
            -4.122864257639546,
            -3.8822314029430203
           ],
           "z": [
            24.022545474426238,
            22.692162573955347
           ]
          },
          {
           "line": {
            "color": "black",
            "width": 5
           },
           "marker": {
            "color": "blue",
            "size": 2
           },
           "text": [
            "Site"
           ],
           "type": "scatter3d",
           "x": [
            8.889171962047499,
            7.645036111469914
           ],
           "y": [
            -4.577229463380764,
            -4.122864257639546
           ],
           "z": [
            25.2156299344186,
            24.022545474426238
           ]
          },
          {
           "line": {
            "color": "black",
            "width": 5
           },
           "marker": {
            "color": "blue",
            "size": 2
           },
           "text": [
            "LShoulder"
           ],
           "type": "scatter3d",
           "x": [
            7.4384944621188,
            6.487649261364787
           ],
           "y": [
            -0.8660160048991101,
            -3.8822314029430203
           ],
           "z": [
            22.838968086338355,
            22.692162573955347
           ]
          },
          {
           "line": {
            "color": "black",
            "width": 5
           },
           "marker": {
            "color": "blue",
            "size": 2
           },
           "text": [
            "LElbow"
           ],
           "type": "scatter3d",
           "x": [
            8.069898853187595,
            7.4384944621188
           ],
           "y": [
            -0.8359648694865207,
            -0.8660160048991101
           ],
           "z": [
            18.912270411715006,
            22.838968086338355
           ]
          },
          {
           "line": {
            "color": "black",
            "width": 5
           },
           "marker": {
            "color": "blue",
            "size": 2
           },
           "text": [
            "LWrist"
           ],
           "type": "scatter3d",
           "x": [
            9.473624898358151,
            8.069898853187595
           ],
           "y": [
            -2.0125638791780287,
            -0.8359648694865207
           ],
           "z": [
            19.114860995412258,
            18.912270411715006
           ]
          },
          {
           "line": {
            "color": "red",
            "width": 5
           },
           "marker": {
            "color": "blue",
            "size": 2
           },
           "text": [
            "RShoulder"
           ],
           "type": "scatter3d",
           "x": [
            4.468483548593974,
            6.487649261364787
           ],
           "y": [
            -6.567357109142026,
            -3.8822314029430203
           ],
           "z": [
            22.15478962418857,
            22.692162573955347
           ]
          },
          {
           "line": {
            "color": "red",
            "width": 5
           },
           "marker": {
            "color": "blue",
            "size": 2
           },
           "text": [
            "RElbow"
           ],
           "type": "scatter3d",
           "x": [
            8.605585916045289,
            4.468483548593974
           ],
           "y": [
            -10.21533944769592,
            -6.567357109142026
           ],
           "z": [
            17.643525327297873,
            22.15478962418857
           ]
          },
          {
           "line": {
            "color": "red",
            "width": 5
           },
           "marker": {
            "color": "blue",
            "size": 2
           },
           "text": [
            "RWrist"
           ],
           "type": "scatter3d",
           "x": [
            10.004959995675037,
            8.605585916045289
           ],
           "y": [
            -11.201715760124708,
            -10.21533944769592
           ],
           "z": [
            18.246835217105573,
            17.643525327297873
           ]
          },
          {
           "line": {
            "color": "#1f77b4",
            "width": 1
           },
           "marker": {
            "color": "#1f77b4",
            "size": 1
           },
           "type": "scatter3d",
           "x": [
            -7.68200201222643,
            -11.202351483965106,
            -10.955869104893946,
            -7.261455157517169,
            -6.696189981227148,
            -6.597702295821579,
            -6.51772886461975,
            -3.8476915953707365,
            -0.7970128046349325,
            -5.5020630048652315,
            -4.462829338330973,
            2.1426985093789725,
            -6.550621684435969,
            -4.382364421867683,
            -6.238933645893352,
            -6.0372324143801315,
            -5.622770625880111,
            -4.622031270382943,
            -1.8315147477995466,
            -8.80699809751267,
            -5.336259744172091,
            -3.3386011500038735,
            -6.154514249840276,
            -2.3716164831946065
           ],
           "y": [
            3.4053156803910536,
            3.729440580134272,
            7.115938837216567,
            6.2383953833599834,
            6.738902405987771,
            1.6798788535843796,
            0.426703045092959,
            -8.57887314276572,
            -5.457469816021779,
            -6.145413681234592,
            -2.651627769211558,
            -7.988855680680584,
            1.322022686032784,
            0.4111020926919453,
            3.3084733072069357,
            4.507646719655471,
            1.2562719135064158,
            2.5679035233151972,
            -4.250612202162369,
            -1.208029219654247,
            7.660506207376087,
            1.1225209147164903,
            -0.12399672775587334,
            6.2154445047511295
           ],
           "z": [
            1.865911632557168,
            2.0831814398599002,
            2.4502047462026466,
            3.600422432940081,
            3.3586116742422365,
            2.8752883654471493,
            3.1498232277243945,
            4.465394927147864,
            2.7671204675596304,
            3.4168017828747113,
            3.173826242416413,
            3.3530783562129756,
            2.08089440622238,
            3.537429728401681,
            1.885924112360784,
            2.281288795428674,
            3.0206222088432257,
            3.2720535786143525,
            2.7877711354988826,
            1.5074967845823197,
            2.5428062168417425,
            3.6656635052035282,
            3.822880886229819,
            2.35614063913287
           ]
          },
          {
           "color": "#00FFFF",
           "type": "mesh3d",
           "x": [
            -50,
            50,
            -50,
            50
           ],
           "y": [
            -50,
            50,
            50,
            -50
           ],
           "z": [
            0,
            0,
            0,
            0
           ]
          }
         ],
         "name": "frame25"
        },
        {
         "data": [
          {
           "line": {
            "color": "red",
            "width": 5
           },
           "marker": {
            "color": "blue",
            "size": 2
           },
           "text": [
            "RHip"
           ],
           "type": "scatter3d",
           "x": [
            2.277361233994327,
            3.50884
           ],
           "y": [
            -2.6527011498981516,
            -1.69045
           ],
           "z": [
            14.496228972593636,
            16.5533
           ]
          },
          {
           "line": {
            "color": "red",
            "width": 5
           },
           "marker": {
            "color": "blue",
            "size": 2
           },
           "text": [
            "RKnee"
           ],
           "type": "scatter3d",
           "x": [
            0.5161542110561335,
            2.277361233994327
           ],
           "y": [
            -2.8434120829873626,
            -2.6527011498981516
           ],
           "z": [
            7.289285794170178,
            14.496228972593636
           ]
          },
          {
           "line": {
            "color": "red",
            "width": 5
           },
           "marker": {
            "color": "blue",
            "size": 2
           },
           "text": [
            "RAnkle"
           ],
           "type": "scatter3d",
           "x": [
            -4.576736217307565,
            0.5161542110561335
           ],
           "y": [
            2.2609880239650932,
            -2.8434120829873626
           ],
           "z": [
            3.365749150172884,
            7.289285794170178
           ]
          },
          {
           "line": {
            "color": "black",
            "width": 5
           },
           "marker": {
            "color": "blue",
            "size": 2
           },
           "text": [
            "LHip"
           ],
           "type": "scatter3d",
           "x": [
            5.1638016006814595,
            3.50884
           ],
           "y": [
            -1.3055790296929093,
            -1.69045
           ],
           "z": [
            14.641906660205379,
            16.5533
           ]
          },
          {
           "line": {
            "color": "black",
            "width": 5
           },
           "marker": {
            "color": "blue",
            "size": 2
           },
           "text": [
            "LKnee"
           ],
           "type": "scatter3d",
           "x": [
            8.07347695768617,
            5.1638016006814595
           ],
           "y": [
            -5.129710232506582,
            -1.3055790296929093
           ],
           "z": [
            8.738805399369904,
            14.641906660205379
           ]
          },
          {
           "line": {
            "color": "black",
            "width": 5
           },
           "marker": {
            "color": "blue",
            "size": 2
           },
           "text": [
            "LAnkle"
           ],
           "type": "scatter3d",
           "x": [
            10.44242225952803,
            8.07347695768617
           ],
           "y": [
            -2.6563050787957643,
            -5.129710232506582
           ],
           "z": [
            1.3720799183213837,
            8.738805399369904
           ]
          },
          {
           "line": {
            "color": "black",
            "width": 5
           },
           "marker": {
            "color": "blue",
            "size": 2
           },
           "text": [
            "Spine1"
           ],
           "type": "scatter3d",
           "x": [
            4.115440904843305,
            3.50884
           ],
           "y": [
            -2.702400813294954,
            -1.69045
           ],
           "z": [
            20.38162247203173,
            16.5533
           ]
          },
          {
           "line": {
            "color": "black",
            "width": 5
           },
           "marker": {
            "color": "blue",
            "size": 2
           },
           "text": [
            "Neck"
           ],
           "type": "scatter3d",
           "x": [
            5.215433344828657,
            4.115440904843305
           ],
           "y": [
            -3.3882039621071063,
            -2.702400813294954
           ],
           "z": [
            23.941353381508538,
            20.38162247203173
           ]
          },
          {
           "line": {
            "color": "black",
            "width": 5
           },
           "marker": {
            "color": "blue",
            "size": 2
           },
           "text": [
            "Head"
           ],
           "type": "scatter3d",
           "x": [
            6.152852202353981,
            5.215433344828657
           ],
           "y": [
            -3.499439749053194,
            -3.3882039621071063
           ],
           "z": [
            25.450074574664985,
            23.941353381508538
           ]
          },
          {
           "line": {
            "color": "black",
            "width": 5
           },
           "marker": {
            "color": "blue",
            "size": 2
           },
           "text": [
            "Site"
           ],
           "type": "scatter3d",
           "x": [
            7.187946743619845,
            6.152852202353981
           ],
           "y": [
            -3.8004051672261396,
            -3.499439749053194
           ],
           "z": [
            26.869853216306538,
            25.450074574664985
           ]
          },
          {
           "line": {
            "color": "black",
            "width": 5
           },
           "marker": {
            "color": "blue",
            "size": 2
           },
           "text": [
            "LShoulder"
           ],
           "type": "scatter3d",
           "x": [
            7.008475396832135,
            5.215433344828657
           ],
           "y": [
            -0.674528795201156,
            -3.3882039621071063
           ],
           "z": [
            23.631798210384286,
            23.941353381508538
           ]
          },
          {
           "line": {
            "color": "black",
            "width": 5
           },
           "marker": {
            "color": "blue",
            "size": 2
           },
           "text": [
            "LElbow"
           ],
           "type": "scatter3d",
           "x": [
            9.035593391295775,
            7.008475396832135
           ],
           "y": [
            -3.321954060014375,
            -0.674528795201156
           ],
           "z": [
            20.183644501160398,
            23.631798210384286
           ]
          },
          {
           "line": {
            "color": "black",
            "width": 5
           },
           "marker": {
            "color": "blue",
            "size": 2
           },
           "text": [
            "LWrist"
           ],
           "type": "scatter3d",
           "x": [
            9.670081443617429,
            9.035593391295775
           ],
           "y": [
            -4.769717806392096,
            -3.321954060014375
           ],
           "z": [
            21.1308931645194,
            20.183644501160398
           ]
          },
          {
           "line": {
            "color": "red",
            "width": 5
           },
           "marker": {
            "color": "blue",
            "size": 2
           },
           "text": [
            "RShoulder"
           ],
           "type": "scatter3d",
           "x": [
            2.798865909169483,
            5.215433344828657
           ],
           "y": [
            -5.58099823103786,
            -3.3882039621071063
           ],
           "z": [
            23.621747437435086,
            23.941353381508538
           ]
          },
          {
           "line": {
            "color": "red",
            "width": 5
           },
           "marker": {
            "color": "blue",
            "size": 2
           },
           "text": [
            "RElbow"
           ],
           "type": "scatter3d",
           "x": [
            7.323925257413599,
            2.798865909169483
           ],
           "y": [
            -8.340623641660317,
            -5.58099823103786
           ],
           "z": [
            18.498651793643795,
            23.621747437435086
           ]
          },
          {
           "line": {
            "color": "red",
            "width": 5
           },
           "marker": {
            "color": "blue",
            "size": 2
           },
           "text": [
            "RWrist"
           ],
           "type": "scatter3d",
           "x": [
            8.934540242503969,
            7.323925257413599
           ],
           "y": [
            -9.098553930821481,
            -8.340623641660317
           ],
           "z": [
            18.854502765504797,
            18.498651793643795
           ]
          },
          {
           "line": {
            "color": "#1f77b4",
            "width": 1
           },
           "marker": {
            "color": "#1f77b4",
            "size": 1
           },
           "type": "scatter3d",
           "x": [
            -7.68200201222643,
            -11.202351483965106,
            -10.955869104893946,
            -7.261455157517169,
            -6.696189981227148,
            -6.597702295821579,
            -6.51772886461975,
            -3.8476915953707365,
            -0.7970128046349325,
            -5.5020630048652315,
            -4.462829338330973,
            2.1426985093789725,
            -6.550621684435969,
            -4.382364421867683,
            -6.238933645893352,
            -6.0372324143801315,
            -5.622770625880111,
            -4.622031270382943,
            -1.8315147477995466,
            -8.80699809751267,
            -5.336259744172091,
            -3.3386011500038735,
            -6.154514249840276,
            -2.3716164831946065,
            -3.7972808897935995
           ],
           "y": [
            3.4053156803910536,
            3.729440580134272,
            7.115938837216567,
            6.2383953833599834,
            6.738902405987771,
            1.6798788535843796,
            0.426703045092959,
            -8.57887314276572,
            -5.457469816021779,
            -6.145413681234592,
            -2.651627769211558,
            -7.988855680680584,
            1.322022686032784,
            0.4111020926919453,
            3.3084733072069357,
            4.507646719655471,
            1.2562719135064158,
            2.5679035233151972,
            -4.250612202162369,
            -1.208029219654247,
            7.660506207376087,
            1.1225209147164903,
            -0.12399672775587334,
            6.2154445047511295,
            4.537339874920296
           ],
           "z": [
            1.865911632557168,
            2.0831814398599002,
            2.4502047462026466,
            3.600422432940081,
            3.3586116742422365,
            2.8752883654471493,
            3.1498232277243945,
            4.465394927147864,
            2.7671204675596304,
            3.4168017828747113,
            3.173826242416413,
            3.3530783562129756,
            2.08089440622238,
            3.537429728401681,
            1.885924112360784,
            2.281288795428674,
            3.0206222088432257,
            3.2720535786143525,
            2.7877711354988826,
            1.5074967845823197,
            2.5428062168417425,
            3.6656635052035282,
            3.822880886229819,
            2.35614063913287,
            3.5399158247028906
           ]
          },
          {
           "color": "#00FFFF",
           "type": "mesh3d",
           "x": [
            -50,
            50,
            -50,
            50
           ],
           "y": [
            -50,
            50,
            50,
            -50
           ],
           "z": [
            0,
            0,
            0,
            0
           ]
          }
         ],
         "name": "frame26"
        },
        {
         "data": [
          {
           "line": {
            "color": "red",
            "width": 5
           },
           "marker": {
            "color": "blue",
            "size": 2
           },
           "text": [
            "RHip"
           ],
           "type": "scatter3d",
           "x": [
            1.9824167802771415,
            3.53812
           ],
           "y": [
            -3.2435495013076725,
            -2.04484
           ],
           "z": [
            15.00824024654531,
            16.6866
           ]
          },
          {
           "line": {
            "color": "red",
            "width": 5
           },
           "marker": {
            "color": "blue",
            "size": 2
           },
           "text": [
            "RKnee"
           ],
           "type": "scatter3d",
           "x": [
            -0.033266590229638515,
            1.9824167802771415
           ],
           "y": [
            -1.6506353863191983,
            -3.2435495013076725
           ],
           "z": [
            8.045633264472869,
            15.00824024654531
           ]
          },
          {
           "line": {
            "color": "red",
            "width": 5
           },
           "marker": {
            "color": "blue",
            "size": 2
           },
           "text": [
            "RAnkle"
           ],
           "type": "scatter3d",
           "x": [
            -5.1162575489259865,
            -0.033266590229638515
           ],
           "y": [
            3.2751112379121494,
            -1.6506353863191983
           ],
           "z": [
            3.8878939422390904,
            8.045633264472869
           ]
          },
          {
           "line": {
            "color": "black",
            "width": 5
           },
           "marker": {
            "color": "blue",
            "size": 2
           },
           "text": [
            "LHip"
           ],
           "type": "scatter3d",
           "x": [
            4.888175109093876,
            3.53812
           ],
           "y": [
            -2.026828236693008,
            -2.04484
           ],
           "z": [
            14.51462512866318,
            16.6866
           ]
          },
          {
           "line": {
            "color": "black",
            "width": 5
           },
           "marker": {
            "color": "blue",
            "size": 2
           },
           "text": [
            "LKnee"
           ],
           "type": "scatter3d",
           "x": [
            7.843313647276862,
            4.888175109093876
           ],
           "y": [
            -6.106317387403179,
            -2.026828236693008
           ],
           "z": [
            8.808337445365506,
            14.51462512866318
           ]
          },
          {
           "line": {
            "color": "black",
            "width": 5
           },
           "marker": {
            "color": "blue",
            "size": 2
           },
           "text": [
            "LAnkle"
           ],
           "type": "scatter3d",
           "x": [
            10.250032699505393,
            7.843313647276862
           ],
           "y": [
            -4.267232300871295,
            -6.106317387403179
           ],
           "z": [
            1.2701845775345797,
            8.808337445365506
           ]
          },
          {
           "line": {
            "color": "black",
            "width": 5
           },
           "marker": {
            "color": "blue",
            "size": 2
           },
           "text": [
            "Spine1"
           ],
           "type": "scatter3d",
           "x": [
            4.545373911170197,
            3.53812
           ],
           "y": [
            -2.2652036055935447,
            -2.04484
           ],
           "z": [
            20.56599598009474,
            16.6866
           ]
          },
          {
           "line": {
            "color": "black",
            "width": 5
           },
           "marker": {
            "color": "blue",
            "size": 2
           },
           "text": [
            "Neck"
           ],
           "type": "scatter3d",
           "x": [
            5.371906058100902,
            4.545373911170197
           ],
           "y": [
            -2.2867733611320005,
            -2.2652036055935447
           ],
           "z": [
            24.263676426448438,
            20.56599598009474
           ]
          },
          {
           "line": {
            "color": "black",
            "width": 5
           },
           "marker": {
            "color": "blue",
            "size": 2
           },
           "text": [
            "Head"
           ],
           "type": "scatter3d",
           "x": [
            6.122391537578398,
            5.371906058100902
           ],
           "y": [
            -2.246654812396927,
            -2.2867733611320005
           ],
           "z": [
            25.87691205727297,
            24.263676426448438
           ]
          },
          {
           "line": {
            "color": "black",
            "width": 5
           },
           "marker": {
            "color": "blue",
            "size": 2
           },
           "text": [
            "Site"
           ],
           "type": "scatter3d",
           "x": [
            6.952609926337684,
            6.122391537578398
           ],
           "y": [
            -2.4641361662327945,
            -2.246654812396927
           ],
           "z": [
            27.439349758832808,
            25.87691205727297
           ]
          },
          {
           "line": {
            "color": "black",
            "width": 5
           },
           "marker": {
            "color": "blue",
            "size": 2
           },
           "text": [
            "LShoulder"
           ],
           "type": "scatter3d",
           "x": [
            8.488498737138908,
            5.371906058100902
           ],
           "y": [
            -1.3584806763713462,
            -2.2867733611320005
           ],
           "z": [
            23.149632169698926,
            24.263676426448438
           ]
          },
          {
           "line": {
            "color": "black",
            "width": 5
           },
           "marker": {
            "color": "blue",
            "size": 2
           },
           "text": [
            "LElbow"
           ],
           "type": "scatter3d",
           "x": [
            11.486987001063817,
            8.488498737138908
           ],
           "y": [
            -7.788264647004085,
            -1.3584806763713462
           ],
           "z": [
            23.56046209510941,
            23.149632169698926
           ]
          },
          {
           "line": {
            "color": "black",
            "width": 5
           },
           "marker": {
            "color": "blue",
            "size": 2
           },
           "text": [
            "LWrist"
           ],
           "type": "scatter3d",
           "x": [
            11.342785946921907,
            11.486987001063817
           ],
           "y": [
            -9.132672821171498,
            -7.788264647004085
           ],
           "z": [
            24.812519482498743,
            23.56046209510941
           ]
          },
          {
           "line": {
            "color": "red",
            "width": 5
           },
           "marker": {
            "color": "blue",
            "size": 2
           },
           "text": [
            "RShoulder"
           ],
           "type": "scatter3d",
           "x": [
            2.371872800236023,
            5.371906058100902
           ],
           "y": [
            -2.9779634420444157,
            -2.2867733611320005
           ],
           "z": [
            24.475723456583374,
            24.263676426448438
           ]
          },
          {
           "line": {
            "color": "red",
            "width": 5
           },
           "marker": {
            "color": "blue",
            "size": 2
           },
           "text": [
            "RElbow"
           ],
           "type": "scatter3d",
           "x": [
            0.46803254371560676,
            2.371872800236023
           ],
           "y": [
            -5.130677715228709,
            -2.9779634420444157
           ],
           "z": [
            20.74902406921545,
            24.475723456583374
           ]
          },
          {
           "line": {
            "color": "red",
            "width": 5
           },
           "marker": {
            "color": "blue",
            "size": 2
           },
           "text": [
            "RWrist"
           ],
           "type": "scatter3d",
           "x": [
            1.6839897461008966,
            0.46803254371560676
           ],
           "y": [
            -6.450561500548247,
            -5.130677715228709
           ],
           "z": [
            21.022014440507014,
            20.74902406921545
           ]
          },
          {
           "line": {
            "color": "#1f77b4",
            "width": 1
           },
           "marker": {
            "color": "#1f77b4",
            "size": 1
           },
           "type": "scatter3d",
           "x": [
            -7.68200201222643,
            -11.202351483965106,
            -10.955869104893946,
            -7.261455157517169,
            -6.696189981227148,
            -6.597702295821579,
            -6.51772886461975,
            -3.8476915953707365,
            -0.7970128046349325,
            -5.5020630048652315,
            -4.462829338330973,
            2.1426985093789725,
            -6.550621684435969,
            -4.382364421867683,
            -6.238933645893352,
            -6.0372324143801315,
            -5.622770625880111,
            -4.622031270382943,
            -1.8315147477995466,
            -8.80699809751267,
            -5.336259744172091,
            -3.3386011500038735,
            -6.154514249840276,
            -2.3716164831946065,
            -3.7972808897935995,
            -4.576736217307565
           ],
           "y": [
            3.4053156803910536,
            3.729440580134272,
            7.115938837216567,
            6.2383953833599834,
            6.738902405987771,
            1.6798788535843796,
            0.426703045092959,
            -8.57887314276572,
            -5.457469816021779,
            -6.145413681234592,
            -2.651627769211558,
            -7.988855680680584,
            1.322022686032784,
            0.4111020926919453,
            3.3084733072069357,
            4.507646719655471,
            1.2562719135064158,
            2.5679035233151972,
            -4.250612202162369,
            -1.208029219654247,
            7.660506207376087,
            1.1225209147164903,
            -0.12399672775587334,
            6.2154445047511295,
            4.537339874920296,
            2.2609880239650932
           ],
           "z": [
            1.865911632557168,
            2.0831814398599002,
            2.4502047462026466,
            3.600422432940081,
            3.3586116742422365,
            2.8752883654471493,
            3.1498232277243945,
            4.465394927147864,
            2.7671204675596304,
            3.4168017828747113,
            3.173826242416413,
            3.3530783562129756,
            2.08089440622238,
            3.537429728401681,
            1.885924112360784,
            2.281288795428674,
            3.0206222088432257,
            3.2720535786143525,
            2.7877711354988826,
            1.5074967845823197,
            2.5428062168417425,
            3.6656635052035282,
            3.822880886229819,
            2.35614063913287,
            3.5399158247028906,
            3.365749150172884
           ]
          },
          {
           "color": "#00FFFF",
           "type": "mesh3d",
           "x": [
            -50,
            50,
            -50,
            50
           ],
           "y": [
            -50,
            50,
            50,
            -50
           ],
           "z": [
            0,
            0,
            0,
            0
           ]
          }
         ],
         "name": "frame27"
        },
        {
         "data": [
          {
           "line": {
            "color": "red",
            "width": 5
           },
           "marker": {
            "color": "blue",
            "size": 2
           },
           "text": [
            "RHip"
           ],
           "type": "scatter3d",
           "x": [
            0.6122536916307693,
            2.39936
           ],
           "y": [
            -0.1492152677899001,
            -0.155559
           ],
           "z": [
            16.380265428343286,
            18.2458
           ]
          },
          {
           "line": {
            "color": "red",
            "width": 5
           },
           "marker": {
            "color": "blue",
            "size": 2
           },
           "text": [
            "RKnee"
           ],
           "type": "scatter3d",
           "x": [
            -1.6582494849974847,
            0.6122536916307693
           ],
           "y": [
            -0.889162514454425,
            -0.1492152677899001
           ],
           "z": [
            9.35349204280241,
            16.380265428343286
           ]
          },
          {
           "line": {
            "color": "red",
            "width": 5
           },
           "marker": {
            "color": "blue",
            "size": 2
           },
           "text": [
            "RAnkle"
           ],
           "type": "scatter3d",
           "x": [
            -4.079441163068022,
            -1.6582494849974847
           ],
           "y": [
            3.359583721700272,
            -0.889162514454425
           ],
           "z": [
            2.7601196551112954,
            9.35349204280241
           ]
          },
          {
           "line": {
            "color": "black",
            "width": 5
           },
           "marker": {
            "color": "blue",
            "size": 2
           },
           "text": [
            "LHip"
           ],
           "type": "scatter3d",
           "x": [
            3.6952014060986995,
            2.39936
           ],
           "y": [
            -0.9396908828778331,
            -0.155559
           ],
           "z": [
            16.18512527956955,
            18.2458
           ]
          },
          {
           "line": {
            "color": "black",
            "width": 5
           },
           "marker": {
            "color": "blue",
            "size": 2
           },
           "text": [
            "LKnee"
           ],
           "type": "scatter3d",
           "x": [
            5.115554801557514,
            3.6952014060986995
           ],
           "y": [
            -4.714531124719242,
            -0.9396908828778331
           ],
           "z": [
            9.72989700972856,
            16.18512527956955
           ]
          },
          {
           "line": {
            "color": "black",
            "width": 5
           },
           "marker": {
            "color": "blue",
            "size": 2
           },
           "text": [
            "LAnkle"
           ],
           "type": "scatter3d",
           "x": [
            8.677837399785709,
            5.115554801557514
           ],
           "y": [
            -2.5755948977496232,
            -4.714531124719242
           ],
           "z": [
            2.7489677221645517,
            9.72989700972856
           ]
          },
          {
           "line": {
            "color": "black",
            "width": 5
           },
           "marker": {
            "color": "blue",
            "size": 2
           },
           "text": [
            "Spine1"
           ],
           "type": "scatter3d",
           "x": [
            2.855956025646,
            2.39936
           ],
           "y": [
            -1.3013443596982273,
            -0.155559
           ],
           "z": [
            22.053438520655522,
            18.2458
           ]
          },
          {
           "line": {
            "color": "black",
            "width": 5
           },
           "marker": {
            "color": "blue",
            "size": 2
           },
           "text": [
            "Neck"
           ],
           "type": "scatter3d",
           "x": [
            3.7224762199638595,
            2.855956025646
           ],
           "y": [
            -2.7108409103708184,
            -1.3013443596982273
           ],
           "z": [
            25.47409448805838,
            22.053438520655522
           ]
          },
          {
           "line": {
            "color": "black",
            "width": 5
           },
           "marker": {
            "color": "blue",
            "size": 2
           },
           "text": [
            "Head"
           ],
           "type": "scatter3d",
           "x": [
            4.162883888411379,
            3.7224762199638595
           ],
           "y": [
            -3.4979307096240393,
            -2.7108409103708184
           ],
           "z": [
            27.00833628350822,
            25.47409448805838
           ]
          },
          {
           "line": {
            "color": "black",
            "width": 5
           },
           "marker": {
            "color": "blue",
            "size": 2
           },
           "text": [
            "Site"
           ],
           "type": "scatter3d",
           "x": [
            4.490828614827945,
            4.162883888411379
           ],
           "y": [
            -4.4676991577830325,
            -3.4979307096240393
           ],
           "z": [
            28.467710703226068,
            27.00833628350822
           ]
          },
          {
           "line": {
            "color": "black",
            "width": 5
           },
           "marker": {
            "color": "blue",
            "size": 2
           },
           "text": [
            "LShoulder"
           ],
           "type": "scatter3d",
           "x": [
            6.9564987290620355,
            3.7224762199638595
           ],
           "y": [
            -2.1538173090095656,
            -2.7108409103708184
           ],
           "z": [
            24.399583280028747,
            25.47409448805838
           ]
          },
          {
           "line": {
            "color": "black",
            "width": 5
           },
           "marker": {
            "color": "blue",
            "size": 2
           },
           "text": [
            "LElbow"
           ],
           "type": "scatter3d",
           "x": [
            8.029704429450199,
            6.9564987290620355
           ],
           "y": [
            -4.680526952847819,
            -2.1538173090095656
           ],
           "z": [
            23.02550855374854,
            24.399583280028747
           ]
          },
          {
           "line": {
            "color": "black",
            "width": 5
           },
           "marker": {
            "color": "blue",
            "size": 2
           },
           "text": [
            "LWrist"
           ],
           "type": "scatter3d",
           "x": [
            7.622353911680993,
            8.029704429450199
           ],
           "y": [
            -5.181437089888023,
            -4.680526952847819
           ],
           "z": [
            24.75149510479218,
            23.02550855374854
           ]
          },
          {
           "line": {
            "color": "red",
            "width": 5
           },
           "marker": {
            "color": "blue",
            "size": 2
           },
           "text": [
            "RShoulder"
           ],
           "type": "scatter3d",
           "x": [
            0.6682948871667196,
            3.7224762199638595
           ],
           "y": [
            -2.2917775875266644,
            -2.7108409103708184
           ],
           "z": [
            25.894178471303135,
            25.47409448805838
           ]
          },
          {
           "line": {
            "color": "red",
            "width": 5
           },
           "marker": {
            "color": "blue",
            "size": 2
           },
           "text": [
            "RElbow"
           ],
           "type": "scatter3d",
           "x": [
            0.3626317022271188,
            0.6682948871667196
           ],
           "y": [
            -5.278484011374311,
            -2.2917775875266644
           ],
           "z": [
            23.10289421678247,
            25.894178471303135
           ]
          },
          {
           "line": {
            "color": "red",
            "width": 5
           },
           "marker": {
            "color": "blue",
            "size": 2
           },
           "text": [
            "RWrist"
           ],
           "type": "scatter3d",
           "x": [
            1.279749383415155,
            0.3626317022271188
           ],
           "y": [
            -6.0401475512774,
            -5.278484011374311
           ],
           "z": [
            24.471810824335527,
            23.10289421678247
           ]
          },
          {
           "line": {
            "color": "#1f77b4",
            "width": 1
           },
           "marker": {
            "color": "#1f77b4",
            "size": 1
           },
           "type": "scatter3d",
           "x": [
            -7.68200201222643,
            -11.202351483965106,
            -10.955869104893946,
            -7.261455157517169,
            -6.696189981227148,
            -6.597702295821579,
            -6.51772886461975,
            -3.8476915953707365,
            -0.7970128046349325,
            -5.5020630048652315,
            -4.462829338330973,
            2.1426985093789725,
            -6.550621684435969,
            -4.382364421867683,
            -6.238933645893352,
            -6.0372324143801315,
            -5.622770625880111,
            -4.622031270382943,
            -1.8315147477995466,
            -8.80699809751267,
            -5.336259744172091,
            -3.3386011500038735,
            -6.154514249840276,
            -2.3716164831946065,
            -3.7972808897935995,
            -4.576736217307565,
            -5.1162575489259865
           ],
           "y": [
            3.4053156803910536,
            3.729440580134272,
            7.115938837216567,
            6.2383953833599834,
            6.738902405987771,
            1.6798788535843796,
            0.426703045092959,
            -8.57887314276572,
            -5.457469816021779,
            -6.145413681234592,
            -2.651627769211558,
            -7.988855680680584,
            1.322022686032784,
            0.4111020926919453,
            3.3084733072069357,
            4.507646719655471,
            1.2562719135064158,
            2.5679035233151972,
            -4.250612202162369,
            -1.208029219654247,
            7.660506207376087,
            1.1225209147164903,
            -0.12399672775587334,
            6.2154445047511295,
            4.537339874920296,
            2.2609880239650932,
            3.2751112379121494
           ],
           "z": [
            1.865911632557168,
            2.0831814398599002,
            2.4502047462026466,
            3.600422432940081,
            3.3586116742422365,
            2.8752883654471493,
            3.1498232277243945,
            4.465394927147864,
            2.7671204675596304,
            3.4168017828747113,
            3.173826242416413,
            3.3530783562129756,
            2.08089440622238,
            3.537429728401681,
            1.885924112360784,
            2.281288795428674,
            3.0206222088432257,
            3.2720535786143525,
            2.7877711354988826,
            1.5074967845823197,
            2.5428062168417425,
            3.6656635052035282,
            3.822880886229819,
            2.35614063913287,
            3.5399158247028906,
            3.365749150172884,
            3.8878939422390904
           ]
          },
          {
           "color": "#00FFFF",
           "type": "mesh3d",
           "x": [
            -50,
            50,
            -50,
            50
           ],
           "y": [
            -50,
            50,
            50,
            -50
           ],
           "z": [
            0,
            0,
            0,
            0
           ]
          }
         ],
         "name": "frame28"
        },
        {
         "data": [
          {
           "line": {
            "color": "red",
            "width": 5
           },
           "marker": {
            "color": "blue",
            "size": 2
           },
           "text": [
            "RHip"
           ],
           "type": "scatter3d",
           "x": [
            -0.8812481834898357,
            -0.446968
           ],
           "y": [
            -2.808303983047778,
            -1.04703
           ],
           "z": [
            15.045318822194568,
            16.8847
           ]
          },
          {
           "line": {
            "color": "red",
            "width": 5
           },
           "marker": {
            "color": "blue",
            "size": 2
           },
           "text": [
            "RKnee"
           ],
           "type": "scatter3d",
           "x": [
            1.8136114710158289,
            -0.8812481834898357
           ],
           "y": [
            -6.223189905629086,
            -2.808303983047778
           ],
           "z": [
            9.032454580176076,
            15.045318822194568
           ]
          },
          {
           "line": {
            "color": "red",
            "width": 5
           },
           "marker": {
            "color": "blue",
            "size": 2
           },
           "text": [
            "RAnkle"
           ],
           "type": "scatter3d",
           "x": [
            -2.1208858457289037,
            1.8136114710158289
           ],
           "y": [
            -7.870824768406664,
            -6.223189905629086
           ],
           "z": [
            2.01878197679254,
            9.032454580176076
           ]
          },
          {
           "line": {
            "color": "black",
            "width": 5
           },
           "marker": {
            "color": "blue",
            "size": 2
           },
           "text": [
            "LHip"
           ],
           "type": "scatter3d",
           "x": [
            1.0589977291282613,
            -0.446968
           ],
           "y": [
            -0.2791556664377476,
            -1.04703
           ],
           "z": [
            14.965615766967483,
            16.8847
           ]
          },
          {
           "line": {
            "color": "black",
            "width": 5
           },
           "marker": {
            "color": "blue",
            "size": 2
           },
           "text": [
            "LKnee"
           ],
           "type": "scatter3d",
           "x": [
            3.7612746016235725,
            1.0589977291282613
           ],
           "y": [
            -0.4117862125653554,
            -0.2791556664377476
           ],
           "z": [
            7.8510600199245335,
            14.965615766967483
           ]
          },
          {
           "line": {
            "color": "black",
            "width": 5
           },
           "marker": {
            "color": "blue",
            "size": 2
           },
           "text": [
            "LAnkle"
           ],
           "type": "scatter3d",
           "x": [
            -0.3761315135190886,
            3.7612746016235725
           ],
           "y": [
            4.477610994600053,
            -0.4117862125653554
           ],
           "z": [
            2.8536662191925357,
            7.8510600199245335
           ]
          },
          {
           "line": {
            "color": "black",
            "width": 5
           },
           "marker": {
            "color": "blue",
            "size": 2
           },
           "text": [
            "Spine1"
           ],
           "type": "scatter3d",
           "x": [
            0.21939252076151083,
            -0.446968
           ],
           "y": [
            -0.8244429195341318,
            -1.04703
           ],
           "z": [
            20.821690145227066,
            16.8847
           ]
          },
          {
           "line": {
            "color": "black",
            "width": 5
           },
           "marker": {
            "color": "blue",
            "size": 2
           },
           "text": [
            "Neck"
           ],
           "type": "scatter3d",
           "x": [
            1.6703751532133178,
            0.21939252076151083
           ],
           "y": [
            -1.0618827832622975,
            -0.8244429195341318
           ],
           "z": [
            24.29264850441539,
            20.821690145227066
           ]
          },
          {
           "line": {
            "color": "black",
            "width": 5
           },
           "marker": {
            "color": "blue",
            "size": 2
           },
           "text": [
            "Head"
           ],
           "type": "scatter3d",
           "x": [
            2.5666150545088966,
            1.6703751532133178
           ],
           "y": [
            -1.527278758748451,
            -1.0618827832622975
           ],
           "z": [
            25.758093071346526,
            24.29264850441539
           ]
          },
          {
           "line": {
            "color": "black",
            "width": 5
           },
           "marker": {
            "color": "blue",
            "size": 2
           },
           "text": [
            "Site"
           ],
           "type": "scatter3d",
           "x": [
            3.3873000807325506,
            2.5666150545088966
           ],
           "y": [
            -2.248332333816638,
            -1.527278758748451
           ],
           "z": [
            27.16675559770605,
            25.758093071346526
           ]
          },
          {
           "line": {
            "color": "black",
            "width": 5
           },
           "marker": {
            "color": "blue",
            "size": 2
           },
           "text": [
            "LShoulder"
           ],
           "type": "scatter3d",
           "x": [
            3.0963041439439802,
            1.6703751532133178
           ],
           "y": [
            1.883280983875812,
            -1.0618827832622975
           ],
           "z": [
            23.548807047576595,
            24.29264850441539
           ]
          },
          {
           "line": {
            "color": "black",
            "width": 5
           },
           "marker": {
            "color": "blue",
            "size": 2
           },
           "text": [
            "LElbow"
           ],
           "type": "scatter3d",
           "x": [
            5.668873073919312,
            3.0963041439439802
           ],
           "y": [
            -2.1884404300307745,
            1.883280983875812
           ],
           "z": [
            22.550418680355982,
            23.548807047576595
           ]
          },
          {
           "line": {
            "color": "black",
            "width": 5
           },
           "marker": {
            "color": "blue",
            "size": 2
           },
           "text": [
            "LWrist"
           ],
           "type": "scatter3d",
           "x": [
            5.938377641128784,
            5.668873073919312
           ],
           "y": [
            -2.9519192477797835,
            -2.1884404300307745
           ],
           "z": [
            24.2058166286457,
            22.550418680355982
           ]
          },
          {
           "line": {
            "color": "red",
            "width": 5
           },
           "marker": {
            "color": "blue",
            "size": 2
           },
           "text": [
            "RShoulder"
           ],
           "type": "scatter3d",
           "x": [
            -0.9518169465702238,
            1.6703751532133178
           ],
           "y": [
            -3.0485677312107815,
            -1.0618827832622975
           ],
           "z": [
            24.589931088932307,
            24.29264850441539
           ]
          },
          {
           "line": {
            "color": "red",
            "width": 5
           },
           "marker": {
            "color": "blue",
            "size": 2
           },
           "text": [
            "RElbow"
           ],
           "type": "scatter3d",
           "x": [
            2.3388209745136432,
            -0.9518169465702238
           ],
           "y": [
            -5.920753819844757,
            -3.0485677312107815
           ],
           "z": [
            23.463294082448627,
            24.589931088932307
           ]
          },
          {
           "line": {
            "color": "red",
            "width": 5
           },
           "marker": {
            "color": "blue",
            "size": 2
           },
           "text": [
            "RWrist"
           ],
           "type": "scatter3d",
           "x": [
            2.977199045303565,
            2.3388209745136432
           ],
           "y": [
            -5.508382087898723,
            -5.920753819844757
           ],
           "z": [
            25.11180609666823,
            23.463294082448627
           ]
          },
          {
           "line": {
            "color": "#1f77b4",
            "width": 1
           },
           "marker": {
            "color": "#1f77b4",
            "size": 1
           },
           "type": "scatter3d",
           "x": [
            -7.68200201222643,
            -11.202351483965106,
            -10.955869104893946,
            -7.261455157517169,
            -6.696189981227148,
            -6.597702295821579,
            -6.51772886461975,
            -3.8476915953707365,
            -0.7970128046349325,
            -5.5020630048652315,
            -4.462829338330973,
            2.1426985093789725,
            -6.550621684435969,
            -4.382364421867683,
            -6.238933645893352,
            -6.0372324143801315,
            -5.622770625880111,
            -4.622031270382943,
            -1.8315147477995466,
            -8.80699809751267,
            -5.336259744172091,
            -3.3386011500038735,
            -6.154514249840276,
            -2.3716164831946065,
            -3.7972808897935995,
            -4.576736217307565,
            -5.1162575489259865,
            -4.079441163068022
           ],
           "y": [
            3.4053156803910536,
            3.729440580134272,
            7.115938837216567,
            6.2383953833599834,
            6.738902405987771,
            1.6798788535843796,
            0.426703045092959,
            -8.57887314276572,
            -5.457469816021779,
            -6.145413681234592,
            -2.651627769211558,
            -7.988855680680584,
            1.322022686032784,
            0.4111020926919453,
            3.3084733072069357,
            4.507646719655471,
            1.2562719135064158,
            2.5679035233151972,
            -4.250612202162369,
            -1.208029219654247,
            7.660506207376087,
            1.1225209147164903,
            -0.12399672775587334,
            6.2154445047511295,
            4.537339874920296,
            2.2609880239650932,
            3.2751112379121494,
            3.359583721700272
           ],
           "z": [
            1.865911632557168,
            2.0831814398599002,
            2.4502047462026466,
            3.600422432940081,
            3.3586116742422365,
            2.8752883654471493,
            3.1498232277243945,
            4.465394927147864,
            2.7671204675596304,
            3.4168017828747113,
            3.173826242416413,
            3.3530783562129756,
            2.08089440622238,
            3.537429728401681,
            1.885924112360784,
            2.281288795428674,
            3.0206222088432257,
            3.2720535786143525,
            2.7877711354988826,
            1.5074967845823197,
            2.5428062168417425,
            3.6656635052035282,
            3.822880886229819,
            2.35614063913287,
            3.5399158247028906,
            3.365749150172884,
            3.8878939422390904,
            2.7601196551112954
           ]
          },
          {
           "color": "#00FFFF",
           "type": "mesh3d",
           "x": [
            -50,
            50,
            -50,
            50
           ],
           "y": [
            -50,
            50,
            50,
            -50
           ],
           "z": [
            0,
            0,
            0,
            0
           ]
          }
         ],
         "name": "frame29"
        },
        {
         "data": [
          {
           "line": {
            "color": "red",
            "width": 5
           },
           "marker": {
            "color": "blue",
            "size": 2
           },
           "text": [
            "RHip"
           ],
           "type": "scatter3d",
           "x": [
            -2.410342197733371,
            -1.36923
           ],
           "y": [
            3.583767457016349,
            4.75943
           ],
           "z": [
            15.329980567255834,
            17.3813
           ]
          },
          {
           "line": {
            "color": "red",
            "width": 5
           },
           "marker": {
            "color": "blue",
            "size": 2
           },
           "text": [
            "RKnee"
           ],
           "type": "scatter3d",
           "x": [
            -0.7804654252366008,
            -2.410342197733371
           ],
           "y": [
            -0.25929052901780647,
            3.583767457016349
           ],
           "z": [
            9.19380440965364,
            15.329980567255834
           ]
          },
          {
           "line": {
            "color": "red",
            "width": 5
           },
           "marker": {
            "color": "blue",
            "size": 2
           },
           "text": [
            "RAnkle"
           ],
           "type": "scatter3d",
           "x": [
            -5.667957809262714,
            -0.7804654252366008
           ],
           "y": [
            1.2765968301708028,
            -0.25929052901780647
           ],
           "z": [
            2.7797540995971515,
            9.19380440965364
           ]
          },
          {
           "line": {
            "color": "black",
            "width": 5
           },
           "marker": {
            "color": "blue",
            "size": 2
           },
           "text": [
            "LHip"
           ],
           "type": "scatter3d",
           "x": [
            0.31779135382258694,
            -1.36923
           ],
           "y": [
            5.22392387319303,
            4.75943
           ],
           "z": [
            15.516185403939147,
            17.3813
           ]
          },
          {
           "line": {
            "color": "black",
            "width": 5
           },
           "marker": {
            "color": "blue",
            "size": 2
           },
           "text": [
            "LKnee"
           ],
           "type": "scatter3d",
           "x": [
            3.714842931865923,
            0.31779135382258694
           ],
           "y": [
            3.093876133623652,
            5.22392387319303
           ],
           "z": [
            9.046275679805458,
            15.516185403939147
           ]
          },
          {
           "line": {
            "color": "black",
            "width": 5
           },
           "marker": {
            "color": "blue",
            "size": 2
           },
           "text": [
            "LAnkle"
           ],
           "type": "scatter3d",
           "x": [
            1.7098030629435024,
            3.714842931865923
           ],
           "y": [
            8.202178949297696,
            3.093876133623652
           ],
           "z": [
            3.056005512437415,
            9.046275679805458
           ]
          },
          {
           "line": {
            "color": "black",
            "width": 5
           },
           "marker": {
            "color": "blue",
            "size": 2
           },
           "text": [
            "Spine1"
           ],
           "type": "scatter3d",
           "x": [
            -0.9108116207195205,
            -1.36923
           ],
           "y": [
            3.364428551871723,
            4.75943
           ],
           "z": [
            21.0894256954739,
            17.3813
           ]
          },
          {
           "line": {
            "color": "black",
            "width": 5
           },
           "marker": {
            "color": "blue",
            "size": 2
           },
           "text": [
            "Neck"
           ],
           "type": "scatter3d",
           "x": [
            0.4705562228444399,
            -0.9108116207195205
           ],
           "y": [
            2.2909549031620218,
            3.364428551871723
           ],
           "z": [
            24.460497802676542,
            21.0894256954739
           ]
          },
          {
           "line": {
            "color": "black",
            "width": 5
           },
           "marker": {
            "color": "blue",
            "size": 2
           },
           "text": [
            "Head"
           ],
           "type": "scatter3d",
           "x": [
            1.016523704255119,
            0.4705562228444399
           ],
           "y": [
            1.6550768788329127,
            2.2909549031620218
           ],
           "z": [
            26.030512388863052,
            24.460497802676542
           ]
          },
          {
           "line": {
            "color": "black",
            "width": 5
           },
           "marker": {
            "color": "blue",
            "size": 2
           },
           "text": [
            "Site"
           ],
           "type": "scatter3d",
           "x": [
            1.5447245048315374,
            1.016523704255119
           ],
           "y": [
            0.8554841743208036,
            1.6550768788329127
           ],
           "z": [
            27.533651672069162,
            26.030512388863052
           ]
          },
          {
           "line": {
            "color": "black",
            "width": 5
           },
           "marker": {
            "color": "blue",
            "size": 2
           },
           "text": [
            "LShoulder"
           ],
           "type": "scatter3d",
           "x": [
            3.097433188288401,
            0.4705562228444399
           ],
           "y": [
            4.688593446335037,
            2.2909549031620218
           ],
           "z": [
            23.375495840310336,
            24.460497802676542
           ]
          },
          {
           "line": {
            "color": "black",
            "width": 5
           },
           "marker": {
            "color": "blue",
            "size": 2
           },
           "text": [
            "LElbow"
           ],
           "type": "scatter3d",
           "x": [
            4.586837571138436,
            3.097433188288401
           ],
           "y": [
            1.1632281827057114,
            4.688593446335037
           ],
           "z": [
            21.715351724472622,
            23.375495840310336
           ]
          },
          {
           "line": {
            "color": "black",
            "width": 5
           },
           "marker": {
            "color": "blue",
            "size": 2
           },
           "text": [
            "LWrist"
           ],
           "type": "scatter3d",
           "x": [
            4.449978760741354,
            4.586837571138436
           ],
           "y": [
            0.23143880607048983,
            1.1632281827057114
           ],
           "z": [
            23.299306650506328,
            21.715351724472622
           ]
          },
          {
           "line": {
            "color": "red",
            "width": 5
           },
           "marker": {
            "color": "blue",
            "size": 2
           },
           "text": [
            "RShoulder"
           ],
           "type": "scatter3d",
           "x": [
            -2.1291690173057023,
            0.4705562228444399
           ],
           "y": [
            1.1903385005090623,
            2.2909549031620218
           ],
           "z": [
            24.871890540895386,
            24.460497802676542
           ]
          },
          {
           "line": {
            "color": "red",
            "width": 5
           },
           "marker": {
            "color": "blue",
            "size": 2
           },
           "text": [
            "RElbow"
           ],
           "type": "scatter3d",
           "x": [
            0.49018737674823254,
            -2.1291690173057023
           ],
           "y": [
            -2.450198048440998,
            1.1903385005090623
           ],
           "z": [
            23.14289736344761,
            24.871890540895386
           ]
          },
          {
           "line": {
            "color": "red",
            "width": 5
           },
           "marker": {
            "color": "blue",
            "size": 2
           },
           "text": [
            "RWrist"
           ],
           "type": "scatter3d",
           "x": [
            1.3490184913861376,
            0.49018737674823254
           ],
           "y": [
            -2.52187090317066,
            -2.450198048440998
           ],
           "z": [
            24.74053342526667,
            23.14289736344761
           ]
          },
          {
           "line": {
            "color": "#1f77b4",
            "width": 1
           },
           "marker": {
            "color": "#1f77b4",
            "size": 1
           },
           "type": "scatter3d",
           "x": [
            -7.68200201222643,
            -11.202351483965106,
            -10.955869104893946,
            -7.261455157517169,
            -6.696189981227148,
            -6.597702295821579,
            -6.51772886461975,
            -3.8476915953707365,
            -0.7970128046349325,
            -5.5020630048652315,
            -4.462829338330973,
            2.1426985093789725,
            -6.550621684435969,
            -4.382364421867683,
            -6.238933645893352,
            -6.0372324143801315,
            -5.622770625880111,
            -4.622031270382943,
            -1.8315147477995466,
            -8.80699809751267,
            -5.336259744172091,
            -3.3386011500038735,
            -6.154514249840276,
            -2.3716164831946065,
            -3.7972808897935995,
            -4.576736217307565,
            -5.1162575489259865,
            -4.079441163068022,
            -2.1208858457289037
           ],
           "y": [
            3.4053156803910536,
            3.729440580134272,
            7.115938837216567,
            6.2383953833599834,
            6.738902405987771,
            1.6798788535843796,
            0.426703045092959,
            -8.57887314276572,
            -5.457469816021779,
            -6.145413681234592,
            -2.651627769211558,
            -7.988855680680584,
            1.322022686032784,
            0.4111020926919453,
            3.3084733072069357,
            4.507646719655471,
            1.2562719135064158,
            2.5679035233151972,
            -4.250612202162369,
            -1.208029219654247,
            7.660506207376087,
            1.1225209147164903,
            -0.12399672775587334,
            6.2154445047511295,
            4.537339874920296,
            2.2609880239650932,
            3.2751112379121494,
            3.359583721700272,
            -7.870824768406664
           ],
           "z": [
            1.865911632557168,
            2.0831814398599002,
            2.4502047462026466,
            3.600422432940081,
            3.3586116742422365,
            2.8752883654471493,
            3.1498232277243945,
            4.465394927147864,
            2.7671204675596304,
            3.4168017828747113,
            3.173826242416413,
            3.3530783562129756,
            2.08089440622238,
            3.537429728401681,
            1.885924112360784,
            2.281288795428674,
            3.0206222088432257,
            3.2720535786143525,
            2.7877711354988826,
            1.5074967845823197,
            2.5428062168417425,
            3.6656635052035282,
            3.822880886229819,
            2.35614063913287,
            3.5399158247028906,
            3.365749150172884,
            3.8878939422390904,
            2.7601196551112954,
            2.01878197679254
           ]
          },
          {
           "color": "#00FFFF",
           "type": "mesh3d",
           "x": [
            -50,
            50,
            -50,
            50
           ],
           "y": [
            -50,
            50,
            50,
            -50
           ],
           "z": [
            0,
            0,
            0,
            0
           ]
          }
         ],
         "name": "frame30"
        },
        {
         "data": [
          {
           "line": {
            "color": "red",
            "width": 5
           },
           "marker": {
            "color": "blue",
            "size": 2
           },
           "text": [
            "RHip"
           ],
           "type": "scatter3d",
           "x": [
            -3.295326396973794,
            -1.79553
           ],
           "y": [
            5.384259562116715,
            5.54977
           ],
           "z": [
            16.44864375320467,
            18.5456
           ]
          },
          {
           "line": {
            "color": "red",
            "width": 5
           },
           "marker": {
            "color": "blue",
            "size": 2
           },
           "text": [
            "RKnee"
           ],
           "type": "scatter3d",
           "x": [
            -5.351177721159068,
            -3.295326396973794
           ],
           "y": [
            3.417622854244857,
            5.384259562116715
           ],
           "z": [
            9.594151342619657,
            16.44864375320467
           ]
          },
          {
           "line": {
            "color": "red",
            "width": 5
           },
           "marker": {
            "color": "blue",
            "size": 2
           },
           "text": [
            "RAnkle"
           ],
           "type": "scatter3d",
           "x": [
            -7.811198372064535,
            -5.351177721159068
           ],
           "y": [
            7.0431575239128525,
            3.417622854244857
           ],
           "z": [
            2.652222941943201,
            9.594151342619657
           ]
          },
          {
           "line": {
            "color": "black",
            "width": 5
           },
           "marker": {
            "color": "blue",
            "size": 2
           },
           "text": [
            "LHip"
           ],
           "type": "scatter3d",
           "x": [
            -0.16289554103049686,
            -1.79553
           ],
           "y": [
            4.846948252253448,
            5.54977
           ],
           "z": [
            16.70685195385384,
            18.5456
           ]
          },
          {
           "line": {
            "color": "black",
            "width": 5
           },
           "marker": {
            "color": "blue",
            "size": 2
           },
           "text": [
            "LKnee"
           ],
           "type": "scatter3d",
           "x": [
            1.393222413004066,
            -0.16289554103049686
           ],
           "y": [
            2.9170727908010265,
            4.846948252253448
           ],
           "z": [
            9.510264411720684,
            16.70685195385384
           ]
          },
          {
           "line": {
            "color": "black",
            "width": 5
           },
           "marker": {
            "color": "blue",
            "size": 2
           },
           "text": [
            "LAnkle"
           ],
           "type": "scatter3d",
           "x": [
            3.231762778979294,
            1.393222413004066
           ],
           "y": [
            8.437658156214097,
            2.9170727908010265
           ],
           "z": [
            3.8409447209184355,
            9.510264411720684
           ]
          },
          {
           "line": {
            "color": "black",
            "width": 5
           },
           "marker": {
            "color": "blue",
            "size": 2
           },
           "text": [
            "Spine1"
           ],
           "type": "scatter3d",
           "x": [
            -2.3022963304849973,
            -1.79553
           ],
           "y": [
            4.802202427498189,
            5.54977
           ],
           "z": [
            22.448909919922396,
            18.5456
           ]
          },
          {
           "line": {
            "color": "black",
            "width": 5
           },
           "marker": {
            "color": "blue",
            "size": 2
           },
           "text": [
            "Neck"
           ],
           "type": "scatter3d",
           "x": [
            -2.863012136136549,
            -2.3022963304849973
           ],
           "y": [
            3.744725393784428,
            4.802202427498189
           ],
           "z": [
            26.055324530522217,
            22.448909919922396
           ]
          },
          {
           "line": {
            "color": "black",
            "width": 5
           },
           "marker": {
            "color": "blue",
            "size": 2
           },
           "text": [
            "Head"
           ],
           "type": "scatter3d",
           "x": [
            -2.892385478480908,
            -2.863012136136549
           ],
           "y": [
            3.040091146882614,
            3.744725393784428
           ],
           "z": [
            27.68933644549519,
            26.055324530522217
           ]
          },
          {
           "line": {
            "color": "black",
            "width": 5
           },
           "marker": {
            "color": "blue",
            "size": 2
           },
           "text": [
            "Site"
           ],
           "type": "scatter3d",
           "x": [
            -2.8991527394417886,
            -2.892385478480908
           ],
           "y": [
            2.123702545268957,
            3.040091146882614
           ],
           "z": [
            29.21837484219018,
            27.68933644549519
           ]
          },
          {
           "line": {
            "color": "black",
            "width": 5
           },
           "marker": {
            "color": "blue",
            "size": 2
           },
           "text": [
            "LShoulder"
           ],
           "type": "scatter3d",
           "x": [
            0.8059041252338663,
            -2.863012136136549
           ],
           "y": [
            3.732168246164327,
            3.744725393784428
           ],
           "z": [
            25.94743426621852,
            26.055324530522217
           ]
          },
          {
           "line": {
            "color": "black",
            "width": 5
           },
           "marker": {
            "color": "blue",
            "size": 2
           },
           "text": [
            "LElbow"
           ],
           "type": "scatter3d",
           "x": [
            1.0479366240166943,
            0.8059041252338663
           ],
           "y": [
            2.874128423758839,
            3.732168246164327
           ],
           "z": [
            21.851927926998446,
            25.94743426621852
           ]
          },
          {
           "line": {
            "color": "black",
            "width": 5
           },
           "marker": {
            "color": "blue",
            "size": 2
           },
           "text": [
            "LWrist"
           ],
           "type": "scatter3d",
           "x": [
            0.5571966118030538,
            1.0479366240166943
           ],
           "y": [
            1.1115522696427116,
            2.874128423758839
           ],
           "z": [
            22.071870022682187,
            21.851927926998446
           ]
          },
          {
           "line": {
            "color": "red",
            "width": 5
           },
           "marker": {
            "color": "blue",
            "size": 2
           },
           "text": [
            "RShoulder"
           ],
           "type": "scatter3d",
           "x": [
            -5.606302631343812,
            -2.863012136136549
           ],
           "y": [
            4.43969387994931,
            3.744725393784428
           ],
           "z": [
            25.526284209952617,
            26.055324530522217
           ]
          },
          {
           "line": {
            "color": "red",
            "width": 5
           },
           "marker": {
            "color": "blue",
            "size": 2
           },
           "text": [
            "RElbow"
           ],
           "type": "scatter3d",
           "x": [
            -4.840750932752751,
            -5.606302631343812
           ],
           "y": [
            2.931572975489208,
            4.43969387994931
           ],
           "z": [
            19.298366591886648,
            25.526284209952617
           ]
          },
          {
           "line": {
            "color": "red",
            "width": 5
           },
           "marker": {
            "color": "blue",
            "size": 2
           },
           "text": [
            "RWrist"
           ],
           "type": "scatter3d",
           "x": [
            -3.9599491437413805,
            -4.840750932752751
           ],
           "y": [
            1.3589327076262163,
            2.931572975489208
           ],
           "z": [
            19.083518589870835,
            19.298366591886648
           ]
          },
          {
           "line": {
            "color": "#1f77b4",
            "width": 1
           },
           "marker": {
            "color": "#1f77b4",
            "size": 1
           },
           "type": "scatter3d",
           "x": [
            -7.68200201222643,
            -11.202351483965106,
            -10.955869104893946,
            -7.261455157517169,
            -6.696189981227148,
            -6.597702295821579,
            -6.51772886461975,
            -3.8476915953707365,
            -0.7970128046349325,
            -5.5020630048652315,
            -4.462829338330973,
            2.1426985093789725,
            -6.550621684435969,
            -4.382364421867683,
            -6.238933645893352,
            -6.0372324143801315,
            -5.622770625880111,
            -4.622031270382943,
            -1.8315147477995466,
            -8.80699809751267,
            -5.336259744172091,
            -3.3386011500038735,
            -6.154514249840276,
            -2.3716164831946065,
            -3.7972808897935995,
            -4.576736217307565,
            -5.1162575489259865,
            -4.079441163068022,
            -2.1208858457289037,
            -5.667957809262714
           ],
           "y": [
            3.4053156803910536,
            3.729440580134272,
            7.115938837216567,
            6.2383953833599834,
            6.738902405987771,
            1.6798788535843796,
            0.426703045092959,
            -8.57887314276572,
            -5.457469816021779,
            -6.145413681234592,
            -2.651627769211558,
            -7.988855680680584,
            1.322022686032784,
            0.4111020926919453,
            3.3084733072069357,
            4.507646719655471,
            1.2562719135064158,
            2.5679035233151972,
            -4.250612202162369,
            -1.208029219654247,
            7.660506207376087,
            1.1225209147164903,
            -0.12399672775587334,
            6.2154445047511295,
            4.537339874920296,
            2.2609880239650932,
            3.2751112379121494,
            3.359583721700272,
            -7.870824768406664,
            1.2765968301708028
           ],
           "z": [
            1.865911632557168,
            2.0831814398599002,
            2.4502047462026466,
            3.600422432940081,
            3.3586116742422365,
            2.8752883654471493,
            3.1498232277243945,
            4.465394927147864,
            2.7671204675596304,
            3.4168017828747113,
            3.173826242416413,
            3.3530783562129756,
            2.08089440622238,
            3.537429728401681,
            1.885924112360784,
            2.281288795428674,
            3.0206222088432257,
            3.2720535786143525,
            2.7877711354988826,
            1.5074967845823197,
            2.5428062168417425,
            3.6656635052035282,
            3.822880886229819,
            2.35614063913287,
            3.5399158247028906,
            3.365749150172884,
            3.8878939422390904,
            2.7601196551112954,
            2.01878197679254,
            2.7797540995971515
           ]
          },
          {
           "color": "#00FFFF",
           "type": "mesh3d",
           "x": [
            -50,
            50,
            -50,
            50
           ],
           "y": [
            -50,
            50,
            50,
            -50
           ],
           "z": [
            0,
            0,
            0,
            0
           ]
          }
         ],
         "name": "frame31"
        },
        {
         "data": [
          {
           "line": {
            "color": "red",
            "width": 5
           },
           "marker": {
            "color": "blue",
            "size": 2
           },
           "text": [
            "RHip"
           ],
           "type": "scatter3d",
           "x": [
            -0.5995908988141185,
            1.03606
           ],
           "y": [
            1.7892059110553384,
            2.11541
           ],
           "z": [
            13.455122541067949,
            15.428
           ]
          },
          {
           "line": {
            "color": "red",
            "width": 5
           },
           "marker": {
            "color": "blue",
            "size": 2
           },
           "text": [
            "RKnee"
           ],
           "type": "scatter3d",
           "x": [
            -2.7365083680152082,
            -0.5995908988141185
           ],
           "y": [
            -0.09134522881179263,
            1.7892059110553384
           ],
           "z": [
            6.601265090344406,
            13.455122541067949
           ]
          },
          {
           "line": {
            "color": "red",
            "width": 5
           },
           "marker": {
            "color": "blue",
            "size": 2
           },
           "text": [
            "RAnkle"
           ],
           "type": "scatter3d",
           "x": [
            -2.302780558625111,
            -2.7365083680152082
           ],
           "y": [
            7.153181259315232,
            -0.09134522881179263
           ],
           "z": [
            2.765213824504499,
            6.601265090344406
           ]
          },
          {
           "line": {
            "color": "black",
            "width": 5
           },
           "marker": {
            "color": "blue",
            "size": 2
           },
           "text": [
            "LHip"
           ],
           "type": "scatter3d",
           "x": [
            2.5412465645157303,
            1.03606
           ],
           "y": [
            1.2475668425739812,
            2.11541
           ],
           "z": [
            13.551378108665292,
            15.428
           ]
          },
          {
           "line": {
            "color": "black",
            "width": 5
           },
           "marker": {
            "color": "blue",
            "size": 2
           },
           "text": [
            "LKnee"
           ],
           "type": "scatter3d",
           "x": [
            3.4333217961562688,
            2.5412465645157303
           ],
           "y": [
            -4.112734728947067,
            1.2475668425739812
           ],
           "z": [
            8.22144720117564,
            13.551378108665292
           ]
          },
          {
           "line": {
            "color": "black",
            "width": 5
           },
           "marker": {
            "color": "blue",
            "size": 2
           },
           "text": [
            "LAnkle"
           ],
           "type": "scatter3d",
           "x": [
            6.70929202932251,
            3.4333217961562688
           ],
           "y": [
            -1.1456683544994393,
            -4.112734728947067
           ],
           "z": [
            1.4050834072102445,
            8.22144720117564
           ]
          },
          {
           "line": {
            "color": "black",
            "width": 5
           },
           "marker": {
            "color": "blue",
            "size": 2
           },
           "text": [
            "Spine1"
           ],
           "type": "scatter3d",
           "x": [
            1.204608580721854,
            1.03606
           ],
           "y": [
            1.324579099528227,
            2.11541
           ],
           "z": [
            19.34888522604023,
            15.428
           ]
          },
          {
           "line": {
            "color": "black",
            "width": 5
           },
           "marker": {
            "color": "blue",
            "size": 2
           },
           "text": [
            "Neck"
           ],
           "type": "scatter3d",
           "x": [
            1.34460220407624,
            1.204608580721854
           ],
           "y": [
            0.182483072382415,
            1.324579099528227
           ],
           "z": [
            22.97127180168922,
            19.34888522604023
           ]
          },
          {
           "line": {
            "color": "black",
            "width": 5
           },
           "marker": {
            "color": "blue",
            "size": 2
           },
           "text": [
            "Head"
           ],
           "type": "scatter3d",
           "x": [
            1.5881553710216696,
            1.34460220407624
           ],
           "y": [
            -0.24115376534815525,
            0.182483072382415
           ],
           "z": [
            24.68258148669936,
            22.97127180168922
           ]
          },
          {
           "line": {
            "color": "black",
            "width": 5
           },
           "marker": {
            "color": "blue",
            "size": 2
           },
           "text": [
            "Site"
           ],
           "type": "scatter3d",
           "x": [
            1.8484459864493916,
            1.5881553710216696
           ],
           "y": [
            -0.7712384234477561,
            -0.24115376534815525
           ],
           "z": [
            26.36455394019663,
            24.68258148669936
           ]
          },
          {
           "line": {
            "color": "black",
            "width": 5
           },
           "marker": {
            "color": "blue",
            "size": 2
           },
           "text": [
            "LShoulder"
           ],
           "type": "scatter3d",
           "x": [
            4.870289504851926,
            1.34460220407624
           ],
           "y": [
            0.866597080995839,
            0.182483072382415
           ],
           "z": [
            22.41459748536112,
            22.97127180168922
           ]
          },
          {
           "line": {
            "color": "black",
            "width": 5
           },
           "marker": {
            "color": "blue",
            "size": 2
           },
           "text": [
            "LElbow"
           ],
           "type": "scatter3d",
           "x": [
            4.2540834747114165,
            4.870289504851926
           ],
           "y": [
            -2.669880792263208,
            0.866597080995839
           ],
           "z": [
            19.86962929016196,
            22.41459748536112
           ]
          },
          {
           "line": {
            "color": "black",
            "width": 5
           },
           "marker": {
            "color": "blue",
            "size": 2
           },
           "text": [
            "LWrist"
           ],
           "type": "scatter3d",
           "x": [
            3.9782782478880567,
            4.2540834747114165
           ],
           "y": [
            -3.872863174552199,
            -2.669880792263208
           ],
           "z": [
            21.238073607209323,
            19.86962929016196
           ]
          },
          {
           "line": {
            "color": "red",
            "width": 5
           },
           "marker": {
            "color": "blue",
            "size": 2
           },
           "text": [
            "RShoulder"
           ],
           "type": "scatter3d",
           "x": [
            -1.571355822989651,
            1.34460220407624
           ],
           "y": [
            0.5174643068285862,
            0.182483072382415
           ],
           "z": [
            22.836103307094497,
            22.97127180168922
           ]
          },
          {
           "line": {
            "color": "red",
            "width": 5
           },
           "marker": {
            "color": "blue",
            "size": 2
           },
           "text": [
            "RElbow"
           ],
           "type": "scatter3d",
           "x": [
            -0.5183680677096842,
            -1.571355822989651
           ],
           "y": [
            -3.5895011580901164,
            0.5174643068285862
           ],
           "z": [
            19.893918572605454,
            22.836103307094497
           ]
          },
          {
           "line": {
            "color": "red",
            "width": 5
           },
           "marker": {
            "color": "blue",
            "size": 2
           },
           "text": [
            "RWrist"
           ],
           "type": "scatter3d",
           "x": [
            0.32630374348800206,
            -0.5183680677096842
           ],
           "y": [
            -4.483064147570297,
            -3.5895011580901164
           ],
           "z": [
            21.229300009798312,
            19.893918572605454
           ]
          },
          {
           "line": {
            "color": "#1f77b4",
            "width": 1
           },
           "marker": {
            "color": "#1f77b4",
            "size": 1
           },
           "type": "scatter3d",
           "x": [
            -7.68200201222643,
            -11.202351483965106,
            -10.955869104893946,
            -7.261455157517169,
            -6.696189981227148,
            -6.597702295821579,
            -6.51772886461975,
            -3.8476915953707365,
            -0.7970128046349325,
            -5.5020630048652315,
            -4.462829338330973,
            2.1426985093789725,
            -6.550621684435969,
            -4.382364421867683,
            -6.238933645893352,
            -6.0372324143801315,
            -5.622770625880111,
            -4.622031270382943,
            -1.8315147477995466,
            -8.80699809751267,
            -5.336259744172091,
            -3.3386011500038735,
            -6.154514249840276,
            -2.3716164831946065,
            -3.7972808897935995,
            -4.576736217307565,
            -5.1162575489259865,
            -4.079441163068022,
            -2.1208858457289037,
            -5.667957809262714,
            -7.811198372064535
           ],
           "y": [
            3.4053156803910536,
            3.729440580134272,
            7.115938837216567,
            6.2383953833599834,
            6.738902405987771,
            1.6798788535843796,
            0.426703045092959,
            -8.57887314276572,
            -5.457469816021779,
            -6.145413681234592,
            -2.651627769211558,
            -7.988855680680584,
            1.322022686032784,
            0.4111020926919453,
            3.3084733072069357,
            4.507646719655471,
            1.2562719135064158,
            2.5679035233151972,
            -4.250612202162369,
            -1.208029219654247,
            7.660506207376087,
            1.1225209147164903,
            -0.12399672775587334,
            6.2154445047511295,
            4.537339874920296,
            2.2609880239650932,
            3.2751112379121494,
            3.359583721700272,
            -7.870824768406664,
            1.2765968301708028,
            7.0431575239128525
           ],
           "z": [
            1.865911632557168,
            2.0831814398599002,
            2.4502047462026466,
            3.600422432940081,
            3.3586116742422365,
            2.8752883654471493,
            3.1498232277243945,
            4.465394927147864,
            2.7671204675596304,
            3.4168017828747113,
            3.173826242416413,
            3.3530783562129756,
            2.08089440622238,
            3.537429728401681,
            1.885924112360784,
            2.281288795428674,
            3.0206222088432257,
            3.2720535786143525,
            2.7877711354988826,
            1.5074967845823197,
            2.5428062168417425,
            3.6656635052035282,
            3.822880886229819,
            2.35614063913287,
            3.5399158247028906,
            3.365749150172884,
            3.8878939422390904,
            2.7601196551112954,
            2.01878197679254,
            2.7797540995971515,
            2.652222941943201
           ]
          },
          {
           "color": "#00FFFF",
           "type": "mesh3d",
           "x": [
            -50,
            50,
            -50,
            50
           ],
           "y": [
            -50,
            50,
            50,
            -50
           ],
           "z": [
            0,
            0,
            0,
            0
           ]
          }
         ],
         "name": "frame32"
        },
        {
         "data": [
          {
           "line": {
            "color": "red",
            "width": 5
           },
           "marker": {
            "color": "blue",
            "size": 2
           },
           "text": [
            "RHip"
           ],
           "type": "scatter3d",
           "x": [
            -0.9785843669111796,
            0.496526
           ],
           "y": [
            2.483264717530592,
            3.12917
           ],
           "z": [
            14.797185099825477,
            16.8173
           ]
          },
          {
           "line": {
            "color": "red",
            "width": 5
           },
           "marker": {
            "color": "blue",
            "size": 2
           },
           "text": [
            "RKnee"
           ],
           "type": "scatter3d",
           "x": [
            -4.237877565977608,
            -0.9785843669111796
           ],
           "y": [
            -0.03318082063762828,
            2.483264717530592
           ],
           "z": [
            8.622821933423328,
            14.797185099825477
           ]
          },
          {
           "line": {
            "color": "red",
            "width": 5
           },
           "marker": {
            "color": "blue",
            "size": 2
           },
           "text": [
            "RAnkle"
           ],
           "type": "scatter3d",
           "x": [
            -6.416882824203098,
            -4.237877565977608
           ],
           "y": [
            5.871462844333443,
            -0.03318082063762828
           ],
           "z": [
            3.3527467500595236,
            8.622821933423328
           ]
          },
          {
           "line": {
            "color": "black",
            "width": 5
           },
           "marker": {
            "color": "blue",
            "size": 2
           },
           "text": [
            "LHip"
           ],
           "type": "scatter3d",
           "x": [
            2.135471235264066,
            0.496526
           ],
           "y": [
            1.9599315221794804,
            3.12917
           ],
           "z": [
            15.24021789664721,
            16.8173
           ]
          },
          {
           "line": {
            "color": "black",
            "width": 5
           },
           "marker": {
            "color": "blue",
            "size": 2
           },
           "text": [
            "LKnee"
           ],
           "type": "scatter3d",
           "x": [
            3.5639718582227067,
            2.135471235264066
           ],
           "y": [
            -2.5696552706242697,
            1.9599315221794804
           ],
           "z": [
            9.292190989189946,
            15.24021789664721
           ]
          },
          {
           "line": {
            "color": "black",
            "width": 5
           },
           "marker": {
            "color": "blue",
            "size": 2
           },
           "text": [
            "LAnkle"
           ],
           "type": "scatter3d",
           "x": [
            6.950836335788079,
            3.5639718582227067
           ],
           "y": [
            0.2782211737200968,
            -2.5696552706242697
           ],
           "z": [
            2.479186660774639,
            9.292190989189946
           ]
          },
          {
           "line": {
            "color": "black",
            "width": 5
           },
           "marker": {
            "color": "blue",
            "size": 2
           },
           "text": [
            "Spine1"
           ],
           "type": "scatter3d",
           "x": [
            -0.33248461141141816,
            0.496526
           ],
           "y": [
            3.05136465023947,
            3.12917
           ],
           "z": [
            20.72035162971228,
            16.8173
           ]
          },
          {
           "line": {
            "color": "black",
            "width": 5
           },
           "marker": {
            "color": "blue",
            "size": 2
           },
           "text": [
            "Neck"
           ],
           "type": "scatter3d",
           "x": [
            -1.3876159856938948,
            -0.33248461141141816
           ],
           "y": [
            2.074883887259107,
            3.05136465023947
           ],
           "z": [
            24.23005481512829,
            20.72035162971228
           ]
          },
          {
           "line": {
            "color": "black",
            "width": 5
           },
           "marker": {
            "color": "blue",
            "size": 2
           },
           "text": [
            "Head"
           ],
           "type": "scatter3d",
           "x": [
            -1.88894024609218,
            -1.3876159856938948
           ],
           "y": [
            0.692607834706723,
            2.074883887259107
           ],
           "z": [
            25.23272826840075,
            24.23005481512829
           ]
          },
          {
           "line": {
            "color": "black",
            "width": 5
           },
           "marker": {
            "color": "blue",
            "size": 2
           },
           "text": [
            "Site"
           ],
           "type": "scatter3d",
           "x": [
            -2.4471723145656634,
            -1.88894024609218
           ],
           "y": [
            -0.9055612197121874,
            0.692607834706723
           ],
           "z": [
            25.791302269569368,
            25.23272826840075
           ]
          },
          {
           "line": {
            "color": "black",
            "width": 5
           },
           "marker": {
            "color": "blue",
            "size": 2
           },
           "text": [
            "LShoulder"
           ],
           "type": "scatter3d",
           "x": [
            2.0147091892491127,
            -1.3876159856938948
           ],
           "y": [
            2.621702948576677,
            2.074883887259107
           ],
           "z": [
            24.885880156567605,
            24.23005481512829
           ]
          },
          {
           "line": {
            "color": "black",
            "width": 5
           },
           "marker": {
            "color": "blue",
            "size": 2
           },
           "text": [
            "LElbow"
           ],
           "type": "scatter3d",
           "x": [
            1.635821415822241,
            2.0147091892491127
           ],
           "y": [
            -2.1276310543613786,
            2.621702948576677
           ],
           "z": [
            25.596601843199593,
            24.885880156567605
           ]
          },
          {
           "line": {
            "color": "black",
            "width": 5
           },
           "marker": {
            "color": "blue",
            "size": 2
           },
           "text": [
            "LWrist"
           ],
           "type": "scatter3d",
           "x": [
            0.7467096452424707,
            1.635821415822241
           ],
           "y": [
            -2.2159988245896627,
            -2.1276310543613786
           ],
           "z": [
            27.208292378228382,
            25.596601843199593
           ]
          },
          {
           "line": {
            "color": "red",
            "width": 5
           },
           "marker": {
            "color": "blue",
            "size": 2
           },
           "text": [
            "RShoulder"
           ],
           "type": "scatter3d",
           "x": [
            -4.190228617972145,
            -1.3876159856938948
           ],
           "y": [
            2.761178269397865,
            2.074883887259107
           ],
           "z": [
            23.076557403476233,
            24.23005481512829
           ]
          },
          {
           "line": {
            "color": "red",
            "width": 5
           },
           "marker": {
            "color": "blue",
            "size": 2
           },
           "text": [
            "RElbow"
           ],
           "type": "scatter3d",
           "x": [
            -1.8472637806870371,
            -4.190228617972145
           ],
           "y": [
            -3.2523874445400556,
            2.761178269397865
           ],
           "z": [
            25.181077437438763,
            23.076557403476233
           ]
          },
          {
           "line": {
            "color": "red",
            "width": 5
           },
           "marker": {
            "color": "blue",
            "size": 2
           },
           "text": [
            "RWrist"
           ],
           "type": "scatter3d",
           "x": [
            -1.926245699311741,
            -1.8472637806870371
           ],
           "y": [
            -3.57177544236691,
            -3.2523874445400556
           ],
           "z": [
            26.96627267353327,
            25.181077437438763
           ]
          },
          {
           "line": {
            "color": "#1f77b4",
            "width": 1
           },
           "marker": {
            "color": "#1f77b4",
            "size": 1
           },
           "type": "scatter3d",
           "x": [
            -7.68200201222643,
            -11.202351483965106,
            -10.955869104893946,
            -7.261455157517169,
            -6.696189981227148,
            -6.597702295821579,
            -6.51772886461975,
            -3.8476915953707365,
            -0.7970128046349325,
            -5.5020630048652315,
            -4.462829338330973,
            2.1426985093789725,
            -6.550621684435969,
            -4.382364421867683,
            -6.238933645893352,
            -6.0372324143801315,
            -5.622770625880111,
            -4.622031270382943,
            -1.8315147477995466,
            -8.80699809751267,
            -5.336259744172091,
            -3.3386011500038735,
            -6.154514249840276,
            -2.3716164831946065,
            -3.7972808897935995,
            -4.576736217307565,
            -5.1162575489259865,
            -4.079441163068022,
            -2.1208858457289037,
            -5.667957809262714,
            -7.811198372064535,
            -2.302780558625111
           ],
           "y": [
            3.4053156803910536,
            3.729440580134272,
            7.115938837216567,
            6.2383953833599834,
            6.738902405987771,
            1.6798788535843796,
            0.426703045092959,
            -8.57887314276572,
            -5.457469816021779,
            -6.145413681234592,
            -2.651627769211558,
            -7.988855680680584,
            1.322022686032784,
            0.4111020926919453,
            3.3084733072069357,
            4.507646719655471,
            1.2562719135064158,
            2.5679035233151972,
            -4.250612202162369,
            -1.208029219654247,
            7.660506207376087,
            1.1225209147164903,
            -0.12399672775587334,
            6.2154445047511295,
            4.537339874920296,
            2.2609880239650932,
            3.2751112379121494,
            3.359583721700272,
            -7.870824768406664,
            1.2765968301708028,
            7.0431575239128525,
            7.153181259315232
           ],
           "z": [
            1.865911632557168,
            2.0831814398599002,
            2.4502047462026466,
            3.600422432940081,
            3.3586116742422365,
            2.8752883654471493,
            3.1498232277243945,
            4.465394927147864,
            2.7671204675596304,
            3.4168017828747113,
            3.173826242416413,
            3.3530783562129756,
            2.08089440622238,
            3.537429728401681,
            1.885924112360784,
            2.281288795428674,
            3.0206222088432257,
            3.2720535786143525,
            2.7877711354988826,
            1.5074967845823197,
            2.5428062168417425,
            3.6656635052035282,
            3.822880886229819,
            2.35614063913287,
            3.5399158247028906,
            3.365749150172884,
            3.8878939422390904,
            2.7601196551112954,
            2.01878197679254,
            2.7797540995971515,
            2.652222941943201,
            2.765213824504499
           ]
          },
          {
           "color": "#00FFFF",
           "type": "mesh3d",
           "x": [
            -50,
            50,
            -50,
            50
           ],
           "y": [
            -50,
            50,
            50,
            -50
           ],
           "z": [
            0,
            0,
            0,
            0
           ]
          }
         ],
         "name": "frame33"
        },
        {
         "data": [
          {
           "line": {
            "color": "red",
            "width": 5
           },
           "marker": {
            "color": "blue",
            "size": 2
           },
           "text": [
            "RHip"
           ],
           "type": "scatter3d",
           "x": [
            0.573542496534903,
            2.11221
           ],
           "y": [
            3.542924393480272,
            3.31741
           ],
           "z": [
            14.88517634399342,
            16.9481
           ]
          },
          {
           "line": {
            "color": "red",
            "width": 5
           },
           "marker": {
            "color": "blue",
            "size": 2
           },
           "text": [
            "RKnee"
           ],
           "type": "scatter3d",
           "x": [
            -1.8233882695542436,
            0.573542496534903
           ],
           "y": [
            3.054285763835863,
            3.542924393480272
           ],
           "z": [
            7.8784505746439795,
            14.88517634399342
           ]
          },
          {
           "line": {
            "color": "red",
            "width": 5
           },
           "marker": {
            "color": "blue",
            "size": 2
           },
           "text": [
            "RAnkle"
           ],
           "type": "scatter3d",
           "x": [
            -1.427036396898762,
            -1.8233882695542436
           ],
           "y": [
            9.124324108019174,
            3.054285763835863
           ],
           "z": [
            2.3662719801904943,
            7.8784505746439795
           ]
          },
          {
           "line": {
            "color": "black",
            "width": 5
           },
           "marker": {
            "color": "blue",
            "size": 2
           },
           "text": [
            "LHip"
           ],
           "type": "scatter3d",
           "x": [
            3.311276548977294,
            2.11221
           ],
           "y": [
            1.9321260797213184,
            3.31741
           ],
           "z": [
            15.163814166881465,
            16.9481
           ]
          },
          {
           "line": {
            "color": "black",
            "width": 5
           },
           "marker": {
            "color": "blue",
            "size": 2
           },
           "text": [
            "LKnee"
           ],
           "type": "scatter3d",
           "x": [
            3.7504900866073423,
            3.311276548977294
           ],
           "y": [
            -1.925919922553932,
            1.9321260797213184
           ],
           "z": [
            8.617107578996112,
            15.163814166881465
           ]
          },
          {
           "line": {
            "color": "black",
            "width": 5
           },
           "marker": {
            "color": "blue",
            "size": 2
           },
           "text": [
            "LAnkle"
           ],
           "type": "scatter3d",
           "x": [
            7.639800652542901,
            3.7504900866073423
           ],
           "y": [
            1.4219427904749076,
            -1.925919922553932
           ],
           "z": [
            2.3192223952963795,
            8.617107578996112
           ]
          },
          {
           "line": {
            "color": "black",
            "width": 5
           },
           "marker": {
            "color": "blue",
            "size": 2
           },
           "text": [
            "Spine1"
           ],
           "type": "scatter3d",
           "x": [
            1.110950288403169,
            2.11221
           ],
           "y": [
            3.026395660041011,
            3.31741
           ],
           "z": [
            20.81241142828537,
            16.9481
           ]
          },
          {
           "line": {
            "color": "black",
            "width": 5
           },
           "marker": {
            "color": "blue",
            "size": 2
           },
           "text": [
            "Neck"
           ],
           "type": "scatter3d",
           "x": [
            -0.1508570564323427,
            1.110950288403169
           ],
           "y": [
            2.3265877388516945,
            3.026395660041011
           ],
           "z": [
            24.326472831724367,
            20.81241142828537
           ]
          },
          {
           "line": {
            "color": "black",
            "width": 5
           },
           "marker": {
            "color": "blue",
            "size": 2
           },
           "text": [
            "Head"
           ],
           "type": "scatter3d",
           "x": [
            -0.6076939931541556,
            -0.1508570564323427
           ],
           "y": [
            1.7188235790390198,
            2.3265877388516945
           ],
           "z": [
            25.935599890944623,
            24.326472831724367
           ]
          },
          {
           "line": {
            "color": "black",
            "width": 5
           },
           "marker": {
            "color": "blue",
            "size": 2
           },
           "text": [
            "Site"
           ],
           "type": "scatter3d",
           "x": [
            -1.0752262271453639,
            -0.6076939931541556
           ],
           "y": [
            0.9165490485035259,
            1.7188235790390198
           ],
           "z": [
            27.457290224550373,
            25.935599890944623
           ]
          },
          {
           "line": {
            "color": "black",
            "width": 5
           },
           "marker": {
            "color": "blue",
            "size": 2
           },
           "text": [
            "LShoulder"
           ],
           "type": "scatter3d",
           "x": [
            3.4254183787901225,
            -0.1508570564323427
           ],
           "y": [
            1.593335680535607,
            2.3265877388516945
           ],
           "z": [
            24.76653995142432,
            24.326472831724367
           ]
          },
          {
           "line": {
            "color": "black",
            "width": 5
           },
           "marker": {
            "color": "blue",
            "size": 2
           },
           "text": [
            "LElbow"
           ],
           "type": "scatter3d",
           "x": [
            3.427124778252355,
            3.4254183787901225
           ],
           "y": [
            -1.2539302704397226,
            1.593335680535607
           ],
           "z": [
            22.60020534597406,
            24.76653995142432
           ]
          },
          {
           "line": {
            "color": "black",
            "width": 5
           },
           "marker": {
            "color": "blue",
            "size": 2
           },
           "text": [
            "LWrist"
           ],
           "type": "scatter3d",
           "x": [
            2.615497429709373,
            3.427124778252355
           ],
           "y": [
            -2.093494283707244,
            -1.2539302704397226
           ],
           "z": [
            24.025781825445865,
            22.60020534597406
           ]
          },
          {
           "line": {
            "color": "red",
            "width": 5
           },
           "marker": {
            "color": "blue",
            "size": 2
           },
           "text": [
            "RShoulder"
           ],
           "type": "scatter3d",
           "x": [
            -2.5251526670226627,
            -0.1508570564323427
           ],
           "y": [
            3.731545890689988,
            2.3265877388516945
           ],
           "z": [
            23.420019729748415,
            24.326472831724367
           ]
          },
          {
           "line": {
            "color": "red",
            "width": 5
           },
           "marker": {
            "color": "blue",
            "size": 2
           },
           "text": [
            "RElbow"
           ],
           "type": "scatter3d",
           "x": [
            -2.093644626030417,
            -2.5251526670226627
           ],
           "y": [
            -1.9360352747236922,
            3.731545890689988
           ],
           "z": [
            20.941211894177552,
            23.420019729748415
           ]
          },
          {
           "line": {
            "color": "red",
            "width": 5
           },
           "marker": {
            "color": "blue",
            "size": 2
           },
           "text": [
            "RWrist"
           ],
           "type": "scatter3d",
           "x": [
            -1.509765231180453,
            -2.093644626030417
           ],
           "y": [
            -3.083759021743672,
            -1.9360352747236922
           ],
           "z": [
            22.220658618506494,
            20.941211894177552
           ]
          },
          {
           "line": {
            "color": "#1f77b4",
            "width": 1
           },
           "marker": {
            "color": "#1f77b4",
            "size": 1
           },
           "type": "scatter3d",
           "x": [
            -7.68200201222643,
            -11.202351483965106,
            -10.955869104893946,
            -7.261455157517169,
            -6.696189981227148,
            -6.597702295821579,
            -6.51772886461975,
            -3.8476915953707365,
            -0.7970128046349325,
            -5.5020630048652315,
            -4.462829338330973,
            2.1426985093789725,
            -6.550621684435969,
            -4.382364421867683,
            -6.238933645893352,
            -6.0372324143801315,
            -5.622770625880111,
            -4.622031270382943,
            -1.8315147477995466,
            -8.80699809751267,
            -5.336259744172091,
            -3.3386011500038735,
            -6.154514249840276,
            -2.3716164831946065,
            -3.7972808897935995,
            -4.576736217307565,
            -5.1162575489259865,
            -4.079441163068022,
            -2.1208858457289037,
            -5.667957809262714,
            -7.811198372064535,
            -2.302780558625111,
            -6.416882824203098
           ],
           "y": [
            3.4053156803910536,
            3.729440580134272,
            7.115938837216567,
            6.2383953833599834,
            6.738902405987771,
            1.6798788535843796,
            0.426703045092959,
            -8.57887314276572,
            -5.457469816021779,
            -6.145413681234592,
            -2.651627769211558,
            -7.988855680680584,
            1.322022686032784,
            0.4111020926919453,
            3.3084733072069357,
            4.507646719655471,
            1.2562719135064158,
            2.5679035233151972,
            -4.250612202162369,
            -1.208029219654247,
            7.660506207376087,
            1.1225209147164903,
            -0.12399672775587334,
            6.2154445047511295,
            4.537339874920296,
            2.2609880239650932,
            3.2751112379121494,
            3.359583721700272,
            -7.870824768406664,
            1.2765968301708028,
            7.0431575239128525,
            7.153181259315232,
            5.871462844333443
           ],
           "z": [
            1.865911632557168,
            2.0831814398599002,
            2.4502047462026466,
            3.600422432940081,
            3.3586116742422365,
            2.8752883654471493,
            3.1498232277243945,
            4.465394927147864,
            2.7671204675596304,
            3.4168017828747113,
            3.173826242416413,
            3.3530783562129756,
            2.08089440622238,
            3.537429728401681,
            1.885924112360784,
            2.281288795428674,
            3.0206222088432257,
            3.2720535786143525,
            2.7877711354988826,
            1.5074967845823197,
            2.5428062168417425,
            3.6656635052035282,
            3.822880886229819,
            2.35614063913287,
            3.5399158247028906,
            3.365749150172884,
            3.8878939422390904,
            2.7601196551112954,
            2.01878197679254,
            2.7797540995971515,
            2.652222941943201,
            2.765213824504499,
            3.3527467500595236
           ]
          },
          {
           "color": "#00FFFF",
           "type": "mesh3d",
           "x": [
            -50,
            50,
            -50,
            50
           ],
           "y": [
            -50,
            50,
            50,
            -50
           ],
           "z": [
            0,
            0,
            0,
            0
           ]
          }
         ],
         "name": "frame34"
        },
        {
         "data": [
          {
           "line": {
            "color": "red",
            "width": 5
           },
           "marker": {
            "color": "blue",
            "size": 2
           },
           "text": [
            "RHip"
           ],
           "type": "scatter3d",
           "x": [
            1.0148849620078002,
            2.75492
           ],
           "y": [
            -1.5879988333129464,
            -0.780828
           ],
           "z": [
            16.337262005384968,
            18.0678
           ]
          },
          {
           "line": {
            "color": "red",
            "width": 5
           },
           "marker": {
            "color": "blue",
            "size": 2
           },
           "text": [
            "RKnee"
           ],
           "type": "scatter3d",
           "x": [
            -0.7252198102641445,
            1.0148849620078002
           ],
           "y": [
            -2.1077046974861355,
            -1.5879988333129464
           ],
           "z": [
            9.141416536579278,
            16.337262005384968
           ]
          },
          {
           "line": {
            "color": "red",
            "width": 5
           },
           "marker": {
            "color": "blue",
            "size": 2
           },
           "text": [
            "RAnkle"
           ],
           "type": "scatter3d",
           "x": [
            -3.9840501846998935,
            -0.7252198102641445
           ],
           "y": [
            3.245368448314138,
            -2.1077046974861355
           ],
           "z": [
            3.83941638094638,
            9.141416536579278
           ]
          },
          {
           "line": {
            "color": "black",
            "width": 5
           },
           "marker": {
            "color": "blue",
            "size": 2
           },
           "text": [
            "LHip"
           ],
           "type": "scatter3d",
           "x": [
            4.078057964158252,
            2.75492
           ],
           "y": [
            -0.8295854752849523,
            -0.780828
           ],
           "z": [
            15.879792527587373,
            18.0678
           ]
          },
          {
           "line": {
            "color": "black",
            "width": 5
           },
           "marker": {
            "color": "blue",
            "size": 2
           },
           "text": [
            "LKnee"
           ],
           "type": "scatter3d",
           "x": [
            6.863046405514888,
            4.078057964158252
           ],
           "y": [
            -4.786133632140516,
            -0.8295854752849523
           ],
           "z": [
            10.003878922098966,
            15.879792527587373
           ]
          },
          {
           "line": {
            "color": "black",
            "width": 5
           },
           "marker": {
            "color": "blue",
            "size": 2
           },
           "text": [
            "LAnkle"
           ],
           "type": "scatter3d",
           "x": [
            8.434400619267976,
            6.863046405514888
           ],
           "y": [
            -1.782797757803798,
            -4.786133632140516
           ],
           "z": [
            2.620851171135686,
            10.003878922098966
           ]
          },
          {
           "line": {
            "color": "black",
            "width": 5
           },
           "marker": {
            "color": "blue",
            "size": 2
           },
           "text": [
            "Spine1"
           ],
           "type": "scatter3d",
           "x": [
            3.7246700457222484,
            2.75492
           ],
           "y": [
            -1.520779945970903,
            -0.780828
           ],
           "z": [
            21.883805552060252,
            18.0678
           ]
          },
          {
           "line": {
            "color": "black",
            "width": 5
           },
           "marker": {
            "color": "blue",
            "size": 2
           },
           "text": [
            "Neck"
           ],
           "type": "scatter3d",
           "x": [
            5.179501259632675,
            3.7246700457222484
           ],
           "y": [
            -2.30294434074488,
            -1.520779945970903
           ],
           "z": [
            25.30533495175858,
            21.883805552060252
           ]
          },
          {
           "line": {
            "color": "black",
            "width": 5
           },
           "marker": {
            "color": "blue",
            "size": 2
           },
           "text": [
            "Head"
           ],
           "type": "scatter3d",
           "x": [
            5.946304002985934,
            5.179501259632675
           ],
           "y": [
            -2.703773127151381,
            -2.30294434074488
           ],
           "z": [
            26.860557440727543,
            25.30533495175858
           ]
          },
          {
           "line": {
            "color": "black",
            "width": 5
           },
           "marker": {
            "color": "blue",
            "size": 2
           },
           "text": [
            "Site"
           ],
           "type": "scatter3d",
           "x": [
            6.686585882933356,
            5.946304002985934
           ],
           "y": [
            -3.3104656112774555,
            -2.703773127151381
           ],
           "z": [
            28.364445485590718,
            26.860557440727543
           ]
          },
          {
           "line": {
            "color": "black",
            "width": 5
           },
           "marker": {
            "color": "blue",
            "size": 2
           },
           "text": [
            "LShoulder"
           ],
           "type": "scatter3d",
           "x": [
            7.765842010352384,
            5.179501259632675
           ],
           "y": [
            -0.3348300741656871,
            -2.30294434074488
           ],
           "z": [
            24.18771698213587,
            25.30533495175858
           ]
          },
          {
           "line": {
            "color": "black",
            "width": 5
           },
           "marker": {
            "color": "blue",
            "size": 2
           },
           "text": [
            "LElbow"
           ],
           "type": "scatter3d",
           "x": [
            9.383848749318577,
            7.765842010352384
           ],
           "y": [
            -2.446393819979222,
            -0.3348300741656871
           ],
           "z": [
            22.136466168589447,
            24.18771698213587
           ]
          },
          {
           "line": {
            "color": "black",
            "width": 5
           },
           "marker": {
            "color": "blue",
            "size": 2
           },
           "text": [
            "LWrist"
           ],
           "type": "scatter3d",
           "x": [
            9.397649122295853,
            9.383848749318577
           ],
           "y": [
            -3.4355734598936687,
            -2.446393819979222
           ],
           "z": [
            23.691203501319453,
            22.136466168589447
           ]
          },
          {
           "line": {
            "color": "red",
            "width": 5
           },
           "marker": {
            "color": "blue",
            "size": 2
           },
           "text": [
            "RShoulder"
           ],
           "type": "scatter3d",
           "x": [
            2.281500863940222,
            5.179501259632675
           ],
           "y": [
            -3.3778074217072276,
            -2.30294434074488
           ],
           "z": [
            25.755086253742157,
            25.30533495175858
           ]
          },
          {
           "line": {
            "color": "red",
            "width": 5
           },
           "marker": {
            "color": "blue",
            "size": 2
           },
           "text": [
            "RElbow"
           ],
           "type": "scatter3d",
           "x": [
            2.358336101897036,
            2.281500863940222
           ],
           "y": [
            -7.463700910916296,
            -3.3778074217072276
           ],
           "z": [
            21.662601793047145,
            25.755086253742157
           ]
          },
          {
           "line": {
            "color": "red",
            "width": 5
           },
           "marker": {
            "color": "blue",
            "size": 2
           },
           "text": [
            "RWrist"
           ],
           "type": "scatter3d",
           "x": [
            3.6449850448484997,
            2.358336101897036
           ],
           "y": [
            -8.600737296139243,
            -7.463700910916296
           ],
           "z": [
            22.251542896962484,
            21.662601793047145
           ]
          },
          {
           "line": {
            "color": "#1f77b4",
            "width": 1
           },
           "marker": {
            "color": "#1f77b4",
            "size": 1
           },
           "type": "scatter3d",
           "x": [
            -7.68200201222643,
            -11.202351483965106,
            -10.955869104893946,
            -7.261455157517169,
            -6.696189981227148,
            -6.597702295821579,
            -6.51772886461975,
            -3.8476915953707365,
            -0.7970128046349325,
            -5.5020630048652315,
            -4.462829338330973,
            2.1426985093789725,
            -6.550621684435969,
            -4.382364421867683,
            -6.238933645893352,
            -6.0372324143801315,
            -5.622770625880111,
            -4.622031270382943,
            -1.8315147477995466,
            -8.80699809751267,
            -5.336259744172091,
            -3.3386011500038735,
            -6.154514249840276,
            -2.3716164831946065,
            -3.7972808897935995,
            -4.576736217307565,
            -5.1162575489259865,
            -4.079441163068022,
            -2.1208858457289037,
            -5.667957809262714,
            -7.811198372064535,
            -2.302780558625111,
            -6.416882824203098,
            -1.427036396898762
           ],
           "y": [
            3.4053156803910536,
            3.729440580134272,
            7.115938837216567,
            6.2383953833599834,
            6.738902405987771,
            1.6798788535843796,
            0.426703045092959,
            -8.57887314276572,
            -5.457469816021779,
            -6.145413681234592,
            -2.651627769211558,
            -7.988855680680584,
            1.322022686032784,
            0.4111020926919453,
            3.3084733072069357,
            4.507646719655471,
            1.2562719135064158,
            2.5679035233151972,
            -4.250612202162369,
            -1.208029219654247,
            7.660506207376087,
            1.1225209147164903,
            -0.12399672775587334,
            6.2154445047511295,
            4.537339874920296,
            2.2609880239650932,
            3.2751112379121494,
            3.359583721700272,
            -7.870824768406664,
            1.2765968301708028,
            7.0431575239128525,
            7.153181259315232,
            5.871462844333443,
            9.124324108019174
           ],
           "z": [
            1.865911632557168,
            2.0831814398599002,
            2.4502047462026466,
            3.600422432940081,
            3.3586116742422365,
            2.8752883654471493,
            3.1498232277243945,
            4.465394927147864,
            2.7671204675596304,
            3.4168017828747113,
            3.173826242416413,
            3.3530783562129756,
            2.08089440622238,
            3.537429728401681,
            1.885924112360784,
            2.281288795428674,
            3.0206222088432257,
            3.2720535786143525,
            2.7877711354988826,
            1.5074967845823197,
            2.5428062168417425,
            3.6656635052035282,
            3.822880886229819,
            2.35614063913287,
            3.5399158247028906,
            3.365749150172884,
            3.8878939422390904,
            2.7601196551112954,
            2.01878197679254,
            2.7797540995971515,
            2.652222941943201,
            2.765213824504499,
            3.3527467500595236,
            2.3662719801904943
           ]
          },
          {
           "color": "#00FFFF",
           "type": "mesh3d",
           "x": [
            -50,
            50,
            -50,
            50
           ],
           "y": [
            -50,
            50,
            50,
            -50
           ],
           "z": [
            0,
            0,
            0,
            0
           ]
          }
         ],
         "name": "frame35"
        },
        {
         "data": [
          {
           "line": {
            "color": "red",
            "width": 5
           },
           "marker": {
            "color": "blue",
            "size": 2
           },
           "text": [
            "RHip"
           ],
           "type": "scatter3d",
           "x": [
            2.0240337642654773,
            3.95928
           ],
           "y": [
            -4.3057995350286316,
            -3.4841
           ],
           "z": [
            15.11928705054648,
            16.6205
           ]
          },
          {
           "line": {
            "color": "red",
            "width": 5
           },
           "marker": {
            "color": "blue",
            "size": 2
           },
           "text": [
            "RKnee"
           ],
           "type": "scatter3d",
           "x": [
            0.21994469357459256,
            2.0240337642654773
           ],
           "y": [
            -2.974123395914369,
            -4.3057995350286316
           ],
           "z": [
            8.044673838490404,
            15.11928705054648
           ]
          },
          {
           "line": {
            "color": "red",
            "width": 5
           },
           "marker": {
            "color": "blue",
            "size": 2
           },
           "text": [
            "RAnkle"
           ],
           "type": "scatter3d",
           "x": [
            -2.278256598067263,
            0.21994469357459256
           ],
           "y": [
            2.977563710489315,
            -2.974123395914369
           ],
           "z": [
            2.972890714393764,
            8.044673838490404
           ]
          },
          {
           "line": {
            "color": "black",
            "width": 5
           },
           "marker": {
            "color": "blue",
            "size": 2
           },
           "text": [
            "LHip"
           ],
           "type": "scatter3d",
           "x": [
            5.074363401186287,
            3.95928
           ],
           "y": [
            -3.799153549446842,
            -3.4841
           ],
           "z": [
            14.340636334710721,
            16.6205
           ]
          },
          {
           "line": {
            "color": "black",
            "width": 5
           },
           "marker": {
            "color": "blue",
            "size": 2
           },
           "text": [
            "LKnee"
           ],
           "type": "scatter3d",
           "x": [
            8.158783791918633,
            5.074363401186287
           ],
           "y": [
            -8.401945506392888,
            -3.799153549446842
           ],
           "z": [
            9.121685128819031,
            14.340636334710721
           ]
          },
          {
           "line": {
            "color": "black",
            "width": 5
           },
           "marker": {
            "color": "blue",
            "size": 2
           },
           "text": [
            "LAnkle"
           ],
           "type": "scatter3d",
           "x": [
            9.192349279737863,
            8.158783791918633
           ],
           "y": [
            -5.256138533633369,
            -8.401945506392888
           ],
           "z": [
            1.7032001026713086,
            9.121685128819031
           ]
          },
          {
           "line": {
            "color": "black",
            "width": 5
           },
           "marker": {
            "color": "blue",
            "size": 2
           },
           "text": [
            "Spine1"
           ],
           "type": "scatter3d",
           "x": [
            5.598701436751574,
            3.95928
           ],
           "y": [
            -3.3289890216822644,
            -3.4841
           ],
           "z": [
            20.26075762814651,
            16.6205
           ]
          },
          {
           "line": {
            "color": "black",
            "width": 5
           },
           "marker": {
            "color": "blue",
            "size": 2
           },
           "text": [
            "Neck"
           ],
           "type": "scatter3d",
           "x": [
            8.077052514015083,
            5.598701436751574
           ],
           "y": [
            -3.2028480737195335,
            -3.3289890216822644
           ],
           "z": [
            23.137894587546953,
            20.26075762814651
           ]
          },
          {
           "line": {
            "color": "black",
            "width": 5
           },
           "marker": {
            "color": "blue",
            "size": 2
           },
           "text": [
            "Head"
           ],
           "type": "scatter3d",
           "x": [
            9.005592366159812,
            8.077052514015083
           ],
           "y": [
            -3.614636769695639,
            -3.2028480737195335
           ],
           "z": [
            24.59926756056457,
            23.137894587546953
           ]
          },
          {
           "line": {
            "color": "black",
            "width": 5
           },
           "marker": {
            "color": "blue",
            "size": 2
           },
           "text": [
            "Site"
           ],
           "type": "scatter3d",
           "x": [
            9.809330869935161,
            9.005592366159812
           ],
           "y": [
            -4.309267623278326,
            -3.614636769695639
           ],
           "z": [
            26.030792858404567,
            24.59926756056457
           ]
          },
          {
           "line": {
            "color": "black",
            "width": 5
           },
           "marker": {
            "color": "blue",
            "size": 2
           },
           "text": [
            "LShoulder"
           ],
           "type": "scatter3d",
           "x": [
            9.456048065705717,
            8.077052514015083
           ],
           "y": [
            -0.6191883111008489,
            -3.2028480737195335
           ],
           "z": [
            21.168178653255058,
            23.137894587546953
           ]
          },
          {
           "line": {
            "color": "black",
            "width": 5
           },
           "marker": {
            "color": "blue",
            "size": 2
           },
           "text": [
            "LElbow"
           ],
           "type": "scatter3d",
           "x": [
            8.441141400268673,
            9.456048065705717
           ],
           "y": [
            -2.1073140252650946,
            -0.6191883111008489
           ],
           "z": [
            16.826221098977765,
            21.168178653255058
           ]
          },
          {
           "line": {
            "color": "black",
            "width": 5
           },
           "marker": {
            "color": "blue",
            "size": 2
           },
           "text": [
            "LWrist"
           ],
           "type": "scatter3d",
           "x": [
            9.734411329929605,
            8.441141400268673
           ],
           "y": [
            -3.399074169211828,
            -2.1073140252650946
           ],
           "z": [
            16.59237584320908,
            16.826221098977765
           ]
          },
          {
           "line": {
            "color": "red",
            "width": 5
           },
           "marker": {
            "color": "blue",
            "size": 2
           },
           "text": [
            "RShoulder"
           ],
           "type": "scatter3d",
           "x": [
            5.918457125297887,
            8.077052514015083
           ],
           "y": [
            -4.878941542960856,
            -3.2028480737195335
           ],
           "z": [
            24.504989724241653,
            23.137894587546953
           ]
          },
          {
           "line": {
            "color": "red",
            "width": 5
           },
           "marker": {
            "color": "blue",
            "size": 2
           },
           "text": [
            "RElbow"
           ],
           "type": "scatter3d",
           "x": [
            8.961621487771891,
            5.918457125297887
           ],
           "y": [
            -10.846938293179972,
            -4.878941542960856
           ],
           "z": [
            20.253237708439933,
            24.504989724241653
           ]
          },
          {
           "line": {
            "color": "red",
            "width": 5
           },
           "marker": {
            "color": "blue",
            "size": 2
           },
           "text": [
            "RWrist"
           ],
           "type": "scatter3d",
           "x": [
            10.629100487370255,
            8.961621487771891
           ],
           "y": [
            -11.558455321374417,
            -10.846938293179972
           ],
           "z": [
            20.161443525139557,
            20.253237708439933
           ]
          },
          {
           "line": {
            "color": "#1f77b4",
            "width": 1
           },
           "marker": {
            "color": "#1f77b4",
            "size": 1
           },
           "type": "scatter3d",
           "x": [
            -7.68200201222643,
            -11.202351483965106,
            -10.955869104893946,
            -7.261455157517169,
            -6.696189981227148,
            -6.597702295821579,
            -6.51772886461975,
            -3.8476915953707365,
            -0.7970128046349325,
            -5.5020630048652315,
            -4.462829338330973,
            2.1426985093789725,
            -6.550621684435969,
            -4.382364421867683,
            -6.238933645893352,
            -6.0372324143801315,
            -5.622770625880111,
            -4.622031270382943,
            -1.8315147477995466,
            -8.80699809751267,
            -5.336259744172091,
            -3.3386011500038735,
            -6.154514249840276,
            -2.3716164831946065,
            -3.7972808897935995,
            -4.576736217307565,
            -5.1162575489259865,
            -4.079441163068022,
            -2.1208858457289037,
            -5.667957809262714,
            -7.811198372064535,
            -2.302780558625111,
            -6.416882824203098,
            -1.427036396898762,
            -3.9840501846998935
           ],
           "y": [
            3.4053156803910536,
            3.729440580134272,
            7.115938837216567,
            6.2383953833599834,
            6.738902405987771,
            1.6798788535843796,
            0.426703045092959,
            -8.57887314276572,
            -5.457469816021779,
            -6.145413681234592,
            -2.651627769211558,
            -7.988855680680584,
            1.322022686032784,
            0.4111020926919453,
            3.3084733072069357,
            4.507646719655471,
            1.2562719135064158,
            2.5679035233151972,
            -4.250612202162369,
            -1.208029219654247,
            7.660506207376087,
            1.1225209147164903,
            -0.12399672775587334,
            6.2154445047511295,
            4.537339874920296,
            2.2609880239650932,
            3.2751112379121494,
            3.359583721700272,
            -7.870824768406664,
            1.2765968301708028,
            7.0431575239128525,
            7.153181259315232,
            5.871462844333443,
            9.124324108019174,
            3.245368448314138
           ],
           "z": [
            1.865911632557168,
            2.0831814398599002,
            2.4502047462026466,
            3.600422432940081,
            3.3586116742422365,
            2.8752883654471493,
            3.1498232277243945,
            4.465394927147864,
            2.7671204675596304,
            3.4168017828747113,
            3.173826242416413,
            3.3530783562129756,
            2.08089440622238,
            3.537429728401681,
            1.885924112360784,
            2.281288795428674,
            3.0206222088432257,
            3.2720535786143525,
            2.7877711354988826,
            1.5074967845823197,
            2.5428062168417425,
            3.6656635052035282,
            3.822880886229819,
            2.35614063913287,
            3.5399158247028906,
            3.365749150172884,
            3.8878939422390904,
            2.7601196551112954,
            2.01878197679254,
            2.7797540995971515,
            2.652222941943201,
            2.765213824504499,
            3.3527467500595236,
            2.3662719801904943,
            3.83941638094638
           ]
          },
          {
           "color": "#00FFFF",
           "type": "mesh3d",
           "x": [
            -50,
            50,
            -50,
            50
           ],
           "y": [
            -50,
            50,
            50,
            -50
           ],
           "z": [
            0,
            0,
            0,
            0
           ]
          }
         ],
         "name": "frame36"
        },
        {
         "data": [
          {
           "line": {
            "color": "red",
            "width": 5
           },
           "marker": {
            "color": "blue",
            "size": 2
           },
           "text": [
            "RHip"
           ],
           "type": "scatter3d",
           "x": [
            -0.8873566756095621,
            0.399124
           ],
           "y": [
            1.9456330589739639,
            2.56985
           ],
           "z": [
            16.211312418650564,
            18.3629
           ]
          },
          {
           "line": {
            "color": "red",
            "width": 5
           },
           "marker": {
            "color": "blue",
            "size": 2
           },
           "text": [
            "RKnee"
           ],
           "type": "scatter3d",
           "x": [
            -1.6459974958464159,
            -0.8873566756095621
           ],
           "y": [
            0.3125715133947189,
            1.9456330589739639
           ],
           "z": [
            9.011602361371061,
            16.211312418650564
           ]
          },
          {
           "line": {
            "color": "red",
            "width": 5
           },
           "marker": {
            "color": "blue",
            "size": 2
           },
           "text": [
            "RAnkle"
           ],
           "type": "scatter3d",
           "x": [
            -5.53744891249996,
            -1.6459974958464159
           ],
           "y": [
            4.949095329845723,
            0.3125715133947189
           ],
           "z": [
            3.4667104836811014,
            9.011602361371061
           ]
          },
          {
           "line": {
            "color": "black",
            "width": 5
           },
           "marker": {
            "color": "blue",
            "size": 2
           },
           "text": [
            "LHip"
           ],
           "type": "scatter3d",
           "x": [
            2.168718173563541,
            0.399124
           ],
           "y": [
            2.797642548904799,
            2.56985
           ],
           "z": [
            16.530662275664014,
            18.3629
           ]
          },
          {
           "line": {
            "color": "black",
            "width": 5
           },
           "marker": {
            "color": "blue",
            "size": 2
           },
           "text": [
            "LKnee"
           ],
           "type": "scatter3d",
           "x": [
            5.194658103346759,
            2.168718173563541
           ],
           "y": [
            0.6444810739018951,
            2.797642548904799
           ],
           "z": [
            9.886538718784758,
            16.530662275664014
           ]
          },
          {
           "line": {
            "color": "black",
            "width": 5
           },
           "marker": {
            "color": "blue",
            "size": 2
           },
           "text": [
            "LAnkle"
           ],
           "type": "scatter3d",
           "x": [
            6.360354393082208,
            5.194658103346759
           ],
           "y": [
            5.1031327826319925,
            0.6444810739018951
           ],
           "z": [
            3.196257983943613,
            9.886538718784758
           ]
          },
          {
           "line": {
            "color": "black",
            "width": 5
           },
           "marker": {
            "color": "blue",
            "size": 2
           },
           "text": [
            "Spine1"
           ],
           "type": "scatter3d",
           "x": [
            0.50555473963215,
            0.399124
           ],
           "y": [
            1.0082300601213041,
            2.56985
           ],
           "z": [
            22.044529378377327,
            18.3629
           ]
          },
          {
           "line": {
            "color": "black",
            "width": 5
           },
           "marker": {
            "color": "blue",
            "size": 2
           },
           "text": [
            "Neck"
           ],
           "type": "scatter3d",
           "x": [
            1.0305746544604841,
            0.50555473963215
           ],
           "y": [
            -0.8968906022675469,
            1.0082300601213041
           ],
           "z": [
            25.283672884903567,
            22.044529378377327
           ]
          },
          {
           "line": {
            "color": "black",
            "width": 5
           },
           "marker": {
            "color": "blue",
            "size": 2
           },
           "text": [
            "Head"
           ],
           "type": "scatter3d",
           "x": [
            1.5320106065093428,
            1.0305746544604841
           ],
           "y": [
            -1.6208007331929748,
            -0.8968906022675469
           ],
           "z": [
            26.830244338719197,
            25.283672884903567
           ]
          },
          {
           "line": {
            "color": "black",
            "width": 5
           },
           "marker": {
            "color": "blue",
            "size": 2
           },
           "text": [
            "Site"
           ],
           "type": "scatter3d",
           "x": [
            2.0351573602434647,
            1.5320106065093428
           ],
           "y": [
            -2.417885090402617,
            -1.6208007331929748
           ],
           "z": [
            28.343278427976422,
            26.830244338719197
           ]
          },
          {
           "line": {
            "color": "black",
            "width": 5
           },
           "marker": {
            "color": "blue",
            "size": 2
           },
           "text": [
            "LShoulder"
           ],
           "type": "scatter3d",
           "x": [
            3.8563009044976306,
            1.0305746544604841
           ],
           "y": [
            1.1319249856965983,
            -0.8968906022675469
           ],
           "z": [
            25.48004324500728,
            25.283672884903567
           ]
          },
          {
           "line": {
            "color": "black",
            "width": 5
           },
           "marker": {
            "color": "blue",
            "size": 2
           },
           "text": [
            "LElbow"
           ],
           "type": "scatter3d",
           "x": [
            5.731345726171036,
            3.8563009044976306
           ],
           "y": [
            1.028065056971458,
            1.1319249856965983
           ],
           "z": [
            23.121593056546594,
            25.48004324500728
           ]
          },
          {
           "line": {
            "color": "black",
            "width": 5
           },
           "marker": {
            "color": "blue",
            "size": 2
           },
           "text": [
            "LWrist"
           ],
           "type": "scatter3d",
           "x": [
            5.883838579519068,
            5.731345726171036
           ],
           "y": [
            -0.582732544791754,
            1.028065056971458
           ],
           "z": [
            24.0036089293809,
            23.121593056546594
           ]
          },
          {
           "line": {
            "color": "red",
            "width": 5
           },
           "marker": {
            "color": "blue",
            "size": 2
           },
           "text": [
            "RShoulder"
           ],
           "type": "scatter3d",
           "x": [
            -1.9842057032982945,
            1.0305746544604841
           ],
           "y": [
            -1.5608330110445254,
            -0.8968906022675469
           ],
           "z": [
            24.82285809854176,
            25.283672884903567
           ]
          },
          {
           "line": {
            "color": "red",
            "width": 5
           },
           "marker": {
            "color": "blue",
            "size": 2
           },
           "text": [
            "RElbow"
           ],
           "type": "scatter3d",
           "x": [
            -1.1495889118548677,
            -1.9842057032982945
           ],
           "y": [
            -4.145151821857409,
            -1.5608330110445254
           ],
           "z": [
            20.13875322544395,
            24.82285809854176
           ]
          },
          {
           "line": {
            "color": "red",
            "width": 5
           },
           "marker": {
            "color": "blue",
            "size": 2
           },
           "text": [
            "RWrist"
           ],
           "type": "scatter3d",
           "x": [
            -0.01288436940488391,
            -1.1495889118548677
           ],
           "y": [
            -5.414848000603602,
            -4.145151821857409
           ],
           "z": [
            20.76400778516414,
            20.13875322544395
           ]
          },
          {
           "line": {
            "color": "#1f77b4",
            "width": 1
           },
           "marker": {
            "color": "#1f77b4",
            "size": 1
           },
           "type": "scatter3d",
           "x": [
            -7.68200201222643,
            -11.202351483965106,
            -10.955869104893946,
            -7.261455157517169,
            -6.696189981227148,
            -6.597702295821579,
            -6.51772886461975,
            -3.8476915953707365,
            -0.7970128046349325,
            -5.5020630048652315,
            -4.462829338330973,
            2.1426985093789725,
            -6.550621684435969,
            -4.382364421867683,
            -6.238933645893352,
            -6.0372324143801315,
            -5.622770625880111,
            -4.622031270382943,
            -1.8315147477995466,
            -8.80699809751267,
            -5.336259744172091,
            -3.3386011500038735,
            -6.154514249840276,
            -2.3716164831946065,
            -3.7972808897935995,
            -4.576736217307565,
            -5.1162575489259865,
            -4.079441163068022,
            -2.1208858457289037,
            -5.667957809262714,
            -7.811198372064535,
            -2.302780558625111,
            -6.416882824203098,
            -1.427036396898762,
            -3.9840501846998935,
            -2.278256598067263
           ],
           "y": [
            3.4053156803910536,
            3.729440580134272,
            7.115938837216567,
            6.2383953833599834,
            6.738902405987771,
            1.6798788535843796,
            0.426703045092959,
            -8.57887314276572,
            -5.457469816021779,
            -6.145413681234592,
            -2.651627769211558,
            -7.988855680680584,
            1.322022686032784,
            0.4111020926919453,
            3.3084733072069357,
            4.507646719655471,
            1.2562719135064158,
            2.5679035233151972,
            -4.250612202162369,
            -1.208029219654247,
            7.660506207376087,
            1.1225209147164903,
            -0.12399672775587334,
            6.2154445047511295,
            4.537339874920296,
            2.2609880239650932,
            3.2751112379121494,
            3.359583721700272,
            -7.870824768406664,
            1.2765968301708028,
            7.0431575239128525,
            7.153181259315232,
            5.871462844333443,
            9.124324108019174,
            3.245368448314138,
            2.977563710489315
           ],
           "z": [
            1.865911632557168,
            2.0831814398599002,
            2.4502047462026466,
            3.600422432940081,
            3.3586116742422365,
            2.8752883654471493,
            3.1498232277243945,
            4.465394927147864,
            2.7671204675596304,
            3.4168017828747113,
            3.173826242416413,
            3.3530783562129756,
            2.08089440622238,
            3.537429728401681,
            1.885924112360784,
            2.281288795428674,
            3.0206222088432257,
            3.2720535786143525,
            2.7877711354988826,
            1.5074967845823197,
            2.5428062168417425,
            3.6656635052035282,
            3.822880886229819,
            2.35614063913287,
            3.5399158247028906,
            3.365749150172884,
            3.8878939422390904,
            2.7601196551112954,
            2.01878197679254,
            2.7797540995971515,
            2.652222941943201,
            2.765213824504499,
            3.3527467500595236,
            2.3662719801904943,
            3.83941638094638,
            2.972890714393764
           ]
          },
          {
           "color": "#00FFFF",
           "type": "mesh3d",
           "x": [
            -50,
            50,
            -50,
            50
           ],
           "y": [
            -50,
            50,
            50,
            -50
           ],
           "z": [
            0,
            0,
            0,
            0
           ]
          }
         ],
         "name": "frame37"
        },
        {
         "data": [
          {
           "line": {
            "color": "red",
            "width": 5
           },
           "marker": {
            "color": "blue",
            "size": 2
           },
           "text": [
            "RHip"
           ],
           "type": "scatter3d",
           "x": [
            -0.4350085021686402,
            -0.102072
           ],
           "y": [
            -1.5987933136355852,
            -0.123232
           ],
           "z": [
            15.64715060376669,
            17.7414
           ]
          },
          {
           "line": {
            "color": "red",
            "width": 5
           },
           "marker": {
            "color": "blue",
            "size": 2
           },
           "text": [
            "RKnee"
           ],
           "type": "scatter3d",
           "x": [
            1.2322171752363862,
            -0.4350085021686402
           ],
           "y": [
            -2.3583482187540974,
            -1.5987933136355852
           ],
           "z": [
            8.455371567854732,
            15.64715060376669
           ]
          },
          {
           "line": {
            "color": "red",
            "width": 5
           },
           "marker": {
            "color": "blue",
            "size": 2
           },
           "text": [
            "RAnkle"
           ],
           "type": "scatter3d",
           "x": [
            -4.686226410672376,
            1.2322171752363862
           ],
           "y": [
            0.7019325432311811,
            -2.3583482187540974
           ],
           "z": [
            3.660240668473299,
            8.455371567854732
           ]
          },
          {
           "line": {
            "color": "black",
            "width": 5
           },
           "marker": {
            "color": "blue",
            "size": 2
           },
           "text": [
            "LHip"
           ],
           "type": "scatter3d",
           "x": [
            1.2610872046974553,
            -0.102072
           ],
           "y": [
            1.084744620980131,
            -0.123232
           ],
           "z": [
            15.94611798072266,
            17.7414
           ]
          },
          {
           "line": {
            "color": "black",
            "width": 5
           },
           "marker": {
            "color": "blue",
            "size": 2
           },
           "text": [
            "LKnee"
           ],
           "type": "scatter3d",
           "x": [
            4.922249111529684,
            1.2610872046974553
           ],
           "y": [
            -0.2863871910926119,
            1.084744620980131
           ],
           "z": [
            9.415215617262177,
            15.94611798072266
           ]
          },
          {
           "line": {
            "color": "black",
            "width": 5
           },
           "marker": {
            "color": "blue",
            "size": 2
           },
           "text": [
            "LAnkle"
           ],
           "type": "scatter3d",
           "x": [
            2.2470896835335825,
            4.922249111529684
           ],
           "y": [
            1.7307891985261206,
            -0.2863871910926119
           ],
           "z": [
            2.0143507584352243,
            9.415215617262177
           ]
          },
          {
           "line": {
            "color": "black",
            "width": 5
           },
           "marker": {
            "color": "blue",
            "size": 2
           },
           "text": [
            "Spine1"
           ],
           "type": "scatter3d",
           "x": [
            0.6231298929773395,
            -0.102072
           ],
           "y": [
            -0.7071878685160848,
            -0.123232
           ],
           "z": [
            21.638803751154562,
            17.7414
           ]
          },
          {
           "line": {
            "color": "black",
            "width": 5
           },
           "marker": {
            "color": "blue",
            "size": 2
           },
           "text": [
            "Neck"
           ],
           "type": "scatter3d",
           "x": [
            1.6299576826145308,
            0.6231298929773395
           ],
           "y": [
            -1.1718277121141356,
            -0.7071878685160848
           ],
           "z": [
            25.264218970071664,
            21.638803751154562
           ]
          },
          {
           "line": {
            "color": "black",
            "width": 5
           },
           "marker": {
            "color": "blue",
            "size": 2
           },
           "text": [
            "Head"
           ],
           "type": "scatter3d",
           "x": [
            2.1846998629853367,
            1.6299576826145308
           ],
           "y": [
            -1.2962241612829086,
            -1.1718277121141356
           ],
           "z": [
            26.950680884901836,
            25.264218970071664
           ]
          },
          {
           "line": {
            "color": "black",
            "width": 5
           },
           "marker": {
            "color": "blue",
            "size": 2
           },
           "text": [
            "Site"
           ],
           "type": "scatter3d",
           "x": [
            2.783073063018508,
            2.1846998629853367
           ],
           "y": [
            -1.6343698561691231,
            -1.2962241612829086
           ],
           "z": [
            28.59548460755932,
            26.950680884901836
           ]
          },
          {
           "line": {
            "color": "black",
            "width": 5
           },
           "marker": {
            "color": "blue",
            "size": 2
           },
           "text": [
            "LShoulder"
           ],
           "type": "scatter3d",
           "x": [
            2.550280263235714,
            1.6299576826145308
           ],
           "y": [
            2.0034351112132818,
            -1.1718277121141356
           ],
           "z": [
            25.10061979709874,
            25.264218970071664
           ]
          },
          {
           "line": {
            "color": "black",
            "width": 5
           },
           "marker": {
            "color": "blue",
            "size": 2
           },
           "text": [
            "LElbow"
           ],
           "type": "scatter3d",
           "x": [
            4.733654069809445,
            2.550280263235714
           ],
           "y": [
            1.1692414497925148,
            2.0034351112132818
           ],
           "z": [
            21.703333083817473,
            25.10061979709874
           ]
          },
          {
           "line": {
            "color": "black",
            "width": 5
           },
           "marker": {
            "color": "blue",
            "size": 2
           },
           "text": [
            "LWrist"
           ],
           "type": "scatter3d",
           "x": [
            5.819275064238505,
            4.733654069809445
           ],
           "y": [
            -0.026307767142760063,
            1.1692414497925148
           ],
           "z": [
            22.59100650937459,
            21.703333083817473
           ]
          },
          {
           "line": {
            "color": "red",
            "width": 5
           },
           "marker": {
            "color": "blue",
            "size": 2
           },
           "text": [
            "RShoulder"
           ],
           "type": "scatter3d",
           "x": [
            -0.11167796086716275,
            1.6299576826145308
           ],
           "y": [
            -3.8796125164361532,
            -1.1718277121141356
           ],
           "z": [
            24.78743549769105,
            25.264218970071664
           ]
          },
          {
           "line": {
            "color": "red",
            "width": 5
           },
           "marker": {
            "color": "blue",
            "size": 2
           },
           "text": [
            "RElbow"
           ],
           "type": "scatter3d",
           "x": [
            1.2065836116503683,
            -0.11167796086716275
           ],
           "y": [
            -5.442053401316482,
            -3.8796125164361532
           ],
           "z": [
            19.07952300045421,
            24.78743549769105
           ]
          },
          {
           "line": {
            "color": "red",
            "width": 5
           },
           "marker": {
            "color": "blue",
            "size": 2
           },
           "text": [
            "RWrist"
           ],
           "type": "scatter3d",
           "x": [
            2.8515990071664508,
            1.2065836116503683
           ],
           "y": [
            -6.208741500817751,
            -5.442053401316482
           ],
           "z": [
            19.11533604553838,
            19.07952300045421
           ]
          },
          {
           "line": {
            "color": "#1f77b4",
            "width": 1
           },
           "marker": {
            "color": "#1f77b4",
            "size": 1
           },
           "type": "scatter3d",
           "x": [
            -7.68200201222643,
            -11.202351483965106,
            -10.955869104893946,
            -7.261455157517169,
            -6.696189981227148,
            -6.597702295821579,
            -6.51772886461975,
            -3.8476915953707365,
            -0.7970128046349325,
            -5.5020630048652315,
            -4.462829338330973,
            2.1426985093789725,
            -6.550621684435969,
            -4.382364421867683,
            -6.238933645893352,
            -6.0372324143801315,
            -5.622770625880111,
            -4.622031270382943,
            -1.8315147477995466,
            -8.80699809751267,
            -5.336259744172091,
            -3.3386011500038735,
            -6.154514249840276,
            -2.3716164831946065,
            -3.7972808897935995,
            -4.576736217307565,
            -5.1162575489259865,
            -4.079441163068022,
            -2.1208858457289037,
            -5.667957809262714,
            -7.811198372064535,
            -2.302780558625111,
            -6.416882824203098,
            -1.427036396898762,
            -3.9840501846998935,
            -2.278256598067263,
            -5.53744891249996
           ],
           "y": [
            3.4053156803910536,
            3.729440580134272,
            7.115938837216567,
            6.2383953833599834,
            6.738902405987771,
            1.6798788535843796,
            0.426703045092959,
            -8.57887314276572,
            -5.457469816021779,
            -6.145413681234592,
            -2.651627769211558,
            -7.988855680680584,
            1.322022686032784,
            0.4111020926919453,
            3.3084733072069357,
            4.507646719655471,
            1.2562719135064158,
            2.5679035233151972,
            -4.250612202162369,
            -1.208029219654247,
            7.660506207376087,
            1.1225209147164903,
            -0.12399672775587334,
            6.2154445047511295,
            4.537339874920296,
            2.2609880239650932,
            3.2751112379121494,
            3.359583721700272,
            -7.870824768406664,
            1.2765968301708028,
            7.0431575239128525,
            7.153181259315232,
            5.871462844333443,
            9.124324108019174,
            3.245368448314138,
            2.977563710489315,
            4.949095329845723
           ],
           "z": [
            1.865911632557168,
            2.0831814398599002,
            2.4502047462026466,
            3.600422432940081,
            3.3586116742422365,
            2.8752883654471493,
            3.1498232277243945,
            4.465394927147864,
            2.7671204675596304,
            3.4168017828747113,
            3.173826242416413,
            3.3530783562129756,
            2.08089440622238,
            3.537429728401681,
            1.885924112360784,
            2.281288795428674,
            3.0206222088432257,
            3.2720535786143525,
            2.7877711354988826,
            1.5074967845823197,
            2.5428062168417425,
            3.6656635052035282,
            3.822880886229819,
            2.35614063913287,
            3.5399158247028906,
            3.365749150172884,
            3.8878939422390904,
            2.7601196551112954,
            2.01878197679254,
            2.7797540995971515,
            2.652222941943201,
            2.765213824504499,
            3.3527467500595236,
            2.3662719801904943,
            3.83941638094638,
            2.972890714393764,
            3.4667104836811014
           ]
          },
          {
           "color": "#00FFFF",
           "type": "mesh3d",
           "x": [
            -50,
            50,
            -50,
            50
           ],
           "y": [
            -50,
            50,
            50,
            -50
           ],
           "z": [
            0,
            0,
            0,
            0
           ]
          }
         ],
         "name": "frame38"
        },
        {
         "data": [
          {
           "line": {
            "color": "red",
            "width": 5
           },
           "marker": {
            "color": "blue",
            "size": 2
           },
           "text": [
            "RHip"
           ],
           "type": "scatter3d",
           "x": [
            1.3099592193413463,
            0.815446
           ],
           "y": [
            -2.9276785805292187,
            -1.45138
           ],
           "z": [
            15.535845340180884,
            17.5974
           ]
          },
          {
           "line": {
            "color": "red",
            "width": 5
           },
           "marker": {
            "color": "blue",
            "size": 2
           },
           "text": [
            "RKnee"
           ],
           "type": "scatter3d",
           "x": [
            4.928034877859424,
            1.3099592193413463
           ],
           "y": [
            -4.394684641576826,
            -2.9276785805292187
           ],
           "z": [
            9.224294614665041,
            15.535845340180884
           ]
          },
          {
           "line": {
            "color": "red",
            "width": 5
           },
           "marker": {
            "color": "blue",
            "size": 2
           },
           "text": [
            "RAnkle"
           ],
           "type": "scatter3d",
           "x": [
            0.30382441378906755,
            4.928034877859424
           ],
           "y": [
            -6.883309472590983,
            -4.394684641576826
           ],
           "z": [
            2.9147782149394352,
            9.224294614665041
           ]
          },
          {
           "line": {
            "color": "black",
            "width": 5
           },
           "marker": {
            "color": "blue",
            "size": 2
           },
           "text": [
            "LHip"
           ],
           "type": "scatter3d",
           "x": [
            1.5055673694589669,
            0.815446
           ],
           "y": [
            0.24309257894052916,
            -1.45138
           ],
           "z": [
            15.810519131681913,
            17.5974
           ]
          },
          {
           "line": {
            "color": "black",
            "width": 5
           },
           "marker": {
            "color": "blue",
            "size": 2
           },
           "text": [
            "LKnee"
           ],
           "type": "scatter3d",
           "x": [
            5.249175937836745,
            1.5055673694589669
           ],
           "y": [
            1.895464784375806,
            0.24309257894052916
           ],
           "z": [
            9.39243097268593,
            15.810519131681913
           ]
          },
          {
           "line": {
            "color": "black",
            "width": 5
           },
           "marker": {
            "color": "blue",
            "size": 2
           },
           "text": [
            "LAnkle"
           ],
           "type": "scatter3d",
           "x": [
            1.5292089441291408,
            5.249175937836745
           ],
           "y": [
            4.590978906565836,
            1.895464784375806
           ],
           "z": [
            2.6921079660353167,
            9.39243097268593
           ]
          },
          {
           "line": {
            "color": "black",
            "width": 5
           },
           "marker": {
            "color": "blue",
            "size": 2
           },
           "text": [
            "Spine1"
           ],
           "type": "scatter3d",
           "x": [
            1.7173975229018992,
            0.815446
           ],
           "y": [
            -1.5196058170151518,
            -1.45138
           ],
           "z": [
            21.49099883523483,
            17.5974
           ]
          },
          {
           "line": {
            "color": "black",
            "width": 5
           },
           "marker": {
            "color": "blue",
            "size": 2
           },
           "text": [
            "Neck"
           ],
           "type": "scatter3d",
           "x": [
            3.2808404164521545,
            1.7173975229018992
           ],
           "y": [
            -1.5468740366708291,
            -1.5196058170151518
           ],
           "z": [
            24.93587102660611,
            21.49099883523483
           ]
          },
          {
           "line": {
            "color": "black",
            "width": 5
           },
           "marker": {
            "color": "blue",
            "size": 2
           },
           "text": [
            "Head"
           ],
           "type": "scatter3d",
           "x": [
            4.3110150461012795,
            3.2808404164521545
           ],
           "y": [
            -1.6285057312721387,
            -1.5468740366708291
           ],
           "z": [
            26.384816730310988,
            24.93587102660611
           ]
          },
          {
           "line": {
            "color": "black",
            "width": 5
           },
           "marker": {
            "color": "blue",
            "size": 2
           },
           "text": [
            "Site"
           ],
           "type": "scatter3d",
           "x": [
            5.444572438934088,
            4.3110150461012795
           ],
           "y": [
            -1.951739273854426,
            -1.6285057312721387
           ],
           "z": [
            27.72210503043917,
            26.384816730310988
           ]
          },
          {
           "line": {
            "color": "black",
            "width": 5
           },
           "marker": {
            "color": "blue",
            "size": 2
           },
           "text": [
            "LShoulder"
           ],
           "type": "scatter3d",
           "x": [
            3.0268707207563432,
            3.2808404164521545
           ],
           "y": [
            1.7323667968519367,
            -1.5468740366708291
           ],
           "z": [
            24.770558239566427,
            24.93587102660611
           ]
          },
          {
           "line": {
            "color": "black",
            "width": 5
           },
           "marker": {
            "color": "blue",
            "size": 2
           },
           "text": [
            "LElbow"
           ],
           "type": "scatter3d",
           "x": [
            7.691449809115104,
            3.0268707207563432
           ],
           "y": [
            0.050522007916717904,
            1.7323667968519367
           ],
           "z": [
            23.148745996125612,
            24.770558239566427
           ]
          },
          {
           "line": {
            "color": "black",
            "width": 5
           },
           "marker": {
            "color": "blue",
            "size": 2
           },
           "text": [
            "LWrist"
           ],
           "type": "scatter3d",
           "x": [
            8.424582442501382,
            7.691449809115104
           ],
           "y": [
            -0.9544857248685479,
            0.050522007916717904
           ],
           "z": [
            24.50828672115224,
            23.148745996125612
           ]
          },
          {
           "line": {
            "color": "red",
            "width": 5
           },
           "marker": {
            "color": "blue",
            "size": 2
           },
           "text": [
            "RShoulder"
           ],
           "type": "scatter3d",
           "x": [
            2.2945643662128266,
            3.2808404164521545
           ],
           "y": [
            -4.69015549658881,
            -1.5468740366708291
           ],
           "z": [
            24.674172686666388,
            24.93587102660611
           ]
          },
          {
           "line": {
            "color": "red",
            "width": 5
           },
           "marker": {
            "color": "blue",
            "size": 2
           },
           "text": [
            "RElbow"
           ],
           "type": "scatter3d",
           "x": [
            6.216725054614875,
            2.2945643662128266
           ],
           "y": [
            -6.5661622334814735,
            -4.69015549658881
           ],
           "z": [
            22.47539970076157,
            24.674172686666388
           ]
          },
          {
           "line": {
            "color": "red",
            "width": 5
           },
           "marker": {
            "color": "blue",
            "size": 2
           },
           "text": [
            "RWrist"
           ],
           "type": "scatter3d",
           "x": [
            7.132413668879962,
            6.216725054614875
           ],
           "y": [
            -6.432259455515634,
            -6.5661622334814735
           ],
           "z": [
            24.03705051812066,
            22.47539970076157
           ]
          },
          {
           "line": {
            "color": "#1f77b4",
            "width": 1
           },
           "marker": {
            "color": "#1f77b4",
            "size": 1
           },
           "type": "scatter3d",
           "x": [
            -7.68200201222643,
            -11.202351483965106,
            -10.955869104893946,
            -7.261455157517169,
            -6.696189981227148,
            -6.597702295821579,
            -6.51772886461975,
            -3.8476915953707365,
            -0.7970128046349325,
            -5.5020630048652315,
            -4.462829338330973,
            2.1426985093789725,
            -6.550621684435969,
            -4.382364421867683,
            -6.238933645893352,
            -6.0372324143801315,
            -5.622770625880111,
            -4.622031270382943,
            -1.8315147477995466,
            -8.80699809751267,
            -5.336259744172091,
            -3.3386011500038735,
            -6.154514249840276,
            -2.3716164831946065,
            -3.7972808897935995,
            -4.576736217307565,
            -5.1162575489259865,
            -4.079441163068022,
            -2.1208858457289037,
            -5.667957809262714,
            -7.811198372064535,
            -2.302780558625111,
            -6.416882824203098,
            -1.427036396898762,
            -3.9840501846998935,
            -2.278256598067263,
            -5.53744891249996,
            -4.686226410672376
           ],
           "y": [
            3.4053156803910536,
            3.729440580134272,
            7.115938837216567,
            6.2383953833599834,
            6.738902405987771,
            1.6798788535843796,
            0.426703045092959,
            -8.57887314276572,
            -5.457469816021779,
            -6.145413681234592,
            -2.651627769211558,
            -7.988855680680584,
            1.322022686032784,
            0.4111020926919453,
            3.3084733072069357,
            4.507646719655471,
            1.2562719135064158,
            2.5679035233151972,
            -4.250612202162369,
            -1.208029219654247,
            7.660506207376087,
            1.1225209147164903,
            -0.12399672775587334,
            6.2154445047511295,
            4.537339874920296,
            2.2609880239650932,
            3.2751112379121494,
            3.359583721700272,
            -7.870824768406664,
            1.2765968301708028,
            7.0431575239128525,
            7.153181259315232,
            5.871462844333443,
            9.124324108019174,
            3.245368448314138,
            2.977563710489315,
            4.949095329845723,
            0.7019325432311811
           ],
           "z": [
            1.865911632557168,
            2.0831814398599002,
            2.4502047462026466,
            3.600422432940081,
            3.3586116742422365,
            2.8752883654471493,
            3.1498232277243945,
            4.465394927147864,
            2.7671204675596304,
            3.4168017828747113,
            3.173826242416413,
            3.3530783562129756,
            2.08089440622238,
            3.537429728401681,
            1.885924112360784,
            2.281288795428674,
            3.0206222088432257,
            3.2720535786143525,
            2.7877711354988826,
            1.5074967845823197,
            2.5428062168417425,
            3.6656635052035282,
            3.822880886229819,
            2.35614063913287,
            3.5399158247028906,
            3.365749150172884,
            3.8878939422390904,
            2.7601196551112954,
            2.01878197679254,
            2.7797540995971515,
            2.652222941943201,
            2.765213824504499,
            3.3527467500595236,
            2.3662719801904943,
            3.83941638094638,
            2.972890714393764,
            3.4667104836811014,
            3.660240668473299
           ]
          },
          {
           "color": "#00FFFF",
           "type": "mesh3d",
           "x": [
            -50,
            50,
            -50,
            50
           ],
           "y": [
            -50,
            50,
            50,
            -50
           ],
           "z": [
            0,
            0,
            0,
            0
           ]
          }
         ],
         "name": "frame39"
        },
        {
         "data": [
          {
           "line": {
            "color": "red",
            "width": 5
           },
           "marker": {
            "color": "blue",
            "size": 2
           },
           "text": [
            "RHip"
           ],
           "type": "scatter3d",
           "x": [
            0.9103730921640578,
            1.7831
           ],
           "y": [
            0.02362700092972192,
            1.14895
           ],
           "z": [
            15.693540807507498,
            17.849
           ]
          },
          {
           "line": {
            "color": "red",
            "width": 5
           },
           "marker": {
            "color": "blue",
            "size": 2
           },
           "text": [
            "RKnee"
           ],
           "type": "scatter3d",
           "x": [
            1.4232587499290565,
            0.9103730921640578
           ],
           "y": [
            -3.570686418585077,
            0.02362700092972192
           ],
           "z": [
            9.220820347065398,
            15.693540807507498
           ]
          },
          {
           "line": {
            "color": "red",
            "width": 5
           },
           "marker": {
            "color": "blue",
            "size": 2
           },
           "text": [
            "RAnkle"
           ],
           "type": "scatter3d",
           "x": [
            -3.7296668065514353,
            1.4232587499290565
           ],
           "y": [
            -2.17003899226647,
            -3.570686418585077
           ],
           "z": [
            2.9860694971531387,
            9.220820347065398
           ]
          },
          {
           "line": {
            "color": "black",
            "width": 5
           },
           "marker": {
            "color": "blue",
            "size": 2
           },
           "text": [
            "LHip"
           ],
           "type": "scatter3d",
           "x": [
            3.4910607748263516,
            1.7831
           ],
           "y": [
            1.8558242745762734,
            1.14895
           ],
           "z": [
            16.08161582712662,
            17.849
           ]
          },
          {
           "line": {
            "color": "black",
            "width": 5
           },
           "marker": {
            "color": "blue",
            "size": 2
           },
           "text": [
            "LKnee"
           ],
           "type": "scatter3d",
           "x": [
            7.577314621186882,
            3.4910607748263516
           ],
           "y": [
            1.5535800786213736,
            1.8558242745762734
           ],
           "z": [
            9.66694727884711,
            16.08161582712662
           ]
          },
          {
           "line": {
            "color": "black",
            "width": 5
           },
           "marker": {
            "color": "blue",
            "size": 2
           },
           "text": [
            "LAnkle"
           ],
           "type": "scatter3d",
           "x": [
            5.71485548925142,
            7.577314621186882
           ],
           "y": [
            6.477841764197227,
            1.5535800786213736
           ],
           "z": [
            3.4797692432244682,
            9.66694727884711
           ]
          },
          {
           "line": {
            "color": "black",
            "width": 5
           },
           "marker": {
            "color": "blue",
            "size": 2
           },
           "text": [
            "Spine1"
           ],
           "type": "scatter3d",
           "x": [
            2.3802839151385955,
            1.7831
           ],
           "y": [
            0.0705827754298024,
            1.14895
           ],
           "z": [
            21.65323265232618,
            17.849
           ]
          },
          {
           "line": {
            "color": "black",
            "width": 5
           },
           "marker": {
            "color": "blue",
            "size": 2
           },
           "text": [
            "Neck"
           ],
           "type": "scatter3d",
           "x": [
            3.467687718630744,
            2.3802839151385955
           ],
           "y": [
            -0.607124309379032,
            0.0705827754298024
           ],
           "z": [
            25.229958219644733,
            21.65323265232618
           ]
          },
          {
           "line": {
            "color": "black",
            "width": 5
           },
           "marker": {
            "color": "blue",
            "size": 2
           },
           "text": [
            "Head"
           ],
           "type": "scatter3d",
           "x": [
            4.121723076692418,
            3.467687718630744
           ],
           "y": [
            -0.5792165606097396,
            -0.607124309379032
           ],
           "z": [
            26.884898116252696,
            25.229958219644733
           ]
          },
          {
           "line": {
            "color": "black",
            "width": 5
           },
           "marker": {
            "color": "blue",
            "size": 2
           },
           "text": [
            "Site"
           ],
           "type": "scatter3d",
           "x": [
            4.957433564857822,
            4.121723076692418
           ],
           "y": [
            -0.6124197629576019,
            -0.5792165606097396
           ],
           "z": [
            28.459146448276627,
            26.884898116252696
           ]
          },
          {
           "line": {
            "color": "black",
            "width": 5
           },
           "marker": {
            "color": "blue",
            "size": 2
           },
           "text": [
            "LShoulder"
           ],
           "type": "scatter3d",
           "x": [
            4.939542765527094,
            3.467687718630744
           ],
           "y": [
            2.5650599647442958,
            -0.607124309379032
           ],
           "z": [
            24.858436781937627,
            25.229958219644733
           ]
          },
          {
           "line": {
            "color": "black",
            "width": 5
           },
           "marker": {
            "color": "blue",
            "size": 2
           },
           "text": [
            "LElbow"
           ],
           "type": "scatter3d",
           "x": [
            5.086727917059912,
            4.939542765527094
           ],
           "y": [
            3.35670956455004,
            2.5650599647442958
           ],
           "z": [
            21.648717844700833,
            24.858436781937627
           ]
          },
          {
           "line": {
            "color": "black",
            "width": 5
           },
           "marker": {
            "color": "blue",
            "size": 2
           },
           "text": [
            "LWrist"
           ],
           "type": "scatter3d",
           "x": [
            6.811574185111926,
            5.086727917059912
           ],
           "y": [
            2.781046860323046,
            3.35670956455004
           ],
           "z": [
            21.947704109684867,
            21.648717844700833
           ]
          },
          {
           "line": {
            "color": "red",
            "width": 5
           },
           "marker": {
            "color": "blue",
            "size": 2
           },
           "text": [
            "RShoulder"
           ],
           "type": "scatter3d",
           "x": [
            1.664292465011298,
            3.467687718630744
           ],
           "y": [
            -3.0085903976333004,
            -0.607124309379032
           ],
           "z": [
            24.897327505707146,
            25.229958219644733
           ]
          },
          {
           "line": {
            "color": "red",
            "width": 5
           },
           "marker": {
            "color": "blue",
            "size": 2
           },
           "text": [
            "RElbow"
           ],
           "type": "scatter3d",
           "x": [
            3.101025558637718,
            1.664292465011298
           ],
           "y": [
            -4.08972927412963,
            -3.0085903976333004
           ],
           "z": [
            18.538675783490994,
            24.897327505707146
           ]
          },
          {
           "line": {
            "color": "red",
            "width": 5
           },
           "marker": {
            "color": "blue",
            "size": 2
           },
           "text": [
            "RWrist"
           ],
           "type": "scatter3d",
           "x": [
            4.879500267354603,
            3.101025558637718
           ],
           "y": [
            -4.186137270865816,
            -4.08972927412963
           ],
           "z": [
            18.188101859446853,
            18.538675783490994
           ]
          },
          {
           "line": {
            "color": "#1f77b4",
            "width": 1
           },
           "marker": {
            "color": "#1f77b4",
            "size": 1
           },
           "type": "scatter3d",
           "x": [
            -7.68200201222643,
            -11.202351483965106,
            -10.955869104893946,
            -7.261455157517169,
            -6.696189981227148,
            -6.597702295821579,
            -6.51772886461975,
            -3.8476915953707365,
            -0.7970128046349325,
            -5.5020630048652315,
            -4.462829338330973,
            2.1426985093789725,
            -6.550621684435969,
            -4.382364421867683,
            -6.238933645893352,
            -6.0372324143801315,
            -5.622770625880111,
            -4.622031270382943,
            -1.8315147477995466,
            -8.80699809751267,
            -5.336259744172091,
            -3.3386011500038735,
            -6.154514249840276,
            -2.3716164831946065,
            -3.7972808897935995,
            -4.576736217307565,
            -5.1162575489259865,
            -4.079441163068022,
            -2.1208858457289037,
            -5.667957809262714,
            -7.811198372064535,
            -2.302780558625111,
            -6.416882824203098,
            -1.427036396898762,
            -3.9840501846998935,
            -2.278256598067263,
            -5.53744891249996,
            -4.686226410672376,
            0.30382441378906755
           ],
           "y": [
            3.4053156803910536,
            3.729440580134272,
            7.115938837216567,
            6.2383953833599834,
            6.738902405987771,
            1.6798788535843796,
            0.426703045092959,
            -8.57887314276572,
            -5.457469816021779,
            -6.145413681234592,
            -2.651627769211558,
            -7.988855680680584,
            1.322022686032784,
            0.4111020926919453,
            3.3084733072069357,
            4.507646719655471,
            1.2562719135064158,
            2.5679035233151972,
            -4.250612202162369,
            -1.208029219654247,
            7.660506207376087,
            1.1225209147164903,
            -0.12399672775587334,
            6.2154445047511295,
            4.537339874920296,
            2.2609880239650932,
            3.2751112379121494,
            3.359583721700272,
            -7.870824768406664,
            1.2765968301708028,
            7.0431575239128525,
            7.153181259315232,
            5.871462844333443,
            9.124324108019174,
            3.245368448314138,
            2.977563710489315,
            4.949095329845723,
            0.7019325432311811,
            -6.883309472590983
           ],
           "z": [
            1.865911632557168,
            2.0831814398599002,
            2.4502047462026466,
            3.600422432940081,
            3.3586116742422365,
            2.8752883654471493,
            3.1498232277243945,
            4.465394927147864,
            2.7671204675596304,
            3.4168017828747113,
            3.173826242416413,
            3.3530783562129756,
            2.08089440622238,
            3.537429728401681,
            1.885924112360784,
            2.281288795428674,
            3.0206222088432257,
            3.2720535786143525,
            2.7877711354988826,
            1.5074967845823197,
            2.5428062168417425,
            3.6656635052035282,
            3.822880886229819,
            2.35614063913287,
            3.5399158247028906,
            3.365749150172884,
            3.8878939422390904,
            2.7601196551112954,
            2.01878197679254,
            2.7797540995971515,
            2.652222941943201,
            2.765213824504499,
            3.3527467500595236,
            2.3662719801904943,
            3.83941638094638,
            2.972890714393764,
            3.4667104836811014,
            3.660240668473299,
            2.9147782149394352
           ]
          },
          {
           "color": "#00FFFF",
           "type": "mesh3d",
           "x": [
            -50,
            50,
            -50,
            50
           ],
           "y": [
            -50,
            50,
            50,
            -50
           ],
           "z": [
            0,
            0,
            0,
            0
           ]
          }
         ],
         "name": "frame40"
        },
        {
         "data": [
          {
           "line": {
            "color": "red",
            "width": 5
           },
           "marker": {
            "color": "blue",
            "size": 2
           },
           "text": [
            "RHip"
           ],
           "type": "scatter3d",
           "x": [
            1.9733618796722305,
            1.60713
           ],
           "y": [
            0.4916688317881177,
            2.18041
           ],
           "z": [
            15.814674027592847,
            17.7351
           ]
          },
          {
           "line": {
            "color": "red",
            "width": 5
           },
           "marker": {
            "color": "blue",
            "size": 2
           },
           "text": [
            "RKnee"
           ],
           "type": "scatter3d",
           "x": [
            6.168464743329377,
            1.9733618796722305
           ],
           "y": [
            -0.2401505077340812,
            0.4916688317881177
           ],
           "z": [
            9.736532598479187,
            15.814674027592847
           ]
          },
          {
           "line": {
            "color": "red",
            "width": 5
           },
           "marker": {
            "color": "blue",
            "size": 2
           },
           "text": [
            "RAnkle"
           ],
           "type": "scatter3d",
           "x": [
            1.1757518519108903,
            6.168464743329377
           ],
           "y": [
            -1.6369064380268377,
            -0.2401505077340812
           ],
           "z": [
            3.371906606402354,
            9.736532598479187
           ]
          },
          {
           "line": {
            "color": "black",
            "width": 5
           },
           "marker": {
            "color": "blue",
            "size": 2
           },
           "text": [
            "LHip"
           ],
           "type": "scatter3d",
           "x": [
            1.966350926042554,
            1.60713
           ],
           "y": [
            3.6780047723619163,
            2.18041
           ],
           "z": [
            15.693380556243369,
            17.7351
           ]
          },
          {
           "line": {
            "color": "black",
            "width": 5
           },
           "marker": {
            "color": "blue",
            "size": 2
           },
           "text": [
            "LKnee"
           ],
           "type": "scatter3d",
           "x": [
            4.621465746189546,
            1.966350926042554
           ],
           "y": [
            3.6633084032444927,
            3.6780047723619163
           ],
           "z": [
            8.559872026512604,
            15.693380556243369
           ]
          },
          {
           "line": {
            "color": "black",
            "width": 5
           },
           "marker": {
            "color": "blue",
            "size": 2
           },
           "text": [
            "LAnkle"
           ],
           "type": "scatter3d",
           "x": [
            -0.2763215192507662,
            4.621465746189546
           ],
           "y": [
            3.7684990296414287,
            3.6633084032444927
           ],
           "z": [
            2.0792166549270803,
            8.559872026512604
           ]
          },
          {
           "line": {
            "color": "black",
            "width": 5
           },
           "marker": {
            "color": "blue",
            "size": 2
           },
           "text": [
            "Spine1"
           ],
           "type": "scatter3d",
           "x": [
            2.728011072996481,
            1.60713
           ],
           "y": [
            3.032771591707514,
            2.18041
           ],
           "z": [
            21.475429701908855,
            17.7351
           ]
          },
          {
           "line": {
            "color": "black",
            "width": 5
           },
           "marker": {
            "color": "blue",
            "size": 2
           },
           "text": [
            "Neck"
           ],
           "type": "scatter3d",
           "x": [
            4.2014647654108455,
            2.728011072996481
           ],
           "y": [
            4.278722711470736,
            3.032771591707514
           ],
           "z": [
            24.737344833183272,
            21.475429701908855
           ]
          },
          {
           "line": {
            "color": "black",
            "width": 5
           },
           "marker": {
            "color": "blue",
            "size": 2
           },
           "text": [
            "Head"
           ],
           "type": "scatter3d",
           "x": [
            5.18511444649205,
            4.2014647654108455
           ],
           "y": [
            5.0293596547267585,
            4.278722711470736
           ],
           "z": [
            26.016541705345293,
            24.737344833183272
           ]
          },
          {
           "line": {
            "color": "black",
            "width": 5
           },
           "marker": {
            "color": "blue",
            "size": 2
           },
           "text": [
            "Site"
           ],
           "type": "scatter3d",
           "x": [
            6.40380115431077,
            5.18511444649205
           ],
           "y": [
            5.626440530778636,
            5.0293596547267585
           ],
           "z": [
            27.172426396478034,
            26.016541705345293
           ]
          },
          {
           "line": {
            "color": "black",
            "width": 5
           },
           "marker": {
            "color": "blue",
            "size": 2
           },
           "text": [
            "LShoulder"
           ],
           "type": "scatter3d",
           "x": [
            3.431900730043856,
            4.2014647654108455
           ],
           "y": [
            7.270419493084039,
            4.278722711470736
           ],
           "z": [
            23.618426537753773,
            24.737344833183272
           ]
          },
          {
           "line": {
            "color": "black",
            "width": 5
           },
           "marker": {
            "color": "blue",
            "size": 2
           },
           "text": [
            "LElbow"
           ],
           "type": "scatter3d",
           "x": [
            6.862221634700164,
            3.431900730043856
           ],
           "y": [
            7.152592860147507,
            7.270419493084039
           ],
           "z": [
            19.670186923547302,
            23.618426537753773
           ]
          },
          {
           "line": {
            "color": "black",
            "width": 5
           },
           "marker": {
            "color": "blue",
            "size": 2
           },
           "text": [
            "LWrist"
           ],
           "type": "scatter3d",
           "x": [
            8.556014510722886,
            6.862221634700164
           ],
           "y": [
            7.184393713781216,
            7.152592860147507
           ],
           "z": [
            20.395396812436616,
            19.670186923547302
           ]
          },
          {
           "line": {
            "color": "red",
            "width": 5
           },
           "marker": {
            "color": "blue",
            "size": 2
           },
           "text": [
            "RShoulder"
           ],
           "type": "scatter3d",
           "x": [
            4.136500998080292,
            4.2014647654108455
           ],
           "y": [
            1.0699030437871095,
            4.278722711470736
           ],
           "z": [
            25.307061964877466,
            24.737344833183272
           ]
          },
          {
           "line": {
            "color": "red",
            "width": 5
           },
           "marker": {
            "color": "blue",
            "size": 2
           },
           "text": [
            "RElbow"
           ],
           "type": "scatter3d",
           "x": [
            7.16366807028121,
            4.136500998080292
           ],
           "y": [
            -1.9981078525898852,
            1.0699030437871095
           ],
           "z": [
            22.878311049145704,
            25.307061964877466
           ]
          },
          {
           "line": {
            "color": "red",
            "width": 5
           },
           "marker": {
            "color": "blue",
            "size": 2
           },
           "text": [
            "RWrist"
           ],
           "type": "scatter3d",
           "x": [
            8.57028420413258,
            7.16366807028121
           ],
           "y": [
            -1.4283419697478787,
            -1.9981078525898852
           ],
           "z": [
            23.874286329129244,
            22.878311049145704
           ]
          },
          {
           "line": {
            "color": "#1f77b4",
            "width": 1
           },
           "marker": {
            "color": "#1f77b4",
            "size": 1
           },
           "type": "scatter3d",
           "x": [
            -7.68200201222643,
            -11.202351483965106,
            -10.955869104893946,
            -7.261455157517169,
            -6.696189981227148,
            -6.597702295821579,
            -6.51772886461975,
            -3.8476915953707365,
            -0.7970128046349325,
            -5.5020630048652315,
            -4.462829338330973,
            2.1426985093789725,
            -6.550621684435969,
            -4.382364421867683,
            -6.238933645893352,
            -6.0372324143801315,
            -5.622770625880111,
            -4.622031270382943,
            -1.8315147477995466,
            -8.80699809751267,
            -5.336259744172091,
            -3.3386011500038735,
            -6.154514249840276,
            -2.3716164831946065,
            -3.7972808897935995,
            -4.576736217307565,
            -5.1162575489259865,
            -4.079441163068022,
            -2.1208858457289037,
            -5.667957809262714,
            -7.811198372064535,
            -2.302780558625111,
            -6.416882824203098,
            -1.427036396898762,
            -3.9840501846998935,
            -2.278256598067263,
            -5.53744891249996,
            -4.686226410672376,
            0.30382441378906755,
            -3.7296668065514353
           ],
           "y": [
            3.4053156803910536,
            3.729440580134272,
            7.115938837216567,
            6.2383953833599834,
            6.738902405987771,
            1.6798788535843796,
            0.426703045092959,
            -8.57887314276572,
            -5.457469816021779,
            -6.145413681234592,
            -2.651627769211558,
            -7.988855680680584,
            1.322022686032784,
            0.4111020926919453,
            3.3084733072069357,
            4.507646719655471,
            1.2562719135064158,
            2.5679035233151972,
            -4.250612202162369,
            -1.208029219654247,
            7.660506207376087,
            1.1225209147164903,
            -0.12399672775587334,
            6.2154445047511295,
            4.537339874920296,
            2.2609880239650932,
            3.2751112379121494,
            3.359583721700272,
            -7.870824768406664,
            1.2765968301708028,
            7.0431575239128525,
            7.153181259315232,
            5.871462844333443,
            9.124324108019174,
            3.245368448314138,
            2.977563710489315,
            4.949095329845723,
            0.7019325432311811,
            -6.883309472590983,
            -2.17003899226647
           ],
           "z": [
            1.865911632557168,
            2.0831814398599002,
            2.4502047462026466,
            3.600422432940081,
            3.3586116742422365,
            2.8752883654471493,
            3.1498232277243945,
            4.465394927147864,
            2.7671204675596304,
            3.4168017828747113,
            3.173826242416413,
            3.3530783562129756,
            2.08089440622238,
            3.537429728401681,
            1.885924112360784,
            2.281288795428674,
            3.0206222088432257,
            3.2720535786143525,
            2.7877711354988826,
            1.5074967845823197,
            2.5428062168417425,
            3.6656635052035282,
            3.822880886229819,
            2.35614063913287,
            3.5399158247028906,
            3.365749150172884,
            3.8878939422390904,
            2.7601196551112954,
            2.01878197679254,
            2.7797540995971515,
            2.652222941943201,
            2.765213824504499,
            3.3527467500595236,
            2.3662719801904943,
            3.83941638094638,
            2.972890714393764,
            3.4667104836811014,
            3.660240668473299,
            2.9147782149394352,
            2.9860694971531387
           ]
          },
          {
           "color": "#00FFFF",
           "type": "mesh3d",
           "x": [
            -50,
            50,
            -50,
            50
           ],
           "y": [
            -50,
            50,
            50,
            -50
           ],
           "z": [
            0,
            0,
            0,
            0
           ]
          }
         ],
         "name": "frame41"
        },
        {
         "data": [
          {
           "line": {
            "color": "red",
            "width": 5
           },
           "marker": {
            "color": "blue",
            "size": 2
           },
           "text": [
            "RHip"
           ],
           "type": "scatter3d",
           "x": [
            -1.086472938356009,
            -0.880629
           ],
           "y": [
            0.3268432154251497,
            1.94954
           ],
           "z": [
            16.26677707135311,
            18.2664
           ]
          },
          {
           "line": {
            "color": "red",
            "width": 5
           },
           "marker": {
            "color": "blue",
            "size": 2
           },
           "text": [
            "RKnee"
           ],
           "type": "scatter3d",
           "x": [
            1.9861410196055491,
            -1.086472938356009
           ],
           "y": [
            -0.7176740211827854,
            0.3268432154251497
           ],
           "z": [
            9.592477256208475,
            16.26677707135311
           ]
          },
          {
           "line": {
            "color": "red",
            "width": 5
           },
           "marker": {
            "color": "blue",
            "size": 2
           },
           "text": [
            "RAnkle"
           ],
           "type": "scatter3d",
           "x": [
            -2.152417914161796,
            1.9861410196055491
           ],
           "y": [
            0.013990722820162338,
            -0.7176740211827854
           ],
           "z": [
            2.5409831012026034,
            9.592477256208475
           ]
          },
          {
           "line": {
            "color": "black",
            "width": 5
           },
           "marker": {
            "color": "blue",
            "size": 2
           },
           "text": [
            "LHip"
           ],
           "type": "scatter3d",
           "x": [
            0.6229388093294222,
            -0.880629
           ],
           "y": [
            3.009324443491989,
            1.94954
           ],
           "z": [
            16.48972083959788,
            18.2664
           ]
          },
          {
           "line": {
            "color": "black",
            "width": 5
           },
           "marker": {
            "color": "blue",
            "size": 2
           },
           "text": [
            "LKnee"
           ],
           "type": "scatter3d",
           "x": [
            3.659416652901588,
            0.6229388093294222
           ],
           "y": [
            2.2099632793434276,
            3.009324443491989
           ],
           "z": [
            9.55591822703979,
            16.48972083959788
           ]
          },
          {
           "line": {
            "color": "black",
            "width": 5
           },
           "marker": {
            "color": "blue",
            "size": 2
           },
           "text": [
            "LAnkle"
           ],
           "type": "scatter3d",
           "x": [
            -1.233848316798178,
            3.659416652901588
           ],
           "y": [
            4.751774369440632,
            2.2099632793434276
           ],
           "z": [
            3.5898949678478376,
            9.55591822703979
           ]
          },
          {
           "line": {
            "color": "black",
            "width": 5
           },
           "marker": {
            "color": "blue",
            "size": 2
           },
           "text": [
            "Spine1"
           ],
           "type": "scatter3d",
           "x": [
            -0.7727279910461378,
            -0.880629
           ],
           "y": [
            1.7751269524326385,
            1.94954
           ],
           "z": [
            22.269744552309476,
            18.2664
           ]
          },
          {
           "line": {
            "color": "black",
            "width": 5
           },
           "marker": {
            "color": "blue",
            "size": 2
           },
           "text": [
            "Neck"
           ],
           "type": "scatter3d",
           "x": [
            -0.5462157377402205,
            -0.7727279910461378
           ],
           "y": [
            1.4940023424635391,
            1.7751269524326385
           ],
           "z": [
            26.049386058055273,
            22.269744552309476
           ]
          },
          {
           "line": {
            "color": "black",
            "width": 5
           },
           "marker": {
            "color": "blue",
            "size": 2
           },
           "text": [
            "Head"
           ],
           "type": "scatter3d",
           "x": [
            -0.44565741995916464,
            -0.5462157377402205
           ],
           "y": [
            1.3757386485625878,
            1.4940023424635391
           ],
           "z": [
            27.822312699755642,
            26.049386058055273
           ]
          },
          {
           "line": {
            "color": "black",
            "width": 5
           },
           "marker": {
            "color": "blue",
            "size": 2
           },
           "text": [
            "Site"
           ],
           "type": "scatter3d",
           "x": [
            -0.22796368306722165,
            -0.44565741995916464
           ],
           "y": [
            1.063092774408156,
            1.3757386485625878
           ],
           "z": [
            29.563758730457764,
            27.822312699755642
           ]
          },
          {
           "line": {
            "color": "black",
            "width": 5
           },
           "marker": {
            "color": "blue",
            "size": 2
           },
           "text": [
            "LShoulder"
           ],
           "type": "scatter3d",
           "x": [
            1.1246483744229003,
            -0.5462157377402205
           ],
           "y": [
            4.552712730074504,
            1.4940023424635391
           ],
           "z": [
            25.694731559493828,
            26.049386058055273
           ]
          },
          {
           "line": {
            "color": "black",
            "width": 5
           },
           "marker": {
            "color": "blue",
            "size": 2
           },
           "text": [
            "LElbow"
           ],
           "type": "scatter3d",
           "x": [
            3.602108177615931,
            1.1246483744229003
           ],
           "y": [
            2.7705393931141717,
            4.552712730074504
           ],
           "z": [
            24.309639098127775,
            25.694731559493828
           ]
          },
          {
           "line": {
            "color": "black",
            "width": 5
           },
           "marker": {
            "color": "blue",
            "size": 2
           },
           "text": [
            "LWrist"
           ],
           "type": "scatter3d",
           "x": [
            3.4510870809152676,
            3.602108177615931
           ],
           "y": [
            1.9112829172024357,
            2.7705393931141717
           ],
           "z": [
            25.93282914277907,
            24.309639098127775
           ]
          },
          {
           "line": {
            "color": "red",
            "width": 5
           },
           "marker": {
            "color": "blue",
            "size": 2
           },
           "text": [
            "RShoulder"
           ],
           "type": "scatter3d",
           "x": [
            -2.2859325040937852,
            -0.5462157377402205
           ],
           "y": [
            -0.9378098446502745,
            1.4940023424635391
           ],
           "z": [
            25.5664533111818,
            26.049386058055273
           ]
          },
          {
           "line": {
            "color": "red",
            "width": 5
           },
           "marker": {
            "color": "blue",
            "size": 2
           },
           "text": [
            "RElbow"
           ],
           "type": "scatter3d",
           "x": [
            1.0758548605767109,
            -2.2859325040937852
           ],
           "y": [
            -3.2167278799864367,
            -0.9378098446502745
           ],
           "z": [
            24.322730681680547,
            25.5664533111818
           ]
          },
          {
           "line": {
            "color": "red",
            "width": 5
           },
           "marker": {
            "color": "blue",
            "size": 2
           },
           "text": [
            "RWrist"
           ],
           "type": "scatter3d",
           "x": [
            1.4602425308973457,
            1.0758548605767109
           ],
           "y": [
            -2.940283357131395,
            -3.2167278799864367
           ],
           "z": [
            26.075155690714862,
            24.322730681680547
           ]
          },
          {
           "line": {
            "color": "#1f77b4",
            "width": 1
           },
           "marker": {
            "color": "#1f77b4",
            "size": 1
           },
           "type": "scatter3d",
           "x": [
            -7.68200201222643,
            -11.202351483965106,
            -10.955869104893946,
            -7.261455157517169,
            -6.696189981227148,
            -6.597702295821579,
            -6.51772886461975,
            -3.8476915953707365,
            -0.7970128046349325,
            -5.5020630048652315,
            -4.462829338330973,
            2.1426985093789725,
            -6.550621684435969,
            -4.382364421867683,
            -6.238933645893352,
            -6.0372324143801315,
            -5.622770625880111,
            -4.622031270382943,
            -1.8315147477995466,
            -8.80699809751267,
            -5.336259744172091,
            -3.3386011500038735,
            -6.154514249840276,
            -2.3716164831946065,
            -3.7972808897935995,
            -4.576736217307565,
            -5.1162575489259865,
            -4.079441163068022,
            -2.1208858457289037,
            -5.667957809262714,
            -7.811198372064535,
            -2.302780558625111,
            -6.416882824203098,
            -1.427036396898762,
            -3.9840501846998935,
            -2.278256598067263,
            -5.53744891249996,
            -4.686226410672376,
            0.30382441378906755,
            -3.7296668065514353,
            1.1757518519108903
           ],
           "y": [
            3.4053156803910536,
            3.729440580134272,
            7.115938837216567,
            6.2383953833599834,
            6.738902405987771,
            1.6798788535843796,
            0.426703045092959,
            -8.57887314276572,
            -5.457469816021779,
            -6.145413681234592,
            -2.651627769211558,
            -7.988855680680584,
            1.322022686032784,
            0.4111020926919453,
            3.3084733072069357,
            4.507646719655471,
            1.2562719135064158,
            2.5679035233151972,
            -4.250612202162369,
            -1.208029219654247,
            7.660506207376087,
            1.1225209147164903,
            -0.12399672775587334,
            6.2154445047511295,
            4.537339874920296,
            2.2609880239650932,
            3.2751112379121494,
            3.359583721700272,
            -7.870824768406664,
            1.2765968301708028,
            7.0431575239128525,
            7.153181259315232,
            5.871462844333443,
            9.124324108019174,
            3.245368448314138,
            2.977563710489315,
            4.949095329845723,
            0.7019325432311811,
            -6.883309472590983,
            -2.17003899226647,
            -1.6369064380268377
           ],
           "z": [
            1.865911632557168,
            2.0831814398599002,
            2.4502047462026466,
            3.600422432940081,
            3.3586116742422365,
            2.8752883654471493,
            3.1498232277243945,
            4.465394927147864,
            2.7671204675596304,
            3.4168017828747113,
            3.173826242416413,
            3.3530783562129756,
            2.08089440622238,
            3.537429728401681,
            1.885924112360784,
            2.281288795428674,
            3.0206222088432257,
            3.2720535786143525,
            2.7877711354988826,
            1.5074967845823197,
            2.5428062168417425,
            3.6656635052035282,
            3.822880886229819,
            2.35614063913287,
            3.5399158247028906,
            3.365749150172884,
            3.8878939422390904,
            2.7601196551112954,
            2.01878197679254,
            2.7797540995971515,
            2.652222941943201,
            2.765213824504499,
            3.3527467500595236,
            2.3662719801904943,
            3.83941638094638,
            2.972890714393764,
            3.4667104836811014,
            3.660240668473299,
            2.9147782149394352,
            2.9860694971531387,
            3.371906606402354
           ]
          },
          {
           "color": "#00FFFF",
           "type": "mesh3d",
           "x": [
            -50,
            50,
            -50,
            50
           ],
           "y": [
            -50,
            50,
            50,
            -50
           ],
           "z": [
            0,
            0,
            0,
            0
           ]
          }
         ],
         "name": "frame42"
        },
        {
         "data": [
          {
           "line": {
            "color": "red",
            "width": 5
           },
           "marker": {
            "color": "blue",
            "size": 2
           },
           "text": [
            "RHip"
           ],
           "type": "scatter3d",
           "x": [
            -0.4068483397813664,
            0.381866
           ],
           "y": [
            1.5123141224758252,
            2.81886
           ],
           "z": [
            16.164563385817242,
            18.249
           ]
          },
          {
           "line": {
            "color": "red",
            "width": 5
           },
           "marker": {
            "color": "blue",
            "size": 2
           },
           "text": [
            "RKnee"
           ],
           "type": "scatter3d",
           "x": [
            0.7661858458185098,
            -0.4068483397813664
           ],
           "y": [
            -1.3999461701211742,
            1.5123141224758252
           ],
           "z": [
            9.439908628712764,
            16.164563385817242
           ]
          },
          {
           "line": {
            "color": "red",
            "width": 5
           },
           "marker": {
            "color": "blue",
            "size": 2
           },
           "text": [
            "RAnkle"
           ],
           "type": "scatter3d",
           "x": [
            -3.692818496237555,
            0.7661858458185098
           ],
           "y": [
            0.3830550195437339,
            -1.3999461701211742
           ],
           "z": [
            2.7822243316660007,
            9.439908628712764
           ]
          },
          {
           "line": {
            "color": "black",
            "width": 5
           },
           "marker": {
            "color": "blue",
            "size": 2
           },
           "text": [
            "LHip"
           ],
           "type": "scatter3d",
           "x": [
            2.1519953741743425,
            0.381866
           ],
           "y": [
            3.3864049994607743,
            2.81886
           ],
           "z": [
            16.492588107760962,
            18.249
           ]
          },
          {
           "line": {
            "color": "black",
            "width": 5
           },
           "marker": {
            "color": "blue",
            "size": 2
           },
           "text": [
            "LKnee"
           ],
           "type": "scatter3d",
           "x": [
            5.815649763946636,
            2.1519953741743425
           ],
           "y": [
            1.6383492848608832,
            3.3864049994607743
           ],
           "z": [
            10.053742530630862,
            16.492588107760962
           ]
          },
          {
           "line": {
            "color": "black",
            "width": 5
           },
           "marker": {
            "color": "blue",
            "size": 2
           },
           "text": [
            "LAnkle"
           ],
           "type": "scatter3d",
           "x": [
            4.466340891861407,
            5.815649763946636
           ],
           "y": [
            5.41548728531561,
            1.6383492848608832
           ],
           "z": [
            2.9889797388674797,
            10.053742530630862
           ]
          },
          {
           "line": {
            "color": "black",
            "width": 5
           },
           "marker": {
            "color": "blue",
            "size": 2
           },
           "text": [
            "Spine1"
           ],
           "type": "scatter3d",
           "x": [
            0.4230090559247703,
            0.381866
           ],
           "y": [
            2.0605590252982346,
            2.81886
           ],
           "z": [
            22.183698893844365,
            18.249
           ]
          },
          {
           "line": {
            "color": "black",
            "width": 5
           },
           "marker": {
            "color": "blue",
            "size": 2
           },
           "text": [
            "Neck"
           ],
           "type": "scatter3d",
           "x": [
            0.3808780667524074,
            0.4230090559247703
           ],
           "y": [
            1.1080850709053833,
            2.0605590252982346
           ],
           "z": [
            25.860274509499096,
            22.183698893844365
           ]
          },
          {
           "line": {
            "color": "black",
            "width": 5
           },
           "marker": {
            "color": "blue",
            "size": 2
           },
           "text": [
            "Head"
           ],
           "type": "scatter3d",
           "x": [
            0.44410823226292884,
            0.3808780667524074
           ],
           "y": [
            0.6889061011717139,
            1.1080850709053833
           ],
           "z": [
            27.588758842932158,
            25.860274509499096
           ]
          },
          {
           "line": {
            "color": "black",
            "width": 5
           },
           "marker": {
            "color": "blue",
            "size": 2
           },
           "text": [
            "Site"
           ],
           "type": "scatter3d",
           "x": [
            0.6267902808760564,
            0.44410823226292884
           ],
           "y": [
            0.09484487021644372,
            0.6889061011717139
           ],
           "z": [
            29.25953435345006,
            27.588758842932158
           ]
          },
          {
           "line": {
            "color": "black",
            "width": 5
           },
           "marker": {
            "color": "blue",
            "size": 2
           },
           "text": [
            "LShoulder"
           ],
           "type": "scatter3d",
           "x": [
            2.882034503803384,
            0.3808780667524074
           ],
           "y": [
            3.7053307983260795,
            1.1080850709053833
           ],
           "z": [
            25.96437019470043,
            25.860274509499096
           ]
          },
          {
           "line": {
            "color": "black",
            "width": 5
           },
           "marker": {
            "color": "blue",
            "size": 2
           },
           "text": [
            "LElbow"
           ],
           "type": "scatter3d",
           "x": [
            4.887092830843675,
            2.882034503803384
           ],
           "y": [
            1.9153933613408554,
            3.7053307983260795
           ],
           "z": [
            24.116622132899643,
            25.96437019470043
           ]
          },
          {
           "line": {
            "color": "black",
            "width": 5
           },
           "marker": {
            "color": "blue",
            "size": 2
           },
           "text": [
            "LWrist"
           ],
           "type": "scatter3d",
           "x": [
            4.686126401597796,
            4.887092830843675
           ],
           "y": [
            0.8468835214968922,
            1.9153933613408554
           ],
           "z": [
            25.604497867150588,
            24.116622132899643
           ]
          },
          {
           "line": {
            "color": "red",
            "width": 5
           },
           "marker": {
            "color": "blue",
            "size": 2
           },
           "text": [
            "RShoulder"
           ],
           "type": "scatter3d",
           "x": [
            -1.874186919885842,
            0.3808780667524074
           ],
           "y": [
            -0.5789540628578456,
            1.1080850709053833
           ],
           "z": [
            25.06014877351758,
            25.860274509499096
           ]
          },
          {
           "line": {
            "color": "red",
            "width": 5
           },
           "marker": {
            "color": "blue",
            "size": 2
           },
           "text": [
            "RElbow"
           ],
           "type": "scatter3d",
           "x": [
            1.3127656794541165,
            -1.874186919885842
           ],
           "y": [
            -2.5694019276619477,
            -0.5789540628578456
           ],
           "z": [
            22.592997611549713,
            25.06014877351758
           ]
          },
          {
           "line": {
            "color": "red",
            "width": 5
           },
           "marker": {
            "color": "blue",
            "size": 2
           },
           "text": [
            "RWrist"
           ],
           "type": "scatter3d",
           "x": [
            2.1773716348466348,
            1.3127656794541165
           ],
           "y": [
            -2.669037972707762,
            -2.5694019276619477
           ],
           "z": [
            24.186013012613813,
            22.592997611549713
           ]
          },
          {
           "line": {
            "color": "#1f77b4",
            "width": 1
           },
           "marker": {
            "color": "#1f77b4",
            "size": 1
           },
           "type": "scatter3d",
           "x": [
            -7.68200201222643,
            -11.202351483965106,
            -10.955869104893946,
            -7.261455157517169,
            -6.696189981227148,
            -6.597702295821579,
            -6.51772886461975,
            -3.8476915953707365,
            -0.7970128046349325,
            -5.5020630048652315,
            -4.462829338330973,
            2.1426985093789725,
            -6.550621684435969,
            -4.382364421867683,
            -6.238933645893352,
            -6.0372324143801315,
            -5.622770625880111,
            -4.622031270382943,
            -1.8315147477995466,
            -8.80699809751267,
            -5.336259744172091,
            -3.3386011500038735,
            -6.154514249840276,
            -2.3716164831946065,
            -3.7972808897935995,
            -4.576736217307565,
            -5.1162575489259865,
            -4.079441163068022,
            -2.1208858457289037,
            -5.667957809262714,
            -7.811198372064535,
            -2.302780558625111,
            -6.416882824203098,
            -1.427036396898762,
            -3.9840501846998935,
            -2.278256598067263,
            -5.53744891249996,
            -4.686226410672376,
            0.30382441378906755,
            -3.7296668065514353,
            1.1757518519108903,
            -2.152417914161796
           ],
           "y": [
            3.4053156803910536,
            3.729440580134272,
            7.115938837216567,
            6.2383953833599834,
            6.738902405987771,
            1.6798788535843796,
            0.426703045092959,
            -8.57887314276572,
            -5.457469816021779,
            -6.145413681234592,
            -2.651627769211558,
            -7.988855680680584,
            1.322022686032784,
            0.4111020926919453,
            3.3084733072069357,
            4.507646719655471,
            1.2562719135064158,
            2.5679035233151972,
            -4.250612202162369,
            -1.208029219654247,
            7.660506207376087,
            1.1225209147164903,
            -0.12399672775587334,
            6.2154445047511295,
            4.537339874920296,
            2.2609880239650932,
            3.2751112379121494,
            3.359583721700272,
            -7.870824768406664,
            1.2765968301708028,
            7.0431575239128525,
            7.153181259315232,
            5.871462844333443,
            9.124324108019174,
            3.245368448314138,
            2.977563710489315,
            4.949095329845723,
            0.7019325432311811,
            -6.883309472590983,
            -2.17003899226647,
            -1.6369064380268377,
            0.013990722820162338
           ],
           "z": [
            1.865911632557168,
            2.0831814398599002,
            2.4502047462026466,
            3.600422432940081,
            3.3586116742422365,
            2.8752883654471493,
            3.1498232277243945,
            4.465394927147864,
            2.7671204675596304,
            3.4168017828747113,
            3.173826242416413,
            3.3530783562129756,
            2.08089440622238,
            3.537429728401681,
            1.885924112360784,
            2.281288795428674,
            3.0206222088432257,
            3.2720535786143525,
            2.7877711354988826,
            1.5074967845823197,
            2.5428062168417425,
            3.6656635052035282,
            3.822880886229819,
            2.35614063913287,
            3.5399158247028906,
            3.365749150172884,
            3.8878939422390904,
            2.7601196551112954,
            2.01878197679254,
            2.7797540995971515,
            2.652222941943201,
            2.765213824504499,
            3.3527467500595236,
            2.3662719801904943,
            3.83941638094638,
            2.972890714393764,
            3.4667104836811014,
            3.660240668473299,
            2.9147782149394352,
            2.9860694971531387,
            3.371906606402354,
            2.5409831012026034
           ]
          },
          {
           "color": "#00FFFF",
           "type": "mesh3d",
           "x": [
            -50,
            50,
            -50,
            50
           ],
           "y": [
            -50,
            50,
            50,
            -50
           ],
           "z": [
            0,
            0,
            0,
            0
           ]
          }
         ],
         "name": "frame43"
        },
        {
         "data": [
          {
           "line": {
            "color": "red",
            "width": 5
           },
           "marker": {
            "color": "blue",
            "size": 2
           },
           "text": [
            "RHip"
           ],
           "type": "scatter3d",
           "x": [
            -0.10022174992913979,
            1.19831
           ],
           "y": [
            1.8535192930567341,
            2.7875
           ],
           "z": [
            16.386529555624776,
            18.4152
           ]
          },
          {
           "line": {
            "color": "red",
            "width": 5
           },
           "marker": {
            "color": "blue",
            "size": 2
           },
           "text": [
            "RKnee"
           ],
           "type": "scatter3d",
           "x": [
            0.030139731557681043,
            -0.10022174992913979
           ],
           "y": [
            -0.8764882922131283,
            1.8535192930567341
           ],
           "z": [
            9.486651637633432,
            16.386529555624776
           ]
          },
          {
           "line": {
            "color": "red",
            "width": 5
           },
           "marker": {
            "color": "blue",
            "size": 2
           },
           "text": [
            "RAnkle"
           ],
           "type": "scatter3d",
           "x": [
            -3.851243149300469,
            0.030139731557681043
           ],
           "y": [
            1.73969847014791,
            -0.8764882922131283
           ],
           "z": [
            2.742987431833109,
            9.486651637633432
           ]
          },
          {
           "line": {
            "color": "black",
            "width": 5
           },
           "marker": {
            "color": "blue",
            "size": 2
           },
           "text": [
            "LHip"
           ],
           "type": "scatter3d",
           "x": [
            2.861531750554093,
            1.19831
           ],
           "y": [
            3.0304943460669245,
            2.7875
           ],
           "z": [
            16.487741772387846,
            18.4152
           ]
          },
          {
           "line": {
            "color": "black",
            "width": 5
           },
           "marker": {
            "color": "blue",
            "size": 2
           },
           "text": [
            "LKnee"
           ],
           "type": "scatter3d",
           "x": [
            5.432960618396098,
            2.861531750554093
           ],
           "y": [
            1.1138624983279894,
            3.0304943460669245
           ],
           "z": [
            9.584766285466817,
            16.487741772387846
           ]
          },
          {
           "line": {
            "color": "black",
            "width": 5
           },
           "marker": {
            "color": "blue",
            "size": 2
           },
           "text": [
            "LAnkle"
           ],
           "type": "scatter3d",
           "x": [
            4.993980495378361,
            5.432960618396098
           ],
           "y": [
            5.303146361743872,
            1.1138624983279894
           ],
           "z": [
            2.638150103902584,
            9.584766285466817
           ]
          },
          {
           "line": {
            "color": "black",
            "width": 5
           },
           "marker": {
            "color": "blue",
            "size": 2
           },
           "text": [
            "Spine1"
           ],
           "type": "scatter3d",
           "x": [
            1.6445344138111242,
            1.19831
           ],
           "y": [
            1.7854512184421178,
            2.7875
           ],
           "z": [
            22.267660990549047,
            18.4152
           ]
          },
          {
           "line": {
            "color": "black",
            "width": 5
           },
           "marker": {
            "color": "blue",
            "size": 2
           },
           "text": [
            "Neck"
           ],
           "type": "scatter3d",
           "x": [
            1.9933039403425483,
            1.6445344138111242
           ],
           "y": [
            0.5836625289754345,
            1.7854512184421178
           ],
           "z": [
            25.85328899856504,
            22.267660990549047
           ]
          },
          {
           "line": {
            "color": "black",
            "width": 5
           },
           "marker": {
            "color": "blue",
            "size": 2
           },
           "text": [
            "Head"
           ],
           "type": "scatter3d",
           "x": [
            2.1669127870240685,
            1.9933039403425483
           ],
           "y": [
            0.22387176296482542,
            0.5836625289754345
           ],
           "z": [
            27.587583589016276,
            25.85328899856504
           ]
          },
          {
           "line": {
            "color": "black",
            "width": 5
           },
           "marker": {
            "color": "blue",
            "size": 2
           },
           "text": [
            "Site"
           ],
           "type": "scatter3d",
           "x": [
            2.4248579231794434,
            2.1669127870240685
           ],
           "y": [
            -0.2636844496303715,
            0.22387176296482542
           ],
           "z": [
            29.282731231509267,
            27.587583589016276
           ]
          },
          {
           "line": {
            "color": "black",
            "width": 5
           },
           "marker": {
            "color": "blue",
            "size": 2
           },
           "text": [
            "LShoulder"
           ],
           "type": "scatter3d",
           "x": [
            5.083632822009581,
            1.9933039403425483
           ],
           "y": [
            2.534016980615102,
            0.5836625289754345
           ],
           "z": [
            25.532290718743305,
            25.85328899856504
           ]
          },
          {
           "line": {
            "color": "black",
            "width": 5
           },
           "marker": {
            "color": "blue",
            "size": 2
           },
           "text": [
            "LElbow"
           ],
           "type": "scatter3d",
           "x": [
            6.382589432242975,
            5.083632822009581
           ],
           "y": [
            0.09161184497775143,
            2.534016980615102
           ],
           "z": [
            23.478002370144157,
            25.532290718743305
           ]
          },
          {
           "line": {
            "color": "black",
            "width": 5
           },
           "marker": {
            "color": "blue",
            "size": 2
           },
           "text": [
            "LWrist"
           ],
           "type": "scatter3d",
           "x": [
            6.281429004893179,
            6.382589432242975
           ],
           "y": [
            -0.8900018117531083,
            0.09161184497775143
           ],
           "z": [
            25.034304455524072,
            23.478002370144157
           ]
          },
          {
           "line": {
            "color": "red",
            "width": 5
           },
           "marker": {
            "color": "blue",
            "size": 2
           },
           "text": [
            "RShoulder"
           ],
           "type": "scatter3d",
           "x": [
            -0.6752442889582422,
            1.9933039403425483
           ],
           "y": [
            -0.40322351074804796,
            0.5836625289754345
           ],
           "z": [
            25.484248048920357,
            25.85328899856504
           ]
          },
          {
           "line": {
            "color": "red",
            "width": 5
           },
           "marker": {
            "color": "blue",
            "size": 2
           },
           "text": [
            "RElbow"
           ],
           "type": "scatter3d",
           "x": [
            1.4261534640150422,
            -0.6752442889582422
           ],
           "y": [
            -3.0051313195549274,
            -0.40322351074804796
           ],
           "z": [
            22.845911054347756,
            25.484248048920357
           ]
          },
          {
           "line": {
            "color": "red",
            "width": 5
           },
           "marker": {
            "color": "blue",
            "size": 2
           },
           "text": [
            "RWrist"
           ],
           "type": "scatter3d",
           "x": [
            2.379126989959969,
            1.4261534640150422
           ],
           "y": [
            -3.2145538791180632,
            -3.0051313195549274
           ],
           "z": [
            24.376646994343325,
            22.845911054347756
           ]
          },
          {
           "line": {
            "color": "#1f77b4",
            "width": 1
           },
           "marker": {
            "color": "#1f77b4",
            "size": 1
           },
           "type": "scatter3d",
           "x": [
            -7.68200201222643,
            -11.202351483965106,
            -10.955869104893946,
            -7.261455157517169,
            -6.696189981227148,
            -6.597702295821579,
            -6.51772886461975,
            -3.8476915953707365,
            -0.7970128046349325,
            -5.5020630048652315,
            -4.462829338330973,
            2.1426985093789725,
            -6.550621684435969,
            -4.382364421867683,
            -6.238933645893352,
            -6.0372324143801315,
            -5.622770625880111,
            -4.622031270382943,
            -1.8315147477995466,
            -8.80699809751267,
            -5.336259744172091,
            -3.3386011500038735,
            -6.154514249840276,
            -2.3716164831946065,
            -3.7972808897935995,
            -4.576736217307565,
            -5.1162575489259865,
            -4.079441163068022,
            -2.1208858457289037,
            -5.667957809262714,
            -7.811198372064535,
            -2.302780558625111,
            -6.416882824203098,
            -1.427036396898762,
            -3.9840501846998935,
            -2.278256598067263,
            -5.53744891249996,
            -4.686226410672376,
            0.30382441378906755,
            -3.7296668065514353,
            1.1757518519108903,
            -2.152417914161796,
            -3.692818496237555
           ],
           "y": [
            3.4053156803910536,
            3.729440580134272,
            7.115938837216567,
            6.2383953833599834,
            6.738902405987771,
            1.6798788535843796,
            0.426703045092959,
            -8.57887314276572,
            -5.457469816021779,
            -6.145413681234592,
            -2.651627769211558,
            -7.988855680680584,
            1.322022686032784,
            0.4111020926919453,
            3.3084733072069357,
            4.507646719655471,
            1.2562719135064158,
            2.5679035233151972,
            -4.250612202162369,
            -1.208029219654247,
            7.660506207376087,
            1.1225209147164903,
            -0.12399672775587334,
            6.2154445047511295,
            4.537339874920296,
            2.2609880239650932,
            3.2751112379121494,
            3.359583721700272,
            -7.870824768406664,
            1.2765968301708028,
            7.0431575239128525,
            7.153181259315232,
            5.871462844333443,
            9.124324108019174,
            3.245368448314138,
            2.977563710489315,
            4.949095329845723,
            0.7019325432311811,
            -6.883309472590983,
            -2.17003899226647,
            -1.6369064380268377,
            0.013990722820162338,
            0.3830550195437339
           ],
           "z": [
            1.865911632557168,
            2.0831814398599002,
            2.4502047462026466,
            3.600422432940081,
            3.3586116742422365,
            2.8752883654471493,
            3.1498232277243945,
            4.465394927147864,
            2.7671204675596304,
            3.4168017828747113,
            3.173826242416413,
            3.3530783562129756,
            2.08089440622238,
            3.537429728401681,
            1.885924112360784,
            2.281288795428674,
            3.0206222088432257,
            3.2720535786143525,
            2.7877711354988826,
            1.5074967845823197,
            2.5428062168417425,
            3.6656635052035282,
            3.822880886229819,
            2.35614063913287,
            3.5399158247028906,
            3.365749150172884,
            3.8878939422390904,
            2.7601196551112954,
            2.01878197679254,
            2.7797540995971515,
            2.652222941943201,
            2.765213824504499,
            3.3527467500595236,
            2.3662719801904943,
            3.83941638094638,
            2.972890714393764,
            3.4667104836811014,
            3.660240668473299,
            2.9147782149394352,
            2.9860694971531387,
            3.371906606402354,
            2.5409831012026034,
            2.7822243316660007
           ]
          },
          {
           "color": "#00FFFF",
           "type": "mesh3d",
           "x": [
            -50,
            50,
            -50,
            50
           ],
           "y": [
            -50,
            50,
            50,
            -50
           ],
           "z": [
            0,
            0,
            0,
            0
           ]
          }
         ],
         "name": "frame44"
        },
        {
         "data": [
          {
           "line": {
            "color": "red",
            "width": 5
           },
           "marker": {
            "color": "blue",
            "size": 2
           },
           "text": [
            "RHip"
           ],
           "type": "scatter3d",
           "x": [
            0.3832054920758754,
            1.01032
           ],
           "y": [
            0.5597776881096608,
            2.00363
           ],
           "z": [
            15.787679551508564,
            17.8361
           ]
          },
          {
           "line": {
            "color": "red",
            "width": 5
           },
           "marker": {
            "color": "blue",
            "size": 2
           },
           "text": [
            "RKnee"
           ],
           "type": "scatter3d",
           "x": [
            0.8036524770784844,
            0.3832054920758754
           ],
           "y": [
            -0.6700222278686527,
            0.5597776881096608
           ],
           "z": [
            8.480897269673903,
            15.787679551508564
           ]
          },
          {
           "line": {
            "color": "red",
            "width": 5
           },
           "marker": {
            "color": "blue",
            "size": 2
           },
           "text": [
            "RAnkle"
           ],
           "type": "scatter3d",
           "x": [
            -4.154591360438411,
            0.8036524770784844
           ],
           "y": [
            2.7794523056441234,
            -0.6700222278686527
           ],
           "z": [
            2.9218041193177324,
            8.480897269673903
           ]
          },
          {
           "line": {
            "color": "black",
            "width": 5
           },
           "marker": {
            "color": "blue",
            "size": 2
           },
           "text": [
            "LHip"
           ],
           "type": "scatter3d",
           "x": [
            2.6561088006608884,
            1.01032
           ],
           "y": [
            2.7818863026032608,
            2.00363
           ],
           "z": [
            16.039952897448543,
            17.8361
           ]
          },
          {
           "line": {
            "color": "black",
            "width": 5
           },
           "marker": {
            "color": "blue",
            "size": 2
           },
           "text": [
            "LKnee"
           ],
           "type": "scatter3d",
           "x": [
            5.615308091958488,
            2.6561088006608884
           ],
           "y": [
            1.522535973514453,
            2.7818863026032608
           ],
           "z": [
            9.141114521447935,
            16.039952897448543
           ]
          },
          {
           "line": {
            "color": "black",
            "width": 5
           },
           "marker": {
            "color": "blue",
            "size": 2
           },
           "text": [
            "LAnkle"
           ],
           "type": "scatter3d",
           "x": [
            2.4079061365486507,
            5.615308091958488
           ],
           "y": [
            4.783850617668458,
            1.522535973514453
           ],
           "z": [
            2.427346674783056,
            9.141114521447935
           ]
          },
          {
           "line": {
            "color": "black",
            "width": 5
           },
           "marker": {
            "color": "blue",
            "size": 2
           },
           "text": [
            "Spine1"
           ],
           "type": "scatter3d",
           "x": [
            1.0515455544441723,
            1.01032
           ],
           "y": [
            1.5641954915202172,
            2.00363
           ],
           "z": [
            21.823123180622332,
            17.8361
           ]
          },
          {
           "line": {
            "color": "black",
            "width": 5
           },
           "marker": {
            "color": "blue",
            "size": 2
           },
           "text": [
            "Neck"
           ],
           "type": "scatter3d",
           "x": [
            1.0949993415237356,
            1.0515455544441723
           ],
           "y": [
            1.0974456999993585,
            1.5641954915202172
           ],
           "z": [
            25.590489262701045,
            21.823123180622332
           ]
          },
          {
           "line": {
            "color": "black",
            "width": 5
           },
           "marker": {
            "color": "blue",
            "size": 2
           },
           "text": [
            "Head"
           ],
           "type": "scatter3d",
           "x": [
            1.3190655609601138,
            1.0949993415237356
           ],
           "y": [
            0.9804425246048944,
            1.0974456999993585
           ],
           "z": [
            27.35215658080515,
            25.590489262701045
           ]
          },
          {
           "line": {
            "color": "black",
            "width": 5
           },
           "marker": {
            "color": "blue",
            "size": 2
           },
           "text": [
            "Site"
           ],
           "type": "scatter3d",
           "x": [
            1.7274530134518395,
            1.3190655609601138
           ],
           "y": [
            0.6970029445430982,
            0.9804425246048944
           ],
           "z": [
            29.0640718756307,
            27.35215658080515
           ]
          },
          {
           "line": {
            "color": "black",
            "width": 5
           },
           "marker": {
            "color": "blue",
            "size": 2
           },
           "text": [
            "LShoulder"
           ],
           "type": "scatter3d",
           "x": [
            3.0876380941709263,
            1.0949993415237356
           ],
           "y": [
            3.999860977020925,
            1.0974456999993585
           ],
           "z": [
            25.424153121651724,
            25.590489262701045
           ]
          },
          {
           "line": {
            "color": "black",
            "width": 5
           },
           "marker": {
            "color": "blue",
            "size": 2
           },
           "text": [
            "LElbow"
           ],
           "type": "scatter3d",
           "x": [
            5.559077156303488,
            3.0876380941709263
           ],
           "y": [
            1.8192048182589997,
            3.999860977020925
           ],
           "z": [
            23.802549003113196,
            25.424153121651724
           ]
          },
          {
           "line": {
            "color": "black",
            "width": 5
           },
           "marker": {
            "color": "blue",
            "size": 2
           },
           "text": [
            "LWrist"
           ],
           "type": "scatter3d",
           "x": [
            5.564593568885508,
            5.559077156303488
           ],
           "y": [
            0.8853108780995191,
            1.8192048182589997
           ],
           "z": [
            25.391160554697038,
            23.802549003113196
           ]
          },
          {
           "line": {
            "color": "red",
            "width": 5
           },
           "marker": {
            "color": "blue",
            "size": 2
           },
           "text": [
            "RShoulder"
           ],
           "type": "scatter3d",
           "x": [
            -0.8299486753091805,
            1.0949993415237356
           ],
           "y": [
            -1.120763073046183,
            1.0974456999993585
           ],
           "z": [
            24.948675863599558,
            25.590489262701045
           ]
          },
          {
           "line": {
            "color": "red",
            "width": 5
           },
           "marker": {
            "color": "blue",
            "size": 2
           },
           "text": [
            "RElbow"
           ],
           "type": "scatter3d",
           "x": [
            2.6154504768784532,
            -0.8299486753091805
           ],
           "y": [
            -2.514074100271351,
            -1.120763073046183
           ],
           "z": [
            23.051699726763527,
            24.948675863599558
           ]
          },
          {
           "line": {
            "color": "red",
            "width": 5
           },
           "marker": {
            "color": "blue",
            "size": 2
           },
           "text": [
            "RWrist"
           ],
           "type": "scatter3d",
           "x": [
            3.190322402276424,
            2.6154504768784532
           ],
           "y": [
            -2.193526576518532,
            -2.514074100271351
           ],
           "z": [
            24.743426779808775,
            23.051699726763527
           ]
          },
          {
           "line": {
            "color": "#1f77b4",
            "width": 1
           },
           "marker": {
            "color": "#1f77b4",
            "size": 1
           },
           "type": "scatter3d",
           "x": [
            -7.68200201222643,
            -11.202351483965106,
            -10.955869104893946,
            -7.261455157517169,
            -6.696189981227148,
            -6.597702295821579,
            -6.51772886461975,
            -3.8476915953707365,
            -0.7970128046349325,
            -5.5020630048652315,
            -4.462829338330973,
            2.1426985093789725,
            -6.550621684435969,
            -4.382364421867683,
            -6.238933645893352,
            -6.0372324143801315,
            -5.622770625880111,
            -4.622031270382943,
            -1.8315147477995466,
            -8.80699809751267,
            -5.336259744172091,
            -3.3386011500038735,
            -6.154514249840276,
            -2.3716164831946065,
            -3.7972808897935995,
            -4.576736217307565,
            -5.1162575489259865,
            -4.079441163068022,
            -2.1208858457289037,
            -5.667957809262714,
            -7.811198372064535,
            -2.302780558625111,
            -6.416882824203098,
            -1.427036396898762,
            -3.9840501846998935,
            -2.278256598067263,
            -5.53744891249996,
            -4.686226410672376,
            0.30382441378906755,
            -3.7296668065514353,
            1.1757518519108903,
            -2.152417914161796,
            -3.692818496237555,
            -3.851243149300469
           ],
           "y": [
            3.4053156803910536,
            3.729440580134272,
            7.115938837216567,
            6.2383953833599834,
            6.738902405987771,
            1.6798788535843796,
            0.426703045092959,
            -8.57887314276572,
            -5.457469816021779,
            -6.145413681234592,
            -2.651627769211558,
            -7.988855680680584,
            1.322022686032784,
            0.4111020926919453,
            3.3084733072069357,
            4.507646719655471,
            1.2562719135064158,
            2.5679035233151972,
            -4.250612202162369,
            -1.208029219654247,
            7.660506207376087,
            1.1225209147164903,
            -0.12399672775587334,
            6.2154445047511295,
            4.537339874920296,
            2.2609880239650932,
            3.2751112379121494,
            3.359583721700272,
            -7.870824768406664,
            1.2765968301708028,
            7.0431575239128525,
            7.153181259315232,
            5.871462844333443,
            9.124324108019174,
            3.245368448314138,
            2.977563710489315,
            4.949095329845723,
            0.7019325432311811,
            -6.883309472590983,
            -2.17003899226647,
            -1.6369064380268377,
            0.013990722820162338,
            0.3830550195437339,
            1.73969847014791
           ],
           "z": [
            1.865911632557168,
            2.0831814398599002,
            2.4502047462026466,
            3.600422432940081,
            3.3586116742422365,
            2.8752883654471493,
            3.1498232277243945,
            4.465394927147864,
            2.7671204675596304,
            3.4168017828747113,
            3.173826242416413,
            3.3530783562129756,
            2.08089440622238,
            3.537429728401681,
            1.885924112360784,
            2.281288795428674,
            3.0206222088432257,
            3.2720535786143525,
            2.7877711354988826,
            1.5074967845823197,
            2.5428062168417425,
            3.6656635052035282,
            3.822880886229819,
            2.35614063913287,
            3.5399158247028906,
            3.365749150172884,
            3.8878939422390904,
            2.7601196551112954,
            2.01878197679254,
            2.7797540995971515,
            2.652222941943201,
            2.765213824504499,
            3.3527467500595236,
            2.3662719801904943,
            3.83941638094638,
            2.972890714393764,
            3.4667104836811014,
            3.660240668473299,
            2.9147782149394352,
            2.9860694971531387,
            3.371906606402354,
            2.5409831012026034,
            2.7822243316660007,
            2.742987431833109
           ]
          },
          {
           "color": "#00FFFF",
           "type": "mesh3d",
           "x": [
            -50,
            50,
            -50,
            50
           ],
           "y": [
            -50,
            50,
            50,
            -50
           ],
           "z": [
            0,
            0,
            0,
            0
           ]
          }
         ],
         "name": "frame45"
        },
        {
         "data": [
          {
           "line": {
            "color": "red",
            "width": 5
           },
           "marker": {
            "color": "blue",
            "size": 2
           },
           "text": [
            "RHip"
           ],
           "type": "scatter3d",
           "x": [
            3.6931134172348026,
            3.98941
           ],
           "y": [
            0.06682341431936645,
            1.96488
           ],
           "z": [
            16.619490539887575,
            18.3468
           ]
          },
          {
           "line": {
            "color": "red",
            "width": 5
           },
           "marker": {
            "color": "blue",
            "size": 2
           },
           "text": [
            "RKnee"
           ],
           "type": "scatter3d",
           "x": [
            2.8118393409072535,
            3.6931134172348026
           ],
           "y": [
            -0.973895342530779,
            0.06682341431936645
           ],
           "z": [
            9.324388670399781,
            16.619490539887575
           ]
          },
          {
           "line": {
            "color": "red",
            "width": 5
           },
           "marker": {
            "color": "blue",
            "size": 2
           },
           "text": [
            "RAnkle"
           ],
           "type": "scatter3d",
           "x": [
            -2.774863366576164,
            2.8118393409072535
           ],
           "y": [
            -0.30968928788944405,
            -0.973895342530779
           ],
           "z": [
            3.346583359155561,
            9.324388670399781
           ]
          },
          {
           "line": {
            "color": "black",
            "width": 5
           },
           "marker": {
            "color": "blue",
            "size": 2
           },
           "text": [
            "LHip"
           ],
           "type": "scatter3d",
           "x": [
            5.039587156514372,
            3.98941
           ],
           "y": [
            2.93006398924207,
            1.96488
           ],
           "z": [
            16.224066886824293,
            18.3468
           ]
          },
          {
           "line": {
            "color": "black",
            "width": 5
           },
           "marker": {
            "color": "blue",
            "size": 2
           },
           "text": [
            "LKnee"
           ],
           "type": "scatter3d",
           "x": [
            9.07600746243136,
            5.039587156514372
           ],
           "y": [
            2.9606600605454068,
            2.93006398924207
           ],
           "z": [
            9.770914972482526,
            16.224066886824293
           ]
          },
          {
           "line": {
            "color": "black",
            "width": 5
           },
           "marker": {
            "color": "blue",
            "size": 2
           },
           "text": [
            "LAnkle"
           ],
           "type": "scatter3d",
           "x": [
            9.728104320431846,
            9.07600746243136
           ],
           "y": [
            6.094939789139996,
            2.9606600605454068
           ],
           "z": [
            2.3043669426793105,
            9.770914972482526
           ]
          },
          {
           "line": {
            "color": "black",
            "width": 5
           },
           "marker": {
            "color": "blue",
            "size": 2
           },
           "text": [
            "Spine1"
           ],
           "type": "scatter3d",
           "x": [
            4.538721061055933,
            3.98941
           ],
           "y": [
            2.7044489609478806,
            1.96488
           ],
           "z": [
            22.240915929681574,
            18.3468
           ]
          },
          {
           "line": {
            "color": "black",
            "width": 5
           },
           "marker": {
            "color": "blue",
            "size": 2
           },
           "text": [
            "Neck"
           ],
           "type": "scatter3d",
           "x": [
            5.799291526936098,
            4.538721061055933
           ],
           "y": [
            3.973164006381038,
            2.7044489609478806
           ],
           "z": [
            25.58833533177453,
            22.240915929681574
           ]
          },
          {
           "line": {
            "color": "black",
            "width": 5
           },
           "marker": {
            "color": "blue",
            "size": 2
           },
           "text": [
            "Head"
           ],
           "type": "scatter3d",
           "x": [
            6.668431604901985,
            5.799291526936098
           ],
           "y": [
            4.242424373115083,
            3.973164006381038
           ],
           "z": [
            27.117865172346693,
            25.58833533177453
           ]
          },
          {
           "line": {
            "color": "black",
            "width": 5
           },
           "marker": {
            "color": "blue",
            "size": 2
           },
           "text": [
            "Site"
           ],
           "type": "scatter3d",
           "x": [
            7.668928848432987,
            6.668431604901985
           ],
           "y": [
            4.2455383437567695,
            4.242424373115083
           ],
           "z": [
            28.59325252908717,
            27.117865172346693
           ]
          },
          {
           "line": {
            "color": "black",
            "width": 5
           },
           "marker": {
            "color": "blue",
            "size": 2
           },
           "text": [
            "LShoulder"
           ],
           "type": "scatter3d",
           "x": [
            5.261027678247375,
            5.799291526936098
           ],
           "y": [
            7.054031842644269,
            3.973164006381038
           ],
           "z": [
            24.13958855280428,
            25.58833533177453
           ]
          },
          {
           "line": {
            "color": "black",
            "width": 5
           },
           "marker": {
            "color": "blue",
            "size": 2
           },
           "text": [
            "LElbow"
           ],
           "type": "scatter3d",
           "x": [
            8.194330464533973,
            5.261027678247375
           ],
           "y": [
            6.361641045301006,
            7.054031842644269
           ],
           "z": [
            21.85294417849977,
            24.13958855280428
           ]
          },
          {
           "line": {
            "color": "black",
            "width": 5
           },
           "marker": {
            "color": "blue",
            "size": 2
           },
           "text": [
            "LWrist"
           ],
           "type": "scatter3d",
           "x": [
            9.163680046875024,
            8.194330464533973
           ],
           "y": [
            5.943635277963757,
            6.361641045301006
           ],
           "z": [
            23.363410182681267,
            21.85294417849977
           ]
          },
          {
           "line": {
            "color": "red",
            "width": 5
           },
           "marker": {
            "color": "blue",
            "size": 2
           },
           "text": [
            "RShoulder"
           ],
           "type": "scatter3d",
           "x": [
            5.176924321778269,
            5.799291526936098
           ],
           "y": [
            0.992532501704197,
            3.973164006381038
           ],
           "z": [
            26.385809322601794,
            25.58833533177453
           ]
          },
          {
           "line": {
            "color": "red",
            "width": 5
           },
           "marker": {
            "color": "blue",
            "size": 2
           },
           "text": [
            "RElbow"
           ],
           "type": "scatter3d",
           "x": [
            10.393594150199466,
            5.176924321778269
           ],
           "y": [
            -1.0658494254770117,
            0.992532501704197
           ],
           "z": [
            23.391497027451123,
            26.385809322601794
           ]
          },
          {
           "line": {
            "color": "red",
            "width": 5
           },
           "marker": {
            "color": "blue",
            "size": 2
           },
           "text": [
            "RWrist"
           ],
           "type": "scatter3d",
           "x": [
            11.888346784068478,
            10.393594150199466
           ],
           "y": [
            -0.3953358462502773,
            -1.0658494254770117
           ],
           "z": [
            24.17335057589495,
            23.391497027451123
           ]
          },
          {
           "line": {
            "color": "#1f77b4",
            "width": 1
           },
           "marker": {
            "color": "#1f77b4",
            "size": 1
           },
           "type": "scatter3d",
           "x": [
            -7.68200201222643,
            -11.202351483965106,
            -10.955869104893946,
            -7.261455157517169,
            -6.696189981227148,
            -6.597702295821579,
            -6.51772886461975,
            -3.8476915953707365,
            -0.7970128046349325,
            -5.5020630048652315,
            -4.462829338330973,
            2.1426985093789725,
            -6.550621684435969,
            -4.382364421867683,
            -6.238933645893352,
            -6.0372324143801315,
            -5.622770625880111,
            -4.622031270382943,
            -1.8315147477995466,
            -8.80699809751267,
            -5.336259744172091,
            -3.3386011500038735,
            -6.154514249840276,
            -2.3716164831946065,
            -3.7972808897935995,
            -4.576736217307565,
            -5.1162575489259865,
            -4.079441163068022,
            -2.1208858457289037,
            -5.667957809262714,
            -7.811198372064535,
            -2.302780558625111,
            -6.416882824203098,
            -1.427036396898762,
            -3.9840501846998935,
            -2.278256598067263,
            -5.53744891249996,
            -4.686226410672376,
            0.30382441378906755,
            -3.7296668065514353,
            1.1757518519108903,
            -2.152417914161796,
            -3.692818496237555,
            -3.851243149300469,
            -4.154591360438411
           ],
           "y": [
            3.4053156803910536,
            3.729440580134272,
            7.115938837216567,
            6.2383953833599834,
            6.738902405987771,
            1.6798788535843796,
            0.426703045092959,
            -8.57887314276572,
            -5.457469816021779,
            -6.145413681234592,
            -2.651627769211558,
            -7.988855680680584,
            1.322022686032784,
            0.4111020926919453,
            3.3084733072069357,
            4.507646719655471,
            1.2562719135064158,
            2.5679035233151972,
            -4.250612202162369,
            -1.208029219654247,
            7.660506207376087,
            1.1225209147164903,
            -0.12399672775587334,
            6.2154445047511295,
            4.537339874920296,
            2.2609880239650932,
            3.2751112379121494,
            3.359583721700272,
            -7.870824768406664,
            1.2765968301708028,
            7.0431575239128525,
            7.153181259315232,
            5.871462844333443,
            9.124324108019174,
            3.245368448314138,
            2.977563710489315,
            4.949095329845723,
            0.7019325432311811,
            -6.883309472590983,
            -2.17003899226647,
            -1.6369064380268377,
            0.013990722820162338,
            0.3830550195437339,
            1.73969847014791,
            2.7794523056441234
           ],
           "z": [
            1.865911632557168,
            2.0831814398599002,
            2.4502047462026466,
            3.600422432940081,
            3.3586116742422365,
            2.8752883654471493,
            3.1498232277243945,
            4.465394927147864,
            2.7671204675596304,
            3.4168017828747113,
            3.173826242416413,
            3.3530783562129756,
            2.08089440622238,
            3.537429728401681,
            1.885924112360784,
            2.281288795428674,
            3.0206222088432257,
            3.2720535786143525,
            2.7877711354988826,
            1.5074967845823197,
            2.5428062168417425,
            3.6656635052035282,
            3.822880886229819,
            2.35614063913287,
            3.5399158247028906,
            3.365749150172884,
            3.8878939422390904,
            2.7601196551112954,
            2.01878197679254,
            2.7797540995971515,
            2.652222941943201,
            2.765213824504499,
            3.3527467500595236,
            2.3662719801904943,
            3.83941638094638,
            2.972890714393764,
            3.4667104836811014,
            3.660240668473299,
            2.9147782149394352,
            2.9860694971531387,
            3.371906606402354,
            2.5409831012026034,
            2.7822243316660007,
            2.742987431833109,
            2.9218041193177324
           ]
          },
          {
           "color": "#00FFFF",
           "type": "mesh3d",
           "x": [
            -50,
            50,
            -50,
            50
           ],
           "y": [
            -50,
            50,
            50,
            -50
           ],
           "z": [
            0,
            0,
            0,
            0
           ]
          }
         ],
         "name": "frame46"
        },
        {
         "data": [
          {
           "line": {
            "color": "red",
            "width": 5
           },
           "marker": {
            "color": "blue",
            "size": 2
           },
           "text": [
            "RHip"
           ],
           "type": "scatter3d",
           "x": [
            0.5427464501287935,
            1.9422
           ],
           "y": [
            0.8731147478530483,
            1.8915
           ],
           "z": [
            15.927976727718153,
            17.8459
           ]
          },
          {
           "line": {
            "color": "red",
            "width": 5
           },
           "marker": {
            "color": "blue",
            "size": 2
           },
           "text": [
            "RKnee"
           ],
           "type": "scatter3d",
           "x": [
            0.16485022745255673,
            0.5427464501287935
           ],
           "y": [
            0.0406695785755844,
            0.8731147478530483
           ],
           "z": [
            8.563027284598762,
            15.927976727718153
           ]
          },
          {
           "line": {
            "color": "red",
            "width": 5
           },
           "marker": {
            "color": "blue",
            "size": 2
           },
           "text": [
            "RAnkle"
           ],
           "type": "scatter3d",
           "x": [
            -3.9003741680915605,
            0.16485022745255673
           ],
           "y": [
            3.7836654219669974,
            0.0406695785755844
           ],
           "z": [
            2.492565531635324,
            8.563027284598762
           ]
          },
          {
           "line": {
            "color": "black",
            "width": 5
           },
           "marker": {
            "color": "blue",
            "size": 2
           },
           "text": [
            "LHip"
           ],
           "type": "scatter3d",
           "x": [
            3.525177912960464,
            1.9422
           ],
           "y": [
            1.9977808610893206,
            1.8915
           ],
           "z": [
            15.840075140105215,
            17.8459
           ]
          },
          {
           "line": {
            "color": "black",
            "width": 5
           },
           "marker": {
            "color": "blue",
            "size": 2
           },
           "text": [
            "LKnee"
           ],
           "type": "scatter3d",
           "x": [
            7.978986208885723,
            3.525177912960464
           ],
           "y": [
            -0.6446576929472057,
            1.9977808610893206
           ],
           "z": [
            10.261732663485507,
            15.840075140105215
           ]
          },
          {
           "line": {
            "color": "black",
            "width": 5
           },
           "marker": {
            "color": "blue",
            "size": 2
           },
           "text": [
            "LAnkle"
           ],
           "type": "scatter3d",
           "x": [
            9.755612419389166,
            7.978986208885723
           ],
           "y": [
            2.766326548071431,
            -0.6446576929472057
           ],
           "z": [
            3.1058214687929606,
            10.261732663485507
           ]
          },
          {
           "line": {
            "color": "black",
            "width": 5
           },
           "marker": {
            "color": "blue",
            "size": 2
           },
           "text": [
            "Spine1"
           ],
           "type": "scatter3d",
           "x": [
            2.7039431041595234,
            1.9422
           ],
           "y": [
            1.390451329339128,
            1.8915
           ],
           "z": [
            21.744025429668547,
            17.8459
           ]
          },
          {
           "line": {
            "color": "black",
            "width": 5
           },
           "marker": {
            "color": "blue",
            "size": 2
           },
           "text": [
            "Neck"
           ],
           "type": "scatter3d",
           "x": [
            3.9184964789737347,
            2.7039431041595234
           ],
           "y": [
            1.2411001365738454,
            1.390451329339128
           ],
           "z": [
            25.336183796017536,
            21.744025429668547
           ]
          },
          {
           "line": {
            "color": "black",
            "width": 5
           },
           "marker": {
            "color": "blue",
            "size": 2
           },
           "text": [
            "Head"
           ],
           "type": "scatter3d",
           "x": [
            4.880055865929179,
            3.9184964789737347
           ],
           "y": [
            1.1719132934851593,
            1.2411001365738454
           ],
           "z": [
            26.83217306052524,
            25.336183796017536
           ]
          },
          {
           "line": {
            "color": "black",
            "width": 5
           },
           "marker": {
            "color": "blue",
            "size": 2
           },
           "text": [
            "Site"
           ],
           "type": "scatter3d",
           "x": [
            6.016063881061138,
            4.880055865929179
           ],
           "y": [
            0.8793257192881765,
            1.1719132934851593
           ],
           "z": [
            28.174428842609046,
            26.83217306052524
           ]
          },
          {
           "line": {
            "color": "black",
            "width": 5
           },
           "marker": {
            "color": "blue",
            "size": 2
           },
           "text": [
            "LShoulder"
           ],
           "type": "scatter3d",
           "x": [
            6.274550601293493,
            3.9184964789737347
           ],
           "y": [
            3.5859234291100135,
            1.2411001365738454
           ],
           "z": [
            24.08415794393324,
            25.336183796017536
           ]
          },
          {
           "line": {
            "color": "black",
            "width": 5
           },
           "marker": {
            "color": "blue",
            "size": 2
           },
           "text": [
            "LElbow"
           ],
           "type": "scatter3d",
           "x": [
            6.836171240349545,
            6.274550601293493
           ],
           "y": [
            3.268739616303894,
            3.5859234291100135
           ],
           "z": [
            21.017111714880016,
            24.08415794393324
           ]
          },
          {
           "line": {
            "color": "black",
            "width": 5
           },
           "marker": {
            "color": "blue",
            "size": 2
           },
           "text": [
            "LWrist"
           ],
           "type": "scatter3d",
           "x": [
            8.083826028170954,
            6.836171240349545
           ],
           "y": [
            2.18212421142705,
            3.268739616303894
           ],
           "z": [
            21.8285915214129,
            21.017111714880016
           ]
          },
          {
           "line": {
            "color": "red",
            "width": 5
           },
           "marker": {
            "color": "blue",
            "size": 2
           },
           "text": [
            "RShoulder"
           ],
           "type": "scatter3d",
           "x": [
            1.5498659024014498,
            3.9184964789737347
           ],
           "y": [
            -0.5272522152845509,
            1.2411001365738454
           ],
           "z": [
            25.682124150043617,
            25.336183796017536
           ]
          },
          {
           "line": {
            "color": "red",
            "width": 5
           },
           "marker": {
            "color": "blue",
            "size": 2
           },
           "text": [
            "RElbow"
           ],
           "type": "scatter3d",
           "x": [
            1.5673337535731287,
            1.5498659024014498
           ],
           "y": [
            -3.2931961244867294,
            -0.5272522152845509
           ],
           "z": [
            21.528341789917768,
            25.682124150043617
           ]
          },
          {
           "line": {
            "color": "red",
            "width": 5
           },
           "marker": {
            "color": "blue",
            "size": 2
           },
           "text": [
            "RWrist"
           ],
           "type": "scatter3d",
           "x": [
            3.16652521683674,
            1.5673337535731287
           ],
           "y": [
            -4.026489638219009,
            -3.2931961244867294
           ],
           "z": [
            21.97559580515179,
            21.528341789917768
           ]
          },
          {
           "line": {
            "color": "#1f77b4",
            "width": 1
           },
           "marker": {
            "color": "#1f77b4",
            "size": 1
           },
           "type": "scatter3d",
           "x": [
            -7.68200201222643,
            -11.202351483965106,
            -10.955869104893946,
            -7.261455157517169,
            -6.696189981227148,
            -6.597702295821579,
            -6.51772886461975,
            -3.8476915953707365,
            -0.7970128046349325,
            -5.5020630048652315,
            -4.462829338330973,
            2.1426985093789725,
            -6.550621684435969,
            -4.382364421867683,
            -6.238933645893352,
            -6.0372324143801315,
            -5.622770625880111,
            -4.622031270382943,
            -1.8315147477995466,
            -8.80699809751267,
            -5.336259744172091,
            -3.3386011500038735,
            -6.154514249840276,
            -2.3716164831946065,
            -3.7972808897935995,
            -4.576736217307565,
            -5.1162575489259865,
            -4.079441163068022,
            -2.1208858457289037,
            -5.667957809262714,
            -7.811198372064535,
            -2.302780558625111,
            -6.416882824203098,
            -1.427036396898762,
            -3.9840501846998935,
            -2.278256598067263,
            -5.53744891249996,
            -4.686226410672376,
            0.30382441378906755,
            -3.7296668065514353,
            1.1757518519108903,
            -2.152417914161796,
            -3.692818496237555,
            -3.851243149300469,
            -4.154591360438411,
            -2.774863366576164
           ],
           "y": [
            3.4053156803910536,
            3.729440580134272,
            7.115938837216567,
            6.2383953833599834,
            6.738902405987771,
            1.6798788535843796,
            0.426703045092959,
            -8.57887314276572,
            -5.457469816021779,
            -6.145413681234592,
            -2.651627769211558,
            -7.988855680680584,
            1.322022686032784,
            0.4111020926919453,
            3.3084733072069357,
            4.507646719655471,
            1.2562719135064158,
            2.5679035233151972,
            -4.250612202162369,
            -1.208029219654247,
            7.660506207376087,
            1.1225209147164903,
            -0.12399672775587334,
            6.2154445047511295,
            4.537339874920296,
            2.2609880239650932,
            3.2751112379121494,
            3.359583721700272,
            -7.870824768406664,
            1.2765968301708028,
            7.0431575239128525,
            7.153181259315232,
            5.871462844333443,
            9.124324108019174,
            3.245368448314138,
            2.977563710489315,
            4.949095329845723,
            0.7019325432311811,
            -6.883309472590983,
            -2.17003899226647,
            -1.6369064380268377,
            0.013990722820162338,
            0.3830550195437339,
            1.73969847014791,
            2.7794523056441234,
            -0.30968928788944405
           ],
           "z": [
            1.865911632557168,
            2.0831814398599002,
            2.4502047462026466,
            3.600422432940081,
            3.3586116742422365,
            2.8752883654471493,
            3.1498232277243945,
            4.465394927147864,
            2.7671204675596304,
            3.4168017828747113,
            3.173826242416413,
            3.3530783562129756,
            2.08089440622238,
            3.537429728401681,
            1.885924112360784,
            2.281288795428674,
            3.0206222088432257,
            3.2720535786143525,
            2.7877711354988826,
            1.5074967845823197,
            2.5428062168417425,
            3.6656635052035282,
            3.822880886229819,
            2.35614063913287,
            3.5399158247028906,
            3.365749150172884,
            3.8878939422390904,
            2.7601196551112954,
            2.01878197679254,
            2.7797540995971515,
            2.652222941943201,
            2.765213824504499,
            3.3527467500595236,
            2.3662719801904943,
            3.83941638094638,
            2.972890714393764,
            3.4667104836811014,
            3.660240668473299,
            2.9147782149394352,
            2.9860694971531387,
            3.371906606402354,
            2.5409831012026034,
            2.7822243316660007,
            2.742987431833109,
            2.9218041193177324,
            3.346583359155561
           ]
          },
          {
           "color": "#00FFFF",
           "type": "mesh3d",
           "x": [
            -50,
            50,
            -50,
            50
           ],
           "y": [
            -50,
            50,
            50,
            -50
           ],
           "z": [
            0,
            0,
            0,
            0
           ]
          }
         ],
         "name": "frame47"
        },
        {
         "data": [
          {
           "line": {
            "color": "red",
            "width": 5
           },
           "marker": {
            "color": "blue",
            "size": 2
           },
           "text": [
            "RHip"
           ],
           "type": "scatter3d",
           "x": [
            1.9397425737991076,
            2.84575
           ],
           "y": [
            1.0436211358624214,
            2.50286
           ],
           "z": [
            16.733389939017485,
            18.6631
           ]
          },
          {
           "line": {
            "color": "red",
            "width": 5
           },
           "marker": {
            "color": "blue",
            "size": 2
           },
           "text": [
            "RKnee"
           ],
           "type": "scatter3d",
           "x": [
            1.4847307865164971,
            1.9397425737991076
           ],
           "y": [
            -0.5669398191639345,
            1.0436211358624214
           ],
           "z": [
            9.50308507004761,
            16.733389939017485
           ]
          },
          {
           "line": {
            "color": "red",
            "width": 5
           },
           "marker": {
            "color": "blue",
            "size": 2
           },
           "text": [
            "RAnkle"
           ],
           "type": "scatter3d",
           "x": [
            -3.80073589914658,
            1.4847307865164971
           ],
           "y": [
            1.1092604814918277,
            -0.5669398191639345
           ],
           "z": [
            3.449923282122916,
            9.50308507004761
           ]
          },
          {
           "line": {
            "color": "black",
            "width": 5
           },
           "marker": {
            "color": "blue",
            "size": 2
           },
           "text": [
            "LHip"
           ],
           "type": "scatter3d",
           "x": [
            4.1688166057793055,
            2.84575
           ],
           "y": [
            3.3214983105379314,
            2.50286
           ],
           "z": [
            16.633377325318133,
            18.6631
           ]
          },
          {
           "line": {
            "color": "black",
            "width": 5
           },
           "marker": {
            "color": "blue",
            "size": 2
           },
           "text": [
            "LKnee"
           ],
           "type": "scatter3d",
           "x": [
            7.898139484754709,
            4.1688166057793055
           ],
           "y": [
            2.369960598110434,
            3.3214983105379314
           ],
           "z": [
            10.066527130487291,
            16.633377325318133
           ]
          },
          {
           "line": {
            "color": "black",
            "width": 5
           },
           "marker": {
            "color": "blue",
            "size": 2
           },
           "text": [
            "LAnkle"
           ],
           "type": "scatter3d",
           "x": [
            8.497304031684486,
            7.898139484754709
           ],
           "y": [
            5.7271538326051665,
            2.369960598110434
           ],
           "z": [
            2.6930249339312606,
            10.066527130487291
           ]
          },
          {
           "line": {
            "color": "black",
            "width": 5
           },
           "marker": {
            "color": "blue",
            "size": 2
           },
           "text": [
            "Spine1"
           ],
           "type": "scatter3d",
           "x": [
            3.702571600113683,
            2.84575
           ],
           "y": [
            2.061036900767159,
            2.50286
           ],
           "z": [
            22.55416568208234,
            18.6631
           ]
          },
          {
           "line": {
            "color": "black",
            "width": 5
           },
           "marker": {
            "color": "blue",
            "size": 2
           },
           "text": [
            "Neck"
           ],
           "type": "scatter3d",
           "x": [
            4.758901543065329,
            3.702571600113683
           ],
           "y": [
            1.932052482198688,
            2.061036900767159
           ],
           "z": [
            26.195844088777744,
            22.55416568208234
           ]
          },
          {
           "line": {
            "color": "black",
            "width": 5
           },
           "marker": {
            "color": "blue",
            "size": 2
           },
           "text": [
            "Head"
           ],
           "type": "scatter3d",
           "x": [
            5.107097234663502,
            4.758901543065329
           ],
           "y": [
            2.0209219056436396,
            1.932052482198688
           ],
           "z": [
            27.938895763097825,
            26.195844088777744
           ]
          },
          {
           "line": {
            "color": "black",
            "width": 5
           },
           "marker": {
            "color": "blue",
            "size": 2
           },
           "text": [
            "Site"
           ],
           "type": "scatter3d",
           "x": [
            5.520884886427181,
            5.107097234663502
           ],
           "y": [
            1.92123424668425,
            2.0209219056436396
           ],
           "z": [
            29.66996896589863,
            27.938895763097825
           ]
          },
          {
           "line": {
            "color": "black",
            "width": 5
           },
           "marker": {
            "color": "blue",
            "size": 2
           },
           "text": [
            "LShoulder"
           ],
           "type": "scatter3d",
           "x": [
            6.259679521951334,
            4.758901543065329
           ],
           "y": [
            4.920712976370956,
            1.932052482198688
           ],
           "z": [
            25.44016769914242,
            26.195844088777744
           ]
          },
          {
           "line": {
            "color": "black",
            "width": 5
           },
           "marker": {
            "color": "blue",
            "size": 2
           },
           "text": [
            "LElbow"
           ],
           "type": "scatter3d",
           "x": [
            7.961051712864883,
            6.259679521951334
           ],
           "y": [
            4.642530899671,
            4.920712976370956
           ],
           "z": [
            22.90860478250995,
            25.44016769914242
           ]
          },
          {
           "line": {
            "color": "black",
            "width": 5
           },
           "marker": {
            "color": "blue",
            "size": 2
           },
           "text": [
            "LWrist"
           ],
           "type": "scatter3d",
           "x": [
            8.834889285785595,
            7.961051712864883
           ],
           "y": [
            3.680956138335592,
            4.642530899671
           ],
           "z": [
            24.21537823594968,
            22.90860478250995
           ]
          },
          {
           "line": {
            "color": "red",
            "width": 5
           },
           "marker": {
            "color": "blue",
            "size": 2
           },
           "text": [
            "RShoulder"
           ],
           "type": "scatter3d",
           "x": [
            2.956555012021041,
            4.758901543065329
           ],
           "y": [
            -0.591123272023768,
            1.932052482198688
           ],
           "z": [
            26.14966401642376,
            26.195844088777744
           ]
          },
          {
           "line": {
            "color": "red",
            "width": 5
           },
           "marker": {
            "color": "blue",
            "size": 2
           },
           "text": [
            "RElbow"
           ],
           "type": "scatter3d",
           "x": [
            5.634088903960367,
            2.956555012021041
           ],
           "y": [
            -2.583056102578758,
            -0.591123272023768
           ],
           "z": [
            22.959996752295865,
            26.14966401642376
           ]
          },
          {
           "line": {
            "color": "red",
            "width": 5
           },
           "marker": {
            "color": "blue",
            "size": 2
           },
           "text": [
            "RWrist"
           ],
           "type": "scatter3d",
           "x": [
            6.888412002948964,
            5.634088903960367
           ],
           "y": [
            -2.644470337525152,
            -2.583056102578758
           ],
           "z": [
            24.270748720705445,
            22.959996752295865
           ]
          },
          {
           "line": {
            "color": "#1f77b4",
            "width": 1
           },
           "marker": {
            "color": "#1f77b4",
            "size": 1
           },
           "type": "scatter3d",
           "x": [
            -7.68200201222643,
            -11.202351483965106,
            -10.955869104893946,
            -7.261455157517169,
            -6.696189981227148,
            -6.597702295821579,
            -6.51772886461975,
            -3.8476915953707365,
            -0.7970128046349325,
            -5.5020630048652315,
            -4.462829338330973,
            2.1426985093789725,
            -6.550621684435969,
            -4.382364421867683,
            -6.238933645893352,
            -6.0372324143801315,
            -5.622770625880111,
            -4.622031270382943,
            -1.8315147477995466,
            -8.80699809751267,
            -5.336259744172091,
            -3.3386011500038735,
            -6.154514249840276,
            -2.3716164831946065,
            -3.7972808897935995,
            -4.576736217307565,
            -5.1162575489259865,
            -4.079441163068022,
            -2.1208858457289037,
            -5.667957809262714,
            -7.811198372064535,
            -2.302780558625111,
            -6.416882824203098,
            -1.427036396898762,
            -3.9840501846998935,
            -2.278256598067263,
            -5.53744891249996,
            -4.686226410672376,
            0.30382441378906755,
            -3.7296668065514353,
            1.1757518519108903,
            -2.152417914161796,
            -3.692818496237555,
            -3.851243149300469,
            -4.154591360438411,
            -2.774863366576164,
            -3.9003741680915605
           ],
           "y": [
            3.4053156803910536,
            3.729440580134272,
            7.115938837216567,
            6.2383953833599834,
            6.738902405987771,
            1.6798788535843796,
            0.426703045092959,
            -8.57887314276572,
            -5.457469816021779,
            -6.145413681234592,
            -2.651627769211558,
            -7.988855680680584,
            1.322022686032784,
            0.4111020926919453,
            3.3084733072069357,
            4.507646719655471,
            1.2562719135064158,
            2.5679035233151972,
            -4.250612202162369,
            -1.208029219654247,
            7.660506207376087,
            1.1225209147164903,
            -0.12399672775587334,
            6.2154445047511295,
            4.537339874920296,
            2.2609880239650932,
            3.2751112379121494,
            3.359583721700272,
            -7.870824768406664,
            1.2765968301708028,
            7.0431575239128525,
            7.153181259315232,
            5.871462844333443,
            9.124324108019174,
            3.245368448314138,
            2.977563710489315,
            4.949095329845723,
            0.7019325432311811,
            -6.883309472590983,
            -2.17003899226647,
            -1.6369064380268377,
            0.013990722820162338,
            0.3830550195437339,
            1.73969847014791,
            2.7794523056441234,
            -0.30968928788944405,
            3.7836654219669974
           ],
           "z": [
            1.865911632557168,
            2.0831814398599002,
            2.4502047462026466,
            3.600422432940081,
            3.3586116742422365,
            2.8752883654471493,
            3.1498232277243945,
            4.465394927147864,
            2.7671204675596304,
            3.4168017828747113,
            3.173826242416413,
            3.3530783562129756,
            2.08089440622238,
            3.537429728401681,
            1.885924112360784,
            2.281288795428674,
            3.0206222088432257,
            3.2720535786143525,
            2.7877711354988826,
            1.5074967845823197,
            2.5428062168417425,
            3.6656635052035282,
            3.822880886229819,
            2.35614063913287,
            3.5399158247028906,
            3.365749150172884,
            3.8878939422390904,
            2.7601196551112954,
            2.01878197679254,
            2.7797540995971515,
            2.652222941943201,
            2.765213824504499,
            3.3527467500595236,
            2.3662719801904943,
            3.83941638094638,
            2.972890714393764,
            3.4667104836811014,
            3.660240668473299,
            2.9147782149394352,
            2.9860694971531387,
            3.371906606402354,
            2.5409831012026034,
            2.7822243316660007,
            2.742987431833109,
            2.9218041193177324,
            3.346583359155561,
            2.492565531635324
           ]
          },
          {
           "color": "#00FFFF",
           "type": "mesh3d",
           "x": [
            -50,
            50,
            -50,
            50
           ],
           "y": [
            -50,
            50,
            50,
            -50
           ],
           "z": [
            0,
            0,
            0,
            0
           ]
          }
         ],
         "name": "frame48"
        },
        {
         "data": [
          {
           "line": {
            "color": "red",
            "width": 5
           },
           "marker": {
            "color": "blue",
            "size": 2
           },
           "text": [
            "RHip"
           ],
           "type": "scatter3d",
           "x": [
            0.8889656978739645,
            1.79555
           ],
           "y": [
            1.4298505523180136,
            2.77577
           ],
           "z": [
            16.027272098127114,
            18.0374
           ]
          },
          {
           "line": {
            "color": "red",
            "width": 5
           },
           "marker": {
            "color": "blue",
            "size": 2
           },
           "text": [
            "RKnee"
           ],
           "type": "scatter3d",
           "x": [
            -0.2438122088622231,
            0.8889656978739645
           ],
           "y": [
            0.4347914253850357,
            1.4298505523180136
           ],
           "z": [
            8.76057254725887,
            16.027272098127114
           ]
          },
          {
           "line": {
            "color": "red",
            "width": 5
           },
           "marker": {
            "color": "blue",
            "size": 2
           },
           "text": [
            "RAnkle"
           ],
           "type": "scatter3d",
           "x": [
            -5.528748964511358,
            -0.2438122088622231
           ],
           "y": [
            2.7677640818438576,
            0.4347914253850357
           ],
           "z": [
            2.9284841359803995,
            8.76057254725887
           ]
          },
          {
           "line": {
            "color": "black",
            "width": 5
           },
           "marker": {
            "color": "blue",
            "size": 2
           },
           "text": [
            "LHip"
           ],
           "type": "scatter3d",
           "x": [
            3.404601924966202,
            1.79555
           ],
           "y": [
            3.3856382354436927,
            2.77577
           ],
           "z": [
            16.14545372669152,
            18.0374
           ]
          },
          {
           "line": {
            "color": "black",
            "width": 5
           },
           "marker": {
            "color": "blue",
            "size": 2
           },
           "text": [
            "LKnee"
           ],
           "type": "scatter3d",
           "x": [
            5.632244830841364,
            3.404601924966202
           ],
           "y": [
            2.112049454877893,
            3.3856382354436927
           ],
           "z": [
            8.979396698095393,
            16.14545372669152
           ]
          },
          {
           "line": {
            "color": "black",
            "width": 5
           },
           "marker": {
            "color": "blue",
            "size": 2
           },
           "text": [
            "LAnkle"
           ],
           "type": "scatter3d",
           "x": [
            4.005980848588689,
            5.632244830841364
           ],
           "y": [
            5.302077897846882,
            2.112049454877893
           ],
           "z": [
            1.687122484674184,
            8.979396698095393
           ]
          },
          {
           "line": {
            "color": "black",
            "width": 5
           },
           "marker": {
            "color": "blue",
            "size": 2
           },
           "text": [
            "Spine1"
           ],
           "type": "scatter3d",
           "x": [
            2.0941041722920235,
            1.79555
           ],
           "y": [
            2.1604367592490408,
            2.77577
           ],
           "z": [
            21.989459144117472,
            18.0374
           ]
          },
          {
           "line": {
            "color": "black",
            "width": 5
           },
           "marker": {
            "color": "blue",
            "size": 2
           },
           "text": [
            "Neck"
           ],
           "type": "scatter3d",
           "x": [
            2.438342295937885,
            2.0941041722920235
           ],
           "y": [
            1.623064641655335,
            2.1604367592490408
           ],
           "z": [
            25.728561213329233,
            21.989459144117472
           ]
          },
          {
           "line": {
            "color": "black",
            "width": 5
           },
           "marker": {
            "color": "blue",
            "size": 2
           },
           "text": [
            "Head"
           ],
           "type": "scatter3d",
           "x": [
            2.3430199452979856,
            2.438342295937885
           ],
           "y": [
            1.6800431378048462,
            1.623064641655335
           ],
           "z": [
            27.50480282242019,
            25.728561213329233
           ]
          },
          {
           "line": {
            "color": "black",
            "width": 5
           },
           "marker": {
            "color": "blue",
            "size": 2
           },
           "text": [
            "Site"
           ],
           "type": "scatter3d",
           "x": [
            2.1763530613382134,
            2.3430199452979856
           ],
           "y": [
            1.5712848166161024,
            1.6800431378048462
           ],
           "z": [
            29.27628978565737,
            27.50480282242019
           ]
          },
          {
           "line": {
            "color": "black",
            "width": 5
           },
           "marker": {
            "color": "blue",
            "size": 2
           },
           "text": [
            "LShoulder"
           ],
           "type": "scatter3d",
           "x": [
            4.895517958832865,
            2.438342295937885
           ],
           "y": [
            3.9512133834322922,
            1.623064641655335
           ],
           "z": [
            25.452226202791532,
            25.728561213329233
           ]
          },
          {
           "line": {
            "color": "black",
            "width": 5
           },
           "marker": {
            "color": "blue",
            "size": 2
           },
           "text": [
            "LElbow"
           ],
           "type": "scatter3d",
           "x": [
            7.2567591665626825,
            4.895517958832865
           ],
           "y": [
            3.098112934327222,
            3.9512133834322922
           ],
           "z": [
            21.24534940807953,
            25.452226202791532
           ]
          },
          {
           "line": {
            "color": "black",
            "width": 5
           },
           "marker": {
            "color": "blue",
            "size": 2
           },
           "text": [
            "LWrist"
           ],
           "type": "scatter3d",
           "x": [
            8.465070815030328,
            7.2567591665626825
           ],
           "y": [
            1.780189653541925,
            3.098112934327222
           ],
           "z": [
            21.691372019884717,
            21.24534940807953
           ]
          },
          {
           "line": {
            "color": "red",
            "width": 5
           },
           "marker": {
            "color": "blue",
            "size": 2
           },
           "text": [
            "RShoulder"
           ],
           "type": "scatter3d",
           "x": [
            -0.07531434348101618,
            2.438342295937885
           ],
           "y": [
            -0.17497456119209542,
            1.623064641655335
           ],
           "z": [
            25.207778561433944,
            25.728561213329233
           ]
          },
          {
           "line": {
            "color": "red",
            "width": 5
           },
           "marker": {
            "color": "blue",
            "size": 2
           },
           "text": [
            "RElbow"
           ],
           "type": "scatter3d",
           "x": [
            -0.6180275005548708,
            -0.07531434348101618
           ],
           "y": [
            -1.659046204697709,
            -0.17497456119209542
           ],
           "z": [
            17.578010247673774,
            25.207778561433944
           ]
          },
          {
           "line": {
            "color": "red",
            "width": 5
           },
           "marker": {
            "color": "blue",
            "size": 2
           },
           "text": [
            "RWrist"
           ],
           "type": "scatter3d",
           "x": [
            0.2785896079543869,
            -0.6180275005548708
           ],
           "y": [
            -2.854630155593002,
            -1.659046204697709
           ],
           "z": [
            16.54756100356221,
            17.578010247673774
           ]
          },
          {
           "line": {
            "color": "#1f77b4",
            "width": 1
           },
           "marker": {
            "color": "#1f77b4",
            "size": 1
           },
           "type": "scatter3d",
           "x": [
            -7.68200201222643,
            -11.202351483965106,
            -10.955869104893946,
            -7.261455157517169,
            -6.696189981227148,
            -6.597702295821579,
            -6.51772886461975,
            -3.8476915953707365,
            -0.7970128046349325,
            -5.5020630048652315,
            -4.462829338330973,
            2.1426985093789725,
            -6.550621684435969,
            -4.382364421867683,
            -6.238933645893352,
            -6.0372324143801315,
            -5.622770625880111,
            -4.622031270382943,
            -1.8315147477995466,
            -8.80699809751267,
            -5.336259744172091,
            -3.3386011500038735,
            -6.154514249840276,
            -2.3716164831946065,
            -3.7972808897935995,
            -4.576736217307565,
            -5.1162575489259865,
            -4.079441163068022,
            -2.1208858457289037,
            -5.667957809262714,
            -7.811198372064535,
            -2.302780558625111,
            -6.416882824203098,
            -1.427036396898762,
            -3.9840501846998935,
            -2.278256598067263,
            -5.53744891249996,
            -4.686226410672376,
            0.30382441378906755,
            -3.7296668065514353,
            1.1757518519108903,
            -2.152417914161796,
            -3.692818496237555,
            -3.851243149300469,
            -4.154591360438411,
            -2.774863366576164,
            -3.9003741680915605,
            -3.80073589914658
           ],
           "y": [
            3.4053156803910536,
            3.729440580134272,
            7.115938837216567,
            6.2383953833599834,
            6.738902405987771,
            1.6798788535843796,
            0.426703045092959,
            -8.57887314276572,
            -5.457469816021779,
            -6.145413681234592,
            -2.651627769211558,
            -7.988855680680584,
            1.322022686032784,
            0.4111020926919453,
            3.3084733072069357,
            4.507646719655471,
            1.2562719135064158,
            2.5679035233151972,
            -4.250612202162369,
            -1.208029219654247,
            7.660506207376087,
            1.1225209147164903,
            -0.12399672775587334,
            6.2154445047511295,
            4.537339874920296,
            2.2609880239650932,
            3.2751112379121494,
            3.359583721700272,
            -7.870824768406664,
            1.2765968301708028,
            7.0431575239128525,
            7.153181259315232,
            5.871462844333443,
            9.124324108019174,
            3.245368448314138,
            2.977563710489315,
            4.949095329845723,
            0.7019325432311811,
            -6.883309472590983,
            -2.17003899226647,
            -1.6369064380268377,
            0.013990722820162338,
            0.3830550195437339,
            1.73969847014791,
            2.7794523056441234,
            -0.30968928788944405,
            3.7836654219669974,
            1.1092604814918277
           ],
           "z": [
            1.865911632557168,
            2.0831814398599002,
            2.4502047462026466,
            3.600422432940081,
            3.3586116742422365,
            2.8752883654471493,
            3.1498232277243945,
            4.465394927147864,
            2.7671204675596304,
            3.4168017828747113,
            3.173826242416413,
            3.3530783562129756,
            2.08089440622238,
            3.537429728401681,
            1.885924112360784,
            2.281288795428674,
            3.0206222088432257,
            3.2720535786143525,
            2.7877711354988826,
            1.5074967845823197,
            2.5428062168417425,
            3.6656635052035282,
            3.822880886229819,
            2.35614063913287,
            3.5399158247028906,
            3.365749150172884,
            3.8878939422390904,
            2.7601196551112954,
            2.01878197679254,
            2.7797540995971515,
            2.652222941943201,
            2.765213824504499,
            3.3527467500595236,
            2.3662719801904943,
            3.83941638094638,
            2.972890714393764,
            3.4667104836811014,
            3.660240668473299,
            2.9147782149394352,
            2.9860694971531387,
            3.371906606402354,
            2.5409831012026034,
            2.7822243316660007,
            2.742987431833109,
            2.9218041193177324,
            3.346583359155561,
            2.492565531635324,
            3.449923282122916
           ]
          },
          {
           "color": "#00FFFF",
           "type": "mesh3d",
           "x": [
            -50,
            50,
            -50,
            50
           ],
           "y": [
            -50,
            50,
            50,
            -50
           ],
           "z": [
            0,
            0,
            0,
            0
           ]
          }
         ],
         "name": "frame49"
        }
       ],
       "layout": {
        "autosize": false,
        "height": 700,
        "scene": {
         "aspectratio": {
          "x": 1.0542119713682545,
          "y": 0.8931765205841191,
          "z": 1.0526115080476264
         },
         "camera": {
          "eye": {
           "x": -1.7428,
           "y": 1.0707,
           "z": 0.71
          },
          "up": {
           "x": 0,
           "y": 1,
           "z": 0
          }
         },
         "xaxis": {
          "range": [
           -11.459874893771065,
           19.646576196387734
          ]
         },
         "yaxis": {
          "range": [
           -13.368016642301232,
           12.986789133967875
          ]
         },
         "zaxis": {
          "range": [
           -1,
           30.059226494577615
          ]
         }
        },
        "sliders": [
         {
          "currentvalue": {
           "font": {
            "size": 12
           },
           "prefix": "slice: ",
           "visible": true,
           "xanchor": "center"
          },
          "len": 1,
          "steps": [
           {
            "args": [
             [
              "frame1"
             ],
             {
              "frame": {
               "duration": 70,
               "redraw": true
              },
              "mode": "immediate",
              "transition": {
               "duration": 0
              }
             }
            ],
            "label": "1",
            "method": "animate"
           },
           {
            "args": [
             [
              "frame2"
             ],
             {
              "frame": {
               "duration": 70,
               "redraw": true
              },
              "mode": "immediate",
              "transition": {
               "duration": 0
              }
             }
            ],
            "label": "2",
            "method": "animate"
           },
           {
            "args": [
             [
              "frame3"
             ],
             {
              "frame": {
               "duration": 70,
               "redraw": true
              },
              "mode": "immediate",
              "transition": {
               "duration": 0
              }
             }
            ],
            "label": "3",
            "method": "animate"
           },
           {
            "args": [
             [
              "frame4"
             ],
             {
              "frame": {
               "duration": 70,
               "redraw": true
              },
              "mode": "immediate",
              "transition": {
               "duration": 0
              }
             }
            ],
            "label": "4",
            "method": "animate"
           },
           {
            "args": [
             [
              "frame5"
             ],
             {
              "frame": {
               "duration": 70,
               "redraw": true
              },
              "mode": "immediate",
              "transition": {
               "duration": 0
              }
             }
            ],
            "label": "5",
            "method": "animate"
           },
           {
            "args": [
             [
              "frame6"
             ],
             {
              "frame": {
               "duration": 70,
               "redraw": true
              },
              "mode": "immediate",
              "transition": {
               "duration": 0
              }
             }
            ],
            "label": "6",
            "method": "animate"
           },
           {
            "args": [
             [
              "frame7"
             ],
             {
              "frame": {
               "duration": 70,
               "redraw": true
              },
              "mode": "immediate",
              "transition": {
               "duration": 0
              }
             }
            ],
            "label": "7",
            "method": "animate"
           },
           {
            "args": [
             [
              "frame8"
             ],
             {
              "frame": {
               "duration": 70,
               "redraw": true
              },
              "mode": "immediate",
              "transition": {
               "duration": 0
              }
             }
            ],
            "label": "8",
            "method": "animate"
           },
           {
            "args": [
             [
              "frame9"
             ],
             {
              "frame": {
               "duration": 70,
               "redraw": true
              },
              "mode": "immediate",
              "transition": {
               "duration": 0
              }
             }
            ],
            "label": "9",
            "method": "animate"
           },
           {
            "args": [
             [
              "frame10"
             ],
             {
              "frame": {
               "duration": 70,
               "redraw": true
              },
              "mode": "immediate",
              "transition": {
               "duration": 0
              }
             }
            ],
            "label": "10",
            "method": "animate"
           },
           {
            "args": [
             [
              "frame11"
             ],
             {
              "frame": {
               "duration": 70,
               "redraw": true
              },
              "mode": "immediate",
              "transition": {
               "duration": 0
              }
             }
            ],
            "label": "11",
            "method": "animate"
           },
           {
            "args": [
             [
              "frame12"
             ],
             {
              "frame": {
               "duration": 70,
               "redraw": true
              },
              "mode": "immediate",
              "transition": {
               "duration": 0
              }
             }
            ],
            "label": "12",
            "method": "animate"
           },
           {
            "args": [
             [
              "frame13"
             ],
             {
              "frame": {
               "duration": 70,
               "redraw": true
              },
              "mode": "immediate",
              "transition": {
               "duration": 0
              }
             }
            ],
            "label": "13",
            "method": "animate"
           },
           {
            "args": [
             [
              "frame14"
             ],
             {
              "frame": {
               "duration": 70,
               "redraw": true
              },
              "mode": "immediate",
              "transition": {
               "duration": 0
              }
             }
            ],
            "label": "14",
            "method": "animate"
           },
           {
            "args": [
             [
              "frame15"
             ],
             {
              "frame": {
               "duration": 70,
               "redraw": true
              },
              "mode": "immediate",
              "transition": {
               "duration": 0
              }
             }
            ],
            "label": "15",
            "method": "animate"
           },
           {
            "args": [
             [
              "frame16"
             ],
             {
              "frame": {
               "duration": 70,
               "redraw": true
              },
              "mode": "immediate",
              "transition": {
               "duration": 0
              }
             }
            ],
            "label": "16",
            "method": "animate"
           },
           {
            "args": [
             [
              "frame17"
             ],
             {
              "frame": {
               "duration": 70,
               "redraw": true
              },
              "mode": "immediate",
              "transition": {
               "duration": 0
              }
             }
            ],
            "label": "17",
            "method": "animate"
           },
           {
            "args": [
             [
              "frame18"
             ],
             {
              "frame": {
               "duration": 70,
               "redraw": true
              },
              "mode": "immediate",
              "transition": {
               "duration": 0
              }
             }
            ],
            "label": "18",
            "method": "animate"
           },
           {
            "args": [
             [
              "frame19"
             ],
             {
              "frame": {
               "duration": 70,
               "redraw": true
              },
              "mode": "immediate",
              "transition": {
               "duration": 0
              }
             }
            ],
            "label": "19",
            "method": "animate"
           },
           {
            "args": [
             [
              "frame20"
             ],
             {
              "frame": {
               "duration": 70,
               "redraw": true
              },
              "mode": "immediate",
              "transition": {
               "duration": 0
              }
             }
            ],
            "label": "20",
            "method": "animate"
           },
           {
            "args": [
             [
              "frame21"
             ],
             {
              "frame": {
               "duration": 70,
               "redraw": true
              },
              "mode": "immediate",
              "transition": {
               "duration": 0
              }
             }
            ],
            "label": "21",
            "method": "animate"
           },
           {
            "args": [
             [
              "frame22"
             ],
             {
              "frame": {
               "duration": 70,
               "redraw": true
              },
              "mode": "immediate",
              "transition": {
               "duration": 0
              }
             }
            ],
            "label": "22",
            "method": "animate"
           },
           {
            "args": [
             [
              "frame23"
             ],
             {
              "frame": {
               "duration": 70,
               "redraw": true
              },
              "mode": "immediate",
              "transition": {
               "duration": 0
              }
             }
            ],
            "label": "23",
            "method": "animate"
           },
           {
            "args": [
             [
              "frame24"
             ],
             {
              "frame": {
               "duration": 70,
               "redraw": true
              },
              "mode": "immediate",
              "transition": {
               "duration": 0
              }
             }
            ],
            "label": "24",
            "method": "animate"
           },
           {
            "args": [
             [
              "frame25"
             ],
             {
              "frame": {
               "duration": 70,
               "redraw": true
              },
              "mode": "immediate",
              "transition": {
               "duration": 0
              }
             }
            ],
            "label": "25",
            "method": "animate"
           },
           {
            "args": [
             [
              "frame26"
             ],
             {
              "frame": {
               "duration": 70,
               "redraw": true
              },
              "mode": "immediate",
              "transition": {
               "duration": 0
              }
             }
            ],
            "label": "26",
            "method": "animate"
           },
           {
            "args": [
             [
              "frame27"
             ],
             {
              "frame": {
               "duration": 70,
               "redraw": true
              },
              "mode": "immediate",
              "transition": {
               "duration": 0
              }
             }
            ],
            "label": "27",
            "method": "animate"
           },
           {
            "args": [
             [
              "frame28"
             ],
             {
              "frame": {
               "duration": 70,
               "redraw": true
              },
              "mode": "immediate",
              "transition": {
               "duration": 0
              }
             }
            ],
            "label": "28",
            "method": "animate"
           },
           {
            "args": [
             [
              "frame29"
             ],
             {
              "frame": {
               "duration": 70,
               "redraw": true
              },
              "mode": "immediate",
              "transition": {
               "duration": 0
              }
             }
            ],
            "label": "29",
            "method": "animate"
           },
           {
            "args": [
             [
              "frame30"
             ],
             {
              "frame": {
               "duration": 70,
               "redraw": true
              },
              "mode": "immediate",
              "transition": {
               "duration": 0
              }
             }
            ],
            "label": "30",
            "method": "animate"
           },
           {
            "args": [
             [
              "frame31"
             ],
             {
              "frame": {
               "duration": 70,
               "redraw": true
              },
              "mode": "immediate",
              "transition": {
               "duration": 0
              }
             }
            ],
            "label": "31",
            "method": "animate"
           },
           {
            "args": [
             [
              "frame32"
             ],
             {
              "frame": {
               "duration": 70,
               "redraw": true
              },
              "mode": "immediate",
              "transition": {
               "duration": 0
              }
             }
            ],
            "label": "32",
            "method": "animate"
           },
           {
            "args": [
             [
              "frame33"
             ],
             {
              "frame": {
               "duration": 70,
               "redraw": true
              },
              "mode": "immediate",
              "transition": {
               "duration": 0
              }
             }
            ],
            "label": "33",
            "method": "animate"
           },
           {
            "args": [
             [
              "frame34"
             ],
             {
              "frame": {
               "duration": 70,
               "redraw": true
              },
              "mode": "immediate",
              "transition": {
               "duration": 0
              }
             }
            ],
            "label": "34",
            "method": "animate"
           },
           {
            "args": [
             [
              "frame35"
             ],
             {
              "frame": {
               "duration": 70,
               "redraw": true
              },
              "mode": "immediate",
              "transition": {
               "duration": 0
              }
             }
            ],
            "label": "35",
            "method": "animate"
           },
           {
            "args": [
             [
              "frame36"
             ],
             {
              "frame": {
               "duration": 70,
               "redraw": true
              },
              "mode": "immediate",
              "transition": {
               "duration": 0
              }
             }
            ],
            "label": "36",
            "method": "animate"
           },
           {
            "args": [
             [
              "frame37"
             ],
             {
              "frame": {
               "duration": 70,
               "redraw": true
              },
              "mode": "immediate",
              "transition": {
               "duration": 0
              }
             }
            ],
            "label": "37",
            "method": "animate"
           },
           {
            "args": [
             [
              "frame38"
             ],
             {
              "frame": {
               "duration": 70,
               "redraw": true
              },
              "mode": "immediate",
              "transition": {
               "duration": 0
              }
             }
            ],
            "label": "38",
            "method": "animate"
           },
           {
            "args": [
             [
              "frame39"
             ],
             {
              "frame": {
               "duration": 70,
               "redraw": true
              },
              "mode": "immediate",
              "transition": {
               "duration": 0
              }
             }
            ],
            "label": "39",
            "method": "animate"
           },
           {
            "args": [
             [
              "frame40"
             ],
             {
              "frame": {
               "duration": 70,
               "redraw": true
              },
              "mode": "immediate",
              "transition": {
               "duration": 0
              }
             }
            ],
            "label": "40",
            "method": "animate"
           },
           {
            "args": [
             [
              "frame41"
             ],
             {
              "frame": {
               "duration": 70,
               "redraw": true
              },
              "mode": "immediate",
              "transition": {
               "duration": 0
              }
             }
            ],
            "label": "41",
            "method": "animate"
           },
           {
            "args": [
             [
              "frame42"
             ],
             {
              "frame": {
               "duration": 70,
               "redraw": true
              },
              "mode": "immediate",
              "transition": {
               "duration": 0
              }
             }
            ],
            "label": "42",
            "method": "animate"
           },
           {
            "args": [
             [
              "frame43"
             ],
             {
              "frame": {
               "duration": 70,
               "redraw": true
              },
              "mode": "immediate",
              "transition": {
               "duration": 0
              }
             }
            ],
            "label": "43",
            "method": "animate"
           },
           {
            "args": [
             [
              "frame44"
             ],
             {
              "frame": {
               "duration": 70,
               "redraw": true
              },
              "mode": "immediate",
              "transition": {
               "duration": 0
              }
             }
            ],
            "label": "44",
            "method": "animate"
           },
           {
            "args": [
             [
              "frame45"
             ],
             {
              "frame": {
               "duration": 70,
               "redraw": true
              },
              "mode": "immediate",
              "transition": {
               "duration": 0
              }
             }
            ],
            "label": "45",
            "method": "animate"
           },
           {
            "args": [
             [
              "frame46"
             ],
             {
              "frame": {
               "duration": 70,
               "redraw": true
              },
              "mode": "immediate",
              "transition": {
               "duration": 0
              }
             }
            ],
            "label": "46",
            "method": "animate"
           },
           {
            "args": [
             [
              "frame47"
             ],
             {
              "frame": {
               "duration": 70,
               "redraw": true
              },
              "mode": "immediate",
              "transition": {
               "duration": 0
              }
             }
            ],
            "label": "47",
            "method": "animate"
           },
           {
            "args": [
             [
              "frame48"
             ],
             {
              "frame": {
               "duration": 70,
               "redraw": true
              },
              "mode": "immediate",
              "transition": {
               "duration": 0
              }
             }
            ],
            "label": "48",
            "method": "animate"
           },
           {
            "args": [
             [
              "frame49"
             ],
             {
              "frame": {
               "duration": 70,
               "redraw": true
              },
              "mode": "immediate",
              "transition": {
               "duration": 0
              }
             }
            ],
            "label": "49",
            "method": "animate"
           }
          ],
          "transition": {
           "duration": 0
          },
          "x": 0,
          "y": 0
         }
        ],
        "title": {
         "text": "action animation"
        },
        "updatemenus": [
         {
          "buttons": [
           {
            "args": [
             null
            ],
            "label": "Play",
            "method": "animate"
           }
          ],
          "pad": {
           "r": 10,
           "t": 0
          },
          "showactive": false,
          "type": "buttons",
          "x": 1.3,
          "xanchor": "right",
          "y": 1,
          "yanchor": "top"
         }
        ],
        "width": 800
       }
      },
      "text/html": [
       "<div>\n",
       "        \n",
       "        \n",
       "            <div id=\"9a2493b5-de72-4f60-922d-84fb11218150\" class=\"plotly-graph-div\" style=\"height:700px; width:800px;\"></div>\n",
       "            <script type=\"text/javascript\">\n",
       "                require([\"plotly\"], function(Plotly) {\n",
       "                    window.PLOTLYENV=window.PLOTLYENV || {};\n",
       "                    window.PLOTLYENV.BASE_URL='https://plot.ly';\n",
       "                    \n",
       "                if (document.getElementById(\"9a2493b5-de72-4f60-922d-84fb11218150\")) {\n",
       "                    Plotly.newPlot(\n",
       "                        '9a2493b5-de72-4f60-922d-84fb11218150',\n",
       "                        [{\"line\": {\"color\": \"red\", \"width\": 5}, \"marker\": {\"color\": \"blue\", \"size\": 2}, \"text\": [\"RHip\"], \"type\": \"scatter3d\", \"uid\": \"88d90b05-d285-4e24-8bb2-31dc1b79dc0e\", \"x\": [-4.437206110243867, -3.86645], \"y\": [2.705744946354109, 4.10189], \"z\": [15.42071474921815, 17.5181]}, {\"line\": {\"color\": \"red\", \"width\": 5}, \"marker\": {\"color\": \"blue\", \"size\": 2}, \"text\": [\"RKnee\"], \"type\": \"scatter3d\", \"uid\": \"7044fa89-832a-4765-9ecb-ba1a5f27dfde\", \"x\": [-2.9139766548170147, -4.437206110243867], \"y\": [1.4728643194295088, 2.705744946354109], \"z\": [8.262640413159254, 15.42071474921815]}, {\"line\": {\"color\": \"red\", \"width\": 5}, \"marker\": {\"color\": \"blue\", \"size\": 2}, \"text\": [\"RAnkle\"], \"type\": \"scatter3d\", \"uid\": \"0d07e9e8-9608-43fa-9af9-63cc54ec1b8a\", \"x\": [-7.68200201222643, -2.9139766548170147], \"y\": [3.4053156803910536, 1.4728643194295088], \"z\": [1.865911632557168, 8.262640413159254]}, {\"line\": {\"color\": \"black\", \"width\": 5}, \"marker\": {\"color\": \"blue\", \"size\": 2}, \"text\": [\"LHip\"], \"type\": \"scatter3d\", \"uid\": \"a20cd97a-0339-4c18-8b73-6faffeac7c04\", \"x\": [-2.3268302543258557, -3.86645], \"y\": [5.076811563003487, 4.10189], \"z\": [15.723790370184785, 17.5181]}, {\"line\": {\"color\": \"black\", \"width\": 5}, \"marker\": {\"color\": \"blue\", \"size\": 2}, \"text\": [\"LKnee\"], \"type\": \"scatter3d\", \"uid\": \"9ca6405f-04d1-4d4e-aa89-dd27627eb9f3\", \"x\": [0.27102330957788023, -2.3268302543258557], \"y\": [4.041927482301514, 5.076811563003487], \"z\": [8.64445661373614, 15.723790370184785]}, {\"line\": {\"color\": \"black\", \"width\": 5}, \"marker\": {\"color\": \"blue\", \"size\": 2}, \"text\": [\"LAnkle\"], \"type\": \"scatter3d\", \"uid\": \"04cabf92-0be2-444b-bf33-8fcf90c66ec0\", \"x\": [-1.689285037936163, 0.27102330957788023], \"y\": [7.559732931777601, 4.041927482301514], \"z\": [1.588925789414379, 8.64445661373614]}, {\"line\": {\"color\": \"black\", \"width\": 5}, \"marker\": {\"color\": \"blue\", \"size\": 2}, \"text\": [\"Spine1\"], \"type\": \"scatter3d\", \"uid\": \"3a816d87-80d5-4719-87f6-d9546db30e82\", \"x\": [-3.525928257606838, -3.86645], \"y\": [3.601364499972928, 4.10189], \"z\": [21.484032688974096, 17.5181]}, {\"line\": {\"color\": \"black\", \"width\": 5}, \"marker\": {\"color\": \"blue\", \"size\": 2}, \"text\": [\"Neck\"], \"type\": \"scatter3d\", \"uid\": \"5f7aac52-6d63-4426-8438-18348ce569f5\", \"x\": [-3.213832325899128, -3.525928257606838], \"y\": [3.262536080383826, 3.601364499972928], \"z\": [25.24546328460673, 21.484032688974096]}, {\"line\": {\"color\": \"black\", \"width\": 5}, \"marker\": {\"color\": \"blue\", \"size\": 2}, \"text\": [\"Head\"], \"type\": \"scatter3d\", \"uid\": \"ac021d9b-befc-4c15-bacd-73422bf7eca0\", \"x\": [-3.0866046732769408, -3.213832325899128], \"y\": [3.249925142993387, 3.262536080383826], \"z\": [27.02057489858693, 25.24546328460673]}, {\"line\": {\"color\": \"black\", \"width\": 5}, \"marker\": {\"color\": \"blue\", \"size\": 2}, \"text\": [\"Site\"], \"type\": \"scatter3d\", \"uid\": \"bd84f4c5-e823-4f19-a79e-18af7ec0e4b7\", \"x\": [-2.890591433605404, -3.0866046732769408], \"y\": [3.0260172846861515, 3.249925142993387], \"z\": [28.778191570224312, 27.02057489858693]}, {\"line\": {\"color\": \"black\", \"width\": 5}, \"marker\": {\"color\": \"blue\", \"size\": 2}, \"text\": [\"LShoulder\"], \"type\": \"scatter3d\", \"uid\": \"3eb3ab88-0da9-41e1-b22c-1dc13a3a5a3a\", \"x\": [-1.0276839917226872, -3.213832325899128], \"y\": [5.885694654693221, 3.262536080383826], \"z\": [24.887878624969584, 25.24546328460673]}, {\"line\": {\"color\": \"black\", \"width\": 5}, \"marker\": {\"color\": \"blue\", \"size\": 2}, \"text\": [\"LElbow\"], \"type\": \"scatter3d\", \"uid\": \"98e98a3b-468a-43a9-b84d-9290b150c030\", \"x\": [1.711206515495843, -1.0276839917226872], \"y\": [4.688861418937911, 5.885694654693221], \"z\": [21.569927034938434, 24.887878624969584]}, {\"line\": {\"color\": \"black\", \"width\": 5}, \"marker\": {\"color\": \"blue\", \"size\": 2}, \"text\": [\"LWrist\"], \"type\": \"scatter3d\", \"uid\": \"1cbbd80d-feaa-4234-a62a-8e138885fae7\", \"x\": [2.8665698074727715, 1.711206515495843], \"y\": [3.6572421763491754, 4.688861418937911], \"z\": [22.568311923632606, 21.569927034938434]}, {\"line\": {\"color\": \"red\", \"width\": 5}, \"marker\": {\"color\": \"blue\", \"size\": 2}, \"text\": [\"RShoulder\"], \"type\": \"scatter3d\", \"uid\": \"c42d8cf2-0914-48b6-b037-7202adc26d3b\", \"x\": [-5.355613290443367, -3.213832325899128], \"y\": [1.0845662808855199, 3.262536080383826], \"z\": [24.775853159338816, 25.24546328460673]}, {\"line\": {\"color\": \"red\", \"width\": 5}, \"marker\": {\"color\": \"blue\", \"size\": 2}, \"text\": [\"RElbow\"], \"type\": \"scatter3d\", \"uid\": \"64224103-34bf-4220-b3be-943c0b894519\", \"x\": [-3.375781762493287, -5.355613290443367], \"y\": [-0.836543547978387, 1.0845662808855199], \"z\": [18.798146618242278, 24.775853159338816]}, {\"line\": {\"color\": \"red\", \"width\": 5}, \"marker\": {\"color\": \"blue\", \"size\": 2}, \"text\": [\"RWrist\"], \"type\": \"scatter3d\", \"uid\": \"a2ecfd27-9363-44bd-883f-ea1275ea4326\", \"x\": [-1.659115207038853, -3.375781762493287], \"y\": [-1.4247972465693044, -0.836543547978387], \"z\": [18.751430549504455, 18.798146618242278]}, {\"line\": {\"color\": \"#1f77b4\", \"width\": 1}, \"marker\": {\"color\": \"#1f77b4\", \"size\": 1}, \"type\": \"scatter3d\", \"uid\": \"90582dbc-a8ad-463b-bad6-f0d3da22b941\", \"x\": [], \"y\": [], \"z\": []}, {\"color\": \"#00FFFF\", \"type\": \"mesh3d\", \"uid\": \"d6a3127a-d8ef-4683-af91-80bda0666d65\", \"x\": [-50, 50, -50, 50], \"y\": [-50, 50, 50, -50], \"z\": [0, 0, 0, 0]}],\n",
       "                        {\"autosize\": false, \"height\": 700, \"scene\": {\"aspectratio\": {\"x\": 1.0542119713682545, \"y\": 0.8931765205841191, \"z\": 1.0526115080476264}, \"camera\": {\"eye\": {\"x\": -1.7428, \"y\": 1.0707, \"z\": 0.71}, \"up\": {\"x\": 0, \"y\": 1, \"z\": 0}}, \"xaxis\": {\"range\": [-11.459874893771065, 19.646576196387734]}, \"yaxis\": {\"range\": [-13.368016642301232, 12.986789133967875]}, \"zaxis\": {\"range\": [-1, 30.059226494577615]}}, \"sliders\": [{\"currentvalue\": {\"font\": {\"size\": 12}, \"prefix\": \"slice: \", \"visible\": true, \"xanchor\": \"center\"}, \"len\": 1.0, \"steps\": [{\"args\": [[\"frame1\"], {\"frame\": {\"duration\": 70, \"redraw\": true}, \"mode\": \"immediate\", \"transition\": {\"duration\": 0}}], \"label\": \"1\", \"method\": \"animate\"}, {\"args\": [[\"frame2\"], {\"frame\": {\"duration\": 70, \"redraw\": true}, \"mode\": \"immediate\", \"transition\": {\"duration\": 0}}], \"label\": \"2\", \"method\": \"animate\"}, {\"args\": [[\"frame3\"], {\"frame\": {\"duration\": 70, \"redraw\": true}, \"mode\": \"immediate\", \"transition\": {\"duration\": 0}}], \"label\": \"3\", \"method\": \"animate\"}, {\"args\": [[\"frame4\"], {\"frame\": {\"duration\": 70, \"redraw\": true}, \"mode\": \"immediate\", \"transition\": {\"duration\": 0}}], \"label\": \"4\", \"method\": \"animate\"}, {\"args\": [[\"frame5\"], {\"frame\": {\"duration\": 70, \"redraw\": true}, \"mode\": \"immediate\", \"transition\": {\"duration\": 0}}], \"label\": \"5\", \"method\": \"animate\"}, {\"args\": [[\"frame6\"], {\"frame\": {\"duration\": 70, \"redraw\": true}, \"mode\": \"immediate\", \"transition\": {\"duration\": 0}}], \"label\": \"6\", \"method\": \"animate\"}, {\"args\": [[\"frame7\"], {\"frame\": {\"duration\": 70, \"redraw\": true}, \"mode\": \"immediate\", \"transition\": {\"duration\": 0}}], \"label\": \"7\", \"method\": \"animate\"}, {\"args\": [[\"frame8\"], {\"frame\": {\"duration\": 70, \"redraw\": true}, \"mode\": \"immediate\", \"transition\": {\"duration\": 0}}], \"label\": \"8\", \"method\": \"animate\"}, {\"args\": [[\"frame9\"], {\"frame\": {\"duration\": 70, \"redraw\": true}, \"mode\": \"immediate\", \"transition\": {\"duration\": 0}}], \"label\": \"9\", \"method\": \"animate\"}, {\"args\": [[\"frame10\"], {\"frame\": {\"duration\": 70, \"redraw\": true}, \"mode\": \"immediate\", \"transition\": {\"duration\": 0}}], \"label\": \"10\", \"method\": \"animate\"}, {\"args\": [[\"frame11\"], {\"frame\": {\"duration\": 70, \"redraw\": true}, \"mode\": \"immediate\", \"transition\": {\"duration\": 0}}], \"label\": \"11\", \"method\": \"animate\"}, {\"args\": [[\"frame12\"], {\"frame\": {\"duration\": 70, \"redraw\": true}, \"mode\": \"immediate\", \"transition\": {\"duration\": 0}}], \"label\": \"12\", \"method\": \"animate\"}, {\"args\": [[\"frame13\"], {\"frame\": {\"duration\": 70, \"redraw\": true}, \"mode\": \"immediate\", \"transition\": {\"duration\": 0}}], \"label\": \"13\", \"method\": \"animate\"}, {\"args\": [[\"frame14\"], {\"frame\": {\"duration\": 70, \"redraw\": true}, \"mode\": \"immediate\", \"transition\": {\"duration\": 0}}], \"label\": \"14\", \"method\": \"animate\"}, {\"args\": [[\"frame15\"], {\"frame\": {\"duration\": 70, \"redraw\": true}, \"mode\": \"immediate\", \"transition\": {\"duration\": 0}}], \"label\": \"15\", \"method\": \"animate\"}, {\"args\": [[\"frame16\"], {\"frame\": {\"duration\": 70, \"redraw\": true}, \"mode\": \"immediate\", \"transition\": {\"duration\": 0}}], \"label\": \"16\", \"method\": \"animate\"}, {\"args\": [[\"frame17\"], {\"frame\": {\"duration\": 70, \"redraw\": true}, \"mode\": \"immediate\", \"transition\": {\"duration\": 0}}], \"label\": \"17\", \"method\": \"animate\"}, {\"args\": [[\"frame18\"], {\"frame\": {\"duration\": 70, \"redraw\": true}, \"mode\": \"immediate\", \"transition\": {\"duration\": 0}}], \"label\": \"18\", \"method\": \"animate\"}, {\"args\": [[\"frame19\"], {\"frame\": {\"duration\": 70, \"redraw\": true}, \"mode\": \"immediate\", \"transition\": {\"duration\": 0}}], \"label\": \"19\", \"method\": \"animate\"}, {\"args\": [[\"frame20\"], {\"frame\": {\"duration\": 70, \"redraw\": true}, \"mode\": \"immediate\", \"transition\": {\"duration\": 0}}], \"label\": \"20\", \"method\": \"animate\"}, {\"args\": [[\"frame21\"], {\"frame\": {\"duration\": 70, \"redraw\": true}, \"mode\": \"immediate\", \"transition\": {\"duration\": 0}}], \"label\": \"21\", \"method\": \"animate\"}, {\"args\": [[\"frame22\"], {\"frame\": {\"duration\": 70, \"redraw\": true}, \"mode\": \"immediate\", \"transition\": {\"duration\": 0}}], \"label\": \"22\", \"method\": \"animate\"}, {\"args\": [[\"frame23\"], {\"frame\": {\"duration\": 70, \"redraw\": true}, \"mode\": \"immediate\", \"transition\": {\"duration\": 0}}], \"label\": \"23\", \"method\": \"animate\"}, {\"args\": [[\"frame24\"], {\"frame\": {\"duration\": 70, \"redraw\": true}, \"mode\": \"immediate\", \"transition\": {\"duration\": 0}}], \"label\": \"24\", \"method\": \"animate\"}, {\"args\": [[\"frame25\"], {\"frame\": {\"duration\": 70, \"redraw\": true}, \"mode\": \"immediate\", \"transition\": {\"duration\": 0}}], \"label\": \"25\", \"method\": \"animate\"}, {\"args\": [[\"frame26\"], {\"frame\": {\"duration\": 70, \"redraw\": true}, \"mode\": \"immediate\", \"transition\": {\"duration\": 0}}], \"label\": \"26\", \"method\": \"animate\"}, {\"args\": [[\"frame27\"], {\"frame\": {\"duration\": 70, \"redraw\": true}, \"mode\": \"immediate\", \"transition\": {\"duration\": 0}}], \"label\": \"27\", \"method\": \"animate\"}, {\"args\": [[\"frame28\"], {\"frame\": {\"duration\": 70, \"redraw\": true}, \"mode\": \"immediate\", \"transition\": {\"duration\": 0}}], \"label\": \"28\", \"method\": \"animate\"}, {\"args\": [[\"frame29\"], {\"frame\": {\"duration\": 70, \"redraw\": true}, \"mode\": \"immediate\", \"transition\": {\"duration\": 0}}], \"label\": \"29\", \"method\": \"animate\"}, {\"args\": [[\"frame30\"], {\"frame\": {\"duration\": 70, \"redraw\": true}, \"mode\": \"immediate\", \"transition\": {\"duration\": 0}}], \"label\": \"30\", \"method\": \"animate\"}, {\"args\": [[\"frame31\"], {\"frame\": {\"duration\": 70, \"redraw\": true}, \"mode\": \"immediate\", \"transition\": {\"duration\": 0}}], \"label\": \"31\", \"method\": \"animate\"}, {\"args\": [[\"frame32\"], {\"frame\": {\"duration\": 70, \"redraw\": true}, \"mode\": \"immediate\", \"transition\": {\"duration\": 0}}], \"label\": \"32\", \"method\": \"animate\"}, {\"args\": [[\"frame33\"], {\"frame\": {\"duration\": 70, \"redraw\": true}, \"mode\": \"immediate\", \"transition\": {\"duration\": 0}}], \"label\": \"33\", \"method\": \"animate\"}, {\"args\": [[\"frame34\"], {\"frame\": {\"duration\": 70, \"redraw\": true}, \"mode\": \"immediate\", \"transition\": {\"duration\": 0}}], \"label\": \"34\", \"method\": \"animate\"}, {\"args\": [[\"frame35\"], {\"frame\": {\"duration\": 70, \"redraw\": true}, \"mode\": \"immediate\", \"transition\": {\"duration\": 0}}], \"label\": \"35\", \"method\": \"animate\"}, {\"args\": [[\"frame36\"], {\"frame\": {\"duration\": 70, \"redraw\": true}, \"mode\": \"immediate\", \"transition\": {\"duration\": 0}}], \"label\": \"36\", \"method\": \"animate\"}, {\"args\": [[\"frame37\"], {\"frame\": {\"duration\": 70, \"redraw\": true}, \"mode\": \"immediate\", \"transition\": {\"duration\": 0}}], \"label\": \"37\", \"method\": \"animate\"}, {\"args\": [[\"frame38\"], {\"frame\": {\"duration\": 70, \"redraw\": true}, \"mode\": \"immediate\", \"transition\": {\"duration\": 0}}], \"label\": \"38\", \"method\": \"animate\"}, {\"args\": [[\"frame39\"], {\"frame\": {\"duration\": 70, \"redraw\": true}, \"mode\": \"immediate\", \"transition\": {\"duration\": 0}}], \"label\": \"39\", \"method\": \"animate\"}, {\"args\": [[\"frame40\"], {\"frame\": {\"duration\": 70, \"redraw\": true}, \"mode\": \"immediate\", \"transition\": {\"duration\": 0}}], \"label\": \"40\", \"method\": \"animate\"}, {\"args\": [[\"frame41\"], {\"frame\": {\"duration\": 70, \"redraw\": true}, \"mode\": \"immediate\", \"transition\": {\"duration\": 0}}], \"label\": \"41\", \"method\": \"animate\"}, {\"args\": [[\"frame42\"], {\"frame\": {\"duration\": 70, \"redraw\": true}, \"mode\": \"immediate\", \"transition\": {\"duration\": 0}}], \"label\": \"42\", \"method\": \"animate\"}, {\"args\": [[\"frame43\"], {\"frame\": {\"duration\": 70, \"redraw\": true}, \"mode\": \"immediate\", \"transition\": {\"duration\": 0}}], \"label\": \"43\", \"method\": \"animate\"}, {\"args\": [[\"frame44\"], {\"frame\": {\"duration\": 70, \"redraw\": true}, \"mode\": \"immediate\", \"transition\": {\"duration\": 0}}], \"label\": \"44\", \"method\": \"animate\"}, {\"args\": [[\"frame45\"], {\"frame\": {\"duration\": 70, \"redraw\": true}, \"mode\": \"immediate\", \"transition\": {\"duration\": 0}}], \"label\": \"45\", \"method\": \"animate\"}, {\"args\": [[\"frame46\"], {\"frame\": {\"duration\": 70, \"redraw\": true}, \"mode\": \"immediate\", \"transition\": {\"duration\": 0}}], \"label\": \"46\", \"method\": \"animate\"}, {\"args\": [[\"frame47\"], {\"frame\": {\"duration\": 70, \"redraw\": true}, \"mode\": \"immediate\", \"transition\": {\"duration\": 0}}], \"label\": \"47\", \"method\": \"animate\"}, {\"args\": [[\"frame48\"], {\"frame\": {\"duration\": 70, \"redraw\": true}, \"mode\": \"immediate\", \"transition\": {\"duration\": 0}}], \"label\": \"48\", \"method\": \"animate\"}, {\"args\": [[\"frame49\"], {\"frame\": {\"duration\": 70, \"redraw\": true}, \"mode\": \"immediate\", \"transition\": {\"duration\": 0}}], \"label\": \"49\", \"method\": \"animate\"}], \"transition\": {\"duration\": 0}, \"x\": 0, \"y\": 0}], \"title\": {\"text\": \"action animation\"}, \"updatemenus\": [{\"buttons\": [{\"args\": [null], \"label\": \"Play\", \"method\": \"animate\"}], \"pad\": {\"r\": 10, \"t\": 0}, \"showactive\": false, \"type\": \"buttons\", \"x\": 1.3, \"xanchor\": \"right\", \"y\": 1, \"yanchor\": \"top\"}], \"width\": 800},\n",
       "                        {\"showLink\": false, \"linkText\": \"Export to plot.ly\", \"plotlyServerURL\": \"https://plot.ly\", \"responsive\": true}\n",
       "                    ).then(function(){\n",
       "                            Plotly.addFrames('9a2493b5-de72-4f60-922d-84fb11218150', [{\"data\": [{\"line\": {\"color\": \"red\", \"width\": 5}, \"marker\": {\"color\": \"blue\", \"size\": 2}, \"text\": [\"RHip\"], \"x\": [-4.437206110243867, -3.86645], \"y\": [2.705744946354109, 4.10189], \"z\": [15.42071474921815, 17.5181], \"type\": \"scatter3d\"}, {\"line\": {\"color\": \"red\", \"width\": 5}, \"marker\": {\"color\": \"blue\", \"size\": 2}, \"text\": [\"RKnee\"], \"x\": [-2.9139766548170147, -4.437206110243867], \"y\": [1.4728643194295088, 2.705744946354109], \"z\": [8.262640413159254, 15.42071474921815], \"type\": \"scatter3d\"}, {\"line\": {\"color\": \"red\", \"width\": 5}, \"marker\": {\"color\": \"blue\", \"size\": 2}, \"text\": [\"RAnkle\"], \"x\": [-7.68200201222643, -2.9139766548170147], \"y\": [3.4053156803910536, 1.4728643194295088], \"z\": [1.865911632557168, 8.262640413159254], \"type\": \"scatter3d\"}, {\"line\": {\"color\": \"black\", \"width\": 5}, \"marker\": {\"color\": \"blue\", \"size\": 2}, \"text\": [\"LHip\"], \"x\": [-2.3268302543258557, -3.86645], \"y\": [5.076811563003487, 4.10189], \"z\": [15.723790370184785, 17.5181], \"type\": \"scatter3d\"}, {\"line\": {\"color\": \"black\", \"width\": 5}, \"marker\": {\"color\": \"blue\", \"size\": 2}, \"text\": [\"LKnee\"], \"x\": [0.27102330957788023, -2.3268302543258557], \"y\": [4.041927482301514, 5.076811563003487], \"z\": [8.64445661373614, 15.723790370184785], \"type\": \"scatter3d\"}, {\"line\": {\"color\": \"black\", \"width\": 5}, \"marker\": {\"color\": \"blue\", \"size\": 2}, \"text\": [\"LAnkle\"], \"x\": [-1.689285037936163, 0.27102330957788023], \"y\": [7.559732931777601, 4.041927482301514], \"z\": [1.588925789414379, 8.64445661373614], \"type\": \"scatter3d\"}, {\"line\": {\"color\": \"black\", \"width\": 5}, \"marker\": {\"color\": \"blue\", \"size\": 2}, \"text\": [\"Spine1\"], \"x\": [-3.525928257606838, -3.86645], \"y\": [3.601364499972928, 4.10189], \"z\": [21.484032688974096, 17.5181], \"type\": \"scatter3d\"}, {\"line\": {\"color\": \"black\", \"width\": 5}, \"marker\": {\"color\": \"blue\", \"size\": 2}, \"text\": [\"Neck\"], \"x\": [-3.213832325899128, -3.525928257606838], \"y\": [3.262536080383826, 3.601364499972928], \"z\": [25.24546328460673, 21.484032688974096], \"type\": \"scatter3d\"}, {\"line\": {\"color\": \"black\", \"width\": 5}, \"marker\": {\"color\": \"blue\", \"size\": 2}, \"text\": [\"Head\"], \"x\": [-3.0866046732769408, -3.213832325899128], \"y\": [3.249925142993387, 3.262536080383826], \"z\": [27.02057489858693, 25.24546328460673], \"type\": \"scatter3d\"}, {\"line\": {\"color\": \"black\", \"width\": 5}, \"marker\": {\"color\": \"blue\", \"size\": 2}, \"text\": [\"Site\"], \"x\": [-2.890591433605404, -3.0866046732769408], \"y\": [3.0260172846861515, 3.249925142993387], \"z\": [28.778191570224312, 27.02057489858693], \"type\": \"scatter3d\"}, {\"line\": {\"color\": \"black\", \"width\": 5}, \"marker\": {\"color\": \"blue\", \"size\": 2}, \"text\": [\"LShoulder\"], \"x\": [-1.0276839917226872, -3.213832325899128], \"y\": [5.885694654693221, 3.262536080383826], \"z\": [24.887878624969584, 25.24546328460673], \"type\": \"scatter3d\"}, {\"line\": {\"color\": \"black\", \"width\": 5}, \"marker\": {\"color\": \"blue\", \"size\": 2}, \"text\": [\"LElbow\"], \"x\": [1.711206515495843, -1.0276839917226872], \"y\": [4.688861418937911, 5.885694654693221], \"z\": [21.569927034938434, 24.887878624969584], \"type\": \"scatter3d\"}, {\"line\": {\"color\": \"black\", \"width\": 5}, \"marker\": {\"color\": \"blue\", \"size\": 2}, \"text\": [\"LWrist\"], \"x\": [2.8665698074727715, 1.711206515495843], \"y\": [3.6572421763491754, 4.688861418937911], \"z\": [22.568311923632606, 21.569927034938434], \"type\": \"scatter3d\"}, {\"line\": {\"color\": \"red\", \"width\": 5}, \"marker\": {\"color\": \"blue\", \"size\": 2}, \"text\": [\"RShoulder\"], \"x\": [-5.355613290443367, -3.213832325899128], \"y\": [1.0845662808855199, 3.262536080383826], \"z\": [24.775853159338816, 25.24546328460673], \"type\": \"scatter3d\"}, {\"line\": {\"color\": \"red\", \"width\": 5}, \"marker\": {\"color\": \"blue\", \"size\": 2}, \"text\": [\"RElbow\"], \"x\": [-3.375781762493287, -5.355613290443367], \"y\": [-0.836543547978387, 1.0845662808855199], \"z\": [18.798146618242278, 24.775853159338816], \"type\": \"scatter3d\"}, {\"line\": {\"color\": \"red\", \"width\": 5}, \"marker\": {\"color\": \"blue\", \"size\": 2}, \"text\": [\"RWrist\"], \"x\": [-1.659115207038853, -3.375781762493287], \"y\": [-1.4247972465693044, -0.836543547978387], \"z\": [18.751430549504455, 18.798146618242278], \"type\": \"scatter3d\"}, {\"line\": {\"color\": \"#1f77b4\", \"width\": 1}, \"marker\": {\"color\": \"#1f77b4\", \"size\": 1}, \"x\": [], \"y\": [], \"z\": [], \"type\": \"scatter3d\"}, {\"color\": \"#00FFFF\", \"x\": [-50, 50, -50, 50], \"y\": [-50, 50, 50, -50], \"z\": [0, 0, 0, 0], \"type\": \"mesh3d\"}], \"name\": \"frame1\"}, {\"data\": [{\"line\": {\"color\": \"red\", \"width\": 5}, \"marker\": {\"color\": \"blue\", \"size\": 2}, \"text\": [\"RHip\"], \"x\": [-6.195200892278333, -5.32477], \"y\": [3.823017877993978, 5.22304], \"z\": [15.41745586824748, 17.4065], \"type\": \"scatter3d\"}, {\"line\": {\"color\": \"red\", \"width\": 5}, \"marker\": {\"color\": \"blue\", \"size\": 2}, \"text\": [\"RKnee\"], \"x\": [-6.152445821104819, -6.195200892278333], \"y\": [1.827771941328842, 3.823017877993978], \"z\": [8.26935007224941, 15.41745586824748], \"type\": \"scatter3d\"}, {\"line\": {\"color\": \"red\", \"width\": 5}, \"marker\": {\"color\": \"blue\", \"size\": 2}, \"text\": [\"RAnkle\"], \"x\": [-11.202351483965106, -6.152445821104819], \"y\": [3.729440580134272, 1.827771941328842], \"z\": [2.0831814398599002, 8.26935007224941], \"type\": \"scatter3d\"}, {\"line\": {\"color\": \"black\", \"width\": 5}, \"marker\": {\"color\": \"blue\", \"size\": 2}, \"text\": [\"LHip\"], \"x\": [-3.7384828212748387, -5.32477], \"y\": [5.853987799219669, 5.22304], \"z\": [15.502282070192987, 17.4065], \"type\": \"scatter3d\"}, {\"line\": {\"color\": \"black\", \"width\": 5}, \"marker\": {\"color\": \"blue\", \"size\": 2}, \"text\": [\"LKnee\"], \"x\": [0.7507890613850412, -3.7384828212748387], \"y\": [4.467748963636584, 5.853987799219669], \"z\": [9.513828639677586, 15.502282070192987], \"type\": \"scatter3d\"}, {\"line\": {\"color\": \"black\", \"width\": 5}, \"marker\": {\"color\": \"blue\", \"size\": 2}, \"text\": [\"LAnkle\"], \"x\": [-0.9920504089580968, 0.7507890613850412], \"y\": [9.21765137279283, 4.467748963636584], \"z\": [3.157790809806124, 9.513828639677586], \"type\": \"scatter3d\"}, {\"line\": {\"color\": \"black\", \"width\": 5}, \"marker\": {\"color\": \"blue\", \"size\": 2}, \"text\": [\"Spine1\"], \"x\": [-5.0340371738237035, -5.32477], \"y\": [4.8045147467349585, 5.22304], \"z\": [21.3802413678344, 17.4065], \"type\": \"scatter3d\"}, {\"line\": {\"color\": \"black\", \"width\": 5}, \"marker\": {\"color\": \"blue\", \"size\": 2}, \"text\": [\"Neck\"], \"x\": [-4.026584243398448, -5.0340371738237035], \"y\": [4.280559760198768, 4.8045147467349585], \"z\": [24.99741871391048, 21.3802413678344], \"type\": \"scatter3d\"}, {\"line\": {\"color\": \"black\", \"width\": 5}, \"marker\": {\"color\": \"blue\", \"size\": 2}, \"text\": [\"Head\"], \"x\": [-2.8029594749753644, -4.026584243398448], \"y\": [3.696652870857257, 4.280559760198768], \"z\": [26.150311737613062, 24.99741871391048], \"type\": \"scatter3d\"}, {\"line\": {\"color\": \"black\", \"width\": 5}, \"marker\": {\"color\": \"blue\", \"size\": 2}, \"text\": [\"Site\"], \"x\": [-1.4755477683598124, -2.8029594749753644], \"y\": [2.8735603245760775, 3.696652870857257], \"z\": [27.009537613010384, 26.150311737613062], \"type\": \"scatter3d\"}, {\"line\": {\"color\": \"black\", \"width\": 5}, \"marker\": {\"color\": \"blue\", \"size\": 2}, \"text\": [\"LShoulder\"], \"x\": [-2.098875973640653, -4.026584243398448], \"y\": [7.035716791697325, 4.280559760198768], \"z\": [24.45467171950546, 24.99741871391048], \"type\": \"scatter3d\"}, {\"line\": {\"color\": \"black\", \"width\": 5}, \"marker\": {\"color\": \"blue\", \"size\": 2}, \"text\": [\"LElbow\"], \"x\": [0.5892460050192598, -2.098875973640653], \"y\": [5.110256831741295, 7.035716791697325], \"z\": [23.140377668358227, 24.45467171950546], \"type\": \"scatter3d\"}, {\"line\": {\"color\": \"black\", \"width\": 5}, \"marker\": {\"color\": \"blue\", \"size\": 2}, \"text\": [\"LWrist\"], \"x\": [0.6142536282822768, 0.5892460050192598], \"y\": [4.373530699191389, 5.110256831741295], \"z\": [24.829307568767593, 23.140377668358227], \"type\": \"scatter3d\"}, {\"line\": {\"color\": \"red\", \"width\": 5}, \"marker\": {\"color\": \"blue\", \"size\": 2}, \"text\": [\"RShoulder\"], \"x\": [-6.67313870016965, -4.026584243398448], \"y\": [2.490278339230457, 4.280559760198768], \"z\": [24.91234536412483, 24.99741871391048], \"type\": \"scatter3d\"}, {\"line\": {\"color\": \"red\", \"width\": 5}, \"marker\": {\"color\": \"blue\", \"size\": 2}, \"text\": [\"RElbow\"], \"x\": [-4.383117099933591, -6.67313870016965], \"y\": [-0.2791504674847557, 2.490278339230457], \"z\": [23.03490328075296, 24.91234536412483], \"type\": \"scatter3d\"}, {\"line\": {\"color\": \"red\", \"width\": 5}, \"marker\": {\"color\": \"blue\", \"size\": 2}, \"text\": [\"RWrist\"], \"x\": [-3.694642597993352, -4.383117099933591], \"y\": [-0.1526790118646894, -0.2791504674847557], \"z\": [24.709769454120696, 23.03490328075296], \"type\": \"scatter3d\"}, {\"line\": {\"color\": \"#1f77b4\", \"width\": 1}, \"marker\": {\"color\": \"#1f77b4\", \"size\": 1}, \"x\": [-7.68200201222643], \"y\": [3.4053156803910536], \"z\": [1.865911632557168], \"type\": \"scatter3d\"}, {\"color\": \"#00FFFF\", \"x\": [-50, 50, -50, 50], \"y\": [-50, 50, 50, -50], \"z\": [0, 0, 0, 0], \"type\": \"mesh3d\"}], \"name\": \"frame2\"}, {\"data\": [{\"line\": {\"color\": \"red\", \"width\": 5}, \"marker\": {\"color\": \"blue\", \"size\": 2}, \"text\": [\"RHip\"], \"x\": [-5.525438029324765, -4.31743], \"y\": [6.238481074910603, 7.29418], \"z\": [15.290698812521995, 17.3156], \"type\": \"scatter3d\"}, {\"line\": {\"color\": \"red\", \"width\": 5}, \"marker\": {\"color\": \"blue\", \"size\": 2}, \"text\": [\"RKnee\"], \"x\": [-6.011757355671929, -5.525438029324765], \"y\": [4.019393654483469, 6.238481074910603], \"z\": [8.225474446092132, 15.290698812521995], \"type\": \"scatter3d\"}, {\"line\": {\"color\": \"red\", \"width\": 5}, \"marker\": {\"color\": \"blue\", \"size\": 2}, \"text\": [\"RAnkle\"], \"x\": [-10.955869104893946, -6.011757355671929], \"y\": [7.115938837216567, 4.019393654483469], \"z\": [2.4502047462026466, 8.225474446092132], \"type\": \"scatter3d\"}, {\"line\": {\"color\": \"black\", \"width\": 5}, \"marker\": {\"color\": \"blue\", \"size\": 2}, \"text\": [\"LHip\"], \"x\": [-2.5376789052817674, -4.31743], \"y\": [7.336268474396715, 7.29418], \"z\": [15.479527380494252, 17.3156], \"type\": \"scatter3d\"}, {\"line\": {\"color\": \"black\", \"width\": 5}, \"marker\": {\"color\": \"blue\", \"size\": 2}, \"text\": [\"LKnee\"], \"x\": [1.629164659330315, -2.5376789052817674], \"y\": [5.659253474108365, 7.336268474396715], \"z\": [9.334461877830368, 15.479527380494252], \"type\": \"scatter3d\"}, {\"line\": {\"color\": \"black\", \"width\": 5}, \"marker\": {\"color\": \"blue\", \"size\": 2}, \"text\": [\"LAnkle\"], \"x\": [2.9020384537456776, 1.629164659330315], \"y\": [10.511928216639518, 5.659253474108365], \"z\": [2.9446559842728623, 9.334461877830368], \"type\": \"scatter3d\"}, {\"line\": {\"color\": \"black\", \"width\": 5}, \"marker\": {\"color\": \"blue\", \"size\": 2}, \"text\": [\"Spine1\"], \"x\": [-4.104165632741966, -4.31743], \"y\": [6.71881485414298, 7.29418], \"z\": [21.2743079979893, 17.3156], \"type\": \"scatter3d\"}, {\"line\": {\"color\": \"black\", \"width\": 5}, \"marker\": {\"color\": \"blue\", \"size\": 2}, \"text\": [\"Neck\"], \"x\": [-3.509448079240657, -4.104165632741966], \"y\": [6.127611178054413, 6.71881485414298], \"z\": [24.97973493107477, 21.2743079979893], \"type\": \"scatter3d\"}, {\"line\": {\"color\": \"black\", \"width\": 5}, \"marker\": {\"color\": \"blue\", \"size\": 2}, \"text\": [\"Head\"], \"x\": [-2.913305619401993, -3.509448079240657], \"y\": [6.005880894425508, 6.127611178054413], \"z\": [26.65220707106579, 24.97973493107477], \"type\": \"scatter3d\"}, {\"line\": {\"color\": \"black\", \"width\": 5}, \"marker\": {\"color\": \"blue\", \"size\": 2}, \"text\": [\"Site\"], \"x\": [-2.2090022568881147, -2.913305619401993], \"y\": [5.710835652339388, 6.005880894425508], \"z\": [28.263007295249384, 26.65220707106579], \"type\": \"scatter3d\"}, {\"line\": {\"color\": \"black\", \"width\": 5}, \"marker\": {\"color\": \"blue\", \"size\": 2}, \"text\": [\"LShoulder\"], \"x\": [-0.6497776090148135, -3.509448079240657], \"y\": [7.966540228230165, 6.127611178054413], \"z\": [24.365576442523015, 24.97973493107477], \"type\": \"scatter3d\"}, {\"line\": {\"color\": \"black\", \"width\": 5}, \"marker\": {\"color\": \"blue\", \"size\": 2}, \"text\": [\"LElbow\"], \"x\": [2.1451665109601703, -0.6497776090148135], \"y\": [5.900112194116408, 7.966540228230165], \"z\": [23.553427295863642, 24.365576442523015], \"type\": \"scatter3d\"}, {\"line\": {\"color\": \"black\", \"width\": 5}, \"marker\": {\"color\": \"blue\", \"size\": 2}, \"text\": [\"LWrist\"], \"x\": [1.8921100057142097, 2.1451665109601703], \"y\": [5.235179516488178, 5.900112194116408], \"z\": [25.25333962403673, 23.553427295863642], \"type\": \"scatter3d\"}, {\"line\": {\"color\": \"red\", \"width\": 5}, \"marker\": {\"color\": \"blue\", \"size\": 2}, \"text\": [\"RShoulder\"], \"x\": [-6.381909387732792, -3.509448079240657], \"y\": [5.00823640769891, 6.127611178054413], \"z\": [24.796226135774592, 24.97973493107477], \"type\": \"scatter3d\"}, {\"line\": {\"color\": \"red\", \"width\": 5}, \"marker\": {\"color\": \"blue\", \"size\": 2}, \"text\": [\"RElbow\"], \"x\": [-4.800080025572952, -6.381909387732792], \"y\": [2.1333401077230043, 5.00823640769891], \"z\": [22.053164753941637, 24.796226135774592], \"type\": \"scatter3d\"}, {\"line\": {\"color\": \"red\", \"width\": 5}, \"marker\": {\"color\": \"blue\", \"size\": 2}, \"text\": [\"RWrist\"], \"x\": [-3.6406870018366866, -4.800080025572952], \"y\": [1.9554559979823172, 2.1333401077230043], \"z\": [23.438565030978364, 22.053164753941637], \"type\": \"scatter3d\"}, {\"line\": {\"color\": \"#1f77b4\", \"width\": 1}, \"marker\": {\"color\": \"#1f77b4\", \"size\": 1}, \"x\": [-7.68200201222643, -11.202351483965106], \"y\": [3.4053156803910536, 3.729440580134272], \"z\": [1.865911632557168, 2.0831814398599002], \"type\": \"scatter3d\"}, {\"color\": \"#00FFFF\", \"x\": [-50, 50, -50, 50], \"y\": [-50, 50, 50, -50], \"z\": [0, 0, 0, 0], \"type\": \"mesh3d\"}], \"name\": \"frame3\"}, {\"data\": [{\"line\": {\"color\": \"red\", \"width\": 5}, \"marker\": {\"color\": \"blue\", \"size\": 2}, \"text\": [\"RHip\"], \"x\": [-2.366894277489319, -1.48011], \"y\": [4.1987066230998265, 5.92549], \"z\": [15.755247175270924, 17.4599], \"type\": \"scatter3d\"}, {\"line\": {\"color\": \"red\", \"width\": 5}, \"marker\": {\"color\": \"blue\", \"size\": 2}, \"text\": [\"RKnee\"], \"x\": [-2.3120874735820105, -2.366894277489319], \"y\": [2.064835828722675, 4.1987066230998265], \"z\": [8.647375309387249, 15.755247175270924], \"type\": \"scatter3d\"}, {\"line\": {\"color\": \"red\", \"width\": 5}, \"marker\": {\"color\": \"blue\", \"size\": 2}, \"text\": [\"RAnkle\"], \"x\": [-7.261455157517169, -2.3120874735820105], \"y\": [6.2383953833599834, 2.064835828722675], \"z\": [3.600422432940081, 8.647375309387249], \"type\": \"scatter3d\"}, {\"line\": {\"color\": \"black\", \"width\": 5}, \"marker\": {\"color\": \"blue\", \"size\": 2}, \"text\": [\"LHip\"], \"x\": [0.1966369929169689, -1.48011], \"y\": [6.082158262207539, 5.92549], \"z\": [15.5352123265612, 17.4599], \"type\": \"scatter3d\"}, {\"line\": {\"color\": \"black\", \"width\": 5}, \"marker\": {\"color\": \"blue\", \"size\": 2}, \"text\": [\"LKnee\"], \"x\": [3.9507217923129976, 0.1966369929169689], \"y\": [4.101211388982666, 6.082158262207539], \"z\": [9.21702497261424, 15.5352123265612], \"type\": \"scatter3d\"}, {\"line\": {\"color\": \"black\", \"width\": 5}, \"marker\": {\"color\": \"blue\", \"size\": 2}, \"text\": [\"LAnkle\"], \"x\": [3.5541335094787403, 3.9507217923129976], \"y\": [7.899476723923147, 4.101211388982666], \"z\": [2.046656963232892, 9.21702497261424], \"type\": \"scatter3d\"}, {\"line\": {\"color\": \"black\", \"width\": 5}, \"marker\": {\"color\": \"blue\", \"size\": 2}, \"text\": [\"Spine1\"], \"x\": [-1.2689711898815477, -1.48011], \"y\": [6.46963934430726, 5.92549], \"z\": [21.42502329492211, 17.4599], \"type\": \"scatter3d\"}, {\"line\": {\"color\": \"black\", \"width\": 5}, \"marker\": {\"color\": \"blue\", \"size\": 2}, \"text\": [\"Neck\"], \"x\": [-0.46246758644261493, -1.2689711898815477], \"y\": [6.846360661598354, 6.46963934430726], \"z\": [25.116606897661267, 21.42502329492211], \"type\": \"scatter3d\"}, {\"line\": {\"color\": \"black\", \"width\": 5}, \"marker\": {\"color\": \"blue\", \"size\": 2}, \"text\": [\"Head\"], \"x\": [0.22011171351743236, -0.46246758644261493], \"y\": [6.707209867110457, 6.846360661598354], \"z\": [26.75431557416037, 25.116606897661267], \"type\": \"scatter3d\"}, {\"line\": {\"color\": \"black\", \"width\": 5}, \"marker\": {\"color\": \"blue\", \"size\": 2}, \"text\": [\"Site\"], \"x\": [0.9774540977927504, 0.22011171351743236], \"y\": [6.3238649603586214, 6.707209867110457], \"z\": [28.32187784692772, 26.75431557416037], \"type\": \"scatter3d\"}, {\"line\": {\"color\": \"black\", \"width\": 5}, \"marker\": {\"color\": \"blue\", \"size\": 2}, \"text\": [\"LShoulder\"], \"x\": [1.482756955916557, -0.46246758644261493], \"y\": [9.499415446290845, 6.846360661598354], \"z\": [23.933808819284874, 25.116606897661267], \"type\": \"scatter3d\"}, {\"line\": {\"color\": \"black\", \"width\": 5}, \"marker\": {\"color\": \"blue\", \"size\": 2}, \"text\": [\"LElbow\"], \"x\": [3.493131897289377, 1.482756955916557], \"y\": [7.194891663643896, 9.499415446290845], \"z\": [22.768884104899794, 23.933808819284874], \"type\": \"scatter3d\"}, {\"line\": {\"color\": \"black\", \"width\": 5}, \"marker\": {\"color\": \"blue\", \"size\": 2}, \"text\": [\"LWrist\"], \"x\": [3.4315545260023317, 3.493131897289377], \"y\": [6.765952784873782, 7.194891663643896], \"z\": [24.559999581278916, 22.768884104899794], \"type\": \"scatter3d\"}, {\"line\": {\"color\": \"red\", \"width\": 5}, \"marker\": {\"color\": \"blue\", \"size\": 2}, \"text\": [\"RShoulder\"], \"x\": [-2.949094876652719, -0.46246758644261493], \"y\": [5.018235503951882, 6.846360661598354], \"z\": [25.373277832493343, 25.116606897661267], \"type\": \"scatter3d\"}, {\"line\": {\"color\": \"red\", \"width\": 5}, \"marker\": {\"color\": \"blue\", \"size\": 2}, \"text\": [\"RElbow\"], \"x\": [-1.4315749932235766, -2.949094876652719], \"y\": [1.928188711070105, 5.018235503951882], \"z\": [23.02081176357835, 25.373277832493343], \"type\": \"scatter3d\"}, {\"line\": {\"color\": \"red\", \"width\": 5}, \"marker\": {\"color\": \"blue\", \"size\": 2}, \"text\": [\"RWrist\"], \"x\": [-0.14609999036918486, -1.4315749932235766], \"y\": [2.141483677895189, 1.928188711070105], \"z\": [24.284626679522766, 23.02081176357835], \"type\": \"scatter3d\"}, {\"line\": {\"color\": \"#1f77b4\", \"width\": 1}, \"marker\": {\"color\": \"#1f77b4\", \"size\": 1}, \"x\": [-7.68200201222643, -11.202351483965106, -10.955869104893946], \"y\": [3.4053156803910536, 3.729440580134272, 7.115938837216567], \"z\": [1.865911632557168, 2.0831814398599002, 2.4502047462026466], \"type\": \"scatter3d\"}, {\"color\": \"#00FFFF\", \"x\": [-50, 50, -50, 50], \"y\": [-50, 50, 50, -50], \"z\": [0, 0, 0, 0], \"type\": \"mesh3d\"}], \"name\": \"frame4\"}, {\"data\": [{\"line\": {\"color\": \"red\", \"width\": 5}, \"marker\": {\"color\": \"blue\", \"size\": 2}, \"text\": [\"RHip\"], \"x\": [1.378494805638312, 2.19366], \"y\": [2.187993328581115, 3.81387], \"z\": [14.161623136452917, 15.9963], \"type\": \"scatter3d\"}, {\"line\": {\"color\": \"red\", \"width\": 5}, \"marker\": {\"color\": \"blue\", \"size\": 2}, \"text\": [\"RKnee\"], \"x\": [-0.5678647930414589, 1.378494805638312], \"y\": [2.6835685051371825, 2.187993328581115], \"z\": [7.0170909354141715, 14.161623136452917], \"type\": \"scatter3d\"}, {\"line\": {\"color\": \"red\", \"width\": 5}, \"marker\": {\"color\": \"blue\", \"size\": 2}, \"text\": [\"RAnkle\"], \"x\": [-6.696189981227148, -0.5678647930414589], \"y\": [6.738902405987771, 2.6835685051371825], \"z\": [3.3586116742422365, 7.0170909354141715], \"type\": \"scatter3d\"}, {\"line\": {\"color\": \"black\", \"width\": 5}, \"marker\": {\"color\": \"blue\", \"size\": 2}, \"text\": [\"LHip\"], \"x\": [3.2103475705367632, 2.19366], \"y\": [4.780199040449176, 3.81387], \"z\": [13.857841996571567, 15.9963], \"type\": \"scatter3d\"}, {\"line\": {\"color\": \"black\", \"width\": 5}, \"marker\": {\"color\": \"blue\", \"size\": 2}, \"text\": [\"LKnee\"], \"x\": [8.383108400222323, 3.2103475705367632], \"y\": [1.6586945523454522, 4.780199040449176], \"z\": [9.227987812605285, 13.857841996571567], \"type\": \"scatter3d\"}, {\"line\": {\"color\": \"black\", \"width\": 5}, \"marker\": {\"color\": \"blue\", \"size\": 2}, \"text\": [\"LAnkle\"], \"x\": [9.13339793927276, 8.383108400222323], \"y\": [4.60211653006948, 1.6586945523454522], \"z\": [1.6932939316772728, 9.227987812605285], \"type\": \"scatter3d\"}, {\"line\": {\"color\": \"black\", \"width\": 5}, \"marker\": {\"color\": \"blue\", \"size\": 2}, \"text\": [\"Spine1\"], \"x\": [3.4913950181661115, 2.19366], \"y\": [3.827804892471594, 3.81387], \"z\": [19.77492298070063, 15.9963], \"type\": \"scatter3d\"}, {\"line\": {\"color\": \"black\", \"width\": 5}, \"marker\": {\"color\": \"blue\", \"size\": 2}, \"text\": [\"Neck\"], \"x\": [5.592467315894737, 3.4913950181661115], \"y\": [4.4160680596262045, 3.827804892471594], \"z\": [22.87300350579544, 19.77492298070063], \"type\": \"scatter3d\"}, {\"line\": {\"color\": \"black\", \"width\": 5}, \"marker\": {\"color\": \"blue\", \"size\": 2}, \"text\": [\"Head\"], \"x\": [7.117019446443386, 5.592467315894737], \"y\": [4.787744471196624, 4.4160680596262045], \"z\": [23.712625206171698, 22.87300350579544], \"type\": \"scatter3d\"}, {\"line\": {\"color\": \"black\", \"width\": 5}, \"marker\": {\"color\": \"blue\", \"size\": 2}, \"text\": [\"Site\"], \"x\": [8.792850866888555, 7.117019446443386], \"y\": [4.982108880717947, 4.787744471196624], \"z\": [24.288458350507877, 23.712625206171698], \"type\": \"scatter3d\"}, {\"line\": {\"color\": \"black\", \"width\": 5}, \"marker\": {\"color\": \"blue\", \"size\": 2}, \"text\": [\"LShoulder\"], \"x\": [5.348411855405661, 5.592467315894737], \"y\": [7.642416289690811, 4.4160680596262045], \"z\": [22.021205282236785, 22.87300350579544], \"type\": \"scatter3d\"}, {\"line\": {\"color\": \"black\", \"width\": 5}, \"marker\": {\"color\": \"blue\", \"size\": 2}, \"text\": [\"LElbow\"], \"x\": [7.530542847910535, 5.348411855405661], \"y\": [5.179435552621605, 7.642416289690811], \"z\": [17.933220595511287, 22.021205282236785], \"type\": \"scatter3d\"}, {\"line\": {\"color\": \"black\", \"width\": 5}, \"marker\": {\"color\": \"blue\", \"size\": 2}, \"text\": [\"LWrist\"], \"x\": [8.831537991533725, 7.530542847910535], \"y\": [4.0459932935439245, 5.179435552621605], \"z\": [18.5802099815956, 17.933220595511287], \"type\": \"scatter3d\"}, {\"line\": {\"color\": \"red\", \"width\": 5}, \"marker\": {\"color\": \"blue\", \"size\": 2}, \"text\": [\"RShoulder\"], \"x\": [4.592094713696643, 5.592467315894737], \"y\": [1.3765232368953524, 4.4160680596262045], \"z\": [23.421535248188654, 22.87300350579544], \"type\": \"scatter3d\"}, {\"line\": {\"color\": \"red\", \"width\": 5}, \"marker\": {\"color\": \"blue\", \"size\": 2}, \"text\": [\"RElbow\"], \"x\": [11.698461510455978, 4.592094713696643], \"y\": [-1.4131591850379133, 1.3765232368953524], \"z\": [21.73642252380482, 23.421535248188654], \"type\": \"scatter3d\"}, {\"line\": {\"color\": \"red\", \"width\": 5}, \"marker\": {\"color\": \"blue\", \"size\": 2}, \"text\": [\"RWrist\"], \"x\": [13.347770236853385, 11.698461510455978], \"y\": [-0.78582174093524, -1.4131591850379133], \"z\": [22.162330170902273, 21.73642252380482], \"type\": \"scatter3d\"}, {\"line\": {\"color\": \"#1f77b4\", \"width\": 1}, \"marker\": {\"color\": \"#1f77b4\", \"size\": 1}, \"x\": [-7.68200201222643, -11.202351483965106, -10.955869104893946, -7.261455157517169], \"y\": [3.4053156803910536, 3.729440580134272, 7.115938837216567, 6.2383953833599834], \"z\": [1.865911632557168, 2.0831814398599002, 2.4502047462026466, 3.600422432940081], \"type\": \"scatter3d\"}, {\"color\": \"#00FFFF\", \"x\": [-50, 50, -50, 50], \"y\": [-50, 50, 50, -50], \"z\": [0, 0, 0, 0], \"type\": \"mesh3d\"}], \"name\": \"frame5\"}, {\"data\": [{\"line\": {\"color\": \"red\", \"width\": 5}, \"marker\": {\"color\": \"blue\", \"size\": 2}, \"text\": [\"RHip\"], \"x\": [-1.974741913344484, -0.513905], \"y\": [-1.4247726281767406, 0.371601], \"z\": [13.708835374924622, 14.8547], \"type\": \"scatter3d\"}, {\"line\": {\"color\": \"red\", \"width\": 5}, \"marker\": {\"color\": \"blue\", \"size\": 2}, \"text\": [\"RKnee\"], \"x\": [-3.2526643522472245, -1.974741913344484], \"y\": [-4.521865119313231, -1.4247726281767406], \"z\": [7.08666177736877, 13.708835374924622], \"type\": \"scatter3d\"}, {\"line\": {\"color\": \"red\", \"width\": 5}, \"marker\": {\"color\": \"blue\", \"size\": 2}, \"text\": [\"RAnkle\"], \"x\": [-6.597702295821579, -3.2526643522472245], \"y\": [1.6798788535843796, -4.521865119313231], \"z\": [2.8752883654471493, 7.08666177736877], \"type\": \"scatter3d\"}, {\"line\": {\"color\": \"black\", \"width\": 5}, \"marker\": {\"color\": \"blue\", \"size\": 2}, \"text\": [\"LHip\"], \"x\": [1.0216107160471632, -0.513905], \"y\": [-0.5657110582679801, 0.371601], \"z\": [13.036985596105895, 14.8547], \"type\": \"scatter3d\"}, {\"line\": {\"color\": \"black\", \"width\": 5}, \"marker\": {\"color\": \"blue\", \"size\": 2}, \"text\": [\"LKnee\"], \"x\": [5.107425187538558, 1.0216107160471632], \"y\": [-4.89628549008811, -0.5657110582679801], \"z\": [8.294724549918302, 13.036985596105895], \"type\": \"scatter3d\"}, {\"line\": {\"color\": \"black\", \"width\": 5}, \"marker\": {\"color\": \"blue\", \"size\": 2}, \"text\": [\"LAnkle\"], \"x\": [5.620056189561114, 5.107425187538558], \"y\": [-0.3433169634728328, -4.89628549008811], \"z\": [1.5860759332394236, 8.294724549918302], \"type\": \"scatter3d\"}, {\"line\": {\"color\": \"black\", \"width\": 5}, \"marker\": {\"color\": \"blue\", \"size\": 2}, \"text\": [\"Spine1\"], \"x\": [-0.24453642148313315, -0.513905], \"y\": [1.9686098278377615, 0.371601], \"z\": [18.523215927123484, 14.8547], \"type\": \"scatter3d\"}, {\"line\": {\"color\": \"black\", \"width\": 5}, \"marker\": {\"color\": \"blue\", \"size\": 2}, \"text\": [\"Neck\"], \"x\": [0.5474008974326807, -0.24453642148313315], \"y\": [3.533748098758789, 1.9686098278377615], \"z\": [21.893406271278714, 18.523215927123484], \"type\": \"scatter3d\"}, {\"line\": {\"color\": \"black\", \"width\": 5}, \"marker\": {\"color\": \"blue\", \"size\": 2}, \"text\": [\"Head\"], \"x\": [0.9557792224098676, 0.5474008974326807], \"y\": [4.17215419972089, 3.533748098758789], \"z\": [23.503695669916176, 21.893406271278714], \"type\": \"scatter3d\"}, {\"line\": {\"color\": \"black\", \"width\": 5}, \"marker\": {\"color\": \"blue\", \"size\": 2}, \"text\": [\"Site\"], \"x\": [1.408826595271394, 0.9557792224098676], \"y\": [4.573690684858273, 4.17215419972089], \"z\": [25.180385507841702, 23.503695669916176], \"type\": \"scatter3d\"}, {\"line\": {\"color\": \"black\", \"width\": 5}, \"marker\": {\"color\": \"blue\", \"size\": 2}, \"text\": [\"LShoulder\"], \"x\": [3.0590054873940082, 0.5474008974326807], \"y\": [5.099997627383023, 3.533748098758789], \"z\": [20.048528068598777, 21.893406271278714], \"type\": \"scatter3d\"}, {\"line\": {\"color\": \"black\", \"width\": 5}, \"marker\": {\"color\": \"blue\", \"size\": 2}, \"text\": [\"LElbow\"], \"x\": [4.2643821980054755, 3.0590054873940082], \"y\": [1.5799774905285575, 5.099997627383023], \"z\": [19.97943670841996, 20.048528068598777], \"type\": \"scatter3d\"}, {\"line\": {\"color\": \"black\", \"width\": 5}, \"marker\": {\"color\": \"blue\", \"size\": 2}, \"text\": [\"LWrist\"], \"x\": [4.253347648642129, 4.2643821980054755], \"y\": [1.6642480349346171, 1.5799774905285575], \"z\": [21.820265787440025, 19.97943670841996], \"type\": \"scatter3d\"}, {\"line\": {\"color\": \"red\", \"width\": 5}, \"marker\": {\"color\": \"blue\", \"size\": 2}, \"text\": [\"RShoulder\"], \"x\": [-2.0512570399962935, 0.5474008974326807], \"y\": [2.135480585809421, 3.533748098758789], \"z\": [22.673639683907016, 21.893406271278714], \"type\": \"scatter3d\"}, {\"line\": {\"color\": \"red\", \"width\": 5}, \"marker\": {\"color\": \"blue\", \"size\": 2}, \"text\": [\"RElbow\"], \"x\": [-0.25662152671460436, -2.0512570399962935], \"y\": [-1.7634043505900219, 2.135480585809421], \"z\": [21.631313436903643, 22.673639683907016], \"type\": \"scatter3d\"}, {\"line\": {\"color\": \"red\", \"width\": 5}, \"marker\": {\"color\": \"blue\", \"size\": 2}, \"text\": [\"RWrist\"], \"x\": [0.9687703608272107, -0.25662152671460436], \"y\": [-1.2329943050699297, -1.7634043505900219], \"z\": [22.861048682051184, 21.631313436903643], \"type\": \"scatter3d\"}, {\"line\": {\"color\": \"#1f77b4\", \"width\": 1}, \"marker\": {\"color\": \"#1f77b4\", \"size\": 1}, \"x\": [-7.68200201222643, -11.202351483965106, -10.955869104893946, -7.261455157517169, -6.696189981227148], \"y\": [3.4053156803910536, 3.729440580134272, 7.115938837216567, 6.2383953833599834, 6.738902405987771], \"z\": [1.865911632557168, 2.0831814398599002, 2.4502047462026466, 3.600422432940081, 3.3586116742422365], \"type\": \"scatter3d\"}, {\"color\": \"#00FFFF\", \"x\": [-50, 50, -50, 50], \"y\": [-50, 50, 50, -50], \"z\": [0, 0, 0, 0], \"type\": \"mesh3d\"}], \"name\": \"frame6\"}, {\"data\": [{\"line\": {\"color\": \"red\", \"width\": 5}, \"marker\": {\"color\": \"blue\", \"size\": 2}, \"text\": [\"RHip\"], \"x\": [1.417572761060435, 2.11883], \"y\": [-1.5245341680347573, 0.207411], \"z\": [14.92021214741979, 16.7042], \"type\": \"scatter3d\"}, {\"line\": {\"color\": \"red\", \"width\": 5}, \"marker\": {\"color\": \"blue\", \"size\": 2}, \"text\": [\"RKnee\"], \"x\": [0.07785990360587358, 1.417572761060435], \"y\": [-1.5471414782164754, -1.5245341680347573], \"z\": [7.620697835921506, 14.92021214741979], \"type\": \"scatter3d\"}, {\"line\": {\"color\": \"red\", \"width\": 5}, \"marker\": {\"color\": \"blue\", \"size\": 2}, \"text\": [\"RAnkle\"], \"x\": [-6.51772886461975, 0.07785990360587358], \"y\": [0.426703045092959, -1.5471414782164754], \"z\": [3.1498232277243945, 7.620697835921506], \"type\": \"scatter3d\"}, {\"line\": {\"color\": \"black\", \"width\": 5}, \"marker\": {\"color\": \"blue\", \"size\": 2}, \"text\": [\"LHip\"], \"x\": [3.382588798266998, 2.11883], \"y\": [0.9680657014978715, 0.207411], \"z\": [14.614997714959504, 16.7042], \"type\": \"scatter3d\"}, {\"line\": {\"color\": \"black\", \"width\": 5}, \"marker\": {\"color\": \"blue\", \"size\": 2}, \"text\": [\"LKnee\"], \"x\": [8.624454173941691, 3.382588798266998], \"y\": [-1.3250406357242746, 0.9680657014978715], \"z\": [9.594907541997923, 14.614997714959504], \"type\": \"scatter3d\"}, {\"line\": {\"color\": \"black\", \"width\": 5}, \"marker\": {\"color\": \"blue\", \"size\": 2}, \"text\": [\"LAnkle\"], \"x\": [9.611895250253067, 8.624454173941691], \"y\": [1.6299941195475793, -1.3250406357242746], \"z\": [2.092174111667359, 9.594907541997923], \"type\": \"scatter3d\"}, {\"line\": {\"color\": \"black\", \"width\": 5}, \"marker\": {\"color\": \"blue\", \"size\": 2}, \"text\": [\"Spine1\"], \"x\": [2.903564040888809, 2.11883], \"y\": [0.25512157154445886, 0.207411], \"z\": [20.6393172453143, 16.7042], \"type\": \"scatter3d\"}, {\"line\": {\"color\": \"black\", \"width\": 5}, \"marker\": {\"color\": \"blue\", \"size\": 2}, \"text\": [\"Neck\"], \"x\": [3.5505395111674787, 2.903564040888809], \"y\": [0.42970366417865474, 0.25512157154445886], \"z\": [24.367225427483202, 20.6393172453143], \"type\": \"scatter3d\"}, {\"line\": {\"color\": \"black\", \"width\": 5}, \"marker\": {\"color\": \"blue\", \"size\": 2}, \"text\": [\"Head\"], \"x\": [3.7928743255419604, 3.5505395111674787], \"y\": [0.7336420533801861, 0.42970366417865474], \"z\": [26.10396445414572, 24.367225427483202], \"type\": \"scatter3d\"}, {\"line\": {\"color\": \"black\", \"width\": 5}, \"marker\": {\"color\": \"blue\", \"size\": 2}, \"text\": [\"Site\"], \"x\": [4.094139515668052, 3.7928743255419604], \"y\": [0.8281680809175369, 0.7336420533801861], \"z\": [27.858409209301104, 26.10396445414572], \"type\": \"scatter3d\"}, {\"line\": {\"color\": \"black\", \"width\": 5}, \"marker\": {\"color\": \"blue\", \"size\": 2}, \"text\": [\"LShoulder\"], \"x\": [5.720068390360268, 3.5505395111674787], \"y\": [2.893584119455271, 0.42970366417865474], \"z\": [23.494378445439583, 24.367225427483202], \"type\": \"scatter3d\"}, {\"line\": {\"color\": \"black\", \"width\": 5}, \"marker\": {\"color\": \"blue\", \"size\": 2}, \"text\": [\"LElbow\"], \"x\": [7.647539689301781, 5.720068390360268], \"y\": [0.46544839064043586, 2.893584119455271], \"z\": [21.636362005476702, 23.494378445439583], \"type\": \"scatter3d\"}, {\"line\": {\"color\": \"black\", \"width\": 5}, \"marker\": {\"color\": \"blue\", \"size\": 2}, \"text\": [\"LWrist\"], \"x\": [8.007267815447102, 7.647539689301781], \"y\": [-0.2561241452956403, 0.46544839064043586], \"z\": [23.293408696050857, 21.636362005476702], \"type\": \"scatter3d\"}, {\"line\": {\"color\": \"red\", \"width\": 5}, \"marker\": {\"color\": \"blue\", \"size\": 2}, \"text\": [\"RShoulder\"], \"x\": [1.3200916998804888, 3.5505395111674787], \"y\": [-1.7605354434427691, 0.42970366417865474], \"z\": [24.37399859012729, 24.367225427483202], \"type\": \"scatter3d\"}, {\"line\": {\"color\": \"red\", \"width\": 5}, \"marker\": {\"color\": \"blue\", \"size\": 2}, \"text\": [\"RElbow\"], \"x\": [0.4949380101067167, 1.3200916998804888], \"y\": [-4.630022478797398, -1.7605354434427691], \"z\": [21.480506186894228, 24.37399859012729], \"type\": \"scatter3d\"}, {\"line\": {\"color\": \"red\", \"width\": 5}, \"marker\": {\"color\": \"blue\", \"size\": 2}, \"text\": [\"RWrist\"], \"x\": [2.0246061361423973, 0.4949380101067167], \"y\": [-5.243006854178823, -4.630022478797398], \"z\": [22.24177778581851, 21.480506186894228], \"type\": \"scatter3d\"}, {\"line\": {\"color\": \"#1f77b4\", \"width\": 1}, \"marker\": {\"color\": \"#1f77b4\", \"size\": 1}, \"x\": [-7.68200201222643, -11.202351483965106, -10.955869104893946, -7.261455157517169, -6.696189981227148, -6.597702295821579], \"y\": [3.4053156803910536, 3.729440580134272, 7.115938837216567, 6.2383953833599834, 6.738902405987771, 1.6798788535843796], \"z\": [1.865911632557168, 2.0831814398599002, 2.4502047462026466, 3.600422432940081, 3.3586116742422365, 2.8752883654471493], \"type\": \"scatter3d\"}, {\"color\": \"#00FFFF\", \"x\": [-50, 50, -50, 50], \"y\": [-50, 50, 50, -50], \"z\": [0, 0, 0, 0], \"type\": \"mesh3d\"}], \"name\": \"frame7\"}, {\"data\": [{\"line\": {\"color\": \"red\", \"width\": 5}, \"marker\": {\"color\": \"blue\", \"size\": 2}, \"text\": [\"RHip\"], \"x\": [0.9749837736434389, 0.565041], \"y\": [-5.300129397801715, -3.79848], \"z\": [15.536303587446831, 17.5981], \"type\": \"scatter3d\"}, {\"line\": {\"color\": \"red\", \"width\": 5}, \"marker\": {\"color\": \"blue\", \"size\": 2}, \"text\": [\"RKnee\"], \"x\": [2.9710264635469597, 0.9749837736434389], \"y\": [-6.374630452675108, -5.300129397801715], \"z\": [8.469514226086915, 15.536303587446831], \"type\": \"scatter3d\"}, {\"line\": {\"color\": \"red\", \"width\": 5}, \"marker\": {\"color\": \"blue\", \"size\": 2}, \"text\": [\"RAnkle\"], \"x\": [-3.8476915953707365, 2.9710264635469597], \"y\": [-8.57887314276572, -6.374630452675108], \"z\": [4.465394927147864, 8.469514226086915], \"type\": \"scatter3d\"}, {\"line\": {\"color\": \"black\", \"width\": 5}, \"marker\": {\"color\": \"blue\", \"size\": 2}, \"text\": [\"LHip\"], \"x\": [1.075754891069761, 0.565041], \"y\": [-2.1194507285654463, -3.79848], \"z\": [15.737863431694551, 17.5981], \"type\": \"scatter3d\"}, {\"line\": {\"color\": \"black\", \"width\": 5}, \"marker\": {\"color\": \"blue\", \"size\": 2}, \"text\": [\"LKnee\"], \"x\": [3.1551475238533824, 1.075754891069761], \"y\": [-0.7170003487698833, -2.1194507285654463], \"z\": [8.551344535448088, 15.737863431694551], \"type\": \"scatter3d\"}, {\"line\": {\"color\": \"black\", \"width\": 5}, \"marker\": {\"color\": \"blue\", \"size\": 2}, \"text\": [\"LAnkle\"], \"x\": [-0.6239828111413535, 3.1551475238533824], \"y\": [1.6606057851477547, -0.7170003487698833], \"z\": [1.7643391432496127, 8.551344535448088], \"type\": \"scatter3d\"}, {\"line\": {\"color\": \"black\", \"width\": 5}, \"marker\": {\"color\": \"blue\", \"size\": 2}, \"text\": [\"Spine1\"], \"x\": [1.2417609362399862, 0.565041], \"y\": [-3.6067707676583516, -3.79848], \"z\": [21.546763135361996, 17.5981], \"type\": \"scatter3d\"}, {\"line\": {\"color\": \"black\", \"width\": 5}, \"marker\": {\"color\": \"blue\", \"size\": 2}, \"text\": [\"Neck\"], \"x\": [2.1081214173549827, 1.2417609362399862], \"y\": [-3.237668018669725, -3.6067707676583516], \"z\": [25.218252112186786, 21.546763135361996], \"type\": \"scatter3d\"}, {\"line\": {\"color\": \"black\", \"width\": 5}, \"marker\": {\"color\": \"blue\", \"size\": 2}, \"text\": [\"Head\"], \"x\": [2.662482927847524, 2.1081214173549827], \"y\": [-3.1159416000779205, -3.237668018669725], \"z\": [26.905034003280665, 25.218252112186786], \"type\": \"scatter3d\"}, {\"line\": {\"color\": \"black\", \"width\": 5}, \"marker\": {\"color\": \"blue\", \"size\": 2}, \"text\": [\"Site\"], \"x\": [3.3652434100208386, 2.662482927847524], \"y\": [-3.228713494664406, -3.1159416000779205], \"z\": [28.53940926252893, 26.905034003280665], \"type\": \"scatter3d\"}, {\"line\": {\"color\": \"black\", \"width\": 5}, \"marker\": {\"color\": \"blue\", \"size\": 2}, \"text\": [\"LShoulder\"], \"x\": [1.8464508491723415, 2.1081214173549827], \"y\": [-0.004504432254380131, -3.237668018669725], \"z\": [24.661820627896212, 25.218252112186786], \"type\": \"scatter3d\"}, {\"line\": {\"color\": \"black\", \"width\": 5}, \"marker\": {\"color\": \"blue\", \"size\": 2}, \"text\": [\"LElbow\"], \"x\": [5.4268795448590055, 1.8464508491723415], \"y\": [-1.563283767735882, -0.004504432254380131], \"z\": [23.024615127802026, 24.661820627896212], \"type\": \"scatter3d\"}, {\"line\": {\"color\": \"black\", \"width\": 5}, \"marker\": {\"color\": \"blue\", \"size\": 2}, \"text\": [\"LWrist\"], \"x\": [6.084096624106573, 5.4268795448590055], \"y\": [-2.13388308091681, -1.563283767735882], \"z\": [24.648917168262095, 23.024615127802026], \"type\": \"scatter3d\"}, {\"line\": {\"color\": \"red\", \"width\": 5}, \"marker\": {\"color\": \"blue\", \"size\": 2}, \"text\": [\"RShoulder\"], \"x\": [1.5482164785108514, 2.1081214173549827], \"y\": [-6.450224216235835, -3.237668018669725], \"z\": [25.059448730527613, 25.218252112186786], \"type\": \"scatter3d\"}, {\"line\": {\"color\": \"red\", \"width\": 5}, \"marker\": {\"color\": \"blue\", \"size\": 2}, \"text\": [\"RElbow\"], \"x\": [3.3885538938582833, 1.5482164785108514], \"y\": [-6.55565740900359, -6.450224216235835], \"z\": [21.36182016084176, 25.059448730527613], \"type\": \"scatter3d\"}, {\"line\": {\"color\": \"red\", \"width\": 5}, \"marker\": {\"color\": \"blue\", \"size\": 2}, \"text\": [\"RWrist\"], \"x\": [4.676468291027943, 3.3885538938582833], \"y\": [-5.899828345051015, -6.55565740900359], \"z\": [22.460152356508534, 21.36182016084176], \"type\": \"scatter3d\"}, {\"line\": {\"color\": \"#1f77b4\", \"width\": 1}, \"marker\": {\"color\": \"#1f77b4\", \"size\": 1}, \"x\": [-7.68200201222643, -11.202351483965106, -10.955869104893946, -7.261455157517169, -6.696189981227148, -6.597702295821579, -6.51772886461975], \"y\": [3.4053156803910536, 3.729440580134272, 7.115938837216567, 6.2383953833599834, 6.738902405987771, 1.6798788535843796, 0.426703045092959], \"z\": [1.865911632557168, 2.0831814398599002, 2.4502047462026466, 3.600422432940081, 3.3586116742422365, 2.8752883654471493, 3.1498232277243945], \"type\": \"scatter3d\"}, {\"color\": \"#00FFFF\", \"x\": [-50, 50, -50, 50], \"y\": [-50, 50, 50, -50], \"z\": [0, 0, 0, 0], \"type\": \"mesh3d\"}], \"name\": \"frame8\"}, {\"data\": [{\"line\": {\"color\": \"red\", \"width\": 5}, \"marker\": {\"color\": \"blue\", \"size\": 2}, \"text\": [\"RHip\"], \"x\": [0.07988011238311282, -0.306669], \"y\": [-2.069394013315473, -0.567404], \"z\": [14.61583750771806, 16.6819], \"type\": \"scatter3d\"}, {\"line\": {\"color\": \"red\", \"width\": 5}, \"marker\": {\"color\": \"blue\", \"size\": 2}, \"text\": [\"RKnee\"], \"x\": [4.383585747968253, 0.07988011238311282], \"y\": [-3.0005996362286513, -2.069394013315473], \"z\": [8.641791583492287, 14.61583750771806], \"type\": \"scatter3d\"}, {\"line\": {\"color\": \"red\", \"width\": 5}, \"marker\": {\"color\": \"blue\", \"size\": 2}, \"text\": [\"RAnkle\"], \"x\": [-0.7970128046349325, 4.383585747968253], \"y\": [-5.457469816021779, -3.0005996362286513], \"z\": [2.7671204675596304, 8.641791583492287], \"type\": \"scatter3d\"}, {\"line\": {\"color\": \"black\", \"width\": 5}, \"marker\": {\"color\": \"blue\", \"size\": 2}, \"text\": [\"LHip\"], \"x\": [0.40560268362568935, -0.306669], \"y\": [1.0922800857764778, -0.567404], \"z\": [14.871218954909004, 16.6819], \"type\": \"scatter3d\"}, {\"line\": {\"color\": \"black\", \"width\": 5}, \"marker\": {\"color\": \"blue\", \"size\": 2}, \"text\": [\"LKnee\"], \"x\": [3.9973130652516677, 0.40560268362568935], \"y\": [1.9258911011472413, 1.0922800857764778], \"z\": [8.212277308915723, 14.871218954909004], \"type\": \"scatter3d\"}, {\"line\": {\"color\": \"black\", \"width\": 5}, \"marker\": {\"color\": \"blue\", \"size\": 2}, \"text\": [\"LAnkle\"], \"x\": [-0.7226237943758735, 3.9973130652516677], \"y\": [3.881979792799565, 1.9258911011472413], \"z\": [1.8960923621166996, 8.212277308915723], \"type\": \"scatter3d\"}, {\"line\": {\"color\": \"black\", \"width\": 5}, \"marker\": {\"color\": \"blue\", \"size\": 2}, \"text\": [\"Spine1\"], \"x\": [1.0116572712253489, -0.306669], \"y\": [-0.7414297565334358, -0.567404], \"z\": [20.453502447701023, 16.6819], \"type\": \"scatter3d\"}, {\"line\": {\"color\": \"black\", \"width\": 5}, \"marker\": {\"color\": \"blue\", \"size\": 2}, \"text\": [\"Neck\"], \"x\": [2.750523375487127, 1.0116572712253489], \"y\": [-1.1492215535907673, -0.7414297565334358], \"z\": [23.795900592286014, 20.453502447701023], \"type\": \"scatter3d\"}, {\"line\": {\"color\": \"black\", \"width\": 5}, \"marker\": {\"color\": \"blue\", \"size\": 2}, \"text\": [\"Head\"], \"x\": [3.6841869573750174, 2.750523375487127], \"y\": [-1.2962826722857175, -1.1492215535907673], \"z\": [25.303883515480262, 23.795900592286014], \"type\": \"scatter3d\"}, {\"line\": {\"color\": \"black\", \"width\": 5}, \"marker\": {\"color\": \"blue\", \"size\": 2}, \"text\": [\"Site\"], \"x\": [4.665762382895986, 3.6841869573750174], \"y\": [-1.6021011295962106, -1.2962826722857175], \"z\": [26.76016543830204, 25.303883515480262], \"type\": \"scatter3d\"}, {\"line\": {\"color\": \"black\", \"width\": 5}, \"marker\": {\"color\": \"blue\", \"size\": 2}, \"text\": [\"LShoulder\"], \"x\": [2.890748181493281, 2.750523375487127], \"y\": [2.283947232316394, -1.1492215535907673], \"z\": [23.672456819863953, 23.795900592286014], \"type\": \"scatter3d\"}, {\"line\": {\"color\": \"black\", \"width\": 5}, \"marker\": {\"color\": \"blue\", \"size\": 2}, \"text\": [\"LElbow\"], \"x\": [7.127486076761004, 2.890748181493281], \"y\": [0.19414244254489565, 2.283947232316394], \"z\": [22.72104733205455, 23.672456819863953], \"type\": \"scatter3d\"}, {\"line\": {\"color\": \"black\", \"width\": 5}, \"marker\": {\"color\": \"blue\", \"size\": 2}, \"text\": [\"LWrist\"], \"x\": [7.579100181780581, 7.127486076761004], \"y\": [-0.543363330693377, 0.19414244254489565], \"z\": [24.34831649193179, 22.72104733205455], \"type\": \"scatter3d\"}, {\"line\": {\"color\": \"red\", \"width\": 5}, \"marker\": {\"color\": \"blue\", \"size\": 2}, \"text\": [\"RShoulder\"], \"x\": [1.3505255731256431, 2.750523375487127], \"y\": [-3.9941796948412707, -1.1492215535907673], \"z\": [23.587651250311602, 23.795900592286014], \"type\": \"scatter3d\"}, {\"line\": {\"color\": \"red\", \"width\": 5}, \"marker\": {\"color\": \"blue\", \"size\": 2}, \"text\": [\"RElbow\"], \"x\": [5.93380957903893, 1.3505255731256431], \"y\": [-5.233190806332711, -3.9941796948412707], \"z\": [22.893381722901136, 23.587651250311602], \"type\": \"scatter3d\"}, {\"line\": {\"color\": \"red\", \"width\": 5}, \"marker\": {\"color\": \"blue\", \"size\": 2}, \"text\": [\"RWrist\"], \"x\": [6.228121655445078, 5.93380957903893], \"y\": [-4.912564062473618, -5.233190806332711], \"z\": [24.655694907441223, 22.893381722901136], \"type\": \"scatter3d\"}, {\"line\": {\"color\": \"#1f77b4\", \"width\": 1}, \"marker\": {\"color\": \"#1f77b4\", \"size\": 1}, \"x\": [-7.68200201222643, -11.202351483965106, -10.955869104893946, -7.261455157517169, -6.696189981227148, -6.597702295821579, -6.51772886461975, -3.8476915953707365], \"y\": [3.4053156803910536, 3.729440580134272, 7.115938837216567, 6.2383953833599834, 6.738902405987771, 1.6798788535843796, 0.426703045092959, -8.57887314276572], \"z\": [1.865911632557168, 2.0831814398599002, 2.4502047462026466, 3.600422432940081, 3.3586116742422365, 2.8752883654471493, 3.1498232277243945, 4.465394927147864], \"type\": \"scatter3d\"}, {\"color\": \"#00FFFF\", \"x\": [-50, 50, -50, 50], \"y\": [-50, 50, 50, -50], \"z\": [0, 0, 0, 0], \"type\": \"mesh3d\"}], \"name\": \"frame9\"}, {\"data\": [{\"line\": {\"color\": \"red\", \"width\": 5}, \"marker\": {\"color\": \"blue\", \"size\": 2}, \"text\": [\"RHip\"], \"x\": [-1.6487310252309757, -1.507], \"y\": [-3.124523737744936, -1.43312], \"z\": [15.32921838403951, 17.2768], \"type\": \"scatter3d\"}, {\"line\": {\"color\": \"red\", \"width\": 5}, \"marker\": {\"color\": \"blue\", \"size\": 2}, \"text\": [\"RKnee\"], \"x\": [0.7740152002094489, -1.6487310252309757], \"y\": [-4.5399769882770915, -3.124523737744936], \"z\": [8.45862571401874, 15.32921838403951], \"type\": \"scatter3d\"}, {\"line\": {\"color\": \"red\", \"width\": 5}, \"marker\": {\"color\": \"blue\", \"size\": 2}, \"text\": [\"RAnkle\"], \"x\": [-5.5020630048652315, 0.7740152002094489], \"y\": [-6.145413681234592, -4.5399769882770915], \"z\": [3.4168017828747113, 8.45862571401874], \"type\": \"scatter3d\"}, {\"line\": {\"color\": \"black\", \"width\": 5}, \"marker\": {\"color\": \"blue\", \"size\": 2}, \"text\": [\"LHip\"], \"x\": [-0.7844864462286291, -1.507], \"y\": [-0.05634769262848538, -1.43312], \"z\": [15.2463024646166, 17.2768], \"type\": \"scatter3d\"}, {\"line\": {\"color\": \"black\", \"width\": 5}, \"marker\": {\"color\": \"blue\", \"size\": 2}, \"text\": [\"LKnee\"], \"x\": [3.916544930997063, -0.7844864462286291], \"y\": [-1.225744413745118, -0.05634769262848538], \"z\": [9.375219946532546, 15.2463024646166], \"type\": \"scatter3d\"}, {\"line\": {\"color\": \"black\", \"width\": 5}, \"marker\": {\"color\": \"blue\", \"size\": 2}, \"text\": [\"LAnkle\"], \"x\": [1.3041369417843818, 3.916544930997063], \"y\": [-4.42937727762805, -1.225744413745118], \"z\": [2.3816271515523884, 9.375219946532546], \"type\": \"scatter3d\"}, {\"line\": {\"color\": \"black\", \"width\": 5}, \"marker\": {\"color\": \"blue\", \"size\": 2}, \"text\": [\"Spine1\"], \"x\": [0.17468909765137353, -1.507], \"y\": [-1.9152083511489573, -1.43312], \"z\": [20.86897714028629, 17.2768], \"type\": \"scatter3d\"}, {\"line\": {\"color\": \"black\", \"width\": 5}, \"marker\": {\"color\": \"blue\", \"size\": 2}, \"text\": [\"Neck\"], \"x\": [2.2940067426475337, 0.17468909765137353], \"y\": [-2.0611034665911445, -1.9152083511489573], \"z\": [24.002263393223764, 20.86897714028629], \"type\": \"scatter3d\"}, {\"line\": {\"color\": \"black\", \"width\": 5}, \"marker\": {\"color\": \"blue\", \"size\": 2}, \"text\": [\"Head\"], \"x\": [3.254904157845983, 2.2940067426475337], \"y\": [-2.0942878688995923, -2.0611034665911445], \"z\": [25.499908914142974, 24.002263393223764], \"type\": \"scatter3d\"}, {\"line\": {\"color\": \"black\", \"width\": 5}, \"marker\": {\"color\": \"blue\", \"size\": 2}, \"text\": [\"Site\"], \"x\": [4.249120634027901, 3.254904157845983], \"y\": [-2.3424201304341103, -2.0942878688995923], \"z\": [26.958585116331147, 25.499908914142974], \"type\": \"scatter3d\"}, {\"line\": {\"color\": \"black\", \"width\": 5}, \"marker\": {\"color\": \"blue\", \"size\": 2}, \"text\": [\"LShoulder\"], \"x\": [2.4442682191545035, 2.2940067426475337], \"y\": [1.187947258204626, -2.0611034665911445], \"z\": [23.74386699889913, 24.002263393223764], \"type\": \"scatter3d\"}, {\"line\": {\"color\": \"black\", \"width\": 5}, \"marker\": {\"color\": \"blue\", \"size\": 2}, \"text\": [\"LElbow\"], \"x\": [6.720597817674204, 2.4442682191545035], \"y\": [-0.36193265854268963, 1.187947258204626], \"z\": [22.6623216523015, 23.74386699889913], \"type\": \"scatter3d\"}, {\"line\": {\"color\": \"black\", \"width\": 5}, \"marker\": {\"color\": \"blue\", \"size\": 2}, \"text\": [\"LWrist\"], \"x\": [7.279944506518443, 6.720597817674204], \"y\": [-0.9764896273831586, -0.36193265854268963], \"z\": [24.30710917591317, 22.6623216523015], \"type\": \"scatter3d\"}, {\"line\": {\"color\": \"red\", \"width\": 5}, \"marker\": {\"color\": \"blue\", \"size\": 2}, \"text\": [\"RShoulder\"], \"x\": [1.0070443551770596, 2.2940067426475337], \"y\": [-5.111096570319728, -2.0611034665911445], \"z\": [23.969232907144015, 24.002263393223764], \"type\": \"scatter3d\"}, {\"line\": {\"color\": \"red\", \"width\": 5}, \"marker\": {\"color\": \"blue\", \"size\": 2}, \"text\": [\"RElbow\"], \"x\": [5.692176346679401, 1.0070443551770596], \"y\": [-5.62378370569462, -5.111096570319728], \"z\": [22.826702662733013, 23.969232907144015], \"type\": \"scatter3d\"}, {\"line\": {\"color\": \"red\", \"width\": 5}, \"marker\": {\"color\": \"blue\", \"size\": 2}, \"text\": [\"RWrist\"], \"x\": [6.116947207046354, 5.692176346679401], \"y\": [-5.33212323391928, -5.62378370569462], \"z\": [24.567298179499304, 22.826702662733013], \"type\": \"scatter3d\"}, {\"line\": {\"color\": \"#1f77b4\", \"width\": 1}, \"marker\": {\"color\": \"#1f77b4\", \"size\": 1}, \"x\": [-7.68200201222643, -11.202351483965106, -10.955869104893946, -7.261455157517169, -6.696189981227148, -6.597702295821579, -6.51772886461975, -3.8476915953707365, -0.7970128046349325], \"y\": [3.4053156803910536, 3.729440580134272, 7.115938837216567, 6.2383953833599834, 6.738902405987771, 1.6798788535843796, 0.426703045092959, -8.57887314276572, -5.457469816021779], \"z\": [1.865911632557168, 2.0831814398599002, 2.4502047462026466, 3.600422432940081, 3.3586116742422365, 2.8752883654471493, 3.1498232277243945, 4.465394927147864, 2.7671204675596304], \"type\": \"scatter3d\"}, {\"color\": \"#00FFFF\", \"x\": [-50, 50, -50, 50], \"y\": [-50, 50, 50, -50], \"z\": [0, 0, 0, 0], \"type\": \"mesh3d\"}], \"name\": \"frame10\"}, {\"data\": [{\"line\": {\"color\": \"red\", \"width\": 5}, \"marker\": {\"color\": \"blue\", \"size\": 2}, \"text\": [\"RHip\"], \"x\": [-1.6947430609973022, -0.879051], \"y\": [-1.1635491867814474, 0.0885223], \"z\": [15.796838642279708, 17.9042], \"type\": \"scatter3d\"}, {\"line\": {\"color\": \"red\", \"width\": 5}, \"marker\": {\"color\": \"blue\", \"size\": 2}, \"text\": [\"RKnee\"], \"x\": [0.483564665631798, -1.6947430609973022], \"y\": [-4.405144745128723, -1.1635491867814474], \"z\": [9.48611091095726, 15.796838642279708], \"type\": \"scatter3d\"}, {\"line\": {\"color\": \"red\", \"width\": 5}, \"marker\": {\"color\": \"blue\", \"size\": 2}, \"text\": [\"RAnkle\"], \"x\": [-4.462829338330973, 0.483564665631798], \"y\": [-2.651627769211558, -4.405144745128723], \"z\": [3.173826242416413, 9.48611091095726], \"type\": \"scatter3d\"}, {\"line\": {\"color\": \"black\", \"width\": 5}, \"marker\": {\"color\": \"blue\", \"size\": 2}, \"text\": [\"LHip\"], \"x\": [0.6350872827193186, -0.879051], \"y\": [0.9981323704532734, 0.0885223], \"z\": [16.05475607182584, 17.9042], \"type\": \"scatter3d\"}, {\"line\": {\"color\": \"black\", \"width\": 5}, \"marker\": {\"color\": \"blue\", \"size\": 2}, \"text\": [\"LKnee\"], \"x\": [4.166572638837864, 0.6350872827193186], \"y\": [0.05523347609818796, 0.9981323704532734], \"z\": [9.37820400584783, 16.05475607182584], \"type\": \"scatter3d\"}, {\"line\": {\"color\": \"black\", \"width\": 5}, \"marker\": {\"color\": \"blue\", \"size\": 2}, \"text\": [\"LAnkle\"], \"x\": [1.6936057675625125, 4.166572638837864], \"y\": [4.703123262895883, 0.05523347609818796], \"z\": [3.191134053600024, 9.37820400584783], \"type\": \"scatter3d\"}, {\"line\": {\"color\": \"black\", \"width\": 5}, \"marker\": {\"color\": \"blue\", \"size\": 2}, \"text\": [\"Spine1\"], \"x\": [0.04466692856983501, -0.879051], \"y\": [-0.9679143958728931, 0.0885223], \"z\": [21.64954280134062, 17.9042], \"type\": \"scatter3d\"}, {\"line\": {\"color\": \"black\", \"width\": 5}, \"marker\": {\"color\": \"blue\", \"size\": 2}, \"text\": [\"Neck\"], \"x\": [1.5868590633221968, 0.04466692856983501], \"y\": [-1.6581409133294367, -0.9679143958728931], \"z\": [25.042408633116768, 21.64954280134062], \"type\": \"scatter3d\"}, {\"line\": {\"color\": \"black\", \"width\": 5}, \"marker\": {\"color\": \"blue\", \"size\": 2}, \"text\": [\"Head\"], \"x\": [2.3093092094771714, 1.5868590633221968], \"y\": [-1.856835517586365, -1.6581409133294367], \"z\": [26.656705196323433, 25.042408633116768], \"type\": \"scatter3d\"}, {\"line\": {\"color\": \"black\", \"width\": 5}, \"marker\": {\"color\": \"blue\", \"size\": 2}, \"text\": [\"Site\"], \"x\": [3.005664179926332, 2.3093092094771714], \"y\": [-2.2583124640791366, -1.856835517586365], \"z\": [28.247830050042186, 26.656705196323433], \"type\": \"scatter3d\"}, {\"line\": {\"color\": \"black\", \"width\": 5}, \"marker\": {\"color\": \"blue\", \"size\": 2}, \"text\": [\"LShoulder\"], \"x\": [3.216872719607839, 1.5868590633221968], \"y\": [1.1626764935538694, -1.6581409133294367], \"z\": [24.555269681998386, 25.042408633116768], \"type\": \"scatter3d\"}, {\"line\": {\"color\": \"black\", \"width\": 5}, \"marker\": {\"color\": \"blue\", \"size\": 2}, \"text\": [\"LElbow\"], \"x\": [7.010772630458279, 3.216872719607839], \"y\": [-0.7914829089052684, 1.1626764935538694], \"z\": [24.163184208217583, 24.555269681998386], \"type\": \"scatter3d\"}, {\"line\": {\"color\": \"black\", \"width\": 5}, \"marker\": {\"color\": \"blue\", \"size\": 2}, \"text\": [\"LWrist\"], \"x\": [6.963954336453258, 7.010772630458279], \"y\": [-1.5715244882859682, -0.7914829089052684], \"z\": [25.83208149861137, 24.163184208217583], \"type\": \"scatter3d\"}, {\"line\": {\"color\": \"red\", \"width\": 5}, \"marker\": {\"color\": \"blue\", \"size\": 2}, \"text\": [\"RShoulder\"], \"x\": [-0.8224959053277001, 1.5868590633221968], \"y\": [-3.863113606120443, -1.6581409133294367], \"z\": [25.02355417603818, 25.042408633116768], \"type\": \"scatter3d\"}, {\"line\": {\"color\": \"red\", \"width\": 5}, \"marker\": {\"color\": \"blue\", \"size\": 2}, \"text\": [\"RElbow\"], \"x\": [2.4555564943567227, -0.8224959053277001], \"y\": [-4.820980197669793, -3.863113606120443], \"z\": [21.520030649929428, 25.02355417603818], \"type\": \"scatter3d\"}, {\"line\": {\"color\": \"red\", \"width\": 5}, \"marker\": {\"color\": \"blue\", \"size\": 2}, \"text\": [\"RWrist\"], \"x\": [3.785590407856996, 2.4555564943567227], \"y\": [-4.730504057054546, -4.820980197669793], \"z\": [22.752099123886342, 21.520030649929428], \"type\": \"scatter3d\"}, {\"line\": {\"color\": \"#1f77b4\", \"width\": 1}, \"marker\": {\"color\": \"#1f77b4\", \"size\": 1}, \"x\": [-7.68200201222643, -11.202351483965106, -10.955869104893946, -7.261455157517169, -6.696189981227148, -6.597702295821579, -6.51772886461975, -3.8476915953707365, -0.7970128046349325, -5.5020630048652315], \"y\": [3.4053156803910536, 3.729440580134272, 7.115938837216567, 6.2383953833599834, 6.738902405987771, 1.6798788535843796, 0.426703045092959, -8.57887314276572, -5.457469816021779, -6.145413681234592], \"z\": [1.865911632557168, 2.0831814398599002, 2.4502047462026466, 3.600422432940081, 3.3586116742422365, 2.8752883654471493, 3.1498232277243945, 4.465394927147864, 2.7671204675596304, 3.4168017828747113], \"type\": \"scatter3d\"}, {\"color\": \"#00FFFF\", \"x\": [-50, 50, -50, 50], \"y\": [-50, 50, 50, -50], \"z\": [0, 0, 0, 0], \"type\": \"mesh3d\"}], \"name\": \"frame11\"}, {\"data\": [{\"line\": {\"color\": \"red\", \"width\": 5}, \"marker\": {\"color\": \"blue\", \"size\": 2}, \"text\": [\"RHip\"], \"x\": [4.330106381652748, 2.85383], \"y\": [-0.13738410148460045, 1.38567], \"z\": [15.371838091309973, 16.8466], \"type\": \"scatter3d\"}, {\"line\": {\"color\": \"red\", \"width\": 5}, \"marker\": {\"color\": \"blue\", \"size\": 2}, \"text\": [\"RKnee\"], \"x\": [5.166346352361967, 4.330106381652748], \"y\": [-2.1611632361434996, -0.13738410148460045], \"z\": [8.280768246767579, 15.371838091309973], \"type\": \"scatter3d\"}, {\"line\": {\"color\": \"red\", \"width\": 5}, \"marker\": {\"color\": \"blue\", \"size\": 2}, \"text\": [\"RAnkle\"], \"x\": [2.1426985093789725, 5.166346352361967], \"y\": [-7.988855680680584, -2.1611632361434996], \"z\": [3.3530783562129756, 8.280768246767579], \"type\": \"scatter3d\"}, {\"line\": {\"color\": \"black\", \"width\": 5}, \"marker\": {\"color\": \"blue\", \"size\": 2}, \"text\": [\"LHip\"], \"x\": [2.5104379444225953, 2.85383], \"y\": [2.3298100399573842, 1.38567], \"z\": [14.4947646435088, 16.8466], \"type\": \"scatter3d\"}, {\"line\": {\"color\": \"black\", \"width\": 5}, \"marker\": {\"color\": \"blue\", \"size\": 2}, \"text\": [\"LKnee\"], \"x\": [6.937814631693552, 2.5104379444225953], \"y\": [6.240416783930389, 2.3298100399573842], \"z\": [9.694526607934575, 14.4947646435088], \"type\": \"scatter3d\"}, {\"line\": {\"color\": \"black\", \"width\": 5}, \"marker\": {\"color\": \"blue\", \"size\": 2}, \"text\": [\"LAnkle\"], \"x\": [6.294465802176363, 6.937814631693552], \"y\": [5.804770626082693, 6.240416783930389], \"z\": [1.6078342112025954, 9.694526607934575], \"type\": \"scatter3d\"}, {\"line\": {\"color\": \"black\", \"width\": 5}, \"marker\": {\"color\": \"blue\", \"size\": 2}, \"text\": [\"Spine1\"], \"x\": [3.4422408183223934, 2.85383], \"y\": [3.1008881409068287, 1.38567], \"z\": [20.414404943639703, 16.8466], \"type\": \"scatter3d\"}, {\"line\": {\"color\": \"black\", \"width\": 5}, \"marker\": {\"color\": \"blue\", \"size\": 2}, \"text\": [\"Neck\"], \"x\": [4.040818691156798, 3.4422408183223934], \"y\": [5.334201020480544, 3.1008881409068287], \"z\": [23.41714570407838, 20.414404943639703], \"type\": \"scatter3d\"}, {\"line\": {\"color\": \"black\", \"width\": 5}, \"marker\": {\"color\": \"blue\", \"size\": 2}, \"text\": [\"Head\"], \"x\": [4.793666958695125, 4.040818691156798], \"y\": [6.023302086949632, 5.334201020480544], \"z\": [24.87513279581709, 23.41714570407838], \"type\": \"scatter3d\"}, {\"line\": {\"color\": \"black\", \"width\": 5}, \"marker\": {\"color\": \"blue\", \"size\": 2}, \"text\": [\"Site\"], \"x\": [5.825390961185887, 4.793666958695125], \"y\": [6.420436371308637, 6.023302086949632], \"z\": [26.27356128037647, 24.87513279581709], \"type\": \"scatter3d\"}, {\"line\": {\"color\": \"black\", \"width\": 5}, \"marker\": {\"color\": \"blue\", \"size\": 2}, \"text\": [\"LShoulder\"], \"x\": [1.2844082401469188, 4.040818691156798], \"y\": [6.943182511176571, 5.334201020480544], \"z\": [22.318634016135587, 23.41714570407838], \"type\": \"scatter3d\"}, {\"line\": {\"color\": \"black\", \"width\": 5}, \"marker\": {\"color\": \"blue\", \"size\": 2}, \"text\": [\"LElbow\"], \"x\": [4.529664380838726, 1.2844082401469188], \"y\": [7.216473399992521, 6.943182511176571], \"z\": [20.16579151948833, 22.318634016135587], \"type\": \"scatter3d\"}, {\"line\": {\"color\": \"black\", \"width\": 5}, \"marker\": {\"color\": \"blue\", \"size\": 2}, \"text\": [\"LWrist\"], \"x\": [5.505551592516025, 4.529664380838726], \"y\": [7.462794797538845, 7.216473399992521], \"z\": [21.709438144624905, 20.16579151948833], \"type\": \"scatter3d\"}, {\"line\": {\"color\": \"red\", \"width\": 5}, \"marker\": {\"color\": \"blue\", \"size\": 2}, \"text\": [\"RShoulder\"], \"x\": [5.870792640080971, 4.040818691156798], \"y\": [2.8056746945838738, 5.334201020480544], \"z\": [24.22663364536301, 23.41714570407838], \"type\": \"scatter3d\"}, {\"line\": {\"color\": \"red\", \"width\": 5}, \"marker\": {\"color\": \"blue\", \"size\": 2}, \"text\": [\"RElbow\"], \"x\": [13.278146952360279, 5.870792640080971], \"y\": [3.14528788895472, 2.8056746945838738], \"z\": [22.17181572625298, 24.22663364536301], \"type\": \"scatter3d\"}, {\"line\": {\"color\": \"red\", \"width\": 5}, \"marker\": {\"color\": \"blue\", \"size\": 2}, \"text\": [\"RWrist\"], \"x\": [14.503808366154617, 13.278146952360279], \"y\": [4.434554342841718, 3.14528788895472], \"z\": [22.533360989280045, 22.17181572625298], \"type\": \"scatter3d\"}, {\"line\": {\"color\": \"#1f77b4\", \"width\": 1}, \"marker\": {\"color\": \"#1f77b4\", \"size\": 1}, \"x\": [-7.68200201222643, -11.202351483965106, -10.955869104893946, -7.261455157517169, -6.696189981227148, -6.597702295821579, -6.51772886461975, -3.8476915953707365, -0.7970128046349325, -5.5020630048652315, -4.462829338330973], \"y\": [3.4053156803910536, 3.729440580134272, 7.115938837216567, 6.2383953833599834, 6.738902405987771, 1.6798788535843796, 0.426703045092959, -8.57887314276572, -5.457469816021779, -6.145413681234592, -2.651627769211558], \"z\": [1.865911632557168, 2.0831814398599002, 2.4502047462026466, 3.600422432940081, 3.3586116742422365, 2.8752883654471493, 3.1498232277243945, 4.465394927147864, 2.7671204675596304, 3.4168017828747113, 3.173826242416413], \"type\": \"scatter3d\"}, {\"color\": \"#00FFFF\", \"x\": [-50, 50, -50, 50], \"y\": [-50, 50, 50, -50], \"z\": [0, 0, 0, 0], \"type\": \"mesh3d\"}], \"name\": \"frame12\"}, {\"data\": [{\"line\": {\"color\": \"red\", \"width\": 5}, \"marker\": {\"color\": \"blue\", \"size\": 2}, \"text\": [\"RHip\"], \"x\": [-0.5034998047863785, 0.787089], \"y\": [1.7674062371508845, 2.79336], \"z\": [15.070778721554408, 17.0597], \"type\": \"scatter3d\"}, {\"line\": {\"color\": \"red\", \"width\": 5}, \"marker\": {\"color\": \"blue\", \"size\": 2}, \"text\": [\"RKnee\"], \"x\": [-1.320384239790283, -0.5034998047863785], \"y\": [-0.6365794062491346, 1.7674062371508845], \"z\": [8.09712805200937, 15.070778721554408], \"type\": \"scatter3d\"}, {\"line\": {\"color\": \"red\", \"width\": 5}, \"marker\": {\"color\": \"blue\", \"size\": 2}, \"text\": [\"RAnkle\"], \"x\": [-6.550621684435969, -1.320384239790283], \"y\": [1.322022686032784, -0.6365794062491346], \"z\": [2.08089440622238, 8.09712805200937], \"type\": \"scatter3d\"}, {\"line\": {\"color\": \"black\", \"width\": 5}, \"marker\": {\"color\": \"blue\", \"size\": 2}, \"text\": [\"LHip\"], \"x\": [2.494505403001353, 0.787089], \"y\": [2.850044375141962, 2.79336], \"z\": [15.15655413819561, 17.0597], \"type\": \"scatter3d\"}, {\"line\": {\"color\": \"black\", \"width\": 5}, \"marker\": {\"color\": \"blue\", \"size\": 2}, \"text\": [\"LKnee\"], \"x\": [6.469732428472504, 2.494505403001353], \"y\": [1.8567310005485957, 2.850044375141962], \"z\": [8.741907361405111, 15.15655413819561], \"type\": \"scatter3d\"}, {\"line\": {\"color\": \"black\", \"width\": 5}, \"marker\": {\"color\": \"blue\", \"size\": 2}, \"text\": [\"LAnkle\"], \"x\": [8.624919878261124, 6.469732428472504], \"y\": [6.260711243063564, 1.8567310005485957], \"z\": [2.264376636625582, 8.741907361405111], \"type\": \"scatter3d\"}, {\"line\": {\"color\": \"black\", \"width\": 5}, \"marker\": {\"color\": \"blue\", \"size\": 2}, \"text\": [\"Spine1\"], \"x\": [1.2396149707914614, 0.787089], \"y\": [1.9453154224912508, 2.79336], \"z\": [20.94935886308439, 17.0597], \"type\": \"scatter3d\"}, {\"line\": {\"color\": \"black\", \"width\": 5}, \"marker\": {\"color\": \"blue\", \"size\": 2}, \"text\": [\"Neck\"], \"x\": [1.789548065260915, 1.2396149707914614], \"y\": [1.0042346420973902, 1.9453154224912508], \"z\": [24.591592075306686, 20.94935886308439], \"type\": \"scatter3d\"}, {\"line\": {\"color\": \"black\", \"width\": 5}, \"marker\": {\"color\": \"blue\", \"size\": 2}, \"text\": [\"Head\"], \"x\": [2.2933075181696743, 1.789548065260915], \"y\": [0.7802713166095849, 1.0042346420973902], \"z\": [26.28376050541715, 24.591592075306686], \"type\": \"scatter3d\"}, {\"line\": {\"color\": \"black\", \"width\": 5}, \"marker\": {\"color\": \"blue\", \"size\": 2}, \"text\": [\"Site\"], \"x\": [2.911434934807249, 2.2933075181696743], \"y\": [0.4541300496017408, 0.7802713166095849], \"z\": [27.92367594662484, 26.28376050541715], \"type\": \"scatter3d\"}, {\"line\": {\"color\": \"black\", \"width\": 5}, \"marker\": {\"color\": \"blue\", \"size\": 2}, \"text\": [\"LShoulder\"], \"x\": [4.733375213581688, 1.789548065260915], \"y\": [3.0051237866679443, 1.0042346420973902], \"z\": [24.066408978321547, 24.591592075306686], \"type\": \"scatter3d\"}, {\"line\": {\"color\": \"black\", \"width\": 5}, \"marker\": {\"color\": \"blue\", \"size\": 2}, \"text\": [\"LElbow\"], \"x\": [9.049249352898572, 4.733375213581688], \"y\": [2.589184524775228, 3.0051237866679443], \"z\": [23.02427453143649, 24.066408978321547], \"type\": \"scatter3d\"}, {\"line\": {\"color\": \"black\", \"width\": 5}, \"marker\": {\"color\": \"blue\", \"size\": 2}, \"text\": [\"LWrist\"], \"x\": [9.250067216461623, 9.049249352898572], \"y\": [0.8284920686836685, 2.589184524775228], \"z\": [23.529753754388572, 23.02427453143649], \"type\": \"scatter3d\"}, {\"line\": {\"color\": \"red\", \"width\": 5}, \"marker\": {\"color\": \"blue\", \"size\": 2}, \"text\": [\"RShoulder\"], \"x\": [-0.9983922483082861, 1.789548065260915], \"y\": [0.032713080917976534, 1.0042346420973902], \"z\": [24.391941988350297, 24.591592075306686], \"type\": \"scatter3d\"}, {\"line\": {\"color\": \"red\", \"width\": 5}, \"marker\": {\"color\": \"blue\", \"size\": 2}, \"text\": [\"RElbow\"], \"x\": [0.22313058802722763, -0.9983922483082861], \"y\": [-1.9053472630389579, 0.032713080917976534], \"z\": [20.628796612511067, 24.391941988350297], \"type\": \"scatter3d\"}, {\"line\": {\"color\": \"red\", \"width\": 5}, \"marker\": {\"color\": \"blue\", \"size\": 2}, \"text\": [\"RWrist\"], \"x\": [1.5750318964592522, 0.22313058802722763], \"y\": [-2.498137661207227, -1.9053472630389579], \"z\": [21.685267749693377, 20.628796612511067], \"type\": \"scatter3d\"}, {\"line\": {\"color\": \"#1f77b4\", \"width\": 1}, \"marker\": {\"color\": \"#1f77b4\", \"size\": 1}, \"x\": [-7.68200201222643, -11.202351483965106, -10.955869104893946, -7.261455157517169, -6.696189981227148, -6.597702295821579, -6.51772886461975, -3.8476915953707365, -0.7970128046349325, -5.5020630048652315, -4.462829338330973, 2.1426985093789725], \"y\": [3.4053156803910536, 3.729440580134272, 7.115938837216567, 6.2383953833599834, 6.738902405987771, 1.6798788535843796, 0.426703045092959, -8.57887314276572, -5.457469816021779, -6.145413681234592, -2.651627769211558, -7.988855680680584], \"z\": [1.865911632557168, 2.0831814398599002, 2.4502047462026466, 3.600422432940081, 3.3586116742422365, 2.8752883654471493, 3.1498232277243945, 4.465394927147864, 2.7671204675596304, 3.4168017828747113, 3.173826242416413, 3.3530783562129756], \"type\": \"scatter3d\"}, {\"color\": \"#00FFFF\", \"x\": [-50, 50, -50, 50], \"y\": [-50, 50, 50, -50], \"z\": [0, 0, 0, 0], \"type\": \"mesh3d\"}], \"name\": \"frame13\"}, {\"data\": [{\"line\": {\"color\": \"red\", \"width\": 5}, \"marker\": {\"color\": \"blue\", \"size\": 2}, \"text\": [\"RHip\"], \"x\": [3.4250877224060257, 2.80158], \"y\": [4.200730835538191, 5.38183], \"z\": [13.15920873606557, 15.3706], \"type\": \"scatter3d\"}, {\"line\": {\"color\": \"red\", \"width\": 5}, \"marker\": {\"color\": \"blue\", \"size\": 2}, \"text\": [\"RKnee\"], \"x\": [3.0920060561069573, 3.4250877224060257], \"y\": [2.8831465316625424, 4.200730835538191], \"z\": [5.863231829548736, 13.15920873606557], \"type\": \"scatter3d\"}, {\"line\": {\"color\": \"red\", \"width\": 5}, \"marker\": {\"color\": \"blue\", \"size\": 2}, \"text\": [\"RAnkle\"], \"x\": [-4.382364421867683, 3.0920060561069573], \"y\": [0.4111020926919453, 2.8831465316625424], \"z\": [3.537429728401681, 5.863231829548736], \"type\": \"scatter3d\"}, {\"line\": {\"color\": \"black\", \"width\": 5}, \"marker\": {\"color\": \"blue\", \"size\": 2}, \"text\": [\"LHip\"], \"x\": [3.5752951192322637, 2.80158], \"y\": [7.304894655863658, 5.38183], \"z\": [13.872723066949128, 15.3706], \"type\": \"scatter3d\"}, {\"line\": {\"color\": \"black\", \"width\": 5}, \"marker\": {\"color\": \"blue\", \"size\": 2}, \"text\": [\"LKnee\"], \"x\": [9.512559111695374, 3.5752951192322637], \"y\": [6.969651539893477, 7.304894655863658], \"z\": [9.121586048069688, 13.872723066949128], \"type\": \"scatter3d\"}, {\"line\": {\"color\": \"black\", \"width\": 5}, \"marker\": {\"color\": \"blue\", \"size\": 2}, \"text\": [\"LAnkle\"], \"x\": [7.6743636868242024, 9.512559111695374], \"y\": [8.686867507484516, 6.969651539893477], \"z\": [1.3969186693870022, 9.121586048069688], \"type\": \"scatter3d\"}, {\"line\": {\"color\": \"black\", \"width\": 5}, \"marker\": {\"color\": \"blue\", \"size\": 2}, \"text\": [\"Spine1\"], \"x\": [3.8014766908070956, 2.80158], \"y\": [3.5155820068040047, 5.38183], \"z\": [18.738926309816566, 15.3706], \"type\": \"scatter3d\"}, {\"line\": {\"color\": \"black\", \"width\": 5}, \"marker\": {\"color\": \"blue\", \"size\": 2}, \"text\": [\"Neck\"], \"x\": [5.466491413223574, 3.8014766908070956], \"y\": [1.4311192496730656, 3.5155820068040047], \"z\": [21.43284520852717, 18.738926309816566], \"type\": \"scatter3d\"}, {\"line\": {\"color\": \"black\", \"width\": 5}, \"marker\": {\"color\": \"blue\", \"size\": 2}, \"text\": [\"Head\"], \"x\": [6.771101812660438, 5.466491413223574], \"y\": [0.9481649444579039, 1.4311192496730656], \"z\": [22.542851513994094, 21.43284520852717], \"type\": \"scatter3d\"}, {\"line\": {\"color\": \"black\", \"width\": 5}, \"marker\": {\"color\": \"blue\", \"size\": 2}, \"text\": [\"Site\"], \"x\": [8.244373448113102, 6.771101812660438], \"y\": [0.5455138309060104, 0.9481649444579039], \"z\": [23.46215290770673, 22.542851513994094], \"type\": \"scatter3d\"}, {\"line\": {\"color\": \"black\", \"width\": 5}, \"marker\": {\"color\": \"blue\", \"size\": 2}, \"text\": [\"LShoulder\"], \"x\": [4.861585408705022, 5.466491413223574], \"y\": [4.295555457958576, 1.4311192496730656], \"z\": [23.355566510818946, 21.43284520852717], \"type\": \"scatter3d\"}, {\"line\": {\"color\": \"black\", \"width\": 5}, \"marker\": {\"color\": \"blue\", \"size\": 2}, \"text\": [\"LElbow\"], \"x\": [6.379105153938751, 4.861585408705022], \"y\": [6.932084197854094, 4.295555457958576], \"z\": [21.164045584540787, 23.355566510818946], \"type\": \"scatter3d\"}, {\"line\": {\"color\": \"black\", \"width\": 5}, \"marker\": {\"color\": \"blue\", \"size\": 2}, \"text\": [\"LWrist\"], \"x\": [7.993739128238612, 6.379105153938751], \"y\": [6.089039552820615, 6.932084197854094], \"z\": [21.44352338261607, 21.164045584540787], \"type\": \"scatter3d\"}, {\"line\": {\"color\": \"red\", \"width\": 5}, \"marker\": {\"color\": \"blue\", \"size\": 2}, \"text\": [\"RShoulder\"], \"x\": [4.7115411912618805, 5.466491413223574], \"y\": [-0.8625603428369035, 1.4311192496730656], \"z\": [19.46125225798162, 21.43284520852717], \"type\": \"scatter3d\"}, {\"line\": {\"color\": \"red\", \"width\": 5}, \"marker\": {\"color\": \"blue\", \"size\": 2}, \"text\": [\"RElbow\"], \"x\": [4.212762438212554, 4.7115411912618805], \"y\": [-0.3551561885775991, -0.8625603428369035], \"z\": [11.154197423017287, 19.46125225798162], \"type\": \"scatter3d\"}, {\"line\": {\"color\": \"red\", \"width\": 5}, \"marker\": {\"color\": \"blue\", \"size\": 2}, \"text\": [\"RWrist\"], \"x\": [5.1246573314049275, 4.212762438212554], \"y\": [-0.939371495787744, -0.3551561885775991], \"z\": [9.697382731235582, 11.154197423017287], \"type\": \"scatter3d\"}, {\"line\": {\"color\": \"#1f77b4\", \"width\": 1}, \"marker\": {\"color\": \"#1f77b4\", \"size\": 1}, \"x\": [-7.68200201222643, -11.202351483965106, -10.955869104893946, -7.261455157517169, -6.696189981227148, -6.597702295821579, -6.51772886461975, -3.8476915953707365, -0.7970128046349325, -5.5020630048652315, -4.462829338330973, 2.1426985093789725, -6.550621684435969], \"y\": [3.4053156803910536, 3.729440580134272, 7.115938837216567, 6.2383953833599834, 6.738902405987771, 1.6798788535843796, 0.426703045092959, -8.57887314276572, -5.457469816021779, -6.145413681234592, -2.651627769211558, -7.988855680680584, 1.322022686032784], \"z\": [1.865911632557168, 2.0831814398599002, 2.4502047462026466, 3.600422432940081, 3.3586116742422365, 2.8752883654471493, 3.1498232277243945, 4.465394927147864, 2.7671204675596304, 3.4168017828747113, 3.173826242416413, 3.3530783562129756, 2.08089440622238], \"type\": \"scatter3d\"}, {\"color\": \"#00FFFF\", \"x\": [-50, 50, -50, 50], \"y\": [-50, 50, 50, -50], \"z\": [0, 0, 0, 0], \"type\": \"mesh3d\"}], \"name\": \"frame14\"}, {\"data\": [{\"line\": {\"color\": \"red\", \"width\": 5}, \"marker\": {\"color\": \"blue\", \"size\": 2}, \"text\": [\"RHip\"], \"x\": [-0.797376925863199, -0.129777], \"y\": [3.633638210638597, 5.05384], \"z\": [14.469143657300945, 16.5213], \"type\": \"scatter3d\"}, {\"line\": {\"color\": \"red\", \"width\": 5}, \"marker\": {\"color\": \"blue\", \"size\": 2}, \"text\": [\"RKnee\"], \"x\": [-0.6686501287504325, -0.797376925863199], \"y\": [1.0973655644984461, 3.633638210638597], \"z\": [7.495693916260481, 14.469143657300945], \"type\": \"scatter3d\"}, {\"line\": {\"color\": \"red\", \"width\": 5}, \"marker\": {\"color\": \"blue\", \"size\": 2}, \"text\": [\"RAnkle\"], \"x\": [-6.238933645893352, -0.6686501287504325], \"y\": [3.3084733072069357, 1.0973655644984461], \"z\": [1.885924112360784, 7.495693916260481], \"type\": \"scatter3d\"}, {\"line\": {\"color\": \"black\", \"width\": 5}, \"marker\": {\"color\": \"blue\", \"size\": 2}, \"text\": [\"LHip\"], \"x\": [1.524267917226744, -0.129777], \"y\": [5.8048058974703505, 5.05384], \"z\": [14.721123982061917, 16.5213], \"type\": \"scatter3d\"}, {\"line\": {\"color\": \"black\", \"width\": 5}, \"marker\": {\"color\": \"blue\", \"size\": 2}, \"text\": [\"LKnee\"], \"x\": [6.711613924864345, 1.524267917226744], \"y\": [4.672263567009161, 5.8048058974703505], \"z\": [9.267172762814463, 14.721123982061917], \"type\": \"scatter3d\"}, {\"line\": {\"color\": \"black\", \"width\": 5}, \"marker\": {\"color\": \"blue\", \"size\": 2}, \"text\": [\"LAnkle\"], \"x\": [4.645351824754977, 6.711613924864345], \"y\": [9.021880877998637, 4.672263567009161], \"z\": [2.7242629061647694, 9.267172762814463], \"type\": \"scatter3d\"}, {\"line\": {\"color\": \"black\", \"width\": 5}, \"marker\": {\"color\": \"blue\", \"size\": 2}, \"text\": [\"Spine1\"], \"x\": [0.15270421125842848, -0.129777], \"y\": [3.9457592849293732, 5.05384], \"z\": [20.361269376069565, 16.5213], \"type\": \"scatter3d\"}, {\"line\": {\"color\": \"black\", \"width\": 5}, \"marker\": {\"color\": \"blue\", \"size\": 2}, \"text\": [\"Neck\"], \"x\": [0.45921967368162325, 0.15270421125842848], \"y\": [3.058030937341342, 3.9457592849293732], \"z\": [24.037266348674596, 20.361269376069565], \"type\": \"scatter3d\"}, {\"line\": {\"color\": \"black\", \"width\": 5}, \"marker\": {\"color\": \"blue\", \"size\": 2}, \"text\": [\"Head\"], \"x\": [0.5417230199818789, 0.45921967368162325], \"y\": [2.7028325804624025, 3.058030937341342], \"z\": [25.77921769085978, 24.037266348674596], \"type\": \"scatter3d\"}, {\"line\": {\"color\": \"black\", \"width\": 5}, \"marker\": {\"color\": \"blue\", \"size\": 2}, \"text\": [\"Site\"], \"x\": [0.7221524209566259, 0.5417230199818789], \"y\": [2.1585196356889167, 2.7028325804624025], \"z\": [27.467098294744975, 25.77921769085978], \"type\": \"scatter3d\"}, {\"line\": {\"color\": \"black\", \"width\": 5}, \"marker\": {\"color\": \"blue\", \"size\": 2}, \"text\": [\"LShoulder\"], \"x\": [2.357898926288474, 0.45921967368162325], \"y\": [6.012637996902879, 3.058030937341342], \"z\": [24.090972377995424, 24.037266348674596], \"type\": \"scatter3d\"}, {\"line\": {\"color\": \"black\", \"width\": 5}, \"marker\": {\"color\": \"blue\", \"size\": 2}, \"text\": [\"LElbow\"], \"x\": [4.670958900740389, 2.357898926288474], \"y\": [4.485313759525743, 6.012637996902879], \"z\": [21.50592042665655, 24.090972377995424], \"type\": \"scatter3d\"}, {\"line\": {\"color\": \"black\", \"width\": 5}, \"marker\": {\"color\": \"blue\", \"size\": 2}, \"text\": [\"LWrist\"], \"x\": [5.207404313833559, 4.670958900740389], \"y\": [3.296240956706413, 4.485313759525743], \"z\": [22.807537564092396, 21.50592042665655], \"type\": \"scatter3d\"}, {\"line\": {\"color\": \"red\", \"width\": 5}, \"marker\": {\"color\": \"blue\", \"size\": 2}, \"text\": [\"RShoulder\"], \"x\": [-1.4075189367451313, 0.45921967368162325], \"y\": [0.8252351606827326, 3.058030937341342], \"z\": [23.250237275255767, 24.037266348674596], \"type\": \"scatter3d\"}, {\"line\": {\"color\": \"red\", \"width\": 5}, \"marker\": {\"color\": \"blue\", \"size\": 2}, \"text\": [\"RElbow\"], \"x\": [3.811952720972209, -1.4075189367451313], \"y\": [-1.10532127156325, 0.8252351606827326], \"z\": [19.702106830519313, 23.250237275255767], \"type\": \"scatter3d\"}, {\"line\": {\"color\": \"red\", \"width\": 5}, \"marker\": {\"color\": \"blue\", \"size\": 2}, \"text\": [\"RWrist\"], \"x\": [5.362126223815148, 3.811952720972209], \"y\": [-1.165149229555738, -1.10532127156325], \"z\": [20.644736977568567, 19.702106830519313], \"type\": \"scatter3d\"}, {\"line\": {\"color\": \"#1f77b4\", \"width\": 1}, \"marker\": {\"color\": \"#1f77b4\", \"size\": 1}, \"x\": [-7.68200201222643, -11.202351483965106, -10.955869104893946, -7.261455157517169, -6.696189981227148, -6.597702295821579, -6.51772886461975, -3.8476915953707365, -0.7970128046349325, -5.5020630048652315, -4.462829338330973, 2.1426985093789725, -6.550621684435969, -4.382364421867683], \"y\": [3.4053156803910536, 3.729440580134272, 7.115938837216567, 6.2383953833599834, 6.738902405987771, 1.6798788535843796, 0.426703045092959, -8.57887314276572, -5.457469816021779, -6.145413681234592, -2.651627769211558, -7.988855680680584, 1.322022686032784, 0.4111020926919453], \"z\": [1.865911632557168, 2.0831814398599002, 2.4502047462026466, 3.600422432940081, 3.3586116742422365, 2.8752883654471493, 3.1498232277243945, 4.465394927147864, 2.7671204675596304, 3.4168017828747113, 3.173826242416413, 3.3530783562129756, 2.08089440622238, 3.537429728401681], \"type\": \"scatter3d\"}, {\"color\": \"#00FFFF\", \"x\": [-50, 50, -50, 50], \"y\": [-50, 50, 50, -50], \"z\": [0, 0, 0, 0], \"type\": \"mesh3d\"}], \"name\": \"frame15\"}, {\"data\": [{\"line\": {\"color\": \"red\", \"width\": 5}, \"marker\": {\"color\": \"blue\", \"size\": 2}, \"text\": [\"RHip\"], \"x\": [0.1505386699380189, 0.949353], \"y\": [4.839766956982838, 6.24037], \"z\": [15.077531466587468, 17.096], \"type\": \"scatter3d\"}, {\"line\": {\"color\": \"red\", \"width\": 5}, \"marker\": {\"color\": \"blue\", \"size\": 2}, \"text\": [\"RKnee\"], \"x\": [-0.6268937759821323, 0.1505386699380189], \"y\": [2.439208436891089, 4.839766956982838], \"z\": [8.0981927874348, 15.077531466587468], \"type\": \"scatter3d\"}, {\"line\": {\"color\": \"red\", \"width\": 5}, \"marker\": {\"color\": \"blue\", \"size\": 2}, \"text\": [\"RAnkle\"], \"x\": [-6.0372324143801315, -0.6268937759821323], \"y\": [4.507646719655471, 2.439208436891089], \"z\": [2.281288795428674, 8.0981927874348], \"type\": \"scatter3d\"}, {\"line\": {\"color\": \"black\", \"width\": 5}, \"marker\": {\"color\": \"blue\", \"size\": 2}, \"text\": [\"LHip\"], \"x\": [2.7280192361966544, 0.949353], \"y\": [6.701657031332778, 6.24037], \"z\": [15.317233922668663, 17.096], \"type\": \"scatter3d\"}, {\"line\": {\"color\": \"black\", \"width\": 5}, \"marker\": {\"color\": \"blue\", \"size\": 2}, \"text\": [\"LKnee\"], \"x\": [7.007169751430842, 2.7280192361966544], \"y\": [5.402449109718994, 6.701657031332778], \"z\": [9.157873218865225, 15.317233922668663], \"type\": \"scatter3d\"}, {\"line\": {\"color\": \"black\", \"width\": 5}, \"marker\": {\"color\": \"blue\", \"size\": 2}, \"text\": [\"LAnkle\"], \"x\": [6.8853161514855445, 7.007169751430842], \"y\": [10.334923248857402, 5.402449109718994], \"z\": [2.703872151499138, 9.157873218865225], \"type\": \"scatter3d\"}, {\"line\": {\"color\": \"black\", \"width\": 5}, \"marker\": {\"color\": \"blue\", \"size\": 2}, \"text\": [\"Spine1\"], \"x\": [0.9182775699718181, 0.949353], \"y\": [5.5218823804221, 6.24037], \"z\": [21.035348773664087, 17.096], \"type\": \"scatter3d\"}, {\"line\": {\"color\": \"black\", \"width\": 5}, \"marker\": {\"color\": \"blue\", \"size\": 2}, \"text\": [\"Neck\"], \"x\": [1.2266598288044666, 0.9182775699718181], \"y\": [4.695063778568346, 5.5218823804221], \"z\": [24.7328789885122, 21.035348773664087], \"type\": \"scatter3d\"}, {\"line\": {\"color\": \"black\", \"width\": 5}, \"marker\": {\"color\": \"blue\", \"size\": 2}, \"text\": [\"Head\"], \"x\": [1.5877478543023043, 1.2266598288044666], \"y\": [4.319506938886243, 4.695063778568346], \"z\": [26.43462504813187, 24.7328789885122], \"type\": \"scatter3d\"}, {\"line\": {\"color\": \"black\", \"width\": 5}, \"marker\": {\"color\": \"blue\", \"size\": 2}, \"text\": [\"Site\"], \"x\": [2.0834314564269225, 1.5877478543023043], \"y\": [3.768426191191197, 4.319506938886243], \"z\": [28.055852996219542, 26.43462504813187], \"type\": \"scatter3d\"}, {\"line\": {\"color\": \"black\", \"width\": 5}, \"marker\": {\"color\": \"blue\", \"size\": 2}, \"text\": [\"LShoulder\"], \"x\": [3.174979510489853, 1.2266598288044666], \"y\": [7.607955099756039, 4.695063778568346], \"z\": [24.723322849643107, 24.7328789885122], \"type\": \"scatter3d\"}, {\"line\": {\"color\": \"black\", \"width\": 5}, \"marker\": {\"color\": \"blue\", \"size\": 2}, \"text\": [\"LElbow\"], \"x\": [6.157541499647481, 3.174979510489853], \"y\": [5.285931573287361, 7.607955099756039], \"z\": [23.825910321940565, 24.723322849643107], \"type\": \"scatter3d\"}, {\"line\": {\"color\": \"black\", \"width\": 5}, \"marker\": {\"color\": \"blue\", \"size\": 2}, \"text\": [\"LWrist\"], \"x\": [6.101544743981924, 6.157541499647481], \"y\": [4.606577106255158, 5.285931573287361], \"z\": [25.537990009215175, 23.825910321940565], \"type\": \"scatter3d\"}, {\"line\": {\"color\": \"red\", \"width\": 5}, \"marker\": {\"color\": \"blue\", \"size\": 2}, \"text\": [\"RShoulder\"], \"x\": [-0.9542755518932835, 1.2266598288044666], \"y\": [2.6826310049797497, 4.695063778568346], \"z\": [24.02705381208979, 24.7328789885122], \"type\": \"scatter3d\"}, {\"line\": {\"color\": \"red\", \"width\": 5}, \"marker\": {\"color\": \"blue\", \"size\": 2}, \"text\": [\"RElbow\"], \"x\": [4.315673902510235, -0.9542755518932835], \"y\": [-0.058834590204809474, 2.6826310049797497], \"z\": [23.59878164000735, 24.02705381208979], \"type\": \"scatter3d\"}, {\"line\": {\"color\": \"red\", \"width\": 5}, \"marker\": {\"color\": \"blue\", \"size\": 2}, \"text\": [\"RWrist\"], \"x\": [4.982206971227129, 4.315673902510235], \"y\": [-0.07727710376016506, -0.058834590204809474], \"z\": [25.28714250475179, 23.59878164000735], \"type\": \"scatter3d\"}, {\"line\": {\"color\": \"#1f77b4\", \"width\": 1}, \"marker\": {\"color\": \"#1f77b4\", \"size\": 1}, \"x\": [-7.68200201222643, -11.202351483965106, -10.955869104893946, -7.261455157517169, -6.696189981227148, -6.597702295821579, -6.51772886461975, -3.8476915953707365, -0.7970128046349325, -5.5020630048652315, -4.462829338330973, 2.1426985093789725, -6.550621684435969, -4.382364421867683, -6.238933645893352], \"y\": [3.4053156803910536, 3.729440580134272, 7.115938837216567, 6.2383953833599834, 6.738902405987771, 1.6798788535843796, 0.426703045092959, -8.57887314276572, -5.457469816021779, -6.145413681234592, -2.651627769211558, -7.988855680680584, 1.322022686032784, 0.4111020926919453, 3.3084733072069357], \"z\": [1.865911632557168, 2.0831814398599002, 2.4502047462026466, 3.600422432940081, 3.3586116742422365, 2.8752883654471493, 3.1498232277243945, 4.465394927147864, 2.7671204675596304, 3.4168017828747113, 3.173826242416413, 3.3530783562129756, 2.08089440622238, 3.537429728401681, 1.885924112360784], \"type\": \"scatter3d\"}, {\"color\": \"#00FFFF\", \"x\": [-50, 50, -50, 50], \"y\": [-50, 50, 50, -50], \"z\": [0, 0, 0, 0], \"type\": \"mesh3d\"}], \"name\": \"frame16\"}, {\"data\": [{\"line\": {\"color\": \"red\", \"width\": 5}, \"marker\": {\"color\": \"blue\", \"size\": 2}, \"text\": [\"RHip\"], \"x\": [-1.6541965130469556, -0.829782], \"y\": [2.479980143935096, 3.95587], \"z\": [15.722916372773986, 17.6764], \"type\": \"scatter3d\"}, {\"line\": {\"color\": \"red\", \"width\": 5}, \"marker\": {\"color\": \"blue\", \"size\": 2}, \"text\": [\"RKnee\"], \"x\": [-0.6247193569360161, -1.6541965130469556], \"y\": [-0.8637606391052834, 2.479980143935096], \"z\": [9.177855244293273, 15.722916372773986], \"type\": \"scatter3d\"}, {\"line\": {\"color\": \"red\", \"width\": 5}, \"marker\": {\"color\": \"blue\", \"size\": 2}, \"text\": [\"RAnkle\"], \"x\": [-5.622770625880111, -0.6247193569360161], \"y\": [1.2562719135064158, -0.8637606391052834], \"z\": [3.0206222088432257, 9.177855244293273], \"type\": \"scatter3d\"}, {\"line\": {\"color\": \"black\", \"width\": 5}, \"marker\": {\"color\": \"blue\", \"size\": 2}, \"text\": [\"LHip\"], \"x\": [0.8378354246537139, -0.829782], \"y\": [4.4675266961984486, 3.95587], \"z\": [15.806184073120676, 17.6764], \"type\": \"scatter3d\"}, {\"line\": {\"color\": \"black\", \"width\": 5}, \"marker\": {\"color\": \"blue\", \"size\": 2}, \"text\": [\"LKnee\"], \"x\": [2.9505433941067256, 0.8378354246537139], \"y\": [3.044471290494394, 4.4675266961984486], \"z\": [8.633445894204815, 15.806184073120676], \"type\": \"scatter3d\"}, {\"line\": {\"color\": \"black\", \"width\": 5}, \"marker\": {\"color\": \"blue\", \"size\": 2}, \"text\": [\"LAnkle\"], \"x\": [-0.8942619979782842, 2.9505433941067256], \"y\": [7.02946179279686, 3.044471290494394], \"z\": [2.689070283242417, 8.633445894204815], \"type\": \"scatter3d\"}, {\"line\": {\"color\": \"black\", \"width\": 5}, \"marker\": {\"color\": \"blue\", \"size\": 2}, \"text\": [\"Spine1\"], \"x\": [-0.4672244590935099, -0.829782], \"y\": [3.6854264936991474, 3.95587], \"z\": [21.655303062518453, 17.6764], \"type\": \"scatter3d\"}, {\"line\": {\"color\": \"black\", \"width\": 5}, \"marker\": {\"color\": \"blue\", \"size\": 2}, \"text\": [\"Neck\"], \"x\": [0.10493016168662145, -0.4672244590935099], \"y\": [2.953913068770335, 3.6854264936991474], \"z\": [25.34148200066428, 21.655303062518453], \"type\": \"scatter3d\"}, {\"line\": {\"color\": \"black\", \"width\": 5}, \"marker\": {\"color\": \"blue\", \"size\": 2}, \"text\": [\"Head\"], \"x\": [0.8459805031767, 0.10493016168662145], \"y\": [2.6405896818167296, 2.953913068770335], \"z\": [26.92894538606451, 25.34148200066428], \"type\": \"scatter3d\"}, {\"line\": {\"color\": \"black\", \"width\": 5}, \"marker\": {\"color\": \"blue\", \"size\": 2}, \"text\": [\"Site\"], \"x\": [1.7449356664635407, 0.8459805031767], \"y\": [2.1914155199274377, 2.6405896818167296], \"z\": [28.401322535522798, 26.92894538606451], \"type\": \"scatter3d\"}, {\"line\": {\"color\": \"black\", \"width\": 5}, \"marker\": {\"color\": \"blue\", \"size\": 2}, \"text\": [\"LShoulder\"], \"x\": [2.402111452582306, 0.10493016168662145], \"y\": [5.640881474406155, 2.953913068770335], \"z\": [24.970218305503728, 25.34148200066428], \"type\": \"scatter3d\"}, {\"line\": {\"color\": \"black\", \"width\": 5}, \"marker\": {\"color\": \"blue\", \"size\": 2}, \"text\": [\"LElbow\"], \"x\": [6.251397994766612, 2.402111452582306], \"y\": [3.23790672174344, 5.640881474406155], \"z\": [25.284458854297696, 24.970218305503728], \"type\": \"scatter3d\"}, {\"line\": {\"color\": \"black\", \"width\": 5}, \"marker\": {\"color\": \"blue\", \"size\": 2}, \"text\": [\"LWrist\"], \"x\": [5.998040929558784, 6.251397994766612], \"y\": [2.521717764715387, 3.23790672174344], \"z\": [26.963374742435143, 25.284458854297696], \"type\": \"scatter3d\"}, {\"line\": {\"color\": \"red\", \"width\": 5}, \"marker\": {\"color\": \"blue\", \"size\": 2}, \"text\": [\"RShoulder\"], \"x\": [-2.413779240362082, 0.10493016168662145], \"y\": [1.3280173787183556, 2.953913068770335], \"z\": [24.997704796635055, 25.34148200066428], \"type\": \"scatter3d\"}, {\"line\": {\"color\": \"red\", \"width\": 5}, \"marker\": {\"color\": \"blue\", \"size\": 2}, \"text\": [\"RElbow\"], \"x\": [1.7541160517433372, -2.413779240362082], \"y\": [-1.4847413803251273, 1.3280173787183556], \"z\": [23.433586941581062, 24.997704796635055], \"type\": \"scatter3d\"}, {\"line\": {\"color\": \"red\", \"width\": 5}, \"marker\": {\"color\": \"blue\", \"size\": 2}, \"text\": [\"RWrist\"], \"x\": [2.6722540489319138, 1.7541160517433372], \"y\": [-1.3112931576608555, -1.4847413803251273], \"z\": [24.989898992479965, 23.433586941581062], \"type\": \"scatter3d\"}, {\"line\": {\"color\": \"#1f77b4\", \"width\": 1}, \"marker\": {\"color\": \"#1f77b4\", \"size\": 1}, \"x\": [-7.68200201222643, -11.202351483965106, -10.955869104893946, -7.261455157517169, -6.696189981227148, -6.597702295821579, -6.51772886461975, -3.8476915953707365, -0.7970128046349325, -5.5020630048652315, -4.462829338330973, 2.1426985093789725, -6.550621684435969, -4.382364421867683, -6.238933645893352, -6.0372324143801315], \"y\": [3.4053156803910536, 3.729440580134272, 7.115938837216567, 6.2383953833599834, 6.738902405987771, 1.6798788535843796, 0.426703045092959, -8.57887314276572, -5.457469816021779, -6.145413681234592, -2.651627769211558, -7.988855680680584, 1.322022686032784, 0.4111020926919453, 3.3084733072069357, 4.507646719655471], \"z\": [1.865911632557168, 2.0831814398599002, 2.4502047462026466, 3.600422432940081, 3.3586116742422365, 2.8752883654471493, 3.1498232277243945, 4.465394927147864, 2.7671204675596304, 3.4168017828747113, 3.173826242416413, 3.3530783562129756, 2.08089440622238, 3.537429728401681, 1.885924112360784, 2.281288795428674], \"type\": \"scatter3d\"}, {\"color\": \"#00FFFF\", \"x\": [-50, 50, -50, 50], \"y\": [-50, 50, 50, -50], \"z\": [0, 0, 0, 0], \"type\": \"mesh3d\"}], \"name\": \"frame17\"}, {\"data\": [{\"line\": {\"color\": \"red\", \"width\": 5}, \"marker\": {\"color\": \"blue\", \"size\": 2}, \"text\": [\"RHip\"], \"x\": [1.3021480268093775, 2.35617], \"y\": [2.9553845394657348, 3.90198], \"z\": [15.789975220591794, 17.9503], \"type\": \"scatter3d\"}, {\"line\": {\"color\": \"red\", \"width\": 5}, \"marker\": {\"color\": \"blue\", \"size\": 2}, \"text\": [\"RKnee\"], \"x\": [0.9153131681707354, 1.3021480268093775], \"y\": [0.2733232336952489, 2.9553845394657348], \"z\": [8.88091184275962, 15.789975220591794], \"type\": \"scatter3d\"}, {\"line\": {\"color\": \"red\", \"width\": 5}, \"marker\": {\"color\": \"blue\", \"size\": 2}, \"text\": [\"RAnkle\"], \"x\": [-4.622031270382943, 0.9153131681707354], \"y\": [2.5679035233151972, 0.2733232336952489], \"z\": [3.2720535786143525, 8.88091184275962], \"type\": \"scatter3d\"}, {\"line\": {\"color\": \"black\", \"width\": 5}, \"marker\": {\"color\": \"blue\", \"size\": 2}, \"text\": [\"LHip\"], \"x\": [4.017250565737474, 2.35617], \"y\": [4.592006011883207, 3.90198], \"z\": [16.132300132018617, 17.9503], \"type\": \"scatter3d\"}, {\"line\": {\"color\": \"black\", \"width\": 5}, \"marker\": {\"color\": \"blue\", \"size\": 2}, \"text\": [\"LKnee\"], \"x\": [8.300542528073478, 4.017250565737474], \"y\": [3.6180680875998052, 4.592006011883207], \"z\": [9.916059345160264, 16.132300132018617], \"type\": \"scatter3d\"}, {\"line\": {\"color\": \"black\", \"width\": 5}, \"marker\": {\"color\": \"blue\", \"size\": 2}, \"text\": [\"LAnkle\"], \"x\": [6.277927114787039, 8.300542528073478], \"y\": [8.791319939942456, 3.6180680875998052], \"z\": [3.9877567742028015, 9.916059345160264], \"type\": \"scatter3d\"}, {\"line\": {\"color\": \"black\", \"width\": 5}, \"marker\": {\"color\": \"blue\", \"size\": 2}, \"text\": [\"Spine1\"], \"x\": [2.744136186155399, 2.35617], \"y\": [2.269089156992144, 3.90198], \"z\": [21.587293266127233, 17.9503], \"type\": \"scatter3d\"}, {\"line\": {\"color\": \"black\", \"width\": 5}, \"marker\": {\"color\": \"blue\", \"size\": 2}, \"text\": [\"Neck\"], \"x\": [3.094414590952876, 2.744136186155399], \"y\": [0.5729647920584515, 2.269089156992144], \"z\": [24.970545620620566, 21.587293266127233], \"type\": \"scatter3d\"}, {\"line\": {\"color\": \"black\", \"width\": 5}, \"marker\": {\"color\": \"blue\", \"size\": 2}, \"text\": [\"Head\"], \"x\": [3.3291903315374443, 3.094414590952876], \"y\": [0.23597638170204271, 0.5729647920584515], \"z\": [26.702217158857373, 24.970545620620566], \"type\": \"scatter3d\"}, {\"line\": {\"color\": \"black\", \"width\": 5}, \"marker\": {\"color\": \"blue\", \"size\": 2}, \"text\": [\"Site\"], \"x\": [3.664634958833484, 3.3291903315374443], \"y\": [-0.1219854389009295, 0.23597638170204271], \"z\": [28.416017765860637, 26.702217158857373], \"type\": \"scatter3d\"}, {\"line\": {\"color\": \"black\", \"width\": 5}, \"marker\": {\"color\": \"blue\", \"size\": 2}, \"text\": [\"LShoulder\"], \"x\": [5.7616554872661485, 3.094414590952876], \"y\": [3.007925271439092, 0.5729647920584515], \"z\": [25.24710942096254, 24.970545620620566], \"type\": \"scatter3d\"}, {\"line\": {\"color\": \"black\", \"width\": 5}, \"marker\": {\"color\": \"blue\", \"size\": 2}, \"text\": [\"LElbow\"], \"x\": [8.020115607259534, 5.7616554872661485], \"y\": [1.3931583172817072, 3.007925271439092], \"z\": [23.197142791379996, 25.24710942096254], \"type\": \"scatter3d\"}, {\"line\": {\"color\": \"black\", \"width\": 5}, \"marker\": {\"color\": \"blue\", \"size\": 2}, \"text\": [\"LWrist\"], \"x\": [8.017302328786537, 8.020115607259534], \"y\": [0.18901581550712687, 1.3931583172817072], \"z\": [24.592100821208952, 23.197142791379996], \"type\": \"scatter3d\"}, {\"line\": {\"color\": \"red\", \"width\": 5}, \"marker\": {\"color\": \"blue\", \"size\": 2}, \"text\": [\"RShoulder\"], \"x\": [0.5824450290869456, 3.094414590952876], \"y\": [-0.7209887982469223, 0.5729647920584515], \"z\": [24.21495910621139, 24.970545620620566], \"type\": \"scatter3d\"}, {\"line\": {\"color\": \"red\", \"width\": 5}, \"marker\": {\"color\": \"blue\", \"size\": 2}, \"text\": [\"RElbow\"], \"x\": [2.523485183277039, 0.5824450290869456], \"y\": [-2.2927812045861238, -0.7209887982469223], \"z\": [20.243910891064434, 24.21495910621139], \"type\": \"scatter3d\"}, {\"line\": {\"color\": \"red\", \"width\": 5}, \"marker\": {\"color\": \"blue\", \"size\": 2}, \"text\": [\"RWrist\"], \"x\": [3.8042994897874935, 2.523485183277039], \"y\": [-3.0334891598786653, -2.2927812045861238], \"z\": [21.29559302213089, 20.243910891064434], \"type\": \"scatter3d\"}, {\"line\": {\"color\": \"#1f77b4\", \"width\": 1}, \"marker\": {\"color\": \"#1f77b4\", \"size\": 1}, \"x\": [-7.68200201222643, -11.202351483965106, -10.955869104893946, -7.261455157517169, -6.696189981227148, -6.597702295821579, -6.51772886461975, -3.8476915953707365, -0.7970128046349325, -5.5020630048652315, -4.462829338330973, 2.1426985093789725, -6.550621684435969, -4.382364421867683, -6.238933645893352, -6.0372324143801315, -5.622770625880111], \"y\": [3.4053156803910536, 3.729440580134272, 7.115938837216567, 6.2383953833599834, 6.738902405987771, 1.6798788535843796, 0.426703045092959, -8.57887314276572, -5.457469816021779, -6.145413681234592, -2.651627769211558, -7.988855680680584, 1.322022686032784, 0.4111020926919453, 3.3084733072069357, 4.507646719655471, 1.2562719135064158], \"z\": [1.865911632557168, 2.0831814398599002, 2.4502047462026466, 3.600422432940081, 3.3586116742422365, 2.8752883654471493, 3.1498232277243945, 4.465394927147864, 2.7671204675596304, 3.4168017828747113, 3.173826242416413, 3.3530783562129756, 2.08089440622238, 3.537429728401681, 1.885924112360784, 2.281288795428674, 3.0206222088432257], \"type\": \"scatter3d\"}, {\"color\": \"#00FFFF\", \"x\": [-50, 50, -50, 50], \"y\": [-50, 50, 50, -50], \"z\": [0, 0, 0, 0], \"type\": \"mesh3d\"}], \"name\": \"frame18\"}, {\"data\": [{\"line\": {\"color\": \"red\", \"width\": 5}, \"marker\": {\"color\": \"blue\", \"size\": 2}, \"text\": [\"RHip\"], \"x\": [2.605927395570681, 2.71225], \"y\": [-1.5523272206227487, 0.109016], \"z\": [15.95538926971377, 17.9309], \"type\": \"scatter3d\"}, {\"line\": {\"color\": \"red\", \"width\": 5}, \"marker\": {\"color\": \"blue\", \"size\": 2}, \"text\": [\"RKnee\"], \"x\": [3.663342949525854, 2.605927395570681], \"y\": [-2.8851560969665266, -1.5523272206227487], \"z\": [8.731561313061643, 15.95538926971377], \"type\": \"scatter3d\"}, {\"line\": {\"color\": \"red\", \"width\": 5}, \"marker\": {\"color\": \"blue\", \"size\": 2}, \"text\": [\"RAnkle\"], \"x\": [-1.8315147477995466, 3.663342949525854], \"y\": [-4.250612202162369, -2.8851560969665266], \"z\": [2.7877711354988826, 8.731561313061643], \"type\": \"scatter3d\"}, {\"line\": {\"color\": \"black\", \"width\": 5}, \"marker\": {\"color\": \"blue\", \"size\": 2}, \"text\": [\"LHip\"], \"x\": [3.4416899624654125, 2.71225], \"y\": [1.524740880690876, 0.109016], \"z\": [15.92987814447774, 17.9309], \"type\": \"scatter3d\"}, {\"line\": {\"color\": \"black\", \"width\": 5}, \"marker\": {\"color\": \"blue\", \"size\": 2}, \"text\": [\"LKnee\"], \"x\": [7.401522132820324, 3.4416899624654125], \"y\": [1.8288832063182336, 1.524740880690876], \"z\": [9.436495261607265, 15.92987814447774], \"type\": \"scatter3d\"}, {\"line\": {\"color\": \"black\", \"width\": 5}, \"marker\": {\"color\": \"blue\", \"size\": 2}, \"text\": [\"LAnkle\"], \"x\": [3.2639231242375546, 7.401522132820324], \"y\": [4.170782464279901, 1.8288832063182336], \"z\": [2.849078353563198, 9.436495261607265], \"type\": \"scatter3d\"}, {\"line\": {\"color\": \"black\", \"width\": 5}, \"marker\": {\"color\": \"blue\", \"size\": 2}, \"text\": [\"Spine1\"], \"x\": [4.14467801747219, 2.71225], \"y\": [0.10139872359855284, 0.109016], \"z\": [21.669060707203357, 17.9309], \"type\": \"scatter3d\"}, {\"line\": {\"color\": \"black\", \"width\": 5}, \"marker\": {\"color\": \"blue\", \"size\": 2}, \"text\": [\"Neck\"], \"x\": [5.662838975564384, 4.14467801747219], \"y\": [0.4231821927816469, 0.10139872359855284], \"z\": [25.13744944355856, 21.669060707203357], \"type\": \"scatter3d\"}, {\"line\": {\"color\": \"black\", \"width\": 5}, \"marker\": {\"color\": \"blue\", \"size\": 2}, \"text\": [\"Head\"], \"x\": [6.6684941531922215, 5.662838975564384], \"y\": [0.8953576112630577, 0.4231821927816469], \"z\": [26.527800187548447, 25.13744944355856], \"type\": \"scatter3d\"}, {\"line\": {\"color\": \"black\", \"width\": 5}, \"marker\": {\"color\": \"blue\", \"size\": 2}, \"text\": [\"Site\"], \"x\": [7.908379752494444, 6.6684941531922215], \"y\": [1.3481880688439363, 0.8953576112630577], \"z\": [27.72588222183742, 26.527800187548447], \"type\": \"scatter3d\"}, {\"line\": {\"color\": \"black\", \"width\": 5}, \"marker\": {\"color\": \"blue\", \"size\": 2}, \"text\": [\"LShoulder\"], \"x\": [5.386290991766267, 5.662838975564384], \"y\": [3.8301674910570425, 0.4231821927816469], \"z\": [24.42591335554552, 25.13744944355856], \"type\": \"scatter3d\"}, {\"line\": {\"color\": \"black\", \"width\": 5}, \"marker\": {\"color\": \"blue\", \"size\": 2}, \"text\": [\"LElbow\"], \"x\": [7.614049932695064, 5.386290991766267], \"y\": [4.5802436208326025, 3.8301674910570425], \"z\": [22.180132144964553, 24.42591335554552], \"type\": \"scatter3d\"}, {\"line\": {\"color\": \"black\", \"width\": 5}, \"marker\": {\"color\": \"blue\", \"size\": 2}, \"text\": [\"LWrist\"], \"x\": [8.659573314351576, 7.614049932695064], \"y\": [4.189611870477313, 4.5802436208326025], \"z\": [23.64647544655661, 22.180132144964553], \"type\": \"scatter3d\"}, {\"line\": {\"color\": \"red\", \"width\": 5}, \"marker\": {\"color\": \"blue\", \"size\": 2}, \"text\": [\"RShoulder\"], \"x\": [5.188088460927969, 5.662838975564384], \"y\": [-2.589814134998329, 0.4231821927816469], \"z\": [25.160016249789077, 25.13744944355856], \"type\": \"scatter3d\"}, {\"line\": {\"color\": \"red\", \"width\": 5}, \"marker\": {\"color\": \"blue\", \"size\": 2}, \"text\": [\"RElbow\"], \"x\": [8.05599369459763, 5.188088460927969], \"y\": [-4.88797316235745, -2.589814134998329], \"z\": [19.956051736663177, 25.160016249789077], \"type\": \"scatter3d\"}, {\"line\": {\"color\": \"red\", \"width\": 5}, \"marker\": {\"color\": \"blue\", \"size\": 2}, \"text\": [\"RWrist\"], \"x\": [9.854590632708442, 8.05599369459763], \"y\": [-4.664273953101144, -4.88797316235745], \"z\": [20.056930800876295, 19.956051736663177], \"type\": \"scatter3d\"}, {\"line\": {\"color\": \"#1f77b4\", \"width\": 1}, \"marker\": {\"color\": \"#1f77b4\", \"size\": 1}, \"x\": [-7.68200201222643, -11.202351483965106, -10.955869104893946, -7.261455157517169, -6.696189981227148, -6.597702295821579, -6.51772886461975, -3.8476915953707365, -0.7970128046349325, -5.5020630048652315, -4.462829338330973, 2.1426985093789725, -6.550621684435969, -4.382364421867683, -6.238933645893352, -6.0372324143801315, -5.622770625880111, -4.622031270382943], \"y\": [3.4053156803910536, 3.729440580134272, 7.115938837216567, 6.2383953833599834, 6.738902405987771, 1.6798788535843796, 0.426703045092959, -8.57887314276572, -5.457469816021779, -6.145413681234592, -2.651627769211558, -7.988855680680584, 1.322022686032784, 0.4111020926919453, 3.3084733072069357, 4.507646719655471, 1.2562719135064158, 2.5679035233151972], \"z\": [1.865911632557168, 2.0831814398599002, 2.4502047462026466, 3.600422432940081, 3.3586116742422365, 2.8752883654471493, 3.1498232277243945, 4.465394927147864, 2.7671204675596304, 3.4168017828747113, 3.173826242416413, 3.3530783562129756, 2.08089440622238, 3.537429728401681, 1.885924112360784, 2.281288795428674, 3.0206222088432257, 3.2720535786143525], \"type\": \"scatter3d\"}, {\"color\": \"#00FFFF\", \"x\": [-50, 50, -50, 50], \"y\": [-50, 50, 50, -50], \"z\": [0, 0, 0, 0], \"type\": \"mesh3d\"}], \"name\": \"frame19\"}, {\"data\": [{\"line\": {\"color\": \"red\", \"width\": 5}, \"marker\": {\"color\": \"blue\", \"size\": 2}, \"text\": [\"RHip\"], \"x\": [-4.789566868290368, -4.29524], \"y\": [0.8955651387453061, 2.42984], \"z\": [14.570976076076478, 16.5898], \"type\": \"scatter3d\"}, {\"line\": {\"color\": \"red\", \"width\": 5}, \"marker\": {\"color\": \"blue\", \"size\": 2}, \"text\": [\"RKnee\"], \"x\": [-3.397947865685949, -4.789566868290368], \"y\": [-1.4729836144661428, 0.8955651387453061], \"z\": [7.67665782334679, 14.570976076076478], \"type\": \"scatter3d\"}, {\"line\": {\"color\": \"red\", \"width\": 5}, \"marker\": {\"color\": \"blue\", \"size\": 2}, \"text\": [\"RAnkle\"], \"x\": [-8.80699809751267, -3.397947865685949], \"y\": [-1.208029219654247, -1.4729836144661428], \"z\": [1.5074967845823197, 7.67665782334679], \"type\": \"scatter3d\"}, {\"line\": {\"color\": \"black\", \"width\": 5}, \"marker\": {\"color\": \"blue\", \"size\": 2}, \"text\": [\"LHip\"], \"x\": [-2.9405806155861685, -4.29524], \"y\": [3.4903166190834645, 2.42984], \"z\": [14.69751689340011, 16.5898], \"type\": \"scatter3d\"}, {\"line\": {\"color\": \"black\", \"width\": 5}, \"marker\": {\"color\": \"blue\", \"size\": 2}, \"text\": [\"LKnee\"], \"x\": [1.471917568599567, -2.9405806155861685], \"y\": [4.415392645041455, 3.4903166190834645], \"z\": [8.564745190823341, 14.69751689340011], \"type\": \"scatter3d\"}, {\"line\": {\"color\": \"black\", \"width\": 5}, \"marker\": {\"color\": \"blue\", \"size\": 2}, \"text\": [\"LAnkle\"], \"x\": [-3.7004074217382064, 1.471917568599567], \"y\": [7.740923018557493, 4.415392645041455], \"z\": [3.255679252280008, 8.564745190823341], \"type\": \"scatter3d\"}, {\"line\": {\"color\": \"black\", \"width\": 5}, \"marker\": {\"color\": \"blue\", \"size\": 2}, \"text\": [\"Spine1\"], \"x\": [-3.4819780150642807, -4.29524], \"y\": [1.6535408731342658, 2.42984], \"z\": [20.43154342644982, 16.5898], \"type\": \"scatter3d\"}, {\"line\": {\"color\": \"black\", \"width\": 5}, \"marker\": {\"color\": \"blue\", \"size\": 2}, \"text\": [\"Neck\"], \"x\": [-2.417234428529946, -3.4819780150642807], \"y\": [0.6970196198394805, 1.6535408731342658], \"z\": [23.948978646793087, 20.43154342644982], \"type\": \"scatter3d\"}, {\"line\": {\"color\": \"black\", \"width\": 5}, \"marker\": {\"color\": \"blue\", \"size\": 2}, \"text\": [\"Head\"], \"x\": [-1.9795264776123669, -2.417234428529946], \"y\": [0.35209539622706826, 0.6970196198394805], \"z\": [25.639187563788237, 23.948978646793087], \"type\": \"scatter3d\"}, {\"line\": {\"color\": \"black\", \"width\": 5}, \"marker\": {\"color\": \"blue\", \"size\": 2}, \"text\": [\"Site\"], \"x\": [-1.5787897600916274, -1.9795264776123669], \"y\": [-0.1660393933522037, 0.35209539622706826], \"z\": [27.297113589464377, 25.639187563788237], \"type\": \"scatter3d\"}, {\"line\": {\"color\": \"black\", \"width\": 5}, \"marker\": {\"color\": \"blue\", \"size\": 2}, \"text\": [\"LShoulder\"], \"x\": [-0.7400362508754945, -2.417234428529946], \"y\": [3.661118449281159, 0.6970196198394805], \"z\": [23.822257726022983, 23.948978646793087], \"type\": \"scatter3d\"}, {\"line\": {\"color\": \"black\", \"width\": 5}, \"marker\": {\"color\": \"blue\", \"size\": 2}, \"text\": [\"LElbow\"], \"x\": [0.9802584917481915, -0.7400362508754945], \"y\": [1.1090495819286699, 3.661118449281159], \"z\": [21.571920655286878, 23.822257726022983], \"type\": \"scatter3d\"}, {\"line\": {\"color\": \"black\", \"width\": 5}, \"marker\": {\"color\": \"blue\", \"size\": 2}, \"text\": [\"LWrist\"], \"x\": [1.285430217839602, 0.9802584917481915], \"y\": [0.09111134579415192, 1.1090495819286699], \"z\": [23.077426201311113, 21.571920655286878], \"type\": \"scatter3d\"}, {\"line\": {\"color\": \"red\", \"width\": 5}, \"marker\": {\"color\": \"blue\", \"size\": 2}, \"text\": [\"RShoulder\"], \"x\": [-4.716259026162945, -2.417234428529946], \"y\": [-1.4270346173807402, 0.6970196198394805], \"z\": [23.5145140129101, 23.948978646793087], \"type\": \"scatter3d\"}, {\"line\": {\"color\": \"red\", \"width\": 5}, \"marker\": {\"color\": \"blue\", \"size\": 2}, \"text\": [\"RElbow\"], \"x\": [-1.1248653423538333, -4.716259026162945], \"y\": [-3.489314267840128, -1.4270346173807402], \"z\": [21.490422867998742, 23.5145140129101], \"type\": \"scatter3d\"}, {\"line\": {\"color\": \"red\", \"width\": 5}, \"marker\": {\"color\": \"blue\", \"size\": 2}, \"text\": [\"RWrist\"], \"x\": [-0.45171809241842464, -1.1248653423538333], \"y\": [-3.6196416859084493, -3.489314267840128], \"z\": [23.17121328075223, 21.490422867998742], \"type\": \"scatter3d\"}, {\"line\": {\"color\": \"#1f77b4\", \"width\": 1}, \"marker\": {\"color\": \"#1f77b4\", \"size\": 1}, \"x\": [-7.68200201222643, -11.202351483965106, -10.955869104893946, -7.261455157517169, -6.696189981227148, -6.597702295821579, -6.51772886461975, -3.8476915953707365, -0.7970128046349325, -5.5020630048652315, -4.462829338330973, 2.1426985093789725, -6.550621684435969, -4.382364421867683, -6.238933645893352, -6.0372324143801315, -5.622770625880111, -4.622031270382943, -1.8315147477995466], \"y\": [3.4053156803910536, 3.729440580134272, 7.115938837216567, 6.2383953833599834, 6.738902405987771, 1.6798788535843796, 0.426703045092959, -8.57887314276572, -5.457469816021779, -6.145413681234592, -2.651627769211558, -7.988855680680584, 1.322022686032784, 0.4111020926919453, 3.3084733072069357, 4.507646719655471, 1.2562719135064158, 2.5679035233151972, -4.250612202162369], \"z\": [1.865911632557168, 2.0831814398599002, 2.4502047462026466, 3.600422432940081, 3.3586116742422365, 2.8752883654471493, 3.1498232277243945, 4.465394927147864, 2.7671204675596304, 3.4168017828747113, 3.173826242416413, 3.3530783562129756, 2.08089440622238, 3.537429728401681, 1.885924112360784, 2.281288795428674, 3.0206222088432257, 3.2720535786143525, 2.7877711354988826], \"type\": \"scatter3d\"}, {\"color\": \"#00FFFF\", \"x\": [-50, 50, -50, 50], \"y\": [-50, 50, 50, -50], \"z\": [0, 0, 0, 0], \"type\": \"mesh3d\"}], \"name\": \"frame20\"}, {\"data\": [{\"line\": {\"color\": \"red\", \"width\": 5}, \"marker\": {\"color\": \"blue\", \"size\": 2}, \"text\": [\"RHip\"], \"x\": [-3.2511576125033015, -1.76297], \"y\": [4.416452734676283, 4.81958], \"z\": [15.861528929155943, 17.9344], \"type\": \"scatter3d\"}, {\"line\": {\"color\": \"red\", \"width\": 5}, \"marker\": {\"color\": \"blue\", \"size\": 2}, \"text\": [\"RKnee\"], \"x\": [-4.049625451962417, -3.2511576125033015], \"y\": [2.446216420271699, 4.416452734676283], \"z\": [8.75105294020683, 15.861528929155943], \"type\": \"scatter3d\"}, {\"line\": {\"color\": \"red\", \"width\": 5}, \"marker\": {\"color\": \"blue\", \"size\": 2}, \"text\": [\"RAnkle\"], \"x\": [-5.336259744172091, -4.049625451962417], \"y\": [7.660506207376087, 2.446216420271699], \"z\": [2.5428062168417425, 8.75105294020683], \"type\": \"scatter3d\"}, {\"line\": {\"color\": \"black\", \"width\": 5}, \"marker\": {\"color\": \"blue\", \"size\": 2}, \"text\": [\"LHip\"], \"x\": [-0.1336047556001254, -1.76297], \"y\": [3.849792651115132, 4.81958], \"z\": [16.218262050646544, 17.9344], \"type\": \"scatter3d\"}, {\"line\": {\"color\": \"black\", \"width\": 5}, \"marker\": {\"color\": \"blue\", \"size\": 2}, \"text\": [\"LKnee\"], \"x\": [1.1295414967603956, -0.1336047556001254], \"y\": [1.3046878443877445, 3.849792651115132], \"z\": [9.156838844019447, 16.218262050646544], \"type\": \"scatter3d\"}, {\"line\": {\"color\": \"black\", \"width\": 5}, \"marker\": {\"color\": \"blue\", \"size\": 2}, \"text\": [\"LAnkle\"], \"x\": [3.3542337752529923, 1.1295414967603956], \"y\": [4.93280641375168, 1.3046878443877445], \"z\": [2.2368837051978527, 9.156838844019447], \"type\": \"scatter3d\"}, {\"line\": {\"color\": \"black\", \"width\": 5}, \"marker\": {\"color\": \"blue\", \"size\": 2}, \"text\": [\"Spine1\"], \"x\": [-2.1338866447369718, -1.76297], \"y\": [4.580444826073762, 4.81958], \"z\": [21.919767590736896, 17.9344], \"type\": \"scatter3d\"}, {\"line\": {\"color\": \"black\", \"width\": 5}, \"marker\": {\"color\": \"blue\", \"size\": 2}, \"text\": [\"Neck\"], \"x\": [-2.5526474636187597, -2.1338866447369718], \"y\": [4.120148144531844, 4.580444826073762], \"z\": [25.670356386190793, 21.919767590736896], \"type\": \"scatter3d\"}, {\"line\": {\"color\": \"black\", \"width\": 5}, \"marker\": {\"color\": \"blue\", \"size\": 2}, \"text\": [\"Head\"], \"x\": [-2.4968833135557436, -2.5526474636187597], \"y\": [3.7758151260621715, 4.120148144531844], \"z\": [27.415547574966485, 25.670356386190793], \"type\": \"scatter3d\"}, {\"line\": {\"color\": \"black\", \"width\": 5}, \"marker\": {\"color\": \"blue\", \"size\": 2}, \"text\": [\"Site\"], \"x\": [-2.446954753706562, -2.4968833135557436], \"y\": [3.231029198912207, 3.7758151260621715], \"z\": [29.112158230375286, 27.415547574966485], \"type\": \"scatter3d\"}, {\"line\": {\"color\": \"black\", \"width\": 5}, \"marker\": {\"color\": \"blue\", \"size\": 2}, \"text\": [\"LShoulder\"], \"x\": [1.0308163409367652, -2.5526474636187597], \"y\": [4.184557085310029, 4.120148144531844], \"z\": [25.50773132145676, 25.670356386190793], \"type\": \"scatter3d\"}, {\"line\": {\"color\": \"black\", \"width\": 5}, \"marker\": {\"color\": \"blue\", \"size\": 2}, \"text\": [\"LElbow\"], \"x\": [1.1172787157686221, 1.0308163409367652], \"y\": [1.4452731258402656, 4.184557085310029], \"z\": [24.178709109472358, 25.50773132145676], \"type\": \"scatter3d\"}, {\"line\": {\"color\": \"black\", \"width\": 5}, \"marker\": {\"color\": \"blue\", \"size\": 2}, \"text\": [\"LWrist\"], \"x\": [0.5106406462264211, 1.1172787157686221], \"y\": [1.169301241681198, 1.4452731258402656], \"z\": [25.89676171513838, 24.178709109472358], \"type\": \"scatter3d\"}, {\"line\": {\"color\": \"red\", \"width\": 5}, \"marker\": {\"color\": \"blue\", \"size\": 2}, \"text\": [\"RShoulder\"], \"x\": [-5.397784426408819, -2.5526474636187597], \"y\": [4.699844280347371, 4.120148144531844], \"z\": [25.058368815043117, 25.670356386190793], \"type\": \"scatter3d\"}, {\"line\": {\"color\": \"red\", \"width\": 5}, \"marker\": {\"color\": \"blue\", \"size\": 2}, \"text\": [\"RElbow\"], \"x\": [-5.0472781770228865, -5.397784426408819], \"y\": [0.8620842457003125, 4.699844280347371], \"z\": [23.993685750481653, 25.058368815043117], \"type\": \"scatter3d\"}, {\"line\": {\"color\": \"red\", \"width\": 5}, \"marker\": {\"color\": \"blue\", \"size\": 2}, \"text\": [\"RWrist\"], \"x\": [-4.523809464315982, -5.0472781770228865], \"y\": [0.9577880122505943, 0.8620842457003125], \"z\": [25.72919436857753, 23.993685750481653], \"type\": \"scatter3d\"}, {\"line\": {\"color\": \"#1f77b4\", \"width\": 1}, \"marker\": {\"color\": \"#1f77b4\", \"size\": 1}, \"x\": [-7.68200201222643, -11.202351483965106, -10.955869104893946, -7.261455157517169, -6.696189981227148, -6.597702295821579, -6.51772886461975, -3.8476915953707365, -0.7970128046349325, -5.5020630048652315, -4.462829338330973, 2.1426985093789725, -6.550621684435969, -4.382364421867683, -6.238933645893352, -6.0372324143801315, -5.622770625880111, -4.622031270382943, -1.8315147477995466, -8.80699809751267], \"y\": [3.4053156803910536, 3.729440580134272, 7.115938837216567, 6.2383953833599834, 6.738902405987771, 1.6798788535843796, 0.426703045092959, -8.57887314276572, -5.457469816021779, -6.145413681234592, -2.651627769211558, -7.988855680680584, 1.322022686032784, 0.4111020926919453, 3.3084733072069357, 4.507646719655471, 1.2562719135064158, 2.5679035233151972, -4.250612202162369, -1.208029219654247], \"z\": [1.865911632557168, 2.0831814398599002, 2.4502047462026466, 3.600422432940081, 3.3586116742422365, 2.8752883654471493, 3.1498232277243945, 4.465394927147864, 2.7671204675596304, 3.4168017828747113, 3.173826242416413, 3.3530783562129756, 2.08089440622238, 3.537429728401681, 1.885924112360784, 2.281288795428674, 3.0206222088432257, 3.2720535786143525, 2.7877711354988826, 1.5074967845823197], \"type\": \"scatter3d\"}, {\"color\": \"#00FFFF\", \"x\": [-50, 50, -50, 50], \"y\": [-50, 50, 50, -50], \"z\": [0, 0, 0, 0], \"type\": \"mesh3d\"}], \"name\": \"frame21\"}, {\"data\": [{\"line\": {\"color\": \"red\", \"width\": 5}, \"marker\": {\"color\": \"blue\", \"size\": 2}, \"text\": [\"RHip\"], \"x\": [4.317871392853632, 4.91369], \"y\": [-4.074658853477304, -2.60486], \"z\": [14.14431091894925, 16.1836], \"type\": \"scatter3d\"}, {\"line\": {\"color\": \"red\", \"width\": 5}, \"marker\": {\"color\": \"blue\", \"size\": 2}, \"text\": [\"RKnee\"], \"x\": [3.159540136390708, 4.317871392853632], \"y\": [-2.6689035319645895, -4.074658853477304], \"z\": [6.949842801637818, 14.14431091894925], \"type\": \"scatter3d\"}, {\"line\": {\"color\": \"red\", \"width\": 5}, \"marker\": {\"color\": \"blue\", \"size\": 2}, \"text\": [\"RAnkle\"], \"x\": [-3.3386011500038735, 3.159540136390708], \"y\": [1.1225209147164903, -2.6689035319645895], \"z\": [3.6656635052035282, 6.949842801637818], \"type\": \"scatter3d\"}, {\"line\": {\"color\": \"black\", \"width\": 5}, \"marker\": {\"color\": \"blue\", \"size\": 2}, \"text\": [\"LHip\"], \"x\": [5.8461591832536985, 4.91369], \"y\": [-1.2768178666283128, -2.60486], \"z\": [14.206922642109175, 16.1836], \"type\": \"scatter3d\"}, {\"line\": {\"color\": \"black\", \"width\": 5}, \"marker\": {\"color\": \"blue\", \"size\": 2}, \"text\": [\"LKnee\"], \"x\": [10.637542364842833, 5.8461591832536985], \"y\": [-4.716408645686633, -1.2768178666283128], \"z\": [9.39561750576906, 14.206922642109175], \"type\": \"scatter3d\"}, {\"line\": {\"color\": \"black\", \"width\": 5}, \"marker\": {\"color\": \"blue\", \"size\": 2}, \"text\": [\"LAnkle\"], \"x\": [10.401327878009745, 10.637542364842833], \"y\": [-2.9296354803262927, -4.716408645686633], \"z\": [1.4741325703286234, 9.39561750576906], \"type\": \"scatter3d\"}, {\"line\": {\"color\": \"black\", \"width\": 5}, \"marker\": {\"color\": \"blue\", \"size\": 2}, \"text\": [\"Spine1\"], \"x\": [6.291516954640396, 4.91369], \"y\": [-3.08689569380194, -2.60486], \"z\": [19.907906488506715, 16.1836], \"type\": \"scatter3d\"}, {\"line\": {\"color\": \"black\", \"width\": 5}, \"marker\": {\"color\": \"blue\", \"size\": 2}, \"text\": [\"Neck\"], \"x\": [8.346336057231339, 6.291516954640396], \"y\": [-2.8916317891352596, -3.08689569380194], \"z\": [23.074302709191304, 19.907906488506715], \"type\": \"scatter3d\"}, {\"line\": {\"color\": \"black\", \"width\": 5}, \"marker\": {\"color\": \"blue\", \"size\": 2}, \"text\": [\"Head\"], \"x\": [9.375969950897382, 8.346336057231339], \"y\": [-3.2384052505464567, -2.8916317891352596], \"z\": [24.483901717738064, 23.074302709191304], \"type\": \"scatter3d\"}, {\"line\": {\"color\": \"black\", \"width\": 5}, \"marker\": {\"color\": \"blue\", \"size\": 2}, \"text\": [\"Site\"], \"x\": [10.389390610809023, 9.375969950897382], \"y\": [-3.8866044092314644, -3.2384052505464567], \"z\": [25.7994201327746, 24.483901717738064], \"type\": \"scatter3d\"}, {\"line\": {\"color\": \"black\", \"width\": 5}, \"marker\": {\"color\": \"blue\", \"size\": 2}, \"text\": [\"LShoulder\"], \"x\": [7.603308290623727, 8.346336057231339], \"y\": [0.4459998986736977, -2.8916317891352596], \"z\": [22.881693307914883, 23.074302709191304], \"type\": \"scatter3d\"}, {\"line\": {\"color\": \"black\", \"width\": 5}, \"marker\": {\"color\": \"blue\", \"size\": 2}, \"text\": [\"LElbow\"], \"x\": [9.947552830953164, 7.603308290623727], \"y\": [-0.6674573539141508, 0.4459998986736977], \"z\": [18.531008304354312, 22.881693307914883], \"type\": \"scatter3d\"}, {\"line\": {\"color\": \"black\", \"width\": 5}, \"marker\": {\"color\": \"blue\", \"size\": 2}, \"text\": [\"LWrist\"], \"x\": [11.43603988025123, 9.947552830953164], \"y\": [-1.645119845146044, -0.6674573539141508], \"z\": [19.00477759568733, 18.531008304354312], \"type\": \"scatter3d\"}, {\"line\": {\"color\": \"red\", \"width\": 5}, \"marker\": {\"color\": \"blue\", \"size\": 2}, \"text\": [\"RShoulder\"], \"x\": [7.557325882387322, 8.346336057231339], \"y\": [-6.014126640883043, -2.8916317891352596], \"z\": [23.124605004840905, 23.074302709191304], \"type\": \"scatter3d\"}, {\"line\": {\"color\": \"red\", \"width\": 5}, \"marker\": {\"color\": \"blue\", \"size\": 2}, \"text\": [\"RElbow\"], \"x\": [13.995914046937326, 7.557325882387322], \"y\": [-12.025266160023294, -6.014126640883043], \"z\": [22.667652330012345, 23.124605004840905], \"type\": \"scatter3d\"}, {\"line\": {\"color\": \"red\", \"width\": 5}, \"marker\": {\"color\": \"blue\", \"size\": 2}, \"text\": [\"RWrist\"], \"x\": [15.482434940691036, 13.995914046937326], \"y\": [-12.724555902654984, -12.025266160023294], \"z\": [23.439933597352024, 22.667652330012345], \"type\": \"scatter3d\"}, {\"line\": {\"color\": \"#1f77b4\", \"width\": 1}, \"marker\": {\"color\": \"#1f77b4\", \"size\": 1}, \"x\": [-7.68200201222643, -11.202351483965106, -10.955869104893946, -7.261455157517169, -6.696189981227148, -6.597702295821579, -6.51772886461975, -3.8476915953707365, -0.7970128046349325, -5.5020630048652315, -4.462829338330973, 2.1426985093789725, -6.550621684435969, -4.382364421867683, -6.238933645893352, -6.0372324143801315, -5.622770625880111, -4.622031270382943, -1.8315147477995466, -8.80699809751267, -5.336259744172091], \"y\": [3.4053156803910536, 3.729440580134272, 7.115938837216567, 6.2383953833599834, 6.738902405987771, 1.6798788535843796, 0.426703045092959, -8.57887314276572, -5.457469816021779, -6.145413681234592, -2.651627769211558, -7.988855680680584, 1.322022686032784, 0.4111020926919453, 3.3084733072069357, 4.507646719655471, 1.2562719135064158, 2.5679035233151972, -4.250612202162369, -1.208029219654247, 7.660506207376087], \"z\": [1.865911632557168, 2.0831814398599002, 2.4502047462026466, 3.600422432940081, 3.3586116742422365, 2.8752883654471493, 3.1498232277243945, 4.465394927147864, 2.7671204675596304, 3.4168017828747113, 3.173826242416413, 3.3530783562129756, 2.08089440622238, 3.537429728401681, 1.885924112360784, 2.281288795428674, 3.0206222088432257, 3.2720535786143525, 2.7877711354988826, 1.5074967845823197, 2.5428062168417425], \"type\": \"scatter3d\"}, {\"color\": \"#00FFFF\", \"x\": [-50, 50, -50, 50], \"y\": [-50, 50, 50, -50], \"z\": [0, 0, 0, 0], \"type\": \"mesh3d\"}], \"name\": \"frame22\"}, {\"data\": [{\"line\": {\"color\": \"red\", \"width\": 5}, \"marker\": {\"color\": \"blue\", \"size\": 2}, \"text\": [\"RHip\"], \"x\": [2.2084717380835333, 4.254], \"y\": [-4.287721637366236, -3.89216], \"z\": [15.004868147912132, 16.5324], \"type\": \"scatter3d\"}, {\"line\": {\"color\": \"red\", \"width\": 5}, \"marker\": {\"color\": \"blue\", \"size\": 2}, \"text\": [\"RKnee\"], \"x\": [-0.9966513972045483, 2.2084717380835333], \"y\": [-4.656837790972483, -4.287721637366236], \"z\": [8.321366837411848, 15.004868147912132], \"type\": \"scatter3d\"}, {\"line\": {\"color\": \"red\", \"width\": 5}, \"marker\": {\"color\": \"blue\", \"size\": 2}, \"text\": [\"RAnkle\"], \"x\": [-6.154514249840276, -0.9966513972045483], \"y\": [-0.12399672775587334, -4.656837790972483], \"z\": [3.822880886229819, 8.321366837411848], \"type\": \"scatter3d\"}, {\"line\": {\"color\": \"black\", \"width\": 5}, \"marker\": {\"color\": \"blue\", \"size\": 2}, \"text\": [\"LHip\"], \"x\": [5.264498489266858, 4.254], \"y\": [-3.8967518642807213, -3.89216], \"z\": [14.183076739803925, 16.5324], \"type\": \"scatter3d\"}, {\"line\": {\"color\": \"black\", \"width\": 5}, \"marker\": {\"color\": \"blue\", \"size\": 2}, \"text\": [\"LKnee\"], \"x\": [7.056297501680328, 5.264498489266858], \"y\": [-9.111233619387132, -3.8967518642807213], \"z\": [8.93565537689171, 14.183076739803925], \"type\": \"scatter3d\"}, {\"line\": {\"color\": \"black\", \"width\": 5}, \"marker\": {\"color\": \"blue\", \"size\": 2}, \"text\": [\"LAnkle\"], \"x\": [9.432832250137098, 7.056297501680328], \"y\": [-7.509969397041802, -9.111233619387132], \"z\": [1.3339243444053794, 8.93565537689171], \"type\": \"scatter3d\"}, {\"line\": {\"color\": \"black\", \"width\": 5}, \"marker\": {\"color\": \"blue\", \"size\": 2}, \"text\": [\"Spine1\"], \"x\": [5.862490846055734, 4.254], \"y\": [-5.579522790224285, -3.89216], \"z\": [19.778373524904417, 16.5324], \"type\": \"scatter3d\"}, {\"line\": {\"color\": \"black\", \"width\": 5}, \"marker\": {\"color\": \"blue\", \"size\": 2}, \"text\": [\"Neck\"], \"x\": [7.84044622297574, 5.862490846055734], \"y\": [-7.368914349952555, -5.579522790224285], \"z\": [22.485040627914163, 19.778373524904417], \"type\": \"scatter3d\"}, {\"line\": {\"color\": \"black\", \"width\": 5}, \"marker\": {\"color\": \"blue\", \"size\": 2}, \"text\": [\"Head\"], \"x\": [8.855706841396948, 7.84044622297574], \"y\": [-8.663620299133353, -7.368914349952555], \"z\": [23.16353125810727, 22.485040627914163], \"type\": \"scatter3d\"}, {\"line\": {\"color\": \"black\", \"width\": 5}, \"marker\": {\"color\": \"blue\", \"size\": 2}, \"text\": [\"Site\"], \"x\": [9.74239224366159, 8.855706841396948], \"y\": [-10.165919235900073, -8.663620299133353], \"z\": [23.53049063672609, 23.16353125810727], \"type\": \"scatter3d\"}, {\"line\": {\"color\": \"black\", \"width\": 5}, \"marker\": {\"color\": \"blue\", \"size\": 2}, \"text\": [\"LShoulder\"], \"x\": [10.527269516658285, 7.84044622297574], \"y\": [-5.916839422780148, -7.368914349952555], \"z\": [20.86078438380835, 22.485040627914163], \"type\": \"scatter3d\"}, {\"line\": {\"color\": \"black\", \"width\": 5}, \"marker\": {\"color\": \"blue\", \"size\": 2}, \"text\": [\"LElbow\"], \"x\": [10.403935619047784, 10.527269516658285], \"y\": [-10.664535894966649, -5.916839422780148], \"z\": [16.809964487466022, 20.86078438380835], \"type\": \"scatter3d\"}, {\"line\": {\"color\": \"black\", \"width\": 5}, \"marker\": {\"color\": \"blue\", \"size\": 2}, \"text\": [\"LWrist\"], \"x\": [10.74628093363349, 10.403935619047784], \"y\": [-12.385162409633505, -10.664535894966649], \"z\": [17.373984936303298, 16.809964487466022], \"type\": \"scatter3d\"}, {\"line\": {\"color\": \"red\", \"width\": 5}, \"marker\": {\"color\": \"blue\", \"size\": 2}, \"text\": [\"RShoulder\"], \"x\": [4.993591977980916, 7.84044622297574], \"y\": [-7.726145515601664, -7.368914349952555], \"z\": [23.671332327159, 22.485040627914163], \"type\": \"scatter3d\"}, {\"line\": {\"color\": \"red\", \"width\": 5}, \"marker\": {\"color\": \"blue\", \"size\": 2}, \"text\": [\"RElbow\"], \"x\": [0.14394132254210434, 4.993591977980916], \"y\": [-5.893016129506115, -7.726145515601664], \"z\": [17.356486745221105, 23.671332327159], \"type\": \"scatter3d\"}, {\"line\": {\"color\": \"red\", \"width\": 5}, \"marker\": {\"color\": \"blue\", \"size\": 2}, \"text\": [\"RWrist\"], \"x\": [-0.2546050293283638, 0.14394132254210434], \"y\": [-6.648759146921286, -5.893016129506115], \"z\": [15.754868137487367, 17.356486745221105], \"type\": \"scatter3d\"}, {\"line\": {\"color\": \"#1f77b4\", \"width\": 1}, \"marker\": {\"color\": \"#1f77b4\", \"size\": 1}, \"x\": [-7.68200201222643, -11.202351483965106, -10.955869104893946, -7.261455157517169, -6.696189981227148, -6.597702295821579, -6.51772886461975, -3.8476915953707365, -0.7970128046349325, -5.5020630048652315, -4.462829338330973, 2.1426985093789725, -6.550621684435969, -4.382364421867683, -6.238933645893352, -6.0372324143801315, -5.622770625880111, -4.622031270382943, -1.8315147477995466, -8.80699809751267, -5.336259744172091, -3.3386011500038735], \"y\": [3.4053156803910536, 3.729440580134272, 7.115938837216567, 6.2383953833599834, 6.738902405987771, 1.6798788535843796, 0.426703045092959, -8.57887314276572, -5.457469816021779, -6.145413681234592, -2.651627769211558, -7.988855680680584, 1.322022686032784, 0.4111020926919453, 3.3084733072069357, 4.507646719655471, 1.2562719135064158, 2.5679035233151972, -4.250612202162369, -1.208029219654247, 7.660506207376087, 1.1225209147164903], \"z\": [1.865911632557168, 2.0831814398599002, 2.4502047462026466, 3.600422432940081, 3.3586116742422365, 2.8752883654471493, 3.1498232277243945, 4.465394927147864, 2.7671204675596304, 3.4168017828747113, 3.173826242416413, 3.3530783562129756, 2.08089440622238, 3.537429728401681, 1.885924112360784, 2.281288795428674, 3.0206222088432257, 3.2720535786143525, 2.7877711354988826, 1.5074967845823197, 2.5428062168417425, 3.6656635052035282], \"type\": \"scatter3d\"}, {\"color\": \"#00FFFF\", \"x\": [-50, 50, -50, 50], \"y\": [-50, 50, 50, -50], \"z\": [0, 0, 0, 0], \"type\": \"mesh3d\"}], \"name\": \"frame23\"}, {\"data\": [{\"line\": {\"color\": \"red\", \"width\": 5}, \"marker\": {\"color\": \"blue\", \"size\": 2}, \"text\": [\"RHip\"], \"x\": [0.42799250452260695, 2.18963], \"y\": [0.48000038326292244, 0.390756], \"z\": [15.506594446900355, 17.3941], \"type\": \"scatter3d\"}, {\"line\": {\"color\": \"red\", \"width\": 5}, \"marker\": {\"color\": \"blue\", \"size\": 2}, \"text\": [\"RKnee\"], \"x\": [-1.1461193471945885, 0.42799250452260695], \"y\": [0.6405674226564574, 0.48000038326292244], \"z\": [8.255757190499214, 15.506594446900355], \"type\": \"scatter3d\"}, {\"line\": {\"color\": \"red\", \"width\": 5}, \"marker\": {\"color\": \"blue\", \"size\": 2}, \"text\": [\"RAnkle\"], \"x\": [-2.3716164831946065, -1.1461193471945885], \"y\": [6.2154445047511295, 0.6405674226564574], \"z\": [2.35614063913287, 8.255757190499214], \"type\": \"scatter3d\"}, {\"line\": {\"color\": \"black\", \"width\": 5}, \"marker\": {\"color\": \"blue\", \"size\": 2}, \"text\": [\"LHip\"], \"x\": [3.478775290291943, 2.18963], \"y\": [-0.43326398163467683, 0.390756], \"z\": [15.34482121142306, 17.3941], \"type\": \"scatter3d\"}, {\"line\": {\"color\": \"black\", \"width\": 5}, \"marker\": {\"color\": \"blue\", \"size\": 2}, \"text\": [\"LKnee\"], \"x\": [4.2589930779367, 3.478775290291943], \"y\": [-3.4589578893093496, -0.43326398163467683], \"z\": [8.404127354460769, 15.34482121142306], \"type\": \"scatter3d\"}, {\"line\": {\"color\": \"black\", \"width\": 5}, \"marker\": {\"color\": \"blue\", \"size\": 2}, \"text\": [\"LAnkle\"], \"x\": [6.206554955411117, 4.2589930779367], \"y\": [0.9575543305835552, -3.4589578893093496], \"z\": [1.8696264740877044, 8.404127354460769], \"type\": \"scatter3d\"}, {\"line\": {\"color\": \"black\", \"width\": 5}, \"marker\": {\"color\": \"blue\", \"size\": 2}, \"text\": [\"Spine1\"], \"x\": [2.0658804583342922, 2.18963], \"y\": [-0.5549616709212942, 0.390756], \"z\": [21.28933497551861, 17.3941], \"type\": \"scatter3d\"}, {\"line\": {\"color\": \"black\", \"width\": 5}, \"marker\": {\"color\": \"blue\", \"size\": 2}, \"text\": [\"Neck\"], \"x\": [1.9907447870685855, 2.0658804583342922], \"y\": [-1.7293556736913016, -0.5549616709212942], \"z\": [24.902478838015906, 21.28933497551861], \"type\": \"scatter3d\"}, {\"line\": {\"color\": \"black\", \"width\": 5}, \"marker\": {\"color\": \"blue\", \"size\": 2}, \"text\": [\"Head\"], \"x\": [1.948463808260368, 1.9907447870685855], \"y\": [-2.347165283327028, -1.7293556736913016], \"z\": [26.570978391055636, 24.902478838015906], \"type\": \"scatter3d\"}, {\"line\": {\"color\": \"black\", \"width\": 5}, \"marker\": {\"color\": \"blue\", \"size\": 2}, \"text\": [\"Site\"], \"x\": [1.814043631760617, 1.948463808260368], \"y\": [-3.0923579402185553, -2.347165283327028], \"z\": [28.184791082733533, 26.570978391055636], \"type\": \"scatter3d\"}, {\"line\": {\"color\": \"black\", \"width\": 5}, \"marker\": {\"color\": \"blue\", \"size\": 2}, \"text\": [\"LShoulder\"], \"x\": [5.523675439312539, 1.9907447870685855], \"y\": [-1.5586349548967022, -1.7293556736913016], \"z\": [24.46452782514777, 24.902478838015906], \"type\": \"scatter3d\"}, {\"line\": {\"color\": \"black\", \"width\": 5}, \"marker\": {\"color\": \"blue\", \"size\": 2}, \"text\": [\"LElbow\"], \"x\": [6.123017438249542, 5.523675439312539], \"y\": [-3.26975598461548, -1.5586349548967022], \"z\": [22.185500942660518, 24.46452782514777], \"type\": \"scatter3d\"}, {\"line\": {\"color\": \"black\", \"width\": 5}, \"marker\": {\"color\": \"blue\", \"size\": 2}, \"text\": [\"LWrist\"], \"x\": [5.85162366549744, 6.123017438249542], \"y\": [-4.314482794560063, -3.26975598461548], \"z\": [23.679075948073503, 22.185500942660518], \"type\": \"scatter3d\"}, {\"line\": {\"color\": \"red\", \"width\": 5}, \"marker\": {\"color\": \"blue\", \"size\": 2}, \"text\": [\"RShoulder\"], \"x\": [-0.9018721887033454, 1.9907447870685855], \"y\": [-0.8852990325677251, -1.7293556736913016], \"z\": [24.695421301142392, 24.902478838015906], \"type\": \"scatter3d\"}, {\"line\": {\"color\": \"red\", \"width\": 5}, \"marker\": {\"color\": \"blue\", \"size\": 2}, \"text\": [\"RElbow\"], \"x\": [-0.7962752300991917, -0.9018721887033454], \"y\": [-4.455126175628903, -0.8852990325677251], \"z\": [21.57881536087976, 24.695421301142392], \"type\": \"scatter3d\"}, {\"line\": {\"color\": \"red\", \"width\": 5}, \"marker\": {\"color\": \"blue\", \"size\": 2}, \"text\": [\"RWrist\"], \"x\": [-0.36846222041293664, -0.7962752300991917], \"y\": [-5.54113226450406, -4.455126175628903], \"z\": [22.96904400080532, 21.57881536087976], \"type\": \"scatter3d\"}, {\"line\": {\"color\": \"#1f77b4\", \"width\": 1}, \"marker\": {\"color\": \"#1f77b4\", \"size\": 1}, \"x\": [-7.68200201222643, -11.202351483965106, -10.955869104893946, -7.261455157517169, -6.696189981227148, -6.597702295821579, -6.51772886461975, -3.8476915953707365, -0.7970128046349325, -5.5020630048652315, -4.462829338330973, 2.1426985093789725, -6.550621684435969, -4.382364421867683, -6.238933645893352, -6.0372324143801315, -5.622770625880111, -4.622031270382943, -1.8315147477995466, -8.80699809751267, -5.336259744172091, -3.3386011500038735, -6.154514249840276], \"y\": [3.4053156803910536, 3.729440580134272, 7.115938837216567, 6.2383953833599834, 6.738902405987771, 1.6798788535843796, 0.426703045092959, -8.57887314276572, -5.457469816021779, -6.145413681234592, -2.651627769211558, -7.988855680680584, 1.322022686032784, 0.4111020926919453, 3.3084733072069357, 4.507646719655471, 1.2562719135064158, 2.5679035233151972, -4.250612202162369, -1.208029219654247, 7.660506207376087, 1.1225209147164903, -0.12399672775587334], \"z\": [1.865911632557168, 2.0831814398599002, 2.4502047462026466, 3.600422432940081, 3.3586116742422365, 2.8752883654471493, 3.1498232277243945, 4.465394927147864, 2.7671204675596304, 3.4168017828747113, 3.173826242416413, 3.3530783562129756, 2.08089440622238, 3.537429728401681, 1.885924112360784, 2.281288795428674, 3.0206222088432257, 3.2720535786143525, 2.7877711354988826, 1.5074967845823197, 2.5428062168417425, 3.6656635052035282, 3.822880886229819], \"type\": \"scatter3d\"}, {\"color\": \"#00FFFF\", \"x\": [-50, 50, -50, 50], \"y\": [-50, 50, 50, -50], \"z\": [0, 0, 0, 0], \"type\": \"mesh3d\"}], \"name\": \"frame24\"}, {\"data\": [{\"line\": {\"color\": \"red\", \"width\": 5}, \"marker\": {\"color\": \"blue\", \"size\": 2}, \"text\": [\"RHip\"], \"x\": [2.8265007111131952, 3.88497], \"y\": [-2.4490091572412465, -1.50937], \"z\": [13.645712951857183, 15.8069], \"type\": \"scatter3d\"}, {\"line\": {\"color\": \"red\", \"width\": 5}, \"marker\": {\"color\": \"blue\", \"size\": 2}, \"text\": [\"RKnee\"], \"x\": [1.506877716526451, 2.8265007111131952], \"y\": [-0.9899597982395456, -2.4490091572412465], \"z\": [6.489734965947386, 13.645712951857183], \"type\": \"scatter3d\"}, {\"line\": {\"color\": \"red\", \"width\": 5}, \"marker\": {\"color\": \"blue\", \"size\": 2}, \"text\": [\"RAnkle\"], \"x\": [-3.7972808897935995, 1.506877716526451], \"y\": [4.537339874920296, -0.9899597982395456], \"z\": [3.5399158247028906, 6.489734965947386], \"type\": \"scatter3d\"}, {\"line\": {\"color\": \"black\", \"width\": 5}, \"marker\": {\"color\": \"blue\", \"size\": 2}, \"text\": [\"LHip\"], \"x\": [5.2961253063737725, 3.88497], \"y\": [-0.4554545765361193, -1.50937], \"z\": [13.952620882821419, 15.8069], \"type\": \"scatter3d\"}, {\"line\": {\"color\": \"black\", \"width\": 5}, \"marker\": {\"color\": \"blue\", \"size\": 2}, \"text\": [\"LKnee\"], \"x\": [8.677207062665193, 5.2961253063737725], \"y\": [-5.283117080552817, -0.4554545765361193], \"z\": [9.136112236534611, 13.952620882821419], \"type\": \"scatter3d\"}, {\"line\": {\"color\": \"black\", \"width\": 5}, \"marker\": {\"color\": \"blue\", \"size\": 2}, \"text\": [\"LAnkle\"], \"x\": [10.660938670007505, 8.677207062665193], \"y\": [-4.173830425354688, -5.283117080552817], \"z\": [1.3365884538103199, 9.136112236534611], \"type\": \"scatter3d\"}, {\"line\": {\"color\": \"black\", \"width\": 5}, \"marker\": {\"color\": \"blue\", \"size\": 2}, \"text\": [\"Spine1\"], \"x\": [4.909698610407637, 3.88497], \"y\": [-3.019733875310701, -1.50937], \"z\": [19.37309926325537, 15.8069], \"type\": \"scatter3d\"}, {\"line\": {\"color\": \"black\", \"width\": 5}, \"marker\": {\"color\": \"blue\", \"size\": 2}, \"text\": [\"Neck\"], \"x\": [6.487649261364787, 4.909698610407637], \"y\": [-3.8822314029430203, -3.019733875310701], \"z\": [22.692162573955347, 19.37309926325537], \"type\": \"scatter3d\"}, {\"line\": {\"color\": \"black\", \"width\": 5}, \"marker\": {\"color\": \"blue\", \"size\": 2}, \"text\": [\"Head\"], \"x\": [7.645036111469914, 6.487649261364787], \"y\": [-4.122864257639546, -3.8822314029430203], \"z\": [24.022545474426238, 22.692162573955347], \"type\": \"scatter3d\"}, {\"line\": {\"color\": \"black\", \"width\": 5}, \"marker\": {\"color\": \"blue\", \"size\": 2}, \"text\": [\"Site\"], \"x\": [8.889171962047499, 7.645036111469914], \"y\": [-4.577229463380764, -4.122864257639546], \"z\": [25.2156299344186, 24.022545474426238], \"type\": \"scatter3d\"}, {\"line\": {\"color\": \"black\", \"width\": 5}, \"marker\": {\"color\": \"blue\", \"size\": 2}, \"text\": [\"LShoulder\"], \"x\": [7.4384944621188, 6.487649261364787], \"y\": [-0.8660160048991101, -3.8822314029430203], \"z\": [22.838968086338355, 22.692162573955347], \"type\": \"scatter3d\"}, {\"line\": {\"color\": \"black\", \"width\": 5}, \"marker\": {\"color\": \"blue\", \"size\": 2}, \"text\": [\"LElbow\"], \"x\": [8.069898853187595, 7.4384944621188], \"y\": [-0.8359648694865207, -0.8660160048991101], \"z\": [18.912270411715006, 22.838968086338355], \"type\": \"scatter3d\"}, {\"line\": {\"color\": \"black\", \"width\": 5}, \"marker\": {\"color\": \"blue\", \"size\": 2}, \"text\": [\"LWrist\"], \"x\": [9.473624898358151, 8.069898853187595], \"y\": [-2.0125638791780287, -0.8359648694865207], \"z\": [19.114860995412258, 18.912270411715006], \"type\": \"scatter3d\"}, {\"line\": {\"color\": \"red\", \"width\": 5}, \"marker\": {\"color\": \"blue\", \"size\": 2}, \"text\": [\"RShoulder\"], \"x\": [4.468483548593974, 6.487649261364787], \"y\": [-6.567357109142026, -3.8822314029430203], \"z\": [22.15478962418857, 22.692162573955347], \"type\": \"scatter3d\"}, {\"line\": {\"color\": \"red\", \"width\": 5}, \"marker\": {\"color\": \"blue\", \"size\": 2}, \"text\": [\"RElbow\"], \"x\": [8.605585916045289, 4.468483548593974], \"y\": [-10.21533944769592, -6.567357109142026], \"z\": [17.643525327297873, 22.15478962418857], \"type\": \"scatter3d\"}, {\"line\": {\"color\": \"red\", \"width\": 5}, \"marker\": {\"color\": \"blue\", \"size\": 2}, \"text\": [\"RWrist\"], \"x\": [10.004959995675037, 8.605585916045289], \"y\": [-11.201715760124708, -10.21533944769592], \"z\": [18.246835217105573, 17.643525327297873], \"type\": \"scatter3d\"}, {\"line\": {\"color\": \"#1f77b4\", \"width\": 1}, \"marker\": {\"color\": \"#1f77b4\", \"size\": 1}, \"x\": [-7.68200201222643, -11.202351483965106, -10.955869104893946, -7.261455157517169, -6.696189981227148, -6.597702295821579, -6.51772886461975, -3.8476915953707365, -0.7970128046349325, -5.5020630048652315, -4.462829338330973, 2.1426985093789725, -6.550621684435969, -4.382364421867683, -6.238933645893352, -6.0372324143801315, -5.622770625880111, -4.622031270382943, -1.8315147477995466, -8.80699809751267, -5.336259744172091, -3.3386011500038735, -6.154514249840276, -2.3716164831946065], \"y\": [3.4053156803910536, 3.729440580134272, 7.115938837216567, 6.2383953833599834, 6.738902405987771, 1.6798788535843796, 0.426703045092959, -8.57887314276572, -5.457469816021779, -6.145413681234592, -2.651627769211558, -7.988855680680584, 1.322022686032784, 0.4111020926919453, 3.3084733072069357, 4.507646719655471, 1.2562719135064158, 2.5679035233151972, -4.250612202162369, -1.208029219654247, 7.660506207376087, 1.1225209147164903, -0.12399672775587334, 6.2154445047511295], \"z\": [1.865911632557168, 2.0831814398599002, 2.4502047462026466, 3.600422432940081, 3.3586116742422365, 2.8752883654471493, 3.1498232277243945, 4.465394927147864, 2.7671204675596304, 3.4168017828747113, 3.173826242416413, 3.3530783562129756, 2.08089440622238, 3.537429728401681, 1.885924112360784, 2.281288795428674, 3.0206222088432257, 3.2720535786143525, 2.7877711354988826, 1.5074967845823197, 2.5428062168417425, 3.6656635052035282, 3.822880886229819, 2.35614063913287], \"type\": \"scatter3d\"}, {\"color\": \"#00FFFF\", \"x\": [-50, 50, -50, 50], \"y\": [-50, 50, 50, -50], \"z\": [0, 0, 0, 0], \"type\": \"mesh3d\"}], \"name\": \"frame25\"}, {\"data\": [{\"line\": {\"color\": \"red\", \"width\": 5}, \"marker\": {\"color\": \"blue\", \"size\": 2}, \"text\": [\"RHip\"], \"x\": [2.277361233994327, 3.50884], \"y\": [-2.6527011498981516, -1.69045], \"z\": [14.496228972593636, 16.5533], \"type\": \"scatter3d\"}, {\"line\": {\"color\": \"red\", \"width\": 5}, \"marker\": {\"color\": \"blue\", \"size\": 2}, \"text\": [\"RKnee\"], \"x\": [0.5161542110561335, 2.277361233994327], \"y\": [-2.8434120829873626, -2.6527011498981516], \"z\": [7.289285794170178, 14.496228972593636], \"type\": \"scatter3d\"}, {\"line\": {\"color\": \"red\", \"width\": 5}, \"marker\": {\"color\": \"blue\", \"size\": 2}, \"text\": [\"RAnkle\"], \"x\": [-4.576736217307565, 0.5161542110561335], \"y\": [2.2609880239650932, -2.8434120829873626], \"z\": [3.365749150172884, 7.289285794170178], \"type\": \"scatter3d\"}, {\"line\": {\"color\": \"black\", \"width\": 5}, \"marker\": {\"color\": \"blue\", \"size\": 2}, \"text\": [\"LHip\"], \"x\": [5.1638016006814595, 3.50884], \"y\": [-1.3055790296929093, -1.69045], \"z\": [14.641906660205379, 16.5533], \"type\": \"scatter3d\"}, {\"line\": {\"color\": \"black\", \"width\": 5}, \"marker\": {\"color\": \"blue\", \"size\": 2}, \"text\": [\"LKnee\"], \"x\": [8.07347695768617, 5.1638016006814595], \"y\": [-5.129710232506582, -1.3055790296929093], \"z\": [8.738805399369904, 14.641906660205379], \"type\": \"scatter3d\"}, {\"line\": {\"color\": \"black\", \"width\": 5}, \"marker\": {\"color\": \"blue\", \"size\": 2}, \"text\": [\"LAnkle\"], \"x\": [10.44242225952803, 8.07347695768617], \"y\": [-2.6563050787957643, -5.129710232506582], \"z\": [1.3720799183213837, 8.738805399369904], \"type\": \"scatter3d\"}, {\"line\": {\"color\": \"black\", \"width\": 5}, \"marker\": {\"color\": \"blue\", \"size\": 2}, \"text\": [\"Spine1\"], \"x\": [4.115440904843305, 3.50884], \"y\": [-2.702400813294954, -1.69045], \"z\": [20.38162247203173, 16.5533], \"type\": \"scatter3d\"}, {\"line\": {\"color\": \"black\", \"width\": 5}, \"marker\": {\"color\": \"blue\", \"size\": 2}, \"text\": [\"Neck\"], \"x\": [5.215433344828657, 4.115440904843305], \"y\": [-3.3882039621071063, -2.702400813294954], \"z\": [23.941353381508538, 20.38162247203173], \"type\": \"scatter3d\"}, {\"line\": {\"color\": \"black\", \"width\": 5}, \"marker\": {\"color\": \"blue\", \"size\": 2}, \"text\": [\"Head\"], \"x\": [6.152852202353981, 5.215433344828657], \"y\": [-3.499439749053194, -3.3882039621071063], \"z\": [25.450074574664985, 23.941353381508538], \"type\": \"scatter3d\"}, {\"line\": {\"color\": \"black\", \"width\": 5}, \"marker\": {\"color\": \"blue\", \"size\": 2}, \"text\": [\"Site\"], \"x\": [7.187946743619845, 6.152852202353981], \"y\": [-3.8004051672261396, -3.499439749053194], \"z\": [26.869853216306538, 25.450074574664985], \"type\": \"scatter3d\"}, {\"line\": {\"color\": \"black\", \"width\": 5}, \"marker\": {\"color\": \"blue\", \"size\": 2}, \"text\": [\"LShoulder\"], \"x\": [7.008475396832135, 5.215433344828657], \"y\": [-0.674528795201156, -3.3882039621071063], \"z\": [23.631798210384286, 23.941353381508538], \"type\": \"scatter3d\"}, {\"line\": {\"color\": \"black\", \"width\": 5}, \"marker\": {\"color\": \"blue\", \"size\": 2}, \"text\": [\"LElbow\"], \"x\": [9.035593391295775, 7.008475396832135], \"y\": [-3.321954060014375, -0.674528795201156], \"z\": [20.183644501160398, 23.631798210384286], \"type\": \"scatter3d\"}, {\"line\": {\"color\": \"black\", \"width\": 5}, \"marker\": {\"color\": \"blue\", \"size\": 2}, \"text\": [\"LWrist\"], \"x\": [9.670081443617429, 9.035593391295775], \"y\": [-4.769717806392096, -3.321954060014375], \"z\": [21.1308931645194, 20.183644501160398], \"type\": \"scatter3d\"}, {\"line\": {\"color\": \"red\", \"width\": 5}, \"marker\": {\"color\": \"blue\", \"size\": 2}, \"text\": [\"RShoulder\"], \"x\": [2.798865909169483, 5.215433344828657], \"y\": [-5.58099823103786, -3.3882039621071063], \"z\": [23.621747437435086, 23.941353381508538], \"type\": \"scatter3d\"}, {\"line\": {\"color\": \"red\", \"width\": 5}, \"marker\": {\"color\": \"blue\", \"size\": 2}, \"text\": [\"RElbow\"], \"x\": [7.323925257413599, 2.798865909169483], \"y\": [-8.340623641660317, -5.58099823103786], \"z\": [18.498651793643795, 23.621747437435086], \"type\": \"scatter3d\"}, {\"line\": {\"color\": \"red\", \"width\": 5}, \"marker\": {\"color\": \"blue\", \"size\": 2}, \"text\": [\"RWrist\"], \"x\": [8.934540242503969, 7.323925257413599], \"y\": [-9.098553930821481, -8.340623641660317], \"z\": [18.854502765504797, 18.498651793643795], \"type\": \"scatter3d\"}, {\"line\": {\"color\": \"#1f77b4\", \"width\": 1}, \"marker\": {\"color\": \"#1f77b4\", \"size\": 1}, \"x\": [-7.68200201222643, -11.202351483965106, -10.955869104893946, -7.261455157517169, -6.696189981227148, -6.597702295821579, -6.51772886461975, -3.8476915953707365, -0.7970128046349325, -5.5020630048652315, -4.462829338330973, 2.1426985093789725, -6.550621684435969, -4.382364421867683, -6.238933645893352, -6.0372324143801315, -5.622770625880111, -4.622031270382943, -1.8315147477995466, -8.80699809751267, -5.336259744172091, -3.3386011500038735, -6.154514249840276, -2.3716164831946065, -3.7972808897935995], \"y\": [3.4053156803910536, 3.729440580134272, 7.115938837216567, 6.2383953833599834, 6.738902405987771, 1.6798788535843796, 0.426703045092959, -8.57887314276572, -5.457469816021779, -6.145413681234592, -2.651627769211558, -7.988855680680584, 1.322022686032784, 0.4111020926919453, 3.3084733072069357, 4.507646719655471, 1.2562719135064158, 2.5679035233151972, -4.250612202162369, -1.208029219654247, 7.660506207376087, 1.1225209147164903, -0.12399672775587334, 6.2154445047511295, 4.537339874920296], \"z\": [1.865911632557168, 2.0831814398599002, 2.4502047462026466, 3.600422432940081, 3.3586116742422365, 2.8752883654471493, 3.1498232277243945, 4.465394927147864, 2.7671204675596304, 3.4168017828747113, 3.173826242416413, 3.3530783562129756, 2.08089440622238, 3.537429728401681, 1.885924112360784, 2.281288795428674, 3.0206222088432257, 3.2720535786143525, 2.7877711354988826, 1.5074967845823197, 2.5428062168417425, 3.6656635052035282, 3.822880886229819, 2.35614063913287, 3.5399158247028906], \"type\": \"scatter3d\"}, {\"color\": \"#00FFFF\", \"x\": [-50, 50, -50, 50], \"y\": [-50, 50, 50, -50], \"z\": [0, 0, 0, 0], \"type\": \"mesh3d\"}], \"name\": \"frame26\"}, {\"data\": [{\"line\": {\"color\": \"red\", \"width\": 5}, \"marker\": {\"color\": \"blue\", \"size\": 2}, \"text\": [\"RHip\"], \"x\": [1.9824167802771415, 3.53812], \"y\": [-3.2435495013076725, -2.04484], \"z\": [15.00824024654531, 16.6866], \"type\": \"scatter3d\"}, {\"line\": {\"color\": \"red\", \"width\": 5}, \"marker\": {\"color\": \"blue\", \"size\": 2}, \"text\": [\"RKnee\"], \"x\": [-0.033266590229638515, 1.9824167802771415], \"y\": [-1.6506353863191983, -3.2435495013076725], \"z\": [8.045633264472869, 15.00824024654531], \"type\": \"scatter3d\"}, {\"line\": {\"color\": \"red\", \"width\": 5}, \"marker\": {\"color\": \"blue\", \"size\": 2}, \"text\": [\"RAnkle\"], \"x\": [-5.1162575489259865, -0.033266590229638515], \"y\": [3.2751112379121494, -1.6506353863191983], \"z\": [3.8878939422390904, 8.045633264472869], \"type\": \"scatter3d\"}, {\"line\": {\"color\": \"black\", \"width\": 5}, \"marker\": {\"color\": \"blue\", \"size\": 2}, \"text\": [\"LHip\"], \"x\": [4.888175109093876, 3.53812], \"y\": [-2.026828236693008, -2.04484], \"z\": [14.51462512866318, 16.6866], \"type\": \"scatter3d\"}, {\"line\": {\"color\": \"black\", \"width\": 5}, \"marker\": {\"color\": \"blue\", \"size\": 2}, \"text\": [\"LKnee\"], \"x\": [7.843313647276862, 4.888175109093876], \"y\": [-6.106317387403179, -2.026828236693008], \"z\": [8.808337445365506, 14.51462512866318], \"type\": \"scatter3d\"}, {\"line\": {\"color\": \"black\", \"width\": 5}, \"marker\": {\"color\": \"blue\", \"size\": 2}, \"text\": [\"LAnkle\"], \"x\": [10.250032699505393, 7.843313647276862], \"y\": [-4.267232300871295, -6.106317387403179], \"z\": [1.2701845775345797, 8.808337445365506], \"type\": \"scatter3d\"}, {\"line\": {\"color\": \"black\", \"width\": 5}, \"marker\": {\"color\": \"blue\", \"size\": 2}, \"text\": [\"Spine1\"], \"x\": [4.545373911170197, 3.53812], \"y\": [-2.2652036055935447, -2.04484], \"z\": [20.56599598009474, 16.6866], \"type\": \"scatter3d\"}, {\"line\": {\"color\": \"black\", \"width\": 5}, \"marker\": {\"color\": \"blue\", \"size\": 2}, \"text\": [\"Neck\"], \"x\": [5.371906058100902, 4.545373911170197], \"y\": [-2.2867733611320005, -2.2652036055935447], \"z\": [24.263676426448438, 20.56599598009474], \"type\": \"scatter3d\"}, {\"line\": {\"color\": \"black\", \"width\": 5}, \"marker\": {\"color\": \"blue\", \"size\": 2}, \"text\": [\"Head\"], \"x\": [6.122391537578398, 5.371906058100902], \"y\": [-2.246654812396927, -2.2867733611320005], \"z\": [25.87691205727297, 24.263676426448438], \"type\": \"scatter3d\"}, {\"line\": {\"color\": \"black\", \"width\": 5}, \"marker\": {\"color\": \"blue\", \"size\": 2}, \"text\": [\"Site\"], \"x\": [6.952609926337684, 6.122391537578398], \"y\": [-2.4641361662327945, -2.246654812396927], \"z\": [27.439349758832808, 25.87691205727297], \"type\": \"scatter3d\"}, {\"line\": {\"color\": \"black\", \"width\": 5}, \"marker\": {\"color\": \"blue\", \"size\": 2}, \"text\": [\"LShoulder\"], \"x\": [8.488498737138908, 5.371906058100902], \"y\": [-1.3584806763713462, -2.2867733611320005], \"z\": [23.149632169698926, 24.263676426448438], \"type\": \"scatter3d\"}, {\"line\": {\"color\": \"black\", \"width\": 5}, \"marker\": {\"color\": \"blue\", \"size\": 2}, \"text\": [\"LElbow\"], \"x\": [11.486987001063817, 8.488498737138908], \"y\": [-7.788264647004085, -1.3584806763713462], \"z\": [23.56046209510941, 23.149632169698926], \"type\": \"scatter3d\"}, {\"line\": {\"color\": \"black\", \"width\": 5}, \"marker\": {\"color\": \"blue\", \"size\": 2}, \"text\": [\"LWrist\"], \"x\": [11.342785946921907, 11.486987001063817], \"y\": [-9.132672821171498, -7.788264647004085], \"z\": [24.812519482498743, 23.56046209510941], \"type\": \"scatter3d\"}, {\"line\": {\"color\": \"red\", \"width\": 5}, \"marker\": {\"color\": \"blue\", \"size\": 2}, \"text\": [\"RShoulder\"], \"x\": [2.371872800236023, 5.371906058100902], \"y\": [-2.9779634420444157, -2.2867733611320005], \"z\": [24.475723456583374, 24.263676426448438], \"type\": \"scatter3d\"}, {\"line\": {\"color\": \"red\", \"width\": 5}, \"marker\": {\"color\": \"blue\", \"size\": 2}, \"text\": [\"RElbow\"], \"x\": [0.46803254371560676, 2.371872800236023], \"y\": [-5.130677715228709, -2.9779634420444157], \"z\": [20.74902406921545, 24.475723456583374], \"type\": \"scatter3d\"}, {\"line\": {\"color\": \"red\", \"width\": 5}, \"marker\": {\"color\": \"blue\", \"size\": 2}, \"text\": [\"RWrist\"], \"x\": [1.6839897461008966, 0.46803254371560676], \"y\": [-6.450561500548247, -5.130677715228709], \"z\": [21.022014440507014, 20.74902406921545], \"type\": \"scatter3d\"}, {\"line\": {\"color\": \"#1f77b4\", \"width\": 1}, \"marker\": {\"color\": \"#1f77b4\", \"size\": 1}, \"x\": [-7.68200201222643, -11.202351483965106, -10.955869104893946, -7.261455157517169, -6.696189981227148, -6.597702295821579, -6.51772886461975, -3.8476915953707365, -0.7970128046349325, -5.5020630048652315, -4.462829338330973, 2.1426985093789725, -6.550621684435969, -4.382364421867683, -6.238933645893352, -6.0372324143801315, -5.622770625880111, -4.622031270382943, -1.8315147477995466, -8.80699809751267, -5.336259744172091, -3.3386011500038735, -6.154514249840276, -2.3716164831946065, -3.7972808897935995, -4.576736217307565], \"y\": [3.4053156803910536, 3.729440580134272, 7.115938837216567, 6.2383953833599834, 6.738902405987771, 1.6798788535843796, 0.426703045092959, -8.57887314276572, -5.457469816021779, -6.145413681234592, -2.651627769211558, -7.988855680680584, 1.322022686032784, 0.4111020926919453, 3.3084733072069357, 4.507646719655471, 1.2562719135064158, 2.5679035233151972, -4.250612202162369, -1.208029219654247, 7.660506207376087, 1.1225209147164903, -0.12399672775587334, 6.2154445047511295, 4.537339874920296, 2.2609880239650932], \"z\": [1.865911632557168, 2.0831814398599002, 2.4502047462026466, 3.600422432940081, 3.3586116742422365, 2.8752883654471493, 3.1498232277243945, 4.465394927147864, 2.7671204675596304, 3.4168017828747113, 3.173826242416413, 3.3530783562129756, 2.08089440622238, 3.537429728401681, 1.885924112360784, 2.281288795428674, 3.0206222088432257, 3.2720535786143525, 2.7877711354988826, 1.5074967845823197, 2.5428062168417425, 3.6656635052035282, 3.822880886229819, 2.35614063913287, 3.5399158247028906, 3.365749150172884], \"type\": \"scatter3d\"}, {\"color\": \"#00FFFF\", \"x\": [-50, 50, -50, 50], \"y\": [-50, 50, 50, -50], \"z\": [0, 0, 0, 0], \"type\": \"mesh3d\"}], \"name\": \"frame27\"}, {\"data\": [{\"line\": {\"color\": \"red\", \"width\": 5}, \"marker\": {\"color\": \"blue\", \"size\": 2}, \"text\": [\"RHip\"], \"x\": [0.6122536916307693, 2.39936], \"y\": [-0.1492152677899001, -0.155559], \"z\": [16.380265428343286, 18.2458], \"type\": \"scatter3d\"}, {\"line\": {\"color\": \"red\", \"width\": 5}, \"marker\": {\"color\": \"blue\", \"size\": 2}, \"text\": [\"RKnee\"], \"x\": [-1.6582494849974847, 0.6122536916307693], \"y\": [-0.889162514454425, -0.1492152677899001], \"z\": [9.35349204280241, 16.380265428343286], \"type\": \"scatter3d\"}, {\"line\": {\"color\": \"red\", \"width\": 5}, \"marker\": {\"color\": \"blue\", \"size\": 2}, \"text\": [\"RAnkle\"], \"x\": [-4.079441163068022, -1.6582494849974847], \"y\": [3.359583721700272, -0.889162514454425], \"z\": [2.7601196551112954, 9.35349204280241], \"type\": \"scatter3d\"}, {\"line\": {\"color\": \"black\", \"width\": 5}, \"marker\": {\"color\": \"blue\", \"size\": 2}, \"text\": [\"LHip\"], \"x\": [3.6952014060986995, 2.39936], \"y\": [-0.9396908828778331, -0.155559], \"z\": [16.18512527956955, 18.2458], \"type\": \"scatter3d\"}, {\"line\": {\"color\": \"black\", \"width\": 5}, \"marker\": {\"color\": \"blue\", \"size\": 2}, \"text\": [\"LKnee\"], \"x\": [5.115554801557514, 3.6952014060986995], \"y\": [-4.714531124719242, -0.9396908828778331], \"z\": [9.72989700972856, 16.18512527956955], \"type\": \"scatter3d\"}, {\"line\": {\"color\": \"black\", \"width\": 5}, \"marker\": {\"color\": \"blue\", \"size\": 2}, \"text\": [\"LAnkle\"], \"x\": [8.677837399785709, 5.115554801557514], \"y\": [-2.5755948977496232, -4.714531124719242], \"z\": [2.7489677221645517, 9.72989700972856], \"type\": \"scatter3d\"}, {\"line\": {\"color\": \"black\", \"width\": 5}, \"marker\": {\"color\": \"blue\", \"size\": 2}, \"text\": [\"Spine1\"], \"x\": [2.855956025646, 2.39936], \"y\": [-1.3013443596982273, -0.155559], \"z\": [22.053438520655522, 18.2458], \"type\": \"scatter3d\"}, {\"line\": {\"color\": \"black\", \"width\": 5}, \"marker\": {\"color\": \"blue\", \"size\": 2}, \"text\": [\"Neck\"], \"x\": [3.7224762199638595, 2.855956025646], \"y\": [-2.7108409103708184, -1.3013443596982273], \"z\": [25.47409448805838, 22.053438520655522], \"type\": \"scatter3d\"}, {\"line\": {\"color\": \"black\", \"width\": 5}, \"marker\": {\"color\": \"blue\", \"size\": 2}, \"text\": [\"Head\"], \"x\": [4.162883888411379, 3.7224762199638595], \"y\": [-3.4979307096240393, -2.7108409103708184], \"z\": [27.00833628350822, 25.47409448805838], \"type\": \"scatter3d\"}, {\"line\": {\"color\": \"black\", \"width\": 5}, \"marker\": {\"color\": \"blue\", \"size\": 2}, \"text\": [\"Site\"], \"x\": [4.490828614827945, 4.162883888411379], \"y\": [-4.4676991577830325, -3.4979307096240393], \"z\": [28.467710703226068, 27.00833628350822], \"type\": \"scatter3d\"}, {\"line\": {\"color\": \"black\", \"width\": 5}, \"marker\": {\"color\": \"blue\", \"size\": 2}, \"text\": [\"LShoulder\"], \"x\": [6.9564987290620355, 3.7224762199638595], \"y\": [-2.1538173090095656, -2.7108409103708184], \"z\": [24.399583280028747, 25.47409448805838], \"type\": \"scatter3d\"}, {\"line\": {\"color\": \"black\", \"width\": 5}, \"marker\": {\"color\": \"blue\", \"size\": 2}, \"text\": [\"LElbow\"], \"x\": [8.029704429450199, 6.9564987290620355], \"y\": [-4.680526952847819, -2.1538173090095656], \"z\": [23.02550855374854, 24.399583280028747], \"type\": \"scatter3d\"}, {\"line\": {\"color\": \"black\", \"width\": 5}, \"marker\": {\"color\": \"blue\", \"size\": 2}, \"text\": [\"LWrist\"], \"x\": [7.622353911680993, 8.029704429450199], \"y\": [-5.181437089888023, -4.680526952847819], \"z\": [24.75149510479218, 23.02550855374854], \"type\": \"scatter3d\"}, {\"line\": {\"color\": \"red\", \"width\": 5}, \"marker\": {\"color\": \"blue\", \"size\": 2}, \"text\": [\"RShoulder\"], \"x\": [0.6682948871667196, 3.7224762199638595], \"y\": [-2.2917775875266644, -2.7108409103708184], \"z\": [25.894178471303135, 25.47409448805838], \"type\": \"scatter3d\"}, {\"line\": {\"color\": \"red\", \"width\": 5}, \"marker\": {\"color\": \"blue\", \"size\": 2}, \"text\": [\"RElbow\"], \"x\": [0.3626317022271188, 0.6682948871667196], \"y\": [-5.278484011374311, -2.2917775875266644], \"z\": [23.10289421678247, 25.894178471303135], \"type\": \"scatter3d\"}, {\"line\": {\"color\": \"red\", \"width\": 5}, \"marker\": {\"color\": \"blue\", \"size\": 2}, \"text\": [\"RWrist\"], \"x\": [1.279749383415155, 0.3626317022271188], \"y\": [-6.0401475512774, -5.278484011374311], \"z\": [24.471810824335527, 23.10289421678247], \"type\": \"scatter3d\"}, {\"line\": {\"color\": \"#1f77b4\", \"width\": 1}, \"marker\": {\"color\": \"#1f77b4\", \"size\": 1}, \"x\": [-7.68200201222643, -11.202351483965106, -10.955869104893946, -7.261455157517169, -6.696189981227148, -6.597702295821579, -6.51772886461975, -3.8476915953707365, -0.7970128046349325, -5.5020630048652315, -4.462829338330973, 2.1426985093789725, -6.550621684435969, -4.382364421867683, -6.238933645893352, -6.0372324143801315, -5.622770625880111, -4.622031270382943, -1.8315147477995466, -8.80699809751267, -5.336259744172091, -3.3386011500038735, -6.154514249840276, -2.3716164831946065, -3.7972808897935995, -4.576736217307565, -5.1162575489259865], \"y\": [3.4053156803910536, 3.729440580134272, 7.115938837216567, 6.2383953833599834, 6.738902405987771, 1.6798788535843796, 0.426703045092959, -8.57887314276572, -5.457469816021779, -6.145413681234592, -2.651627769211558, -7.988855680680584, 1.322022686032784, 0.4111020926919453, 3.3084733072069357, 4.507646719655471, 1.2562719135064158, 2.5679035233151972, -4.250612202162369, -1.208029219654247, 7.660506207376087, 1.1225209147164903, -0.12399672775587334, 6.2154445047511295, 4.537339874920296, 2.2609880239650932, 3.2751112379121494], \"z\": [1.865911632557168, 2.0831814398599002, 2.4502047462026466, 3.600422432940081, 3.3586116742422365, 2.8752883654471493, 3.1498232277243945, 4.465394927147864, 2.7671204675596304, 3.4168017828747113, 3.173826242416413, 3.3530783562129756, 2.08089440622238, 3.537429728401681, 1.885924112360784, 2.281288795428674, 3.0206222088432257, 3.2720535786143525, 2.7877711354988826, 1.5074967845823197, 2.5428062168417425, 3.6656635052035282, 3.822880886229819, 2.35614063913287, 3.5399158247028906, 3.365749150172884, 3.8878939422390904], \"type\": \"scatter3d\"}, {\"color\": \"#00FFFF\", \"x\": [-50, 50, -50, 50], \"y\": [-50, 50, 50, -50], \"z\": [0, 0, 0, 0], \"type\": \"mesh3d\"}], \"name\": \"frame28\"}, {\"data\": [{\"line\": {\"color\": \"red\", \"width\": 5}, \"marker\": {\"color\": \"blue\", \"size\": 2}, \"text\": [\"RHip\"], \"x\": [-0.8812481834898357, -0.446968], \"y\": [-2.808303983047778, -1.04703], \"z\": [15.045318822194568, 16.8847], \"type\": \"scatter3d\"}, {\"line\": {\"color\": \"red\", \"width\": 5}, \"marker\": {\"color\": \"blue\", \"size\": 2}, \"text\": [\"RKnee\"], \"x\": [1.8136114710158289, -0.8812481834898357], \"y\": [-6.223189905629086, -2.808303983047778], \"z\": [9.032454580176076, 15.045318822194568], \"type\": \"scatter3d\"}, {\"line\": {\"color\": \"red\", \"width\": 5}, \"marker\": {\"color\": \"blue\", \"size\": 2}, \"text\": [\"RAnkle\"], \"x\": [-2.1208858457289037, 1.8136114710158289], \"y\": [-7.870824768406664, -6.223189905629086], \"z\": [2.01878197679254, 9.032454580176076], \"type\": \"scatter3d\"}, {\"line\": {\"color\": \"black\", \"width\": 5}, \"marker\": {\"color\": \"blue\", \"size\": 2}, \"text\": [\"LHip\"], \"x\": [1.0589977291282613, -0.446968], \"y\": [-0.2791556664377476, -1.04703], \"z\": [14.965615766967483, 16.8847], \"type\": \"scatter3d\"}, {\"line\": {\"color\": \"black\", \"width\": 5}, \"marker\": {\"color\": \"blue\", \"size\": 2}, \"text\": [\"LKnee\"], \"x\": [3.7612746016235725, 1.0589977291282613], \"y\": [-0.4117862125653554, -0.2791556664377476], \"z\": [7.8510600199245335, 14.965615766967483], \"type\": \"scatter3d\"}, {\"line\": {\"color\": \"black\", \"width\": 5}, \"marker\": {\"color\": \"blue\", \"size\": 2}, \"text\": [\"LAnkle\"], \"x\": [-0.3761315135190886, 3.7612746016235725], \"y\": [4.477610994600053, -0.4117862125653554], \"z\": [2.8536662191925357, 7.8510600199245335], \"type\": \"scatter3d\"}, {\"line\": {\"color\": \"black\", \"width\": 5}, \"marker\": {\"color\": \"blue\", \"size\": 2}, \"text\": [\"Spine1\"], \"x\": [0.21939252076151083, -0.446968], \"y\": [-0.8244429195341318, -1.04703], \"z\": [20.821690145227066, 16.8847], \"type\": \"scatter3d\"}, {\"line\": {\"color\": \"black\", \"width\": 5}, \"marker\": {\"color\": \"blue\", \"size\": 2}, \"text\": [\"Neck\"], \"x\": [1.6703751532133178, 0.21939252076151083], \"y\": [-1.0618827832622975, -0.8244429195341318], \"z\": [24.29264850441539, 20.821690145227066], \"type\": \"scatter3d\"}, {\"line\": {\"color\": \"black\", \"width\": 5}, \"marker\": {\"color\": \"blue\", \"size\": 2}, \"text\": [\"Head\"], \"x\": [2.5666150545088966, 1.6703751532133178], \"y\": [-1.527278758748451, -1.0618827832622975], \"z\": [25.758093071346526, 24.29264850441539], \"type\": \"scatter3d\"}, {\"line\": {\"color\": \"black\", \"width\": 5}, \"marker\": {\"color\": \"blue\", \"size\": 2}, \"text\": [\"Site\"], \"x\": [3.3873000807325506, 2.5666150545088966], \"y\": [-2.248332333816638, -1.527278758748451], \"z\": [27.16675559770605, 25.758093071346526], \"type\": \"scatter3d\"}, {\"line\": {\"color\": \"black\", \"width\": 5}, \"marker\": {\"color\": \"blue\", \"size\": 2}, \"text\": [\"LShoulder\"], \"x\": [3.0963041439439802, 1.6703751532133178], \"y\": [1.883280983875812, -1.0618827832622975], \"z\": [23.548807047576595, 24.29264850441539], \"type\": \"scatter3d\"}, {\"line\": {\"color\": \"black\", \"width\": 5}, \"marker\": {\"color\": \"blue\", \"size\": 2}, \"text\": [\"LElbow\"], \"x\": [5.668873073919312, 3.0963041439439802], \"y\": [-2.1884404300307745, 1.883280983875812], \"z\": [22.550418680355982, 23.548807047576595], \"type\": \"scatter3d\"}, {\"line\": {\"color\": \"black\", \"width\": 5}, \"marker\": {\"color\": \"blue\", \"size\": 2}, \"text\": [\"LWrist\"], \"x\": [5.938377641128784, 5.668873073919312], \"y\": [-2.9519192477797835, -2.1884404300307745], \"z\": [24.2058166286457, 22.550418680355982], \"type\": \"scatter3d\"}, {\"line\": {\"color\": \"red\", \"width\": 5}, \"marker\": {\"color\": \"blue\", \"size\": 2}, \"text\": [\"RShoulder\"], \"x\": [-0.9518169465702238, 1.6703751532133178], \"y\": [-3.0485677312107815, -1.0618827832622975], \"z\": [24.589931088932307, 24.29264850441539], \"type\": \"scatter3d\"}, {\"line\": {\"color\": \"red\", \"width\": 5}, \"marker\": {\"color\": \"blue\", \"size\": 2}, \"text\": [\"RElbow\"], \"x\": [2.3388209745136432, -0.9518169465702238], \"y\": [-5.920753819844757, -3.0485677312107815], \"z\": [23.463294082448627, 24.589931088932307], \"type\": \"scatter3d\"}, {\"line\": {\"color\": \"red\", \"width\": 5}, \"marker\": {\"color\": \"blue\", \"size\": 2}, \"text\": [\"RWrist\"], \"x\": [2.977199045303565, 2.3388209745136432], \"y\": [-5.508382087898723, -5.920753819844757], \"z\": [25.11180609666823, 23.463294082448627], \"type\": \"scatter3d\"}, {\"line\": {\"color\": \"#1f77b4\", \"width\": 1}, \"marker\": {\"color\": \"#1f77b4\", \"size\": 1}, \"x\": [-7.68200201222643, -11.202351483965106, -10.955869104893946, -7.261455157517169, -6.696189981227148, -6.597702295821579, -6.51772886461975, -3.8476915953707365, -0.7970128046349325, -5.5020630048652315, -4.462829338330973, 2.1426985093789725, -6.550621684435969, -4.382364421867683, -6.238933645893352, -6.0372324143801315, -5.622770625880111, -4.622031270382943, -1.8315147477995466, -8.80699809751267, -5.336259744172091, -3.3386011500038735, -6.154514249840276, -2.3716164831946065, -3.7972808897935995, -4.576736217307565, -5.1162575489259865, -4.079441163068022], \"y\": [3.4053156803910536, 3.729440580134272, 7.115938837216567, 6.2383953833599834, 6.738902405987771, 1.6798788535843796, 0.426703045092959, -8.57887314276572, -5.457469816021779, -6.145413681234592, -2.651627769211558, -7.988855680680584, 1.322022686032784, 0.4111020926919453, 3.3084733072069357, 4.507646719655471, 1.2562719135064158, 2.5679035233151972, -4.250612202162369, -1.208029219654247, 7.660506207376087, 1.1225209147164903, -0.12399672775587334, 6.2154445047511295, 4.537339874920296, 2.2609880239650932, 3.2751112379121494, 3.359583721700272], \"z\": [1.865911632557168, 2.0831814398599002, 2.4502047462026466, 3.600422432940081, 3.3586116742422365, 2.8752883654471493, 3.1498232277243945, 4.465394927147864, 2.7671204675596304, 3.4168017828747113, 3.173826242416413, 3.3530783562129756, 2.08089440622238, 3.537429728401681, 1.885924112360784, 2.281288795428674, 3.0206222088432257, 3.2720535786143525, 2.7877711354988826, 1.5074967845823197, 2.5428062168417425, 3.6656635052035282, 3.822880886229819, 2.35614063913287, 3.5399158247028906, 3.365749150172884, 3.8878939422390904, 2.7601196551112954], \"type\": \"scatter3d\"}, {\"color\": \"#00FFFF\", \"x\": [-50, 50, -50, 50], \"y\": [-50, 50, 50, -50], \"z\": [0, 0, 0, 0], \"type\": \"mesh3d\"}], \"name\": \"frame29\"}, {\"data\": [{\"line\": {\"color\": \"red\", \"width\": 5}, \"marker\": {\"color\": \"blue\", \"size\": 2}, \"text\": [\"RHip\"], \"x\": [-2.410342197733371, -1.36923], \"y\": [3.583767457016349, 4.75943], \"z\": [15.329980567255834, 17.3813], \"type\": \"scatter3d\"}, {\"line\": {\"color\": \"red\", \"width\": 5}, \"marker\": {\"color\": \"blue\", \"size\": 2}, \"text\": [\"RKnee\"], \"x\": [-0.7804654252366008, -2.410342197733371], \"y\": [-0.25929052901780647, 3.583767457016349], \"z\": [9.19380440965364, 15.329980567255834], \"type\": \"scatter3d\"}, {\"line\": {\"color\": \"red\", \"width\": 5}, \"marker\": {\"color\": \"blue\", \"size\": 2}, \"text\": [\"RAnkle\"], \"x\": [-5.667957809262714, -0.7804654252366008], \"y\": [1.2765968301708028, -0.25929052901780647], \"z\": [2.7797540995971515, 9.19380440965364], \"type\": \"scatter3d\"}, {\"line\": {\"color\": \"black\", \"width\": 5}, \"marker\": {\"color\": \"blue\", \"size\": 2}, \"text\": [\"LHip\"], \"x\": [0.31779135382258694, -1.36923], \"y\": [5.22392387319303, 4.75943], \"z\": [15.516185403939147, 17.3813], \"type\": \"scatter3d\"}, {\"line\": {\"color\": \"black\", \"width\": 5}, \"marker\": {\"color\": \"blue\", \"size\": 2}, \"text\": [\"LKnee\"], \"x\": [3.714842931865923, 0.31779135382258694], \"y\": [3.093876133623652, 5.22392387319303], \"z\": [9.046275679805458, 15.516185403939147], \"type\": \"scatter3d\"}, {\"line\": {\"color\": \"black\", \"width\": 5}, \"marker\": {\"color\": \"blue\", \"size\": 2}, \"text\": [\"LAnkle\"], \"x\": [1.7098030629435024, 3.714842931865923], \"y\": [8.202178949297696, 3.093876133623652], \"z\": [3.056005512437415, 9.046275679805458], \"type\": \"scatter3d\"}, {\"line\": {\"color\": \"black\", \"width\": 5}, \"marker\": {\"color\": \"blue\", \"size\": 2}, \"text\": [\"Spine1\"], \"x\": [-0.9108116207195205, -1.36923], \"y\": [3.364428551871723, 4.75943], \"z\": [21.0894256954739, 17.3813], \"type\": \"scatter3d\"}, {\"line\": {\"color\": \"black\", \"width\": 5}, \"marker\": {\"color\": \"blue\", \"size\": 2}, \"text\": [\"Neck\"], \"x\": [0.4705562228444399, -0.9108116207195205], \"y\": [2.2909549031620218, 3.364428551871723], \"z\": [24.460497802676542, 21.0894256954739], \"type\": \"scatter3d\"}, {\"line\": {\"color\": \"black\", \"width\": 5}, \"marker\": {\"color\": \"blue\", \"size\": 2}, \"text\": [\"Head\"], \"x\": [1.016523704255119, 0.4705562228444399], \"y\": [1.6550768788329127, 2.2909549031620218], \"z\": [26.030512388863052, 24.460497802676542], \"type\": \"scatter3d\"}, {\"line\": {\"color\": \"black\", \"width\": 5}, \"marker\": {\"color\": \"blue\", \"size\": 2}, \"text\": [\"Site\"], \"x\": [1.5447245048315374, 1.016523704255119], \"y\": [0.8554841743208036, 1.6550768788329127], \"z\": [27.533651672069162, 26.030512388863052], \"type\": \"scatter3d\"}, {\"line\": {\"color\": \"black\", \"width\": 5}, \"marker\": {\"color\": \"blue\", \"size\": 2}, \"text\": [\"LShoulder\"], \"x\": [3.097433188288401, 0.4705562228444399], \"y\": [4.688593446335037, 2.2909549031620218], \"z\": [23.375495840310336, 24.460497802676542], \"type\": \"scatter3d\"}, {\"line\": {\"color\": \"black\", \"width\": 5}, \"marker\": {\"color\": \"blue\", \"size\": 2}, \"text\": [\"LElbow\"], \"x\": [4.586837571138436, 3.097433188288401], \"y\": [1.1632281827057114, 4.688593446335037], \"z\": [21.715351724472622, 23.375495840310336], \"type\": \"scatter3d\"}, {\"line\": {\"color\": \"black\", \"width\": 5}, \"marker\": {\"color\": \"blue\", \"size\": 2}, \"text\": [\"LWrist\"], \"x\": [4.449978760741354, 4.586837571138436], \"y\": [0.23143880607048983, 1.1632281827057114], \"z\": [23.299306650506328, 21.715351724472622], \"type\": \"scatter3d\"}, {\"line\": {\"color\": \"red\", \"width\": 5}, \"marker\": {\"color\": \"blue\", \"size\": 2}, \"text\": [\"RShoulder\"], \"x\": [-2.1291690173057023, 0.4705562228444399], \"y\": [1.1903385005090623, 2.2909549031620218], \"z\": [24.871890540895386, 24.460497802676542], \"type\": \"scatter3d\"}, {\"line\": {\"color\": \"red\", \"width\": 5}, \"marker\": {\"color\": \"blue\", \"size\": 2}, \"text\": [\"RElbow\"], \"x\": [0.49018737674823254, -2.1291690173057023], \"y\": [-2.450198048440998, 1.1903385005090623], \"z\": [23.14289736344761, 24.871890540895386], \"type\": \"scatter3d\"}, {\"line\": {\"color\": \"red\", \"width\": 5}, \"marker\": {\"color\": \"blue\", \"size\": 2}, \"text\": [\"RWrist\"], \"x\": [1.3490184913861376, 0.49018737674823254], \"y\": [-2.52187090317066, -2.450198048440998], \"z\": [24.74053342526667, 23.14289736344761], \"type\": \"scatter3d\"}, {\"line\": {\"color\": \"#1f77b4\", \"width\": 1}, \"marker\": {\"color\": \"#1f77b4\", \"size\": 1}, \"x\": [-7.68200201222643, -11.202351483965106, -10.955869104893946, -7.261455157517169, -6.696189981227148, -6.597702295821579, -6.51772886461975, -3.8476915953707365, -0.7970128046349325, -5.5020630048652315, -4.462829338330973, 2.1426985093789725, -6.550621684435969, -4.382364421867683, -6.238933645893352, -6.0372324143801315, -5.622770625880111, -4.622031270382943, -1.8315147477995466, -8.80699809751267, -5.336259744172091, -3.3386011500038735, -6.154514249840276, -2.3716164831946065, -3.7972808897935995, -4.576736217307565, -5.1162575489259865, -4.079441163068022, -2.1208858457289037], \"y\": [3.4053156803910536, 3.729440580134272, 7.115938837216567, 6.2383953833599834, 6.738902405987771, 1.6798788535843796, 0.426703045092959, -8.57887314276572, -5.457469816021779, -6.145413681234592, -2.651627769211558, -7.988855680680584, 1.322022686032784, 0.4111020926919453, 3.3084733072069357, 4.507646719655471, 1.2562719135064158, 2.5679035233151972, -4.250612202162369, -1.208029219654247, 7.660506207376087, 1.1225209147164903, -0.12399672775587334, 6.2154445047511295, 4.537339874920296, 2.2609880239650932, 3.2751112379121494, 3.359583721700272, -7.870824768406664], \"z\": [1.865911632557168, 2.0831814398599002, 2.4502047462026466, 3.600422432940081, 3.3586116742422365, 2.8752883654471493, 3.1498232277243945, 4.465394927147864, 2.7671204675596304, 3.4168017828747113, 3.173826242416413, 3.3530783562129756, 2.08089440622238, 3.537429728401681, 1.885924112360784, 2.281288795428674, 3.0206222088432257, 3.2720535786143525, 2.7877711354988826, 1.5074967845823197, 2.5428062168417425, 3.6656635052035282, 3.822880886229819, 2.35614063913287, 3.5399158247028906, 3.365749150172884, 3.8878939422390904, 2.7601196551112954, 2.01878197679254], \"type\": \"scatter3d\"}, {\"color\": \"#00FFFF\", \"x\": [-50, 50, -50, 50], \"y\": [-50, 50, 50, -50], \"z\": [0, 0, 0, 0], \"type\": \"mesh3d\"}], \"name\": \"frame30\"}, {\"data\": [{\"line\": {\"color\": \"red\", \"width\": 5}, \"marker\": {\"color\": \"blue\", \"size\": 2}, \"text\": [\"RHip\"], \"x\": [-3.295326396973794, -1.79553], \"y\": [5.384259562116715, 5.54977], \"z\": [16.44864375320467, 18.5456], \"type\": \"scatter3d\"}, {\"line\": {\"color\": \"red\", \"width\": 5}, \"marker\": {\"color\": \"blue\", \"size\": 2}, \"text\": [\"RKnee\"], \"x\": [-5.351177721159068, -3.295326396973794], \"y\": [3.417622854244857, 5.384259562116715], \"z\": [9.594151342619657, 16.44864375320467], \"type\": \"scatter3d\"}, {\"line\": {\"color\": \"red\", \"width\": 5}, \"marker\": {\"color\": \"blue\", \"size\": 2}, \"text\": [\"RAnkle\"], \"x\": [-7.811198372064535, -5.351177721159068], \"y\": [7.0431575239128525, 3.417622854244857], \"z\": [2.652222941943201, 9.594151342619657], \"type\": \"scatter3d\"}, {\"line\": {\"color\": \"black\", \"width\": 5}, \"marker\": {\"color\": \"blue\", \"size\": 2}, \"text\": [\"LHip\"], \"x\": [-0.16289554103049686, -1.79553], \"y\": [4.846948252253448, 5.54977], \"z\": [16.70685195385384, 18.5456], \"type\": \"scatter3d\"}, {\"line\": {\"color\": \"black\", \"width\": 5}, \"marker\": {\"color\": \"blue\", \"size\": 2}, \"text\": [\"LKnee\"], \"x\": [1.393222413004066, -0.16289554103049686], \"y\": [2.9170727908010265, 4.846948252253448], \"z\": [9.510264411720684, 16.70685195385384], \"type\": \"scatter3d\"}, {\"line\": {\"color\": \"black\", \"width\": 5}, \"marker\": {\"color\": \"blue\", \"size\": 2}, \"text\": [\"LAnkle\"], \"x\": [3.231762778979294, 1.393222413004066], \"y\": [8.437658156214097, 2.9170727908010265], \"z\": [3.8409447209184355, 9.510264411720684], \"type\": \"scatter3d\"}, {\"line\": {\"color\": \"black\", \"width\": 5}, \"marker\": {\"color\": \"blue\", \"size\": 2}, \"text\": [\"Spine1\"], \"x\": [-2.3022963304849973, -1.79553], \"y\": [4.802202427498189, 5.54977], \"z\": [22.448909919922396, 18.5456], \"type\": \"scatter3d\"}, {\"line\": {\"color\": \"black\", \"width\": 5}, \"marker\": {\"color\": \"blue\", \"size\": 2}, \"text\": [\"Neck\"], \"x\": [-2.863012136136549, -2.3022963304849973], \"y\": [3.744725393784428, 4.802202427498189], \"z\": [26.055324530522217, 22.448909919922396], \"type\": \"scatter3d\"}, {\"line\": {\"color\": \"black\", \"width\": 5}, \"marker\": {\"color\": \"blue\", \"size\": 2}, \"text\": [\"Head\"], \"x\": [-2.892385478480908, -2.863012136136549], \"y\": [3.040091146882614, 3.744725393784428], \"z\": [27.68933644549519, 26.055324530522217], \"type\": \"scatter3d\"}, {\"line\": {\"color\": \"black\", \"width\": 5}, \"marker\": {\"color\": \"blue\", \"size\": 2}, \"text\": [\"Site\"], \"x\": [-2.8991527394417886, -2.892385478480908], \"y\": [2.123702545268957, 3.040091146882614], \"z\": [29.21837484219018, 27.68933644549519], \"type\": \"scatter3d\"}, {\"line\": {\"color\": \"black\", \"width\": 5}, \"marker\": {\"color\": \"blue\", \"size\": 2}, \"text\": [\"LShoulder\"], \"x\": [0.8059041252338663, -2.863012136136549], \"y\": [3.732168246164327, 3.744725393784428], \"z\": [25.94743426621852, 26.055324530522217], \"type\": \"scatter3d\"}, {\"line\": {\"color\": \"black\", \"width\": 5}, \"marker\": {\"color\": \"blue\", \"size\": 2}, \"text\": [\"LElbow\"], \"x\": [1.0479366240166943, 0.8059041252338663], \"y\": [2.874128423758839, 3.732168246164327], \"z\": [21.851927926998446, 25.94743426621852], \"type\": \"scatter3d\"}, {\"line\": {\"color\": \"black\", \"width\": 5}, \"marker\": {\"color\": \"blue\", \"size\": 2}, \"text\": [\"LWrist\"], \"x\": [0.5571966118030538, 1.0479366240166943], \"y\": [1.1115522696427116, 2.874128423758839], \"z\": [22.071870022682187, 21.851927926998446], \"type\": \"scatter3d\"}, {\"line\": {\"color\": \"red\", \"width\": 5}, \"marker\": {\"color\": \"blue\", \"size\": 2}, \"text\": [\"RShoulder\"], \"x\": [-5.606302631343812, -2.863012136136549], \"y\": [4.43969387994931, 3.744725393784428], \"z\": [25.526284209952617, 26.055324530522217], \"type\": \"scatter3d\"}, {\"line\": {\"color\": \"red\", \"width\": 5}, \"marker\": {\"color\": \"blue\", \"size\": 2}, \"text\": [\"RElbow\"], \"x\": [-4.840750932752751, -5.606302631343812], \"y\": [2.931572975489208, 4.43969387994931], \"z\": [19.298366591886648, 25.526284209952617], \"type\": \"scatter3d\"}, {\"line\": {\"color\": \"red\", \"width\": 5}, \"marker\": {\"color\": \"blue\", \"size\": 2}, \"text\": [\"RWrist\"], \"x\": [-3.9599491437413805, -4.840750932752751], \"y\": [1.3589327076262163, 2.931572975489208], \"z\": [19.083518589870835, 19.298366591886648], \"type\": \"scatter3d\"}, {\"line\": {\"color\": \"#1f77b4\", \"width\": 1}, \"marker\": {\"color\": \"#1f77b4\", \"size\": 1}, \"x\": [-7.68200201222643, -11.202351483965106, -10.955869104893946, -7.261455157517169, -6.696189981227148, -6.597702295821579, -6.51772886461975, -3.8476915953707365, -0.7970128046349325, -5.5020630048652315, -4.462829338330973, 2.1426985093789725, -6.550621684435969, -4.382364421867683, -6.238933645893352, -6.0372324143801315, -5.622770625880111, -4.622031270382943, -1.8315147477995466, -8.80699809751267, -5.336259744172091, -3.3386011500038735, -6.154514249840276, -2.3716164831946065, -3.7972808897935995, -4.576736217307565, -5.1162575489259865, -4.079441163068022, -2.1208858457289037, -5.667957809262714], \"y\": [3.4053156803910536, 3.729440580134272, 7.115938837216567, 6.2383953833599834, 6.738902405987771, 1.6798788535843796, 0.426703045092959, -8.57887314276572, -5.457469816021779, -6.145413681234592, -2.651627769211558, -7.988855680680584, 1.322022686032784, 0.4111020926919453, 3.3084733072069357, 4.507646719655471, 1.2562719135064158, 2.5679035233151972, -4.250612202162369, -1.208029219654247, 7.660506207376087, 1.1225209147164903, -0.12399672775587334, 6.2154445047511295, 4.537339874920296, 2.2609880239650932, 3.2751112379121494, 3.359583721700272, -7.870824768406664, 1.2765968301708028], \"z\": [1.865911632557168, 2.0831814398599002, 2.4502047462026466, 3.600422432940081, 3.3586116742422365, 2.8752883654471493, 3.1498232277243945, 4.465394927147864, 2.7671204675596304, 3.4168017828747113, 3.173826242416413, 3.3530783562129756, 2.08089440622238, 3.537429728401681, 1.885924112360784, 2.281288795428674, 3.0206222088432257, 3.2720535786143525, 2.7877711354988826, 1.5074967845823197, 2.5428062168417425, 3.6656635052035282, 3.822880886229819, 2.35614063913287, 3.5399158247028906, 3.365749150172884, 3.8878939422390904, 2.7601196551112954, 2.01878197679254, 2.7797540995971515], \"type\": \"scatter3d\"}, {\"color\": \"#00FFFF\", \"x\": [-50, 50, -50, 50], \"y\": [-50, 50, 50, -50], \"z\": [0, 0, 0, 0], \"type\": \"mesh3d\"}], \"name\": \"frame31\"}, {\"data\": [{\"line\": {\"color\": \"red\", \"width\": 5}, \"marker\": {\"color\": \"blue\", \"size\": 2}, \"text\": [\"RHip\"], \"x\": [-0.5995908988141185, 1.03606], \"y\": [1.7892059110553384, 2.11541], \"z\": [13.455122541067949, 15.428], \"type\": \"scatter3d\"}, {\"line\": {\"color\": \"red\", \"width\": 5}, \"marker\": {\"color\": \"blue\", \"size\": 2}, \"text\": [\"RKnee\"], \"x\": [-2.7365083680152082, -0.5995908988141185], \"y\": [-0.09134522881179263, 1.7892059110553384], \"z\": [6.601265090344406, 13.455122541067949], \"type\": \"scatter3d\"}, {\"line\": {\"color\": \"red\", \"width\": 5}, \"marker\": {\"color\": \"blue\", \"size\": 2}, \"text\": [\"RAnkle\"], \"x\": [-2.302780558625111, -2.7365083680152082], \"y\": [7.153181259315232, -0.09134522881179263], \"z\": [2.765213824504499, 6.601265090344406], \"type\": \"scatter3d\"}, {\"line\": {\"color\": \"black\", \"width\": 5}, \"marker\": {\"color\": \"blue\", \"size\": 2}, \"text\": [\"LHip\"], \"x\": [2.5412465645157303, 1.03606], \"y\": [1.2475668425739812, 2.11541], \"z\": [13.551378108665292, 15.428], \"type\": \"scatter3d\"}, {\"line\": {\"color\": \"black\", \"width\": 5}, \"marker\": {\"color\": \"blue\", \"size\": 2}, \"text\": [\"LKnee\"], \"x\": [3.4333217961562688, 2.5412465645157303], \"y\": [-4.112734728947067, 1.2475668425739812], \"z\": [8.22144720117564, 13.551378108665292], \"type\": \"scatter3d\"}, {\"line\": {\"color\": \"black\", \"width\": 5}, \"marker\": {\"color\": \"blue\", \"size\": 2}, \"text\": [\"LAnkle\"], \"x\": [6.70929202932251, 3.4333217961562688], \"y\": [-1.1456683544994393, -4.112734728947067], \"z\": [1.4050834072102445, 8.22144720117564], \"type\": \"scatter3d\"}, {\"line\": {\"color\": \"black\", \"width\": 5}, \"marker\": {\"color\": \"blue\", \"size\": 2}, \"text\": [\"Spine1\"], \"x\": [1.204608580721854, 1.03606], \"y\": [1.324579099528227, 2.11541], \"z\": [19.34888522604023, 15.428], \"type\": \"scatter3d\"}, {\"line\": {\"color\": \"black\", \"width\": 5}, \"marker\": {\"color\": \"blue\", \"size\": 2}, \"text\": [\"Neck\"], \"x\": [1.34460220407624, 1.204608580721854], \"y\": [0.182483072382415, 1.324579099528227], \"z\": [22.97127180168922, 19.34888522604023], \"type\": \"scatter3d\"}, {\"line\": {\"color\": \"black\", \"width\": 5}, \"marker\": {\"color\": \"blue\", \"size\": 2}, \"text\": [\"Head\"], \"x\": [1.5881553710216696, 1.34460220407624], \"y\": [-0.24115376534815525, 0.182483072382415], \"z\": [24.68258148669936, 22.97127180168922], \"type\": \"scatter3d\"}, {\"line\": {\"color\": \"black\", \"width\": 5}, \"marker\": {\"color\": \"blue\", \"size\": 2}, \"text\": [\"Site\"], \"x\": [1.8484459864493916, 1.5881553710216696], \"y\": [-0.7712384234477561, -0.24115376534815525], \"z\": [26.36455394019663, 24.68258148669936], \"type\": \"scatter3d\"}, {\"line\": {\"color\": \"black\", \"width\": 5}, \"marker\": {\"color\": \"blue\", \"size\": 2}, \"text\": [\"LShoulder\"], \"x\": [4.870289504851926, 1.34460220407624], \"y\": [0.866597080995839, 0.182483072382415], \"z\": [22.41459748536112, 22.97127180168922], \"type\": \"scatter3d\"}, {\"line\": {\"color\": \"black\", \"width\": 5}, \"marker\": {\"color\": \"blue\", \"size\": 2}, \"text\": [\"LElbow\"], \"x\": [4.2540834747114165, 4.870289504851926], \"y\": [-2.669880792263208, 0.866597080995839], \"z\": [19.86962929016196, 22.41459748536112], \"type\": \"scatter3d\"}, {\"line\": {\"color\": \"black\", \"width\": 5}, \"marker\": {\"color\": \"blue\", \"size\": 2}, \"text\": [\"LWrist\"], \"x\": [3.9782782478880567, 4.2540834747114165], \"y\": [-3.872863174552199, -2.669880792263208], \"z\": [21.238073607209323, 19.86962929016196], \"type\": \"scatter3d\"}, {\"line\": {\"color\": \"red\", \"width\": 5}, \"marker\": {\"color\": \"blue\", \"size\": 2}, \"text\": [\"RShoulder\"], \"x\": [-1.571355822989651, 1.34460220407624], \"y\": [0.5174643068285862, 0.182483072382415], \"z\": [22.836103307094497, 22.97127180168922], \"type\": \"scatter3d\"}, {\"line\": {\"color\": \"red\", \"width\": 5}, \"marker\": {\"color\": \"blue\", \"size\": 2}, \"text\": [\"RElbow\"], \"x\": [-0.5183680677096842, -1.571355822989651], \"y\": [-3.5895011580901164, 0.5174643068285862], \"z\": [19.893918572605454, 22.836103307094497], \"type\": \"scatter3d\"}, {\"line\": {\"color\": \"red\", \"width\": 5}, \"marker\": {\"color\": \"blue\", \"size\": 2}, \"text\": [\"RWrist\"], \"x\": [0.32630374348800206, -0.5183680677096842], \"y\": [-4.483064147570297, -3.5895011580901164], \"z\": [21.229300009798312, 19.893918572605454], \"type\": \"scatter3d\"}, {\"line\": {\"color\": \"#1f77b4\", \"width\": 1}, \"marker\": {\"color\": \"#1f77b4\", \"size\": 1}, \"x\": [-7.68200201222643, -11.202351483965106, -10.955869104893946, -7.261455157517169, -6.696189981227148, -6.597702295821579, -6.51772886461975, -3.8476915953707365, -0.7970128046349325, -5.5020630048652315, -4.462829338330973, 2.1426985093789725, -6.550621684435969, -4.382364421867683, -6.238933645893352, -6.0372324143801315, -5.622770625880111, -4.622031270382943, -1.8315147477995466, -8.80699809751267, -5.336259744172091, -3.3386011500038735, -6.154514249840276, -2.3716164831946065, -3.7972808897935995, -4.576736217307565, -5.1162575489259865, -4.079441163068022, -2.1208858457289037, -5.667957809262714, -7.811198372064535], \"y\": [3.4053156803910536, 3.729440580134272, 7.115938837216567, 6.2383953833599834, 6.738902405987771, 1.6798788535843796, 0.426703045092959, -8.57887314276572, -5.457469816021779, -6.145413681234592, -2.651627769211558, -7.988855680680584, 1.322022686032784, 0.4111020926919453, 3.3084733072069357, 4.507646719655471, 1.2562719135064158, 2.5679035233151972, -4.250612202162369, -1.208029219654247, 7.660506207376087, 1.1225209147164903, -0.12399672775587334, 6.2154445047511295, 4.537339874920296, 2.2609880239650932, 3.2751112379121494, 3.359583721700272, -7.870824768406664, 1.2765968301708028, 7.0431575239128525], \"z\": [1.865911632557168, 2.0831814398599002, 2.4502047462026466, 3.600422432940081, 3.3586116742422365, 2.8752883654471493, 3.1498232277243945, 4.465394927147864, 2.7671204675596304, 3.4168017828747113, 3.173826242416413, 3.3530783562129756, 2.08089440622238, 3.537429728401681, 1.885924112360784, 2.281288795428674, 3.0206222088432257, 3.2720535786143525, 2.7877711354988826, 1.5074967845823197, 2.5428062168417425, 3.6656635052035282, 3.822880886229819, 2.35614063913287, 3.5399158247028906, 3.365749150172884, 3.8878939422390904, 2.7601196551112954, 2.01878197679254, 2.7797540995971515, 2.652222941943201], \"type\": \"scatter3d\"}, {\"color\": \"#00FFFF\", \"x\": [-50, 50, -50, 50], \"y\": [-50, 50, 50, -50], \"z\": [0, 0, 0, 0], \"type\": \"mesh3d\"}], \"name\": \"frame32\"}, {\"data\": [{\"line\": {\"color\": \"red\", \"width\": 5}, \"marker\": {\"color\": \"blue\", \"size\": 2}, \"text\": [\"RHip\"], \"x\": [-0.9785843669111796, 0.496526], \"y\": [2.483264717530592, 3.12917], \"z\": [14.797185099825477, 16.8173], \"type\": \"scatter3d\"}, {\"line\": {\"color\": \"red\", \"width\": 5}, \"marker\": {\"color\": \"blue\", \"size\": 2}, \"text\": [\"RKnee\"], \"x\": [-4.237877565977608, -0.9785843669111796], \"y\": [-0.03318082063762828, 2.483264717530592], \"z\": [8.622821933423328, 14.797185099825477], \"type\": \"scatter3d\"}, {\"line\": {\"color\": \"red\", \"width\": 5}, \"marker\": {\"color\": \"blue\", \"size\": 2}, \"text\": [\"RAnkle\"], \"x\": [-6.416882824203098, -4.237877565977608], \"y\": [5.871462844333443, -0.03318082063762828], \"z\": [3.3527467500595236, 8.622821933423328], \"type\": \"scatter3d\"}, {\"line\": {\"color\": \"black\", \"width\": 5}, \"marker\": {\"color\": \"blue\", \"size\": 2}, \"text\": [\"LHip\"], \"x\": [2.135471235264066, 0.496526], \"y\": [1.9599315221794804, 3.12917], \"z\": [15.24021789664721, 16.8173], \"type\": \"scatter3d\"}, {\"line\": {\"color\": \"black\", \"width\": 5}, \"marker\": {\"color\": \"blue\", \"size\": 2}, \"text\": [\"LKnee\"], \"x\": [3.5639718582227067, 2.135471235264066], \"y\": [-2.5696552706242697, 1.9599315221794804], \"z\": [9.292190989189946, 15.24021789664721], \"type\": \"scatter3d\"}, {\"line\": {\"color\": \"black\", \"width\": 5}, \"marker\": {\"color\": \"blue\", \"size\": 2}, \"text\": [\"LAnkle\"], \"x\": [6.950836335788079, 3.5639718582227067], \"y\": [0.2782211737200968, -2.5696552706242697], \"z\": [2.479186660774639, 9.292190989189946], \"type\": \"scatter3d\"}, {\"line\": {\"color\": \"black\", \"width\": 5}, \"marker\": {\"color\": \"blue\", \"size\": 2}, \"text\": [\"Spine1\"], \"x\": [-0.33248461141141816, 0.496526], \"y\": [3.05136465023947, 3.12917], \"z\": [20.72035162971228, 16.8173], \"type\": \"scatter3d\"}, {\"line\": {\"color\": \"black\", \"width\": 5}, \"marker\": {\"color\": \"blue\", \"size\": 2}, \"text\": [\"Neck\"], \"x\": [-1.3876159856938948, -0.33248461141141816], \"y\": [2.074883887259107, 3.05136465023947], \"z\": [24.23005481512829, 20.72035162971228], \"type\": \"scatter3d\"}, {\"line\": {\"color\": \"black\", \"width\": 5}, \"marker\": {\"color\": \"blue\", \"size\": 2}, \"text\": [\"Head\"], \"x\": [-1.88894024609218, -1.3876159856938948], \"y\": [0.692607834706723, 2.074883887259107], \"z\": [25.23272826840075, 24.23005481512829], \"type\": \"scatter3d\"}, {\"line\": {\"color\": \"black\", \"width\": 5}, \"marker\": {\"color\": \"blue\", \"size\": 2}, \"text\": [\"Site\"], \"x\": [-2.4471723145656634, -1.88894024609218], \"y\": [-0.9055612197121874, 0.692607834706723], \"z\": [25.791302269569368, 25.23272826840075], \"type\": \"scatter3d\"}, {\"line\": {\"color\": \"black\", \"width\": 5}, \"marker\": {\"color\": \"blue\", \"size\": 2}, \"text\": [\"LShoulder\"], \"x\": [2.0147091892491127, -1.3876159856938948], \"y\": [2.621702948576677, 2.074883887259107], \"z\": [24.885880156567605, 24.23005481512829], \"type\": \"scatter3d\"}, {\"line\": {\"color\": \"black\", \"width\": 5}, \"marker\": {\"color\": \"blue\", \"size\": 2}, \"text\": [\"LElbow\"], \"x\": [1.635821415822241, 2.0147091892491127], \"y\": [-2.1276310543613786, 2.621702948576677], \"z\": [25.596601843199593, 24.885880156567605], \"type\": \"scatter3d\"}, {\"line\": {\"color\": \"black\", \"width\": 5}, \"marker\": {\"color\": \"blue\", \"size\": 2}, \"text\": [\"LWrist\"], \"x\": [0.7467096452424707, 1.635821415822241], \"y\": [-2.2159988245896627, -2.1276310543613786], \"z\": [27.208292378228382, 25.596601843199593], \"type\": \"scatter3d\"}, {\"line\": {\"color\": \"red\", \"width\": 5}, \"marker\": {\"color\": \"blue\", \"size\": 2}, \"text\": [\"RShoulder\"], \"x\": [-4.190228617972145, -1.3876159856938948], \"y\": [2.761178269397865, 2.074883887259107], \"z\": [23.076557403476233, 24.23005481512829], \"type\": \"scatter3d\"}, {\"line\": {\"color\": \"red\", \"width\": 5}, \"marker\": {\"color\": \"blue\", \"size\": 2}, \"text\": [\"RElbow\"], \"x\": [-1.8472637806870371, -4.190228617972145], \"y\": [-3.2523874445400556, 2.761178269397865], \"z\": [25.181077437438763, 23.076557403476233], \"type\": \"scatter3d\"}, {\"line\": {\"color\": \"red\", \"width\": 5}, \"marker\": {\"color\": \"blue\", \"size\": 2}, \"text\": [\"RWrist\"], \"x\": [-1.926245699311741, -1.8472637806870371], \"y\": [-3.57177544236691, -3.2523874445400556], \"z\": [26.96627267353327, 25.181077437438763], \"type\": \"scatter3d\"}, {\"line\": {\"color\": \"#1f77b4\", \"width\": 1}, \"marker\": {\"color\": \"#1f77b4\", \"size\": 1}, \"x\": [-7.68200201222643, -11.202351483965106, -10.955869104893946, -7.261455157517169, -6.696189981227148, -6.597702295821579, -6.51772886461975, -3.8476915953707365, -0.7970128046349325, -5.5020630048652315, -4.462829338330973, 2.1426985093789725, -6.550621684435969, -4.382364421867683, -6.238933645893352, -6.0372324143801315, -5.622770625880111, -4.622031270382943, -1.8315147477995466, -8.80699809751267, -5.336259744172091, -3.3386011500038735, -6.154514249840276, -2.3716164831946065, -3.7972808897935995, -4.576736217307565, -5.1162575489259865, -4.079441163068022, -2.1208858457289037, -5.667957809262714, -7.811198372064535, -2.302780558625111], \"y\": [3.4053156803910536, 3.729440580134272, 7.115938837216567, 6.2383953833599834, 6.738902405987771, 1.6798788535843796, 0.426703045092959, -8.57887314276572, -5.457469816021779, -6.145413681234592, -2.651627769211558, -7.988855680680584, 1.322022686032784, 0.4111020926919453, 3.3084733072069357, 4.507646719655471, 1.2562719135064158, 2.5679035233151972, -4.250612202162369, -1.208029219654247, 7.660506207376087, 1.1225209147164903, -0.12399672775587334, 6.2154445047511295, 4.537339874920296, 2.2609880239650932, 3.2751112379121494, 3.359583721700272, -7.870824768406664, 1.2765968301708028, 7.0431575239128525, 7.153181259315232], \"z\": [1.865911632557168, 2.0831814398599002, 2.4502047462026466, 3.600422432940081, 3.3586116742422365, 2.8752883654471493, 3.1498232277243945, 4.465394927147864, 2.7671204675596304, 3.4168017828747113, 3.173826242416413, 3.3530783562129756, 2.08089440622238, 3.537429728401681, 1.885924112360784, 2.281288795428674, 3.0206222088432257, 3.2720535786143525, 2.7877711354988826, 1.5074967845823197, 2.5428062168417425, 3.6656635052035282, 3.822880886229819, 2.35614063913287, 3.5399158247028906, 3.365749150172884, 3.8878939422390904, 2.7601196551112954, 2.01878197679254, 2.7797540995971515, 2.652222941943201, 2.765213824504499], \"type\": \"scatter3d\"}, {\"color\": \"#00FFFF\", \"x\": [-50, 50, -50, 50], \"y\": [-50, 50, 50, -50], \"z\": [0, 0, 0, 0], \"type\": \"mesh3d\"}], \"name\": \"frame33\"}, {\"data\": [{\"line\": {\"color\": \"red\", \"width\": 5}, \"marker\": {\"color\": \"blue\", \"size\": 2}, \"text\": [\"RHip\"], \"x\": [0.573542496534903, 2.11221], \"y\": [3.542924393480272, 3.31741], \"z\": [14.88517634399342, 16.9481], \"type\": \"scatter3d\"}, {\"line\": {\"color\": \"red\", \"width\": 5}, \"marker\": {\"color\": \"blue\", \"size\": 2}, \"text\": [\"RKnee\"], \"x\": [-1.8233882695542436, 0.573542496534903], \"y\": [3.054285763835863, 3.542924393480272], \"z\": [7.8784505746439795, 14.88517634399342], \"type\": \"scatter3d\"}, {\"line\": {\"color\": \"red\", \"width\": 5}, \"marker\": {\"color\": \"blue\", \"size\": 2}, \"text\": [\"RAnkle\"], \"x\": [-1.427036396898762, -1.8233882695542436], \"y\": [9.124324108019174, 3.054285763835863], \"z\": [2.3662719801904943, 7.8784505746439795], \"type\": \"scatter3d\"}, {\"line\": {\"color\": \"black\", \"width\": 5}, \"marker\": {\"color\": \"blue\", \"size\": 2}, \"text\": [\"LHip\"], \"x\": [3.311276548977294, 2.11221], \"y\": [1.9321260797213184, 3.31741], \"z\": [15.163814166881465, 16.9481], \"type\": \"scatter3d\"}, {\"line\": {\"color\": \"black\", \"width\": 5}, \"marker\": {\"color\": \"blue\", \"size\": 2}, \"text\": [\"LKnee\"], \"x\": [3.7504900866073423, 3.311276548977294], \"y\": [-1.925919922553932, 1.9321260797213184], \"z\": [8.617107578996112, 15.163814166881465], \"type\": \"scatter3d\"}, {\"line\": {\"color\": \"black\", \"width\": 5}, \"marker\": {\"color\": \"blue\", \"size\": 2}, \"text\": [\"LAnkle\"], \"x\": [7.639800652542901, 3.7504900866073423], \"y\": [1.4219427904749076, -1.925919922553932], \"z\": [2.3192223952963795, 8.617107578996112], \"type\": \"scatter3d\"}, {\"line\": {\"color\": \"black\", \"width\": 5}, \"marker\": {\"color\": \"blue\", \"size\": 2}, \"text\": [\"Spine1\"], \"x\": [1.110950288403169, 2.11221], \"y\": [3.026395660041011, 3.31741], \"z\": [20.81241142828537, 16.9481], \"type\": \"scatter3d\"}, {\"line\": {\"color\": \"black\", \"width\": 5}, \"marker\": {\"color\": \"blue\", \"size\": 2}, \"text\": [\"Neck\"], \"x\": [-0.1508570564323427, 1.110950288403169], \"y\": [2.3265877388516945, 3.026395660041011], \"z\": [24.326472831724367, 20.81241142828537], \"type\": \"scatter3d\"}, {\"line\": {\"color\": \"black\", \"width\": 5}, \"marker\": {\"color\": \"blue\", \"size\": 2}, \"text\": [\"Head\"], \"x\": [-0.6076939931541556, -0.1508570564323427], \"y\": [1.7188235790390198, 2.3265877388516945], \"z\": [25.935599890944623, 24.326472831724367], \"type\": \"scatter3d\"}, {\"line\": {\"color\": \"black\", \"width\": 5}, \"marker\": {\"color\": \"blue\", \"size\": 2}, \"text\": [\"Site\"], \"x\": [-1.0752262271453639, -0.6076939931541556], \"y\": [0.9165490485035259, 1.7188235790390198], \"z\": [27.457290224550373, 25.935599890944623], \"type\": \"scatter3d\"}, {\"line\": {\"color\": \"black\", \"width\": 5}, \"marker\": {\"color\": \"blue\", \"size\": 2}, \"text\": [\"LShoulder\"], \"x\": [3.4254183787901225, -0.1508570564323427], \"y\": [1.593335680535607, 2.3265877388516945], \"z\": [24.76653995142432, 24.326472831724367], \"type\": \"scatter3d\"}, {\"line\": {\"color\": \"black\", \"width\": 5}, \"marker\": {\"color\": \"blue\", \"size\": 2}, \"text\": [\"LElbow\"], \"x\": [3.427124778252355, 3.4254183787901225], \"y\": [-1.2539302704397226, 1.593335680535607], \"z\": [22.60020534597406, 24.76653995142432], \"type\": \"scatter3d\"}, {\"line\": {\"color\": \"black\", \"width\": 5}, \"marker\": {\"color\": \"blue\", \"size\": 2}, \"text\": [\"LWrist\"], \"x\": [2.615497429709373, 3.427124778252355], \"y\": [-2.093494283707244, -1.2539302704397226], \"z\": [24.025781825445865, 22.60020534597406], \"type\": \"scatter3d\"}, {\"line\": {\"color\": \"red\", \"width\": 5}, \"marker\": {\"color\": \"blue\", \"size\": 2}, \"text\": [\"RShoulder\"], \"x\": [-2.5251526670226627, -0.1508570564323427], \"y\": [3.731545890689988, 2.3265877388516945], \"z\": [23.420019729748415, 24.326472831724367], \"type\": \"scatter3d\"}, {\"line\": {\"color\": \"red\", \"width\": 5}, \"marker\": {\"color\": \"blue\", \"size\": 2}, \"text\": [\"RElbow\"], \"x\": [-2.093644626030417, -2.5251526670226627], \"y\": [-1.9360352747236922, 3.731545890689988], \"z\": [20.941211894177552, 23.420019729748415], \"type\": \"scatter3d\"}, {\"line\": {\"color\": \"red\", \"width\": 5}, \"marker\": {\"color\": \"blue\", \"size\": 2}, \"text\": [\"RWrist\"], \"x\": [-1.509765231180453, -2.093644626030417], \"y\": [-3.083759021743672, -1.9360352747236922], \"z\": [22.220658618506494, 20.941211894177552], \"type\": \"scatter3d\"}, {\"line\": {\"color\": \"#1f77b4\", \"width\": 1}, \"marker\": {\"color\": \"#1f77b4\", \"size\": 1}, \"x\": [-7.68200201222643, -11.202351483965106, -10.955869104893946, -7.261455157517169, -6.696189981227148, -6.597702295821579, -6.51772886461975, -3.8476915953707365, -0.7970128046349325, -5.5020630048652315, -4.462829338330973, 2.1426985093789725, -6.550621684435969, -4.382364421867683, -6.238933645893352, -6.0372324143801315, -5.622770625880111, -4.622031270382943, -1.8315147477995466, -8.80699809751267, -5.336259744172091, -3.3386011500038735, -6.154514249840276, -2.3716164831946065, -3.7972808897935995, -4.576736217307565, -5.1162575489259865, -4.079441163068022, -2.1208858457289037, -5.667957809262714, -7.811198372064535, -2.302780558625111, -6.416882824203098], \"y\": [3.4053156803910536, 3.729440580134272, 7.115938837216567, 6.2383953833599834, 6.738902405987771, 1.6798788535843796, 0.426703045092959, -8.57887314276572, -5.457469816021779, -6.145413681234592, -2.651627769211558, -7.988855680680584, 1.322022686032784, 0.4111020926919453, 3.3084733072069357, 4.507646719655471, 1.2562719135064158, 2.5679035233151972, -4.250612202162369, -1.208029219654247, 7.660506207376087, 1.1225209147164903, -0.12399672775587334, 6.2154445047511295, 4.537339874920296, 2.2609880239650932, 3.2751112379121494, 3.359583721700272, -7.870824768406664, 1.2765968301708028, 7.0431575239128525, 7.153181259315232, 5.871462844333443], \"z\": [1.865911632557168, 2.0831814398599002, 2.4502047462026466, 3.600422432940081, 3.3586116742422365, 2.8752883654471493, 3.1498232277243945, 4.465394927147864, 2.7671204675596304, 3.4168017828747113, 3.173826242416413, 3.3530783562129756, 2.08089440622238, 3.537429728401681, 1.885924112360784, 2.281288795428674, 3.0206222088432257, 3.2720535786143525, 2.7877711354988826, 1.5074967845823197, 2.5428062168417425, 3.6656635052035282, 3.822880886229819, 2.35614063913287, 3.5399158247028906, 3.365749150172884, 3.8878939422390904, 2.7601196551112954, 2.01878197679254, 2.7797540995971515, 2.652222941943201, 2.765213824504499, 3.3527467500595236], \"type\": \"scatter3d\"}, {\"color\": \"#00FFFF\", \"x\": [-50, 50, -50, 50], \"y\": [-50, 50, 50, -50], \"z\": [0, 0, 0, 0], \"type\": \"mesh3d\"}], \"name\": \"frame34\"}, {\"data\": [{\"line\": {\"color\": \"red\", \"width\": 5}, \"marker\": {\"color\": \"blue\", \"size\": 2}, \"text\": [\"RHip\"], \"x\": [1.0148849620078002, 2.75492], \"y\": [-1.5879988333129464, -0.780828], \"z\": [16.337262005384968, 18.0678], \"type\": \"scatter3d\"}, {\"line\": {\"color\": \"red\", \"width\": 5}, \"marker\": {\"color\": \"blue\", \"size\": 2}, \"text\": [\"RKnee\"], \"x\": [-0.7252198102641445, 1.0148849620078002], \"y\": [-2.1077046974861355, -1.5879988333129464], \"z\": [9.141416536579278, 16.337262005384968], \"type\": \"scatter3d\"}, {\"line\": {\"color\": \"red\", \"width\": 5}, \"marker\": {\"color\": \"blue\", \"size\": 2}, \"text\": [\"RAnkle\"], \"x\": [-3.9840501846998935, -0.7252198102641445], \"y\": [3.245368448314138, -2.1077046974861355], \"z\": [3.83941638094638, 9.141416536579278], \"type\": \"scatter3d\"}, {\"line\": {\"color\": \"black\", \"width\": 5}, \"marker\": {\"color\": \"blue\", \"size\": 2}, \"text\": [\"LHip\"], \"x\": [4.078057964158252, 2.75492], \"y\": [-0.8295854752849523, -0.780828], \"z\": [15.879792527587373, 18.0678], \"type\": \"scatter3d\"}, {\"line\": {\"color\": \"black\", \"width\": 5}, \"marker\": {\"color\": \"blue\", \"size\": 2}, \"text\": [\"LKnee\"], \"x\": [6.863046405514888, 4.078057964158252], \"y\": [-4.786133632140516, -0.8295854752849523], \"z\": [10.003878922098966, 15.879792527587373], \"type\": \"scatter3d\"}, {\"line\": {\"color\": \"black\", \"width\": 5}, \"marker\": {\"color\": \"blue\", \"size\": 2}, \"text\": [\"LAnkle\"], \"x\": [8.434400619267976, 6.863046405514888], \"y\": [-1.782797757803798, -4.786133632140516], \"z\": [2.620851171135686, 10.003878922098966], \"type\": \"scatter3d\"}, {\"line\": {\"color\": \"black\", \"width\": 5}, \"marker\": {\"color\": \"blue\", \"size\": 2}, \"text\": [\"Spine1\"], \"x\": [3.7246700457222484, 2.75492], \"y\": [-1.520779945970903, -0.780828], \"z\": [21.883805552060252, 18.0678], \"type\": \"scatter3d\"}, {\"line\": {\"color\": \"black\", \"width\": 5}, \"marker\": {\"color\": \"blue\", \"size\": 2}, \"text\": [\"Neck\"], \"x\": [5.179501259632675, 3.7246700457222484], \"y\": [-2.30294434074488, -1.520779945970903], \"z\": [25.30533495175858, 21.883805552060252], \"type\": \"scatter3d\"}, {\"line\": {\"color\": \"black\", \"width\": 5}, \"marker\": {\"color\": \"blue\", \"size\": 2}, \"text\": [\"Head\"], \"x\": [5.946304002985934, 5.179501259632675], \"y\": [-2.703773127151381, -2.30294434074488], \"z\": [26.860557440727543, 25.30533495175858], \"type\": \"scatter3d\"}, {\"line\": {\"color\": \"black\", \"width\": 5}, \"marker\": {\"color\": \"blue\", \"size\": 2}, \"text\": [\"Site\"], \"x\": [6.686585882933356, 5.946304002985934], \"y\": [-3.3104656112774555, -2.703773127151381], \"z\": [28.364445485590718, 26.860557440727543], \"type\": \"scatter3d\"}, {\"line\": {\"color\": \"black\", \"width\": 5}, \"marker\": {\"color\": \"blue\", \"size\": 2}, \"text\": [\"LShoulder\"], \"x\": [7.765842010352384, 5.179501259632675], \"y\": [-0.3348300741656871, -2.30294434074488], \"z\": [24.18771698213587, 25.30533495175858], \"type\": \"scatter3d\"}, {\"line\": {\"color\": \"black\", \"width\": 5}, \"marker\": {\"color\": \"blue\", \"size\": 2}, \"text\": [\"LElbow\"], \"x\": [9.383848749318577, 7.765842010352384], \"y\": [-2.446393819979222, -0.3348300741656871], \"z\": [22.136466168589447, 24.18771698213587], \"type\": \"scatter3d\"}, {\"line\": {\"color\": \"black\", \"width\": 5}, \"marker\": {\"color\": \"blue\", \"size\": 2}, \"text\": [\"LWrist\"], \"x\": [9.397649122295853, 9.383848749318577], \"y\": [-3.4355734598936687, -2.446393819979222], \"z\": [23.691203501319453, 22.136466168589447], \"type\": \"scatter3d\"}, {\"line\": {\"color\": \"red\", \"width\": 5}, \"marker\": {\"color\": \"blue\", \"size\": 2}, \"text\": [\"RShoulder\"], \"x\": [2.281500863940222, 5.179501259632675], \"y\": [-3.3778074217072276, -2.30294434074488], \"z\": [25.755086253742157, 25.30533495175858], \"type\": \"scatter3d\"}, {\"line\": {\"color\": \"red\", \"width\": 5}, \"marker\": {\"color\": \"blue\", \"size\": 2}, \"text\": [\"RElbow\"], \"x\": [2.358336101897036, 2.281500863940222], \"y\": [-7.463700910916296, -3.3778074217072276], \"z\": [21.662601793047145, 25.755086253742157], \"type\": \"scatter3d\"}, {\"line\": {\"color\": \"red\", \"width\": 5}, \"marker\": {\"color\": \"blue\", \"size\": 2}, \"text\": [\"RWrist\"], \"x\": [3.6449850448484997, 2.358336101897036], \"y\": [-8.600737296139243, -7.463700910916296], \"z\": [22.251542896962484, 21.662601793047145], \"type\": \"scatter3d\"}, {\"line\": {\"color\": \"#1f77b4\", \"width\": 1}, \"marker\": {\"color\": \"#1f77b4\", \"size\": 1}, \"x\": [-7.68200201222643, -11.202351483965106, -10.955869104893946, -7.261455157517169, -6.696189981227148, -6.597702295821579, -6.51772886461975, -3.8476915953707365, -0.7970128046349325, -5.5020630048652315, -4.462829338330973, 2.1426985093789725, -6.550621684435969, -4.382364421867683, -6.238933645893352, -6.0372324143801315, -5.622770625880111, -4.622031270382943, -1.8315147477995466, -8.80699809751267, -5.336259744172091, -3.3386011500038735, -6.154514249840276, -2.3716164831946065, -3.7972808897935995, -4.576736217307565, -5.1162575489259865, -4.079441163068022, -2.1208858457289037, -5.667957809262714, -7.811198372064535, -2.302780558625111, -6.416882824203098, -1.427036396898762], \"y\": [3.4053156803910536, 3.729440580134272, 7.115938837216567, 6.2383953833599834, 6.738902405987771, 1.6798788535843796, 0.426703045092959, -8.57887314276572, -5.457469816021779, -6.145413681234592, -2.651627769211558, -7.988855680680584, 1.322022686032784, 0.4111020926919453, 3.3084733072069357, 4.507646719655471, 1.2562719135064158, 2.5679035233151972, -4.250612202162369, -1.208029219654247, 7.660506207376087, 1.1225209147164903, -0.12399672775587334, 6.2154445047511295, 4.537339874920296, 2.2609880239650932, 3.2751112379121494, 3.359583721700272, -7.870824768406664, 1.2765968301708028, 7.0431575239128525, 7.153181259315232, 5.871462844333443, 9.124324108019174], \"z\": [1.865911632557168, 2.0831814398599002, 2.4502047462026466, 3.600422432940081, 3.3586116742422365, 2.8752883654471493, 3.1498232277243945, 4.465394927147864, 2.7671204675596304, 3.4168017828747113, 3.173826242416413, 3.3530783562129756, 2.08089440622238, 3.537429728401681, 1.885924112360784, 2.281288795428674, 3.0206222088432257, 3.2720535786143525, 2.7877711354988826, 1.5074967845823197, 2.5428062168417425, 3.6656635052035282, 3.822880886229819, 2.35614063913287, 3.5399158247028906, 3.365749150172884, 3.8878939422390904, 2.7601196551112954, 2.01878197679254, 2.7797540995971515, 2.652222941943201, 2.765213824504499, 3.3527467500595236, 2.3662719801904943], \"type\": \"scatter3d\"}, {\"color\": \"#00FFFF\", \"x\": [-50, 50, -50, 50], \"y\": [-50, 50, 50, -50], \"z\": [0, 0, 0, 0], \"type\": \"mesh3d\"}], \"name\": \"frame35\"}, {\"data\": [{\"line\": {\"color\": \"red\", \"width\": 5}, \"marker\": {\"color\": \"blue\", \"size\": 2}, \"text\": [\"RHip\"], \"x\": [2.0240337642654773, 3.95928], \"y\": [-4.3057995350286316, -3.4841], \"z\": [15.11928705054648, 16.6205], \"type\": \"scatter3d\"}, {\"line\": {\"color\": \"red\", \"width\": 5}, \"marker\": {\"color\": \"blue\", \"size\": 2}, \"text\": [\"RKnee\"], \"x\": [0.21994469357459256, 2.0240337642654773], \"y\": [-2.974123395914369, -4.3057995350286316], \"z\": [8.044673838490404, 15.11928705054648], \"type\": \"scatter3d\"}, {\"line\": {\"color\": \"red\", \"width\": 5}, \"marker\": {\"color\": \"blue\", \"size\": 2}, \"text\": [\"RAnkle\"], \"x\": [-2.278256598067263, 0.21994469357459256], \"y\": [2.977563710489315, -2.974123395914369], \"z\": [2.972890714393764, 8.044673838490404], \"type\": \"scatter3d\"}, {\"line\": {\"color\": \"black\", \"width\": 5}, \"marker\": {\"color\": \"blue\", \"size\": 2}, \"text\": [\"LHip\"], \"x\": [5.074363401186287, 3.95928], \"y\": [-3.799153549446842, -3.4841], \"z\": [14.340636334710721, 16.6205], \"type\": \"scatter3d\"}, {\"line\": {\"color\": \"black\", \"width\": 5}, \"marker\": {\"color\": \"blue\", \"size\": 2}, \"text\": [\"LKnee\"], \"x\": [8.158783791918633, 5.074363401186287], \"y\": [-8.401945506392888, -3.799153549446842], \"z\": [9.121685128819031, 14.340636334710721], \"type\": \"scatter3d\"}, {\"line\": {\"color\": \"black\", \"width\": 5}, \"marker\": {\"color\": \"blue\", \"size\": 2}, \"text\": [\"LAnkle\"], \"x\": [9.192349279737863, 8.158783791918633], \"y\": [-5.256138533633369, -8.401945506392888], \"z\": [1.7032001026713086, 9.121685128819031], \"type\": \"scatter3d\"}, {\"line\": {\"color\": \"black\", \"width\": 5}, \"marker\": {\"color\": \"blue\", \"size\": 2}, \"text\": [\"Spine1\"], \"x\": [5.598701436751574, 3.95928], \"y\": [-3.3289890216822644, -3.4841], \"z\": [20.26075762814651, 16.6205], \"type\": \"scatter3d\"}, {\"line\": {\"color\": \"black\", \"width\": 5}, \"marker\": {\"color\": \"blue\", \"size\": 2}, \"text\": [\"Neck\"], \"x\": [8.077052514015083, 5.598701436751574], \"y\": [-3.2028480737195335, -3.3289890216822644], \"z\": [23.137894587546953, 20.26075762814651], \"type\": \"scatter3d\"}, {\"line\": {\"color\": \"black\", \"width\": 5}, \"marker\": {\"color\": \"blue\", \"size\": 2}, \"text\": [\"Head\"], \"x\": [9.005592366159812, 8.077052514015083], \"y\": [-3.614636769695639, -3.2028480737195335], \"z\": [24.59926756056457, 23.137894587546953], \"type\": \"scatter3d\"}, {\"line\": {\"color\": \"black\", \"width\": 5}, \"marker\": {\"color\": \"blue\", \"size\": 2}, \"text\": [\"Site\"], \"x\": [9.809330869935161, 9.005592366159812], \"y\": [-4.309267623278326, -3.614636769695639], \"z\": [26.030792858404567, 24.59926756056457], \"type\": \"scatter3d\"}, {\"line\": {\"color\": \"black\", \"width\": 5}, \"marker\": {\"color\": \"blue\", \"size\": 2}, \"text\": [\"LShoulder\"], \"x\": [9.456048065705717, 8.077052514015083], \"y\": [-0.6191883111008489, -3.2028480737195335], \"z\": [21.168178653255058, 23.137894587546953], \"type\": \"scatter3d\"}, {\"line\": {\"color\": \"black\", \"width\": 5}, \"marker\": {\"color\": \"blue\", \"size\": 2}, \"text\": [\"LElbow\"], \"x\": [8.441141400268673, 9.456048065705717], \"y\": [-2.1073140252650946, -0.6191883111008489], \"z\": [16.826221098977765, 21.168178653255058], \"type\": \"scatter3d\"}, {\"line\": {\"color\": \"black\", \"width\": 5}, \"marker\": {\"color\": \"blue\", \"size\": 2}, \"text\": [\"LWrist\"], \"x\": [9.734411329929605, 8.441141400268673], \"y\": [-3.399074169211828, -2.1073140252650946], \"z\": [16.59237584320908, 16.826221098977765], \"type\": \"scatter3d\"}, {\"line\": {\"color\": \"red\", \"width\": 5}, \"marker\": {\"color\": \"blue\", \"size\": 2}, \"text\": [\"RShoulder\"], \"x\": [5.918457125297887, 8.077052514015083], \"y\": [-4.878941542960856, -3.2028480737195335], \"z\": [24.504989724241653, 23.137894587546953], \"type\": \"scatter3d\"}, {\"line\": {\"color\": \"red\", \"width\": 5}, \"marker\": {\"color\": \"blue\", \"size\": 2}, \"text\": [\"RElbow\"], \"x\": [8.961621487771891, 5.918457125297887], \"y\": [-10.846938293179972, -4.878941542960856], \"z\": [20.253237708439933, 24.504989724241653], \"type\": \"scatter3d\"}, {\"line\": {\"color\": \"red\", \"width\": 5}, \"marker\": {\"color\": \"blue\", \"size\": 2}, \"text\": [\"RWrist\"], \"x\": [10.629100487370255, 8.961621487771891], \"y\": [-11.558455321374417, -10.846938293179972], \"z\": [20.161443525139557, 20.253237708439933], \"type\": \"scatter3d\"}, {\"line\": {\"color\": \"#1f77b4\", \"width\": 1}, \"marker\": {\"color\": \"#1f77b4\", \"size\": 1}, \"x\": [-7.68200201222643, -11.202351483965106, -10.955869104893946, -7.261455157517169, -6.696189981227148, -6.597702295821579, -6.51772886461975, -3.8476915953707365, -0.7970128046349325, -5.5020630048652315, -4.462829338330973, 2.1426985093789725, -6.550621684435969, -4.382364421867683, -6.238933645893352, -6.0372324143801315, -5.622770625880111, -4.622031270382943, -1.8315147477995466, -8.80699809751267, -5.336259744172091, -3.3386011500038735, -6.154514249840276, -2.3716164831946065, -3.7972808897935995, -4.576736217307565, -5.1162575489259865, -4.079441163068022, -2.1208858457289037, -5.667957809262714, -7.811198372064535, -2.302780558625111, -6.416882824203098, -1.427036396898762, -3.9840501846998935], \"y\": [3.4053156803910536, 3.729440580134272, 7.115938837216567, 6.2383953833599834, 6.738902405987771, 1.6798788535843796, 0.426703045092959, -8.57887314276572, -5.457469816021779, -6.145413681234592, -2.651627769211558, -7.988855680680584, 1.322022686032784, 0.4111020926919453, 3.3084733072069357, 4.507646719655471, 1.2562719135064158, 2.5679035233151972, -4.250612202162369, -1.208029219654247, 7.660506207376087, 1.1225209147164903, -0.12399672775587334, 6.2154445047511295, 4.537339874920296, 2.2609880239650932, 3.2751112379121494, 3.359583721700272, -7.870824768406664, 1.2765968301708028, 7.0431575239128525, 7.153181259315232, 5.871462844333443, 9.124324108019174, 3.245368448314138], \"z\": [1.865911632557168, 2.0831814398599002, 2.4502047462026466, 3.600422432940081, 3.3586116742422365, 2.8752883654471493, 3.1498232277243945, 4.465394927147864, 2.7671204675596304, 3.4168017828747113, 3.173826242416413, 3.3530783562129756, 2.08089440622238, 3.537429728401681, 1.885924112360784, 2.281288795428674, 3.0206222088432257, 3.2720535786143525, 2.7877711354988826, 1.5074967845823197, 2.5428062168417425, 3.6656635052035282, 3.822880886229819, 2.35614063913287, 3.5399158247028906, 3.365749150172884, 3.8878939422390904, 2.7601196551112954, 2.01878197679254, 2.7797540995971515, 2.652222941943201, 2.765213824504499, 3.3527467500595236, 2.3662719801904943, 3.83941638094638], \"type\": \"scatter3d\"}, {\"color\": \"#00FFFF\", \"x\": [-50, 50, -50, 50], \"y\": [-50, 50, 50, -50], \"z\": [0, 0, 0, 0], \"type\": \"mesh3d\"}], \"name\": \"frame36\"}, {\"data\": [{\"line\": {\"color\": \"red\", \"width\": 5}, \"marker\": {\"color\": \"blue\", \"size\": 2}, \"text\": [\"RHip\"], \"x\": [-0.8873566756095621, 0.399124], \"y\": [1.9456330589739639, 2.56985], \"z\": [16.211312418650564, 18.3629], \"type\": \"scatter3d\"}, {\"line\": {\"color\": \"red\", \"width\": 5}, \"marker\": {\"color\": \"blue\", \"size\": 2}, \"text\": [\"RKnee\"], \"x\": [-1.6459974958464159, -0.8873566756095621], \"y\": [0.3125715133947189, 1.9456330589739639], \"z\": [9.011602361371061, 16.211312418650564], \"type\": \"scatter3d\"}, {\"line\": {\"color\": \"red\", \"width\": 5}, \"marker\": {\"color\": \"blue\", \"size\": 2}, \"text\": [\"RAnkle\"], \"x\": [-5.53744891249996, -1.6459974958464159], \"y\": [4.949095329845723, 0.3125715133947189], \"z\": [3.4667104836811014, 9.011602361371061], \"type\": \"scatter3d\"}, {\"line\": {\"color\": \"black\", \"width\": 5}, \"marker\": {\"color\": \"blue\", \"size\": 2}, \"text\": [\"LHip\"], \"x\": [2.168718173563541, 0.399124], \"y\": [2.797642548904799, 2.56985], \"z\": [16.530662275664014, 18.3629], \"type\": \"scatter3d\"}, {\"line\": {\"color\": \"black\", \"width\": 5}, \"marker\": {\"color\": \"blue\", \"size\": 2}, \"text\": [\"LKnee\"], \"x\": [5.194658103346759, 2.168718173563541], \"y\": [0.6444810739018951, 2.797642548904799], \"z\": [9.886538718784758, 16.530662275664014], \"type\": \"scatter3d\"}, {\"line\": {\"color\": \"black\", \"width\": 5}, \"marker\": {\"color\": \"blue\", \"size\": 2}, \"text\": [\"LAnkle\"], \"x\": [6.360354393082208, 5.194658103346759], \"y\": [5.1031327826319925, 0.6444810739018951], \"z\": [3.196257983943613, 9.886538718784758], \"type\": \"scatter3d\"}, {\"line\": {\"color\": \"black\", \"width\": 5}, \"marker\": {\"color\": \"blue\", \"size\": 2}, \"text\": [\"Spine1\"], \"x\": [0.50555473963215, 0.399124], \"y\": [1.0082300601213041, 2.56985], \"z\": [22.044529378377327, 18.3629], \"type\": \"scatter3d\"}, {\"line\": {\"color\": \"black\", \"width\": 5}, \"marker\": {\"color\": \"blue\", \"size\": 2}, \"text\": [\"Neck\"], \"x\": [1.0305746544604841, 0.50555473963215], \"y\": [-0.8968906022675469, 1.0082300601213041], \"z\": [25.283672884903567, 22.044529378377327], \"type\": \"scatter3d\"}, {\"line\": {\"color\": \"black\", \"width\": 5}, \"marker\": {\"color\": \"blue\", \"size\": 2}, \"text\": [\"Head\"], \"x\": [1.5320106065093428, 1.0305746544604841], \"y\": [-1.6208007331929748, -0.8968906022675469], \"z\": [26.830244338719197, 25.283672884903567], \"type\": \"scatter3d\"}, {\"line\": {\"color\": \"black\", \"width\": 5}, \"marker\": {\"color\": \"blue\", \"size\": 2}, \"text\": [\"Site\"], \"x\": [2.0351573602434647, 1.5320106065093428], \"y\": [-2.417885090402617, -1.6208007331929748], \"z\": [28.343278427976422, 26.830244338719197], \"type\": \"scatter3d\"}, {\"line\": {\"color\": \"black\", \"width\": 5}, \"marker\": {\"color\": \"blue\", \"size\": 2}, \"text\": [\"LShoulder\"], \"x\": [3.8563009044976306, 1.0305746544604841], \"y\": [1.1319249856965983, -0.8968906022675469], \"z\": [25.48004324500728, 25.283672884903567], \"type\": \"scatter3d\"}, {\"line\": {\"color\": \"black\", \"width\": 5}, \"marker\": {\"color\": \"blue\", \"size\": 2}, \"text\": [\"LElbow\"], \"x\": [5.731345726171036, 3.8563009044976306], \"y\": [1.028065056971458, 1.1319249856965983], \"z\": [23.121593056546594, 25.48004324500728], \"type\": \"scatter3d\"}, {\"line\": {\"color\": \"black\", \"width\": 5}, \"marker\": {\"color\": \"blue\", \"size\": 2}, \"text\": [\"LWrist\"], \"x\": [5.883838579519068, 5.731345726171036], \"y\": [-0.582732544791754, 1.028065056971458], \"z\": [24.0036089293809, 23.121593056546594], \"type\": \"scatter3d\"}, {\"line\": {\"color\": \"red\", \"width\": 5}, \"marker\": {\"color\": \"blue\", \"size\": 2}, \"text\": [\"RShoulder\"], \"x\": [-1.9842057032982945, 1.0305746544604841], \"y\": [-1.5608330110445254, -0.8968906022675469], \"z\": [24.82285809854176, 25.283672884903567], \"type\": \"scatter3d\"}, {\"line\": {\"color\": \"red\", \"width\": 5}, \"marker\": {\"color\": \"blue\", \"size\": 2}, \"text\": [\"RElbow\"], \"x\": [-1.1495889118548677, -1.9842057032982945], \"y\": [-4.145151821857409, -1.5608330110445254], \"z\": [20.13875322544395, 24.82285809854176], \"type\": \"scatter3d\"}, {\"line\": {\"color\": \"red\", \"width\": 5}, \"marker\": {\"color\": \"blue\", \"size\": 2}, \"text\": [\"RWrist\"], \"x\": [-0.01288436940488391, -1.1495889118548677], \"y\": [-5.414848000603602, -4.145151821857409], \"z\": [20.76400778516414, 20.13875322544395], \"type\": \"scatter3d\"}, {\"line\": {\"color\": \"#1f77b4\", \"width\": 1}, \"marker\": {\"color\": \"#1f77b4\", \"size\": 1}, \"x\": [-7.68200201222643, -11.202351483965106, -10.955869104893946, -7.261455157517169, -6.696189981227148, -6.597702295821579, -6.51772886461975, -3.8476915953707365, -0.7970128046349325, -5.5020630048652315, -4.462829338330973, 2.1426985093789725, -6.550621684435969, -4.382364421867683, -6.238933645893352, -6.0372324143801315, -5.622770625880111, -4.622031270382943, -1.8315147477995466, -8.80699809751267, -5.336259744172091, -3.3386011500038735, -6.154514249840276, -2.3716164831946065, -3.7972808897935995, -4.576736217307565, -5.1162575489259865, -4.079441163068022, -2.1208858457289037, -5.667957809262714, -7.811198372064535, -2.302780558625111, -6.416882824203098, -1.427036396898762, -3.9840501846998935, -2.278256598067263], \"y\": [3.4053156803910536, 3.729440580134272, 7.115938837216567, 6.2383953833599834, 6.738902405987771, 1.6798788535843796, 0.426703045092959, -8.57887314276572, -5.457469816021779, -6.145413681234592, -2.651627769211558, -7.988855680680584, 1.322022686032784, 0.4111020926919453, 3.3084733072069357, 4.507646719655471, 1.2562719135064158, 2.5679035233151972, -4.250612202162369, -1.208029219654247, 7.660506207376087, 1.1225209147164903, -0.12399672775587334, 6.2154445047511295, 4.537339874920296, 2.2609880239650932, 3.2751112379121494, 3.359583721700272, -7.870824768406664, 1.2765968301708028, 7.0431575239128525, 7.153181259315232, 5.871462844333443, 9.124324108019174, 3.245368448314138, 2.977563710489315], \"z\": [1.865911632557168, 2.0831814398599002, 2.4502047462026466, 3.600422432940081, 3.3586116742422365, 2.8752883654471493, 3.1498232277243945, 4.465394927147864, 2.7671204675596304, 3.4168017828747113, 3.173826242416413, 3.3530783562129756, 2.08089440622238, 3.537429728401681, 1.885924112360784, 2.281288795428674, 3.0206222088432257, 3.2720535786143525, 2.7877711354988826, 1.5074967845823197, 2.5428062168417425, 3.6656635052035282, 3.822880886229819, 2.35614063913287, 3.5399158247028906, 3.365749150172884, 3.8878939422390904, 2.7601196551112954, 2.01878197679254, 2.7797540995971515, 2.652222941943201, 2.765213824504499, 3.3527467500595236, 2.3662719801904943, 3.83941638094638, 2.972890714393764], \"type\": \"scatter3d\"}, {\"color\": \"#00FFFF\", \"x\": [-50, 50, -50, 50], \"y\": [-50, 50, 50, -50], \"z\": [0, 0, 0, 0], \"type\": \"mesh3d\"}], \"name\": \"frame37\"}, {\"data\": [{\"line\": {\"color\": \"red\", \"width\": 5}, \"marker\": {\"color\": \"blue\", \"size\": 2}, \"text\": [\"RHip\"], \"x\": [-0.4350085021686402, -0.102072], \"y\": [-1.5987933136355852, -0.123232], \"z\": [15.64715060376669, 17.7414], \"type\": \"scatter3d\"}, {\"line\": {\"color\": \"red\", \"width\": 5}, \"marker\": {\"color\": \"blue\", \"size\": 2}, \"text\": [\"RKnee\"], \"x\": [1.2322171752363862, -0.4350085021686402], \"y\": [-2.3583482187540974, -1.5987933136355852], \"z\": [8.455371567854732, 15.64715060376669], \"type\": \"scatter3d\"}, {\"line\": {\"color\": \"red\", \"width\": 5}, \"marker\": {\"color\": \"blue\", \"size\": 2}, \"text\": [\"RAnkle\"], \"x\": [-4.686226410672376, 1.2322171752363862], \"y\": [0.7019325432311811, -2.3583482187540974], \"z\": [3.660240668473299, 8.455371567854732], \"type\": \"scatter3d\"}, {\"line\": {\"color\": \"black\", \"width\": 5}, \"marker\": {\"color\": \"blue\", \"size\": 2}, \"text\": [\"LHip\"], \"x\": [1.2610872046974553, -0.102072], \"y\": [1.084744620980131, -0.123232], \"z\": [15.94611798072266, 17.7414], \"type\": \"scatter3d\"}, {\"line\": {\"color\": \"black\", \"width\": 5}, \"marker\": {\"color\": \"blue\", \"size\": 2}, \"text\": [\"LKnee\"], \"x\": [4.922249111529684, 1.2610872046974553], \"y\": [-0.2863871910926119, 1.084744620980131], \"z\": [9.415215617262177, 15.94611798072266], \"type\": \"scatter3d\"}, {\"line\": {\"color\": \"black\", \"width\": 5}, \"marker\": {\"color\": \"blue\", \"size\": 2}, \"text\": [\"LAnkle\"], \"x\": [2.2470896835335825, 4.922249111529684], \"y\": [1.7307891985261206, -0.2863871910926119], \"z\": [2.0143507584352243, 9.415215617262177], \"type\": \"scatter3d\"}, {\"line\": {\"color\": \"black\", \"width\": 5}, \"marker\": {\"color\": \"blue\", \"size\": 2}, \"text\": [\"Spine1\"], \"x\": [0.6231298929773395, -0.102072], \"y\": [-0.7071878685160848, -0.123232], \"z\": [21.638803751154562, 17.7414], \"type\": \"scatter3d\"}, {\"line\": {\"color\": \"black\", \"width\": 5}, \"marker\": {\"color\": \"blue\", \"size\": 2}, \"text\": [\"Neck\"], \"x\": [1.6299576826145308, 0.6231298929773395], \"y\": [-1.1718277121141356, -0.7071878685160848], \"z\": [25.264218970071664, 21.638803751154562], \"type\": \"scatter3d\"}, {\"line\": {\"color\": \"black\", \"width\": 5}, \"marker\": {\"color\": \"blue\", \"size\": 2}, \"text\": [\"Head\"], \"x\": [2.1846998629853367, 1.6299576826145308], \"y\": [-1.2962241612829086, -1.1718277121141356], \"z\": [26.950680884901836, 25.264218970071664], \"type\": \"scatter3d\"}, {\"line\": {\"color\": \"black\", \"width\": 5}, \"marker\": {\"color\": \"blue\", \"size\": 2}, \"text\": [\"Site\"], \"x\": [2.783073063018508, 2.1846998629853367], \"y\": [-1.6343698561691231, -1.2962241612829086], \"z\": [28.59548460755932, 26.950680884901836], \"type\": \"scatter3d\"}, {\"line\": {\"color\": \"black\", \"width\": 5}, \"marker\": {\"color\": \"blue\", \"size\": 2}, \"text\": [\"LShoulder\"], \"x\": [2.550280263235714, 1.6299576826145308], \"y\": [2.0034351112132818, -1.1718277121141356], \"z\": [25.10061979709874, 25.264218970071664], \"type\": \"scatter3d\"}, {\"line\": {\"color\": \"black\", \"width\": 5}, \"marker\": {\"color\": \"blue\", \"size\": 2}, \"text\": [\"LElbow\"], \"x\": [4.733654069809445, 2.550280263235714], \"y\": [1.1692414497925148, 2.0034351112132818], \"z\": [21.703333083817473, 25.10061979709874], \"type\": \"scatter3d\"}, {\"line\": {\"color\": \"black\", \"width\": 5}, \"marker\": {\"color\": \"blue\", \"size\": 2}, \"text\": [\"LWrist\"], \"x\": [5.819275064238505, 4.733654069809445], \"y\": [-0.026307767142760063, 1.1692414497925148], \"z\": [22.59100650937459, 21.703333083817473], \"type\": \"scatter3d\"}, {\"line\": {\"color\": \"red\", \"width\": 5}, \"marker\": {\"color\": \"blue\", \"size\": 2}, \"text\": [\"RShoulder\"], \"x\": [-0.11167796086716275, 1.6299576826145308], \"y\": [-3.8796125164361532, -1.1718277121141356], \"z\": [24.78743549769105, 25.264218970071664], \"type\": \"scatter3d\"}, {\"line\": {\"color\": \"red\", \"width\": 5}, \"marker\": {\"color\": \"blue\", \"size\": 2}, \"text\": [\"RElbow\"], \"x\": [1.2065836116503683, -0.11167796086716275], \"y\": [-5.442053401316482, -3.8796125164361532], \"z\": [19.07952300045421, 24.78743549769105], \"type\": \"scatter3d\"}, {\"line\": {\"color\": \"red\", \"width\": 5}, \"marker\": {\"color\": \"blue\", \"size\": 2}, \"text\": [\"RWrist\"], \"x\": [2.8515990071664508, 1.2065836116503683], \"y\": [-6.208741500817751, -5.442053401316482], \"z\": [19.11533604553838, 19.07952300045421], \"type\": \"scatter3d\"}, {\"line\": {\"color\": \"#1f77b4\", \"width\": 1}, \"marker\": {\"color\": \"#1f77b4\", \"size\": 1}, \"x\": [-7.68200201222643, -11.202351483965106, -10.955869104893946, -7.261455157517169, -6.696189981227148, -6.597702295821579, -6.51772886461975, -3.8476915953707365, -0.7970128046349325, -5.5020630048652315, -4.462829338330973, 2.1426985093789725, -6.550621684435969, -4.382364421867683, -6.238933645893352, -6.0372324143801315, -5.622770625880111, -4.622031270382943, -1.8315147477995466, -8.80699809751267, -5.336259744172091, -3.3386011500038735, -6.154514249840276, -2.3716164831946065, -3.7972808897935995, -4.576736217307565, -5.1162575489259865, -4.079441163068022, -2.1208858457289037, -5.667957809262714, -7.811198372064535, -2.302780558625111, -6.416882824203098, -1.427036396898762, -3.9840501846998935, -2.278256598067263, -5.53744891249996], \"y\": [3.4053156803910536, 3.729440580134272, 7.115938837216567, 6.2383953833599834, 6.738902405987771, 1.6798788535843796, 0.426703045092959, -8.57887314276572, -5.457469816021779, -6.145413681234592, -2.651627769211558, -7.988855680680584, 1.322022686032784, 0.4111020926919453, 3.3084733072069357, 4.507646719655471, 1.2562719135064158, 2.5679035233151972, -4.250612202162369, -1.208029219654247, 7.660506207376087, 1.1225209147164903, -0.12399672775587334, 6.2154445047511295, 4.537339874920296, 2.2609880239650932, 3.2751112379121494, 3.359583721700272, -7.870824768406664, 1.2765968301708028, 7.0431575239128525, 7.153181259315232, 5.871462844333443, 9.124324108019174, 3.245368448314138, 2.977563710489315, 4.949095329845723], \"z\": [1.865911632557168, 2.0831814398599002, 2.4502047462026466, 3.600422432940081, 3.3586116742422365, 2.8752883654471493, 3.1498232277243945, 4.465394927147864, 2.7671204675596304, 3.4168017828747113, 3.173826242416413, 3.3530783562129756, 2.08089440622238, 3.537429728401681, 1.885924112360784, 2.281288795428674, 3.0206222088432257, 3.2720535786143525, 2.7877711354988826, 1.5074967845823197, 2.5428062168417425, 3.6656635052035282, 3.822880886229819, 2.35614063913287, 3.5399158247028906, 3.365749150172884, 3.8878939422390904, 2.7601196551112954, 2.01878197679254, 2.7797540995971515, 2.652222941943201, 2.765213824504499, 3.3527467500595236, 2.3662719801904943, 3.83941638094638, 2.972890714393764, 3.4667104836811014], \"type\": \"scatter3d\"}, {\"color\": \"#00FFFF\", \"x\": [-50, 50, -50, 50], \"y\": [-50, 50, 50, -50], \"z\": [0, 0, 0, 0], \"type\": \"mesh3d\"}], \"name\": \"frame38\"}, {\"data\": [{\"line\": {\"color\": \"red\", \"width\": 5}, \"marker\": {\"color\": \"blue\", \"size\": 2}, \"text\": [\"RHip\"], \"x\": [1.3099592193413463, 0.815446], \"y\": [-2.9276785805292187, -1.45138], \"z\": [15.535845340180884, 17.5974], \"type\": \"scatter3d\"}, {\"line\": {\"color\": \"red\", \"width\": 5}, \"marker\": {\"color\": \"blue\", \"size\": 2}, \"text\": [\"RKnee\"], \"x\": [4.928034877859424, 1.3099592193413463], \"y\": [-4.394684641576826, -2.9276785805292187], \"z\": [9.224294614665041, 15.535845340180884], \"type\": \"scatter3d\"}, {\"line\": {\"color\": \"red\", \"width\": 5}, \"marker\": {\"color\": \"blue\", \"size\": 2}, \"text\": [\"RAnkle\"], \"x\": [0.30382441378906755, 4.928034877859424], \"y\": [-6.883309472590983, -4.394684641576826], \"z\": [2.9147782149394352, 9.224294614665041], \"type\": \"scatter3d\"}, {\"line\": {\"color\": \"black\", \"width\": 5}, \"marker\": {\"color\": \"blue\", \"size\": 2}, \"text\": [\"LHip\"], \"x\": [1.5055673694589669, 0.815446], \"y\": [0.24309257894052916, -1.45138], \"z\": [15.810519131681913, 17.5974], \"type\": \"scatter3d\"}, {\"line\": {\"color\": \"black\", \"width\": 5}, \"marker\": {\"color\": \"blue\", \"size\": 2}, \"text\": [\"LKnee\"], \"x\": [5.249175937836745, 1.5055673694589669], \"y\": [1.895464784375806, 0.24309257894052916], \"z\": [9.39243097268593, 15.810519131681913], \"type\": \"scatter3d\"}, {\"line\": {\"color\": \"black\", \"width\": 5}, \"marker\": {\"color\": \"blue\", \"size\": 2}, \"text\": [\"LAnkle\"], \"x\": [1.5292089441291408, 5.249175937836745], \"y\": [4.590978906565836, 1.895464784375806], \"z\": [2.6921079660353167, 9.39243097268593], \"type\": \"scatter3d\"}, {\"line\": {\"color\": \"black\", \"width\": 5}, \"marker\": {\"color\": \"blue\", \"size\": 2}, \"text\": [\"Spine1\"], \"x\": [1.7173975229018992, 0.815446], \"y\": [-1.5196058170151518, -1.45138], \"z\": [21.49099883523483, 17.5974], \"type\": \"scatter3d\"}, {\"line\": {\"color\": \"black\", \"width\": 5}, \"marker\": {\"color\": \"blue\", \"size\": 2}, \"text\": [\"Neck\"], \"x\": [3.2808404164521545, 1.7173975229018992], \"y\": [-1.5468740366708291, -1.5196058170151518], \"z\": [24.93587102660611, 21.49099883523483], \"type\": \"scatter3d\"}, {\"line\": {\"color\": \"black\", \"width\": 5}, \"marker\": {\"color\": \"blue\", \"size\": 2}, \"text\": [\"Head\"], \"x\": [4.3110150461012795, 3.2808404164521545], \"y\": [-1.6285057312721387, -1.5468740366708291], \"z\": [26.384816730310988, 24.93587102660611], \"type\": \"scatter3d\"}, {\"line\": {\"color\": \"black\", \"width\": 5}, \"marker\": {\"color\": \"blue\", \"size\": 2}, \"text\": [\"Site\"], \"x\": [5.444572438934088, 4.3110150461012795], \"y\": [-1.951739273854426, -1.6285057312721387], \"z\": [27.72210503043917, 26.384816730310988], \"type\": \"scatter3d\"}, {\"line\": {\"color\": \"black\", \"width\": 5}, \"marker\": {\"color\": \"blue\", \"size\": 2}, \"text\": [\"LShoulder\"], \"x\": [3.0268707207563432, 3.2808404164521545], \"y\": [1.7323667968519367, -1.5468740366708291], \"z\": [24.770558239566427, 24.93587102660611], \"type\": \"scatter3d\"}, {\"line\": {\"color\": \"black\", \"width\": 5}, \"marker\": {\"color\": \"blue\", \"size\": 2}, \"text\": [\"LElbow\"], \"x\": [7.691449809115104, 3.0268707207563432], \"y\": [0.050522007916717904, 1.7323667968519367], \"z\": [23.148745996125612, 24.770558239566427], \"type\": \"scatter3d\"}, {\"line\": {\"color\": \"black\", \"width\": 5}, \"marker\": {\"color\": \"blue\", \"size\": 2}, \"text\": [\"LWrist\"], \"x\": [8.424582442501382, 7.691449809115104], \"y\": [-0.9544857248685479, 0.050522007916717904], \"z\": [24.50828672115224, 23.148745996125612], \"type\": \"scatter3d\"}, {\"line\": {\"color\": \"red\", \"width\": 5}, \"marker\": {\"color\": \"blue\", \"size\": 2}, \"text\": [\"RShoulder\"], \"x\": [2.2945643662128266, 3.2808404164521545], \"y\": [-4.69015549658881, -1.5468740366708291], \"z\": [24.674172686666388, 24.93587102660611], \"type\": \"scatter3d\"}, {\"line\": {\"color\": \"red\", \"width\": 5}, \"marker\": {\"color\": \"blue\", \"size\": 2}, \"text\": [\"RElbow\"], \"x\": [6.216725054614875, 2.2945643662128266], \"y\": [-6.5661622334814735, -4.69015549658881], \"z\": [22.47539970076157, 24.674172686666388], \"type\": \"scatter3d\"}, {\"line\": {\"color\": \"red\", \"width\": 5}, \"marker\": {\"color\": \"blue\", \"size\": 2}, \"text\": [\"RWrist\"], \"x\": [7.132413668879962, 6.216725054614875], \"y\": [-6.432259455515634, -6.5661622334814735], \"z\": [24.03705051812066, 22.47539970076157], \"type\": \"scatter3d\"}, {\"line\": {\"color\": \"#1f77b4\", \"width\": 1}, \"marker\": {\"color\": \"#1f77b4\", \"size\": 1}, \"x\": [-7.68200201222643, -11.202351483965106, -10.955869104893946, -7.261455157517169, -6.696189981227148, -6.597702295821579, -6.51772886461975, -3.8476915953707365, -0.7970128046349325, -5.5020630048652315, -4.462829338330973, 2.1426985093789725, -6.550621684435969, -4.382364421867683, -6.238933645893352, -6.0372324143801315, -5.622770625880111, -4.622031270382943, -1.8315147477995466, -8.80699809751267, -5.336259744172091, -3.3386011500038735, -6.154514249840276, -2.3716164831946065, -3.7972808897935995, -4.576736217307565, -5.1162575489259865, -4.079441163068022, -2.1208858457289037, -5.667957809262714, -7.811198372064535, -2.302780558625111, -6.416882824203098, -1.427036396898762, -3.9840501846998935, -2.278256598067263, -5.53744891249996, -4.686226410672376], \"y\": [3.4053156803910536, 3.729440580134272, 7.115938837216567, 6.2383953833599834, 6.738902405987771, 1.6798788535843796, 0.426703045092959, -8.57887314276572, -5.457469816021779, -6.145413681234592, -2.651627769211558, -7.988855680680584, 1.322022686032784, 0.4111020926919453, 3.3084733072069357, 4.507646719655471, 1.2562719135064158, 2.5679035233151972, -4.250612202162369, -1.208029219654247, 7.660506207376087, 1.1225209147164903, -0.12399672775587334, 6.2154445047511295, 4.537339874920296, 2.2609880239650932, 3.2751112379121494, 3.359583721700272, -7.870824768406664, 1.2765968301708028, 7.0431575239128525, 7.153181259315232, 5.871462844333443, 9.124324108019174, 3.245368448314138, 2.977563710489315, 4.949095329845723, 0.7019325432311811], \"z\": [1.865911632557168, 2.0831814398599002, 2.4502047462026466, 3.600422432940081, 3.3586116742422365, 2.8752883654471493, 3.1498232277243945, 4.465394927147864, 2.7671204675596304, 3.4168017828747113, 3.173826242416413, 3.3530783562129756, 2.08089440622238, 3.537429728401681, 1.885924112360784, 2.281288795428674, 3.0206222088432257, 3.2720535786143525, 2.7877711354988826, 1.5074967845823197, 2.5428062168417425, 3.6656635052035282, 3.822880886229819, 2.35614063913287, 3.5399158247028906, 3.365749150172884, 3.8878939422390904, 2.7601196551112954, 2.01878197679254, 2.7797540995971515, 2.652222941943201, 2.765213824504499, 3.3527467500595236, 2.3662719801904943, 3.83941638094638, 2.972890714393764, 3.4667104836811014, 3.660240668473299], \"type\": \"scatter3d\"}, {\"color\": \"#00FFFF\", \"x\": [-50, 50, -50, 50], \"y\": [-50, 50, 50, -50], \"z\": [0, 0, 0, 0], \"type\": \"mesh3d\"}], \"name\": \"frame39\"}, {\"data\": [{\"line\": {\"color\": \"red\", \"width\": 5}, \"marker\": {\"color\": \"blue\", \"size\": 2}, \"text\": [\"RHip\"], \"x\": [0.9103730921640578, 1.7831], \"y\": [0.02362700092972192, 1.14895], \"z\": [15.693540807507498, 17.849], \"type\": \"scatter3d\"}, {\"line\": {\"color\": \"red\", \"width\": 5}, \"marker\": {\"color\": \"blue\", \"size\": 2}, \"text\": [\"RKnee\"], \"x\": [1.4232587499290565, 0.9103730921640578], \"y\": [-3.570686418585077, 0.02362700092972192], \"z\": [9.220820347065398, 15.693540807507498], \"type\": \"scatter3d\"}, {\"line\": {\"color\": \"red\", \"width\": 5}, \"marker\": {\"color\": \"blue\", \"size\": 2}, \"text\": [\"RAnkle\"], \"x\": [-3.7296668065514353, 1.4232587499290565], \"y\": [-2.17003899226647, -3.570686418585077], \"z\": [2.9860694971531387, 9.220820347065398], \"type\": \"scatter3d\"}, {\"line\": {\"color\": \"black\", \"width\": 5}, \"marker\": {\"color\": \"blue\", \"size\": 2}, \"text\": [\"LHip\"], \"x\": [3.4910607748263516, 1.7831], \"y\": [1.8558242745762734, 1.14895], \"z\": [16.08161582712662, 17.849], \"type\": \"scatter3d\"}, {\"line\": {\"color\": \"black\", \"width\": 5}, \"marker\": {\"color\": \"blue\", \"size\": 2}, \"text\": [\"LKnee\"], \"x\": [7.577314621186882, 3.4910607748263516], \"y\": [1.5535800786213736, 1.8558242745762734], \"z\": [9.66694727884711, 16.08161582712662], \"type\": \"scatter3d\"}, {\"line\": {\"color\": \"black\", \"width\": 5}, \"marker\": {\"color\": \"blue\", \"size\": 2}, \"text\": [\"LAnkle\"], \"x\": [5.71485548925142, 7.577314621186882], \"y\": [6.477841764197227, 1.5535800786213736], \"z\": [3.4797692432244682, 9.66694727884711], \"type\": \"scatter3d\"}, {\"line\": {\"color\": \"black\", \"width\": 5}, \"marker\": {\"color\": \"blue\", \"size\": 2}, \"text\": [\"Spine1\"], \"x\": [2.3802839151385955, 1.7831], \"y\": [0.0705827754298024, 1.14895], \"z\": [21.65323265232618, 17.849], \"type\": \"scatter3d\"}, {\"line\": {\"color\": \"black\", \"width\": 5}, \"marker\": {\"color\": \"blue\", \"size\": 2}, \"text\": [\"Neck\"], \"x\": [3.467687718630744, 2.3802839151385955], \"y\": [-0.607124309379032, 0.0705827754298024], \"z\": [25.229958219644733, 21.65323265232618], \"type\": \"scatter3d\"}, {\"line\": {\"color\": \"black\", \"width\": 5}, \"marker\": {\"color\": \"blue\", \"size\": 2}, \"text\": [\"Head\"], \"x\": [4.121723076692418, 3.467687718630744], \"y\": [-0.5792165606097396, -0.607124309379032], \"z\": [26.884898116252696, 25.229958219644733], \"type\": \"scatter3d\"}, {\"line\": {\"color\": \"black\", \"width\": 5}, \"marker\": {\"color\": \"blue\", \"size\": 2}, \"text\": [\"Site\"], \"x\": [4.957433564857822, 4.121723076692418], \"y\": [-0.6124197629576019, -0.5792165606097396], \"z\": [28.459146448276627, 26.884898116252696], \"type\": \"scatter3d\"}, {\"line\": {\"color\": \"black\", \"width\": 5}, \"marker\": {\"color\": \"blue\", \"size\": 2}, \"text\": [\"LShoulder\"], \"x\": [4.939542765527094, 3.467687718630744], \"y\": [2.5650599647442958, -0.607124309379032], \"z\": [24.858436781937627, 25.229958219644733], \"type\": \"scatter3d\"}, {\"line\": {\"color\": \"black\", \"width\": 5}, \"marker\": {\"color\": \"blue\", \"size\": 2}, \"text\": [\"LElbow\"], \"x\": [5.086727917059912, 4.939542765527094], \"y\": [3.35670956455004, 2.5650599647442958], \"z\": [21.648717844700833, 24.858436781937627], \"type\": \"scatter3d\"}, {\"line\": {\"color\": \"black\", \"width\": 5}, \"marker\": {\"color\": \"blue\", \"size\": 2}, \"text\": [\"LWrist\"], \"x\": [6.811574185111926, 5.086727917059912], \"y\": [2.781046860323046, 3.35670956455004], \"z\": [21.947704109684867, 21.648717844700833], \"type\": \"scatter3d\"}, {\"line\": {\"color\": \"red\", \"width\": 5}, \"marker\": {\"color\": \"blue\", \"size\": 2}, \"text\": [\"RShoulder\"], \"x\": [1.664292465011298, 3.467687718630744], \"y\": [-3.0085903976333004, -0.607124309379032], \"z\": [24.897327505707146, 25.229958219644733], \"type\": \"scatter3d\"}, {\"line\": {\"color\": \"red\", \"width\": 5}, \"marker\": {\"color\": \"blue\", \"size\": 2}, \"text\": [\"RElbow\"], \"x\": [3.101025558637718, 1.664292465011298], \"y\": [-4.08972927412963, -3.0085903976333004], \"z\": [18.538675783490994, 24.897327505707146], \"type\": \"scatter3d\"}, {\"line\": {\"color\": \"red\", \"width\": 5}, \"marker\": {\"color\": \"blue\", \"size\": 2}, \"text\": [\"RWrist\"], \"x\": [4.879500267354603, 3.101025558637718], \"y\": [-4.186137270865816, -4.08972927412963], \"z\": [18.188101859446853, 18.538675783490994], \"type\": \"scatter3d\"}, {\"line\": {\"color\": \"#1f77b4\", \"width\": 1}, \"marker\": {\"color\": \"#1f77b4\", \"size\": 1}, \"x\": [-7.68200201222643, -11.202351483965106, -10.955869104893946, -7.261455157517169, -6.696189981227148, -6.597702295821579, -6.51772886461975, -3.8476915953707365, -0.7970128046349325, -5.5020630048652315, -4.462829338330973, 2.1426985093789725, -6.550621684435969, -4.382364421867683, -6.238933645893352, -6.0372324143801315, -5.622770625880111, -4.622031270382943, -1.8315147477995466, -8.80699809751267, -5.336259744172091, -3.3386011500038735, -6.154514249840276, -2.3716164831946065, -3.7972808897935995, -4.576736217307565, -5.1162575489259865, -4.079441163068022, -2.1208858457289037, -5.667957809262714, -7.811198372064535, -2.302780558625111, -6.416882824203098, -1.427036396898762, -3.9840501846998935, -2.278256598067263, -5.53744891249996, -4.686226410672376, 0.30382441378906755], \"y\": [3.4053156803910536, 3.729440580134272, 7.115938837216567, 6.2383953833599834, 6.738902405987771, 1.6798788535843796, 0.426703045092959, -8.57887314276572, -5.457469816021779, -6.145413681234592, -2.651627769211558, -7.988855680680584, 1.322022686032784, 0.4111020926919453, 3.3084733072069357, 4.507646719655471, 1.2562719135064158, 2.5679035233151972, -4.250612202162369, -1.208029219654247, 7.660506207376087, 1.1225209147164903, -0.12399672775587334, 6.2154445047511295, 4.537339874920296, 2.2609880239650932, 3.2751112379121494, 3.359583721700272, -7.870824768406664, 1.2765968301708028, 7.0431575239128525, 7.153181259315232, 5.871462844333443, 9.124324108019174, 3.245368448314138, 2.977563710489315, 4.949095329845723, 0.7019325432311811, -6.883309472590983], \"z\": [1.865911632557168, 2.0831814398599002, 2.4502047462026466, 3.600422432940081, 3.3586116742422365, 2.8752883654471493, 3.1498232277243945, 4.465394927147864, 2.7671204675596304, 3.4168017828747113, 3.173826242416413, 3.3530783562129756, 2.08089440622238, 3.537429728401681, 1.885924112360784, 2.281288795428674, 3.0206222088432257, 3.2720535786143525, 2.7877711354988826, 1.5074967845823197, 2.5428062168417425, 3.6656635052035282, 3.822880886229819, 2.35614063913287, 3.5399158247028906, 3.365749150172884, 3.8878939422390904, 2.7601196551112954, 2.01878197679254, 2.7797540995971515, 2.652222941943201, 2.765213824504499, 3.3527467500595236, 2.3662719801904943, 3.83941638094638, 2.972890714393764, 3.4667104836811014, 3.660240668473299, 2.9147782149394352], \"type\": \"scatter3d\"}, {\"color\": \"#00FFFF\", \"x\": [-50, 50, -50, 50], \"y\": [-50, 50, 50, -50], \"z\": [0, 0, 0, 0], \"type\": \"mesh3d\"}], \"name\": \"frame40\"}, {\"data\": [{\"line\": {\"color\": \"red\", \"width\": 5}, \"marker\": {\"color\": \"blue\", \"size\": 2}, \"text\": [\"RHip\"], \"x\": [1.9733618796722305, 1.60713], \"y\": [0.4916688317881177, 2.18041], \"z\": [15.814674027592847, 17.7351], \"type\": \"scatter3d\"}, {\"line\": {\"color\": \"red\", \"width\": 5}, \"marker\": {\"color\": \"blue\", \"size\": 2}, \"text\": [\"RKnee\"], \"x\": [6.168464743329377, 1.9733618796722305], \"y\": [-0.2401505077340812, 0.4916688317881177], \"z\": [9.736532598479187, 15.814674027592847], \"type\": \"scatter3d\"}, {\"line\": {\"color\": \"red\", \"width\": 5}, \"marker\": {\"color\": \"blue\", \"size\": 2}, \"text\": [\"RAnkle\"], \"x\": [1.1757518519108903, 6.168464743329377], \"y\": [-1.6369064380268377, -0.2401505077340812], \"z\": [3.371906606402354, 9.736532598479187], \"type\": \"scatter3d\"}, {\"line\": {\"color\": \"black\", \"width\": 5}, \"marker\": {\"color\": \"blue\", \"size\": 2}, \"text\": [\"LHip\"], \"x\": [1.966350926042554, 1.60713], \"y\": [3.6780047723619163, 2.18041], \"z\": [15.693380556243369, 17.7351], \"type\": \"scatter3d\"}, {\"line\": {\"color\": \"black\", \"width\": 5}, \"marker\": {\"color\": \"blue\", \"size\": 2}, \"text\": [\"LKnee\"], \"x\": [4.621465746189546, 1.966350926042554], \"y\": [3.6633084032444927, 3.6780047723619163], \"z\": [8.559872026512604, 15.693380556243369], \"type\": \"scatter3d\"}, {\"line\": {\"color\": \"black\", \"width\": 5}, \"marker\": {\"color\": \"blue\", \"size\": 2}, \"text\": [\"LAnkle\"], \"x\": [-0.2763215192507662, 4.621465746189546], \"y\": [3.7684990296414287, 3.6633084032444927], \"z\": [2.0792166549270803, 8.559872026512604], \"type\": \"scatter3d\"}, {\"line\": {\"color\": \"black\", \"width\": 5}, \"marker\": {\"color\": \"blue\", \"size\": 2}, \"text\": [\"Spine1\"], \"x\": [2.728011072996481, 1.60713], \"y\": [3.032771591707514, 2.18041], \"z\": [21.475429701908855, 17.7351], \"type\": \"scatter3d\"}, {\"line\": {\"color\": \"black\", \"width\": 5}, \"marker\": {\"color\": \"blue\", \"size\": 2}, \"text\": [\"Neck\"], \"x\": [4.2014647654108455, 2.728011072996481], \"y\": [4.278722711470736, 3.032771591707514], \"z\": [24.737344833183272, 21.475429701908855], \"type\": \"scatter3d\"}, {\"line\": {\"color\": \"black\", \"width\": 5}, \"marker\": {\"color\": \"blue\", \"size\": 2}, \"text\": [\"Head\"], \"x\": [5.18511444649205, 4.2014647654108455], \"y\": [5.0293596547267585, 4.278722711470736], \"z\": [26.016541705345293, 24.737344833183272], \"type\": \"scatter3d\"}, {\"line\": {\"color\": \"black\", \"width\": 5}, \"marker\": {\"color\": \"blue\", \"size\": 2}, \"text\": [\"Site\"], \"x\": [6.40380115431077, 5.18511444649205], \"y\": [5.626440530778636, 5.0293596547267585], \"z\": [27.172426396478034, 26.016541705345293], \"type\": \"scatter3d\"}, {\"line\": {\"color\": \"black\", \"width\": 5}, \"marker\": {\"color\": \"blue\", \"size\": 2}, \"text\": [\"LShoulder\"], \"x\": [3.431900730043856, 4.2014647654108455], \"y\": [7.270419493084039, 4.278722711470736], \"z\": [23.618426537753773, 24.737344833183272], \"type\": \"scatter3d\"}, {\"line\": {\"color\": \"black\", \"width\": 5}, \"marker\": {\"color\": \"blue\", \"size\": 2}, \"text\": [\"LElbow\"], \"x\": [6.862221634700164, 3.431900730043856], \"y\": [7.152592860147507, 7.270419493084039], \"z\": [19.670186923547302, 23.618426537753773], \"type\": \"scatter3d\"}, {\"line\": {\"color\": \"black\", \"width\": 5}, \"marker\": {\"color\": \"blue\", \"size\": 2}, \"text\": [\"LWrist\"], \"x\": [8.556014510722886, 6.862221634700164], \"y\": [7.184393713781216, 7.152592860147507], \"z\": [20.395396812436616, 19.670186923547302], \"type\": \"scatter3d\"}, {\"line\": {\"color\": \"red\", \"width\": 5}, \"marker\": {\"color\": \"blue\", \"size\": 2}, \"text\": [\"RShoulder\"], \"x\": [4.136500998080292, 4.2014647654108455], \"y\": [1.0699030437871095, 4.278722711470736], \"z\": [25.307061964877466, 24.737344833183272], \"type\": \"scatter3d\"}, {\"line\": {\"color\": \"red\", \"width\": 5}, \"marker\": {\"color\": \"blue\", \"size\": 2}, \"text\": [\"RElbow\"], \"x\": [7.16366807028121, 4.136500998080292], \"y\": [-1.9981078525898852, 1.0699030437871095], \"z\": [22.878311049145704, 25.307061964877466], \"type\": \"scatter3d\"}, {\"line\": {\"color\": \"red\", \"width\": 5}, \"marker\": {\"color\": \"blue\", \"size\": 2}, \"text\": [\"RWrist\"], \"x\": [8.57028420413258, 7.16366807028121], \"y\": [-1.4283419697478787, -1.9981078525898852], \"z\": [23.874286329129244, 22.878311049145704], \"type\": \"scatter3d\"}, {\"line\": {\"color\": \"#1f77b4\", \"width\": 1}, \"marker\": {\"color\": \"#1f77b4\", \"size\": 1}, \"x\": [-7.68200201222643, -11.202351483965106, -10.955869104893946, -7.261455157517169, -6.696189981227148, -6.597702295821579, -6.51772886461975, -3.8476915953707365, -0.7970128046349325, -5.5020630048652315, -4.462829338330973, 2.1426985093789725, -6.550621684435969, -4.382364421867683, -6.238933645893352, -6.0372324143801315, -5.622770625880111, -4.622031270382943, -1.8315147477995466, -8.80699809751267, -5.336259744172091, -3.3386011500038735, -6.154514249840276, -2.3716164831946065, -3.7972808897935995, -4.576736217307565, -5.1162575489259865, -4.079441163068022, -2.1208858457289037, -5.667957809262714, -7.811198372064535, -2.302780558625111, -6.416882824203098, -1.427036396898762, -3.9840501846998935, -2.278256598067263, -5.53744891249996, -4.686226410672376, 0.30382441378906755, -3.7296668065514353], \"y\": [3.4053156803910536, 3.729440580134272, 7.115938837216567, 6.2383953833599834, 6.738902405987771, 1.6798788535843796, 0.426703045092959, -8.57887314276572, -5.457469816021779, -6.145413681234592, -2.651627769211558, -7.988855680680584, 1.322022686032784, 0.4111020926919453, 3.3084733072069357, 4.507646719655471, 1.2562719135064158, 2.5679035233151972, -4.250612202162369, -1.208029219654247, 7.660506207376087, 1.1225209147164903, -0.12399672775587334, 6.2154445047511295, 4.537339874920296, 2.2609880239650932, 3.2751112379121494, 3.359583721700272, -7.870824768406664, 1.2765968301708028, 7.0431575239128525, 7.153181259315232, 5.871462844333443, 9.124324108019174, 3.245368448314138, 2.977563710489315, 4.949095329845723, 0.7019325432311811, -6.883309472590983, -2.17003899226647], \"z\": [1.865911632557168, 2.0831814398599002, 2.4502047462026466, 3.600422432940081, 3.3586116742422365, 2.8752883654471493, 3.1498232277243945, 4.465394927147864, 2.7671204675596304, 3.4168017828747113, 3.173826242416413, 3.3530783562129756, 2.08089440622238, 3.537429728401681, 1.885924112360784, 2.281288795428674, 3.0206222088432257, 3.2720535786143525, 2.7877711354988826, 1.5074967845823197, 2.5428062168417425, 3.6656635052035282, 3.822880886229819, 2.35614063913287, 3.5399158247028906, 3.365749150172884, 3.8878939422390904, 2.7601196551112954, 2.01878197679254, 2.7797540995971515, 2.652222941943201, 2.765213824504499, 3.3527467500595236, 2.3662719801904943, 3.83941638094638, 2.972890714393764, 3.4667104836811014, 3.660240668473299, 2.9147782149394352, 2.9860694971531387], \"type\": \"scatter3d\"}, {\"color\": \"#00FFFF\", \"x\": [-50, 50, -50, 50], \"y\": [-50, 50, 50, -50], \"z\": [0, 0, 0, 0], \"type\": \"mesh3d\"}], \"name\": \"frame41\"}, {\"data\": [{\"line\": {\"color\": \"red\", \"width\": 5}, \"marker\": {\"color\": \"blue\", \"size\": 2}, \"text\": [\"RHip\"], \"x\": [-1.086472938356009, -0.880629], \"y\": [0.3268432154251497, 1.94954], \"z\": [16.26677707135311, 18.2664], \"type\": \"scatter3d\"}, {\"line\": {\"color\": \"red\", \"width\": 5}, \"marker\": {\"color\": \"blue\", \"size\": 2}, \"text\": [\"RKnee\"], \"x\": [1.9861410196055491, -1.086472938356009], \"y\": [-0.7176740211827854, 0.3268432154251497], \"z\": [9.592477256208475, 16.26677707135311], \"type\": \"scatter3d\"}, {\"line\": {\"color\": \"red\", \"width\": 5}, \"marker\": {\"color\": \"blue\", \"size\": 2}, \"text\": [\"RAnkle\"], \"x\": [-2.152417914161796, 1.9861410196055491], \"y\": [0.013990722820162338, -0.7176740211827854], \"z\": [2.5409831012026034, 9.592477256208475], \"type\": \"scatter3d\"}, {\"line\": {\"color\": \"black\", \"width\": 5}, \"marker\": {\"color\": \"blue\", \"size\": 2}, \"text\": [\"LHip\"], \"x\": [0.6229388093294222, -0.880629], \"y\": [3.009324443491989, 1.94954], \"z\": [16.48972083959788, 18.2664], \"type\": \"scatter3d\"}, {\"line\": {\"color\": \"black\", \"width\": 5}, \"marker\": {\"color\": \"blue\", \"size\": 2}, \"text\": [\"LKnee\"], \"x\": [3.659416652901588, 0.6229388093294222], \"y\": [2.2099632793434276, 3.009324443491989], \"z\": [9.55591822703979, 16.48972083959788], \"type\": \"scatter3d\"}, {\"line\": {\"color\": \"black\", \"width\": 5}, \"marker\": {\"color\": \"blue\", \"size\": 2}, \"text\": [\"LAnkle\"], \"x\": [-1.233848316798178, 3.659416652901588], \"y\": [4.751774369440632, 2.2099632793434276], \"z\": [3.5898949678478376, 9.55591822703979], \"type\": \"scatter3d\"}, {\"line\": {\"color\": \"black\", \"width\": 5}, \"marker\": {\"color\": \"blue\", \"size\": 2}, \"text\": [\"Spine1\"], \"x\": [-0.7727279910461378, -0.880629], \"y\": [1.7751269524326385, 1.94954], \"z\": [22.269744552309476, 18.2664], \"type\": \"scatter3d\"}, {\"line\": {\"color\": \"black\", \"width\": 5}, \"marker\": {\"color\": \"blue\", \"size\": 2}, \"text\": [\"Neck\"], \"x\": [-0.5462157377402205, -0.7727279910461378], \"y\": [1.4940023424635391, 1.7751269524326385], \"z\": [26.049386058055273, 22.269744552309476], \"type\": \"scatter3d\"}, {\"line\": {\"color\": \"black\", \"width\": 5}, \"marker\": {\"color\": \"blue\", \"size\": 2}, \"text\": [\"Head\"], \"x\": [-0.44565741995916464, -0.5462157377402205], \"y\": [1.3757386485625878, 1.4940023424635391], \"z\": [27.822312699755642, 26.049386058055273], \"type\": \"scatter3d\"}, {\"line\": {\"color\": \"black\", \"width\": 5}, \"marker\": {\"color\": \"blue\", \"size\": 2}, \"text\": [\"Site\"], \"x\": [-0.22796368306722165, -0.44565741995916464], \"y\": [1.063092774408156, 1.3757386485625878], \"z\": [29.563758730457764, 27.822312699755642], \"type\": \"scatter3d\"}, {\"line\": {\"color\": \"black\", \"width\": 5}, \"marker\": {\"color\": \"blue\", \"size\": 2}, \"text\": [\"LShoulder\"], \"x\": [1.1246483744229003, -0.5462157377402205], \"y\": [4.552712730074504, 1.4940023424635391], \"z\": [25.694731559493828, 26.049386058055273], \"type\": \"scatter3d\"}, {\"line\": {\"color\": \"black\", \"width\": 5}, \"marker\": {\"color\": \"blue\", \"size\": 2}, \"text\": [\"LElbow\"], \"x\": [3.602108177615931, 1.1246483744229003], \"y\": [2.7705393931141717, 4.552712730074504], \"z\": [24.309639098127775, 25.694731559493828], \"type\": \"scatter3d\"}, {\"line\": {\"color\": \"black\", \"width\": 5}, \"marker\": {\"color\": \"blue\", \"size\": 2}, \"text\": [\"LWrist\"], \"x\": [3.4510870809152676, 3.602108177615931], \"y\": [1.9112829172024357, 2.7705393931141717], \"z\": [25.93282914277907, 24.309639098127775], \"type\": \"scatter3d\"}, {\"line\": {\"color\": \"red\", \"width\": 5}, \"marker\": {\"color\": \"blue\", \"size\": 2}, \"text\": [\"RShoulder\"], \"x\": [-2.2859325040937852, -0.5462157377402205], \"y\": [-0.9378098446502745, 1.4940023424635391], \"z\": [25.5664533111818, 26.049386058055273], \"type\": \"scatter3d\"}, {\"line\": {\"color\": \"red\", \"width\": 5}, \"marker\": {\"color\": \"blue\", \"size\": 2}, \"text\": [\"RElbow\"], \"x\": [1.0758548605767109, -2.2859325040937852], \"y\": [-3.2167278799864367, -0.9378098446502745], \"z\": [24.322730681680547, 25.5664533111818], \"type\": \"scatter3d\"}, {\"line\": {\"color\": \"red\", \"width\": 5}, \"marker\": {\"color\": \"blue\", \"size\": 2}, \"text\": [\"RWrist\"], \"x\": [1.4602425308973457, 1.0758548605767109], \"y\": [-2.940283357131395, -3.2167278799864367], \"z\": [26.075155690714862, 24.322730681680547], \"type\": \"scatter3d\"}, {\"line\": {\"color\": \"#1f77b4\", \"width\": 1}, \"marker\": {\"color\": \"#1f77b4\", \"size\": 1}, \"x\": [-7.68200201222643, -11.202351483965106, -10.955869104893946, -7.261455157517169, -6.696189981227148, -6.597702295821579, -6.51772886461975, -3.8476915953707365, -0.7970128046349325, -5.5020630048652315, -4.462829338330973, 2.1426985093789725, -6.550621684435969, -4.382364421867683, -6.238933645893352, -6.0372324143801315, -5.622770625880111, -4.622031270382943, -1.8315147477995466, -8.80699809751267, -5.336259744172091, -3.3386011500038735, -6.154514249840276, -2.3716164831946065, -3.7972808897935995, -4.576736217307565, -5.1162575489259865, -4.079441163068022, -2.1208858457289037, -5.667957809262714, -7.811198372064535, -2.302780558625111, -6.416882824203098, -1.427036396898762, -3.9840501846998935, -2.278256598067263, -5.53744891249996, -4.686226410672376, 0.30382441378906755, -3.7296668065514353, 1.1757518519108903], \"y\": [3.4053156803910536, 3.729440580134272, 7.115938837216567, 6.2383953833599834, 6.738902405987771, 1.6798788535843796, 0.426703045092959, -8.57887314276572, -5.457469816021779, -6.145413681234592, -2.651627769211558, -7.988855680680584, 1.322022686032784, 0.4111020926919453, 3.3084733072069357, 4.507646719655471, 1.2562719135064158, 2.5679035233151972, -4.250612202162369, -1.208029219654247, 7.660506207376087, 1.1225209147164903, -0.12399672775587334, 6.2154445047511295, 4.537339874920296, 2.2609880239650932, 3.2751112379121494, 3.359583721700272, -7.870824768406664, 1.2765968301708028, 7.0431575239128525, 7.153181259315232, 5.871462844333443, 9.124324108019174, 3.245368448314138, 2.977563710489315, 4.949095329845723, 0.7019325432311811, -6.883309472590983, -2.17003899226647, -1.6369064380268377], \"z\": [1.865911632557168, 2.0831814398599002, 2.4502047462026466, 3.600422432940081, 3.3586116742422365, 2.8752883654471493, 3.1498232277243945, 4.465394927147864, 2.7671204675596304, 3.4168017828747113, 3.173826242416413, 3.3530783562129756, 2.08089440622238, 3.537429728401681, 1.885924112360784, 2.281288795428674, 3.0206222088432257, 3.2720535786143525, 2.7877711354988826, 1.5074967845823197, 2.5428062168417425, 3.6656635052035282, 3.822880886229819, 2.35614063913287, 3.5399158247028906, 3.365749150172884, 3.8878939422390904, 2.7601196551112954, 2.01878197679254, 2.7797540995971515, 2.652222941943201, 2.765213824504499, 3.3527467500595236, 2.3662719801904943, 3.83941638094638, 2.972890714393764, 3.4667104836811014, 3.660240668473299, 2.9147782149394352, 2.9860694971531387, 3.371906606402354], \"type\": \"scatter3d\"}, {\"color\": \"#00FFFF\", \"x\": [-50, 50, -50, 50], \"y\": [-50, 50, 50, -50], \"z\": [0, 0, 0, 0], \"type\": \"mesh3d\"}], \"name\": \"frame42\"}, {\"data\": [{\"line\": {\"color\": \"red\", \"width\": 5}, \"marker\": {\"color\": \"blue\", \"size\": 2}, \"text\": [\"RHip\"], \"x\": [-0.4068483397813664, 0.381866], \"y\": [1.5123141224758252, 2.81886], \"z\": [16.164563385817242, 18.249], \"type\": \"scatter3d\"}, {\"line\": {\"color\": \"red\", \"width\": 5}, \"marker\": {\"color\": \"blue\", \"size\": 2}, \"text\": [\"RKnee\"], \"x\": [0.7661858458185098, -0.4068483397813664], \"y\": [-1.3999461701211742, 1.5123141224758252], \"z\": [9.439908628712764, 16.164563385817242], \"type\": \"scatter3d\"}, {\"line\": {\"color\": \"red\", \"width\": 5}, \"marker\": {\"color\": \"blue\", \"size\": 2}, \"text\": [\"RAnkle\"], \"x\": [-3.692818496237555, 0.7661858458185098], \"y\": [0.3830550195437339, -1.3999461701211742], \"z\": [2.7822243316660007, 9.439908628712764], \"type\": \"scatter3d\"}, {\"line\": {\"color\": \"black\", \"width\": 5}, \"marker\": {\"color\": \"blue\", \"size\": 2}, \"text\": [\"LHip\"], \"x\": [2.1519953741743425, 0.381866], \"y\": [3.3864049994607743, 2.81886], \"z\": [16.492588107760962, 18.249], \"type\": \"scatter3d\"}, {\"line\": {\"color\": \"black\", \"width\": 5}, \"marker\": {\"color\": \"blue\", \"size\": 2}, \"text\": [\"LKnee\"], \"x\": [5.815649763946636, 2.1519953741743425], \"y\": [1.6383492848608832, 3.3864049994607743], \"z\": [10.053742530630862, 16.492588107760962], \"type\": \"scatter3d\"}, {\"line\": {\"color\": \"black\", \"width\": 5}, \"marker\": {\"color\": \"blue\", \"size\": 2}, \"text\": [\"LAnkle\"], \"x\": [4.466340891861407, 5.815649763946636], \"y\": [5.41548728531561, 1.6383492848608832], \"z\": [2.9889797388674797, 10.053742530630862], \"type\": \"scatter3d\"}, {\"line\": {\"color\": \"black\", \"width\": 5}, \"marker\": {\"color\": \"blue\", \"size\": 2}, \"text\": [\"Spine1\"], \"x\": [0.4230090559247703, 0.381866], \"y\": [2.0605590252982346, 2.81886], \"z\": [22.183698893844365, 18.249], \"type\": \"scatter3d\"}, {\"line\": {\"color\": \"black\", \"width\": 5}, \"marker\": {\"color\": \"blue\", \"size\": 2}, \"text\": [\"Neck\"], \"x\": [0.3808780667524074, 0.4230090559247703], \"y\": [1.1080850709053833, 2.0605590252982346], \"z\": [25.860274509499096, 22.183698893844365], \"type\": \"scatter3d\"}, {\"line\": {\"color\": \"black\", \"width\": 5}, \"marker\": {\"color\": \"blue\", \"size\": 2}, \"text\": [\"Head\"], \"x\": [0.44410823226292884, 0.3808780667524074], \"y\": [0.6889061011717139, 1.1080850709053833], \"z\": [27.588758842932158, 25.860274509499096], \"type\": \"scatter3d\"}, {\"line\": {\"color\": \"black\", \"width\": 5}, \"marker\": {\"color\": \"blue\", \"size\": 2}, \"text\": [\"Site\"], \"x\": [0.6267902808760564, 0.44410823226292884], \"y\": [0.09484487021644372, 0.6889061011717139], \"z\": [29.25953435345006, 27.588758842932158], \"type\": \"scatter3d\"}, {\"line\": {\"color\": \"black\", \"width\": 5}, \"marker\": {\"color\": \"blue\", \"size\": 2}, \"text\": [\"LShoulder\"], \"x\": [2.882034503803384, 0.3808780667524074], \"y\": [3.7053307983260795, 1.1080850709053833], \"z\": [25.96437019470043, 25.860274509499096], \"type\": \"scatter3d\"}, {\"line\": {\"color\": \"black\", \"width\": 5}, \"marker\": {\"color\": \"blue\", \"size\": 2}, \"text\": [\"LElbow\"], \"x\": [4.887092830843675, 2.882034503803384], \"y\": [1.9153933613408554, 3.7053307983260795], \"z\": [24.116622132899643, 25.96437019470043], \"type\": \"scatter3d\"}, {\"line\": {\"color\": \"black\", \"width\": 5}, \"marker\": {\"color\": \"blue\", \"size\": 2}, \"text\": [\"LWrist\"], \"x\": [4.686126401597796, 4.887092830843675], \"y\": [0.8468835214968922, 1.9153933613408554], \"z\": [25.604497867150588, 24.116622132899643], \"type\": \"scatter3d\"}, {\"line\": {\"color\": \"red\", \"width\": 5}, \"marker\": {\"color\": \"blue\", \"size\": 2}, \"text\": [\"RShoulder\"], \"x\": [-1.874186919885842, 0.3808780667524074], \"y\": [-0.5789540628578456, 1.1080850709053833], \"z\": [25.06014877351758, 25.860274509499096], \"type\": \"scatter3d\"}, {\"line\": {\"color\": \"red\", \"width\": 5}, \"marker\": {\"color\": \"blue\", \"size\": 2}, \"text\": [\"RElbow\"], \"x\": [1.3127656794541165, -1.874186919885842], \"y\": [-2.5694019276619477, -0.5789540628578456], \"z\": [22.592997611549713, 25.06014877351758], \"type\": \"scatter3d\"}, {\"line\": {\"color\": \"red\", \"width\": 5}, \"marker\": {\"color\": \"blue\", \"size\": 2}, \"text\": [\"RWrist\"], \"x\": [2.1773716348466348, 1.3127656794541165], \"y\": [-2.669037972707762, -2.5694019276619477], \"z\": [24.186013012613813, 22.592997611549713], \"type\": \"scatter3d\"}, {\"line\": {\"color\": \"#1f77b4\", \"width\": 1}, \"marker\": {\"color\": \"#1f77b4\", \"size\": 1}, \"x\": [-7.68200201222643, -11.202351483965106, -10.955869104893946, -7.261455157517169, -6.696189981227148, -6.597702295821579, -6.51772886461975, -3.8476915953707365, -0.7970128046349325, -5.5020630048652315, -4.462829338330973, 2.1426985093789725, -6.550621684435969, -4.382364421867683, -6.238933645893352, -6.0372324143801315, -5.622770625880111, -4.622031270382943, -1.8315147477995466, -8.80699809751267, -5.336259744172091, -3.3386011500038735, -6.154514249840276, -2.3716164831946065, -3.7972808897935995, -4.576736217307565, -5.1162575489259865, -4.079441163068022, -2.1208858457289037, -5.667957809262714, -7.811198372064535, -2.302780558625111, -6.416882824203098, -1.427036396898762, -3.9840501846998935, -2.278256598067263, -5.53744891249996, -4.686226410672376, 0.30382441378906755, -3.7296668065514353, 1.1757518519108903, -2.152417914161796], \"y\": [3.4053156803910536, 3.729440580134272, 7.115938837216567, 6.2383953833599834, 6.738902405987771, 1.6798788535843796, 0.426703045092959, -8.57887314276572, -5.457469816021779, -6.145413681234592, -2.651627769211558, -7.988855680680584, 1.322022686032784, 0.4111020926919453, 3.3084733072069357, 4.507646719655471, 1.2562719135064158, 2.5679035233151972, -4.250612202162369, -1.208029219654247, 7.660506207376087, 1.1225209147164903, -0.12399672775587334, 6.2154445047511295, 4.537339874920296, 2.2609880239650932, 3.2751112379121494, 3.359583721700272, -7.870824768406664, 1.2765968301708028, 7.0431575239128525, 7.153181259315232, 5.871462844333443, 9.124324108019174, 3.245368448314138, 2.977563710489315, 4.949095329845723, 0.7019325432311811, -6.883309472590983, -2.17003899226647, -1.6369064380268377, 0.013990722820162338], \"z\": [1.865911632557168, 2.0831814398599002, 2.4502047462026466, 3.600422432940081, 3.3586116742422365, 2.8752883654471493, 3.1498232277243945, 4.465394927147864, 2.7671204675596304, 3.4168017828747113, 3.173826242416413, 3.3530783562129756, 2.08089440622238, 3.537429728401681, 1.885924112360784, 2.281288795428674, 3.0206222088432257, 3.2720535786143525, 2.7877711354988826, 1.5074967845823197, 2.5428062168417425, 3.6656635052035282, 3.822880886229819, 2.35614063913287, 3.5399158247028906, 3.365749150172884, 3.8878939422390904, 2.7601196551112954, 2.01878197679254, 2.7797540995971515, 2.652222941943201, 2.765213824504499, 3.3527467500595236, 2.3662719801904943, 3.83941638094638, 2.972890714393764, 3.4667104836811014, 3.660240668473299, 2.9147782149394352, 2.9860694971531387, 3.371906606402354, 2.5409831012026034], \"type\": \"scatter3d\"}, {\"color\": \"#00FFFF\", \"x\": [-50, 50, -50, 50], \"y\": [-50, 50, 50, -50], \"z\": [0, 0, 0, 0], \"type\": \"mesh3d\"}], \"name\": \"frame43\"}, {\"data\": [{\"line\": {\"color\": \"red\", \"width\": 5}, \"marker\": {\"color\": \"blue\", \"size\": 2}, \"text\": [\"RHip\"], \"x\": [-0.10022174992913979, 1.19831], \"y\": [1.8535192930567341, 2.7875], \"z\": [16.386529555624776, 18.4152], \"type\": \"scatter3d\"}, {\"line\": {\"color\": \"red\", \"width\": 5}, \"marker\": {\"color\": \"blue\", \"size\": 2}, \"text\": [\"RKnee\"], \"x\": [0.030139731557681043, -0.10022174992913979], \"y\": [-0.8764882922131283, 1.8535192930567341], \"z\": [9.486651637633432, 16.386529555624776], \"type\": \"scatter3d\"}, {\"line\": {\"color\": \"red\", \"width\": 5}, \"marker\": {\"color\": \"blue\", \"size\": 2}, \"text\": [\"RAnkle\"], \"x\": [-3.851243149300469, 0.030139731557681043], \"y\": [1.73969847014791, -0.8764882922131283], \"z\": [2.742987431833109, 9.486651637633432], \"type\": \"scatter3d\"}, {\"line\": {\"color\": \"black\", \"width\": 5}, \"marker\": {\"color\": \"blue\", \"size\": 2}, \"text\": [\"LHip\"], \"x\": [2.861531750554093, 1.19831], \"y\": [3.0304943460669245, 2.7875], \"z\": [16.487741772387846, 18.4152], \"type\": \"scatter3d\"}, {\"line\": {\"color\": \"black\", \"width\": 5}, \"marker\": {\"color\": \"blue\", \"size\": 2}, \"text\": [\"LKnee\"], \"x\": [5.432960618396098, 2.861531750554093], \"y\": [1.1138624983279894, 3.0304943460669245], \"z\": [9.584766285466817, 16.487741772387846], \"type\": \"scatter3d\"}, {\"line\": {\"color\": \"black\", \"width\": 5}, \"marker\": {\"color\": \"blue\", \"size\": 2}, \"text\": [\"LAnkle\"], \"x\": [4.993980495378361, 5.432960618396098], \"y\": [5.303146361743872, 1.1138624983279894], \"z\": [2.638150103902584, 9.584766285466817], \"type\": \"scatter3d\"}, {\"line\": {\"color\": \"black\", \"width\": 5}, \"marker\": {\"color\": \"blue\", \"size\": 2}, \"text\": [\"Spine1\"], \"x\": [1.6445344138111242, 1.19831], \"y\": [1.7854512184421178, 2.7875], \"z\": [22.267660990549047, 18.4152], \"type\": \"scatter3d\"}, {\"line\": {\"color\": \"black\", \"width\": 5}, \"marker\": {\"color\": \"blue\", \"size\": 2}, \"text\": [\"Neck\"], \"x\": [1.9933039403425483, 1.6445344138111242], \"y\": [0.5836625289754345, 1.7854512184421178], \"z\": [25.85328899856504, 22.267660990549047], \"type\": \"scatter3d\"}, {\"line\": {\"color\": \"black\", \"width\": 5}, \"marker\": {\"color\": \"blue\", \"size\": 2}, \"text\": [\"Head\"], \"x\": [2.1669127870240685, 1.9933039403425483], \"y\": [0.22387176296482542, 0.5836625289754345], \"z\": [27.587583589016276, 25.85328899856504], \"type\": \"scatter3d\"}, {\"line\": {\"color\": \"black\", \"width\": 5}, \"marker\": {\"color\": \"blue\", \"size\": 2}, \"text\": [\"Site\"], \"x\": [2.4248579231794434, 2.1669127870240685], \"y\": [-0.2636844496303715, 0.22387176296482542], \"z\": [29.282731231509267, 27.587583589016276], \"type\": \"scatter3d\"}, {\"line\": {\"color\": \"black\", \"width\": 5}, \"marker\": {\"color\": \"blue\", \"size\": 2}, \"text\": [\"LShoulder\"], \"x\": [5.083632822009581, 1.9933039403425483], \"y\": [2.534016980615102, 0.5836625289754345], \"z\": [25.532290718743305, 25.85328899856504], \"type\": \"scatter3d\"}, {\"line\": {\"color\": \"black\", \"width\": 5}, \"marker\": {\"color\": \"blue\", \"size\": 2}, \"text\": [\"LElbow\"], \"x\": [6.382589432242975, 5.083632822009581], \"y\": [0.09161184497775143, 2.534016980615102], \"z\": [23.478002370144157, 25.532290718743305], \"type\": \"scatter3d\"}, {\"line\": {\"color\": \"black\", \"width\": 5}, \"marker\": {\"color\": \"blue\", \"size\": 2}, \"text\": [\"LWrist\"], \"x\": [6.281429004893179, 6.382589432242975], \"y\": [-0.8900018117531083, 0.09161184497775143], \"z\": [25.034304455524072, 23.478002370144157], \"type\": \"scatter3d\"}, {\"line\": {\"color\": \"red\", \"width\": 5}, \"marker\": {\"color\": \"blue\", \"size\": 2}, \"text\": [\"RShoulder\"], \"x\": [-0.6752442889582422, 1.9933039403425483], \"y\": [-0.40322351074804796, 0.5836625289754345], \"z\": [25.484248048920357, 25.85328899856504], \"type\": \"scatter3d\"}, {\"line\": {\"color\": \"red\", \"width\": 5}, \"marker\": {\"color\": \"blue\", \"size\": 2}, \"text\": [\"RElbow\"], \"x\": [1.4261534640150422, -0.6752442889582422], \"y\": [-3.0051313195549274, -0.40322351074804796], \"z\": [22.845911054347756, 25.484248048920357], \"type\": \"scatter3d\"}, {\"line\": {\"color\": \"red\", \"width\": 5}, \"marker\": {\"color\": \"blue\", \"size\": 2}, \"text\": [\"RWrist\"], \"x\": [2.379126989959969, 1.4261534640150422], \"y\": [-3.2145538791180632, -3.0051313195549274], \"z\": [24.376646994343325, 22.845911054347756], \"type\": \"scatter3d\"}, {\"line\": {\"color\": \"#1f77b4\", \"width\": 1}, \"marker\": {\"color\": \"#1f77b4\", \"size\": 1}, \"x\": [-7.68200201222643, -11.202351483965106, -10.955869104893946, -7.261455157517169, -6.696189981227148, -6.597702295821579, -6.51772886461975, -3.8476915953707365, -0.7970128046349325, -5.5020630048652315, -4.462829338330973, 2.1426985093789725, -6.550621684435969, -4.382364421867683, -6.238933645893352, -6.0372324143801315, -5.622770625880111, -4.622031270382943, -1.8315147477995466, -8.80699809751267, -5.336259744172091, -3.3386011500038735, -6.154514249840276, -2.3716164831946065, -3.7972808897935995, -4.576736217307565, -5.1162575489259865, -4.079441163068022, -2.1208858457289037, -5.667957809262714, -7.811198372064535, -2.302780558625111, -6.416882824203098, -1.427036396898762, -3.9840501846998935, -2.278256598067263, -5.53744891249996, -4.686226410672376, 0.30382441378906755, -3.7296668065514353, 1.1757518519108903, -2.152417914161796, -3.692818496237555], \"y\": [3.4053156803910536, 3.729440580134272, 7.115938837216567, 6.2383953833599834, 6.738902405987771, 1.6798788535843796, 0.426703045092959, -8.57887314276572, -5.457469816021779, -6.145413681234592, -2.651627769211558, -7.988855680680584, 1.322022686032784, 0.4111020926919453, 3.3084733072069357, 4.507646719655471, 1.2562719135064158, 2.5679035233151972, -4.250612202162369, -1.208029219654247, 7.660506207376087, 1.1225209147164903, -0.12399672775587334, 6.2154445047511295, 4.537339874920296, 2.2609880239650932, 3.2751112379121494, 3.359583721700272, -7.870824768406664, 1.2765968301708028, 7.0431575239128525, 7.153181259315232, 5.871462844333443, 9.124324108019174, 3.245368448314138, 2.977563710489315, 4.949095329845723, 0.7019325432311811, -6.883309472590983, -2.17003899226647, -1.6369064380268377, 0.013990722820162338, 0.3830550195437339], \"z\": [1.865911632557168, 2.0831814398599002, 2.4502047462026466, 3.600422432940081, 3.3586116742422365, 2.8752883654471493, 3.1498232277243945, 4.465394927147864, 2.7671204675596304, 3.4168017828747113, 3.173826242416413, 3.3530783562129756, 2.08089440622238, 3.537429728401681, 1.885924112360784, 2.281288795428674, 3.0206222088432257, 3.2720535786143525, 2.7877711354988826, 1.5074967845823197, 2.5428062168417425, 3.6656635052035282, 3.822880886229819, 2.35614063913287, 3.5399158247028906, 3.365749150172884, 3.8878939422390904, 2.7601196551112954, 2.01878197679254, 2.7797540995971515, 2.652222941943201, 2.765213824504499, 3.3527467500595236, 2.3662719801904943, 3.83941638094638, 2.972890714393764, 3.4667104836811014, 3.660240668473299, 2.9147782149394352, 2.9860694971531387, 3.371906606402354, 2.5409831012026034, 2.7822243316660007], \"type\": \"scatter3d\"}, {\"color\": \"#00FFFF\", \"x\": [-50, 50, -50, 50], \"y\": [-50, 50, 50, -50], \"z\": [0, 0, 0, 0], \"type\": \"mesh3d\"}], \"name\": \"frame44\"}, {\"data\": [{\"line\": {\"color\": \"red\", \"width\": 5}, \"marker\": {\"color\": \"blue\", \"size\": 2}, \"text\": [\"RHip\"], \"x\": [0.3832054920758754, 1.01032], \"y\": [0.5597776881096608, 2.00363], \"z\": [15.787679551508564, 17.8361], \"type\": \"scatter3d\"}, {\"line\": {\"color\": \"red\", \"width\": 5}, \"marker\": {\"color\": \"blue\", \"size\": 2}, \"text\": [\"RKnee\"], \"x\": [0.8036524770784844, 0.3832054920758754], \"y\": [-0.6700222278686527, 0.5597776881096608], \"z\": [8.480897269673903, 15.787679551508564], \"type\": \"scatter3d\"}, {\"line\": {\"color\": \"red\", \"width\": 5}, \"marker\": {\"color\": \"blue\", \"size\": 2}, \"text\": [\"RAnkle\"], \"x\": [-4.154591360438411, 0.8036524770784844], \"y\": [2.7794523056441234, -0.6700222278686527], \"z\": [2.9218041193177324, 8.480897269673903], \"type\": \"scatter3d\"}, {\"line\": {\"color\": \"black\", \"width\": 5}, \"marker\": {\"color\": \"blue\", \"size\": 2}, \"text\": [\"LHip\"], \"x\": [2.6561088006608884, 1.01032], \"y\": [2.7818863026032608, 2.00363], \"z\": [16.039952897448543, 17.8361], \"type\": \"scatter3d\"}, {\"line\": {\"color\": \"black\", \"width\": 5}, \"marker\": {\"color\": \"blue\", \"size\": 2}, \"text\": [\"LKnee\"], \"x\": [5.615308091958488, 2.6561088006608884], \"y\": [1.522535973514453, 2.7818863026032608], \"z\": [9.141114521447935, 16.039952897448543], \"type\": \"scatter3d\"}, {\"line\": {\"color\": \"black\", \"width\": 5}, \"marker\": {\"color\": \"blue\", \"size\": 2}, \"text\": [\"LAnkle\"], \"x\": [2.4079061365486507, 5.615308091958488], \"y\": [4.783850617668458, 1.522535973514453], \"z\": [2.427346674783056, 9.141114521447935], \"type\": \"scatter3d\"}, {\"line\": {\"color\": \"black\", \"width\": 5}, \"marker\": {\"color\": \"blue\", \"size\": 2}, \"text\": [\"Spine1\"], \"x\": [1.0515455544441723, 1.01032], \"y\": [1.5641954915202172, 2.00363], \"z\": [21.823123180622332, 17.8361], \"type\": \"scatter3d\"}, {\"line\": {\"color\": \"black\", \"width\": 5}, \"marker\": {\"color\": \"blue\", \"size\": 2}, \"text\": [\"Neck\"], \"x\": [1.0949993415237356, 1.0515455544441723], \"y\": [1.0974456999993585, 1.5641954915202172], \"z\": [25.590489262701045, 21.823123180622332], \"type\": \"scatter3d\"}, {\"line\": {\"color\": \"black\", \"width\": 5}, \"marker\": {\"color\": \"blue\", \"size\": 2}, \"text\": [\"Head\"], \"x\": [1.3190655609601138, 1.0949993415237356], \"y\": [0.9804425246048944, 1.0974456999993585], \"z\": [27.35215658080515, 25.590489262701045], \"type\": \"scatter3d\"}, {\"line\": {\"color\": \"black\", \"width\": 5}, \"marker\": {\"color\": \"blue\", \"size\": 2}, \"text\": [\"Site\"], \"x\": [1.7274530134518395, 1.3190655609601138], \"y\": [0.6970029445430982, 0.9804425246048944], \"z\": [29.0640718756307, 27.35215658080515], \"type\": \"scatter3d\"}, {\"line\": {\"color\": \"black\", \"width\": 5}, \"marker\": {\"color\": \"blue\", \"size\": 2}, \"text\": [\"LShoulder\"], \"x\": [3.0876380941709263, 1.0949993415237356], \"y\": [3.999860977020925, 1.0974456999993585], \"z\": [25.424153121651724, 25.590489262701045], \"type\": \"scatter3d\"}, {\"line\": {\"color\": \"black\", \"width\": 5}, \"marker\": {\"color\": \"blue\", \"size\": 2}, \"text\": [\"LElbow\"], \"x\": [5.559077156303488, 3.0876380941709263], \"y\": [1.8192048182589997, 3.999860977020925], \"z\": [23.802549003113196, 25.424153121651724], \"type\": \"scatter3d\"}, {\"line\": {\"color\": \"black\", \"width\": 5}, \"marker\": {\"color\": \"blue\", \"size\": 2}, \"text\": [\"LWrist\"], \"x\": [5.564593568885508, 5.559077156303488], \"y\": [0.8853108780995191, 1.8192048182589997], \"z\": [25.391160554697038, 23.802549003113196], \"type\": \"scatter3d\"}, {\"line\": {\"color\": \"red\", \"width\": 5}, \"marker\": {\"color\": \"blue\", \"size\": 2}, \"text\": [\"RShoulder\"], \"x\": [-0.8299486753091805, 1.0949993415237356], \"y\": [-1.120763073046183, 1.0974456999993585], \"z\": [24.948675863599558, 25.590489262701045], \"type\": \"scatter3d\"}, {\"line\": {\"color\": \"red\", \"width\": 5}, \"marker\": {\"color\": \"blue\", \"size\": 2}, \"text\": [\"RElbow\"], \"x\": [2.6154504768784532, -0.8299486753091805], \"y\": [-2.514074100271351, -1.120763073046183], \"z\": [23.051699726763527, 24.948675863599558], \"type\": \"scatter3d\"}, {\"line\": {\"color\": \"red\", \"width\": 5}, \"marker\": {\"color\": \"blue\", \"size\": 2}, \"text\": [\"RWrist\"], \"x\": [3.190322402276424, 2.6154504768784532], \"y\": [-2.193526576518532, -2.514074100271351], \"z\": [24.743426779808775, 23.051699726763527], \"type\": \"scatter3d\"}, {\"line\": {\"color\": \"#1f77b4\", \"width\": 1}, \"marker\": {\"color\": \"#1f77b4\", \"size\": 1}, \"x\": [-7.68200201222643, -11.202351483965106, -10.955869104893946, -7.261455157517169, -6.696189981227148, -6.597702295821579, -6.51772886461975, -3.8476915953707365, -0.7970128046349325, -5.5020630048652315, -4.462829338330973, 2.1426985093789725, -6.550621684435969, -4.382364421867683, -6.238933645893352, -6.0372324143801315, -5.622770625880111, -4.622031270382943, -1.8315147477995466, -8.80699809751267, -5.336259744172091, -3.3386011500038735, -6.154514249840276, -2.3716164831946065, -3.7972808897935995, -4.576736217307565, -5.1162575489259865, -4.079441163068022, -2.1208858457289037, -5.667957809262714, -7.811198372064535, -2.302780558625111, -6.416882824203098, -1.427036396898762, -3.9840501846998935, -2.278256598067263, -5.53744891249996, -4.686226410672376, 0.30382441378906755, -3.7296668065514353, 1.1757518519108903, -2.152417914161796, -3.692818496237555, -3.851243149300469], \"y\": [3.4053156803910536, 3.729440580134272, 7.115938837216567, 6.2383953833599834, 6.738902405987771, 1.6798788535843796, 0.426703045092959, -8.57887314276572, -5.457469816021779, -6.145413681234592, -2.651627769211558, -7.988855680680584, 1.322022686032784, 0.4111020926919453, 3.3084733072069357, 4.507646719655471, 1.2562719135064158, 2.5679035233151972, -4.250612202162369, -1.208029219654247, 7.660506207376087, 1.1225209147164903, -0.12399672775587334, 6.2154445047511295, 4.537339874920296, 2.2609880239650932, 3.2751112379121494, 3.359583721700272, -7.870824768406664, 1.2765968301708028, 7.0431575239128525, 7.153181259315232, 5.871462844333443, 9.124324108019174, 3.245368448314138, 2.977563710489315, 4.949095329845723, 0.7019325432311811, -6.883309472590983, -2.17003899226647, -1.6369064380268377, 0.013990722820162338, 0.3830550195437339, 1.73969847014791], \"z\": [1.865911632557168, 2.0831814398599002, 2.4502047462026466, 3.600422432940081, 3.3586116742422365, 2.8752883654471493, 3.1498232277243945, 4.465394927147864, 2.7671204675596304, 3.4168017828747113, 3.173826242416413, 3.3530783562129756, 2.08089440622238, 3.537429728401681, 1.885924112360784, 2.281288795428674, 3.0206222088432257, 3.2720535786143525, 2.7877711354988826, 1.5074967845823197, 2.5428062168417425, 3.6656635052035282, 3.822880886229819, 2.35614063913287, 3.5399158247028906, 3.365749150172884, 3.8878939422390904, 2.7601196551112954, 2.01878197679254, 2.7797540995971515, 2.652222941943201, 2.765213824504499, 3.3527467500595236, 2.3662719801904943, 3.83941638094638, 2.972890714393764, 3.4667104836811014, 3.660240668473299, 2.9147782149394352, 2.9860694971531387, 3.371906606402354, 2.5409831012026034, 2.7822243316660007, 2.742987431833109], \"type\": \"scatter3d\"}, {\"color\": \"#00FFFF\", \"x\": [-50, 50, -50, 50], \"y\": [-50, 50, 50, -50], \"z\": [0, 0, 0, 0], \"type\": \"mesh3d\"}], \"name\": \"frame45\"}, {\"data\": [{\"line\": {\"color\": \"red\", \"width\": 5}, \"marker\": {\"color\": \"blue\", \"size\": 2}, \"text\": [\"RHip\"], \"x\": [3.6931134172348026, 3.98941], \"y\": [0.06682341431936645, 1.96488], \"z\": [16.619490539887575, 18.3468], \"type\": \"scatter3d\"}, {\"line\": {\"color\": \"red\", \"width\": 5}, \"marker\": {\"color\": \"blue\", \"size\": 2}, \"text\": [\"RKnee\"], \"x\": [2.8118393409072535, 3.6931134172348026], \"y\": [-0.973895342530779, 0.06682341431936645], \"z\": [9.324388670399781, 16.619490539887575], \"type\": \"scatter3d\"}, {\"line\": {\"color\": \"red\", \"width\": 5}, \"marker\": {\"color\": \"blue\", \"size\": 2}, \"text\": [\"RAnkle\"], \"x\": [-2.774863366576164, 2.8118393409072535], \"y\": [-0.30968928788944405, -0.973895342530779], \"z\": [3.346583359155561, 9.324388670399781], \"type\": \"scatter3d\"}, {\"line\": {\"color\": \"black\", \"width\": 5}, \"marker\": {\"color\": \"blue\", \"size\": 2}, \"text\": [\"LHip\"], \"x\": [5.039587156514372, 3.98941], \"y\": [2.93006398924207, 1.96488], \"z\": [16.224066886824293, 18.3468], \"type\": \"scatter3d\"}, {\"line\": {\"color\": \"black\", \"width\": 5}, \"marker\": {\"color\": \"blue\", \"size\": 2}, \"text\": [\"LKnee\"], \"x\": [9.07600746243136, 5.039587156514372], \"y\": [2.9606600605454068, 2.93006398924207], \"z\": [9.770914972482526, 16.224066886824293], \"type\": \"scatter3d\"}, {\"line\": {\"color\": \"black\", \"width\": 5}, \"marker\": {\"color\": \"blue\", \"size\": 2}, \"text\": [\"LAnkle\"], \"x\": [9.728104320431846, 9.07600746243136], \"y\": [6.094939789139996, 2.9606600605454068], \"z\": [2.3043669426793105, 9.770914972482526], \"type\": \"scatter3d\"}, {\"line\": {\"color\": \"black\", \"width\": 5}, \"marker\": {\"color\": \"blue\", \"size\": 2}, \"text\": [\"Spine1\"], \"x\": [4.538721061055933, 3.98941], \"y\": [2.7044489609478806, 1.96488], \"z\": [22.240915929681574, 18.3468], \"type\": \"scatter3d\"}, {\"line\": {\"color\": \"black\", \"width\": 5}, \"marker\": {\"color\": \"blue\", \"size\": 2}, \"text\": [\"Neck\"], \"x\": [5.799291526936098, 4.538721061055933], \"y\": [3.973164006381038, 2.7044489609478806], \"z\": [25.58833533177453, 22.240915929681574], \"type\": \"scatter3d\"}, {\"line\": {\"color\": \"black\", \"width\": 5}, \"marker\": {\"color\": \"blue\", \"size\": 2}, \"text\": [\"Head\"], \"x\": [6.668431604901985, 5.799291526936098], \"y\": [4.242424373115083, 3.973164006381038], \"z\": [27.117865172346693, 25.58833533177453], \"type\": \"scatter3d\"}, {\"line\": {\"color\": \"black\", \"width\": 5}, \"marker\": {\"color\": \"blue\", \"size\": 2}, \"text\": [\"Site\"], \"x\": [7.668928848432987, 6.668431604901985], \"y\": [4.2455383437567695, 4.242424373115083], \"z\": [28.59325252908717, 27.117865172346693], \"type\": \"scatter3d\"}, {\"line\": {\"color\": \"black\", \"width\": 5}, \"marker\": {\"color\": \"blue\", \"size\": 2}, \"text\": [\"LShoulder\"], \"x\": [5.261027678247375, 5.799291526936098], \"y\": [7.054031842644269, 3.973164006381038], \"z\": [24.13958855280428, 25.58833533177453], \"type\": \"scatter3d\"}, {\"line\": {\"color\": \"black\", \"width\": 5}, \"marker\": {\"color\": \"blue\", \"size\": 2}, \"text\": [\"LElbow\"], \"x\": [8.194330464533973, 5.261027678247375], \"y\": [6.361641045301006, 7.054031842644269], \"z\": [21.85294417849977, 24.13958855280428], \"type\": \"scatter3d\"}, {\"line\": {\"color\": \"black\", \"width\": 5}, \"marker\": {\"color\": \"blue\", \"size\": 2}, \"text\": [\"LWrist\"], \"x\": [9.163680046875024, 8.194330464533973], \"y\": [5.943635277963757, 6.361641045301006], \"z\": [23.363410182681267, 21.85294417849977], \"type\": \"scatter3d\"}, {\"line\": {\"color\": \"red\", \"width\": 5}, \"marker\": {\"color\": \"blue\", \"size\": 2}, \"text\": [\"RShoulder\"], \"x\": [5.176924321778269, 5.799291526936098], \"y\": [0.992532501704197, 3.973164006381038], \"z\": [26.385809322601794, 25.58833533177453], \"type\": \"scatter3d\"}, {\"line\": {\"color\": \"red\", \"width\": 5}, \"marker\": {\"color\": \"blue\", \"size\": 2}, \"text\": [\"RElbow\"], \"x\": [10.393594150199466, 5.176924321778269], \"y\": [-1.0658494254770117, 0.992532501704197], \"z\": [23.391497027451123, 26.385809322601794], \"type\": \"scatter3d\"}, {\"line\": {\"color\": \"red\", \"width\": 5}, \"marker\": {\"color\": \"blue\", \"size\": 2}, \"text\": [\"RWrist\"], \"x\": [11.888346784068478, 10.393594150199466], \"y\": [-0.3953358462502773, -1.0658494254770117], \"z\": [24.17335057589495, 23.391497027451123], \"type\": \"scatter3d\"}, {\"line\": {\"color\": \"#1f77b4\", \"width\": 1}, \"marker\": {\"color\": \"#1f77b4\", \"size\": 1}, \"x\": [-7.68200201222643, -11.202351483965106, -10.955869104893946, -7.261455157517169, -6.696189981227148, -6.597702295821579, -6.51772886461975, -3.8476915953707365, -0.7970128046349325, -5.5020630048652315, -4.462829338330973, 2.1426985093789725, -6.550621684435969, -4.382364421867683, -6.238933645893352, -6.0372324143801315, -5.622770625880111, -4.622031270382943, -1.8315147477995466, -8.80699809751267, -5.336259744172091, -3.3386011500038735, -6.154514249840276, -2.3716164831946065, -3.7972808897935995, -4.576736217307565, -5.1162575489259865, -4.079441163068022, -2.1208858457289037, -5.667957809262714, -7.811198372064535, -2.302780558625111, -6.416882824203098, -1.427036396898762, -3.9840501846998935, -2.278256598067263, -5.53744891249996, -4.686226410672376, 0.30382441378906755, -3.7296668065514353, 1.1757518519108903, -2.152417914161796, -3.692818496237555, -3.851243149300469, -4.154591360438411], \"y\": [3.4053156803910536, 3.729440580134272, 7.115938837216567, 6.2383953833599834, 6.738902405987771, 1.6798788535843796, 0.426703045092959, -8.57887314276572, -5.457469816021779, -6.145413681234592, -2.651627769211558, -7.988855680680584, 1.322022686032784, 0.4111020926919453, 3.3084733072069357, 4.507646719655471, 1.2562719135064158, 2.5679035233151972, -4.250612202162369, -1.208029219654247, 7.660506207376087, 1.1225209147164903, -0.12399672775587334, 6.2154445047511295, 4.537339874920296, 2.2609880239650932, 3.2751112379121494, 3.359583721700272, -7.870824768406664, 1.2765968301708028, 7.0431575239128525, 7.153181259315232, 5.871462844333443, 9.124324108019174, 3.245368448314138, 2.977563710489315, 4.949095329845723, 0.7019325432311811, -6.883309472590983, -2.17003899226647, -1.6369064380268377, 0.013990722820162338, 0.3830550195437339, 1.73969847014791, 2.7794523056441234], \"z\": [1.865911632557168, 2.0831814398599002, 2.4502047462026466, 3.600422432940081, 3.3586116742422365, 2.8752883654471493, 3.1498232277243945, 4.465394927147864, 2.7671204675596304, 3.4168017828747113, 3.173826242416413, 3.3530783562129756, 2.08089440622238, 3.537429728401681, 1.885924112360784, 2.281288795428674, 3.0206222088432257, 3.2720535786143525, 2.7877711354988826, 1.5074967845823197, 2.5428062168417425, 3.6656635052035282, 3.822880886229819, 2.35614063913287, 3.5399158247028906, 3.365749150172884, 3.8878939422390904, 2.7601196551112954, 2.01878197679254, 2.7797540995971515, 2.652222941943201, 2.765213824504499, 3.3527467500595236, 2.3662719801904943, 3.83941638094638, 2.972890714393764, 3.4667104836811014, 3.660240668473299, 2.9147782149394352, 2.9860694971531387, 3.371906606402354, 2.5409831012026034, 2.7822243316660007, 2.742987431833109, 2.9218041193177324], \"type\": \"scatter3d\"}, {\"color\": \"#00FFFF\", \"x\": [-50, 50, -50, 50], \"y\": [-50, 50, 50, -50], \"z\": [0, 0, 0, 0], \"type\": \"mesh3d\"}], \"name\": \"frame46\"}, {\"data\": [{\"line\": {\"color\": \"red\", \"width\": 5}, \"marker\": {\"color\": \"blue\", \"size\": 2}, \"text\": [\"RHip\"], \"x\": [0.5427464501287935, 1.9422], \"y\": [0.8731147478530483, 1.8915], \"z\": [15.927976727718153, 17.8459], \"type\": \"scatter3d\"}, {\"line\": {\"color\": \"red\", \"width\": 5}, \"marker\": {\"color\": \"blue\", \"size\": 2}, \"text\": [\"RKnee\"], \"x\": [0.16485022745255673, 0.5427464501287935], \"y\": [0.0406695785755844, 0.8731147478530483], \"z\": [8.563027284598762, 15.927976727718153], \"type\": \"scatter3d\"}, {\"line\": {\"color\": \"red\", \"width\": 5}, \"marker\": {\"color\": \"blue\", \"size\": 2}, \"text\": [\"RAnkle\"], \"x\": [-3.9003741680915605, 0.16485022745255673], \"y\": [3.7836654219669974, 0.0406695785755844], \"z\": [2.492565531635324, 8.563027284598762], \"type\": \"scatter3d\"}, {\"line\": {\"color\": \"black\", \"width\": 5}, \"marker\": {\"color\": \"blue\", \"size\": 2}, \"text\": [\"LHip\"], \"x\": [3.525177912960464, 1.9422], \"y\": [1.9977808610893206, 1.8915], \"z\": [15.840075140105215, 17.8459], \"type\": \"scatter3d\"}, {\"line\": {\"color\": \"black\", \"width\": 5}, \"marker\": {\"color\": \"blue\", \"size\": 2}, \"text\": [\"LKnee\"], \"x\": [7.978986208885723, 3.525177912960464], \"y\": [-0.6446576929472057, 1.9977808610893206], \"z\": [10.261732663485507, 15.840075140105215], \"type\": \"scatter3d\"}, {\"line\": {\"color\": \"black\", \"width\": 5}, \"marker\": {\"color\": \"blue\", \"size\": 2}, \"text\": [\"LAnkle\"], \"x\": [9.755612419389166, 7.978986208885723], \"y\": [2.766326548071431, -0.6446576929472057], \"z\": [3.1058214687929606, 10.261732663485507], \"type\": \"scatter3d\"}, {\"line\": {\"color\": \"black\", \"width\": 5}, \"marker\": {\"color\": \"blue\", \"size\": 2}, \"text\": [\"Spine1\"], \"x\": [2.7039431041595234, 1.9422], \"y\": [1.390451329339128, 1.8915], \"z\": [21.744025429668547, 17.8459], \"type\": \"scatter3d\"}, {\"line\": {\"color\": \"black\", \"width\": 5}, \"marker\": {\"color\": \"blue\", \"size\": 2}, \"text\": [\"Neck\"], \"x\": [3.9184964789737347, 2.7039431041595234], \"y\": [1.2411001365738454, 1.390451329339128], \"z\": [25.336183796017536, 21.744025429668547], \"type\": \"scatter3d\"}, {\"line\": {\"color\": \"black\", \"width\": 5}, \"marker\": {\"color\": \"blue\", \"size\": 2}, \"text\": [\"Head\"], \"x\": [4.880055865929179, 3.9184964789737347], \"y\": [1.1719132934851593, 1.2411001365738454], \"z\": [26.83217306052524, 25.336183796017536], \"type\": \"scatter3d\"}, {\"line\": {\"color\": \"black\", \"width\": 5}, \"marker\": {\"color\": \"blue\", \"size\": 2}, \"text\": [\"Site\"], \"x\": [6.016063881061138, 4.880055865929179], \"y\": [0.8793257192881765, 1.1719132934851593], \"z\": [28.174428842609046, 26.83217306052524], \"type\": \"scatter3d\"}, {\"line\": {\"color\": \"black\", \"width\": 5}, \"marker\": {\"color\": \"blue\", \"size\": 2}, \"text\": [\"LShoulder\"], \"x\": [6.274550601293493, 3.9184964789737347], \"y\": [3.5859234291100135, 1.2411001365738454], \"z\": [24.08415794393324, 25.336183796017536], \"type\": \"scatter3d\"}, {\"line\": {\"color\": \"black\", \"width\": 5}, \"marker\": {\"color\": \"blue\", \"size\": 2}, \"text\": [\"LElbow\"], \"x\": [6.836171240349545, 6.274550601293493], \"y\": [3.268739616303894, 3.5859234291100135], \"z\": [21.017111714880016, 24.08415794393324], \"type\": \"scatter3d\"}, {\"line\": {\"color\": \"black\", \"width\": 5}, \"marker\": {\"color\": \"blue\", \"size\": 2}, \"text\": [\"LWrist\"], \"x\": [8.083826028170954, 6.836171240349545], \"y\": [2.18212421142705, 3.268739616303894], \"z\": [21.8285915214129, 21.017111714880016], \"type\": \"scatter3d\"}, {\"line\": {\"color\": \"red\", \"width\": 5}, \"marker\": {\"color\": \"blue\", \"size\": 2}, \"text\": [\"RShoulder\"], \"x\": [1.5498659024014498, 3.9184964789737347], \"y\": [-0.5272522152845509, 1.2411001365738454], \"z\": [25.682124150043617, 25.336183796017536], \"type\": \"scatter3d\"}, {\"line\": {\"color\": \"red\", \"width\": 5}, \"marker\": {\"color\": \"blue\", \"size\": 2}, \"text\": [\"RElbow\"], \"x\": [1.5673337535731287, 1.5498659024014498], \"y\": [-3.2931961244867294, -0.5272522152845509], \"z\": [21.528341789917768, 25.682124150043617], \"type\": \"scatter3d\"}, {\"line\": {\"color\": \"red\", \"width\": 5}, \"marker\": {\"color\": \"blue\", \"size\": 2}, \"text\": [\"RWrist\"], \"x\": [3.16652521683674, 1.5673337535731287], \"y\": [-4.026489638219009, -3.2931961244867294], \"z\": [21.97559580515179, 21.528341789917768], \"type\": \"scatter3d\"}, {\"line\": {\"color\": \"#1f77b4\", \"width\": 1}, \"marker\": {\"color\": \"#1f77b4\", \"size\": 1}, \"x\": [-7.68200201222643, -11.202351483965106, -10.955869104893946, -7.261455157517169, -6.696189981227148, -6.597702295821579, -6.51772886461975, -3.8476915953707365, -0.7970128046349325, -5.5020630048652315, -4.462829338330973, 2.1426985093789725, -6.550621684435969, -4.382364421867683, -6.238933645893352, -6.0372324143801315, -5.622770625880111, -4.622031270382943, -1.8315147477995466, -8.80699809751267, -5.336259744172091, -3.3386011500038735, -6.154514249840276, -2.3716164831946065, -3.7972808897935995, -4.576736217307565, -5.1162575489259865, -4.079441163068022, -2.1208858457289037, -5.667957809262714, -7.811198372064535, -2.302780558625111, -6.416882824203098, -1.427036396898762, -3.9840501846998935, -2.278256598067263, -5.53744891249996, -4.686226410672376, 0.30382441378906755, -3.7296668065514353, 1.1757518519108903, -2.152417914161796, -3.692818496237555, -3.851243149300469, -4.154591360438411, -2.774863366576164], \"y\": [3.4053156803910536, 3.729440580134272, 7.115938837216567, 6.2383953833599834, 6.738902405987771, 1.6798788535843796, 0.426703045092959, -8.57887314276572, -5.457469816021779, -6.145413681234592, -2.651627769211558, -7.988855680680584, 1.322022686032784, 0.4111020926919453, 3.3084733072069357, 4.507646719655471, 1.2562719135064158, 2.5679035233151972, -4.250612202162369, -1.208029219654247, 7.660506207376087, 1.1225209147164903, -0.12399672775587334, 6.2154445047511295, 4.537339874920296, 2.2609880239650932, 3.2751112379121494, 3.359583721700272, -7.870824768406664, 1.2765968301708028, 7.0431575239128525, 7.153181259315232, 5.871462844333443, 9.124324108019174, 3.245368448314138, 2.977563710489315, 4.949095329845723, 0.7019325432311811, -6.883309472590983, -2.17003899226647, -1.6369064380268377, 0.013990722820162338, 0.3830550195437339, 1.73969847014791, 2.7794523056441234, -0.30968928788944405], \"z\": [1.865911632557168, 2.0831814398599002, 2.4502047462026466, 3.600422432940081, 3.3586116742422365, 2.8752883654471493, 3.1498232277243945, 4.465394927147864, 2.7671204675596304, 3.4168017828747113, 3.173826242416413, 3.3530783562129756, 2.08089440622238, 3.537429728401681, 1.885924112360784, 2.281288795428674, 3.0206222088432257, 3.2720535786143525, 2.7877711354988826, 1.5074967845823197, 2.5428062168417425, 3.6656635052035282, 3.822880886229819, 2.35614063913287, 3.5399158247028906, 3.365749150172884, 3.8878939422390904, 2.7601196551112954, 2.01878197679254, 2.7797540995971515, 2.652222941943201, 2.765213824504499, 3.3527467500595236, 2.3662719801904943, 3.83941638094638, 2.972890714393764, 3.4667104836811014, 3.660240668473299, 2.9147782149394352, 2.9860694971531387, 3.371906606402354, 2.5409831012026034, 2.7822243316660007, 2.742987431833109, 2.9218041193177324, 3.346583359155561], \"type\": \"scatter3d\"}, {\"color\": \"#00FFFF\", \"x\": [-50, 50, -50, 50], \"y\": [-50, 50, 50, -50], \"z\": [0, 0, 0, 0], \"type\": \"mesh3d\"}], \"name\": \"frame47\"}, {\"data\": [{\"line\": {\"color\": \"red\", \"width\": 5}, \"marker\": {\"color\": \"blue\", \"size\": 2}, \"text\": [\"RHip\"], \"x\": [1.9397425737991076, 2.84575], \"y\": [1.0436211358624214, 2.50286], \"z\": [16.733389939017485, 18.6631], \"type\": \"scatter3d\"}, {\"line\": {\"color\": \"red\", \"width\": 5}, \"marker\": {\"color\": \"blue\", \"size\": 2}, \"text\": [\"RKnee\"], \"x\": [1.4847307865164971, 1.9397425737991076], \"y\": [-0.5669398191639345, 1.0436211358624214], \"z\": [9.50308507004761, 16.733389939017485], \"type\": \"scatter3d\"}, {\"line\": {\"color\": \"red\", \"width\": 5}, \"marker\": {\"color\": \"blue\", \"size\": 2}, \"text\": [\"RAnkle\"], \"x\": [-3.80073589914658, 1.4847307865164971], \"y\": [1.1092604814918277, -0.5669398191639345], \"z\": [3.449923282122916, 9.50308507004761], \"type\": \"scatter3d\"}, {\"line\": {\"color\": \"black\", \"width\": 5}, \"marker\": {\"color\": \"blue\", \"size\": 2}, \"text\": [\"LHip\"], \"x\": [4.1688166057793055, 2.84575], \"y\": [3.3214983105379314, 2.50286], \"z\": [16.633377325318133, 18.6631], \"type\": \"scatter3d\"}, {\"line\": {\"color\": \"black\", \"width\": 5}, \"marker\": {\"color\": \"blue\", \"size\": 2}, \"text\": [\"LKnee\"], \"x\": [7.898139484754709, 4.1688166057793055], \"y\": [2.369960598110434, 3.3214983105379314], \"z\": [10.066527130487291, 16.633377325318133], \"type\": \"scatter3d\"}, {\"line\": {\"color\": \"black\", \"width\": 5}, \"marker\": {\"color\": \"blue\", \"size\": 2}, \"text\": [\"LAnkle\"], \"x\": [8.497304031684486, 7.898139484754709], \"y\": [5.7271538326051665, 2.369960598110434], \"z\": [2.6930249339312606, 10.066527130487291], \"type\": \"scatter3d\"}, {\"line\": {\"color\": \"black\", \"width\": 5}, \"marker\": {\"color\": \"blue\", \"size\": 2}, \"text\": [\"Spine1\"], \"x\": [3.702571600113683, 2.84575], \"y\": [2.061036900767159, 2.50286], \"z\": [22.55416568208234, 18.6631], \"type\": \"scatter3d\"}, {\"line\": {\"color\": \"black\", \"width\": 5}, \"marker\": {\"color\": \"blue\", \"size\": 2}, \"text\": [\"Neck\"], \"x\": [4.758901543065329, 3.702571600113683], \"y\": [1.932052482198688, 2.061036900767159], \"z\": [26.195844088777744, 22.55416568208234], \"type\": \"scatter3d\"}, {\"line\": {\"color\": \"black\", \"width\": 5}, \"marker\": {\"color\": \"blue\", \"size\": 2}, \"text\": [\"Head\"], \"x\": [5.107097234663502, 4.758901543065329], \"y\": [2.0209219056436396, 1.932052482198688], \"z\": [27.938895763097825, 26.195844088777744], \"type\": \"scatter3d\"}, {\"line\": {\"color\": \"black\", \"width\": 5}, \"marker\": {\"color\": \"blue\", \"size\": 2}, \"text\": [\"Site\"], \"x\": [5.520884886427181, 5.107097234663502], \"y\": [1.92123424668425, 2.0209219056436396], \"z\": [29.66996896589863, 27.938895763097825], \"type\": \"scatter3d\"}, {\"line\": {\"color\": \"black\", \"width\": 5}, \"marker\": {\"color\": \"blue\", \"size\": 2}, \"text\": [\"LShoulder\"], \"x\": [6.259679521951334, 4.758901543065329], \"y\": [4.920712976370956, 1.932052482198688], \"z\": [25.44016769914242, 26.195844088777744], \"type\": \"scatter3d\"}, {\"line\": {\"color\": \"black\", \"width\": 5}, \"marker\": {\"color\": \"blue\", \"size\": 2}, \"text\": [\"LElbow\"], \"x\": [7.961051712864883, 6.259679521951334], \"y\": [4.642530899671, 4.920712976370956], \"z\": [22.90860478250995, 25.44016769914242], \"type\": \"scatter3d\"}, {\"line\": {\"color\": \"black\", \"width\": 5}, \"marker\": {\"color\": \"blue\", \"size\": 2}, \"text\": [\"LWrist\"], \"x\": [8.834889285785595, 7.961051712864883], \"y\": [3.680956138335592, 4.642530899671], \"z\": [24.21537823594968, 22.90860478250995], \"type\": \"scatter3d\"}, {\"line\": {\"color\": \"red\", \"width\": 5}, \"marker\": {\"color\": \"blue\", \"size\": 2}, \"text\": [\"RShoulder\"], \"x\": [2.956555012021041, 4.758901543065329], \"y\": [-0.591123272023768, 1.932052482198688], \"z\": [26.14966401642376, 26.195844088777744], \"type\": \"scatter3d\"}, {\"line\": {\"color\": \"red\", \"width\": 5}, \"marker\": {\"color\": \"blue\", \"size\": 2}, \"text\": [\"RElbow\"], \"x\": [5.634088903960367, 2.956555012021041], \"y\": [-2.583056102578758, -0.591123272023768], \"z\": [22.959996752295865, 26.14966401642376], \"type\": \"scatter3d\"}, {\"line\": {\"color\": \"red\", \"width\": 5}, \"marker\": {\"color\": \"blue\", \"size\": 2}, \"text\": [\"RWrist\"], \"x\": [6.888412002948964, 5.634088903960367], \"y\": [-2.644470337525152, -2.583056102578758], \"z\": [24.270748720705445, 22.959996752295865], \"type\": \"scatter3d\"}, {\"line\": {\"color\": \"#1f77b4\", \"width\": 1}, \"marker\": {\"color\": \"#1f77b4\", \"size\": 1}, \"x\": [-7.68200201222643, -11.202351483965106, -10.955869104893946, -7.261455157517169, -6.696189981227148, -6.597702295821579, -6.51772886461975, -3.8476915953707365, -0.7970128046349325, -5.5020630048652315, -4.462829338330973, 2.1426985093789725, -6.550621684435969, -4.382364421867683, -6.238933645893352, -6.0372324143801315, -5.622770625880111, -4.622031270382943, -1.8315147477995466, -8.80699809751267, -5.336259744172091, -3.3386011500038735, -6.154514249840276, -2.3716164831946065, -3.7972808897935995, -4.576736217307565, -5.1162575489259865, -4.079441163068022, -2.1208858457289037, -5.667957809262714, -7.811198372064535, -2.302780558625111, -6.416882824203098, -1.427036396898762, -3.9840501846998935, -2.278256598067263, -5.53744891249996, -4.686226410672376, 0.30382441378906755, -3.7296668065514353, 1.1757518519108903, -2.152417914161796, -3.692818496237555, -3.851243149300469, -4.154591360438411, -2.774863366576164, -3.9003741680915605], \"y\": [3.4053156803910536, 3.729440580134272, 7.115938837216567, 6.2383953833599834, 6.738902405987771, 1.6798788535843796, 0.426703045092959, -8.57887314276572, -5.457469816021779, -6.145413681234592, -2.651627769211558, -7.988855680680584, 1.322022686032784, 0.4111020926919453, 3.3084733072069357, 4.507646719655471, 1.2562719135064158, 2.5679035233151972, -4.250612202162369, -1.208029219654247, 7.660506207376087, 1.1225209147164903, -0.12399672775587334, 6.2154445047511295, 4.537339874920296, 2.2609880239650932, 3.2751112379121494, 3.359583721700272, -7.870824768406664, 1.2765968301708028, 7.0431575239128525, 7.153181259315232, 5.871462844333443, 9.124324108019174, 3.245368448314138, 2.977563710489315, 4.949095329845723, 0.7019325432311811, -6.883309472590983, -2.17003899226647, -1.6369064380268377, 0.013990722820162338, 0.3830550195437339, 1.73969847014791, 2.7794523056441234, -0.30968928788944405, 3.7836654219669974], \"z\": [1.865911632557168, 2.0831814398599002, 2.4502047462026466, 3.600422432940081, 3.3586116742422365, 2.8752883654471493, 3.1498232277243945, 4.465394927147864, 2.7671204675596304, 3.4168017828747113, 3.173826242416413, 3.3530783562129756, 2.08089440622238, 3.537429728401681, 1.885924112360784, 2.281288795428674, 3.0206222088432257, 3.2720535786143525, 2.7877711354988826, 1.5074967845823197, 2.5428062168417425, 3.6656635052035282, 3.822880886229819, 2.35614063913287, 3.5399158247028906, 3.365749150172884, 3.8878939422390904, 2.7601196551112954, 2.01878197679254, 2.7797540995971515, 2.652222941943201, 2.765213824504499, 3.3527467500595236, 2.3662719801904943, 3.83941638094638, 2.972890714393764, 3.4667104836811014, 3.660240668473299, 2.9147782149394352, 2.9860694971531387, 3.371906606402354, 2.5409831012026034, 2.7822243316660007, 2.742987431833109, 2.9218041193177324, 3.346583359155561, 2.492565531635324], \"type\": \"scatter3d\"}, {\"color\": \"#00FFFF\", \"x\": [-50, 50, -50, 50], \"y\": [-50, 50, 50, -50], \"z\": [0, 0, 0, 0], \"type\": \"mesh3d\"}], \"name\": \"frame48\"}, {\"data\": [{\"line\": {\"color\": \"red\", \"width\": 5}, \"marker\": {\"color\": \"blue\", \"size\": 2}, \"text\": [\"RHip\"], \"x\": [0.8889656978739645, 1.79555], \"y\": [1.4298505523180136, 2.77577], \"z\": [16.027272098127114, 18.0374], \"type\": \"scatter3d\"}, {\"line\": {\"color\": \"red\", \"width\": 5}, \"marker\": {\"color\": \"blue\", \"size\": 2}, \"text\": [\"RKnee\"], \"x\": [-0.2438122088622231, 0.8889656978739645], \"y\": [0.4347914253850357, 1.4298505523180136], \"z\": [8.76057254725887, 16.027272098127114], \"type\": \"scatter3d\"}, {\"line\": {\"color\": \"red\", \"width\": 5}, \"marker\": {\"color\": \"blue\", \"size\": 2}, \"text\": [\"RAnkle\"], \"x\": [-5.528748964511358, -0.2438122088622231], \"y\": [2.7677640818438576, 0.4347914253850357], \"z\": [2.9284841359803995, 8.76057254725887], \"type\": \"scatter3d\"}, {\"line\": {\"color\": \"black\", \"width\": 5}, \"marker\": {\"color\": \"blue\", \"size\": 2}, \"text\": [\"LHip\"], \"x\": [3.404601924966202, 1.79555], \"y\": [3.3856382354436927, 2.77577], \"z\": [16.14545372669152, 18.0374], \"type\": \"scatter3d\"}, {\"line\": {\"color\": \"black\", \"width\": 5}, \"marker\": {\"color\": \"blue\", \"size\": 2}, \"text\": [\"LKnee\"], \"x\": [5.632244830841364, 3.404601924966202], \"y\": [2.112049454877893, 3.3856382354436927], \"z\": [8.979396698095393, 16.14545372669152], \"type\": \"scatter3d\"}, {\"line\": {\"color\": \"black\", \"width\": 5}, \"marker\": {\"color\": \"blue\", \"size\": 2}, \"text\": [\"LAnkle\"], \"x\": [4.005980848588689, 5.632244830841364], \"y\": [5.302077897846882, 2.112049454877893], \"z\": [1.687122484674184, 8.979396698095393], \"type\": \"scatter3d\"}, {\"line\": {\"color\": \"black\", \"width\": 5}, \"marker\": {\"color\": \"blue\", \"size\": 2}, \"text\": [\"Spine1\"], \"x\": [2.0941041722920235, 1.79555], \"y\": [2.1604367592490408, 2.77577], \"z\": [21.989459144117472, 18.0374], \"type\": \"scatter3d\"}, {\"line\": {\"color\": \"black\", \"width\": 5}, \"marker\": {\"color\": \"blue\", \"size\": 2}, \"text\": [\"Neck\"], \"x\": [2.438342295937885, 2.0941041722920235], \"y\": [1.623064641655335, 2.1604367592490408], \"z\": [25.728561213329233, 21.989459144117472], \"type\": \"scatter3d\"}, {\"line\": {\"color\": \"black\", \"width\": 5}, \"marker\": {\"color\": \"blue\", \"size\": 2}, \"text\": [\"Head\"], \"x\": [2.3430199452979856, 2.438342295937885], \"y\": [1.6800431378048462, 1.623064641655335], \"z\": [27.50480282242019, 25.728561213329233], \"type\": \"scatter3d\"}, {\"line\": {\"color\": \"black\", \"width\": 5}, \"marker\": {\"color\": \"blue\", \"size\": 2}, \"text\": [\"Site\"], \"x\": [2.1763530613382134, 2.3430199452979856], \"y\": [1.5712848166161024, 1.6800431378048462], \"z\": [29.27628978565737, 27.50480282242019], \"type\": \"scatter3d\"}, {\"line\": {\"color\": \"black\", \"width\": 5}, \"marker\": {\"color\": \"blue\", \"size\": 2}, \"text\": [\"LShoulder\"], \"x\": [4.895517958832865, 2.438342295937885], \"y\": [3.9512133834322922, 1.623064641655335], \"z\": [25.452226202791532, 25.728561213329233], \"type\": \"scatter3d\"}, {\"line\": {\"color\": \"black\", \"width\": 5}, \"marker\": {\"color\": \"blue\", \"size\": 2}, \"text\": [\"LElbow\"], \"x\": [7.2567591665626825, 4.895517958832865], \"y\": [3.098112934327222, 3.9512133834322922], \"z\": [21.24534940807953, 25.452226202791532], \"type\": \"scatter3d\"}, {\"line\": {\"color\": \"black\", \"width\": 5}, \"marker\": {\"color\": \"blue\", \"size\": 2}, \"text\": [\"LWrist\"], \"x\": [8.465070815030328, 7.2567591665626825], \"y\": [1.780189653541925, 3.098112934327222], \"z\": [21.691372019884717, 21.24534940807953], \"type\": \"scatter3d\"}, {\"line\": {\"color\": \"red\", \"width\": 5}, \"marker\": {\"color\": \"blue\", \"size\": 2}, \"text\": [\"RShoulder\"], \"x\": [-0.07531434348101618, 2.438342295937885], \"y\": [-0.17497456119209542, 1.623064641655335], \"z\": [25.207778561433944, 25.728561213329233], \"type\": \"scatter3d\"}, {\"line\": {\"color\": \"red\", \"width\": 5}, \"marker\": {\"color\": \"blue\", \"size\": 2}, \"text\": [\"RElbow\"], \"x\": [-0.6180275005548708, -0.07531434348101618], \"y\": [-1.659046204697709, -0.17497456119209542], \"z\": [17.578010247673774, 25.207778561433944], \"type\": \"scatter3d\"}, {\"line\": {\"color\": \"red\", \"width\": 5}, \"marker\": {\"color\": \"blue\", \"size\": 2}, \"text\": [\"RWrist\"], \"x\": [0.2785896079543869, -0.6180275005548708], \"y\": [-2.854630155593002, -1.659046204697709], \"z\": [16.54756100356221, 17.578010247673774], \"type\": \"scatter3d\"}, {\"line\": {\"color\": \"#1f77b4\", \"width\": 1}, \"marker\": {\"color\": \"#1f77b4\", \"size\": 1}, \"x\": [-7.68200201222643, -11.202351483965106, -10.955869104893946, -7.261455157517169, -6.696189981227148, -6.597702295821579, -6.51772886461975, -3.8476915953707365, -0.7970128046349325, -5.5020630048652315, -4.462829338330973, 2.1426985093789725, -6.550621684435969, -4.382364421867683, -6.238933645893352, -6.0372324143801315, -5.622770625880111, -4.622031270382943, -1.8315147477995466, -8.80699809751267, -5.336259744172091, -3.3386011500038735, -6.154514249840276, -2.3716164831946065, -3.7972808897935995, -4.576736217307565, -5.1162575489259865, -4.079441163068022, -2.1208858457289037, -5.667957809262714, -7.811198372064535, -2.302780558625111, -6.416882824203098, -1.427036396898762, -3.9840501846998935, -2.278256598067263, -5.53744891249996, -4.686226410672376, 0.30382441378906755, -3.7296668065514353, 1.1757518519108903, -2.152417914161796, -3.692818496237555, -3.851243149300469, -4.154591360438411, -2.774863366576164, -3.9003741680915605, -3.80073589914658], \"y\": [3.4053156803910536, 3.729440580134272, 7.115938837216567, 6.2383953833599834, 6.738902405987771, 1.6798788535843796, 0.426703045092959, -8.57887314276572, -5.457469816021779, -6.145413681234592, -2.651627769211558, -7.988855680680584, 1.322022686032784, 0.4111020926919453, 3.3084733072069357, 4.507646719655471, 1.2562719135064158, 2.5679035233151972, -4.250612202162369, -1.208029219654247, 7.660506207376087, 1.1225209147164903, -0.12399672775587334, 6.2154445047511295, 4.537339874920296, 2.2609880239650932, 3.2751112379121494, 3.359583721700272, -7.870824768406664, 1.2765968301708028, 7.0431575239128525, 7.153181259315232, 5.871462844333443, 9.124324108019174, 3.245368448314138, 2.977563710489315, 4.949095329845723, 0.7019325432311811, -6.883309472590983, -2.17003899226647, -1.6369064380268377, 0.013990722820162338, 0.3830550195437339, 1.73969847014791, 2.7794523056441234, -0.30968928788944405, 3.7836654219669974, 1.1092604814918277], \"z\": [1.865911632557168, 2.0831814398599002, 2.4502047462026466, 3.600422432940081, 3.3586116742422365, 2.8752883654471493, 3.1498232277243945, 4.465394927147864, 2.7671204675596304, 3.4168017828747113, 3.173826242416413, 3.3530783562129756, 2.08089440622238, 3.537429728401681, 1.885924112360784, 2.281288795428674, 3.0206222088432257, 3.2720535786143525, 2.7877711354988826, 1.5074967845823197, 2.5428062168417425, 3.6656635052035282, 3.822880886229819, 2.35614063913287, 3.5399158247028906, 3.365749150172884, 3.8878939422390904, 2.7601196551112954, 2.01878197679254, 2.7797540995971515, 2.652222941943201, 2.765213824504499, 3.3527467500595236, 2.3662719801904943, 3.83941638094638, 2.972890714393764, 3.4667104836811014, 3.660240668473299, 2.9147782149394352, 2.9860694971531387, 3.371906606402354, 2.5409831012026034, 2.7822243316660007, 2.742987431833109, 2.9218041193177324, 3.346583359155561, 2.492565531635324, 3.449923282122916], \"type\": \"scatter3d\"}, {\"color\": \"#00FFFF\", \"x\": [-50, 50, -50, 50], \"y\": [-50, 50, 50, -50], \"z\": [0, 0, 0, 0], \"type\": \"mesh3d\"}], \"name\": \"frame49\"}]);\n",
       "                        }).then(function(){\n",
       "                            Plotly.animate('9a2493b5-de72-4f60-922d-84fb11218150', null);\n",
       "                        }).then(function(){\n",
       "                            \n",
       "var gd = document.getElementById('9a2493b5-de72-4f60-922d-84fb11218150');\n",
       "var x = new MutationObserver(function (mutations, observer) {{\n",
       "        var display = window.getComputedStyle(gd).display;\n",
       "        if (!display || display === 'none') {{\n",
       "            console.log([gd, 'removed!']);\n",
       "            Plotly.purge(gd);\n",
       "            observer.disconnect();\n",
       "        }}\n",
       "}});\n",
       "\n",
       "// Listen for the removal of the full notebook cells\n",
       "var notebookContainer = gd.closest('#notebook-container');\n",
       "if (notebookContainer) {{\n",
       "    x.observe(notebookContainer, {childList: true});\n",
       "}}\n",
       "\n",
       "// Listen for the clearing of the current output cell\n",
       "var outputEl = gd.closest('.output');\n",
       "if (outputEl) {{\n",
       "    x.observe(outputEl, {childList: true});\n",
       "}}\n",
       "\n",
       "                        })\n",
       "                };\n",
       "                });\n",
       "            </script>\n",
       "        </div>"
      ]
     },
     "metadata": {},
     "output_type": "display_data"
    }
   ],
   "source": [
    "frames, layout = generate_frames_layout(pts_3d[::100], \n",
    "                                        skeleton, \n",
    "                                        human36m_kpts_name, \n",
    "                                        x_range = [xmin, xmax], \n",
    "                                        y_range = [ymin, ymax], \n",
    "                                        z_range = [-1, zmax])\n",
    "\n",
    "# frames, layout = generate_frames_layout(pts_3d[:5], \n",
    "#                                         skeleton, \n",
    "#                                         human36m_kpts_name, \n",
    "#                                         x_range = [-50, 50], \n",
    "#                                         y_range = [-50, 50], \n",
    "#                                         z_range = [-50, 50])\n",
    "\n",
    "fig = dict(data=get_line_3d_segs(pts_3d, 0, skeleton, human36m_kpts_name), layout=layout, frames=frames)\n",
    "plotly.offline.iplot(fig)"
   ]
  },
  {
   "cell_type": "code",
   "execution_count": null,
   "metadata": {},
   "outputs": [],
   "source": [
    "pts_3d.shape"
   ]
  }
 ],
 "metadata": {
  "kernelspec": {
   "display_name": "PyTorch",
   "language": "python",
   "name": "pytorch"
  },
  "language_info": {
   "codemirror_mode": {
    "name": "ipython",
    "version": 3
   },
   "file_extension": ".py",
   "mimetype": "text/x-python",
   "name": "python",
   "nbconvert_exporter": "python",
   "pygments_lexer": "ipython3",
   "version": "3.6.6"
  }
 },
 "nbformat": 4,
 "nbformat_minor": 2
}
