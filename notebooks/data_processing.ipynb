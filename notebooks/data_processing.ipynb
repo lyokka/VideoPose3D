{
 "cells": [
  {
   "cell_type": "code",
   "execution_count": 1,
   "metadata": {},
   "outputs": [],
   "source": [
    "from common.arguments import parse_args\n",
    "from common.camera import *\n",
    "from common.visualization import *\n",
    "from common.utils import *\n",
    "from common.generators import ChunkedGenerator, UnchunkedGenerator\n",
    "from common.h36m_dataset import Human36mDataset, preprocess_Human36m\n",
    "import matplotlib\n",
    "%matplotlib inline"
   ]
  },
  {
   "cell_type": "code",
   "execution_count": 2,
   "metadata": {},
   "outputs": [],
   "source": [
    "args = parse_args()\n",
    "args.subjects_unlabeled='S5,S6'"
   ]
  },
  {
   "cell_type": "code",
   "execution_count": 3,
   "metadata": {},
   "outputs": [],
   "source": [
    "dataset_path = \"./data/data_3d_h36m.npz\"\n",
    "dataset_path_2d = './data/data_2d_h36m_cpn_ft_h36m_dbb.npz'"
   ]
  },
  {
   "cell_type": "code",
   "execution_count": 4,
   "metadata": {},
   "outputs": [
    {
     "name": "stdout",
     "output_type": "stream",
     "text": [
      "Loading dataset...\n",
      "Preparing data...\n",
      "Loading 2D detections...\n"
     ]
    }
   ],
   "source": [
    "dataset, keypoints, kps_left, kps_right, joints_left, joints_right = preprocess_Human36m(dataset_path, dataset_path_2d)"
   ]
  },
  {
   "cell_type": "code",
   "execution_count": 5,
   "metadata": {},
   "outputs": [],
   "source": [
    "subjects_train = args.subjects_train.split(',')\n",
    "subjects_semi = [] if not args.subjects_unlabeled else args.subjects_unlabeled.split(',')\n",
    "subjects_test = args.subjects_test.split(',')"
   ]
  },
  {
   "cell_type": "code",
   "execution_count": 8,
   "metadata": {},
   "outputs": [
    {
     "data": {
      "text/plain": [
       "['S9', 'S11']"
      ]
     },
     "execution_count": 8,
     "metadata": {},
     "output_type": "execute_result"
    }
   ],
   "source": [
    "subjects_test"
   ]
  },
  {
   "cell_type": "code",
   "execution_count": 9,
   "metadata": {},
   "outputs": [],
   "source": [
    "action_filter = None if args.actions == '*' else args.actions.split(',')"
   ]
  },
  {
   "cell_type": "code",
   "execution_count": 7,
   "metadata": {},
   "outputs": [],
   "source": [
    "cameras_valid, poses_valid, poses_valid_2d = fetch(dataset, keypoints, subjects_test, args.stride, action_filter)"
   ]
  },
  {
   "cell_type": "code",
   "execution_count": 30,
   "metadata": {},
   "outputs": [],
   "source": [
    "cameras_semi, _, poses_semi_2d = fetch(dataset, keypoints, subjects_semi, args.stride, action_filter, parse_3d_poses=False)"
   ]
  },
  {
   "cell_type": "code",
   "execution_count": 8,
   "metadata": {},
   "outputs": [],
   "source": [
    "cameras_train, poses_train, poses_train_2d = fetch(dataset, keypoints, subjects_train, args.stride, action_filter, subset=args.subset)"
   ]
  },
  {
   "cell_type": "code",
   "execution_count": 9,
   "metadata": {},
   "outputs": [],
   "source": [
    "train_generator = ChunkedGenerator(args.batch_size//args.stride, \n",
    "                                   cameras_train, \n",
    "                                   poses_train, \n",
    "                                   poses_train_2d, \n",
    "                                   args.stride,\n",
    "                                   pad=13, \n",
    "                                   causal_shift=0, \n",
    "                                   shuffle=True, \n",
    "                                   augment=args.data_augmentation,\n",
    "                                   kps_left=kps_left, \n",
    "                                   kps_right=kps_right, \n",
    "                                   joints_left=joints_left, \n",
    "                                   joints_right=joints_right)"
   ]
  },
  {
   "cell_type": "code",
   "execution_count": 17,
   "metadata": {},
   "outputs": [],
   "source": [
    "train_generator_eval = UnchunkedGenerator(cameras_train, \n",
    "                                          poses_train, \n",
    "                                          poses_train_2d,\n",
    "                                          pad=13, \n",
    "                                          causal_shift=0, \n",
    "                                          augment=False)"
   ]
  },
  {
   "cell_type": "code",
   "execution_count": 32,
   "metadata": {},
   "outputs": [],
   "source": [
    "semi_generator = ChunkedGenerator(args.batch_size//args.stride, \n",
    "                                  cameras_semi, \n",
    "                                  None, \n",
    "                                  poses_semi_2d, \n",
    "                                  args.stride,\n",
    "                                  pad=27, \n",
    "                                  causal_shift=0, \n",
    "                                  shuffle=True,\n",
    "                                  random_seed=4321, \n",
    "                                  augment=args.data_augmentation,\n",
    "                                  kps_left=kps_left, \n",
    "                                  kps_right=kps_right, \n",
    "                                  joints_left=joints_left, \n",
    "                                  joints_right=joints_right,\n",
    "                                  endless=True)"
   ]
  },
  {
   "cell_type": "code",
   "execution_count": 22,
   "metadata": {},
   "outputs": [],
   "source": [
    "for a, batch_3d, batch_2d in train_generator.next_epoch():\n",
    "    break"
   ]
  },
  {
   "cell_type": "code",
   "execution_count": 24,
   "metadata": {},
   "outputs": [
    {
     "data": {
      "text/plain": [
       "(1024, 9)"
      ]
     },
     "execution_count": 24,
     "metadata": {},
     "output_type": "execute_result"
    }
   ],
   "source": [
    "a.shape"
   ]
  },
  {
   "cell_type": "code",
   "execution_count": 25,
   "metadata": {},
   "outputs": [
    {
     "data": {
      "text/plain": [
       "(1024, 1, 17, 3)"
      ]
     },
     "execution_count": 25,
     "metadata": {},
     "output_type": "execute_result"
    }
   ],
   "source": [
    "batch_3d.shape"
   ]
  },
  {
   "cell_type": "code",
   "execution_count": 26,
   "metadata": {},
   "outputs": [
    {
     "data": {
      "text/plain": [
       "(1024, 27, 17, 2)"
      ]
     },
     "execution_count": 26,
     "metadata": {},
     "output_type": "execute_result"
    }
   ],
   "source": [
    "batch_2d.shape"
   ]
  },
  {
   "cell_type": "code",
   "execution_count": null,
   "metadata": {},
   "outputs": [],
   "source": []
  }
 ],
 "metadata": {
  "kernelspec": {
   "display_name": "PyTorch",
   "language": "python",
   "name": "pytorch"
  },
  "language_info": {
   "codemirror_mode": {
    "name": "ipython",
    "version": 3
   },
   "file_extension": ".py",
   "mimetype": "text/x-python",
   "name": "python",
   "nbconvert_exporter": "python",
   "pygments_lexer": "ipython3",
   "version": "3.6.6"
  }
 },
 "nbformat": 4,
 "nbformat_minor": 2
}
