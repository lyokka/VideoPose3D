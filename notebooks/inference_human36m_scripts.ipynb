{
 "cells": [
  {
   "cell_type": "code",
   "execution_count": 1,
   "metadata": {},
   "outputs": [],
   "source": [
    "import sys\n",
    "sys.path.append(\"../\")"
   ]
  },
  {
   "cell_type": "code",
   "execution_count": 37,
   "metadata": {},
   "outputs": [],
   "source": [
    "import torch\n",
    "\n",
    "import torch.nn as nn\n",
    "import torch.nn.functional as F\n",
    "import torch.optim as optim\n",
    "import os\n",
    "import sys\n",
    "import errno\n",
    "\n",
    "from common.camera import *\n",
    "from common.model import *\n",
    "from common.loss import *\n",
    "from common.utils import *\n",
    "from common.visualization import *\n",
    "from common.generators import ChunkedGenerator, UnchunkedGenerator\n",
    "from time import time\n",
    "from common.utils import deterministic_random"
   ]
  },
  {
   "cell_type": "markdown",
   "metadata": {},
   "source": [
    "## Load and Preprocess Data"
   ]
  },
  {
   "cell_type": "code",
   "execution_count": 3,
   "metadata": {},
   "outputs": [],
   "source": [
    "dataset_path = \"../../data/data_3d_h36m.npz\"\n",
    "dataset_path_2d = '../../data/data_2d_h36m_cpn_ft_h36m_dbb.npz'"
   ]
  },
  {
   "cell_type": "markdown",
   "metadata": {},
   "source": [
    "### load and preprocessing 3d data"
   ]
  },
  {
   "cell_type": "code",
   "execution_count": 4,
   "metadata": {},
   "outputs": [],
   "source": [
    "from common.h36m_dataset import Human36mDataset\n",
    "dataset = Human36mDataset(dataset_path)\n",
    "\n",
    "for subject in dataset.subjects():\n",
    "    for action in dataset[subject].keys():\n",
    "        anim = dataset[subject][action]\n",
    "        \n",
    "        positions_3d = []\n",
    "        for cam in anim['cameras']:\n",
    "            pos_3d = world_to_camera(anim['positions'], R=cam['orientation'], t=cam['translation'])\n",
    "            pos_3d[:, 1:] -= pos_3d[:, :1] # Remove global offset, but keep trajectory in first position\n",
    "            positions_3d.append(pos_3d)\n",
    "        anim['positions_3d'] = positions_3d"
   ]
  },
  {
   "cell_type": "markdown",
   "metadata": {},
   "source": [
    "### load and preprocessing 2d data"
   ]
  },
  {
   "cell_type": "code",
   "execution_count": 5,
   "metadata": {},
   "outputs": [],
   "source": [
    "keypoints = np.load(dataset_path_2d, allow_pickle = True)\n",
    "keypoints_symmetry = keypoints['metadata'].item()['keypoints_symmetry']\n",
    "kps_left, kps_right = list(keypoints_symmetry[0]), list(keypoints_symmetry[1])\n",
    "joints_left, joints_right = list(dataset.skeleton().joints_left()), list(dataset.skeleton().joints_right())\n",
    "keypoints = keypoints['positions_2d'].item()\n",
    "\n",
    "for subject in dataset.subjects():\n",
    "    assert subject in keypoints, 'Subject {} is missing from the 2D detections dataset'.format(subject)\n",
    "    for action in dataset[subject].keys():\n",
    "        assert action in keypoints[subject], 'Action {} of subject {} is missing from the 2D detections dataset'.format(action, subject)\n",
    "        for cam_idx in range(len(keypoints[subject][action])):\n",
    "            \n",
    "            # We check for >= instead of == because some videos in H3.6M contain extra frames\n",
    "            mocap_length = dataset[subject][action]['positions_3d'][cam_idx].shape[0]\n",
    "            assert keypoints[subject][action][cam_idx].shape[0] >= mocap_length\n",
    "            \n",
    "            if keypoints[subject][action][cam_idx].shape[0] > mocap_length:\n",
    "                # Shorten sequence\n",
    "                keypoints[subject][action][cam_idx] = keypoints[subject][action][cam_idx][:mocap_length]\n",
    "\n",
    "        assert len(keypoints[subject][action]) == len(dataset[subject][action]['positions_3d'])\n",
    "        \n",
    "for subject in keypoints.keys():\n",
    "    for action in keypoints[subject]:\n",
    "        for cam_idx, kps in enumerate(keypoints[subject][action]):\n",
    "            # Normalize camera frame\n",
    "            cam = dataset.cameras()[subject][cam_idx]\n",
    "            kps[..., :2] = normalize_screen_coordinates(kps[..., :2], w=cam['res_w'], h=cam['res_h'])\n",
    "            keypoints[subject][action][cam_idx] = kps"
   ]
  },
  {
   "cell_type": "markdown",
   "metadata": {},
   "source": [
    "### generate subsets"
   ]
  },
  {
   "cell_type": "code",
   "execution_count": 6,
   "metadata": {},
   "outputs": [],
   "source": [
    "subjects_train = ['S1', 'S5', 'S6', 'S7', 'S8']\n",
    "subjects_semi = ['S7', 'S8']\n",
    "subjects_test = ['S9', 'S11']"
   ]
  },
  {
   "cell_type": "code",
   "execution_count": 7,
   "metadata": {},
   "outputs": [],
   "source": [
    "cameras_valid, poses_valid, poses_valid_2d = fetch(dataset = dataset, \n",
    "                                                   keypoints = keypoints, \n",
    "                                                   subjects = subjects_test, \n",
    "                                                   stride = 1)"
   ]
  },
  {
   "cell_type": "code",
   "execution_count": 8,
   "metadata": {},
   "outputs": [],
   "source": [
    "model_pos = TemporalModel(poses_valid_2d[0].shape[-2], \n",
    "                          poses_valid_2d[0].shape[-1], \n",
    "                          poses_valid[0].shape[-2],\n",
    "                          filter_widths = [3, 3, 3, 3, 3],\n",
    "                          causal =False,\n",
    "                          dropout = 0.25,\n",
    "                          channels = 1024,\n",
    "                          dense = False)"
   ]
  },
  {
   "cell_type": "code",
   "execution_count": 9,
   "metadata": {},
   "outputs": [
    {
     "name": "stdout",
     "output_type": "stream",
     "text": [
      "INFO: Receptive field: 243 frames\n"
     ]
    }
   ],
   "source": [
    "receptive_field = model_pos.receptive_field()\n",
    "print('INFO: Receptive field: {} frames'.format(receptive_field))\n",
    "pad = (receptive_field - 1) // 2 # Padding on each side"
   ]
  },
  {
   "cell_type": "markdown",
   "metadata": {},
   "source": [
    "load model on gpu"
   ]
  },
  {
   "cell_type": "code",
   "execution_count": 10,
   "metadata": {},
   "outputs": [],
   "source": [
    "if torch.cuda.is_available():\n",
    "    model_pos = model_pos.cuda()"
   ]
  },
  {
   "cell_type": "markdown",
   "metadata": {},
   "source": [
    "resume from pre-trained model"
   ]
  },
  {
   "cell_type": "code",
   "execution_count": 11,
   "metadata": {},
   "outputs": [
    {
     "name": "stdout",
     "output_type": "stream",
     "text": [
      "This model was trained for 80 epochs\n"
     ]
    },
    {
     "data": {
      "text/plain": [
       "IncompatibleKeys(missing_keys=[], unexpected_keys=[])"
      ]
     },
     "execution_count": 11,
     "metadata": {},
     "output_type": "execute_result"
    }
   ],
   "source": [
    "checkpoint = torch.load(\"../../checkpoint/pretrained_h36m_cpn.bin\", map_location=lambda storage, loc: storage)\n",
    "print('This model was trained for {} epochs'.format(checkpoint['epoch']))\n",
    "model_pos.load_state_dict(checkpoint['model_pos'])"
   ]
  },
  {
   "cell_type": "code",
   "execution_count": 48,
   "metadata": {},
   "outputs": [],
   "source": [
    "input_keypoints = keypoints[\"S9\"][\"Walking\"][0]\n",
    "gt = dataset[\"S9\"][\"Walking\"][\"positions_3d\"][0].copy()"
   ]
  },
  {
   "cell_type": "code",
   "execution_count": 49,
   "metadata": {},
   "outputs": [],
   "source": [
    "test_generator = UnchunkedGenerator(None, \n",
    "                                    None, \n",
    "                                    [input_keypoints],\n",
    "                                    pad=pad, \n",
    "                                    causal_shift=0, \n",
    "                                    augment=False)"
   ]
  },
  {
   "cell_type": "code",
   "execution_count": 50,
   "metadata": {},
   "outputs": [],
   "source": [
    "with torch.no_grad():\n",
    "    model_pos.eval()\n",
    "    N = 0\n",
    "    for _, batch, batch_2d in test_generator.next_epoch():\n",
    "        inputs_2d = torch.from_numpy(batch_2d.astype('float32'))\n",
    "        if torch.cuda.is_available():\n",
    "            inputs_2d = inputs_2d.cuda()\n",
    "\n",
    "        # Positional model\n",
    "        predicted_3d_pos = model_pos(inputs_2d)\n",
    "        \n",
    "        prediction = predicted_3d_pos.squeeze(0).cpu().numpy()"
   ]
  },
  {
   "cell_type": "markdown",
   "metadata": {},
   "source": [
    "post process output"
   ]
  },
  {
   "cell_type": "code",
   "execution_count": 51,
   "metadata": {},
   "outputs": [],
   "source": [
    "trajectory = gt[:, :1]\n",
    "gt[:, 1:] += trajectory\n",
    "prediction += trajectory"
   ]
  },
  {
   "cell_type": "markdown",
   "metadata": {},
   "source": [
    "get camera"
   ]
  },
  {
   "cell_type": "code",
   "execution_count": 58,
   "metadata": {},
   "outputs": [],
   "source": [
    "cam = dataset.cameras()[\"S9\"][0]"
   ]
  },
  {
   "cell_type": "code",
   "execution_count": 53,
   "metadata": {},
   "outputs": [],
   "source": [
    "prediction = camera_to_world(prediction, R=cam['orientation'], t=cam['translation'])\n",
    "gt = camera_to_world(gt, R=cam['orientation'], t=cam['translation'])"
   ]
  },
  {
   "cell_type": "code",
   "execution_count": 54,
   "metadata": {},
   "outputs": [
    {
     "data": {
      "text/html": [
       "        <script type=\"text/javascript\">\n",
       "        window.PlotlyConfig = {MathJaxConfig: 'local'};\n",
       "        if (window.MathJax) {MathJax.Hub.Config({SVG: {font: \"STIX-Web\"}});}\n",
       "        if (typeof require !== 'undefined') {\n",
       "        require.undef(\"plotly\");\n",
       "        requirejs.config({\n",
       "            paths: {\n",
       "                'plotly': ['https://cdn.plot.ly/plotly-latest.min']\n",
       "            }\n",
       "        });\n",
       "        require(['plotly'], function(Plotly) {\n",
       "            window._Plotly = Plotly;\n",
       "        });\n",
       "        }\n",
       "        </script>\n",
       "        "
      ]
     },
     "metadata": {},
     "output_type": "display_data"
    }
   ],
   "source": [
    "import plotly\n",
    "plotly.offline.init_notebook_mode(connected=True)"
   ]
  },
  {
   "cell_type": "markdown",
   "metadata": {},
   "source": [
    "visualizaion"
   ]
  },
  {
   "cell_type": "code",
   "execution_count": 55,
   "metadata": {},
   "outputs": [],
   "source": [
    "human36m_kpts_name = ['Pelvis', 'RHip', 'RKnee', 'RAnkle','LHip','LKnee',\n",
    "                      'LAnkle','Spine1','Neck', 'Head','Site','LShoulder',\n",
    "                      'LElbow','LWrist','RShoulder', 'RElbow','RWrist']"
   ]
  },
  {
   "cell_type": "markdown",
   "metadata": {},
   "source": [
    "## visualize ground truth"
   ]
  },
  {
   "cell_type": "code",
   "execution_count": 56,
   "metadata": {},
   "outputs": [
    {
     "data": {
      "application/vnd.plotly.v1+json": {
       "config": {
        "linkText": "Export to plot.ly",
        "plotlyServerURL": "https://plot.ly",
        "responsive": true,
        "showLink": false
       },
       "data": [
        {
         "line": {
          "color": "red",
          "width": 5
         },
         "marker": {
          "color": "blue",
          "size": 2
         },
         "text": [
          "RHip"
         ],
         "type": "scatter3d",
         "uid": "7d6c7bf9-66bb-4460-8454-8fdc72c165f5",
         "x": [
          -0.18640506267547607,
          -0.0631488561630249
         ],
         "y": [
          0.030482769012451172,
          0.027873992919921875
         ],
         "z": [
          1.07355535030365,
          1.0595725774765015
         ]
        },
        {
         "line": {
          "color": "red",
          "width": 5
         },
         "marker": {
          "color": "blue",
          "size": 2
         },
         "text": [
          "RKnee"
         ],
         "type": "scatter3d",
         "uid": "d4e4a4e4-bff7-44ae-be8a-49e9daaa2870",
         "x": [
          -0.20700037479400635,
          -0.18640506267547607
         ],
         "y": [
          0.05394792556762695,
          0.030482769012451172
         ],
         "z": [
          0.6023958921432495,
          1.07355535030365
         ]
        },
        {
         "line": {
          "color": "red",
          "width": 5
         },
         "marker": {
          "color": "blue",
          "size": 2
         },
         "text": [
          "RAnkle"
         ],
         "type": "scatter3d",
         "uid": "3c1184a5-5fdf-4e55-986a-1504a88befb4",
         "x": [
          -0.22844421863555908,
          -0.20700037479400635
         ],
         "y": [
          0.13534879684448242,
          0.05394792556762695
         ],
         "z": [
          0.1413935422897339,
          0.6023958921432495
         ]
        },
        {
         "line": {
          "color": "black",
          "width": 5
         },
         "marker": {
          "color": "blue",
          "size": 2
         },
         "text": [
          "LHip"
         ],
         "type": "scatter3d",
         "uid": "1c695494-0222-4d12-97b8-0b90686ca93a",
         "x": [
          0.06010794639587402,
          -0.0631488561630249
         ],
         "y": [
          0.025265216827392578,
          0.027873992919921875
         ],
         "z": [
          1.0455893278121948,
          1.0595725774765015
         ]
        },
        {
         "line": {
          "color": "black",
          "width": 5
         },
         "marker": {
          "color": "blue",
          "size": 2
         },
         "text": [
          "LKnee"
         ],
         "type": "scatter3d",
         "uid": "367a253b-06d4-4b38-9b39-68740e1c9d98",
         "x": [
          0.09405386447906494,
          0.06010794639587402
         ],
         "y": [
          0.039391517639160156,
          0.025265216827392578
         ],
         "z": [
          0.5748289823532104,
          1.0455893278121948
         ]
        },
        {
         "line": {
          "color": "black",
          "width": 5
         },
         "marker": {
          "color": "blue",
          "size": 2
         },
         "text": [
          "LAnkle"
         ],
         "type": "scatter3d",
         "uid": "47976f51-5316-4f7d-9611-43ee7877e165",
         "x": [
          0.1280508041381836,
          0.09405386447906494
         ],
         "y": [
          0.1313467025756836,
          0.039391517639160156
         ],
         "z": [
          0.11657512187957764,
          0.5748289823532104
         ]
        },
        {
         "line": {
          "color": "black",
          "width": 5
         },
         "marker": {
          "color": "blue",
          "size": 2
         },
         "text": [
          "Spine1"
         ],
         "type": "scatter3d",
         "uid": "227fdf9d-415f-4719-b87f-568d0ce62f27",
         "x": [
          -0.06343686580657959,
          -0.0631488561630249
         ],
         "y": [
          0.021504878997802734,
          0.027873992919921875
         ],
         "z": [
          1.3157809972763062,
          1.0595725774765015
         ]
        },
        {
         "line": {
          "color": "black",
          "width": 5
         },
         "marker": {
          "color": "blue",
          "size": 2
         },
         "text": [
          "Neck"
         ],
         "type": "scatter3d",
         "uid": "55d3a3ef-139c-4d81-91e3-da27dfcb1e4b",
         "x": [
          -0.0612339973449707,
          -0.06343686580657959
         ],
         "y": [
          0.03281068801879883,
          0.021504878997802734
         ],
         "z": [
          1.5658715963363647,
          1.3157809972763062
         ]
        },
        {
         "line": {
          "color": "black",
          "width": 5
         },
         "marker": {
          "color": "blue",
          "size": 2
         },
         "text": [
          "Head"
         ],
         "type": "scatter3d",
         "uid": "3ed0a663-c766-4f91-b34c-6533d116d493",
         "x": [
          -0.06429493427276611,
          -0.0612339973449707
         ],
         "y": [
          -0.014664173126220703,
          0.03281068801879883
         ],
         "z": [
          1.6766408681869507,
          1.5658715963363647
         ]
        },
        {
         "line": {
          "color": "black",
          "width": 5
         },
         "marker": {
          "color": "blue",
          "size": 2
         },
         "text": [
          "Site"
         ],
         "type": "scatter3d",
         "uid": "bfc85a72-3811-4b3f-9f45-cc59b57488ca",
         "x": [
          -0.06599664688110352,
          -0.06429493427276611
         ],
         "y": [
          0.032628536224365234,
          -0.014664173126220703
         ],
         "z": [
          1.7814496755599976,
          1.6766408681869507
         ]
        },
        {
         "line": {
          "color": "black",
          "width": 5
         },
         "marker": {
          "color": "blue",
          "size": 2
         },
         "text": [
          "LShoulder"
         ],
         "type": "scatter3d",
         "uid": "a72ee883-c697-49e9-8398-7044a12fbe0b",
         "x": [
          0.11827433109283447,
          -0.0612339973449707
         ],
         "y": [
          0.06852579116821289,
          0.03281068801879883
         ],
         "z": [
          1.5560115575790405,
          1.5658715963363647
         ]
        },
        {
         "line": {
          "color": "black",
          "width": 5
         },
         "marker": {
          "color": "blue",
          "size": 2
         },
         "text": [
          "LElbow"
         ],
         "type": "scatter3d",
         "uid": "66aef9d5-aac7-410e-8066-1d241c405bef",
         "x": [
          0.4084223508834839,
          0.11827433109283447
         ],
         "y": [
          0.0897517204284668,
          0.06852579116821289
         ],
         "z": [
          1.499712347984314,
          1.5560115575790405
         ]
        },
        {
         "line": {
          "color": "black",
          "width": 5
         },
         "marker": {
          "color": "blue",
          "size": 2
         },
         "text": [
          "LWrist"
         ],
         "type": "scatter3d",
         "uid": "9be60832-829c-460a-b685-95e9e1335c3d",
         "x": [
          0.6508501768112183,
          0.4084223508834839
         ],
         "y": [
          0.034529685974121094,
          0.0897517204284668
         ],
         "z": [
          1.4860109090805054,
          1.499712347984314
         ]
        },
        {
         "line": {
          "color": "red",
          "width": 5
         },
         "marker": {
          "color": "blue",
          "size": 2
         },
         "text": [
          "RShoulder"
         ],
         "type": "scatter3d",
         "uid": "f3fe41a4-58b4-4581-8d38-aa53fc9770c7",
         "x": [
          -0.24310028553009033,
          -0.0612339973449707
         ],
         "y": [
          0.04822492599487305,
          0.03281068801879883
         ],
         "z": [
          1.549049735069275,
          1.5658715963363647
         ]
        },
        {
         "line": {
          "color": "red",
          "width": 5
         },
         "marker": {
          "color": "blue",
          "size": 2
         },
         "text": [
          "RElbow"
         ],
         "type": "scatter3d",
         "uid": "31c2a009-0b5d-4744-9f94-ebebc601ae67",
         "x": [
          -0.5292855501174927,
          -0.24310028553009033
         ],
         "y": [
          0.07156229019165039,
          0.04822492599487305
         ],
         "z": [
          1.475840449333191,
          1.549049735069275
         ]
        },
        {
         "line": {
          "color": "red",
          "width": 5
         },
         "marker": {
          "color": "blue",
          "size": 2
         },
         "text": [
          "RWrist"
         ],
         "type": "scatter3d",
         "uid": "aee06256-acb4-427f-99fe-66daceab2723",
         "x": [
          -0.7726694345474243,
          -0.5292855501174927
         ],
         "y": [
          0.029078006744384766,
          0.07156229019165039
         ],
         "z": [
          1.4447325468063354,
          1.475840449333191
         ]
        },
        {
         "line": {
          "color": "#1f77b4",
          "width": 1
         },
         "marker": {
          "color": "#1f77b4",
          "size": 1
         },
         "type": "scatter3d",
         "uid": "171f34e7-fafa-440a-84b1-d3bc4b95fddf",
         "x": [],
         "y": [],
         "z": []
        }
       ],
       "frames": [
        {
         "data": [
          {
           "line": {
            "color": "red",
            "width": 5
           },
           "marker": {
            "color": "blue",
            "size": 2
           },
           "text": [
            "RHip"
           ],
           "type": "scatter3d",
           "x": [
            -0.18640506267547607,
            -0.0631488561630249
           ],
           "y": [
            0.030482769012451172,
            0.027873992919921875
           ],
           "z": [
            1.07355535030365,
            1.0595725774765015
           ]
          },
          {
           "line": {
            "color": "red",
            "width": 5
           },
           "marker": {
            "color": "blue",
            "size": 2
           },
           "text": [
            "RKnee"
           ],
           "type": "scatter3d",
           "x": [
            -0.20700037479400635,
            -0.18640506267547607
           ],
           "y": [
            0.05394792556762695,
            0.030482769012451172
           ],
           "z": [
            0.6023958921432495,
            1.07355535030365
           ]
          },
          {
           "line": {
            "color": "red",
            "width": 5
           },
           "marker": {
            "color": "blue",
            "size": 2
           },
           "text": [
            "RAnkle"
           ],
           "type": "scatter3d",
           "x": [
            -0.22844421863555908,
            -0.20700037479400635
           ],
           "y": [
            0.13534879684448242,
            0.05394792556762695
           ],
           "z": [
            0.1413935422897339,
            0.6023958921432495
           ]
          },
          {
           "line": {
            "color": "black",
            "width": 5
           },
           "marker": {
            "color": "blue",
            "size": 2
           },
           "text": [
            "LHip"
           ],
           "type": "scatter3d",
           "x": [
            0.06010794639587402,
            -0.0631488561630249
           ],
           "y": [
            0.025265216827392578,
            0.027873992919921875
           ],
           "z": [
            1.0455893278121948,
            1.0595725774765015
           ]
          },
          {
           "line": {
            "color": "black",
            "width": 5
           },
           "marker": {
            "color": "blue",
            "size": 2
           },
           "text": [
            "LKnee"
           ],
           "type": "scatter3d",
           "x": [
            0.09405386447906494,
            0.06010794639587402
           ],
           "y": [
            0.039391517639160156,
            0.025265216827392578
           ],
           "z": [
            0.5748289823532104,
            1.0455893278121948
           ]
          },
          {
           "line": {
            "color": "black",
            "width": 5
           },
           "marker": {
            "color": "blue",
            "size": 2
           },
           "text": [
            "LAnkle"
           ],
           "type": "scatter3d",
           "x": [
            0.1280508041381836,
            0.09405386447906494
           ],
           "y": [
            0.1313467025756836,
            0.039391517639160156
           ],
           "z": [
            0.11657512187957764,
            0.5748289823532104
           ]
          },
          {
           "line": {
            "color": "black",
            "width": 5
           },
           "marker": {
            "color": "blue",
            "size": 2
           },
           "text": [
            "Spine1"
           ],
           "type": "scatter3d",
           "x": [
            -0.06343686580657959,
            -0.0631488561630249
           ],
           "y": [
            0.021504878997802734,
            0.027873992919921875
           ],
           "z": [
            1.3157809972763062,
            1.0595725774765015
           ]
          },
          {
           "line": {
            "color": "black",
            "width": 5
           },
           "marker": {
            "color": "blue",
            "size": 2
           },
           "text": [
            "Neck"
           ],
           "type": "scatter3d",
           "x": [
            -0.0612339973449707,
            -0.06343686580657959
           ],
           "y": [
            0.03281068801879883,
            0.021504878997802734
           ],
           "z": [
            1.5658715963363647,
            1.3157809972763062
           ]
          },
          {
           "line": {
            "color": "black",
            "width": 5
           },
           "marker": {
            "color": "blue",
            "size": 2
           },
           "text": [
            "Head"
           ],
           "type": "scatter3d",
           "x": [
            -0.06429493427276611,
            -0.0612339973449707
           ],
           "y": [
            -0.014664173126220703,
            0.03281068801879883
           ],
           "z": [
            1.6766408681869507,
            1.5658715963363647
           ]
          },
          {
           "line": {
            "color": "black",
            "width": 5
           },
           "marker": {
            "color": "blue",
            "size": 2
           },
           "text": [
            "Site"
           ],
           "type": "scatter3d",
           "x": [
            -0.06599664688110352,
            -0.06429493427276611
           ],
           "y": [
            0.032628536224365234,
            -0.014664173126220703
           ],
           "z": [
            1.7814496755599976,
            1.6766408681869507
           ]
          },
          {
           "line": {
            "color": "black",
            "width": 5
           },
           "marker": {
            "color": "blue",
            "size": 2
           },
           "text": [
            "LShoulder"
           ],
           "type": "scatter3d",
           "x": [
            0.11827433109283447,
            -0.0612339973449707
           ],
           "y": [
            0.06852579116821289,
            0.03281068801879883
           ],
           "z": [
            1.5560115575790405,
            1.5658715963363647
           ]
          },
          {
           "line": {
            "color": "black",
            "width": 5
           },
           "marker": {
            "color": "blue",
            "size": 2
           },
           "text": [
            "LElbow"
           ],
           "type": "scatter3d",
           "x": [
            0.4084223508834839,
            0.11827433109283447
           ],
           "y": [
            0.0897517204284668,
            0.06852579116821289
           ],
           "z": [
            1.499712347984314,
            1.5560115575790405
           ]
          },
          {
           "line": {
            "color": "black",
            "width": 5
           },
           "marker": {
            "color": "blue",
            "size": 2
           },
           "text": [
            "LWrist"
           ],
           "type": "scatter3d",
           "x": [
            0.6508501768112183,
            0.4084223508834839
           ],
           "y": [
            0.034529685974121094,
            0.0897517204284668
           ],
           "z": [
            1.4860109090805054,
            1.499712347984314
           ]
          },
          {
           "line": {
            "color": "red",
            "width": 5
           },
           "marker": {
            "color": "blue",
            "size": 2
           },
           "text": [
            "RShoulder"
           ],
           "type": "scatter3d",
           "x": [
            -0.24310028553009033,
            -0.0612339973449707
           ],
           "y": [
            0.04822492599487305,
            0.03281068801879883
           ],
           "z": [
            1.549049735069275,
            1.5658715963363647
           ]
          },
          {
           "line": {
            "color": "red",
            "width": 5
           },
           "marker": {
            "color": "blue",
            "size": 2
           },
           "text": [
            "RElbow"
           ],
           "type": "scatter3d",
           "x": [
            -0.5292855501174927,
            -0.24310028553009033
           ],
           "y": [
            0.07156229019165039,
            0.04822492599487305
           ],
           "z": [
            1.475840449333191,
            1.549049735069275
           ]
          },
          {
           "line": {
            "color": "red",
            "width": 5
           },
           "marker": {
            "color": "blue",
            "size": 2
           },
           "text": [
            "RWrist"
           ],
           "type": "scatter3d",
           "x": [
            -0.7726694345474243,
            -0.5292855501174927
           ],
           "y": [
            0.029078006744384766,
            0.07156229019165039
           ],
           "z": [
            1.4447325468063354,
            1.475840449333191
           ]
          },
          {
           "line": {
            "color": "#1f77b4",
            "width": 1
           },
           "marker": {
            "color": "#1f77b4",
            "size": 1
           },
           "type": "scatter3d",
           "x": [],
           "y": [],
           "z": []
          }
         ],
         "name": "frame1"
        },
        {
         "data": [
          {
           "line": {
            "color": "red",
            "width": 5
           },
           "marker": {
            "color": "blue",
            "size": 2
           },
           "text": [
            "RHip"
           ],
           "type": "scatter3d",
           "x": [
            -0.35086190700531006,
            -0.23460090160369873
           ],
           "y": [
            -0.30745363235473633,
            -0.35009336471557617
           ],
           "z": [
            1.0411227941513062,
            1.0333908796310425
           ]
          },
          {
           "line": {
            "color": "red",
            "width": 5
           },
           "marker": {
            "color": "blue",
            "size": 2
           },
           "text": [
            "RKnee"
           ],
           "type": "scatter3d",
           "x": [
            -0.3418229818344116,
            -0.35086190700531006
           ],
           "y": [
            -0.25860071182250977,
            -0.30745363235473633
           ],
           "z": [
            0.571550726890564,
            1.0411227941513062
           ]
          },
          {
           "line": {
            "color": "red",
            "width": 5
           },
           "marker": {
            "color": "blue",
            "size": 2
           },
           "text": [
            "RAnkle"
           ],
           "type": "scatter3d",
           "x": [
            -0.2628523111343384,
            -0.3418229818344116
           ],
           "y": [
            0.06671142578125,
            -0.25860071182250977
           ],
           "z": [
            0.24361121654510498,
            0.571550726890564
           ]
          },
          {
           "line": {
            "color": "black",
            "width": 5
           },
           "marker": {
            "color": "blue",
            "size": 2
           },
           "text": [
            "LHip"
           ],
           "type": "scatter3d",
           "x": [
            -0.1183398962020874,
            -0.23460090160369873
           ],
           "y": [
            -0.3927335739135742,
            -0.35009336471557617
           ],
           "z": [
            1.025659441947937,
            1.0333908796310425
           ]
          },
          {
           "line": {
            "color": "black",
            "width": 5
           },
           "marker": {
            "color": "blue",
            "size": 2
           },
           "text": [
            "LKnee"
           ],
           "type": "scatter3d",
           "x": [
            -0.15986859798431396,
            -0.1183398962020874
           ],
           "y": [
            -0.4929475784301758,
            -0.3927335739135742
           ],
           "z": [
            0.5660942792892456,
            1.025659441947937
           ]
          },
          {
           "line": {
            "color": "black",
            "width": 5
           },
           "marker": {
            "color": "blue",
            "size": 2
           },
           "text": [
            "LAnkle"
           ],
           "type": "scatter3d",
           "x": [
            -0.18972814083099365,
            -0.15986859798431396
           ],
           "y": [
            -0.49761247634887695,
            -0.4929475784301758
           ],
           "z": [
            0.09844624996185303,
            0.5660942792892456
           ]
          },
          {
           "line": {
            "color": "black",
            "width": 5
           },
           "marker": {
            "color": "blue",
            "size": 2
           },
           "text": [
            "Spine1"
           ],
           "type": "scatter3d",
           "x": [
            -0.24290478229522705,
            -0.23460090160369873
           ],
           "y": [
            -0.35722875595092773,
            -0.35009336471557617
           ],
           "z": [
            1.2894452810287476,
            1.0333908796310425
           ]
          },
          {
           "line": {
            "color": "black",
            "width": 5
           },
           "marker": {
            "color": "blue",
            "size": 2
           },
           "text": [
            "Neck"
           ],
           "type": "scatter3d",
           "x": [
            -0.24972736835479736,
            -0.24290478229522705
           ],
           "y": [
            -0.4008646011352539,
            -0.35722875595092773
           ],
           "z": [
            1.535875678062439,
            1.2894452810287476
           ]
          },
          {
           "line": {
            "color": "black",
            "width": 5
           },
           "marker": {
            "color": "blue",
            "size": 2
           },
           "text": [
            "Head"
           ],
           "type": "scatter3d",
           "x": [
            -0.2611180543899536,
            -0.24972736835479736
           ],
           "y": [
            -0.48743295669555664,
            -0.4008646011352539
           ],
           "z": [
            1.6189974546432495,
            1.535875678062439
           ]
          },
          {
           "line": {
            "color": "black",
            "width": 5
           },
           "marker": {
            "color": "blue",
            "size": 2
           },
           "text": [
            "Site"
           ],
           "type": "scatter3d",
           "x": [
            -0.26652801036834717,
            -0.2611180543899536
           ],
           "y": [
            -0.49300241470336914,
            -0.48743295669555664
           ],
           "z": [
            1.7337321043014526,
            1.6189974546432495
           ]
          },
          {
           "line": {
            "color": "black",
            "width": 5
           },
           "marker": {
            "color": "blue",
            "size": 2
           },
           "text": [
            "LShoulder"
           ],
           "type": "scatter3d",
           "x": [
            -0.08121967315673828,
            -0.24972736835479736
           ],
           "y": [
            -0.40549135208129883,
            -0.4008646011352539
           ],
           "z": [
            1.4639047384262085,
            1.535875678062439
           ]
          },
          {
           "line": {
            "color": "black",
            "width": 5
           },
           "marker": {
            "color": "blue",
            "size": 2
           },
           "text": [
            "LElbow"
           ],
           "type": "scatter3d",
           "x": [
            0.02962470054626465,
            -0.08121967315673828
           ],
           "y": [
            -0.3710908889770508,
            -0.40549135208129883
           ],
           "z": [
            1.1912587881088257,
            1.4639047384262085
           ]
          },
          {
           "line": {
            "color": "black",
            "width": 5
           },
           "marker": {
            "color": "blue",
            "size": 2
           },
           "text": [
            "LWrist"
           ],
           "type": "scatter3d",
           "x": [
            0.013332128524780273,
            0.02962470054626465
           ],
           "y": [
            -0.3987894058227539,
            -0.3710908889770508
           ],
           "z": [
            0.9443248510360718,
            1.1912587881088257
           ]
          },
          {
           "line": {
            "color": "red",
            "width": 5
           },
           "marker": {
            "color": "blue",
            "size": 2
           },
           "text": [
            "RShoulder"
           ],
           "type": "scatter3d",
           "x": [
            -0.4033759832382202,
            -0.24972736835479736
           ],
           "y": [
            -0.32838916778564453,
            -0.4008646011352539
           ],
           "z": [
            1.4670614004135132,
            1.535875678062439
           ]
          },
          {
           "line": {
            "color": "red",
            "width": 5
           },
           "marker": {
            "color": "blue",
            "size": 2
           },
           "text": [
            "RElbow"
           ],
           "type": "scatter3d",
           "x": [
            -0.48690545558929443,
            -0.4033759832382202
           ],
           "y": [
            -0.2677950859069824,
            -0.32838916778564453
           ],
           "z": [
            1.1892894506454468,
            1.4670614004135132
           ]
          },
          {
           "line": {
            "color": "red",
            "width": 5
           },
           "marker": {
            "color": "blue",
            "size": 2
           },
           "text": [
            "RWrist"
           ],
           "type": "scatter3d",
           "x": [
            -0.5227330923080444,
            -0.48690545558929443
           ],
           "y": [
            -0.3243904113769531,
            -0.2677950859069824
           ],
           "z": [
            0.94945228099823,
            1.1892894506454468
           ]
          },
          {
           "line": {
            "color": "#1f77b4",
            "width": 1
           },
           "marker": {
            "color": "#1f77b4",
            "size": 1
           },
           "type": "scatter3d",
           "x": [
            -0.0631488561630249
           ],
           "y": [
            0.027873992919921875
           ],
           "z": [
            1.0595725774765015
           ]
          }
         ],
         "name": "frame2"
        },
        {
         "data": [
          {
           "line": {
            "color": "red",
            "width": 5
           },
           "marker": {
            "color": "blue",
            "size": 2
           },
           "text": [
            "RHip"
           ],
           "type": "scatter3d",
           "x": [
            0.059352874755859375,
            0.031986117362976074
           ],
           "y": [
            -1.5571231842041016,
            -1.438657283782959
           ],
           "z": [
            1.0688408613204956,
            1.04411780834198
           ]
          },
          {
           "line": {
            "color": "red",
            "width": 5
           },
           "marker": {
            "color": "blue",
            "size": 2
           },
           "text": [
            "RKnee"
           ],
           "type": "scatter3d",
           "x": [
            0.17554152011871338,
            0.059352874755859375
           ],
           "y": [
            -1.5481181144714355,
            -1.5571231842041016
           ],
           "z": [
            0.6112536191940308,
            1.0688408613204956
           ]
          },
          {
           "line": {
            "color": "red",
            "width": 5
           },
           "marker": {
            "color": "blue",
            "size": 2
           },
           "text": [
            "RAnkle"
           ],
           "type": "scatter3d",
           "x": [
            0.10740506649017334,
            0.17554152011871338
           ],
           "y": [
            -1.6233153343200684,
            -1.5481181144714355
           ],
           "z": [
            0.15374791622161865,
            0.6112536191940308
           ]
          },
          {
           "line": {
            "color": "black",
            "width": 5
           },
           "marker": {
            "color": "blue",
            "size": 2
           },
           "text": [
            "LHip"
           ],
           "type": "scatter3d",
           "x": [
            0.004619598388671875,
            0.031986117362976074
           ],
           "y": [
            -1.3201904296875,
            -1.438657283782959
           ],
           "z": [
            1.0193957090377808,
            1.04411780834198
           ]
          },
          {
           "line": {
            "color": "black",
            "width": 5
           },
           "marker": {
            "color": "blue",
            "size": 2
           },
           "text": [
            "LKnee"
           ],
           "type": "scatter3d",
           "x": [
            -0.015812993049621582,
            0.004619598388671875
           ],
           "y": [
            -1.3622560501098633,
            -1.3201904296875
           ],
           "z": [
            0.5495222806930542,
            1.0193957090377808
           ]
          },
          {
           "line": {
            "color": "black",
            "width": 5
           },
           "marker": {
            "color": "blue",
            "size": 2
           },
           "text": [
            "LAnkle"
           ],
           "type": "scatter3d",
           "x": [
            -0.2872825860977173,
            -0.015812993049621582
           ],
           "y": [
            -1.4186782836914062,
            -1.3622560501098633
           ],
           "z": [
            0.1717280149459839,
            0.5495222806930542
           ]
          },
          {
           "line": {
            "color": "black",
            "width": 5
           },
           "marker": {
            "color": "blue",
            "size": 2
           },
           "text": [
            "Spine1"
           ],
           "type": "scatter3d",
           "x": [
            0.03071451187133789,
            0.031986117362976074
           ],
           "y": [
            -1.449394702911377,
            -1.438657283782959
           ],
           "z": [
            1.3001755475997925,
            1.04411780834198
           ]
          },
          {
           "line": {
            "color": "black",
            "width": 5
           },
           "marker": {
            "color": "blue",
            "size": 2
           },
           "text": [
            "Neck"
           ],
           "type": "scatter3d",
           "x": [
            0.06539952754974365,
            0.03071451187133789
           ],
           "y": [
            -1.4402422904968262,
            -1.449394702911377
           ],
           "z": [
            1.5479496717453003,
            1.3001755475997925
           ]
          },
          {
           "line": {
            "color": "black",
            "width": 5
           },
           "marker": {
            "color": "blue",
            "size": 2
           },
           "text": [
            "Head"
           ],
           "type": "scatter3d",
           "x": [
            0.14908254146575928,
            0.06539952754974365
           ],
           "y": [
            -1.4158611297607422,
            -1.4402422904968262
           ],
           "z": [
            1.6312307119369507,
            1.5479496717453003
           ]
          },
          {
           "line": {
            "color": "black",
            "width": 5
           },
           "marker": {
            "color": "blue",
            "size": 2
           },
           "text": [
            "Site"
           ],
           "type": "scatter3d",
           "x": [
            0.1575394868850708,
            0.14908254146575928
           ],
           "y": [
            -1.4210658073425293,
            -1.4158611297607422
           ],
           "z": [
            1.7457979917526245,
            1.6312307119369507
           ]
          },
          {
           "line": {
            "color": "black",
            "width": 5
           },
           "marker": {
            "color": "blue",
            "size": 2
           },
           "text": [
            "LShoulder"
           ],
           "type": "scatter3d",
           "x": [
            0.0017898082733154297,
            0.06539952754974365
           ],
           "y": [
            -1.2826919555664062,
            -1.4402422904968262
           ],
           "z": [
            1.4791940450668335,
            1.5479496717453003
           ]
          },
          {
           "line": {
            "color": "black",
            "width": 5
           },
           "marker": {
            "color": "blue",
            "size": 2
           },
           "text": [
            "LElbow"
           ],
           "type": "scatter3d",
           "x": [
            -0.057341933250427246,
            0.0017898082733154297
           ],
           "y": [
            -1.1884760856628418,
            -1.2826919555664062
           ],
           "z": [
            1.2045434713363647,
            1.4791940450668335
           ]
          },
          {
           "line": {
            "color": "black",
            "width": 5
           },
           "marker": {
            "color": "blue",
            "size": 2
           },
           "text": [
            "LWrist"
           ],
           "type": "scatter3d",
           "x": [
            -0.01759326457977295,
            -0.057341933250427246
           ],
           "y": [
            -1.1572751998901367,
            -1.1884760856628418
           ],
           "z": [
            0.9607094526290894,
            1.2045434713363647
           ]
          },
          {
           "line": {
            "color": "red",
            "width": 5
           },
           "marker": {
            "color": "blue",
            "size": 2
           },
           "text": [
            "RShoulder"
           ],
           "type": "scatter3d",
           "x": [
            0.0735403299331665,
            0.06539952754974365
           ],
           "y": [
            -1.6066689491271973,
            -1.4402422904968262
           ],
           "z": [
            1.4715794324874878,
            1.5479496717453003
           ]
          },
          {
           "line": {
            "color": "red",
            "width": 5
           },
           "marker": {
            "color": "blue",
            "size": 2
           },
           "text": [
            "RElbow"
           ],
           "type": "scatter3d",
           "x": [
            0.03747546672821045,
            0.0735403299331665
           ],
           "y": [
            -1.7116522789001465,
            -1.6066689491271973
           ],
           "z": [
            1.1968377828598022,
            1.4715794324874878
           ]
          },
          {
           "line": {
            "color": "red",
            "width": 5
           },
           "marker": {
            "color": "blue",
            "size": 2
           },
           "text": [
            "RWrist"
           ],
           "type": "scatter3d",
           "x": [
            0.07706844806671143,
            0.03747546672821045
           ],
           "y": [
            -1.7183995246887207,
            -1.7116522789001465
           ],
           "z": [
            0.9510830640792847,
            1.1968377828598022
           ]
          },
          {
           "line": {
            "color": "#1f77b4",
            "width": 1
           },
           "marker": {
            "color": "#1f77b4",
            "size": 1
           },
           "type": "scatter3d",
           "x": [
            -0.0631488561630249,
            -0.23460090160369873
           ],
           "y": [
            0.027873992919921875,
            -0.35009336471557617
           ],
           "z": [
            1.0595725774765015,
            1.0333908796310425
           ]
          }
         ],
         "name": "frame3"
        },
        {
         "data": [
          {
           "line": {
            "color": "red",
            "width": 5
           },
           "marker": {
            "color": "blue",
            "size": 2
           },
           "text": [
            "RHip"
           ],
           "type": "scatter3d",
           "x": [
            1.0263625383377075,
            0.9085721969604492
           ],
           "y": [
            -0.3131113052368164,
            -0.2805147171020508
           ],
           "z": [
            1.0661510229110718,
            1.0447648763656616
           ]
          },
          {
           "line": {
            "color": "red",
            "width": 5
           },
           "marker": {
            "color": "blue",
            "size": 2
           },
           "text": [
            "RKnee"
           ],
           "type": "scatter3d",
           "x": [
            1.0354632139205933,
            1.0263625383377075
           ],
           "y": [
            -0.4166088104248047,
            -0.3131113052368164
           ],
           "z": [
            0.6055301427841187,
            1.0661510229110718
           ]
          },
          {
           "line": {
            "color": "red",
            "width": 5
           },
           "marker": {
            "color": "blue",
            "size": 2
           },
           "text": [
            "RAnkle"
           ],
           "type": "scatter3d",
           "x": [
            0.9682855606079102,
            1.0354632139205933
           ],
           "y": [
            -0.7148404121398926,
            -0.4166088104248047
           ],
           "z": [
            0.25034797191619873,
            0.6055301427841187
           ]
          },
          {
           "line": {
            "color": "black",
            "width": 5
           },
           "marker": {
            "color": "blue",
            "size": 2
           },
           "text": [
            "LHip"
           ],
           "type": "scatter3d",
           "x": [
            0.7907811403274536,
            0.9085721969604492
           ],
           "y": [
            -0.24791908264160156,
            -0.2805147171020508
           ],
           "z": [
            1.023377776145935,
            1.0447648763656616
           ]
          },
          {
           "line": {
            "color": "black",
            "width": 5
           },
           "marker": {
            "color": "blue",
            "size": 2
           },
           "text": [
            "LKnee"
           ],
           "type": "scatter3d",
           "x": [
            0.8415430784225464,
            0.7907811403274536
           ],
           "y": [
            -0.1327056884765625,
            -0.24791908264160156
           ],
           "z": [
            0.5682767629623413,
            1.023377776145935
           ]
          },
          {
           "line": {
            "color": "black",
            "width": 5
           },
           "marker": {
            "color": "blue",
            "size": 2
           },
           "text": [
            "LAnkle"
           ],
           "type": "scatter3d",
           "x": [
            0.9019390344619751,
            0.8415430784225464
           ],
           "y": [
            -0.1144719123840332,
            -0.1327056884765625
           ],
           "z": [
            0.10391891002655029,
            0.5682767629623413
           ]
          },
          {
           "line": {
            "color": "black",
            "width": 5
           },
           "marker": {
            "color": "blue",
            "size": 2
           },
           "text": [
            "Spine1"
           ],
           "type": "scatter3d",
           "x": [
            0.904992938041687,
            0.9085721969604492
           ],
           "y": [
            -0.29083251953125,
            -0.2805147171020508
           ],
           "z": [
            1.3008188009262085,
            1.0447648763656616
           ]
          },
          {
           "line": {
            "color": "black",
            "width": 5
           },
           "marker": {
            "color": "blue",
            "size": 2
           },
           "text": [
            "Neck"
           ],
           "type": "scatter3d",
           "x": [
            0.8889139890670776,
            0.904992938041687
           ],
           "y": [
            -0.25798940658569336,
            -0.29083251953125
           ],
           "z": [
            1.5484904050827026,
            1.3008188009262085
           ]
          },
          {
           "line": {
            "color": "black",
            "width": 5
           },
           "marker": {
            "color": "blue",
            "size": 2
           },
           "text": [
            "Head"
           ],
           "type": "scatter3d",
           "x": [
            0.8912473320960999,
            0.8889139890670776
           ],
           "y": [
            -0.18175888061523438,
            -0.25798940658569336
           ],
           "z": [
            1.6418522596359253,
            1.5484904050827026
           ]
          },
          {
           "line": {
            "color": "black",
            "width": 5
           },
           "marker": {
            "color": "blue",
            "size": 2
           },
           "text": [
            "Site"
           ],
           "type": "scatter3d",
           "x": [
            0.8796947598457336,
            0.8912473320960999
           ],
           "y": [
            -0.20040559768676758,
            -0.18175888061523438
           ],
           "z": [
            1.754738211631775,
            1.6418522596359253
           ]
          },
          {
           "line": {
            "color": "black",
            "width": 5
           },
           "marker": {
            "color": "blue",
            "size": 2
           },
           "text": [
            "LShoulder"
           ],
           "type": "scatter3d",
           "x": [
            0.7284785509109497,
            0.8889139890670776
           ],
           "y": [
            -0.2547450065612793,
            -0.25798940658569336
           ],
           "z": [
            1.4599131345748901,
            1.5484904050827026
           ]
          },
          {
           "line": {
            "color": "black",
            "width": 5
           },
           "marker": {
            "color": "blue",
            "size": 2
           },
           "text": [
            "LElbow"
           ],
           "type": "scatter3d",
           "x": [
            0.6519005298614502,
            0.7284785509109497
           ],
           "y": [
            -0.31091976165771484,
            -0.2547450065612793
           ],
           "z": [
            1.1792243719100952,
            1.4599131345748901
           ]
          },
          {
           "line": {
            "color": "black",
            "width": 5
           },
           "marker": {
            "color": "blue",
            "size": 2
           },
           "text": [
            "LWrist"
           ],
           "type": "scatter3d",
           "x": [
            0.6682678461074829,
            0.6519005298614502
           ],
           "y": [
            -0.3058614730834961,
            -0.31091976165771484
           ],
           "z": [
            0.9307998418807983,
            1.1792243719100952
           ]
          },
          {
           "line": {
            "color": "red",
            "width": 5
           },
           "marker": {
            "color": "blue",
            "size": 2
           },
           "text": [
            "RShoulder"
           ],
           "type": "scatter3d",
           "x": [
            1.0541226863861084,
            0.8889139890670776
           ],
           "y": [
            -0.30048608779907227,
            -0.25798940658569336
           ],
           "z": [
            1.4814366102218628,
            1.5484904050827026
           ]
          },
          {
           "line": {
            "color": "red",
            "width": 5
           },
           "marker": {
            "color": "blue",
            "size": 2
           },
           "text": [
            "RElbow"
           ],
           "type": "scatter3d",
           "x": [
            1.1709058284759521,
            1.0541226863861084
           ],
           "y": [
            -0.3167839050292969,
            -0.30048608779907227
           ],
           "z": [
            1.2095874547958374,
            1.4814366102218628
           ]
          },
          {
           "line": {
            "color": "red",
            "width": 5
           },
           "marker": {
            "color": "blue",
            "size": 2
           },
           "text": [
            "RWrist"
           ],
           "type": "scatter3d",
           "x": [
            1.1801884174346924,
            1.1709058284759521
           ],
           "y": [
            -0.1797313690185547,
            -0.3167839050292969
           ],
           "z": [
            1.0018881559371948,
            1.2095874547958374
           ]
          },
          {
           "line": {
            "color": "#1f77b4",
            "width": 1
           },
           "marker": {
            "color": "#1f77b4",
            "size": 1
           },
           "type": "scatter3d",
           "x": [
            -0.0631488561630249,
            -0.23460090160369873,
            0.031986117362976074
           ],
           "y": [
            0.027873992919921875,
            -0.35009336471557617,
            -1.438657283782959
           ],
           "z": [
            1.0595725774765015,
            1.0333908796310425,
            1.04411780834198
           ]
          }
         ],
         "name": "frame4"
        },
        {
         "data": [
          {
           "line": {
            "color": "red",
            "width": 5
           },
           "marker": {
            "color": "blue",
            "size": 2
           },
           "text": [
            "RHip"
           ],
           "type": "scatter3d",
           "x": [
            0.6789563894271851,
            0.5869547128677368
           ],
           "y": [
            1.6579053401947021,
            1.579770565032959
           ],
           "z": [
            1.0588103532791138,
            1.0300863981246948
           ]
          },
          {
           "line": {
            "color": "red",
            "width": 5
           },
           "marker": {
            "color": "blue",
            "size": 2
           },
           "text": [
            "RKnee"
           ],
           "type": "scatter3d",
           "x": [
            0.5931777954101562,
            0.6789563894271851
           ],
           "y": [
            1.785735845565796,
            1.6579053401947021
           ],
           "z": [
            0.6124166250228882,
            1.0588103532791138
           ]
          },
          {
           "line": {
            "color": "red",
            "width": 5
           },
           "marker": {
            "color": "blue",
            "size": 2
           },
           "text": [
            "RAnkle"
           ],
           "type": "scatter3d",
           "x": [
            0.6719238758087158,
            0.5931777954101562
           ],
           "y": [
            1.759554147720337,
            1.785735845565796
           ],
           "z": [
            0.15119850635528564,
            0.6124166250228882
           ]
          },
          {
           "line": {
            "color": "black",
            "width": 5
           },
           "marker": {
            "color": "blue",
            "size": 2
           },
           "text": [
            "LHip"
           ],
           "type": "scatter3d",
           "x": [
            0.49495255947113037,
            0.5869547128677368
           ],
           "y": [
            1.5016350746154785,
            1.579770565032959
           ],
           "z": [
            1.0013619661331177,
            1.0300863981246948
           ]
          },
          {
           "line": {
            "color": "black",
            "width": 5
           },
           "marker": {
            "color": "blue",
            "size": 2
           },
           "text": [
            "LKnee"
           ],
           "type": "scatter3d",
           "x": [
            0.5592125654220581,
            0.49495255947113037
           ],
           "y": [
            1.4850361347198486,
            1.5016350746154785
           ],
           "z": [
            0.5338553190231323,
            1.0013619661331177
           ]
          },
          {
           "line": {
            "color": "black",
            "width": 5
           },
           "marker": {
            "color": "blue",
            "size": 2
           },
           "text": [
            "LAnkle"
           ],
           "type": "scatter3d",
           "x": [
            0.8385576009750366,
            0.5592125654220581
           ],
           "y": [
            1.227064609527588,
            1.4850361347198486
           ],
           "z": [
            0.25994718074798584,
            0.5338553190231323
           ]
          },
          {
           "line": {
            "color": "black",
            "width": 5
           },
           "marker": {
            "color": "blue",
            "size": 2
           },
           "text": [
            "Spine1"
           ],
           "type": "scatter3d",
           "x": [
            0.5998120307922363,
            0.5869547128677368
           ],
           "y": [
            1.5658726692199707,
            1.579770565032959
           ],
           "z": [
            1.2856720685958862,
            1.0300863981246948
           ]
          },
          {
           "line": {
            "color": "black",
            "width": 5
           },
           "marker": {
            "color": "blue",
            "size": 2
           },
           "text": [
            "Neck"
           ],
           "type": "scatter3d",
           "x": [
            0.5907220840454102,
            0.5998120307922363
           ],
           "y": [
            1.5820832252502441,
            1.5658726692199707
           ],
           "z": [
            1.535338282585144,
            1.2856720685958862
           ]
          },
          {
           "line": {
            "color": "black",
            "width": 5
           },
           "marker": {
            "color": "blue",
            "size": 2
           },
           "text": [
            "Head"
           ],
           "type": "scatter3d",
           "x": [
            0.5360640287399292,
            0.5907220840454102
           ],
           "y": [
            1.6332077980041504,
            1.5820832252502441
           ],
           "z": [
            1.629846215248108,
            1.535338282585144
           ]
          },
          {
           "line": {
            "color": "black",
            "width": 5
           },
           "marker": {
            "color": "blue",
            "size": 2
           },
           "text": [
            "Site"
           ],
           "type": "scatter3d",
           "x": [
            0.5423494577407837,
            0.5360640287399292
           ],
           "y": [
            1.6262931823730469,
            1.6332077980041504
           ],
           "z": [
            1.7444626092910767,
            1.629846215248108
           ]
          },
          {
           "line": {
            "color": "black",
            "width": 5
           },
           "marker": {
            "color": "blue",
            "size": 2
           },
           "text": [
            "LShoulder"
           ],
           "type": "scatter3d",
           "x": [
            0.4715232849121094,
            0.5907220840454102
           ],
           "y": [
            1.4623398780822754,
            1.5820832252502441
           ],
           "z": [
            1.4642778635025024,
            1.535338282585144
           ]
          },
          {
           "line": {
            "color": "black",
            "width": 5
           },
           "marker": {
            "color": "blue",
            "size": 2
           },
           "text": [
            "LElbow"
           ],
           "type": "scatter3d",
           "x": [
            0.4145606756210327,
            0.4715232849121094
           ],
           "y": [
            1.398444652557373,
            1.4623398780822754
           ],
           "z": [
            1.1805905103683472,
            1.4642778635025024
           ]
          },
          {
           "line": {
            "color": "black",
            "width": 5
           },
           "marker": {
            "color": "blue",
            "size": 2
           },
           "text": [
            "LWrist"
           ],
           "type": "scatter3d",
           "x": [
            0.3773003816604614,
            0.4145606756210327
           ],
           "y": [
            1.4589259624481201,
            1.398444652557373
           ],
           "z": [
            0.9419225454330444,
            1.1805905103683472
           ]
          },
          {
           "line": {
            "color": "red",
            "width": 5
           },
           "marker": {
            "color": "blue",
            "size": 2
           },
           "text": [
            "RShoulder"
           ],
           "type": "scatter3d",
           "x": [
            0.7307721376419067,
            0.5907220840454102
           ],
           "y": [
            1.6680998802185059,
            1.5820832252502441
           ],
           "z": [
            1.4542022943496704,
            1.535338282585144
           ]
          },
          {
           "line": {
            "color": "red",
            "width": 5
           },
           "marker": {
            "color": "blue",
            "size": 2
           },
           "text": [
            "RElbow"
           ],
           "type": "scatter3d",
           "x": [
            0.8193732500076294,
            0.7307721376419067
           ],
           "y": [
            1.6884543895721436,
            1.6680998802185059
           ],
           "z": [
            1.172171950340271,
            1.4542022943496704
           ]
          },
          {
           "line": {
            "color": "red",
            "width": 5
           },
           "marker": {
            "color": "blue",
            "size": 2
           },
           "text": [
            "RWrist"
           ],
           "type": "scatter3d",
           "x": [
            0.8064199686050415,
            0.8193732500076294
           ],
           "y": [
            1.7503745555877686,
            1.6884543895721436
           ],
           "z": [
            0.9313262701034546,
            1.172171950340271
           ]
          },
          {
           "line": {
            "color": "#1f77b4",
            "width": 1
           },
           "marker": {
            "color": "#1f77b4",
            "size": 1
           },
           "type": "scatter3d",
           "x": [
            -0.0631488561630249,
            -0.23460090160369873,
            0.031986117362976074,
            0.9085721969604492
           ],
           "y": [
            0.027873992919921875,
            -0.35009336471557617,
            -1.438657283782959,
            -0.2805147171020508
           ],
           "z": [
            1.0595725774765015,
            1.0333908796310425,
            1.04411780834198,
            1.0447648763656616
           ]
          }
         ],
         "name": "frame5"
        },
        {
         "data": [
          {
           "line": {
            "color": "red",
            "width": 5
           },
           "marker": {
            "color": "blue",
            "size": 2
           },
           "text": [
            "RHip"
           ],
           "type": "scatter3d",
           "x": [
            -0.6859346628189087,
            -0.5753010511398315
           ],
           "y": [
            1.053907871246338,
            0.9985404014587402
           ],
           "z": [
            1.044129729270935,
            1.0346969366073608
           ]
          },
          {
           "line": {
            "color": "red",
            "width": 5
           },
           "marker": {
            "color": "blue",
            "size": 2
           },
           "text": [
            "RKnee"
           ],
           "type": "scatter3d",
           "x": [
            -0.7520488500595093,
            -0.6859346628189087
           ],
           "y": [
            1.0750772953033447,
            1.053907871246338
           ],
           "z": [
            0.5770682096481323,
            1.044129729270935
           ]
          },
          {
           "line": {
            "color": "red",
            "width": 5
           },
           "marker": {
            "color": "blue",
            "size": 2
           },
           "text": [
            "RAnkle"
           ],
           "type": "scatter3d",
           "x": [
            -0.5697485208511353,
            -0.7520488500595093
           ],
           "y": [
            1.4143147468566895,
            1.0750772953033447
           ],
           "z": [
            0.31005990505218506,
            0.5770682096481323
           ]
          },
          {
           "line": {
            "color": "black",
            "width": 5
           },
           "marker": {
            "color": "blue",
            "size": 2
           },
           "text": [
            "LHip"
           ],
           "type": "scatter3d",
           "x": [
            -0.464666485786438,
            -0.5753010511398315
           ],
           "y": [
            0.9431719779968262,
            0.9985404014587402
           ],
           "z": [
            1.025262713432312,
            1.0346969366073608
           ]
          },
          {
           "line": {
            "color": "black",
            "width": 5
           },
           "marker": {
            "color": "blue",
            "size": 2
           },
           "text": [
            "LKnee"
           ],
           "type": "scatter3d",
           "x": [
            -0.5293680429458618,
            -0.464666485786438
           ],
           "y": [
            0.8837680816650391,
            0.9431719779968262
           ],
           "z": [
            0.5613101720809937,
            1.025262713432312
           ]
          },
          {
           "line": {
            "color": "black",
            "width": 5
           },
           "marker": {
            "color": "blue",
            "size": 2
           },
           "text": [
            "LAnkle"
           ],
           "type": "scatter3d",
           "x": [
            -0.5790053606033325,
            -0.5293680429458618
           ],
           "y": [
            0.9351925849914551,
            0.8837680816650391
           ],
           "z": [
            0.09816920757293701,
            0.5613101720809937
           ]
          },
          {
           "line": {
            "color": "black",
            "width": 5
           },
           "marker": {
            "color": "blue",
            "size": 2
           },
           "text": [
            "Spine1"
           ],
           "type": "scatter3d",
           "x": [
            -0.5796502828598022,
            -0.5753010511398315
           ],
           "y": [
            1.0050323009490967,
            0.9985404014587402
           ],
           "z": [
            1.2908662557601929,
            1.0346969366073608
           ]
          },
          {
           "line": {
            "color": "black",
            "width": 5
           },
           "marker": {
            "color": "blue",
            "size": 2
           },
           "text": [
            "Neck"
           ],
           "type": "scatter3d",
           "x": [
            -0.581210732460022,
            -0.5796502828598022
           ],
           "y": [
            0.9701197147369385,
            1.0050323009490967
           ],
           "z": [
            1.5387715101242065,
            1.2908662557601929
           ]
          },
          {
           "line": {
            "color": "black",
            "width": 5
           },
           "marker": {
            "color": "blue",
            "size": 2
           },
           "text": [
            "Head"
           ],
           "type": "scatter3d",
           "x": [
            -0.5910807847976685,
            -0.581210732460022
           ],
           "y": [
            0.8904833793640137,
            0.9701197147369385
           ],
           "z": [
            1.6287363767623901,
            1.5387715101242065
           ]
          },
          {
           "line": {
            "color": "black",
            "width": 5
           },
           "marker": {
            "color": "blue",
            "size": 2
           },
           "text": [
            "Site"
           ],
           "type": "scatter3d",
           "x": [
            -0.5820029973983765,
            -0.5910807847976685
           ],
           "y": [
            0.9002523422241211,
            0.8904833793640137
           ],
           "z": [
            1.7429574728012085,
            1.6287363767623901
           ]
          },
          {
           "line": {
            "color": "black",
            "width": 5
           },
           "marker": {
            "color": "blue",
            "size": 2
           },
           "text": [
            "LShoulder"
           ],
           "type": "scatter3d",
           "x": [
            -0.4214743375778198,
            -0.581210732460022
           ],
           "y": [
            0.9305129051208496,
            0.9701197147369385
           ],
           "z": [
            1.4580758810043335,
            1.5387715101242065
           ]
          },
          {
           "line": {
            "color": "black",
            "width": 5
           },
           "marker": {
            "color": "blue",
            "size": 2
           },
           "text": [
            "LElbow"
           ],
           "type": "scatter3d",
           "x": [
            -0.3506113290786743,
            -0.4214743375778198
           ],
           "y": [
            0.9203577041625977,
            0.9305129051208496
           ],
           "z": [
            1.1705330610275269,
            1.4580758810043335
           ]
          },
          {
           "line": {
            "color": "black",
            "width": 5
           },
           "marker": {
            "color": "blue",
            "size": 2
           },
           "text": [
            "LWrist"
           ],
           "type": "scatter3d",
           "x": [
            -0.37240517139434814,
            -0.3506113290786743
           ],
           "y": [
            0.8728880882263184,
            0.9203577041625977
           ],
           "z": [
            0.9270581007003784,
            1.1705330610275269
           ]
          },
          {
           "line": {
            "color": "red",
            "width": 5
           },
           "marker": {
            "color": "blue",
            "size": 2
           },
           "text": [
            "RShoulder"
           ],
           "type": "scatter3d",
           "x": [
            -0.7308064699172974,
            -0.581210732460022
           ],
           "y": [
            1.0510144233703613,
            0.9701197147369385
           ],
           "z": [
            1.4704102277755737,
            1.5387715101242065
           ]
          },
          {
           "line": {
            "color": "red",
            "width": 5
           },
           "marker": {
            "color": "blue",
            "size": 2
           },
           "text": [
            "RElbow"
           ],
           "type": "scatter3d",
           "x": [
            -0.8144429922103882,
            -0.7308064699172974
           ],
           "y": [
            1.1209805011749268,
            1.0510144233703613
           ],
           "z": [
            1.1948832273483276,
            1.4704102277755737
           ]
          },
          {
           "line": {
            "color": "red",
            "width": 5
           },
           "marker": {
            "color": "blue",
            "size": 2
           },
           "text": [
            "RWrist"
           ],
           "type": "scatter3d",
           "x": [
            -0.8578089475631714,
            -0.8144429922103882
           ],
           "y": [
            1.0606820583343506,
            1.1209805011749268
           ],
           "z": [
            0.9572023153305054,
            1.1948832273483276
           ]
          },
          {
           "line": {
            "color": "#1f77b4",
            "width": 1
           },
           "marker": {
            "color": "#1f77b4",
            "size": 1
           },
           "type": "scatter3d",
           "x": [
            -0.0631488561630249,
            -0.23460090160369873,
            0.031986117362976074,
            0.9085721969604492,
            0.5869547128677368
           ],
           "y": [
            0.027873992919921875,
            -0.35009336471557617,
            -1.438657283782959,
            -0.2805147171020508,
            1.579770565032959
           ],
           "z": [
            1.0595725774765015,
            1.0333908796310425,
            1.04411780834198,
            1.0447648763656616,
            1.0300863981246948
           ]
          }
         ],
         "name": "frame6"
        },
        {
         "data": [
          {
           "line": {
            "color": "red",
            "width": 5
           },
           "marker": {
            "color": "blue",
            "size": 2
           },
           "text": [
            "RHip"
           ],
           "type": "scatter3d",
           "x": [
            -0.7446240186691284,
            -0.632104754447937
           ],
           "y": [
            -0.9588327407836914,
            -0.9113945960998535
           ],
           "z": [
            1.0607718229293823,
            1.038784384727478
           ]
          },
          {
           "line": {
            "color": "red",
            "width": 5
           },
           "marker": {
            "color": "blue",
            "size": 2
           },
           "text": [
            "RKnee"
           ],
           "type": "scatter3d",
           "x": [
            -0.6963576078414917,
            -0.7446240186691284
           ],
           "y": [
            -1.0629401206970215,
            -0.9588327407836914
           ],
           "z": [
            0.6027334928512573,
            1.0607718229293823
           ]
          },
          {
           "line": {
            "color": "red",
            "width": 5
           },
           "marker": {
            "color": "blue",
            "size": 2
           },
           "text": [
            "RAnkle"
           ],
           "type": "scatter3d",
           "x": [
            -0.727962851524353,
            -0.6963576078414917
           ],
           "y": [
            -0.9838871955871582,
            -1.0629401206970215
           ],
           "z": [
            0.14190709590911865,
            0.6027334928512573
           ]
          },
          {
           "line": {
            "color": "black",
            "width": 5
           },
           "marker": {
            "color": "blue",
            "size": 2
           },
           "text": [
            "LHip"
           ],
           "type": "scatter3d",
           "x": [
            -0.5195847749710083,
            -0.632104754447937
           ],
           "y": [
            -0.8639564514160156,
            -0.9113945960998535
           ],
           "z": [
            1.0167959928512573,
            1.038784384727478
           ]
          },
          {
           "line": {
            "color": "black",
            "width": 5
           },
           "marker": {
            "color": "blue",
            "size": 2
           },
           "text": [
            "LKnee"
           ],
           "type": "scatter3d",
           "x": [
            -0.4652034044265747,
            -0.5195847749710083
           ],
           "y": [
            -0.90325927734375,
            -0.8639564514160156
           ],
           "z": [
            0.5493940114974976,
            1.0167959928512573
           ]
          },
          {
           "line": {
            "color": "black",
            "width": 5
           },
           "marker": {
            "color": "blue",
            "size": 2
           },
           "text": [
            "LAnkle"
           ],
           "type": "scatter3d",
           "x": [
            -0.7086135149002075,
            -0.4652034044265747
           ],
           "y": [
            -0.5865583419799805,
            -0.90325927734375
           ],
           "z": [
            0.30432116985321045,
            0.5493940114974976
           ]
          },
          {
           "line": {
            "color": "black",
            "width": 5
           },
           "marker": {
            "color": "blue",
            "size": 2
           },
           "text": [
            "Spine1"
           ],
           "type": "scatter3d",
           "x": [
            -0.6334699392318726,
            -0.632104754447937
           ],
           "y": [
            -0.8892102241516113,
            -0.9113945960998535
           ],
           "z": [
            1.2941054105758667,
            1.038784384727478
           ]
          },
          {
           "line": {
            "color": "black",
            "width": 5
           },
           "marker": {
            "color": "blue",
            "size": 2
           },
           "text": [
            "Neck"
           ],
           "type": "scatter3d",
           "x": [
            -0.6484671831130981,
            -0.6334699392318726
           ],
           "y": [
            -0.9054155349731445,
            -0.8892102241516113
           ],
           "z": [
            1.5434874296188354,
            1.2941054105758667
           ]
          },
          {
           "line": {
            "color": "black",
            "width": 5
           },
           "marker": {
            "color": "blue",
            "size": 2
           },
           "text": [
            "Head"
           ],
           "type": "scatter3d",
           "x": [
            -0.6226068735122681,
            -0.6484671831130981
           ],
           "y": [
            -0.9712753295898438,
            -0.9054155349731445
           ],
           "z": [
            1.6410921812057495,
            1.5434874296188354
           ]
          },
          {
           "line": {
            "color": "black",
            "width": 5
           },
           "marker": {
            "color": "blue",
            "size": 2
           },
           "text": [
            "Site"
           ],
           "type": "scatter3d",
           "x": [
            -0.6302405595779419,
            -0.6226068735122681
           ],
           "y": [
            -0.9619927406311035,
            -0.9712753295898438
           ],
           "z": [
            1.7554596662521362,
            1.6410921812057495
           ]
          },
          {
           "line": {
            "color": "black",
            "width": 5
           },
           "marker": {
            "color": "blue",
            "size": 2
           },
           "text": [
            "LShoulder"
           ],
           "type": "scatter3d",
           "x": [
            -0.48711955547332764,
            -0.6484671831130981
           ],
           "y": [
            -0.841526985168457,
            -0.9054155349731445
           ],
           "z": [
            1.4844845533370972,
            1.5434874296188354
           ]
          },
          {
           "line": {
            "color": "black",
            "width": 5
           },
           "marker": {
            "color": "blue",
            "size": 2
           },
           "text": [
            "LElbow"
           ],
           "type": "scatter3d",
           "x": [
            -0.3806718587875366,
            -0.48711955547332764
           ],
           "y": [
            -0.8014721870422363,
            -0.841526985168457
           ],
           "z": [
            1.2108601331710815,
            1.4844845533370972
           ]
          },
          {
           "line": {
            "color": "black",
            "width": 5
           },
           "marker": {
            "color": "blue",
            "size": 2
           },
           "text": [
            "LWrist"
           ],
           "type": "scatter3d",
           "x": [
            -0.36517536640167236,
            -0.3806718587875366
           ],
           "y": [
            -0.857485294342041,
            -0.8014721870422363
           ],
           "z": [
            0.9687222242355347,
            1.2108601331710815
           ]
          },
          {
           "line": {
            "color": "red",
            "width": 5
           },
           "marker": {
            "color": "blue",
            "size": 2
           },
           "text": [
            "RShoulder"
           ],
           "type": "scatter3d",
           "x": [
            -0.8081926107406616,
            -0.6484671831130981
           ],
           "y": [
            -0.9350976943969727,
            -0.9054155349731445
           ],
           "z": [
            1.4586185216903687,
            1.5434874296188354
           ]
          },
          {
           "line": {
            "color": "red",
            "width": 5
           },
           "marker": {
            "color": "blue",
            "size": 2
           },
           "text": [
            "RElbow"
           ],
           "type": "scatter3d",
           "x": [
            -0.9011808633804321,
            -0.8081926107406616
           ],
           "y": [
            -0.9396791458129883,
            -0.9350976943969727
           ],
           "z": [
            1.1773031949996948,
            1.4586185216903687
           ]
          },
          {
           "line": {
            "color": "red",
            "width": 5
           },
           "marker": {
            "color": "blue",
            "size": 2
           },
           "text": [
            "RWrist"
           ],
           "type": "scatter3d",
           "x": [
            -0.8785642385482788,
            -0.9011808633804321
           ],
           "y": [
            -1.030698299407959,
            -0.9396791458129883
           ],
           "z": [
            0.9466255903244019,
            1.1773031949996948
           ]
          },
          {
           "line": {
            "color": "#1f77b4",
            "width": 1
           },
           "marker": {
            "color": "#1f77b4",
            "size": 1
           },
           "type": "scatter3d",
           "x": [
            -0.0631488561630249,
            -0.23460090160369873,
            0.031986117362976074,
            0.9085721969604492,
            0.5869547128677368,
            -0.5753010511398315
           ],
           "y": [
            0.027873992919921875,
            -0.35009336471557617,
            -1.438657283782959,
            -0.2805147171020508,
            1.579770565032959,
            0.9985404014587402
           ],
           "z": [
            1.0595725774765015,
            1.0333908796310425,
            1.04411780834198,
            1.0447648763656616,
            1.0300863981246948,
            1.0346969366073608
           ]
          }
         ],
         "name": "frame7"
        },
        {
         "data": [
          {
           "line": {
            "color": "red",
            "width": 5
           },
           "marker": {
            "color": "blue",
            "size": 2
           },
           "text": [
            "RHip"
           ],
           "type": "scatter3d",
           "x": [
            0.5890408754348755,
            0.49917006492614746
           ],
           "y": [
            -1.0097928047180176,
            -0.9276556968688965
           ],
           "z": [
            1.0584839582443237,
            1.034580111503601
           ]
          },
          {
           "line": {
            "color": "red",
            "width": 5
           },
           "marker": {
            "color": "blue",
            "size": 2
           },
           "text": [
            "RKnee"
           ],
           "type": "scatter3d",
           "x": [
            0.531356692314148,
            0.5890408754348755
           ],
           "y": [
            -1.090507984161377,
            -1.0097928047180176
           ],
           "z": [
            0.596831202507019,
            1.0584839582443237
           ]
          },
          {
           "line": {
            "color": "red",
            "width": 5
           },
           "marker": {
            "color": "blue",
            "size": 2
           },
           "text": [
            "RAnkle"
           ],
           "type": "scatter3d",
           "x": [
            0.33389735221862793,
            0.531356692314148
           ],
           "y": [
            -1.2797799110412598,
            -1.090507984161377
           ],
           "z": [
            0.21631228923797607,
            0.596831202507019
           ]
          },
          {
           "line": {
            "color": "black",
            "width": 5
           },
           "marker": {
            "color": "blue",
            "size": 2
           },
           "text": [
            "LHip"
           ],
           "type": "scatter3d",
           "x": [
            0.4092988967895508,
            0.49917006492614746
           ],
           "y": [
            -0.8455204963684082,
            -0.9276556968688965
           ],
           "z": [
            1.010675311088562,
            1.034580111503601
           ]
          },
          {
           "line": {
            "color": "black",
            "width": 5
           },
           "marker": {
            "color": "blue",
            "size": 2
           },
           "text": [
            "LKnee"
           ],
           "type": "scatter3d",
           "x": [
            0.539344072341919,
            0.4092988967895508
           ],
           "y": [
            -0.7748074531555176,
            -0.8455204963684082
           ],
           "z": [
            0.562282919883728,
            1.010675311088562
           ]
          },
          {
           "line": {
            "color": "black",
            "width": 5
           },
           "marker": {
            "color": "blue",
            "size": 2
           },
           "text": [
            "LAnkle"
           ],
           "type": "scatter3d",
           "x": [
            0.6361815929412842,
            0.539344072341919
           ],
           "y": [
            -0.7878880500793457,
            -0.7748074531555176
           ],
           "z": [
            0.10395991802215576,
            0.562282919883728
           ]
          },
          {
           "line": {
            "color": "black",
            "width": 5
           },
           "marker": {
            "color": "blue",
            "size": 2
           },
           "text": [
            "Spine1"
           ],
           "type": "scatter3d",
           "x": [
            0.4975811243057251,
            0.49917006492614746
           ],
           "y": [
            -0.927250862121582,
            -0.9276556968688965
           ],
           "z": [
            1.2908614873886108,
            1.034580111503601
           ]
          },
          {
           "line": {
            "color": "black",
            "width": 5
           },
           "marker": {
            "color": "blue",
            "size": 2
           },
           "text": [
            "Neck"
           ],
           "type": "scatter3d",
           "x": [
            0.5245994329452515,
            0.4975811243057251
           ],
           "y": [
            -0.8725090026855469,
            -0.927250862121582
           ],
           "z": [
            1.5336617231369019,
            1.2908614873886108
           ]
          },
          {
           "line": {
            "color": "black",
            "width": 5
           },
           "marker": {
            "color": "blue",
            "size": 2
           },
           "text": [
            "Head"
           ],
           "type": "scatter3d",
           "x": [
            0.5669935941696167,
            0.5245994329452515
           ],
           "y": [
            -0.8073325157165527,
            -0.8725090026855469
           ],
           "z": [
            1.6257914304733276,
            1.5336617231369019
           ]
          },
          {
           "line": {
            "color": "black",
            "width": 5
           },
           "marker": {
            "color": "blue",
            "size": 2
           },
           "text": [
            "Site"
           ],
           "type": "scatter3d",
           "x": [
            0.5594462156295776,
            0.5669935941696167
           ],
           "y": [
            -0.8274030685424805,
            -0.8073325157165527
           ],
           "z": [
            1.738770842552185,
            1.6257914304733276
           ]
          },
          {
           "line": {
            "color": "black",
            "width": 5
           },
           "marker": {
            "color": "blue",
            "size": 2
           },
           "text": [
            "LShoulder"
           ],
           "type": "scatter3d",
           "x": [
            0.36591386795043945,
            0.5245994329452515
           ],
           "y": [
            -0.8056063652038574,
            -0.8725090026855469
           ],
           "z": [
            1.470901370048523,
            1.5336617231369019
           ]
          },
          {
           "line": {
            "color": "black",
            "width": 5
           },
           "marker": {
            "color": "blue",
            "size": 2
           },
           "text": [
            "LElbow"
           ],
           "type": "scatter3d",
           "x": [
            0.20920181274414062,
            0.36591386795043945
           ],
           "y": [
            -0.829503059387207,
            -0.8056063652038574
           ],
           "z": [
            1.220549464225769,
            1.470901370048523
           ]
          },
          {
           "line": {
            "color": "black",
            "width": 5
           },
           "marker": {
            "color": "blue",
            "size": 2
           },
           "text": [
            "LWrist"
           ],
           "type": "scatter3d",
           "x": [
            0.30727171897888184,
            0.20920181274414062
           ],
           "y": [
            -0.9623565673828125,
            -0.829503059387207
           ],
           "z": [
            1.034159541130066,
            1.220549464225769
           ]
          },
          {
           "line": {
            "color": "red",
            "width": 5
           },
           "marker": {
            "color": "blue",
            "size": 2
           },
           "text": [
            "RShoulder"
           ],
           "type": "scatter3d",
           "x": [
            0.6450073719024658,
            0.5245994329452515
           ],
           "y": [
            -0.9973635673522949,
            -0.8725090026855469
           ],
           "z": [
            1.4744185209274292,
            1.5336617231369019
           ]
          },
          {
           "line": {
            "color": "red",
            "width": 5
           },
           "marker": {
            "color": "blue",
            "size": 2
           },
           "text": [
            "RElbow"
           ],
           "type": "scatter3d",
           "x": [
            0.6468573808670044,
            0.6450073719024658
           ],
           "y": [
            -1.1689624786376953,
            -0.9973635673522949
           ],
           "z": [
            1.232848048210144,
            1.4744185209274292
           ]
          },
          {
           "line": {
            "color": "red",
            "width": 5
           },
           "marker": {
            "color": "blue",
            "size": 2
           },
           "text": [
            "RWrist"
           ],
           "type": "scatter3d",
           "x": [
            0.4900134801864624,
            0.6468573808670044
           ],
           "y": [
            -1.1260075569152832,
            -1.1689624786376953
           ],
           "z": [
            1.0442670583724976,
            1.232848048210144
           ]
          },
          {
           "line": {
            "color": "#1f77b4",
            "width": 1
           },
           "marker": {
            "color": "#1f77b4",
            "size": 1
           },
           "type": "scatter3d",
           "x": [
            -0.0631488561630249,
            -0.23460090160369873,
            0.031986117362976074,
            0.9085721969604492,
            0.5869547128677368,
            -0.5753010511398315,
            -0.632104754447937
           ],
           "y": [
            0.027873992919921875,
            -0.35009336471557617,
            -1.438657283782959,
            -0.2805147171020508,
            1.579770565032959,
            0.9985404014587402,
            -0.9113945960998535
           ],
           "z": [
            1.0595725774765015,
            1.0333908796310425,
            1.04411780834198,
            1.0447648763656616,
            1.0300863981246948,
            1.0346969366073608,
            1.038784384727478
           ]
          }
         ],
         "name": "frame8"
        },
        {
         "data": [
          {
           "line": {
            "color": "red",
            "width": 5
           },
           "marker": {
            "color": "blue",
            "size": 2
           },
           "text": [
            "RHip"
           ],
           "type": "scatter3d",
           "x": [
            0.9947073459625244,
            0.8725070357322693
           ],
           "y": [
            0.6930708885192871,
            0.6878371238708496
           ],
           "z": [
            1.0656436681747437,
            1.0448054075241089
           ]
          },
          {
           "line": {
            "color": "red",
            "width": 5
           },
           "marker": {
            "color": "blue",
            "size": 2
           },
           "text": [
            "RKnee"
           ],
           "type": "scatter3d",
           "x": [
            1.0022761821746826,
            0.9947073459625244
           ],
           "y": [
            0.8237123489379883,
            0.6930708885192871
           ],
           "z": [
            0.6119464635848999,
            1.0656436681747437
           ]
          },
          {
           "line": {
            "color": "red",
            "width": 5
           },
           "marker": {
            "color": "blue",
            "size": 2
           },
           "text": [
            "RAnkle"
           ],
           "type": "scatter3d",
           "x": [
            1.0096673965454102,
            1.0022761821746826
           ],
           "y": [
            0.9439053535461426,
            0.8237123489379883
           ],
           "z": [
            0.15905797481536865,
            0.6119464635848999
           ]
          },
          {
           "line": {
            "color": "black",
            "width": 5
           },
           "marker": {
            "color": "blue",
            "size": 2
           },
           "text": [
            "LHip"
           ],
           "type": "scatter3d",
           "x": [
            0.7503064870834351,
            0.8725070357322693
           ],
           "y": [
            0.6826033592224121,
            0.6878371238708496
           ],
           "z": [
            1.0239661931991577,
            1.0448054075241089
           ]
          },
          {
           "line": {
            "color": "black",
            "width": 5
           },
           "marker": {
            "color": "blue",
            "size": 2
           },
           "text": [
            "LKnee"
           ],
           "type": "scatter3d",
           "x": [
            0.8248647451400757,
            0.7503064870834351
           ],
           "y": [
            0.5900940895080566,
            0.6826033592224121
           ],
           "z": [
            0.5669640302658081,
            1.0239661931991577
           ]
          },
          {
           "line": {
            "color": "black",
            "width": 5
           },
           "marker": {
            "color": "blue",
            "size": 2
           },
           "text": [
            "LAnkle"
           ],
           "type": "scatter3d",
           "x": [
            0.9249659776687622,
            0.8248647451400757
           ],
           "y": [
            0.37633466720581055,
            0.5900940895080566
           ],
           "z": [
            0.16212499141693115,
            0.5669640302658081
           ]
          },
          {
           "line": {
            "color": "black",
            "width": 5
           },
           "marker": {
            "color": "blue",
            "size": 2
           },
           "text": [
            "Spine1"
           ],
           "type": "scatter3d",
           "x": [
            0.8592795133590698,
            0.8725070357322693
           ],
           "y": [
            0.6930675506591797,
            0.6878371238708496
           ],
           "z": [
            1.300697684288025,
            1.0448054075241089
           ]
          },
          {
           "line": {
            "color": "black",
            "width": 5
           },
           "marker": {
            "color": "blue",
            "size": 2
           },
           "text": [
            "Neck"
           ],
           "type": "scatter3d",
           "x": [
            0.862388551235199,
            0.8592795133590698
           ],
           "y": [
            0.7555608749389648,
            0.6930675506591797
           ],
           "z": [
            1.5431097745895386,
            1.300697684288025
           ]
          },
          {
           "line": {
            "color": "black",
            "width": 5
           },
           "marker": {
            "color": "blue",
            "size": 2
           },
           "text": [
            "Head"
           ],
           "type": "scatter3d",
           "x": [
            0.8593353629112244,
            0.862388551235199
           ],
           "y": [
            0.8231630325317383,
            0.7555608749389648
           ],
           "z": [
            1.6428779363632202,
            1.5431097745895386
           ]
          },
          {
           "line": {
            "color": "black",
            "width": 5
           },
           "marker": {
            "color": "blue",
            "size": 2
           },
           "text": [
            "Site"
           ],
           "type": "scatter3d",
           "x": [
            0.8667662143707275,
            0.8593353629112244
           ],
           "y": [
            0.7780489921569824,
            0.8231630325317383
           ],
           "z": [
            1.7483948469161987,
            1.6428779363632202
           ]
          },
          {
           "line": {
            "color": "black",
            "width": 5
           },
           "marker": {
            "color": "blue",
            "size": 2
           },
           "text": [
            "LShoulder"
           ],
           "type": "scatter3d",
           "x": [
            0.6883620023727417,
            0.862388551235199
           ],
           "y": [
            0.7366571426391602,
            0.7555608749389648
           ],
           "z": [
            1.488766074180603,
            1.5431097745895386
           ]
          },
          {
           "line": {
            "color": "black",
            "width": 5
           },
           "marker": {
            "color": "blue",
            "size": 2
           },
           "text": [
            "LElbow"
           ],
           "type": "scatter3d",
           "x": [
            0.5738593339920044,
            0.6883620023727417
           ],
           "y": [
            0.6215291023254395,
            0.7366571426391602
           ],
           "z": [
            1.2408932447433472,
            1.488766074180603
           ]
          },
          {
           "line": {
            "color": "black",
            "width": 5
           },
           "marker": {
            "color": "blue",
            "size": 2
           },
           "text": [
            "LWrist"
           ],
           "type": "scatter3d",
           "x": [
            0.72667396068573,
            0.5738593339920044
           ],
           "y": [
            0.5413680076599121,
            0.6215291023254395
           ],
           "z": [
            1.061365008354187,
            1.2408932447433472
           ]
          },
          {
           "line": {
            "color": "red",
            "width": 5
           },
           "marker": {
            "color": "blue",
            "size": 2
           },
           "text": [
            "RShoulder"
           ],
           "type": "scatter3d",
           "x": [
            1.0289051532745361,
            0.862388551235199
           ],
           "y": [
            0.7145848274230957,
            0.7555608749389648
           ],
           "z": [
            1.4783843755722046,
            1.5431097745895386
           ]
          },
          {
           "line": {
            "color": "red",
            "width": 5
           },
           "marker": {
            "color": "blue",
            "size": 2
           },
           "text": [
            "RElbow"
           ],
           "type": "scatter3d",
           "x": [
            1.1228090524673462,
            1.0289051532745361
           ],
           "y": [
            0.5640807151794434,
            0.7145848274230957
           ],
           "z": [
            1.2410310506820679,
            1.4783843755722046
           ]
          },
          {
           "line": {
            "color": "red",
            "width": 5
           },
           "marker": {
            "color": "blue",
            "size": 2
           },
           "text": [
            "RWrist"
           ],
           "type": "scatter3d",
           "x": [
            0.9592146873474121,
            1.1228090524673462
           ],
           "y": [
            0.5207352638244629,
            0.5640807151794434
           ],
           "z": [
            1.0583661794662476,
            1.2410310506820679
           ]
          },
          {
           "line": {
            "color": "#1f77b4",
            "width": 1
           },
           "marker": {
            "color": "#1f77b4",
            "size": 1
           },
           "type": "scatter3d",
           "x": [
            -0.0631488561630249,
            -0.23460090160369873,
            0.031986117362976074,
            0.9085721969604492,
            0.5869547128677368,
            -0.5753010511398315,
            -0.632104754447937,
            0.49917006492614746
           ],
           "y": [
            0.027873992919921875,
            -0.35009336471557617,
            -1.438657283782959,
            -0.2805147171020508,
            1.579770565032959,
            0.9985404014587402,
            -0.9113945960998535,
            -0.9276556968688965
           ],
           "z": [
            1.0595725774765015,
            1.0333908796310425,
            1.04411780834198,
            1.0447648763656616,
            1.0300863981246948,
            1.0346969366073608,
            1.038784384727478,
            1.034580111503601
           ]
          }
         ],
         "name": "frame9"
        },
        {
         "data": [
          {
           "line": {
            "color": "red",
            "width": 5
           },
           "marker": {
            "color": "blue",
            "size": 2
           },
           "text": [
            "RHip"
           ],
           "type": "scatter3d",
           "x": [
            -0.054395079612731934,
            -0.0122908353805542
           ],
           "y": [
            1.9226908683776855,
            1.807086706161499
           ],
           "z": [
            1.0447860956192017,
            1.0287479162216187
           ]
          },
          {
           "line": {
            "color": "red",
            "width": 5
           },
           "marker": {
            "color": "blue",
            "size": 2
           },
           "text": [
            "RKnee"
           ],
           "type": "scatter3d",
           "x": [
            -0.008220434188842773,
            -0.054395079612731934
           ],
           "y": [
            1.9338524341583252,
            1.9226908683776855
           ],
           "z": [
            0.5749891996383667,
            1.0447860956192017
           ]
          },
          {
           "line": {
            "color": "red",
            "width": 5
           },
           "marker": {
            "color": "blue",
            "size": 2
           },
           "text": [
            "RAnkle"
           ],
           "type": "scatter3d",
           "x": [
            0.18199706077575684,
            -0.008220434188842773
           ],
           "y": [
            1.9851999282836914,
            1.9338524341583252
           ],
           "z": [
            0.14979541301727295,
            0.5749891996383667
           ]
          },
          {
           "line": {
            "color": "black",
            "width": 5
           },
           "marker": {
            "color": "blue",
            "size": 2
           },
           "text": [
            "LHip"
           ],
           "type": "scatter3d",
           "x": [
            0.029813170433044434,
            -0.0122908353805542
           ],
           "y": [
            1.691481113433838,
            1.807086706161499
           ],
           "z": [
            1.0127090215682983,
            1.0287479162216187
           ]
          },
          {
           "line": {
            "color": "black",
            "width": 5
           },
           "marker": {
            "color": "blue",
            "size": 2
           },
           "text": [
            "LKnee"
           ],
           "type": "scatter3d",
           "x": [
            -0.13031995296478271,
            0.029813170433044434
           ],
           "y": [
            1.6277825832366943,
            1.691481113433838
           ],
           "z": [
            0.5730868577957153,
            1.0127090215682983
           ]
          },
          {
           "line": {
            "color": "black",
            "width": 5
           },
           "marker": {
            "color": "blue",
            "size": 2
           },
           "text": [
            "LAnkle"
           ],
           "type": "scatter3d",
           "x": [
            -0.1369847059249878,
            -0.13031995296478271
           ],
           "y": [
            1.7329187393188477,
            1.6277825832366943
           ],
           "z": [
            0.11645781993865967,
            0.5730868577957153
           ]
          },
          {
           "line": {
            "color": "black",
            "width": 5
           },
           "marker": {
            "color": "blue",
            "size": 2
           },
           "text": [
            "Spine1"
           ],
           "type": "scatter3d",
           "x": [
            -0.033328890800476074,
            -0.0122908353805542
           ],
           "y": [
            1.8190507888793945,
            1.807086706161499
           ],
           "z": [
            1.2838891744613647,
            1.0287479162216187
           ]
          },
          {
           "line": {
            "color": "black",
            "width": 5
           },
           "marker": {
            "color": "blue",
            "size": 2
           },
           "text": [
            "Neck"
           ],
           "type": "scatter3d",
           "x": [
            -0.10250270366668701,
            -0.033328890800476074
           ],
           "y": [
            1.7939856052398682,
            1.8190507888793945
           ],
           "z": [
            1.5231910943984985,
            1.2838891744613647
           ]
          },
          {
           "line": {
            "color": "black",
            "width": 5
           },
           "marker": {
            "color": "blue",
            "size": 2
           },
           "text": [
            "Head"
           ],
           "type": "scatter3d",
           "x": [
            -0.17360198497772217,
            -0.10250270366668701
           ],
           "y": [
            1.762559175491333,
            1.7939856052398682
           ],
           "z": [
            1.615333914756775,
            1.5231910943984985
           ]
          },
          {
           "line": {
            "color": "black",
            "width": 5
           },
           "marker": {
            "color": "blue",
            "size": 2
           },
           "text": [
            "Site"
           ],
           "type": "scatter3d",
           "x": [
            -0.167136549949646,
            -0.17360198497772217
           ],
           "y": [
            1.767014980316162,
            1.762559175491333
           ],
           "z": [
            1.7300623655319214,
            1.615333914756775
           ]
          },
          {
           "line": {
            "color": "black",
            "width": 5
           },
           "marker": {
            "color": "blue",
            "size": 2
           },
           "text": [
            "LShoulder"
           ],
           "type": "scatter3d",
           "x": [
            0.004943728446960449,
            -0.10250270366668701
           ],
           "y": [
            1.6519055366516113,
            1.7939856052398682
           ],
           "z": [
            1.4800091981887817,
            1.5231910943984985
           ]
          },
          {
           "line": {
            "color": "black",
            "width": 5
           },
           "marker": {
            "color": "blue",
            "size": 2
           },
           "text": [
            "LElbow"
           ],
           "type": "scatter3d",
           "x": [
            0.16931354999542236,
            0.004943728446960449
           ],
           "y": [
            1.6031265258789062,
            1.6519055366516113
           ],
           "z": [
            1.2383302450180054,
            1.4800091981887817
           ]
          },
          {
           "line": {
            "color": "black",
            "width": 5
           },
           "marker": {
            "color": "blue",
            "size": 2
           },
           "text": [
            "LWrist"
           ],
           "type": "scatter3d",
           "x": [
            0.16402924060821533,
            0.16931354999542236
           ],
           "y": [
            1.7696969509124756,
            1.6031265258789062
           ],
           "z": [
            1.0533033609390259,
            1.2383302450180054
           ]
          },
          {
           "line": {
            "color": "red",
            "width": 5
           },
           "marker": {
            "color": "blue",
            "size": 2
           },
           "text": [
            "RShoulder"
           ],
           "type": "scatter3d",
           "x": [
            -0.1487358808517456,
            -0.10250270366668701
           ],
           "y": [
            1.9578266143798828,
            1.7939856052398682
           ],
           "z": [
            1.4552596807479858,
            1.5231910943984985
           ]
          },
          {
           "line": {
            "color": "red",
            "width": 5
           },
           "marker": {
            "color": "blue",
            "size": 2
           },
           "text": [
            "RElbow"
           ],
           "type": "scatter3d",
           "x": [
            -0.05976414680480957,
            -0.1487358808517456
           ],
           "y": [
            2.1193745136260986,
            1.9578266143798828
           ],
           "z": [
            1.2233284711837769,
            1.4552596807479858
           ]
          },
          {
           "line": {
            "color": "red",
            "width": 5
           },
           "marker": {
            "color": "blue",
            "size": 2
           },
           "text": [
            "RWrist"
           ],
           "type": "scatter3d",
           "x": [
            0.06794142723083496,
            -0.05976414680480957
           ],
           "y": [
            2.000129222869873,
            2.1193745136260986
           ],
           "z": [
            1.0459023714065552,
            1.2233284711837769
           ]
          },
          {
           "line": {
            "color": "#1f77b4",
            "width": 1
           },
           "marker": {
            "color": "#1f77b4",
            "size": 1
           },
           "type": "scatter3d",
           "x": [
            -0.0631488561630249,
            -0.23460090160369873,
            0.031986117362976074,
            0.9085721969604492,
            0.5869547128677368,
            -0.5753010511398315,
            -0.632104754447937,
            0.49917006492614746,
            0.8725070357322693
           ],
           "y": [
            0.027873992919921875,
            -0.35009336471557617,
            -1.438657283782959,
            -0.2805147171020508,
            1.579770565032959,
            0.9985404014587402,
            -0.9113945960998535,
            -0.9276556968688965,
            0.6878371238708496
           ],
           "z": [
            1.0595725774765015,
            1.0333908796310425,
            1.04411780834198,
            1.0447648763656616,
            1.0300863981246948,
            1.0346969366073608,
            1.038784384727478,
            1.034580111503601,
            1.0448054075241089
           ]
          }
         ],
         "name": "frame10"
        },
        {
         "data": [
          {
           "line": {
            "color": "red",
            "width": 5
           },
           "marker": {
            "color": "blue",
            "size": 2
           },
           "text": [
            "RHip"
           ],
           "type": "scatter3d",
           "x": [
            -0.9851876497268677,
            -0.8624705076217651
           ],
           "y": [
            0.4315333366394043,
            0.4292325973510742
           ],
           "z": [
            1.0557860136032104,
            1.0376280546188354
           ]
          },
          {
           "line": {
            "color": "red",
            "width": 5
           },
           "marker": {
            "color": "blue",
            "size": 2
           },
           "text": [
            "RKnee"
           ],
           "type": "scatter3d",
           "x": [
            -1.0012074708938599,
            -0.9851876497268677
           ],
           "y": [
            0.25776052474975586,
            0.4315333366394043
           ],
           "z": [
            0.617024302482605,
            1.0557860136032104
           ]
          },
          {
           "line": {
            "color": "red",
            "width": 5
           },
           "marker": {
            "color": "blue",
            "size": 2
           },
           "text": [
            "RAnkle"
           ],
           "type": "scatter3d",
           "x": [
            -0.9934319257736206,
            -1.0012074708938599
           ],
           "y": [
            0.3370976448059082,
            0.25776052474975586
           ],
           "z": [
            0.15522944927215576,
            0.617024302482605
           ]
          },
          {
           "line": {
            "color": "black",
            "width": 5
           },
           "marker": {
            "color": "blue",
            "size": 2
           },
           "text": [
            "LHip"
           ],
           "type": "scatter3d",
           "x": [
            -0.7397531270980835,
            -0.8624705076217651
           ],
           "y": [
            0.42693233489990234,
            0.4292325973510742
           ],
           "z": [
            1.019469141960144,
            1.0376280546188354
           ]
          },
          {
           "line": {
            "color": "black",
            "width": 5
           },
           "marker": {
            "color": "blue",
            "size": 2
           },
           "text": [
            "LKnee"
           ],
           "type": "scatter3d",
           "x": [
            -0.8023432493209839,
            -0.7397531270980835
           ],
           "y": [
            0.4367551803588867,
            0.42693233489990234
           ],
           "z": [
            0.5515450239181519,
            1.019469141960144
           ]
          },
          {
           "line": {
            "color": "black",
            "width": 5
           },
           "marker": {
            "color": "blue",
            "size": 2
           },
           "text": [
            "LAnkle"
           ],
           "type": "scatter3d",
           "x": [
            -0.8944510221481323,
            -0.8023432493209839
           ],
           "y": [
            0.5849051475524902,
            0.4367551803588867
           ],
           "z": [
            0.1166008710861206,
            0.5515450239181519
           ]
          },
          {
           "line": {
            "color": "black",
            "width": 5
           },
           "marker": {
            "color": "blue",
            "size": 2
           },
           "text": [
            "Spine1"
           ],
           "type": "scatter3d",
           "x": [
            -0.8606842756271362,
            -0.8624705076217651
           ],
           "y": [
            0.4148869514465332,
            0.4292325973510742
           ],
           "z": [
            1.29350745677948,
            1.0376280546188354
           ]
          },
          {
           "line": {
            "color": "black",
            "width": 5
           },
           "marker": {
            "color": "blue",
            "size": 2
           },
           "text": [
            "Neck"
           ],
           "type": "scatter3d",
           "x": [
            -0.8599916696548462,
            -0.8606842756271362
           ],
           "y": [
            0.34812211990356445,
            0.4148869514465332
           ],
           "z": [
            1.5347975492477417,
            1.29350745677948
           ]
          },
          {
           "line": {
            "color": "black",
            "width": 5
           },
           "marker": {
            "color": "blue",
            "size": 2
           },
           "text": [
            "Head"
           ],
           "type": "scatter3d",
           "x": [
            -0.8597472906112671,
            -0.8599916696548462
           ],
           "y": [
            0.271059513092041,
            0.34812211990356445
           ],
           "z": [
            1.6275032758712769,
            1.5347975492477417
           ]
          },
          {
           "line": {
            "color": "black",
            "width": 5
           },
           "marker": {
            "color": "blue",
            "size": 2
           },
           "text": [
            "Site"
           ],
           "type": "scatter3d",
           "x": [
            -0.8669017553329468,
            -0.8597472906112671
           ],
           "y": [
            0.28760194778442383,
            0.271059513092041
           ],
           "z": [
            1.7410787343978882,
            1.6275032758712769
           ]
          },
          {
           "line": {
            "color": "black",
            "width": 5
           },
           "marker": {
            "color": "blue",
            "size": 2
           },
           "text": [
            "LShoulder"
           ],
           "type": "scatter3d",
           "x": [
            -0.6860517263412476,
            -0.8599916696548462
           ],
           "y": [
            0.37314558029174805,
            0.34812211990356445
           ],
           "z": [
            1.482695460319519,
            1.5347975492477417
           ]
          },
          {
           "line": {
            "color": "black",
            "width": 5
           },
           "marker": {
            "color": "blue",
            "size": 2
           },
           "text": [
            "LElbow"
           ],
           "type": "scatter3d",
           "x": [
            -0.5674065351486206,
            -0.6860517263412476
           ],
           "y": [
            0.4951634407043457,
            0.37314558029174805
           ],
           "z": [
            1.2401241064071655,
            1.482695460319519
           ]
          },
          {
           "line": {
            "color": "black",
            "width": 5
           },
           "marker": {
            "color": "blue",
            "size": 2
           },
           "text": [
            "LWrist"
           ],
           "type": "scatter3d",
           "x": [
            -0.7107001543045044,
            -0.5674065351486206
           ],
           "y": [
            0.589393138885498,
            0.4951634407043457
           ],
           "z": [
            1.0595792531967163,
            1.2401241064071655
           ]
          },
          {
           "line": {
            "color": "red",
            "width": 5
           },
           "marker": {
            "color": "blue",
            "size": 2
           },
           "text": [
            "RShoulder"
           ],
           "type": "scatter3d",
           "x": [
            -1.0292197465896606,
            -0.8599916696548462
           ],
           "y": [
            0.3894772529602051,
            0.34812211990356445
           ],
           "z": [
            1.4778097867965698,
            1.5347975492477417
           ]
          },
          {
           "line": {
            "color": "red",
            "width": 5
           },
           "marker": {
            "color": "blue",
            "size": 2
           },
           "text": [
            "RElbow"
           ],
           "type": "scatter3d",
           "x": [
            -1.1134790182113647,
            -1.0292197465896606
           ],
           "y": [
            0.5528120994567871,
            0.3894772529602051
           ],
           "z": [
            1.245369791984558,
            1.4778097867965698
           ]
          },
          {
           "line": {
            "color": "red",
            "width": 5
           },
           "marker": {
            "color": "blue",
            "size": 2
           },
           "text": [
            "RWrist"
           ],
           "type": "scatter3d",
           "x": [
            -0.9515188932418823,
            -1.1134790182113647
           ],
           "y": [
            0.6077051162719727,
            0.5528120994567871
           ],
           "z": [
            1.0643619298934937,
            1.245369791984558
           ]
          },
          {
           "line": {
            "color": "#1f77b4",
            "width": 1
           },
           "marker": {
            "color": "#1f77b4",
            "size": 1
           },
           "type": "scatter3d",
           "x": [
            -0.0631488561630249,
            -0.23460090160369873,
            0.031986117362976074,
            0.9085721969604492,
            0.5869547128677368,
            -0.5753010511398315,
            -0.632104754447937,
            0.49917006492614746,
            0.8725070357322693,
            -0.0122908353805542
           ],
           "y": [
            0.027873992919921875,
            -0.35009336471557617,
            -1.438657283782959,
            -0.2805147171020508,
            1.579770565032959,
            0.9985404014587402,
            -0.9113945960998535,
            -0.9276556968688965,
            0.6878371238708496,
            1.807086706161499
           ],
           "z": [
            1.0595725774765015,
            1.0333908796310425,
            1.04411780834198,
            1.0447648763656616,
            1.0300863981246948,
            1.0346969366073608,
            1.038784384727478,
            1.034580111503601,
            1.0448054075241089,
            1.0287479162216187
           ]
          }
         ],
         "name": "frame11"
        },
        {
         "data": [
          {
           "line": {
            "color": "red",
            "width": 5
           },
           "marker": {
            "color": "blue",
            "size": 2
           },
           "text": [
            "RHip"
           ],
           "type": "scatter3d",
           "x": [
            -0.41682183742523193,
            -0.3573344945907593
           ],
           "y": [
            -1.3646759986877441,
            -1.2573628425598145
           ],
           "z": [
            1.0702046155929565,
            1.0517657995224
           ]
          },
          {
           "line": {
            "color": "red",
            "width": 5
           },
           "marker": {
            "color": "blue",
            "size": 2
           },
           "text": [
            "RKnee"
           ],
           "type": "scatter3d",
           "x": [
            -0.3804553747177124,
            -0.41682183742523193
           ],
           "y": [
            -1.3941059112548828,
            -1.3646759986877441
           ],
           "z": [
            0.6003350019454956,
            1.0702046155929565
           ]
          },
          {
           "line": {
            "color": "red",
            "width": 5
           },
           "marker": {
            "color": "blue",
            "size": 2
           },
           "text": [
            "RAnkle"
           ],
           "type": "scatter3d",
           "x": [
            -0.505905032157898,
            -0.3804553747177124
           ],
           "y": [
            -1.284883975982666,
            -1.3941059112548828
           ],
           "z": [
            0.1622241735458374,
            0.6003350019454956
           ]
          },
          {
           "line": {
            "color": "black",
            "width": 5
           },
           "marker": {
            "color": "blue",
            "size": 2
           },
           "text": [
            "LHip"
           ],
           "type": "scatter3d",
           "x": [
            -0.2978471517562866,
            -0.3573344945907593
           ],
           "y": [
            -1.1500515937805176,
            -1.2573628425598145
           ],
           "z": [
            1.0333260297775269,
            1.0517657995224
           ]
          },
          {
           "line": {
            "color": "black",
            "width": 5
           },
           "marker": {
            "color": "blue",
            "size": 2
           },
           "text": [
            "LKnee"
           ],
           "type": "scatter3d",
           "x": [
            -0.14633393287658691,
            -0.2978471517562866
           ],
           "y": [
            -1.203484058380127,
            -1.1500515937805176
           ],
           "z": [
            0.5893033742904663,
            1.0333260297775269
           ]
          },
          {
           "line": {
            "color": "black",
            "width": 5
           },
           "marker": {
            "color": "blue",
            "size": 2
           },
           "text": [
            "LAnkle"
           ],
           "type": "scatter3d",
           "x": [
            -0.37643611431121826,
            -0.14633393287658691
           ],
           "y": [
            -1.209001064300537,
            -1.203484058380127
           ],
           "z": [
            0.1811002492904663,
            0.5893033742904663
           ]
          },
          {
           "line": {
            "color": "black",
            "width": 5
           },
           "marker": {
            "color": "blue",
            "size": 2
           },
           "text": [
            "Spine1"
           ],
           "type": "scatter3d",
           "x": [
            -0.362650990486145,
            -0.3573344945907593
           ],
           "y": [
            -1.2754788398742676,
            -1.2573628425598145
           ],
           "z": [
            1.3073557615280151,
            1.0517657995224
           ]
          },
          {
           "line": {
            "color": "black",
            "width": 5
           },
           "marker": {
            "color": "blue",
            "size": 2
           },
           "text": [
            "Neck"
           ],
           "type": "scatter3d",
           "x": [
            -0.2994741201400757,
            -0.362650990486145
           ],
           "y": [
            -1.3232355117797852,
            -1.2754788398742676
           ],
           "z": [
            1.5448569059371948,
            1.3073557615280151
           ]
          },
          {
           "line": {
            "color": "black",
            "width": 5
           },
           "marker": {
            "color": "blue",
            "size": 2
           },
           "text": [
            "Head"
           ],
           "type": "scatter3d",
           "x": [
            -0.22094905376434326,
            -0.2994741201400757
           ],
           "y": [
            -1.370734691619873,
            -1.3232355117797852
           ],
           "z": [
            1.6230272054672241,
            1.5448569059371948
           ]
          },
          {
           "line": {
            "color": "black",
            "width": 5
           },
           "marker": {
            "color": "blue",
            "size": 2
           },
           "text": [
            "Site"
           ],
           "type": "scatter3d",
           "x": [
            -0.22598159313201904,
            -0.22094905376434326
           ],
           "y": [
            -1.3853492736816406,
            -1.370734691619873
           ],
           "z": [
            1.7369812726974487,
            1.6230272054672241
           ]
          },
          {
           "line": {
            "color": "black",
            "width": 5
           },
           "marker": {
            "color": "blue",
            "size": 2
           },
           "text": [
            "LShoulder"
           ],
           "type": "scatter3d",
           "x": [
            -0.26049816608428955,
            -0.2994741201400757
           ],
           "y": [
            -1.1476068496704102,
            -1.3232355117797852
           ],
           "z": [
            1.5097650289535522,
            1.5448569059371948
           ]
          },
          {
           "line": {
            "color": "black",
            "width": 5
           },
           "marker": {
            "color": "blue",
            "size": 2
           },
           "text": [
            "LElbow"
           ],
           "type": "scatter3d",
           "x": [
            -0.34106719493865967,
            -0.26049816608428955
           ],
           "y": [
            -0.9697036743164062,
            -1.1476068496704102
           ],
           "z": [
            1.2869080305099487,
            1.5097650289535522
           ]
          },
          {
           "line": {
            "color": "black",
            "width": 5
           },
           "marker": {
            "color": "blue",
            "size": 2
           },
           "text": [
            "LWrist"
           ],
           "type": "scatter3d",
           "x": [
            -0.4416898488998413,
            -0.34106719493865967
           ],
           "y": [
            -1.066288948059082,
            -0.9697036743164062
           ],
           "z": [
            1.0806187391281128,
            1.2869080305099487
           ]
          },
          {
           "line": {
            "color": "red",
            "width": 5
           },
           "marker": {
            "color": "blue",
            "size": 2
           },
           "text": [
            "RShoulder"
           ],
           "type": "scatter3d",
           "x": [
            -0.40190112590789795,
            -0.2994741201400757
           ],
           "y": [
            -1.458606243133545,
            -1.3232355117797852
           ],
           "z": [
            1.475723147392273,
            1.5448569059371948
           ]
          },
          {
           "line": {
            "color": "red",
            "width": 5
           },
           "marker": {
            "color": "blue",
            "size": 2
           },
           "text": [
            "RElbow"
           ],
           "type": "scatter3d",
           "x": [
            -0.5909796953201294,
            -0.40190112590789795
           ],
           "y": [
            -1.4906034469604492,
            -1.458606243133545
           ],
           "z": [
            1.2498215436935425,
            1.475723147392273
           ]
          },
          {
           "line": {
            "color": "red",
            "width": 5
           },
           "marker": {
            "color": "blue",
            "size": 2
           },
           "text": [
            "RWrist"
           ],
           "type": "scatter3d",
           "x": [
            -0.5979200601577759,
            -0.5909796953201294
           ],
           "y": [
            -1.3383426666259766,
            -1.4906034469604492
           ],
           "z": [
            1.0529030561447144,
            1.2498215436935425
           ]
          },
          {
           "line": {
            "color": "#1f77b4",
            "width": 1
           },
           "marker": {
            "color": "#1f77b4",
            "size": 1
           },
           "type": "scatter3d",
           "x": [
            -0.0631488561630249,
            -0.23460090160369873,
            0.031986117362976074,
            0.9085721969604492,
            0.5869547128677368,
            -0.5753010511398315,
            -0.632104754447937,
            0.49917006492614746,
            0.8725070357322693,
            -0.0122908353805542,
            -0.8624705076217651
           ],
           "y": [
            0.027873992919921875,
            -0.35009336471557617,
            -1.438657283782959,
            -0.2805147171020508,
            1.579770565032959,
            0.9985404014587402,
            -0.9113945960998535,
            -0.9276556968688965,
            0.6878371238708496,
            1.807086706161499,
            0.4292325973510742
           ],
           "z": [
            1.0595725774765015,
            1.0333908796310425,
            1.04411780834198,
            1.0447648763656616,
            1.0300863981246948,
            1.0346969366073608,
            1.038784384727478,
            1.034580111503601,
            1.0448054075241089,
            1.0287479162216187,
            1.0376280546188354
           ]
          }
         ],
         "name": "frame12"
        },
        {
         "data": [
          {
           "line": {
            "color": "red",
            "width": 5
           },
           "marker": {
            "color": "blue",
            "size": 2
           },
           "text": [
            "RHip"
           ],
           "type": "scatter3d",
           "x": [
            0.7790087461471558,
            0.6926779747009277
           ],
           "y": [
            -0.7523059844970703,
            -0.6638197898864746
           ],
           "z": [
            1.0620697736740112,
            1.0515035390853882
           ]
          },
          {
           "line": {
            "color": "red",
            "width": 5
           },
           "marker": {
            "color": "blue",
            "size": 2
           },
           "text": [
            "RKnee"
           ],
           "type": "scatter3d",
           "x": [
            0.9390233755111694,
            0.7790087461471558
           ],
           "y": [
            -0.7709860801696777,
            -0.7523059844970703
           ],
           "z": [
            0.6182082891464233,
            1.0620697736740112
           ]
          },
          {
           "line": {
            "color": "red",
            "width": 5
           },
           "marker": {
            "color": "blue",
            "size": 2
           },
           "text": [
            "RAnkle"
           ],
           "type": "scatter3d",
           "x": [
            0.6315014362335205,
            0.9390233755111694
           ],
           "y": [
            -1.0097594261169434,
            -0.7709860801696777
           ],
           "z": [
            0.35738933086395264,
            0.6182082891464233
           ]
          },
          {
           "line": {
            "color": "black",
            "width": 5
           },
           "marker": {
            "color": "blue",
            "size": 2
           },
           "text": [
            "LHip"
           ],
           "type": "scatter3d",
           "x": [
            0.6063467264175415,
            0.6926779747009277
           ],
           "y": [
            -0.5753335952758789,
            -0.6638197898864746
           ],
           "z": [
            1.040936827659607,
            1.0515035390853882
           ]
          },
          {
           "line": {
            "color": "black",
            "width": 5
           },
           "marker": {
            "color": "blue",
            "size": 2
           },
           "text": [
            "LKnee"
           ],
           "type": "scatter3d",
           "x": [
            0.6809951066970825,
            0.6063467264175415
           ],
           "y": [
            -0.5974411964416504,
            -0.5753335952758789
           ],
           "z": [
            0.5752052068710327,
            1.040936827659607
           ]
          },
          {
           "line": {
            "color": "black",
            "width": 5
           },
           "marker": {
            "color": "blue",
            "size": 2
           },
           "text": [
            "LAnkle"
           ],
           "type": "scatter3d",
           "x": [
            0.7068047523498535,
            0.6809951066970825
           ],
           "y": [
            -0.6978144645690918,
            -0.5974411964416504
           ],
           "z": [
            0.11818397045135498,
            0.5752052068710327
           ]
          },
          {
           "line": {
            "color": "black",
            "width": 5
           },
           "marker": {
            "color": "blue",
            "size": 2
           },
           "text": [
            "Spine1"
           ],
           "type": "scatter3d",
           "x": [
            0.6912024021148682,
            0.6926779747009277
           ],
           "y": [
            -0.6931462287902832,
            -0.6638197898864746
           ],
           "z": [
            1.3061031103134155,
            1.0515035390853882
           ]
          },
          {
           "line": {
            "color": "black",
            "width": 5
           },
           "marker": {
            "color": "blue",
            "size": 2
           },
           "text": [
            "Neck"
           ],
           "type": "scatter3d",
           "x": [
            0.6739281415939331,
            0.6912024021148682
           ],
           "y": [
            -0.6637153625488281,
            -0.6931462287902832
           ],
           "z": [
            1.5541237592697144,
            1.3061031103134155
           ]
          },
          {
           "line": {
            "color": "black",
            "width": 5
           },
           "marker": {
            "color": "blue",
            "size": 2
           },
           "text": [
            "Head"
           ],
           "type": "scatter3d",
           "x": [
            0.6845220327377319,
            0.6739281415939331
           ],
           "y": [
            -0.6068882942199707,
            -0.6637153625488281
           ],
           "z": [
            1.6599143743515015,
            1.5541237592697144
           ]
          },
          {
           "line": {
            "color": "black",
            "width": 5
           },
           "marker": {
            "color": "blue",
            "size": 2
           },
           "text": [
            "Site"
           ],
           "type": "scatter3d",
           "x": [
            0.648368239402771,
            0.6845220327377319
           ],
           "y": [
            -0.6501035690307617,
            -0.6068882942199707
           ],
           "z": [
            1.7601627111434937,
            1.6599143743515015
           ]
          },
          {
           "line": {
            "color": "black",
            "width": 5
           },
           "marker": {
            "color": "blue",
            "size": 2
           },
           "text": [
            "LShoulder"
           ],
           "type": "scatter3d",
           "x": [
            0.5374826192855835,
            0.6739281415939331
           ],
           "y": [
            -0.5903635025024414,
            -0.6637153625488281
           ],
           "z": [
            1.4561527967453003,
            1.5541237592697144
           ]
          },
          {
           "line": {
            "color": "black",
            "width": 5
           },
           "marker": {
            "color": "blue",
            "size": 2
           },
           "text": [
            "LElbow"
           ],
           "type": "scatter3d",
           "x": [
            0.4457129240036011,
            0.5374826192855835
           ],
           "y": [
            -0.5210590362548828,
            -0.5903635025024414
           ],
           "z": [
            1.183057188987732,
            1.4561527967453003
           ]
          },
          {
           "line": {
            "color": "black",
            "width": 5
           },
           "marker": {
            "color": "blue",
            "size": 2
           },
           "text": [
            "LWrist"
           ],
           "type": "scatter3d",
           "x": [
            0.6117419004440308,
            0.4457129240036011
           ],
           "y": [
            -0.45778369903564453,
            -0.5210590362548828
           ],
           "z": [
            1.0085896253585815,
            1.183057188987732
           ]
          },
          {
           "line": {
            "color": "red",
            "width": 5
           },
           "marker": {
            "color": "blue",
            "size": 2
           },
           "text": [
            "RShoulder"
           ],
           "type": "scatter3d",
           "x": [
            0.8139010667800903,
            0.6739281415939331
           ],
           "y": [
            -0.7653136253356934,
            -0.6637153625488281
           ],
           "z": [
            1.4934481382369995,
            1.5541237592697144
           ]
          },
          {
           "line": {
            "color": "red",
            "width": 5
           },
           "marker": {
            "color": "blue",
            "size": 2
           },
           "text": [
            "RElbow"
           ],
           "type": "scatter3d",
           "x": [
            0.9456726312637329,
            0.8139010667800903
           ],
           "y": [
            -0.8585271835327148,
            -0.7653136253356934
           ],
           "z": [
            1.2449458837509155,
            1.4934481382369995
           ]
          },
          {
           "line": {
            "color": "red",
            "width": 5
           },
           "marker": {
            "color": "blue",
            "size": 2
           },
           "text": [
            "RWrist"
           ],
           "type": "scatter3d",
           "x": [
            0.956734299659729,
            0.9456726312637329
           ],
           "y": [
            -0.7048430442810059,
            -0.8585271835327148
           ],
           "z": [
            1.0493258237838745,
            1.2449458837509155
           ]
          },
          {
           "line": {
            "color": "#1f77b4",
            "width": 1
           },
           "marker": {
            "color": "#1f77b4",
            "size": 1
           },
           "type": "scatter3d",
           "x": [
            -0.0631488561630249,
            -0.23460090160369873,
            0.031986117362976074,
            0.9085721969604492,
            0.5869547128677368,
            -0.5753010511398315,
            -0.632104754447937,
            0.49917006492614746,
            0.8725070357322693,
            -0.0122908353805542,
            -0.8624705076217651,
            -0.3573344945907593
           ],
           "y": [
            0.027873992919921875,
            -0.35009336471557617,
            -1.438657283782959,
            -0.2805147171020508,
            1.579770565032959,
            0.9985404014587402,
            -0.9113945960998535,
            -0.9276556968688965,
            0.6878371238708496,
            1.807086706161499,
            0.4292325973510742,
            -1.2573628425598145
           ],
           "z": [
            1.0595725774765015,
            1.0333908796310425,
            1.04411780834198,
            1.0447648763656616,
            1.0300863981246948,
            1.0346969366073608,
            1.038784384727478,
            1.034580111503601,
            1.0448054075241089,
            1.0287479162216187,
            1.0376280546188354,
            1.0517657995224
           ]
          }
         ],
         "name": "frame13"
        },
        {
         "data": [
          {
           "line": {
            "color": "red",
            "width": 5
           },
           "marker": {
            "color": "blue",
            "size": 2
           },
           "text": [
            "RHip"
           ],
           "type": "scatter3d",
           "x": [
            1.1806919574737549,
            1.0585362911224365
           ],
           "y": [
            0.8688249588012695,
            0.874967098236084
           ],
           "z": [
            1.0714129209518433,
            1.0505608320236206
           ]
          },
          {
           "line": {
            "color": "red",
            "width": 5
           },
           "marker": {
            "color": "blue",
            "size": 2
           },
           "text": [
            "RKnee"
           ],
           "type": "scatter3d",
           "x": [
            1.1815240383148193,
            1.1806919574737549
           ],
           "y": [
            1.0170235633850098,
            0.8688249588012695
           ],
           "z": [
            0.6230791807174683,
            1.0714129209518433
           ]
          },
          {
           "line": {
            "color": "red",
            "width": 5
           },
           "marker": {
            "color": "blue",
            "size": 2
           },
           "text": [
            "RAnkle"
           ],
           "type": "scatter3d",
           "x": [
            1.1816788911819458,
            1.1815240383148193
           ],
           "y": [
            0.9532318115234375,
            1.0170235633850098
           ],
           "z": [
            0.15881764888763428,
            0.6230791807174683
           ]
          },
          {
           "line": {
            "color": "black",
            "width": 5
           },
           "marker": {
            "color": "blue",
            "size": 2
           },
           "text": [
            "LHip"
           ],
           "type": "scatter3d",
           "x": [
            0.9363804459571838,
            1.0585362911224365
           ],
           "y": [
            0.8811087608337402,
            0.874967098236084
           ],
           "z": [
            1.0297096967697144,
            1.0505608320236206
           ]
          },
          {
           "line": {
            "color": "black",
            "width": 5
           },
           "marker": {
            "color": "blue",
            "size": 2
           },
           "text": [
            "LKnee"
           ],
           "type": "scatter3d",
           "x": [
            0.9218253493309021,
            0.9363804459571838
           ],
           "y": [
            0.852231502532959,
            0.8811087608337402
           ],
           "z": [
            0.5586241483688354,
            1.0297096967697144
           ]
          },
          {
           "line": {
            "color": "black",
            "width": 5
           },
           "marker": {
            "color": "blue",
            "size": 2
           },
           "text": [
            "LAnkle"
           ],
           "type": "scatter3d",
           "x": [
            0.9949407577514648,
            0.9218253493309021
           ],
           "y": [
            0.4873318672180176,
            0.852231502532959
           ],
           "z": [
            0.2738255262374878,
            0.5586241483688354
           ]
          },
          {
           "line": {
            "color": "black",
            "width": 5
           },
           "marker": {
            "color": "blue",
            "size": 2
           },
           "text": [
            "Spine1"
           ],
           "type": "scatter3d",
           "x": [
            1.0587785243988037,
            1.0585362911224365
           ],
           "y": [
            0.8526759147644043,
            0.874967098236084
           ],
           "z": [
            1.3058770895004272,
            1.0505608320236206
           ]
          },
          {
           "line": {
            "color": "black",
            "width": 5
           },
           "marker": {
            "color": "blue",
            "size": 2
           },
           "text": [
            "Neck"
           ],
           "type": "scatter3d",
           "x": [
            1.0760293006896973,
            1.0587785243988037
           ],
           "y": [
            0.8745746612548828,
            0.8526759147644043
           ],
           "z": [
            1.5546773672103882,
            1.3058770895004272
           ]
          },
          {
           "line": {
            "color": "black",
            "width": 5
           },
           "marker": {
            "color": "blue",
            "size": 2
           },
           "text": [
            "Head"
           ],
           "type": "scatter3d",
           "x": [
            1.0949499607086182,
            1.0760293006896973
           ],
           "y": [
            0.9296302795410156,
            0.8745746612548828
           ],
           "z": [
            1.6602421998977661,
            1.5546773672103882
           ]
          },
          {
           "line": {
            "color": "black",
            "width": 5
           },
           "marker": {
            "color": "blue",
            "size": 2
           },
           "text": [
            "Site"
           ],
           "type": "scatter3d",
           "x": [
            1.1040065288543701,
            1.0949499607086182
           ],
           "y": [
            0.8765749931335449,
            0.9296302795410156
           ],
           "z": [
            1.7618659734725952,
            1.6602421998977661
           ]
          },
          {
           "line": {
            "color": "black",
            "width": 5
           },
           "marker": {
            "color": "blue",
            "size": 2
           },
           "text": [
            "LShoulder"
           ],
           "type": "scatter3d",
           "x": [
            0.9049551486968994,
            1.0760293006896973
           ],
           "y": [
            0.8759331703186035,
            0.8745746612548828
           ],
           "z": [
            1.4888914823532104,
            1.5546773672103882
           ]
          },
          {
           "line": {
            "color": "black",
            "width": 5
           },
           "marker": {
            "color": "blue",
            "size": 2
           },
           "text": [
            "LElbow"
           ],
           "type": "scatter3d",
           "x": [
            0.7630624771118164,
            0.9049551486968994
           ],
           "y": [
            0.8688473701477051,
            0.8759331703186035
           ],
           "z": [
            1.2288483381271362,
            1.4888914823532104
           ]
          },
          {
           "line": {
            "color": "black",
            "width": 5
           },
           "marker": {
            "color": "blue",
            "size": 2
           },
           "text": [
            "LWrist"
           ],
           "type": "scatter3d",
           "x": [
            0.8572443723678589,
            0.7630624771118164
           ],
           "y": [
            0.9812500476837158,
            0.8688473701477051
           ],
           "z": [
            1.0275925397872925,
            1.2288483381271362
           ]
          },
          {
           "line": {
            "color": "red",
            "width": 5
           },
           "marker": {
            "color": "blue",
            "size": 2
           },
           "text": [
            "RShoulder"
           ],
           "type": "scatter3d",
           "x": [
            1.2331748008728027,
            1.0760293006896973
           ],
           "y": [
            0.8368391990661621,
            0.8745746612548828
           ],
           "z": [
            1.4682053327560425,
            1.5546773672103882
           ]
          },
          {
           "line": {
            "color": "red",
            "width": 5
           },
           "marker": {
            "color": "blue",
            "size": 2
           },
           "text": [
            "RElbow"
           ],
           "type": "scatter3d",
           "x": [
            1.3578109741210938,
            1.2331748008728027
           ],
           "y": [
            0.7901372909545898,
            0.8368391990661621
           ],
           "z": [
            1.2034591436386108,
            1.4682053327560425
           ]
          },
          {
           "line": {
            "color": "red",
            "width": 5
           },
           "marker": {
            "color": "blue",
            "size": 2
           },
           "text": [
            "RWrist"
           ],
           "type": "scatter3d",
           "x": [
            1.2929725646972656,
            1.3578109741210938
           ],
           "y": [
            0.9419465065002441,
            0.7901372909545898
           ],
           "z": [
            1.0170232057571411,
            1.2034591436386108
           ]
          },
          {
           "line": {
            "color": "#1f77b4",
            "width": 1
           },
           "marker": {
            "color": "#1f77b4",
            "size": 1
           },
           "type": "scatter3d",
           "x": [
            -0.0631488561630249,
            -0.23460090160369873,
            0.031986117362976074,
            0.9085721969604492,
            0.5869547128677368,
            -0.5753010511398315,
            -0.632104754447937,
            0.49917006492614746,
            0.8725070357322693,
            -0.0122908353805542,
            -0.8624705076217651,
            -0.3573344945907593,
            0.6926779747009277
           ],
           "y": [
            0.027873992919921875,
            -0.35009336471557617,
            -1.438657283782959,
            -0.2805147171020508,
            1.579770565032959,
            0.9985404014587402,
            -0.9113945960998535,
            -0.9276556968688965,
            0.6878371238708496,
            1.807086706161499,
            0.4292325973510742,
            -1.2573628425598145,
            -0.6638197898864746
           ],
           "z": [
            1.0595725774765015,
            1.0333908796310425,
            1.04411780834198,
            1.0447648763656616,
            1.0300863981246948,
            1.0346969366073608,
            1.038784384727478,
            1.034580111503601,
            1.0448054075241089,
            1.0287479162216187,
            1.0376280546188354,
            1.0517657995224,
            1.0515035390853882
           ]
          }
         ],
         "name": "frame14"
        },
        {
         "data": [
          {
           "line": {
            "color": "red",
            "width": 5
           },
           "marker": {
            "color": "blue",
            "size": 2
           },
           "text": [
            "RHip"
           ],
           "type": "scatter3d",
           "x": [
            0.7593439817428589,
            0.6983271837234497
           ],
           "y": [
            2.3055531978607178,
            2.2002804279327393
           ],
           "z": [
            1.0688496828079224,
            1.0445762872695923
           ]
          },
          {
           "line": {
            "color": "red",
            "width": 5
           },
           "marker": {
            "color": "blue",
            "size": 2
           },
           "text": [
            "RKnee"
           ],
           "type": "scatter3d",
           "x": [
            0.8379436731338501,
            0.7593439817428589
           ],
           "y": [
            2.277400255203247,
            2.3055531978607178
           ],
           "z": [
            0.6040962934494019,
            1.0688496828079224
           ]
          },
          {
           "line": {
            "color": "red",
            "width": 5
           },
           "marker": {
            "color": "blue",
            "size": 2
           },
           "text": [
            "RAnkle"
           ],
           "type": "scatter3d",
           "x": [
            1.021986484527588,
            0.8379436731338501
           ],
           "y": [
            2.1535449028015137,
            2.277400255203247
           ],
           "z": [
            0.19130408763885498,
            0.6040962934494019
           ]
          },
          {
           "line": {
            "color": "black",
            "width": 5
           },
           "marker": {
            "color": "blue",
            "size": 2
           },
           "text": [
            "LHip"
           ],
           "type": "scatter3d",
           "x": [
            0.6373099088668823,
            0.6983271837234497
           ],
           "y": [
            2.095008373260498,
            2.2002804279327393
           ],
           "z": [
            1.0203031301498413,
            1.0445762872695923
           ]
          },
          {
           "line": {
            "color": "black",
            "width": 5
           },
           "marker": {
            "color": "blue",
            "size": 2
           },
           "text": [
            "LKnee"
           ],
           "type": "scatter3d",
           "x": [
            0.5173918008804321,
            0.6373099088668823
           ],
           "y": [
            2.1759767532348633,
            2.095008373260498
           ],
           "z": [
            0.5708240270614624,
            1.0203031301498413
           ]
          },
          {
           "line": {
            "color": "black",
            "width": 5
           },
           "marker": {
            "color": "blue",
            "size": 2
           },
           "text": [
            "LAnkle"
           ],
           "type": "scatter3d",
           "x": [
            0.5011595487594604,
            0.5173918008804321
           ],
           "y": [
            2.258967399597168,
            2.1759767532348633
           ],
           "z": [
            0.10989320278167725,
            0.5708240270614624
           ]
          },
          {
           "line": {
            "color": "black",
            "width": 5
           },
           "marker": {
            "color": "blue",
            "size": 2
           },
           "text": [
            "Spine1"
           ],
           "type": "scatter3d",
           "x": [
            0.7118041515350342,
            0.6983271837234497
           ],
           "y": [
            2.211609125137329,
            2.2002804279327393
           ],
           "z": [
            1.300256609916687,
            1.0445762872695923
           ]
          },
          {
           "line": {
            "color": "black",
            "width": 5
           },
           "marker": {
            "color": "blue",
            "size": 2
           },
           "text": [
            "Neck"
           ],
           "type": "scatter3d",
           "x": [
            0.6746009588241577,
            0.7118041515350342
           ],
           "y": [
            2.2229931354522705,
            2.211609125137329
           ],
           "z": [
            1.5475717782974243,
            1.300256609916687
           ]
          },
          {
           "line": {
            "color": "black",
            "width": 5
           },
           "marker": {
            "color": "blue",
            "size": 2
           },
           "text": [
            "Head"
           ],
           "type": "scatter3d",
           "x": [
            0.5986548662185669,
            0.6746009588241577
           ],
           "y": [
            2.2512621879577637,
            2.2229931354522705
           ],
           "z": [
            1.6368247270584106,
            1.5475717782974243
           ]
          },
          {
           "line": {
            "color": "black",
            "width": 5
           },
           "marker": {
            "color": "blue",
            "size": 2
           },
           "text": [
            "Site"
           ],
           "type": "scatter3d",
           "x": [
            0.5994231700897217,
            0.5986548662185669
           ],
           "y": [
            2.2425692081451416,
            2.2512621879577637
           ],
           "z": [
            1.7514904737472534,
            1.6368247270584106
           ]
          },
          {
           "line": {
            "color": "black",
            "width": 5
           },
           "marker": {
            "color": "blue",
            "size": 2
           },
           "text": [
            "LShoulder"
           ],
           "type": "scatter3d",
           "x": [
            0.620524525642395,
            0.6746009588241577
           ],
           "y": [
            2.0641989707946777,
            2.2229931354522705
           ],
           "z": [
            1.4737046957015991,
            1.5475717782974243
           ]
          },
          {
           "line": {
            "color": "black",
            "width": 5
           },
           "marker": {
            "color": "blue",
            "size": 2
           },
           "text": [
            "LElbow"
           ],
           "type": "scatter3d",
           "x": [
            0.590552568435669,
            0.620524525642395
           ],
           "y": [
            1.932208776473999,
            2.0641989707946777
           ],
           "z": [
            1.210103154182434,
            1.4737046957015991
           ]
          },
          {
           "line": {
            "color": "black",
            "width": 5
           },
           "marker": {
            "color": "blue",
            "size": 2
           },
           "text": [
            "LWrist"
           ],
           "type": "scatter3d",
           "x": [
            0.5466798543930054,
            0.590552568435669
           ],
           "y": [
            2.0771830081939697,
            1.932208776473999
           ],
           "z": [
            1.0124510526657104,
            1.210103154182434
           ]
          },
          {
           "line": {
            "color": "red",
            "width": 5
           },
           "marker": {
            "color": "blue",
            "size": 2
           },
           "text": [
            "RShoulder"
           ],
           "type": "scatter3d",
           "x": [
            0.7620868682861328,
            0.6746009588241577
           ],
           "y": [
            2.364539384841919,
            2.2229931354522705
           ],
           "z": [
            1.4707154035568237,
            1.5475717782974243
           ]
          },
          {
           "line": {
            "color": "red",
            "width": 5
           },
           "marker": {
            "color": "blue",
            "size": 2
           },
           "text": [
            "RElbow"
           ],
           "type": "scatter3d",
           "x": [
            0.8801144361495972,
            0.7620868682861328
           ],
           "y": [
            2.464367389678955,
            2.364539384841919
           ],
           "z": [
            1.2179116010665894,
            1.4707154035568237
           ]
          },
          {
           "line": {
            "color": "red",
            "width": 5
           },
           "marker": {
            "color": "blue",
            "size": 2
           },
           "text": [
            "RWrist"
           ],
           "type": "scatter3d",
           "x": [
            0.7669250965118408,
            0.8801144361495972
           ],
           "y": [
            2.423006057739258,
            2.464367389678955
           ],
           "z": [
            0.9999991655349731,
            1.2179116010665894
           ]
          },
          {
           "line": {
            "color": "#1f77b4",
            "width": 1
           },
           "marker": {
            "color": "#1f77b4",
            "size": 1
           },
           "type": "scatter3d",
           "x": [
            -0.0631488561630249,
            -0.23460090160369873,
            0.031986117362976074,
            0.9085721969604492,
            0.5869547128677368,
            -0.5753010511398315,
            -0.632104754447937,
            0.49917006492614746,
            0.8725070357322693,
            -0.0122908353805542,
            -0.8624705076217651,
            -0.3573344945907593,
            0.6926779747009277,
            1.0585362911224365
           ],
           "y": [
            0.027873992919921875,
            -0.35009336471557617,
            -1.438657283782959,
            -0.2805147171020508,
            1.579770565032959,
            0.9985404014587402,
            -0.9113945960998535,
            -0.9276556968688965,
            0.6878371238708496,
            1.807086706161499,
            0.4292325973510742,
            -1.2573628425598145,
            -0.6638197898864746,
            0.874967098236084
           ],
           "z": [
            1.0595725774765015,
            1.0333908796310425,
            1.04411780834198,
            1.0447648763656616,
            1.0300863981246948,
            1.0346969366073608,
            1.038784384727478,
            1.034580111503601,
            1.0448054075241089,
            1.0287479162216187,
            1.0376280546188354,
            1.0517657995224,
            1.0515035390853882,
            1.0505608320236206
           ]
          }
         ],
         "name": "frame15"
        },
        {
         "data": [
          {
           "line": {
            "color": "red",
            "width": 5
           },
           "marker": {
            "color": "blue",
            "size": 2
           },
           "text": [
            "RHip"
           ],
           "type": "scatter3d",
           "x": [
            -0.5085028409957886,
            -0.41105473041534424
           ],
           "y": [
            1.3310410976409912,
            1.256180763244629
           ],
           "z": [
            1.0512975454330444,
            1.0341414213180542
           ]
          },
          {
           "line": {
            "color": "red",
            "width": 5
           },
           "marker": {
            "color": "blue",
            "size": 2
           },
           "text": [
            "RKnee"
           ],
           "type": "scatter3d",
           "x": [
            -0.6167980432510376,
            -0.5085028409957886
           ],
           "y": [
            1.2116074562072754,
            1.3310410976409912
           ],
           "z": [
            0.6074799299240112,
            1.0512975454330444
           ]
          },
          {
           "line": {
            "color": "red",
            "width": 5
           },
           "marker": {
            "color": "blue",
            "size": 2
           },
           "text": [
            "RAnkle"
           ],
           "type": "scatter3d",
           "x": [
            -0.5535029172897339,
            -0.6167980432510376
           ],
           "y": [
            1.26808500289917,
            1.2116074562072754
           ],
           "z": [
            0.1465972661972046,
            0.6074799299240112
           ]
          },
          {
           "line": {
            "color": "black",
            "width": 5
           },
           "marker": {
            "color": "blue",
            "size": 2
           },
           "text": [
            "LHip"
           ],
           "type": "scatter3d",
           "x": [
            -0.3136059045791626,
            -0.41105473041534424
           ],
           "y": [
            1.1813209056854248,
            1.256180763244629
           ],
           "z": [
            1.0169867277145386,
            1.0341414213180542
           ]
          },
          {
           "line": {
            "color": "black",
            "width": 5
           },
           "marker": {
            "color": "blue",
            "size": 2
           },
           "text": [
            "LKnee"
           ],
           "type": "scatter3d",
           "x": [
            -0.3417562246322632,
            -0.3136059045791626
           ],
           "y": [
            1.2374019622802734,
            1.1813209056854248
           ],
           "z": [
            0.5489805936813354,
            1.0169867277145386
           ]
          },
          {
           "line": {
            "color": "black",
            "width": 5
           },
           "marker": {
            "color": "blue",
            "size": 2
           },
           "text": [
            "LAnkle"
           ],
           "type": "scatter3d",
           "x": [
            -0.3018254041671753,
            -0.3417562246322632
           ],
           "y": [
            1.420450210571289,
            1.2374019622802734
           ],
           "z": [
            0.11943709850311279,
            0.5489805936813354
           ]
          },
          {
           "line": {
            "color": "black",
            "width": 5
           },
           "marker": {
            "color": "blue",
            "size": 2
           },
           "text": [
            "Spine1"
           ],
           "type": "scatter3d",
           "x": [
            -0.41087353229522705,
            -0.41105473041534424
           ],
           "y": [
            1.254849910736084,
            1.256180763244629
           ],
           "z": [
            1.2904266119003296,
            1.0341414213180542
           ]
          },
          {
           "line": {
            "color": "black",
            "width": 5
           },
           "marker": {
            "color": "blue",
            "size": 2
           },
           "text": [
            "Neck"
           ],
           "type": "scatter3d",
           "x": [
            -0.44506585597991943,
            -0.41087353229522705
           ],
           "y": [
            1.2187583446502686,
            1.254849910736084
           ],
           "z": [
            1.5357974767684937,
            1.2904266119003296
           ]
          },
          {
           "line": {
            "color": "black",
            "width": 5
           },
           "marker": {
            "color": "blue",
            "size": 2
           },
           "text": [
            "Head"
           ],
           "type": "scatter3d",
           "x": [
            -0.4993964433670044,
            -0.44506585597991943
           ],
           "y": [
            1.154195785522461,
            1.2187583446502686
           ],
           "z": [
            1.621895670890808,
            1.5357974767684937
           ]
          },
          {
           "line": {
            "color": "black",
            "width": 5
           },
           "marker": {
            "color": "blue",
            "size": 2
           },
           "text": [
            "Site"
           ],
           "type": "scatter3d",
           "x": [
            -0.5026460886001587,
            -0.4993964433670044
           ],
           "y": [
            1.1534326076507568,
            1.154195785522461
           ],
           "z": [
            1.7368444204330444,
            1.621895670890808
           ]
          },
          {
           "line": {
            "color": "black",
            "width": 5
           },
           "marker": {
            "color": "blue",
            "size": 2
           },
           "text": [
            "LShoulder"
           ],
           "type": "scatter3d",
           "x": [
            -0.30026566982269287,
            -0.44506585597991943
           ],
           "y": [
            1.1277527809143066,
            1.2187583446502686
           ],
           "z": [
            1.4698671102523804,
            1.5357974767684937
           ]
          },
          {
           "line": {
            "color": "black",
            "width": 5
           },
           "marker": {
            "color": "blue",
            "size": 2
           },
           "text": [
            "LElbow"
           ],
           "type": "scatter3d",
           "x": [
            -0.16883575916290283,
            -0.30026566982269287
           ],
           "y": [
            1.0863149166107178,
            1.1277527809143066
           ],
           "z": [
            1.2075413465499878,
            1.4698671102523804
           ]
          },
          {
           "line": {
            "color": "black",
            "width": 5
           },
           "marker": {
            "color": "blue",
            "size": 2
           },
           "text": [
            "LWrist"
           ],
           "type": "scatter3d",
           "x": [
            -0.30507218837738037,
            -0.16883575916290283
           ],
           "y": [
            1.082629680633545,
            1.0863149166107178
           ],
           "z": [
            0.9991320371627808,
            1.2075413465499878
           ]
          },
          {
           "line": {
            "color": "red",
            "width": 5
           },
           "marker": {
            "color": "blue",
            "size": 2
           },
           "text": [
            "RShoulder"
           ],
           "type": "scatter3d",
           "x": [
            -0.5586820840835571,
            -0.44506585597991943
           ],
           "y": [
            1.3427505493164062,
            1.2187583446502686
           ],
           "z": [
            1.4629043340682983,
            1.5357974767684937
           ]
          },
          {
           "line": {
            "color": "red",
            "width": 5
           },
           "marker": {
            "color": "blue",
            "size": 2
           },
           "text": [
            "RElbow"
           ],
           "type": "scatter3d",
           "x": [
            -0.6135882139205933,
            -0.5586820840835571
           ],
           "y": [
            1.4805302619934082,
            1.3427505493164062
           ],
           "z": [
            1.2063740491867065,
            1.4629043340682983
           ]
          },
          {
           "line": {
            "color": "red",
            "width": 5
           },
           "marker": {
            "color": "blue",
            "size": 2
           },
           "text": [
            "RWrist"
           ],
           "type": "scatter3d",
           "x": [
            -0.6103485822677612,
            -0.6135882139205933
           ],
           "y": [
            1.3336074352264404,
            1.4805302619934082
           ],
           "z": [
            1.0053480863571167,
            1.2063740491867065
           ]
          },
          {
           "line": {
            "color": "#1f77b4",
            "width": 1
           },
           "marker": {
            "color": "#1f77b4",
            "size": 1
           },
           "type": "scatter3d",
           "x": [
            -0.0631488561630249,
            -0.23460090160369873,
            0.031986117362976074,
            0.9085721969604492,
            0.5869547128677368,
            -0.5753010511398315,
            -0.632104754447937,
            0.49917006492614746,
            0.8725070357322693,
            -0.0122908353805542,
            -0.8624705076217651,
            -0.3573344945907593,
            0.6926779747009277,
            1.0585362911224365,
            0.6983271837234497
           ],
           "y": [
            0.027873992919921875,
            -0.35009336471557617,
            -1.438657283782959,
            -0.2805147171020508,
            1.579770565032959,
            0.9985404014587402,
            -0.9113945960998535,
            -0.9276556968688965,
            0.6878371238708496,
            1.807086706161499,
            0.4292325973510742,
            -1.2573628425598145,
            -0.6638197898864746,
            0.874967098236084,
            2.2002804279327393
           ],
           "z": [
            1.0595725774765015,
            1.0333908796310425,
            1.04411780834198,
            1.0447648763656616,
            1.0300863981246948,
            1.0346969366073608,
            1.038784384727478,
            1.034580111503601,
            1.0448054075241089,
            1.0287479162216187,
            1.0376280546188354,
            1.0517657995224,
            1.0515035390853882,
            1.0505608320236206,
            1.0445762872695923
           ]
          }
         ],
         "name": "frame16"
        },
        {
         "data": [
          {
           "line": {
            "color": "red",
            "width": 5
           },
           "marker": {
            "color": "blue",
            "size": 2
           },
           "text": [
            "RHip"
           ],
           "type": "scatter3d",
           "x": [
            -0.9158166646957397,
            -0.7955857515335083
           ],
           "y": [
            -0.4475541114807129,
            -0.4227867126464844
           ],
           "z": [
            1.0592654943466187,
            1.0412229299545288
           ]
          },
          {
           "line": {
            "color": "red",
            "width": 5
           },
           "marker": {
            "color": "blue",
            "size": 2
           },
           "text": [
            "RKnee"
           ],
           "type": "scatter3d",
           "x": [
            -0.8825501203536987,
            -0.9158166646957397
           ],
           "y": [
            -0.4724717140197754,
            -0.4475541114807129
           ],
           "z": [
            0.5889052152633667,
            1.0592654943466187
           ]
          },
          {
           "line": {
            "color": "red",
            "width": 5
           },
           "marker": {
            "color": "blue",
            "size": 2
           },
           "text": [
            "RAnkle"
           ],
           "type": "scatter3d",
           "x": [
            -0.8845926523208618,
            -0.8825501203536987
           ],
           "y": [
            -0.33567190170288086,
            -0.4724717140197754
           ],
           "z": [
            0.14069736003875732,
            0.5889052152633667
           ]
          },
          {
           "line": {
            "color": "black",
            "width": 5
           },
           "marker": {
            "color": "blue",
            "size": 2
           },
           "text": [
            "LHip"
           ],
           "type": "scatter3d",
           "x": [
            -0.6753541231155396,
            -0.7955857515335083
           ],
           "y": [
            -0.39801979064941406,
            -0.4227867126464844
           ],
           "z": [
            1.0231798887252808,
            1.0412229299545288
           ]
          },
          {
           "line": {
            "color": "black",
            "width": 5
           },
           "marker": {
            "color": "blue",
            "size": 2
           },
           "text": [
            "LKnee"
           ],
           "type": "scatter3d",
           "x": [
            -0.6118487119674683,
            -0.6753541231155396
           ],
           "y": [
            -0.5543756484985352,
            -0.39801979064941406
           ],
           "z": [
            0.5821727514266968,
            1.0231798887252808
           ]
          },
          {
           "line": {
            "color": "black",
            "width": 5
           },
           "marker": {
            "color": "blue",
            "size": 2
           },
           "text": [
            "LAnkle"
           ],
           "type": "scatter3d",
           "x": [
            -0.7749944925308228,
            -0.6118487119674683
           ],
           "y": [
            -0.3974299430847168,
            -0.5543756484985352
           ],
           "z": [
            0.17185628414154053,
            0.5821727514266968
           ]
          },
          {
           "line": {
            "color": "black",
            "width": 5
           },
           "marker": {
            "color": "blue",
            "size": 2
           },
           "text": [
            "Spine1"
           ],
           "type": "scatter3d",
           "x": [
            -0.8187874555587769,
            -0.7955857515335083
           ],
           "y": [
            -0.4142327308654785,
            -0.4227867126464844
           ],
           "z": [
            1.2963141202926636,
            1.0412229299545288
           ]
          },
          {
           "line": {
            "color": "black",
            "width": 5
           },
           "marker": {
            "color": "blue",
            "size": 2
           },
           "text": [
            "Neck"
           ],
           "type": "scatter3d",
           "x": [
            -0.8234339952468872,
            -0.8187874555587769
           ],
           "y": [
            -0.45099353790283203,
            -0.4142327308654785
           ],
           "z": [
            1.543913722038269,
            1.2963141202926636
           ]
          },
          {
           "line": {
            "color": "black",
            "width": 5
           },
           "marker": {
            "color": "blue",
            "size": 2
           },
           "text": [
            "Head"
           ],
           "type": "scatter3d",
           "x": [
            -0.805519700050354,
            -0.8234339952468872
           ],
           "y": [
            -0.5245537757873535,
            -0.45099353790283203
           ],
           "z": [
            1.6377266645431519,
            1.543913722038269
           ]
          },
          {
           "line": {
            "color": "black",
            "width": 5
           },
           "marker": {
            "color": "blue",
            "size": 2
           },
           "text": [
            "Site"
           ],
           "type": "scatter3d",
           "x": [
            -0.8097978830337524,
            -0.805519700050354
           ],
           "y": [
            -0.5199594497680664,
            -0.5245537757873535
           ],
           "z": [
            1.75255286693573,
            1.6377266645431519
           ]
          },
          {
           "line": {
            "color": "black",
            "width": 5
           },
           "marker": {
            "color": "blue",
            "size": 2
           },
           "text": [
            "LShoulder"
           ],
           "type": "scatter3d",
           "x": [
            -0.6627382040023804,
            -0.8234339952468872
           ],
           "y": [
            -0.3840055465698242,
            -0.45099353790283203
           ],
           "z": [
            1.4865931272506714,
            1.543913722038269
           ]
          },
          {
           "line": {
            "color": "black",
            "width": 5
           },
           "marker": {
            "color": "blue",
            "size": 2
           },
           "text": [
            "LElbow"
           ],
           "type": "scatter3d",
           "x": [
            -0.530328631401062,
            -0.6627382040023804
           ],
           "y": [
            -0.31952714920043945,
            -0.3840055465698242
           ],
           "z": [
            1.2294620275497437,
            1.4865931272506714
           ]
          },
          {
           "line": {
            "color": "black",
            "width": 5
           },
           "marker": {
            "color": "blue",
            "size": 2
           },
           "text": [
            "LWrist"
           ],
           "type": "scatter3d",
           "x": [
            -0.598882794380188,
            -0.530328631401062
           ],
           "y": [
            -0.4620351791381836,
            -0.31952714920043945
           ],
           "z": [
            1.0371068716049194,
            1.2294620275497437
           ]
          },
          {
           "line": {
            "color": "red",
            "width": 5
           },
           "marker": {
            "color": "blue",
            "size": 2
           },
           "text": [
            "RShoulder"
           ],
           "type": "scatter3d",
           "x": [
            -0.985519289970398,
            -0.8234339952468872
           ],
           "y": [
            -0.474057674407959,
            -0.45099353790283203
           ],
           "z": [
            1.4614962339401245,
            1.543913722038269
           ]
          },
          {
           "line": {
            "color": "red",
            "width": 5
           },
           "marker": {
            "color": "blue",
            "size": 2
           },
           "text": [
            "RElbow"
           ],
           "type": "scatter3d",
           "x": [
            -1.1155980825424194,
            -0.985519289970398
           ],
           "y": [
            -0.46204185485839844,
            -0.474057674407959
           ],
           "z": [
            1.1955240964889526,
            1.4614962339401245
           ]
          },
          {
           "line": {
            "color": "red",
            "width": 5
           },
           "marker": {
            "color": "blue",
            "size": 2
           },
           "text": [
            "RWrist"
           ],
           "type": "scatter3d",
           "x": [
            -0.987078070640564,
            -1.1155980825424194
           ],
           "y": [
            -0.5378379821777344,
            -0.46204185485839844
           ],
           "z": [
            0.9961603879928589,
            1.1955240964889526
           ]
          },
          {
           "line": {
            "color": "#1f77b4",
            "width": 1
           },
           "marker": {
            "color": "#1f77b4",
            "size": 1
           },
           "type": "scatter3d",
           "x": [
            -0.0631488561630249,
            -0.23460090160369873,
            0.031986117362976074,
            0.9085721969604492,
            0.5869547128677368,
            -0.5753010511398315,
            -0.632104754447937,
            0.49917006492614746,
            0.8725070357322693,
            -0.0122908353805542,
            -0.8624705076217651,
            -0.3573344945907593,
            0.6926779747009277,
            1.0585362911224365,
            0.6983271837234497,
            -0.41105473041534424
           ],
           "y": [
            0.027873992919921875,
            -0.35009336471557617,
            -1.438657283782959,
            -0.2805147171020508,
            1.579770565032959,
            0.9985404014587402,
            -0.9113945960998535,
            -0.9276556968688965,
            0.6878371238708496,
            1.807086706161499,
            0.4292325973510742,
            -1.2573628425598145,
            -0.6638197898864746,
            0.874967098236084,
            2.2002804279327393,
            1.256180763244629
           ],
           "z": [
            1.0595725774765015,
            1.0333908796310425,
            1.04411780834198,
            1.0447648763656616,
            1.0300863981246948,
            1.0346969366073608,
            1.038784384727478,
            1.034580111503601,
            1.0448054075241089,
            1.0287479162216187,
            1.0376280546188354,
            1.0517657995224,
            1.0515035390853882,
            1.0505608320236206,
            1.0445762872695923,
            1.0341414213180542
           ]
          }
         ],
         "name": "frame17"
        }
       ],
       "layout": {
        "autosize": false,
        "height": 700,
        "scene": {
         "aspectratio": {
          "x": 1.1666666666666667,
          "y": 0.6666666666666666,
          "z": 1.1666666666666667
         },
         "camera": {
          "eye": {
           "x": -1.7428,
           "y": 1.0707,
           "z": 0.71
          },
          "up": {
           "x": 0,
           "y": 1,
           "z": 0
          }
         },
         "xaxis": {
          "range": [
           -2,
           5
          ]
         },
         "yaxis": {
          "range": [
           -2,
           2
          ]
         },
         "zaxis": {
          "range": [
           -2,
           5
          ]
         }
        },
        "sliders": [
         {
          "currentvalue": {
           "font": {
            "size": 12
           },
           "prefix": "slice: ",
           "visible": true,
           "xanchor": "center"
          },
          "len": 1,
          "steps": [
           {
            "args": [
             [
              "frame1"
             ],
             {
              "frame": {
               "duration": 70,
               "redraw": true
              },
              "mode": "immediate",
              "transition": {
               "duration": 0
              }
             }
            ],
            "label": "1",
            "method": "animate"
           },
           {
            "args": [
             [
              "frame2"
             ],
             {
              "frame": {
               "duration": 70,
               "redraw": true
              },
              "mode": "immediate",
              "transition": {
               "duration": 0
              }
             }
            ],
            "label": "2",
            "method": "animate"
           },
           {
            "args": [
             [
              "frame3"
             ],
             {
              "frame": {
               "duration": 70,
               "redraw": true
              },
              "mode": "immediate",
              "transition": {
               "duration": 0
              }
             }
            ],
            "label": "3",
            "method": "animate"
           },
           {
            "args": [
             [
              "frame4"
             ],
             {
              "frame": {
               "duration": 70,
               "redraw": true
              },
              "mode": "immediate",
              "transition": {
               "duration": 0
              }
             }
            ],
            "label": "4",
            "method": "animate"
           },
           {
            "args": [
             [
              "frame5"
             ],
             {
              "frame": {
               "duration": 70,
               "redraw": true
              },
              "mode": "immediate",
              "transition": {
               "duration": 0
              }
             }
            ],
            "label": "5",
            "method": "animate"
           },
           {
            "args": [
             [
              "frame6"
             ],
             {
              "frame": {
               "duration": 70,
               "redraw": true
              },
              "mode": "immediate",
              "transition": {
               "duration": 0
              }
             }
            ],
            "label": "6",
            "method": "animate"
           },
           {
            "args": [
             [
              "frame7"
             ],
             {
              "frame": {
               "duration": 70,
               "redraw": true
              },
              "mode": "immediate",
              "transition": {
               "duration": 0
              }
             }
            ],
            "label": "7",
            "method": "animate"
           },
           {
            "args": [
             [
              "frame8"
             ],
             {
              "frame": {
               "duration": 70,
               "redraw": true
              },
              "mode": "immediate",
              "transition": {
               "duration": 0
              }
             }
            ],
            "label": "8",
            "method": "animate"
           },
           {
            "args": [
             [
              "frame9"
             ],
             {
              "frame": {
               "duration": 70,
               "redraw": true
              },
              "mode": "immediate",
              "transition": {
               "duration": 0
              }
             }
            ],
            "label": "9",
            "method": "animate"
           },
           {
            "args": [
             [
              "frame10"
             ],
             {
              "frame": {
               "duration": 70,
               "redraw": true
              },
              "mode": "immediate",
              "transition": {
               "duration": 0
              }
             }
            ],
            "label": "10",
            "method": "animate"
           },
           {
            "args": [
             [
              "frame11"
             ],
             {
              "frame": {
               "duration": 70,
               "redraw": true
              },
              "mode": "immediate",
              "transition": {
               "duration": 0
              }
             }
            ],
            "label": "11",
            "method": "animate"
           },
           {
            "args": [
             [
              "frame12"
             ],
             {
              "frame": {
               "duration": 70,
               "redraw": true
              },
              "mode": "immediate",
              "transition": {
               "duration": 0
              }
             }
            ],
            "label": "12",
            "method": "animate"
           },
           {
            "args": [
             [
              "frame13"
             ],
             {
              "frame": {
               "duration": 70,
               "redraw": true
              },
              "mode": "immediate",
              "transition": {
               "duration": 0
              }
             }
            ],
            "label": "13",
            "method": "animate"
           },
           {
            "args": [
             [
              "frame14"
             ],
             {
              "frame": {
               "duration": 70,
               "redraw": true
              },
              "mode": "immediate",
              "transition": {
               "duration": 0
              }
             }
            ],
            "label": "14",
            "method": "animate"
           },
           {
            "args": [
             [
              "frame15"
             ],
             {
              "frame": {
               "duration": 70,
               "redraw": true
              },
              "mode": "immediate",
              "transition": {
               "duration": 0
              }
             }
            ],
            "label": "15",
            "method": "animate"
           },
           {
            "args": [
             [
              "frame16"
             ],
             {
              "frame": {
               "duration": 70,
               "redraw": true
              },
              "mode": "immediate",
              "transition": {
               "duration": 0
              }
             }
            ],
            "label": "16",
            "method": "animate"
           },
           {
            "args": [
             [
              "frame17"
             ],
             {
              "frame": {
               "duration": 70,
               "redraw": true
              },
              "mode": "immediate",
              "transition": {
               "duration": 0
              }
             }
            ],
            "label": "17",
            "method": "animate"
           }
          ],
          "transition": {
           "duration": 0
          },
          "x": 0,
          "y": 0
         }
        ],
        "title": {
         "text": "action animation"
        },
        "updatemenus": [
         {
          "buttons": [
           {
            "args": [
             null
            ],
            "label": "Play",
            "method": "animate"
           }
          ],
          "pad": {
           "r": 10,
           "t": 0
          },
          "showactive": false,
          "type": "buttons",
          "x": 1.3,
          "xanchor": "right",
          "y": 1,
          "yanchor": "top"
         }
        ],
        "width": 800
       }
      },
      "text/html": [
       "<div>\n",
       "        \n",
       "        \n",
       "            <div id=\"f9b99899-1eb6-477a-a9fd-de6bf56df544\" class=\"plotly-graph-div\" style=\"height:700px; width:800px;\"></div>\n",
       "            <script type=\"text/javascript\">\n",
       "                require([\"plotly\"], function(Plotly) {\n",
       "                    window.PLOTLYENV=window.PLOTLYENV || {};\n",
       "                    window.PLOTLYENV.BASE_URL='https://plot.ly';\n",
       "                    \n",
       "                if (document.getElementById(\"f9b99899-1eb6-477a-a9fd-de6bf56df544\")) {\n",
       "                    Plotly.newPlot(\n",
       "                        'f9b99899-1eb6-477a-a9fd-de6bf56df544',\n",
       "                        [{\"line\": {\"color\": \"red\", \"width\": 5}, \"marker\": {\"color\": \"blue\", \"size\": 2}, \"text\": [\"RHip\"], \"type\": \"scatter3d\", \"uid\": \"f71f55a1-d45c-43b8-9185-bd7f4a9b3cc6\", \"x\": [-0.18640506267547607, -0.0631488561630249], \"y\": [0.030482769012451172, 0.027873992919921875], \"z\": [1.07355535030365, 1.0595725774765015]}, {\"line\": {\"color\": \"red\", \"width\": 5}, \"marker\": {\"color\": \"blue\", \"size\": 2}, \"text\": [\"RKnee\"], \"type\": \"scatter3d\", \"uid\": \"87b1a93c-07b4-4992-a8d2-aa9ad9d7f414\", \"x\": [-0.20700037479400635, -0.18640506267547607], \"y\": [0.05394792556762695, 0.030482769012451172], \"z\": [0.6023958921432495, 1.07355535030365]}, {\"line\": {\"color\": \"red\", \"width\": 5}, \"marker\": {\"color\": \"blue\", \"size\": 2}, \"text\": [\"RAnkle\"], \"type\": \"scatter3d\", \"uid\": \"858424ac-3a34-4724-aefe-0a13e0807f63\", \"x\": [-0.22844421863555908, -0.20700037479400635], \"y\": [0.13534879684448242, 0.05394792556762695], \"z\": [0.1413935422897339, 0.6023958921432495]}, {\"line\": {\"color\": \"black\", \"width\": 5}, \"marker\": {\"color\": \"blue\", \"size\": 2}, \"text\": [\"LHip\"], \"type\": \"scatter3d\", \"uid\": \"e85c76ed-02bc-4a75-b1da-efe1d48bb97c\", \"x\": [0.06010794639587402, -0.0631488561630249], \"y\": [0.025265216827392578, 0.027873992919921875], \"z\": [1.0455893278121948, 1.0595725774765015]}, {\"line\": {\"color\": \"black\", \"width\": 5}, \"marker\": {\"color\": \"blue\", \"size\": 2}, \"text\": [\"LKnee\"], \"type\": \"scatter3d\", \"uid\": \"d6c132e9-d89d-43c0-b5f9-3f40b8ae832a\", \"x\": [0.09405386447906494, 0.06010794639587402], \"y\": [0.039391517639160156, 0.025265216827392578], \"z\": [0.5748289823532104, 1.0455893278121948]}, {\"line\": {\"color\": \"black\", \"width\": 5}, \"marker\": {\"color\": \"blue\", \"size\": 2}, \"text\": [\"LAnkle\"], \"type\": \"scatter3d\", \"uid\": \"3b115f8b-65b3-4104-8f2a-b7d3155f0b6c\", \"x\": [0.1280508041381836, 0.09405386447906494], \"y\": [0.1313467025756836, 0.039391517639160156], \"z\": [0.11657512187957764, 0.5748289823532104]}, {\"line\": {\"color\": \"black\", \"width\": 5}, \"marker\": {\"color\": \"blue\", \"size\": 2}, \"text\": [\"Spine1\"], \"type\": \"scatter3d\", \"uid\": \"a81a1cf6-ad1b-4bcd-a6a3-0c96c177c661\", \"x\": [-0.06343686580657959, -0.0631488561630249], \"y\": [0.021504878997802734, 0.027873992919921875], \"z\": [1.3157809972763062, 1.0595725774765015]}, {\"line\": {\"color\": \"black\", \"width\": 5}, \"marker\": {\"color\": \"blue\", \"size\": 2}, \"text\": [\"Neck\"], \"type\": \"scatter3d\", \"uid\": \"5f8f2922-c057-436e-a5fa-cddcf5265104\", \"x\": [-0.0612339973449707, -0.06343686580657959], \"y\": [0.03281068801879883, 0.021504878997802734], \"z\": [1.5658715963363647, 1.3157809972763062]}, {\"line\": {\"color\": \"black\", \"width\": 5}, \"marker\": {\"color\": \"blue\", \"size\": 2}, \"text\": [\"Head\"], \"type\": \"scatter3d\", \"uid\": \"b8723c27-ce10-4b16-b653-bd81eb035388\", \"x\": [-0.06429493427276611, -0.0612339973449707], \"y\": [-0.014664173126220703, 0.03281068801879883], \"z\": [1.6766408681869507, 1.5658715963363647]}, {\"line\": {\"color\": \"black\", \"width\": 5}, \"marker\": {\"color\": \"blue\", \"size\": 2}, \"text\": [\"Site\"], \"type\": \"scatter3d\", \"uid\": \"dbed5f85-cae3-4a86-8e4d-e096affc8fd6\", \"x\": [-0.06599664688110352, -0.06429493427276611], \"y\": [0.032628536224365234, -0.014664173126220703], \"z\": [1.7814496755599976, 1.6766408681869507]}, {\"line\": {\"color\": \"black\", \"width\": 5}, \"marker\": {\"color\": \"blue\", \"size\": 2}, \"text\": [\"LShoulder\"], \"type\": \"scatter3d\", \"uid\": \"52e48552-0d4a-492d-9b62-2b3595802aa2\", \"x\": [0.11827433109283447, -0.0612339973449707], \"y\": [0.06852579116821289, 0.03281068801879883], \"z\": [1.5560115575790405, 1.5658715963363647]}, {\"line\": {\"color\": \"black\", \"width\": 5}, \"marker\": {\"color\": \"blue\", \"size\": 2}, \"text\": [\"LElbow\"], \"type\": \"scatter3d\", \"uid\": \"e7d83e6e-b639-4a54-8c06-782546c55aa7\", \"x\": [0.4084223508834839, 0.11827433109283447], \"y\": [0.0897517204284668, 0.06852579116821289], \"z\": [1.499712347984314, 1.5560115575790405]}, {\"line\": {\"color\": \"black\", \"width\": 5}, \"marker\": {\"color\": \"blue\", \"size\": 2}, \"text\": [\"LWrist\"], \"type\": \"scatter3d\", \"uid\": \"01574fab-5157-4ae1-ae9c-4a4fc8a60eca\", \"x\": [0.6508501768112183, 0.4084223508834839], \"y\": [0.034529685974121094, 0.0897517204284668], \"z\": [1.4860109090805054, 1.499712347984314]}, {\"line\": {\"color\": \"red\", \"width\": 5}, \"marker\": {\"color\": \"blue\", \"size\": 2}, \"text\": [\"RShoulder\"], \"type\": \"scatter3d\", \"uid\": \"124b2fce-0121-412d-b7d0-c485c88d6cdd\", \"x\": [-0.24310028553009033, -0.0612339973449707], \"y\": [0.04822492599487305, 0.03281068801879883], \"z\": [1.549049735069275, 1.5658715963363647]}, {\"line\": {\"color\": \"red\", \"width\": 5}, \"marker\": {\"color\": \"blue\", \"size\": 2}, \"text\": [\"RElbow\"], \"type\": \"scatter3d\", \"uid\": \"c368e1dd-a059-4071-9e5f-fca423525759\", \"x\": [-0.5292855501174927, -0.24310028553009033], \"y\": [0.07156229019165039, 0.04822492599487305], \"z\": [1.475840449333191, 1.549049735069275]}, {\"line\": {\"color\": \"red\", \"width\": 5}, \"marker\": {\"color\": \"blue\", \"size\": 2}, \"text\": [\"RWrist\"], \"type\": \"scatter3d\", \"uid\": \"a2a402ae-fe5a-40e7-ad09-a4739953f9e7\", \"x\": [-0.7726694345474243, -0.5292855501174927], \"y\": [0.029078006744384766, 0.07156229019165039], \"z\": [1.4447325468063354, 1.475840449333191]}, {\"line\": {\"color\": \"#1f77b4\", \"width\": 1}, \"marker\": {\"color\": \"#1f77b4\", \"size\": 1}, \"type\": \"scatter3d\", \"uid\": \"98e5a1c9-589e-416f-8740-e5149e907c69\", \"x\": [], \"y\": [], \"z\": []}],\n",
       "                        {\"autosize\": false, \"height\": 700, \"scene\": {\"aspectratio\": {\"x\": 1.1666666666666667, \"y\": 0.6666666666666666, \"z\": 1.1666666666666667}, \"camera\": {\"eye\": {\"x\": -1.7428, \"y\": 1.0707, \"z\": 0.71}, \"up\": {\"x\": 0, \"y\": 1, \"z\": 0}}, \"xaxis\": {\"range\": [-2, 5]}, \"yaxis\": {\"range\": [-2, 2]}, \"zaxis\": {\"range\": [-2, 5]}}, \"sliders\": [{\"currentvalue\": {\"font\": {\"size\": 12}, \"prefix\": \"slice: \", \"visible\": true, \"xanchor\": \"center\"}, \"len\": 1.0, \"steps\": [{\"args\": [[\"frame1\"], {\"frame\": {\"duration\": 70, \"redraw\": true}, \"mode\": \"immediate\", \"transition\": {\"duration\": 0}}], \"label\": \"1\", \"method\": \"animate\"}, {\"args\": [[\"frame2\"], {\"frame\": {\"duration\": 70, \"redraw\": true}, \"mode\": \"immediate\", \"transition\": {\"duration\": 0}}], \"label\": \"2\", \"method\": \"animate\"}, {\"args\": [[\"frame3\"], {\"frame\": {\"duration\": 70, \"redraw\": true}, \"mode\": \"immediate\", \"transition\": {\"duration\": 0}}], \"label\": \"3\", \"method\": \"animate\"}, {\"args\": [[\"frame4\"], {\"frame\": {\"duration\": 70, \"redraw\": true}, \"mode\": \"immediate\", \"transition\": {\"duration\": 0}}], \"label\": \"4\", \"method\": \"animate\"}, {\"args\": [[\"frame5\"], {\"frame\": {\"duration\": 70, \"redraw\": true}, \"mode\": \"immediate\", \"transition\": {\"duration\": 0}}], \"label\": \"5\", \"method\": \"animate\"}, {\"args\": [[\"frame6\"], {\"frame\": {\"duration\": 70, \"redraw\": true}, \"mode\": \"immediate\", \"transition\": {\"duration\": 0}}], \"label\": \"6\", \"method\": \"animate\"}, {\"args\": [[\"frame7\"], {\"frame\": {\"duration\": 70, \"redraw\": true}, \"mode\": \"immediate\", \"transition\": {\"duration\": 0}}], \"label\": \"7\", \"method\": \"animate\"}, {\"args\": [[\"frame8\"], {\"frame\": {\"duration\": 70, \"redraw\": true}, \"mode\": \"immediate\", \"transition\": {\"duration\": 0}}], \"label\": \"8\", \"method\": \"animate\"}, {\"args\": [[\"frame9\"], {\"frame\": {\"duration\": 70, \"redraw\": true}, \"mode\": \"immediate\", \"transition\": {\"duration\": 0}}], \"label\": \"9\", \"method\": \"animate\"}, {\"args\": [[\"frame10\"], {\"frame\": {\"duration\": 70, \"redraw\": true}, \"mode\": \"immediate\", \"transition\": {\"duration\": 0}}], \"label\": \"10\", \"method\": \"animate\"}, {\"args\": [[\"frame11\"], {\"frame\": {\"duration\": 70, \"redraw\": true}, \"mode\": \"immediate\", \"transition\": {\"duration\": 0}}], \"label\": \"11\", \"method\": \"animate\"}, {\"args\": [[\"frame12\"], {\"frame\": {\"duration\": 70, \"redraw\": true}, \"mode\": \"immediate\", \"transition\": {\"duration\": 0}}], \"label\": \"12\", \"method\": \"animate\"}, {\"args\": [[\"frame13\"], {\"frame\": {\"duration\": 70, \"redraw\": true}, \"mode\": \"immediate\", \"transition\": {\"duration\": 0}}], \"label\": \"13\", \"method\": \"animate\"}, {\"args\": [[\"frame14\"], {\"frame\": {\"duration\": 70, \"redraw\": true}, \"mode\": \"immediate\", \"transition\": {\"duration\": 0}}], \"label\": \"14\", \"method\": \"animate\"}, {\"args\": [[\"frame15\"], {\"frame\": {\"duration\": 70, \"redraw\": true}, \"mode\": \"immediate\", \"transition\": {\"duration\": 0}}], \"label\": \"15\", \"method\": \"animate\"}, {\"args\": [[\"frame16\"], {\"frame\": {\"duration\": 70, \"redraw\": true}, \"mode\": \"immediate\", \"transition\": {\"duration\": 0}}], \"label\": \"16\", \"method\": \"animate\"}, {\"args\": [[\"frame17\"], {\"frame\": {\"duration\": 70, \"redraw\": true}, \"mode\": \"immediate\", \"transition\": {\"duration\": 0}}], \"label\": \"17\", \"method\": \"animate\"}], \"transition\": {\"duration\": 0}, \"x\": 0, \"y\": 0}], \"title\": {\"text\": \"action animation\"}, \"updatemenus\": [{\"buttons\": [{\"args\": [null], \"label\": \"Play\", \"method\": \"animate\"}], \"pad\": {\"r\": 10, \"t\": 0}, \"showactive\": false, \"type\": \"buttons\", \"x\": 1.3, \"xanchor\": \"right\", \"y\": 1, \"yanchor\": \"top\"}], \"width\": 800},\n",
       "                        {\"linkText\": \"Export to plot.ly\", \"showLink\": false, \"plotlyServerURL\": \"https://plot.ly\", \"responsive\": true}\n",
       "                    ).then(function(){\n",
       "                            Plotly.addFrames('f9b99899-1eb6-477a-a9fd-de6bf56df544', [{\"data\": [{\"type\": \"scatter3d\", \"line\": {\"color\": \"red\", \"width\": 5}, \"text\": [\"RHip\"], \"y\": [0.030482769012451172, 0.027873992919921875], \"marker\": {\"size\": 2, \"color\": \"blue\"}, \"x\": [-0.18640506267547607, -0.0631488561630249], \"z\": [1.07355535030365, 1.0595725774765015]}, {\"type\": \"scatter3d\", \"line\": {\"color\": \"red\", \"width\": 5}, \"text\": [\"RKnee\"], \"y\": [0.05394792556762695, 0.030482769012451172], \"marker\": {\"size\": 2, \"color\": \"blue\"}, \"x\": [-0.20700037479400635, -0.18640506267547607], \"z\": [0.6023958921432495, 1.07355535030365]}, {\"type\": \"scatter3d\", \"line\": {\"color\": \"red\", \"width\": 5}, \"text\": [\"RAnkle\"], \"y\": [0.13534879684448242, 0.05394792556762695], \"marker\": {\"size\": 2, \"color\": \"blue\"}, \"x\": [-0.22844421863555908, -0.20700037479400635], \"z\": [0.1413935422897339, 0.6023958921432495]}, {\"type\": \"scatter3d\", \"line\": {\"color\": \"black\", \"width\": 5}, \"text\": [\"LHip\"], \"y\": [0.025265216827392578, 0.027873992919921875], \"marker\": {\"size\": 2, \"color\": \"blue\"}, \"x\": [0.06010794639587402, -0.0631488561630249], \"z\": [1.0455893278121948, 1.0595725774765015]}, {\"type\": \"scatter3d\", \"line\": {\"color\": \"black\", \"width\": 5}, \"text\": [\"LKnee\"], \"y\": [0.039391517639160156, 0.025265216827392578], \"marker\": {\"size\": 2, \"color\": \"blue\"}, \"x\": [0.09405386447906494, 0.06010794639587402], \"z\": [0.5748289823532104, 1.0455893278121948]}, {\"type\": \"scatter3d\", \"line\": {\"color\": \"black\", \"width\": 5}, \"text\": [\"LAnkle\"], \"y\": [0.1313467025756836, 0.039391517639160156], \"marker\": {\"size\": 2, \"color\": \"blue\"}, \"x\": [0.1280508041381836, 0.09405386447906494], \"z\": [0.11657512187957764, 0.5748289823532104]}, {\"type\": \"scatter3d\", \"line\": {\"color\": \"black\", \"width\": 5}, \"text\": [\"Spine1\"], \"y\": [0.021504878997802734, 0.027873992919921875], \"marker\": {\"size\": 2, \"color\": \"blue\"}, \"x\": [-0.06343686580657959, -0.0631488561630249], \"z\": [1.3157809972763062, 1.0595725774765015]}, {\"type\": \"scatter3d\", \"line\": {\"color\": \"black\", \"width\": 5}, \"text\": [\"Neck\"], \"y\": [0.03281068801879883, 0.021504878997802734], \"marker\": {\"size\": 2, \"color\": \"blue\"}, \"x\": [-0.0612339973449707, -0.06343686580657959], \"z\": [1.5658715963363647, 1.3157809972763062]}, {\"type\": \"scatter3d\", \"line\": {\"color\": \"black\", \"width\": 5}, \"text\": [\"Head\"], \"y\": [-0.014664173126220703, 0.03281068801879883], \"marker\": {\"size\": 2, \"color\": \"blue\"}, \"x\": [-0.06429493427276611, -0.0612339973449707], \"z\": [1.6766408681869507, 1.5658715963363647]}, {\"type\": \"scatter3d\", \"line\": {\"color\": \"black\", \"width\": 5}, \"text\": [\"Site\"], \"y\": [0.032628536224365234, -0.014664173126220703], \"marker\": {\"size\": 2, \"color\": \"blue\"}, \"x\": [-0.06599664688110352, -0.06429493427276611], \"z\": [1.7814496755599976, 1.6766408681869507]}, {\"type\": \"scatter3d\", \"line\": {\"color\": \"black\", \"width\": 5}, \"text\": [\"LShoulder\"], \"y\": [0.06852579116821289, 0.03281068801879883], \"marker\": {\"size\": 2, \"color\": \"blue\"}, \"x\": [0.11827433109283447, -0.0612339973449707], \"z\": [1.5560115575790405, 1.5658715963363647]}, {\"type\": \"scatter3d\", \"line\": {\"color\": \"black\", \"width\": 5}, \"text\": [\"LElbow\"], \"y\": [0.0897517204284668, 0.06852579116821289], \"marker\": {\"size\": 2, \"color\": \"blue\"}, \"x\": [0.4084223508834839, 0.11827433109283447], \"z\": [1.499712347984314, 1.5560115575790405]}, {\"type\": \"scatter3d\", \"line\": {\"color\": \"black\", \"width\": 5}, \"text\": [\"LWrist\"], \"y\": [0.034529685974121094, 0.0897517204284668], \"marker\": {\"size\": 2, \"color\": \"blue\"}, \"x\": [0.6508501768112183, 0.4084223508834839], \"z\": [1.4860109090805054, 1.499712347984314]}, {\"type\": \"scatter3d\", \"line\": {\"color\": \"red\", \"width\": 5}, \"text\": [\"RShoulder\"], \"y\": [0.04822492599487305, 0.03281068801879883], \"marker\": {\"size\": 2, \"color\": \"blue\"}, \"x\": [-0.24310028553009033, -0.0612339973449707], \"z\": [1.549049735069275, 1.5658715963363647]}, {\"type\": \"scatter3d\", \"line\": {\"color\": \"red\", \"width\": 5}, \"text\": [\"RElbow\"], \"y\": [0.07156229019165039, 0.04822492599487305], \"marker\": {\"size\": 2, \"color\": \"blue\"}, \"x\": [-0.5292855501174927, -0.24310028553009033], \"z\": [1.475840449333191, 1.549049735069275]}, {\"type\": \"scatter3d\", \"line\": {\"color\": \"red\", \"width\": 5}, \"text\": [\"RWrist\"], \"y\": [0.029078006744384766, 0.07156229019165039], \"marker\": {\"size\": 2, \"color\": \"blue\"}, \"x\": [-0.7726694345474243, -0.5292855501174927], \"z\": [1.4447325468063354, 1.475840449333191]}, {\"type\": \"scatter3d\", \"line\": {\"color\": \"#1f77b4\", \"width\": 1}, \"y\": [], \"marker\": {\"size\": 1, \"color\": \"#1f77b4\"}, \"z\": [], \"x\": []}], \"name\": \"frame1\"}, {\"data\": [{\"type\": \"scatter3d\", \"line\": {\"color\": \"red\", \"width\": 5}, \"text\": [\"RHip\"], \"y\": [-0.30745363235473633, -0.35009336471557617], \"marker\": {\"size\": 2, \"color\": \"blue\"}, \"x\": [-0.35086190700531006, -0.23460090160369873], \"z\": [1.0411227941513062, 1.0333908796310425]}, {\"type\": \"scatter3d\", \"line\": {\"color\": \"red\", \"width\": 5}, \"text\": [\"RKnee\"], \"y\": [-0.25860071182250977, -0.30745363235473633], \"marker\": {\"size\": 2, \"color\": \"blue\"}, \"x\": [-0.3418229818344116, -0.35086190700531006], \"z\": [0.571550726890564, 1.0411227941513062]}, {\"type\": \"scatter3d\", \"line\": {\"color\": \"red\", \"width\": 5}, \"text\": [\"RAnkle\"], \"y\": [0.06671142578125, -0.25860071182250977], \"marker\": {\"size\": 2, \"color\": \"blue\"}, \"x\": [-0.2628523111343384, -0.3418229818344116], \"z\": [0.24361121654510498, 0.571550726890564]}, {\"type\": \"scatter3d\", \"line\": {\"color\": \"black\", \"width\": 5}, \"text\": [\"LHip\"], \"y\": [-0.3927335739135742, -0.35009336471557617], \"marker\": {\"size\": 2, \"color\": \"blue\"}, \"x\": [-0.1183398962020874, -0.23460090160369873], \"z\": [1.025659441947937, 1.0333908796310425]}, {\"type\": \"scatter3d\", \"line\": {\"color\": \"black\", \"width\": 5}, \"text\": [\"LKnee\"], \"y\": [-0.4929475784301758, -0.3927335739135742], \"marker\": {\"size\": 2, \"color\": \"blue\"}, \"x\": [-0.15986859798431396, -0.1183398962020874], \"z\": [0.5660942792892456, 1.025659441947937]}, {\"type\": \"scatter3d\", \"line\": {\"color\": \"black\", \"width\": 5}, \"text\": [\"LAnkle\"], \"y\": [-0.49761247634887695, -0.4929475784301758], \"marker\": {\"size\": 2, \"color\": \"blue\"}, \"x\": [-0.18972814083099365, -0.15986859798431396], \"z\": [0.09844624996185303, 0.5660942792892456]}, {\"type\": \"scatter3d\", \"line\": {\"color\": \"black\", \"width\": 5}, \"text\": [\"Spine1\"], \"y\": [-0.35722875595092773, -0.35009336471557617], \"marker\": {\"size\": 2, \"color\": \"blue\"}, \"x\": [-0.24290478229522705, -0.23460090160369873], \"z\": [1.2894452810287476, 1.0333908796310425]}, {\"type\": \"scatter3d\", \"line\": {\"color\": \"black\", \"width\": 5}, \"text\": [\"Neck\"], \"y\": [-0.4008646011352539, -0.35722875595092773], \"marker\": {\"size\": 2, \"color\": \"blue\"}, \"x\": [-0.24972736835479736, -0.24290478229522705], \"z\": [1.535875678062439, 1.2894452810287476]}, {\"type\": \"scatter3d\", \"line\": {\"color\": \"black\", \"width\": 5}, \"text\": [\"Head\"], \"y\": [-0.48743295669555664, -0.4008646011352539], \"marker\": {\"size\": 2, \"color\": \"blue\"}, \"x\": [-0.2611180543899536, -0.24972736835479736], \"z\": [1.6189974546432495, 1.535875678062439]}, {\"type\": \"scatter3d\", \"line\": {\"color\": \"black\", \"width\": 5}, \"text\": [\"Site\"], \"y\": [-0.49300241470336914, -0.48743295669555664], \"marker\": {\"size\": 2, \"color\": \"blue\"}, \"x\": [-0.26652801036834717, -0.2611180543899536], \"z\": [1.7337321043014526, 1.6189974546432495]}, {\"type\": \"scatter3d\", \"line\": {\"color\": \"black\", \"width\": 5}, \"text\": [\"LShoulder\"], \"y\": [-0.40549135208129883, -0.4008646011352539], \"marker\": {\"size\": 2, \"color\": \"blue\"}, \"x\": [-0.08121967315673828, -0.24972736835479736], \"z\": [1.4639047384262085, 1.535875678062439]}, {\"type\": \"scatter3d\", \"line\": {\"color\": \"black\", \"width\": 5}, \"text\": [\"LElbow\"], \"y\": [-0.3710908889770508, -0.40549135208129883], \"marker\": {\"size\": 2, \"color\": \"blue\"}, \"x\": [0.02962470054626465, -0.08121967315673828], \"z\": [1.1912587881088257, 1.4639047384262085]}, {\"type\": \"scatter3d\", \"line\": {\"color\": \"black\", \"width\": 5}, \"text\": [\"LWrist\"], \"y\": [-0.3987894058227539, -0.3710908889770508], \"marker\": {\"size\": 2, \"color\": \"blue\"}, \"x\": [0.013332128524780273, 0.02962470054626465], \"z\": [0.9443248510360718, 1.1912587881088257]}, {\"type\": \"scatter3d\", \"line\": {\"color\": \"red\", \"width\": 5}, \"text\": [\"RShoulder\"], \"y\": [-0.32838916778564453, -0.4008646011352539], \"marker\": {\"size\": 2, \"color\": \"blue\"}, \"x\": [-0.4033759832382202, -0.24972736835479736], \"z\": [1.4670614004135132, 1.535875678062439]}, {\"type\": \"scatter3d\", \"line\": {\"color\": \"red\", \"width\": 5}, \"text\": [\"RElbow\"], \"y\": [-0.2677950859069824, -0.32838916778564453], \"marker\": {\"size\": 2, \"color\": \"blue\"}, \"x\": [-0.48690545558929443, -0.4033759832382202], \"z\": [1.1892894506454468, 1.4670614004135132]}, {\"type\": \"scatter3d\", \"line\": {\"color\": \"red\", \"width\": 5}, \"text\": [\"RWrist\"], \"y\": [-0.3243904113769531, -0.2677950859069824], \"marker\": {\"size\": 2, \"color\": \"blue\"}, \"x\": [-0.5227330923080444, -0.48690545558929443], \"z\": [0.94945228099823, 1.1892894506454468]}, {\"type\": \"scatter3d\", \"line\": {\"color\": \"#1f77b4\", \"width\": 1}, \"y\": [0.027873992919921875], \"marker\": {\"size\": 1, \"color\": \"#1f77b4\"}, \"z\": [1.0595725774765015], \"x\": [-0.0631488561630249]}], \"name\": \"frame2\"}, {\"data\": [{\"type\": \"scatter3d\", \"line\": {\"color\": \"red\", \"width\": 5}, \"text\": [\"RHip\"], \"y\": [-1.5571231842041016, -1.438657283782959], \"marker\": {\"size\": 2, \"color\": \"blue\"}, \"x\": [0.059352874755859375, 0.031986117362976074], \"z\": [1.0688408613204956, 1.04411780834198]}, {\"type\": \"scatter3d\", \"line\": {\"color\": \"red\", \"width\": 5}, \"text\": [\"RKnee\"], \"y\": [-1.5481181144714355, -1.5571231842041016], \"marker\": {\"size\": 2, \"color\": \"blue\"}, \"x\": [0.17554152011871338, 0.059352874755859375], \"z\": [0.6112536191940308, 1.0688408613204956]}, {\"type\": \"scatter3d\", \"line\": {\"color\": \"red\", \"width\": 5}, \"text\": [\"RAnkle\"], \"y\": [-1.6233153343200684, -1.5481181144714355], \"marker\": {\"size\": 2, \"color\": \"blue\"}, \"x\": [0.10740506649017334, 0.17554152011871338], \"z\": [0.15374791622161865, 0.6112536191940308]}, {\"type\": \"scatter3d\", \"line\": {\"color\": \"black\", \"width\": 5}, \"text\": [\"LHip\"], \"y\": [-1.3201904296875, -1.438657283782959], \"marker\": {\"size\": 2, \"color\": \"blue\"}, \"x\": [0.004619598388671875, 0.031986117362976074], \"z\": [1.0193957090377808, 1.04411780834198]}, {\"type\": \"scatter3d\", \"line\": {\"color\": \"black\", \"width\": 5}, \"text\": [\"LKnee\"], \"y\": [-1.3622560501098633, -1.3201904296875], \"marker\": {\"size\": 2, \"color\": \"blue\"}, \"x\": [-0.015812993049621582, 0.004619598388671875], \"z\": [0.5495222806930542, 1.0193957090377808]}, {\"type\": \"scatter3d\", \"line\": {\"color\": \"black\", \"width\": 5}, \"text\": [\"LAnkle\"], \"y\": [-1.4186782836914062, -1.3622560501098633], \"marker\": {\"size\": 2, \"color\": \"blue\"}, \"x\": [-0.2872825860977173, -0.015812993049621582], \"z\": [0.1717280149459839, 0.5495222806930542]}, {\"type\": \"scatter3d\", \"line\": {\"color\": \"black\", \"width\": 5}, \"text\": [\"Spine1\"], \"y\": [-1.449394702911377, -1.438657283782959], \"marker\": {\"size\": 2, \"color\": \"blue\"}, \"x\": [0.03071451187133789, 0.031986117362976074], \"z\": [1.3001755475997925, 1.04411780834198]}, {\"type\": \"scatter3d\", \"line\": {\"color\": \"black\", \"width\": 5}, \"text\": [\"Neck\"], \"y\": [-1.4402422904968262, -1.449394702911377], \"marker\": {\"size\": 2, \"color\": \"blue\"}, \"x\": [0.06539952754974365, 0.03071451187133789], \"z\": [1.5479496717453003, 1.3001755475997925]}, {\"type\": \"scatter3d\", \"line\": {\"color\": \"black\", \"width\": 5}, \"text\": [\"Head\"], \"y\": [-1.4158611297607422, -1.4402422904968262], \"marker\": {\"size\": 2, \"color\": \"blue\"}, \"x\": [0.14908254146575928, 0.06539952754974365], \"z\": [1.6312307119369507, 1.5479496717453003]}, {\"type\": \"scatter3d\", \"line\": {\"color\": \"black\", \"width\": 5}, \"text\": [\"Site\"], \"y\": [-1.4210658073425293, -1.4158611297607422], \"marker\": {\"size\": 2, \"color\": \"blue\"}, \"x\": [0.1575394868850708, 0.14908254146575928], \"z\": [1.7457979917526245, 1.6312307119369507]}, {\"type\": \"scatter3d\", \"line\": {\"color\": \"black\", \"width\": 5}, \"text\": [\"LShoulder\"], \"y\": [-1.2826919555664062, -1.4402422904968262], \"marker\": {\"size\": 2, \"color\": \"blue\"}, \"x\": [0.0017898082733154297, 0.06539952754974365], \"z\": [1.4791940450668335, 1.5479496717453003]}, {\"type\": \"scatter3d\", \"line\": {\"color\": \"black\", \"width\": 5}, \"text\": [\"LElbow\"], \"y\": [-1.1884760856628418, -1.2826919555664062], \"marker\": {\"size\": 2, \"color\": \"blue\"}, \"x\": [-0.057341933250427246, 0.0017898082733154297], \"z\": [1.2045434713363647, 1.4791940450668335]}, {\"type\": \"scatter3d\", \"line\": {\"color\": \"black\", \"width\": 5}, \"text\": [\"LWrist\"], \"y\": [-1.1572751998901367, -1.1884760856628418], \"marker\": {\"size\": 2, \"color\": \"blue\"}, \"x\": [-0.01759326457977295, -0.057341933250427246], \"z\": [0.9607094526290894, 1.2045434713363647]}, {\"type\": \"scatter3d\", \"line\": {\"color\": \"red\", \"width\": 5}, \"text\": [\"RShoulder\"], \"y\": [-1.6066689491271973, -1.4402422904968262], \"marker\": {\"size\": 2, \"color\": \"blue\"}, \"x\": [0.0735403299331665, 0.06539952754974365], \"z\": [1.4715794324874878, 1.5479496717453003]}, {\"type\": \"scatter3d\", \"line\": {\"color\": \"red\", \"width\": 5}, \"text\": [\"RElbow\"], \"y\": [-1.7116522789001465, -1.6066689491271973], \"marker\": {\"size\": 2, \"color\": \"blue\"}, \"x\": [0.03747546672821045, 0.0735403299331665], \"z\": [1.1968377828598022, 1.4715794324874878]}, {\"type\": \"scatter3d\", \"line\": {\"color\": \"red\", \"width\": 5}, \"text\": [\"RWrist\"], \"y\": [-1.7183995246887207, -1.7116522789001465], \"marker\": {\"size\": 2, \"color\": \"blue\"}, \"x\": [0.07706844806671143, 0.03747546672821045], \"z\": [0.9510830640792847, 1.1968377828598022]}, {\"type\": \"scatter3d\", \"line\": {\"color\": \"#1f77b4\", \"width\": 1}, \"y\": [0.027873992919921875, -0.35009336471557617], \"marker\": {\"size\": 1, \"color\": \"#1f77b4\"}, \"z\": [1.0595725774765015, 1.0333908796310425], \"x\": [-0.0631488561630249, -0.23460090160369873]}], \"name\": \"frame3\"}, {\"data\": [{\"type\": \"scatter3d\", \"line\": {\"color\": \"red\", \"width\": 5}, \"text\": [\"RHip\"], \"y\": [-0.3131113052368164, -0.2805147171020508], \"marker\": {\"size\": 2, \"color\": \"blue\"}, \"x\": [1.0263625383377075, 0.9085721969604492], \"z\": [1.0661510229110718, 1.0447648763656616]}, {\"type\": \"scatter3d\", \"line\": {\"color\": \"red\", \"width\": 5}, \"text\": [\"RKnee\"], \"y\": [-0.4166088104248047, -0.3131113052368164], \"marker\": {\"size\": 2, \"color\": \"blue\"}, \"x\": [1.0354632139205933, 1.0263625383377075], \"z\": [0.6055301427841187, 1.0661510229110718]}, {\"type\": \"scatter3d\", \"line\": {\"color\": \"red\", \"width\": 5}, \"text\": [\"RAnkle\"], \"y\": [-0.7148404121398926, -0.4166088104248047], \"marker\": {\"size\": 2, \"color\": \"blue\"}, \"x\": [0.9682855606079102, 1.0354632139205933], \"z\": [0.25034797191619873, 0.6055301427841187]}, {\"type\": \"scatter3d\", \"line\": {\"color\": \"black\", \"width\": 5}, \"text\": [\"LHip\"], \"y\": [-0.24791908264160156, -0.2805147171020508], \"marker\": {\"size\": 2, \"color\": \"blue\"}, \"x\": [0.7907811403274536, 0.9085721969604492], \"z\": [1.023377776145935, 1.0447648763656616]}, {\"type\": \"scatter3d\", \"line\": {\"color\": \"black\", \"width\": 5}, \"text\": [\"LKnee\"], \"y\": [-0.1327056884765625, -0.24791908264160156], \"marker\": {\"size\": 2, \"color\": \"blue\"}, \"x\": [0.8415430784225464, 0.7907811403274536], \"z\": [0.5682767629623413, 1.023377776145935]}, {\"type\": \"scatter3d\", \"line\": {\"color\": \"black\", \"width\": 5}, \"text\": [\"LAnkle\"], \"y\": [-0.1144719123840332, -0.1327056884765625], \"marker\": {\"size\": 2, \"color\": \"blue\"}, \"x\": [0.9019390344619751, 0.8415430784225464], \"z\": [0.10391891002655029, 0.5682767629623413]}, {\"type\": \"scatter3d\", \"line\": {\"color\": \"black\", \"width\": 5}, \"text\": [\"Spine1\"], \"y\": [-0.29083251953125, -0.2805147171020508], \"marker\": {\"size\": 2, \"color\": \"blue\"}, \"x\": [0.904992938041687, 0.9085721969604492], \"z\": [1.3008188009262085, 1.0447648763656616]}, {\"type\": \"scatter3d\", \"line\": {\"color\": \"black\", \"width\": 5}, \"text\": [\"Neck\"], \"y\": [-0.25798940658569336, -0.29083251953125], \"marker\": {\"size\": 2, \"color\": \"blue\"}, \"x\": [0.8889139890670776, 0.904992938041687], \"z\": [1.5484904050827026, 1.3008188009262085]}, {\"type\": \"scatter3d\", \"line\": {\"color\": \"black\", \"width\": 5}, \"text\": [\"Head\"], \"y\": [-0.18175888061523438, -0.25798940658569336], \"marker\": {\"size\": 2, \"color\": \"blue\"}, \"x\": [0.8912473320960999, 0.8889139890670776], \"z\": [1.6418522596359253, 1.5484904050827026]}, {\"type\": \"scatter3d\", \"line\": {\"color\": \"black\", \"width\": 5}, \"text\": [\"Site\"], \"y\": [-0.20040559768676758, -0.18175888061523438], \"marker\": {\"size\": 2, \"color\": \"blue\"}, \"x\": [0.8796947598457336, 0.8912473320960999], \"z\": [1.754738211631775, 1.6418522596359253]}, {\"type\": \"scatter3d\", \"line\": {\"color\": \"black\", \"width\": 5}, \"text\": [\"LShoulder\"], \"y\": [-0.2547450065612793, -0.25798940658569336], \"marker\": {\"size\": 2, \"color\": \"blue\"}, \"x\": [0.7284785509109497, 0.8889139890670776], \"z\": [1.4599131345748901, 1.5484904050827026]}, {\"type\": \"scatter3d\", \"line\": {\"color\": \"black\", \"width\": 5}, \"text\": [\"LElbow\"], \"y\": [-0.31091976165771484, -0.2547450065612793], \"marker\": {\"size\": 2, \"color\": \"blue\"}, \"x\": [0.6519005298614502, 0.7284785509109497], \"z\": [1.1792243719100952, 1.4599131345748901]}, {\"type\": \"scatter3d\", \"line\": {\"color\": \"black\", \"width\": 5}, \"text\": [\"LWrist\"], \"y\": [-0.3058614730834961, -0.31091976165771484], \"marker\": {\"size\": 2, \"color\": \"blue\"}, \"x\": [0.6682678461074829, 0.6519005298614502], \"z\": [0.9307998418807983, 1.1792243719100952]}, {\"type\": \"scatter3d\", \"line\": {\"color\": \"red\", \"width\": 5}, \"text\": [\"RShoulder\"], \"y\": [-0.30048608779907227, -0.25798940658569336], \"marker\": {\"size\": 2, \"color\": \"blue\"}, \"x\": [1.0541226863861084, 0.8889139890670776], \"z\": [1.4814366102218628, 1.5484904050827026]}, {\"type\": \"scatter3d\", \"line\": {\"color\": \"red\", \"width\": 5}, \"text\": [\"RElbow\"], \"y\": [-0.3167839050292969, -0.30048608779907227], \"marker\": {\"size\": 2, \"color\": \"blue\"}, \"x\": [1.1709058284759521, 1.0541226863861084], \"z\": [1.2095874547958374, 1.4814366102218628]}, {\"type\": \"scatter3d\", \"line\": {\"color\": \"red\", \"width\": 5}, \"text\": [\"RWrist\"], \"y\": [-0.1797313690185547, -0.3167839050292969], \"marker\": {\"size\": 2, \"color\": \"blue\"}, \"x\": [1.1801884174346924, 1.1709058284759521], \"z\": [1.0018881559371948, 1.2095874547958374]}, {\"type\": \"scatter3d\", \"line\": {\"color\": \"#1f77b4\", \"width\": 1}, \"y\": [0.027873992919921875, -0.35009336471557617, -1.438657283782959], \"marker\": {\"size\": 1, \"color\": \"#1f77b4\"}, \"z\": [1.0595725774765015, 1.0333908796310425, 1.04411780834198], \"x\": [-0.0631488561630249, -0.23460090160369873, 0.031986117362976074]}], \"name\": \"frame4\"}, {\"data\": [{\"type\": \"scatter3d\", \"line\": {\"color\": \"red\", \"width\": 5}, \"text\": [\"RHip\"], \"y\": [1.6579053401947021, 1.579770565032959], \"marker\": {\"size\": 2, \"color\": \"blue\"}, \"x\": [0.6789563894271851, 0.5869547128677368], \"z\": [1.0588103532791138, 1.0300863981246948]}, {\"type\": \"scatter3d\", \"line\": {\"color\": \"red\", \"width\": 5}, \"text\": [\"RKnee\"], \"y\": [1.785735845565796, 1.6579053401947021], \"marker\": {\"size\": 2, \"color\": \"blue\"}, \"x\": [0.5931777954101562, 0.6789563894271851], \"z\": [0.6124166250228882, 1.0588103532791138]}, {\"type\": \"scatter3d\", \"line\": {\"color\": \"red\", \"width\": 5}, \"text\": [\"RAnkle\"], \"y\": [1.759554147720337, 1.785735845565796], \"marker\": {\"size\": 2, \"color\": \"blue\"}, \"x\": [0.6719238758087158, 0.5931777954101562], \"z\": [0.15119850635528564, 0.6124166250228882]}, {\"type\": \"scatter3d\", \"line\": {\"color\": \"black\", \"width\": 5}, \"text\": [\"LHip\"], \"y\": [1.5016350746154785, 1.579770565032959], \"marker\": {\"size\": 2, \"color\": \"blue\"}, \"x\": [0.49495255947113037, 0.5869547128677368], \"z\": [1.0013619661331177, 1.0300863981246948]}, {\"type\": \"scatter3d\", \"line\": {\"color\": \"black\", \"width\": 5}, \"text\": [\"LKnee\"], \"y\": [1.4850361347198486, 1.5016350746154785], \"marker\": {\"size\": 2, \"color\": \"blue\"}, \"x\": [0.5592125654220581, 0.49495255947113037], \"z\": [0.5338553190231323, 1.0013619661331177]}, {\"type\": \"scatter3d\", \"line\": {\"color\": \"black\", \"width\": 5}, \"text\": [\"LAnkle\"], \"y\": [1.227064609527588, 1.4850361347198486], \"marker\": {\"size\": 2, \"color\": \"blue\"}, \"x\": [0.8385576009750366, 0.5592125654220581], \"z\": [0.25994718074798584, 0.5338553190231323]}, {\"type\": \"scatter3d\", \"line\": {\"color\": \"black\", \"width\": 5}, \"text\": [\"Spine1\"], \"y\": [1.5658726692199707, 1.579770565032959], \"marker\": {\"size\": 2, \"color\": \"blue\"}, \"x\": [0.5998120307922363, 0.5869547128677368], \"z\": [1.2856720685958862, 1.0300863981246948]}, {\"type\": \"scatter3d\", \"line\": {\"color\": \"black\", \"width\": 5}, \"text\": [\"Neck\"], \"y\": [1.5820832252502441, 1.5658726692199707], \"marker\": {\"size\": 2, \"color\": \"blue\"}, \"x\": [0.5907220840454102, 0.5998120307922363], \"z\": [1.535338282585144, 1.2856720685958862]}, {\"type\": \"scatter3d\", \"line\": {\"color\": \"black\", \"width\": 5}, \"text\": [\"Head\"], \"y\": [1.6332077980041504, 1.5820832252502441], \"marker\": {\"size\": 2, \"color\": \"blue\"}, \"x\": [0.5360640287399292, 0.5907220840454102], \"z\": [1.629846215248108, 1.535338282585144]}, {\"type\": \"scatter3d\", \"line\": {\"color\": \"black\", \"width\": 5}, \"text\": [\"Site\"], \"y\": [1.6262931823730469, 1.6332077980041504], \"marker\": {\"size\": 2, \"color\": \"blue\"}, \"x\": [0.5423494577407837, 0.5360640287399292], \"z\": [1.7444626092910767, 1.629846215248108]}, {\"type\": \"scatter3d\", \"line\": {\"color\": \"black\", \"width\": 5}, \"text\": [\"LShoulder\"], \"y\": [1.4623398780822754, 1.5820832252502441], \"marker\": {\"size\": 2, \"color\": \"blue\"}, \"x\": [0.4715232849121094, 0.5907220840454102], \"z\": [1.4642778635025024, 1.535338282585144]}, {\"type\": \"scatter3d\", \"line\": {\"color\": \"black\", \"width\": 5}, \"text\": [\"LElbow\"], \"y\": [1.398444652557373, 1.4623398780822754], \"marker\": {\"size\": 2, \"color\": \"blue\"}, \"x\": [0.4145606756210327, 0.4715232849121094], \"z\": [1.1805905103683472, 1.4642778635025024]}, {\"type\": \"scatter3d\", \"line\": {\"color\": \"black\", \"width\": 5}, \"text\": [\"LWrist\"], \"y\": [1.4589259624481201, 1.398444652557373], \"marker\": {\"size\": 2, \"color\": \"blue\"}, \"x\": [0.3773003816604614, 0.4145606756210327], \"z\": [0.9419225454330444, 1.1805905103683472]}, {\"type\": \"scatter3d\", \"line\": {\"color\": \"red\", \"width\": 5}, \"text\": [\"RShoulder\"], \"y\": [1.6680998802185059, 1.5820832252502441], \"marker\": {\"size\": 2, \"color\": \"blue\"}, \"x\": [0.7307721376419067, 0.5907220840454102], \"z\": [1.4542022943496704, 1.535338282585144]}, {\"type\": \"scatter3d\", \"line\": {\"color\": \"red\", \"width\": 5}, \"text\": [\"RElbow\"], \"y\": [1.6884543895721436, 1.6680998802185059], \"marker\": {\"size\": 2, \"color\": \"blue\"}, \"x\": [0.8193732500076294, 0.7307721376419067], \"z\": [1.172171950340271, 1.4542022943496704]}, {\"type\": \"scatter3d\", \"line\": {\"color\": \"red\", \"width\": 5}, \"text\": [\"RWrist\"], \"y\": [1.7503745555877686, 1.6884543895721436], \"marker\": {\"size\": 2, \"color\": \"blue\"}, \"x\": [0.8064199686050415, 0.8193732500076294], \"z\": [0.9313262701034546, 1.172171950340271]}, {\"type\": \"scatter3d\", \"line\": {\"color\": \"#1f77b4\", \"width\": 1}, \"y\": [0.027873992919921875, -0.35009336471557617, -1.438657283782959, -0.2805147171020508], \"marker\": {\"size\": 1, \"color\": \"#1f77b4\"}, \"z\": [1.0595725774765015, 1.0333908796310425, 1.04411780834198, 1.0447648763656616], \"x\": [-0.0631488561630249, -0.23460090160369873, 0.031986117362976074, 0.9085721969604492]}], \"name\": \"frame5\"}, {\"data\": [{\"type\": \"scatter3d\", \"line\": {\"color\": \"red\", \"width\": 5}, \"text\": [\"RHip\"], \"y\": [1.053907871246338, 0.9985404014587402], \"marker\": {\"size\": 2, \"color\": \"blue\"}, \"x\": [-0.6859346628189087, -0.5753010511398315], \"z\": [1.044129729270935, 1.0346969366073608]}, {\"type\": \"scatter3d\", \"line\": {\"color\": \"red\", \"width\": 5}, \"text\": [\"RKnee\"], \"y\": [1.0750772953033447, 1.053907871246338], \"marker\": {\"size\": 2, \"color\": \"blue\"}, \"x\": [-0.7520488500595093, -0.6859346628189087], \"z\": [0.5770682096481323, 1.044129729270935]}, {\"type\": \"scatter3d\", \"line\": {\"color\": \"red\", \"width\": 5}, \"text\": [\"RAnkle\"], \"y\": [1.4143147468566895, 1.0750772953033447], \"marker\": {\"size\": 2, \"color\": \"blue\"}, \"x\": [-0.5697485208511353, -0.7520488500595093], \"z\": [0.31005990505218506, 0.5770682096481323]}, {\"type\": \"scatter3d\", \"line\": {\"color\": \"black\", \"width\": 5}, \"text\": [\"LHip\"], \"y\": [0.9431719779968262, 0.9985404014587402], \"marker\": {\"size\": 2, \"color\": \"blue\"}, \"x\": [-0.464666485786438, -0.5753010511398315], \"z\": [1.025262713432312, 1.0346969366073608]}, {\"type\": \"scatter3d\", \"line\": {\"color\": \"black\", \"width\": 5}, \"text\": [\"LKnee\"], \"y\": [0.8837680816650391, 0.9431719779968262], \"marker\": {\"size\": 2, \"color\": \"blue\"}, \"x\": [-0.5293680429458618, -0.464666485786438], \"z\": [0.5613101720809937, 1.025262713432312]}, {\"type\": \"scatter3d\", \"line\": {\"color\": \"black\", \"width\": 5}, \"text\": [\"LAnkle\"], \"y\": [0.9351925849914551, 0.8837680816650391], \"marker\": {\"size\": 2, \"color\": \"blue\"}, \"x\": [-0.5790053606033325, -0.5293680429458618], \"z\": [0.09816920757293701, 0.5613101720809937]}, {\"type\": \"scatter3d\", \"line\": {\"color\": \"black\", \"width\": 5}, \"text\": [\"Spine1\"], \"y\": [1.0050323009490967, 0.9985404014587402], \"marker\": {\"size\": 2, \"color\": \"blue\"}, \"x\": [-0.5796502828598022, -0.5753010511398315], \"z\": [1.2908662557601929, 1.0346969366073608]}, {\"type\": \"scatter3d\", \"line\": {\"color\": \"black\", \"width\": 5}, \"text\": [\"Neck\"], \"y\": [0.9701197147369385, 1.0050323009490967], \"marker\": {\"size\": 2, \"color\": \"blue\"}, \"x\": [-0.581210732460022, -0.5796502828598022], \"z\": [1.5387715101242065, 1.2908662557601929]}, {\"type\": \"scatter3d\", \"line\": {\"color\": \"black\", \"width\": 5}, \"text\": [\"Head\"], \"y\": [0.8904833793640137, 0.9701197147369385], \"marker\": {\"size\": 2, \"color\": \"blue\"}, \"x\": [-0.5910807847976685, -0.581210732460022], \"z\": [1.6287363767623901, 1.5387715101242065]}, {\"type\": \"scatter3d\", \"line\": {\"color\": \"black\", \"width\": 5}, \"text\": [\"Site\"], \"y\": [0.9002523422241211, 0.8904833793640137], \"marker\": {\"size\": 2, \"color\": \"blue\"}, \"x\": [-0.5820029973983765, -0.5910807847976685], \"z\": [1.7429574728012085, 1.6287363767623901]}, {\"type\": \"scatter3d\", \"line\": {\"color\": \"black\", \"width\": 5}, \"text\": [\"LShoulder\"], \"y\": [0.9305129051208496, 0.9701197147369385], \"marker\": {\"size\": 2, \"color\": \"blue\"}, \"x\": [-0.4214743375778198, -0.581210732460022], \"z\": [1.4580758810043335, 1.5387715101242065]}, {\"type\": \"scatter3d\", \"line\": {\"color\": \"black\", \"width\": 5}, \"text\": [\"LElbow\"], \"y\": [0.9203577041625977, 0.9305129051208496], \"marker\": {\"size\": 2, \"color\": \"blue\"}, \"x\": [-0.3506113290786743, -0.4214743375778198], \"z\": [1.1705330610275269, 1.4580758810043335]}, {\"type\": \"scatter3d\", \"line\": {\"color\": \"black\", \"width\": 5}, \"text\": [\"LWrist\"], \"y\": [0.8728880882263184, 0.9203577041625977], \"marker\": {\"size\": 2, \"color\": \"blue\"}, \"x\": [-0.37240517139434814, -0.3506113290786743], \"z\": [0.9270581007003784, 1.1705330610275269]}, {\"type\": \"scatter3d\", \"line\": {\"color\": \"red\", \"width\": 5}, \"text\": [\"RShoulder\"], \"y\": [1.0510144233703613, 0.9701197147369385], \"marker\": {\"size\": 2, \"color\": \"blue\"}, \"x\": [-0.7308064699172974, -0.581210732460022], \"z\": [1.4704102277755737, 1.5387715101242065]}, {\"type\": \"scatter3d\", \"line\": {\"color\": \"red\", \"width\": 5}, \"text\": [\"RElbow\"], \"y\": [1.1209805011749268, 1.0510144233703613], \"marker\": {\"size\": 2, \"color\": \"blue\"}, \"x\": [-0.8144429922103882, -0.7308064699172974], \"z\": [1.1948832273483276, 1.4704102277755737]}, {\"type\": \"scatter3d\", \"line\": {\"color\": \"red\", \"width\": 5}, \"text\": [\"RWrist\"], \"y\": [1.0606820583343506, 1.1209805011749268], \"marker\": {\"size\": 2, \"color\": \"blue\"}, \"x\": [-0.8578089475631714, -0.8144429922103882], \"z\": [0.9572023153305054, 1.1948832273483276]}, {\"type\": \"scatter3d\", \"line\": {\"color\": \"#1f77b4\", \"width\": 1}, \"y\": [0.027873992919921875, -0.35009336471557617, -1.438657283782959, -0.2805147171020508, 1.579770565032959], \"marker\": {\"size\": 1, \"color\": \"#1f77b4\"}, \"z\": [1.0595725774765015, 1.0333908796310425, 1.04411780834198, 1.0447648763656616, 1.0300863981246948], \"x\": [-0.0631488561630249, -0.23460090160369873, 0.031986117362976074, 0.9085721969604492, 0.5869547128677368]}], \"name\": \"frame6\"}, {\"data\": [{\"type\": \"scatter3d\", \"line\": {\"color\": \"red\", \"width\": 5}, \"text\": [\"RHip\"], \"y\": [-0.9588327407836914, -0.9113945960998535], \"marker\": {\"size\": 2, \"color\": \"blue\"}, \"x\": [-0.7446240186691284, -0.632104754447937], \"z\": [1.0607718229293823, 1.038784384727478]}, {\"type\": \"scatter3d\", \"line\": {\"color\": \"red\", \"width\": 5}, \"text\": [\"RKnee\"], \"y\": [-1.0629401206970215, -0.9588327407836914], \"marker\": {\"size\": 2, \"color\": \"blue\"}, \"x\": [-0.6963576078414917, -0.7446240186691284], \"z\": [0.6027334928512573, 1.0607718229293823]}, {\"type\": \"scatter3d\", \"line\": {\"color\": \"red\", \"width\": 5}, \"text\": [\"RAnkle\"], \"y\": [-0.9838871955871582, -1.0629401206970215], \"marker\": {\"size\": 2, \"color\": \"blue\"}, \"x\": [-0.727962851524353, -0.6963576078414917], \"z\": [0.14190709590911865, 0.6027334928512573]}, {\"type\": \"scatter3d\", \"line\": {\"color\": \"black\", \"width\": 5}, \"text\": [\"LHip\"], \"y\": [-0.8639564514160156, -0.9113945960998535], \"marker\": {\"size\": 2, \"color\": \"blue\"}, \"x\": [-0.5195847749710083, -0.632104754447937], \"z\": [1.0167959928512573, 1.038784384727478]}, {\"type\": \"scatter3d\", \"line\": {\"color\": \"black\", \"width\": 5}, \"text\": [\"LKnee\"], \"y\": [-0.90325927734375, -0.8639564514160156], \"marker\": {\"size\": 2, \"color\": \"blue\"}, \"x\": [-0.4652034044265747, -0.5195847749710083], \"z\": [0.5493940114974976, 1.0167959928512573]}, {\"type\": \"scatter3d\", \"line\": {\"color\": \"black\", \"width\": 5}, \"text\": [\"LAnkle\"], \"y\": [-0.5865583419799805, -0.90325927734375], \"marker\": {\"size\": 2, \"color\": \"blue\"}, \"x\": [-0.7086135149002075, -0.4652034044265747], \"z\": [0.30432116985321045, 0.5493940114974976]}, {\"type\": \"scatter3d\", \"line\": {\"color\": \"black\", \"width\": 5}, \"text\": [\"Spine1\"], \"y\": [-0.8892102241516113, -0.9113945960998535], \"marker\": {\"size\": 2, \"color\": \"blue\"}, \"x\": [-0.6334699392318726, -0.632104754447937], \"z\": [1.2941054105758667, 1.038784384727478]}, {\"type\": \"scatter3d\", \"line\": {\"color\": \"black\", \"width\": 5}, \"text\": [\"Neck\"], \"y\": [-0.9054155349731445, -0.8892102241516113], \"marker\": {\"size\": 2, \"color\": \"blue\"}, \"x\": [-0.6484671831130981, -0.6334699392318726], \"z\": [1.5434874296188354, 1.2941054105758667]}, {\"type\": \"scatter3d\", \"line\": {\"color\": \"black\", \"width\": 5}, \"text\": [\"Head\"], \"y\": [-0.9712753295898438, -0.9054155349731445], \"marker\": {\"size\": 2, \"color\": \"blue\"}, \"x\": [-0.6226068735122681, -0.6484671831130981], \"z\": [1.6410921812057495, 1.5434874296188354]}, {\"type\": \"scatter3d\", \"line\": {\"color\": \"black\", \"width\": 5}, \"text\": [\"Site\"], \"y\": [-0.9619927406311035, -0.9712753295898438], \"marker\": {\"size\": 2, \"color\": \"blue\"}, \"x\": [-0.6302405595779419, -0.6226068735122681], \"z\": [1.7554596662521362, 1.6410921812057495]}, {\"type\": \"scatter3d\", \"line\": {\"color\": \"black\", \"width\": 5}, \"text\": [\"LShoulder\"], \"y\": [-0.841526985168457, -0.9054155349731445], \"marker\": {\"size\": 2, \"color\": \"blue\"}, \"x\": [-0.48711955547332764, -0.6484671831130981], \"z\": [1.4844845533370972, 1.5434874296188354]}, {\"type\": \"scatter3d\", \"line\": {\"color\": \"black\", \"width\": 5}, \"text\": [\"LElbow\"], \"y\": [-0.8014721870422363, -0.841526985168457], \"marker\": {\"size\": 2, \"color\": \"blue\"}, \"x\": [-0.3806718587875366, -0.48711955547332764], \"z\": [1.2108601331710815, 1.4844845533370972]}, {\"type\": \"scatter3d\", \"line\": {\"color\": \"black\", \"width\": 5}, \"text\": [\"LWrist\"], \"y\": [-0.857485294342041, -0.8014721870422363], \"marker\": {\"size\": 2, \"color\": \"blue\"}, \"x\": [-0.36517536640167236, -0.3806718587875366], \"z\": [0.9687222242355347, 1.2108601331710815]}, {\"type\": \"scatter3d\", \"line\": {\"color\": \"red\", \"width\": 5}, \"text\": [\"RShoulder\"], \"y\": [-0.9350976943969727, -0.9054155349731445], \"marker\": {\"size\": 2, \"color\": \"blue\"}, \"x\": [-0.8081926107406616, -0.6484671831130981], \"z\": [1.4586185216903687, 1.5434874296188354]}, {\"type\": \"scatter3d\", \"line\": {\"color\": \"red\", \"width\": 5}, \"text\": [\"RElbow\"], \"y\": [-0.9396791458129883, -0.9350976943969727], \"marker\": {\"size\": 2, \"color\": \"blue\"}, \"x\": [-0.9011808633804321, -0.8081926107406616], \"z\": [1.1773031949996948, 1.4586185216903687]}, {\"type\": \"scatter3d\", \"line\": {\"color\": \"red\", \"width\": 5}, \"text\": [\"RWrist\"], \"y\": [-1.030698299407959, -0.9396791458129883], \"marker\": {\"size\": 2, \"color\": \"blue\"}, \"x\": [-0.8785642385482788, -0.9011808633804321], \"z\": [0.9466255903244019, 1.1773031949996948]}, {\"type\": \"scatter3d\", \"line\": {\"color\": \"#1f77b4\", \"width\": 1}, \"y\": [0.027873992919921875, -0.35009336471557617, -1.438657283782959, -0.2805147171020508, 1.579770565032959, 0.9985404014587402], \"marker\": {\"size\": 1, \"color\": \"#1f77b4\"}, \"z\": [1.0595725774765015, 1.0333908796310425, 1.04411780834198, 1.0447648763656616, 1.0300863981246948, 1.0346969366073608], \"x\": [-0.0631488561630249, -0.23460090160369873, 0.031986117362976074, 0.9085721969604492, 0.5869547128677368, -0.5753010511398315]}], \"name\": \"frame7\"}, {\"data\": [{\"type\": \"scatter3d\", \"line\": {\"color\": \"red\", \"width\": 5}, \"text\": [\"RHip\"], \"y\": [-1.0097928047180176, -0.9276556968688965], \"marker\": {\"size\": 2, \"color\": \"blue\"}, \"x\": [0.5890408754348755, 0.49917006492614746], \"z\": [1.0584839582443237, 1.034580111503601]}, {\"type\": \"scatter3d\", \"line\": {\"color\": \"red\", \"width\": 5}, \"text\": [\"RKnee\"], \"y\": [-1.090507984161377, -1.0097928047180176], \"marker\": {\"size\": 2, \"color\": \"blue\"}, \"x\": [0.531356692314148, 0.5890408754348755], \"z\": [0.596831202507019, 1.0584839582443237]}, {\"type\": \"scatter3d\", \"line\": {\"color\": \"red\", \"width\": 5}, \"text\": [\"RAnkle\"], \"y\": [-1.2797799110412598, -1.090507984161377], \"marker\": {\"size\": 2, \"color\": \"blue\"}, \"x\": [0.33389735221862793, 0.531356692314148], \"z\": [0.21631228923797607, 0.596831202507019]}, {\"type\": \"scatter3d\", \"line\": {\"color\": \"black\", \"width\": 5}, \"text\": [\"LHip\"], \"y\": [-0.8455204963684082, -0.9276556968688965], \"marker\": {\"size\": 2, \"color\": \"blue\"}, \"x\": [0.4092988967895508, 0.49917006492614746], \"z\": [1.010675311088562, 1.034580111503601]}, {\"type\": \"scatter3d\", \"line\": {\"color\": \"black\", \"width\": 5}, \"text\": [\"LKnee\"], \"y\": [-0.7748074531555176, -0.8455204963684082], \"marker\": {\"size\": 2, \"color\": \"blue\"}, \"x\": [0.539344072341919, 0.4092988967895508], \"z\": [0.562282919883728, 1.010675311088562]}, {\"type\": \"scatter3d\", \"line\": {\"color\": \"black\", \"width\": 5}, \"text\": [\"LAnkle\"], \"y\": [-0.7878880500793457, -0.7748074531555176], \"marker\": {\"size\": 2, \"color\": \"blue\"}, \"x\": [0.6361815929412842, 0.539344072341919], \"z\": [0.10395991802215576, 0.562282919883728]}, {\"type\": \"scatter3d\", \"line\": {\"color\": \"black\", \"width\": 5}, \"text\": [\"Spine1\"], \"y\": [-0.927250862121582, -0.9276556968688965], \"marker\": {\"size\": 2, \"color\": \"blue\"}, \"x\": [0.4975811243057251, 0.49917006492614746], \"z\": [1.2908614873886108, 1.034580111503601]}, {\"type\": \"scatter3d\", \"line\": {\"color\": \"black\", \"width\": 5}, \"text\": [\"Neck\"], \"y\": [-0.8725090026855469, -0.927250862121582], \"marker\": {\"size\": 2, \"color\": \"blue\"}, \"x\": [0.5245994329452515, 0.4975811243057251], \"z\": [1.5336617231369019, 1.2908614873886108]}, {\"type\": \"scatter3d\", \"line\": {\"color\": \"black\", \"width\": 5}, \"text\": [\"Head\"], \"y\": [-0.8073325157165527, -0.8725090026855469], \"marker\": {\"size\": 2, \"color\": \"blue\"}, \"x\": [0.5669935941696167, 0.5245994329452515], \"z\": [1.6257914304733276, 1.5336617231369019]}, {\"type\": \"scatter3d\", \"line\": {\"color\": \"black\", \"width\": 5}, \"text\": [\"Site\"], \"y\": [-0.8274030685424805, -0.8073325157165527], \"marker\": {\"size\": 2, \"color\": \"blue\"}, \"x\": [0.5594462156295776, 0.5669935941696167], \"z\": [1.738770842552185, 1.6257914304733276]}, {\"type\": \"scatter3d\", \"line\": {\"color\": \"black\", \"width\": 5}, \"text\": [\"LShoulder\"], \"y\": [-0.8056063652038574, -0.8725090026855469], \"marker\": {\"size\": 2, \"color\": \"blue\"}, \"x\": [0.36591386795043945, 0.5245994329452515], \"z\": [1.470901370048523, 1.5336617231369019]}, {\"type\": \"scatter3d\", \"line\": {\"color\": \"black\", \"width\": 5}, \"text\": [\"LElbow\"], \"y\": [-0.829503059387207, -0.8056063652038574], \"marker\": {\"size\": 2, \"color\": \"blue\"}, \"x\": [0.20920181274414062, 0.36591386795043945], \"z\": [1.220549464225769, 1.470901370048523]}, {\"type\": \"scatter3d\", \"line\": {\"color\": \"black\", \"width\": 5}, \"text\": [\"LWrist\"], \"y\": [-0.9623565673828125, -0.829503059387207], \"marker\": {\"size\": 2, \"color\": \"blue\"}, \"x\": [0.30727171897888184, 0.20920181274414062], \"z\": [1.034159541130066, 1.220549464225769]}, {\"type\": \"scatter3d\", \"line\": {\"color\": \"red\", \"width\": 5}, \"text\": [\"RShoulder\"], \"y\": [-0.9973635673522949, -0.8725090026855469], \"marker\": {\"size\": 2, \"color\": \"blue\"}, \"x\": [0.6450073719024658, 0.5245994329452515], \"z\": [1.4744185209274292, 1.5336617231369019]}, {\"type\": \"scatter3d\", \"line\": {\"color\": \"red\", \"width\": 5}, \"text\": [\"RElbow\"], \"y\": [-1.1689624786376953, -0.9973635673522949], \"marker\": {\"size\": 2, \"color\": \"blue\"}, \"x\": [0.6468573808670044, 0.6450073719024658], \"z\": [1.232848048210144, 1.4744185209274292]}, {\"type\": \"scatter3d\", \"line\": {\"color\": \"red\", \"width\": 5}, \"text\": [\"RWrist\"], \"y\": [-1.1260075569152832, -1.1689624786376953], \"marker\": {\"size\": 2, \"color\": \"blue\"}, \"x\": [0.4900134801864624, 0.6468573808670044], \"z\": [1.0442670583724976, 1.232848048210144]}, {\"type\": \"scatter3d\", \"line\": {\"color\": \"#1f77b4\", \"width\": 1}, \"y\": [0.027873992919921875, -0.35009336471557617, -1.438657283782959, -0.2805147171020508, 1.579770565032959, 0.9985404014587402, -0.9113945960998535], \"marker\": {\"size\": 1, \"color\": \"#1f77b4\"}, \"z\": [1.0595725774765015, 1.0333908796310425, 1.04411780834198, 1.0447648763656616, 1.0300863981246948, 1.0346969366073608, 1.038784384727478], \"x\": [-0.0631488561630249, -0.23460090160369873, 0.031986117362976074, 0.9085721969604492, 0.5869547128677368, -0.5753010511398315, -0.632104754447937]}], \"name\": \"frame8\"}, {\"data\": [{\"type\": \"scatter3d\", \"line\": {\"color\": \"red\", \"width\": 5}, \"text\": [\"RHip\"], \"y\": [0.6930708885192871, 0.6878371238708496], \"marker\": {\"size\": 2, \"color\": \"blue\"}, \"x\": [0.9947073459625244, 0.8725070357322693], \"z\": [1.0656436681747437, 1.0448054075241089]}, {\"type\": \"scatter3d\", \"line\": {\"color\": \"red\", \"width\": 5}, \"text\": [\"RKnee\"], \"y\": [0.8237123489379883, 0.6930708885192871], \"marker\": {\"size\": 2, \"color\": \"blue\"}, \"x\": [1.0022761821746826, 0.9947073459625244], \"z\": [0.6119464635848999, 1.0656436681747437]}, {\"type\": \"scatter3d\", \"line\": {\"color\": \"red\", \"width\": 5}, \"text\": [\"RAnkle\"], \"y\": [0.9439053535461426, 0.8237123489379883], \"marker\": {\"size\": 2, \"color\": \"blue\"}, \"x\": [1.0096673965454102, 1.0022761821746826], \"z\": [0.15905797481536865, 0.6119464635848999]}, {\"type\": \"scatter3d\", \"line\": {\"color\": \"black\", \"width\": 5}, \"text\": [\"LHip\"], \"y\": [0.6826033592224121, 0.6878371238708496], \"marker\": {\"size\": 2, \"color\": \"blue\"}, \"x\": [0.7503064870834351, 0.8725070357322693], \"z\": [1.0239661931991577, 1.0448054075241089]}, {\"type\": \"scatter3d\", \"line\": {\"color\": \"black\", \"width\": 5}, \"text\": [\"LKnee\"], \"y\": [0.5900940895080566, 0.6826033592224121], \"marker\": {\"size\": 2, \"color\": \"blue\"}, \"x\": [0.8248647451400757, 0.7503064870834351], \"z\": [0.5669640302658081, 1.0239661931991577]}, {\"type\": \"scatter3d\", \"line\": {\"color\": \"black\", \"width\": 5}, \"text\": [\"LAnkle\"], \"y\": [0.37633466720581055, 0.5900940895080566], \"marker\": {\"size\": 2, \"color\": \"blue\"}, \"x\": [0.9249659776687622, 0.8248647451400757], \"z\": [0.16212499141693115, 0.5669640302658081]}, {\"type\": \"scatter3d\", \"line\": {\"color\": \"black\", \"width\": 5}, \"text\": [\"Spine1\"], \"y\": [0.6930675506591797, 0.6878371238708496], \"marker\": {\"size\": 2, \"color\": \"blue\"}, \"x\": [0.8592795133590698, 0.8725070357322693], \"z\": [1.300697684288025, 1.0448054075241089]}, {\"type\": \"scatter3d\", \"line\": {\"color\": \"black\", \"width\": 5}, \"text\": [\"Neck\"], \"y\": [0.7555608749389648, 0.6930675506591797], \"marker\": {\"size\": 2, \"color\": \"blue\"}, \"x\": [0.862388551235199, 0.8592795133590698], \"z\": [1.5431097745895386, 1.300697684288025]}, {\"type\": \"scatter3d\", \"line\": {\"color\": \"black\", \"width\": 5}, \"text\": [\"Head\"], \"y\": [0.8231630325317383, 0.7555608749389648], \"marker\": {\"size\": 2, \"color\": \"blue\"}, \"x\": [0.8593353629112244, 0.862388551235199], \"z\": [1.6428779363632202, 1.5431097745895386]}, {\"type\": \"scatter3d\", \"line\": {\"color\": \"black\", \"width\": 5}, \"text\": [\"Site\"], \"y\": [0.7780489921569824, 0.8231630325317383], \"marker\": {\"size\": 2, \"color\": \"blue\"}, \"x\": [0.8667662143707275, 0.8593353629112244], \"z\": [1.7483948469161987, 1.6428779363632202]}, {\"type\": \"scatter3d\", \"line\": {\"color\": \"black\", \"width\": 5}, \"text\": [\"LShoulder\"], \"y\": [0.7366571426391602, 0.7555608749389648], \"marker\": {\"size\": 2, \"color\": \"blue\"}, \"x\": [0.6883620023727417, 0.862388551235199], \"z\": [1.488766074180603, 1.5431097745895386]}, {\"type\": \"scatter3d\", \"line\": {\"color\": \"black\", \"width\": 5}, \"text\": [\"LElbow\"], \"y\": [0.6215291023254395, 0.7366571426391602], \"marker\": {\"size\": 2, \"color\": \"blue\"}, \"x\": [0.5738593339920044, 0.6883620023727417], \"z\": [1.2408932447433472, 1.488766074180603]}, {\"type\": \"scatter3d\", \"line\": {\"color\": \"black\", \"width\": 5}, \"text\": [\"LWrist\"], \"y\": [0.5413680076599121, 0.6215291023254395], \"marker\": {\"size\": 2, \"color\": \"blue\"}, \"x\": [0.72667396068573, 0.5738593339920044], \"z\": [1.061365008354187, 1.2408932447433472]}, {\"type\": \"scatter3d\", \"line\": {\"color\": \"red\", \"width\": 5}, \"text\": [\"RShoulder\"], \"y\": [0.7145848274230957, 0.7555608749389648], \"marker\": {\"size\": 2, \"color\": \"blue\"}, \"x\": [1.0289051532745361, 0.862388551235199], \"z\": [1.4783843755722046, 1.5431097745895386]}, {\"type\": \"scatter3d\", \"line\": {\"color\": \"red\", \"width\": 5}, \"text\": [\"RElbow\"], \"y\": [0.5640807151794434, 0.7145848274230957], \"marker\": {\"size\": 2, \"color\": \"blue\"}, \"x\": [1.1228090524673462, 1.0289051532745361], \"z\": [1.2410310506820679, 1.4783843755722046]}, {\"type\": \"scatter3d\", \"line\": {\"color\": \"red\", \"width\": 5}, \"text\": [\"RWrist\"], \"y\": [0.5207352638244629, 0.5640807151794434], \"marker\": {\"size\": 2, \"color\": \"blue\"}, \"x\": [0.9592146873474121, 1.1228090524673462], \"z\": [1.0583661794662476, 1.2410310506820679]}, {\"type\": \"scatter3d\", \"line\": {\"color\": \"#1f77b4\", \"width\": 1}, \"y\": [0.027873992919921875, -0.35009336471557617, -1.438657283782959, -0.2805147171020508, 1.579770565032959, 0.9985404014587402, -0.9113945960998535, -0.9276556968688965], \"marker\": {\"size\": 1, \"color\": \"#1f77b4\"}, \"z\": [1.0595725774765015, 1.0333908796310425, 1.04411780834198, 1.0447648763656616, 1.0300863981246948, 1.0346969366073608, 1.038784384727478, 1.034580111503601], \"x\": [-0.0631488561630249, -0.23460090160369873, 0.031986117362976074, 0.9085721969604492, 0.5869547128677368, -0.5753010511398315, -0.632104754447937, 0.49917006492614746]}], \"name\": \"frame9\"}, {\"data\": [{\"type\": \"scatter3d\", \"line\": {\"color\": \"red\", \"width\": 5}, \"text\": [\"RHip\"], \"y\": [1.9226908683776855, 1.807086706161499], \"marker\": {\"size\": 2, \"color\": \"blue\"}, \"x\": [-0.054395079612731934, -0.0122908353805542], \"z\": [1.0447860956192017, 1.0287479162216187]}, {\"type\": \"scatter3d\", \"line\": {\"color\": \"red\", \"width\": 5}, \"text\": [\"RKnee\"], \"y\": [1.9338524341583252, 1.9226908683776855], \"marker\": {\"size\": 2, \"color\": \"blue\"}, \"x\": [-0.008220434188842773, -0.054395079612731934], \"z\": [0.5749891996383667, 1.0447860956192017]}, {\"type\": \"scatter3d\", \"line\": {\"color\": \"red\", \"width\": 5}, \"text\": [\"RAnkle\"], \"y\": [1.9851999282836914, 1.9338524341583252], \"marker\": {\"size\": 2, \"color\": \"blue\"}, \"x\": [0.18199706077575684, -0.008220434188842773], \"z\": [0.14979541301727295, 0.5749891996383667]}, {\"type\": \"scatter3d\", \"line\": {\"color\": \"black\", \"width\": 5}, \"text\": [\"LHip\"], \"y\": [1.691481113433838, 1.807086706161499], \"marker\": {\"size\": 2, \"color\": \"blue\"}, \"x\": [0.029813170433044434, -0.0122908353805542], \"z\": [1.0127090215682983, 1.0287479162216187]}, {\"type\": \"scatter3d\", \"line\": {\"color\": \"black\", \"width\": 5}, \"text\": [\"LKnee\"], \"y\": [1.6277825832366943, 1.691481113433838], \"marker\": {\"size\": 2, \"color\": \"blue\"}, \"x\": [-0.13031995296478271, 0.029813170433044434], \"z\": [0.5730868577957153, 1.0127090215682983]}, {\"type\": \"scatter3d\", \"line\": {\"color\": \"black\", \"width\": 5}, \"text\": [\"LAnkle\"], \"y\": [1.7329187393188477, 1.6277825832366943], \"marker\": {\"size\": 2, \"color\": \"blue\"}, \"x\": [-0.1369847059249878, -0.13031995296478271], \"z\": [0.11645781993865967, 0.5730868577957153]}, {\"type\": \"scatter3d\", \"line\": {\"color\": \"black\", \"width\": 5}, \"text\": [\"Spine1\"], \"y\": [1.8190507888793945, 1.807086706161499], \"marker\": {\"size\": 2, \"color\": \"blue\"}, \"x\": [-0.033328890800476074, -0.0122908353805542], \"z\": [1.2838891744613647, 1.0287479162216187]}, {\"type\": \"scatter3d\", \"line\": {\"color\": \"black\", \"width\": 5}, \"text\": [\"Neck\"], \"y\": [1.7939856052398682, 1.8190507888793945], \"marker\": {\"size\": 2, \"color\": \"blue\"}, \"x\": [-0.10250270366668701, -0.033328890800476074], \"z\": [1.5231910943984985, 1.2838891744613647]}, {\"type\": \"scatter3d\", \"line\": {\"color\": \"black\", \"width\": 5}, \"text\": [\"Head\"], \"y\": [1.762559175491333, 1.7939856052398682], \"marker\": {\"size\": 2, \"color\": \"blue\"}, \"x\": [-0.17360198497772217, -0.10250270366668701], \"z\": [1.615333914756775, 1.5231910943984985]}, {\"type\": \"scatter3d\", \"line\": {\"color\": \"black\", \"width\": 5}, \"text\": [\"Site\"], \"y\": [1.767014980316162, 1.762559175491333], \"marker\": {\"size\": 2, \"color\": \"blue\"}, \"x\": [-0.167136549949646, -0.17360198497772217], \"z\": [1.7300623655319214, 1.615333914756775]}, {\"type\": \"scatter3d\", \"line\": {\"color\": \"black\", \"width\": 5}, \"text\": [\"LShoulder\"], \"y\": [1.6519055366516113, 1.7939856052398682], \"marker\": {\"size\": 2, \"color\": \"blue\"}, \"x\": [0.004943728446960449, -0.10250270366668701], \"z\": [1.4800091981887817, 1.5231910943984985]}, {\"type\": \"scatter3d\", \"line\": {\"color\": \"black\", \"width\": 5}, \"text\": [\"LElbow\"], \"y\": [1.6031265258789062, 1.6519055366516113], \"marker\": {\"size\": 2, \"color\": \"blue\"}, \"x\": [0.16931354999542236, 0.004943728446960449], \"z\": [1.2383302450180054, 1.4800091981887817]}, {\"type\": \"scatter3d\", \"line\": {\"color\": \"black\", \"width\": 5}, \"text\": [\"LWrist\"], \"y\": [1.7696969509124756, 1.6031265258789062], \"marker\": {\"size\": 2, \"color\": \"blue\"}, \"x\": [0.16402924060821533, 0.16931354999542236], \"z\": [1.0533033609390259, 1.2383302450180054]}, {\"type\": \"scatter3d\", \"line\": {\"color\": \"red\", \"width\": 5}, \"text\": [\"RShoulder\"], \"y\": [1.9578266143798828, 1.7939856052398682], \"marker\": {\"size\": 2, \"color\": \"blue\"}, \"x\": [-0.1487358808517456, -0.10250270366668701], \"z\": [1.4552596807479858, 1.5231910943984985]}, {\"type\": \"scatter3d\", \"line\": {\"color\": \"red\", \"width\": 5}, \"text\": [\"RElbow\"], \"y\": [2.1193745136260986, 1.9578266143798828], \"marker\": {\"size\": 2, \"color\": \"blue\"}, \"x\": [-0.05976414680480957, -0.1487358808517456], \"z\": [1.2233284711837769, 1.4552596807479858]}, {\"type\": \"scatter3d\", \"line\": {\"color\": \"red\", \"width\": 5}, \"text\": [\"RWrist\"], \"y\": [2.000129222869873, 2.1193745136260986], \"marker\": {\"size\": 2, \"color\": \"blue\"}, \"x\": [0.06794142723083496, -0.05976414680480957], \"z\": [1.0459023714065552, 1.2233284711837769]}, {\"type\": \"scatter3d\", \"line\": {\"color\": \"#1f77b4\", \"width\": 1}, \"y\": [0.027873992919921875, -0.35009336471557617, -1.438657283782959, -0.2805147171020508, 1.579770565032959, 0.9985404014587402, -0.9113945960998535, -0.9276556968688965, 0.6878371238708496], \"marker\": {\"size\": 1, \"color\": \"#1f77b4\"}, \"z\": [1.0595725774765015, 1.0333908796310425, 1.04411780834198, 1.0447648763656616, 1.0300863981246948, 1.0346969366073608, 1.038784384727478, 1.034580111503601, 1.0448054075241089], \"x\": [-0.0631488561630249, -0.23460090160369873, 0.031986117362976074, 0.9085721969604492, 0.5869547128677368, -0.5753010511398315, -0.632104754447937, 0.49917006492614746, 0.8725070357322693]}], \"name\": \"frame10\"}, {\"data\": [{\"type\": \"scatter3d\", \"line\": {\"color\": \"red\", \"width\": 5}, \"text\": [\"RHip\"], \"y\": [0.4315333366394043, 0.4292325973510742], \"marker\": {\"size\": 2, \"color\": \"blue\"}, \"x\": [-0.9851876497268677, -0.8624705076217651], \"z\": [1.0557860136032104, 1.0376280546188354]}, {\"type\": \"scatter3d\", \"line\": {\"color\": \"red\", \"width\": 5}, \"text\": [\"RKnee\"], \"y\": [0.25776052474975586, 0.4315333366394043], \"marker\": {\"size\": 2, \"color\": \"blue\"}, \"x\": [-1.0012074708938599, -0.9851876497268677], \"z\": [0.617024302482605, 1.0557860136032104]}, {\"type\": \"scatter3d\", \"line\": {\"color\": \"red\", \"width\": 5}, \"text\": [\"RAnkle\"], \"y\": [0.3370976448059082, 0.25776052474975586], \"marker\": {\"size\": 2, \"color\": \"blue\"}, \"x\": [-0.9934319257736206, -1.0012074708938599], \"z\": [0.15522944927215576, 0.617024302482605]}, {\"type\": \"scatter3d\", \"line\": {\"color\": \"black\", \"width\": 5}, \"text\": [\"LHip\"], \"y\": [0.42693233489990234, 0.4292325973510742], \"marker\": {\"size\": 2, \"color\": \"blue\"}, \"x\": [-0.7397531270980835, -0.8624705076217651], \"z\": [1.019469141960144, 1.0376280546188354]}, {\"type\": \"scatter3d\", \"line\": {\"color\": \"black\", \"width\": 5}, \"text\": [\"LKnee\"], \"y\": [0.4367551803588867, 0.42693233489990234], \"marker\": {\"size\": 2, \"color\": \"blue\"}, \"x\": [-0.8023432493209839, -0.7397531270980835], \"z\": [0.5515450239181519, 1.019469141960144]}, {\"type\": \"scatter3d\", \"line\": {\"color\": \"black\", \"width\": 5}, \"text\": [\"LAnkle\"], \"y\": [0.5849051475524902, 0.4367551803588867], \"marker\": {\"size\": 2, \"color\": \"blue\"}, \"x\": [-0.8944510221481323, -0.8023432493209839], \"z\": [0.1166008710861206, 0.5515450239181519]}, {\"type\": \"scatter3d\", \"line\": {\"color\": \"black\", \"width\": 5}, \"text\": [\"Spine1\"], \"y\": [0.4148869514465332, 0.4292325973510742], \"marker\": {\"size\": 2, \"color\": \"blue\"}, \"x\": [-0.8606842756271362, -0.8624705076217651], \"z\": [1.29350745677948, 1.0376280546188354]}, {\"type\": \"scatter3d\", \"line\": {\"color\": \"black\", \"width\": 5}, \"text\": [\"Neck\"], \"y\": [0.34812211990356445, 0.4148869514465332], \"marker\": {\"size\": 2, \"color\": \"blue\"}, \"x\": [-0.8599916696548462, -0.8606842756271362], \"z\": [1.5347975492477417, 1.29350745677948]}, {\"type\": \"scatter3d\", \"line\": {\"color\": \"black\", \"width\": 5}, \"text\": [\"Head\"], \"y\": [0.271059513092041, 0.34812211990356445], \"marker\": {\"size\": 2, \"color\": \"blue\"}, \"x\": [-0.8597472906112671, -0.8599916696548462], \"z\": [1.6275032758712769, 1.5347975492477417]}, {\"type\": \"scatter3d\", \"line\": {\"color\": \"black\", \"width\": 5}, \"text\": [\"Site\"], \"y\": [0.28760194778442383, 0.271059513092041], \"marker\": {\"size\": 2, \"color\": \"blue\"}, \"x\": [-0.8669017553329468, -0.8597472906112671], \"z\": [1.7410787343978882, 1.6275032758712769]}, {\"type\": \"scatter3d\", \"line\": {\"color\": \"black\", \"width\": 5}, \"text\": [\"LShoulder\"], \"y\": [0.37314558029174805, 0.34812211990356445], \"marker\": {\"size\": 2, \"color\": \"blue\"}, \"x\": [-0.6860517263412476, -0.8599916696548462], \"z\": [1.482695460319519, 1.5347975492477417]}, {\"type\": \"scatter3d\", \"line\": {\"color\": \"black\", \"width\": 5}, \"text\": [\"LElbow\"], \"y\": [0.4951634407043457, 0.37314558029174805], \"marker\": {\"size\": 2, \"color\": \"blue\"}, \"x\": [-0.5674065351486206, -0.6860517263412476], \"z\": [1.2401241064071655, 1.482695460319519]}, {\"type\": \"scatter3d\", \"line\": {\"color\": \"black\", \"width\": 5}, \"text\": [\"LWrist\"], \"y\": [0.589393138885498, 0.4951634407043457], \"marker\": {\"size\": 2, \"color\": \"blue\"}, \"x\": [-0.7107001543045044, -0.5674065351486206], \"z\": [1.0595792531967163, 1.2401241064071655]}, {\"type\": \"scatter3d\", \"line\": {\"color\": \"red\", \"width\": 5}, \"text\": [\"RShoulder\"], \"y\": [0.3894772529602051, 0.34812211990356445], \"marker\": {\"size\": 2, \"color\": \"blue\"}, \"x\": [-1.0292197465896606, -0.8599916696548462], \"z\": [1.4778097867965698, 1.5347975492477417]}, {\"type\": \"scatter3d\", \"line\": {\"color\": \"red\", \"width\": 5}, \"text\": [\"RElbow\"], \"y\": [0.5528120994567871, 0.3894772529602051], \"marker\": {\"size\": 2, \"color\": \"blue\"}, \"x\": [-1.1134790182113647, -1.0292197465896606], \"z\": [1.245369791984558, 1.4778097867965698]}, {\"type\": \"scatter3d\", \"line\": {\"color\": \"red\", \"width\": 5}, \"text\": [\"RWrist\"], \"y\": [0.6077051162719727, 0.5528120994567871], \"marker\": {\"size\": 2, \"color\": \"blue\"}, \"x\": [-0.9515188932418823, -1.1134790182113647], \"z\": [1.0643619298934937, 1.245369791984558]}, {\"type\": \"scatter3d\", \"line\": {\"color\": \"#1f77b4\", \"width\": 1}, \"y\": [0.027873992919921875, -0.35009336471557617, -1.438657283782959, -0.2805147171020508, 1.579770565032959, 0.9985404014587402, -0.9113945960998535, -0.9276556968688965, 0.6878371238708496, 1.807086706161499], \"marker\": {\"size\": 1, \"color\": \"#1f77b4\"}, \"z\": [1.0595725774765015, 1.0333908796310425, 1.04411780834198, 1.0447648763656616, 1.0300863981246948, 1.0346969366073608, 1.038784384727478, 1.034580111503601, 1.0448054075241089, 1.0287479162216187], \"x\": [-0.0631488561630249, -0.23460090160369873, 0.031986117362976074, 0.9085721969604492, 0.5869547128677368, -0.5753010511398315, -0.632104754447937, 0.49917006492614746, 0.8725070357322693, -0.0122908353805542]}], \"name\": \"frame11\"}, {\"data\": [{\"type\": \"scatter3d\", \"line\": {\"color\": \"red\", \"width\": 5}, \"text\": [\"RHip\"], \"y\": [-1.3646759986877441, -1.2573628425598145], \"marker\": {\"size\": 2, \"color\": \"blue\"}, \"x\": [-0.41682183742523193, -0.3573344945907593], \"z\": [1.0702046155929565, 1.0517657995224]}, {\"type\": \"scatter3d\", \"line\": {\"color\": \"red\", \"width\": 5}, \"text\": [\"RKnee\"], \"y\": [-1.3941059112548828, -1.3646759986877441], \"marker\": {\"size\": 2, \"color\": \"blue\"}, \"x\": [-0.3804553747177124, -0.41682183742523193], \"z\": [0.6003350019454956, 1.0702046155929565]}, {\"type\": \"scatter3d\", \"line\": {\"color\": \"red\", \"width\": 5}, \"text\": [\"RAnkle\"], \"y\": [-1.284883975982666, -1.3941059112548828], \"marker\": {\"size\": 2, \"color\": \"blue\"}, \"x\": [-0.505905032157898, -0.3804553747177124], \"z\": [0.1622241735458374, 0.6003350019454956]}, {\"type\": \"scatter3d\", \"line\": {\"color\": \"black\", \"width\": 5}, \"text\": [\"LHip\"], \"y\": [-1.1500515937805176, -1.2573628425598145], \"marker\": {\"size\": 2, \"color\": \"blue\"}, \"x\": [-0.2978471517562866, -0.3573344945907593], \"z\": [1.0333260297775269, 1.0517657995224]}, {\"type\": \"scatter3d\", \"line\": {\"color\": \"black\", \"width\": 5}, \"text\": [\"LKnee\"], \"y\": [-1.203484058380127, -1.1500515937805176], \"marker\": {\"size\": 2, \"color\": \"blue\"}, \"x\": [-0.14633393287658691, -0.2978471517562866], \"z\": [0.5893033742904663, 1.0333260297775269]}, {\"type\": \"scatter3d\", \"line\": {\"color\": \"black\", \"width\": 5}, \"text\": [\"LAnkle\"], \"y\": [-1.209001064300537, -1.203484058380127], \"marker\": {\"size\": 2, \"color\": \"blue\"}, \"x\": [-0.37643611431121826, -0.14633393287658691], \"z\": [0.1811002492904663, 0.5893033742904663]}, {\"type\": \"scatter3d\", \"line\": {\"color\": \"black\", \"width\": 5}, \"text\": [\"Spine1\"], \"y\": [-1.2754788398742676, -1.2573628425598145], \"marker\": {\"size\": 2, \"color\": \"blue\"}, \"x\": [-0.362650990486145, -0.3573344945907593], \"z\": [1.3073557615280151, 1.0517657995224]}, {\"type\": \"scatter3d\", \"line\": {\"color\": \"black\", \"width\": 5}, \"text\": [\"Neck\"], \"y\": [-1.3232355117797852, -1.2754788398742676], \"marker\": {\"size\": 2, \"color\": \"blue\"}, \"x\": [-0.2994741201400757, -0.362650990486145], \"z\": [1.5448569059371948, 1.3073557615280151]}, {\"type\": \"scatter3d\", \"line\": {\"color\": \"black\", \"width\": 5}, \"text\": [\"Head\"], \"y\": [-1.370734691619873, -1.3232355117797852], \"marker\": {\"size\": 2, \"color\": \"blue\"}, \"x\": [-0.22094905376434326, -0.2994741201400757], \"z\": [1.6230272054672241, 1.5448569059371948]}, {\"type\": \"scatter3d\", \"line\": {\"color\": \"black\", \"width\": 5}, \"text\": [\"Site\"], \"y\": [-1.3853492736816406, -1.370734691619873], \"marker\": {\"size\": 2, \"color\": \"blue\"}, \"x\": [-0.22598159313201904, -0.22094905376434326], \"z\": [1.7369812726974487, 1.6230272054672241]}, {\"type\": \"scatter3d\", \"line\": {\"color\": \"black\", \"width\": 5}, \"text\": [\"LShoulder\"], \"y\": [-1.1476068496704102, -1.3232355117797852], \"marker\": {\"size\": 2, \"color\": \"blue\"}, \"x\": [-0.26049816608428955, -0.2994741201400757], \"z\": [1.5097650289535522, 1.5448569059371948]}, {\"type\": \"scatter3d\", \"line\": {\"color\": \"black\", \"width\": 5}, \"text\": [\"LElbow\"], \"y\": [-0.9697036743164062, -1.1476068496704102], \"marker\": {\"size\": 2, \"color\": \"blue\"}, \"x\": [-0.34106719493865967, -0.26049816608428955], \"z\": [1.2869080305099487, 1.5097650289535522]}, {\"type\": \"scatter3d\", \"line\": {\"color\": \"black\", \"width\": 5}, \"text\": [\"LWrist\"], \"y\": [-1.066288948059082, -0.9697036743164062], \"marker\": {\"size\": 2, \"color\": \"blue\"}, \"x\": [-0.4416898488998413, -0.34106719493865967], \"z\": [1.0806187391281128, 1.2869080305099487]}, {\"type\": \"scatter3d\", \"line\": {\"color\": \"red\", \"width\": 5}, \"text\": [\"RShoulder\"], \"y\": [-1.458606243133545, -1.3232355117797852], \"marker\": {\"size\": 2, \"color\": \"blue\"}, \"x\": [-0.40190112590789795, -0.2994741201400757], \"z\": [1.475723147392273, 1.5448569059371948]}, {\"type\": \"scatter3d\", \"line\": {\"color\": \"red\", \"width\": 5}, \"text\": [\"RElbow\"], \"y\": [-1.4906034469604492, -1.458606243133545], \"marker\": {\"size\": 2, \"color\": \"blue\"}, \"x\": [-0.5909796953201294, -0.40190112590789795], \"z\": [1.2498215436935425, 1.475723147392273]}, {\"type\": \"scatter3d\", \"line\": {\"color\": \"red\", \"width\": 5}, \"text\": [\"RWrist\"], \"y\": [-1.3383426666259766, -1.4906034469604492], \"marker\": {\"size\": 2, \"color\": \"blue\"}, \"x\": [-0.5979200601577759, -0.5909796953201294], \"z\": [1.0529030561447144, 1.2498215436935425]}, {\"type\": \"scatter3d\", \"line\": {\"color\": \"#1f77b4\", \"width\": 1}, \"y\": [0.027873992919921875, -0.35009336471557617, -1.438657283782959, -0.2805147171020508, 1.579770565032959, 0.9985404014587402, -0.9113945960998535, -0.9276556968688965, 0.6878371238708496, 1.807086706161499, 0.4292325973510742], \"marker\": {\"size\": 1, \"color\": \"#1f77b4\"}, \"z\": [1.0595725774765015, 1.0333908796310425, 1.04411780834198, 1.0447648763656616, 1.0300863981246948, 1.0346969366073608, 1.038784384727478, 1.034580111503601, 1.0448054075241089, 1.0287479162216187, 1.0376280546188354], \"x\": [-0.0631488561630249, -0.23460090160369873, 0.031986117362976074, 0.9085721969604492, 0.5869547128677368, -0.5753010511398315, -0.632104754447937, 0.49917006492614746, 0.8725070357322693, -0.0122908353805542, -0.8624705076217651]}], \"name\": \"frame12\"}, {\"data\": [{\"type\": \"scatter3d\", \"line\": {\"color\": \"red\", \"width\": 5}, \"text\": [\"RHip\"], \"y\": [-0.7523059844970703, -0.6638197898864746], \"marker\": {\"size\": 2, \"color\": \"blue\"}, \"x\": [0.7790087461471558, 0.6926779747009277], \"z\": [1.0620697736740112, 1.0515035390853882]}, {\"type\": \"scatter3d\", \"line\": {\"color\": \"red\", \"width\": 5}, \"text\": [\"RKnee\"], \"y\": [-0.7709860801696777, -0.7523059844970703], \"marker\": {\"size\": 2, \"color\": \"blue\"}, \"x\": [0.9390233755111694, 0.7790087461471558], \"z\": [0.6182082891464233, 1.0620697736740112]}, {\"type\": \"scatter3d\", \"line\": {\"color\": \"red\", \"width\": 5}, \"text\": [\"RAnkle\"], \"y\": [-1.0097594261169434, -0.7709860801696777], \"marker\": {\"size\": 2, \"color\": \"blue\"}, \"x\": [0.6315014362335205, 0.9390233755111694], \"z\": [0.35738933086395264, 0.6182082891464233]}, {\"type\": \"scatter3d\", \"line\": {\"color\": \"black\", \"width\": 5}, \"text\": [\"LHip\"], \"y\": [-0.5753335952758789, -0.6638197898864746], \"marker\": {\"size\": 2, \"color\": \"blue\"}, \"x\": [0.6063467264175415, 0.6926779747009277], \"z\": [1.040936827659607, 1.0515035390853882]}, {\"type\": \"scatter3d\", \"line\": {\"color\": \"black\", \"width\": 5}, \"text\": [\"LKnee\"], \"y\": [-0.5974411964416504, -0.5753335952758789], \"marker\": {\"size\": 2, \"color\": \"blue\"}, \"x\": [0.6809951066970825, 0.6063467264175415], \"z\": [0.5752052068710327, 1.040936827659607]}, {\"type\": \"scatter3d\", \"line\": {\"color\": \"black\", \"width\": 5}, \"text\": [\"LAnkle\"], \"y\": [-0.6978144645690918, -0.5974411964416504], \"marker\": {\"size\": 2, \"color\": \"blue\"}, \"x\": [0.7068047523498535, 0.6809951066970825], \"z\": [0.11818397045135498, 0.5752052068710327]}, {\"type\": \"scatter3d\", \"line\": {\"color\": \"black\", \"width\": 5}, \"text\": [\"Spine1\"], \"y\": [-0.6931462287902832, -0.6638197898864746], \"marker\": {\"size\": 2, \"color\": \"blue\"}, \"x\": [0.6912024021148682, 0.6926779747009277], \"z\": [1.3061031103134155, 1.0515035390853882]}, {\"type\": \"scatter3d\", \"line\": {\"color\": \"black\", \"width\": 5}, \"text\": [\"Neck\"], \"y\": [-0.6637153625488281, -0.6931462287902832], \"marker\": {\"size\": 2, \"color\": \"blue\"}, \"x\": [0.6739281415939331, 0.6912024021148682], \"z\": [1.5541237592697144, 1.3061031103134155]}, {\"type\": \"scatter3d\", \"line\": {\"color\": \"black\", \"width\": 5}, \"text\": [\"Head\"], \"y\": [-0.6068882942199707, -0.6637153625488281], \"marker\": {\"size\": 2, \"color\": \"blue\"}, \"x\": [0.6845220327377319, 0.6739281415939331], \"z\": [1.6599143743515015, 1.5541237592697144]}, {\"type\": \"scatter3d\", \"line\": {\"color\": \"black\", \"width\": 5}, \"text\": [\"Site\"], \"y\": [-0.6501035690307617, -0.6068882942199707], \"marker\": {\"size\": 2, \"color\": \"blue\"}, \"x\": [0.648368239402771, 0.6845220327377319], \"z\": [1.7601627111434937, 1.6599143743515015]}, {\"type\": \"scatter3d\", \"line\": {\"color\": \"black\", \"width\": 5}, \"text\": [\"LShoulder\"], \"y\": [-0.5903635025024414, -0.6637153625488281], \"marker\": {\"size\": 2, \"color\": \"blue\"}, \"x\": [0.5374826192855835, 0.6739281415939331], \"z\": [1.4561527967453003, 1.5541237592697144]}, {\"type\": \"scatter3d\", \"line\": {\"color\": \"black\", \"width\": 5}, \"text\": [\"LElbow\"], \"y\": [-0.5210590362548828, -0.5903635025024414], \"marker\": {\"size\": 2, \"color\": \"blue\"}, \"x\": [0.4457129240036011, 0.5374826192855835], \"z\": [1.183057188987732, 1.4561527967453003]}, {\"type\": \"scatter3d\", \"line\": {\"color\": \"black\", \"width\": 5}, \"text\": [\"LWrist\"], \"y\": [-0.45778369903564453, -0.5210590362548828], \"marker\": {\"size\": 2, \"color\": \"blue\"}, \"x\": [0.6117419004440308, 0.4457129240036011], \"z\": [1.0085896253585815, 1.183057188987732]}, {\"type\": \"scatter3d\", \"line\": {\"color\": \"red\", \"width\": 5}, \"text\": [\"RShoulder\"], \"y\": [-0.7653136253356934, -0.6637153625488281], \"marker\": {\"size\": 2, \"color\": \"blue\"}, \"x\": [0.8139010667800903, 0.6739281415939331], \"z\": [1.4934481382369995, 1.5541237592697144]}, {\"type\": \"scatter3d\", \"line\": {\"color\": \"red\", \"width\": 5}, \"text\": [\"RElbow\"], \"y\": [-0.8585271835327148, -0.7653136253356934], \"marker\": {\"size\": 2, \"color\": \"blue\"}, \"x\": [0.9456726312637329, 0.8139010667800903], \"z\": [1.2449458837509155, 1.4934481382369995]}, {\"type\": \"scatter3d\", \"line\": {\"color\": \"red\", \"width\": 5}, \"text\": [\"RWrist\"], \"y\": [-0.7048430442810059, -0.8585271835327148], \"marker\": {\"size\": 2, \"color\": \"blue\"}, \"x\": [0.956734299659729, 0.9456726312637329], \"z\": [1.0493258237838745, 1.2449458837509155]}, {\"type\": \"scatter3d\", \"line\": {\"color\": \"#1f77b4\", \"width\": 1}, \"y\": [0.027873992919921875, -0.35009336471557617, -1.438657283782959, -0.2805147171020508, 1.579770565032959, 0.9985404014587402, -0.9113945960998535, -0.9276556968688965, 0.6878371238708496, 1.807086706161499, 0.4292325973510742, -1.2573628425598145], \"marker\": {\"size\": 1, \"color\": \"#1f77b4\"}, \"z\": [1.0595725774765015, 1.0333908796310425, 1.04411780834198, 1.0447648763656616, 1.0300863981246948, 1.0346969366073608, 1.038784384727478, 1.034580111503601, 1.0448054075241089, 1.0287479162216187, 1.0376280546188354, 1.0517657995224], \"x\": [-0.0631488561630249, -0.23460090160369873, 0.031986117362976074, 0.9085721969604492, 0.5869547128677368, -0.5753010511398315, -0.632104754447937, 0.49917006492614746, 0.8725070357322693, -0.0122908353805542, -0.8624705076217651, -0.3573344945907593]}], \"name\": \"frame13\"}, {\"data\": [{\"type\": \"scatter3d\", \"line\": {\"color\": \"red\", \"width\": 5}, \"text\": [\"RHip\"], \"y\": [0.8688249588012695, 0.874967098236084], \"marker\": {\"size\": 2, \"color\": \"blue\"}, \"x\": [1.1806919574737549, 1.0585362911224365], \"z\": [1.0714129209518433, 1.0505608320236206]}, {\"type\": \"scatter3d\", \"line\": {\"color\": \"red\", \"width\": 5}, \"text\": [\"RKnee\"], \"y\": [1.0170235633850098, 0.8688249588012695], \"marker\": {\"size\": 2, \"color\": \"blue\"}, \"x\": [1.1815240383148193, 1.1806919574737549], \"z\": [0.6230791807174683, 1.0714129209518433]}, {\"type\": \"scatter3d\", \"line\": {\"color\": \"red\", \"width\": 5}, \"text\": [\"RAnkle\"], \"y\": [0.9532318115234375, 1.0170235633850098], \"marker\": {\"size\": 2, \"color\": \"blue\"}, \"x\": [1.1816788911819458, 1.1815240383148193], \"z\": [0.15881764888763428, 0.6230791807174683]}, {\"type\": \"scatter3d\", \"line\": {\"color\": \"black\", \"width\": 5}, \"text\": [\"LHip\"], \"y\": [0.8811087608337402, 0.874967098236084], \"marker\": {\"size\": 2, \"color\": \"blue\"}, \"x\": [0.9363804459571838, 1.0585362911224365], \"z\": [1.0297096967697144, 1.0505608320236206]}, {\"type\": \"scatter3d\", \"line\": {\"color\": \"black\", \"width\": 5}, \"text\": [\"LKnee\"], \"y\": [0.852231502532959, 0.8811087608337402], \"marker\": {\"size\": 2, \"color\": \"blue\"}, \"x\": [0.9218253493309021, 0.9363804459571838], \"z\": [0.5586241483688354, 1.0297096967697144]}, {\"type\": \"scatter3d\", \"line\": {\"color\": \"black\", \"width\": 5}, \"text\": [\"LAnkle\"], \"y\": [0.4873318672180176, 0.852231502532959], \"marker\": {\"size\": 2, \"color\": \"blue\"}, \"x\": [0.9949407577514648, 0.9218253493309021], \"z\": [0.2738255262374878, 0.5586241483688354]}, {\"type\": \"scatter3d\", \"line\": {\"color\": \"black\", \"width\": 5}, \"text\": [\"Spine1\"], \"y\": [0.8526759147644043, 0.874967098236084], \"marker\": {\"size\": 2, \"color\": \"blue\"}, \"x\": [1.0587785243988037, 1.0585362911224365], \"z\": [1.3058770895004272, 1.0505608320236206]}, {\"type\": \"scatter3d\", \"line\": {\"color\": \"black\", \"width\": 5}, \"text\": [\"Neck\"], \"y\": [0.8745746612548828, 0.8526759147644043], \"marker\": {\"size\": 2, \"color\": \"blue\"}, \"x\": [1.0760293006896973, 1.0587785243988037], \"z\": [1.5546773672103882, 1.3058770895004272]}, {\"type\": \"scatter3d\", \"line\": {\"color\": \"black\", \"width\": 5}, \"text\": [\"Head\"], \"y\": [0.9296302795410156, 0.8745746612548828], \"marker\": {\"size\": 2, \"color\": \"blue\"}, \"x\": [1.0949499607086182, 1.0760293006896973], \"z\": [1.6602421998977661, 1.5546773672103882]}, {\"type\": \"scatter3d\", \"line\": {\"color\": \"black\", \"width\": 5}, \"text\": [\"Site\"], \"y\": [0.8765749931335449, 0.9296302795410156], \"marker\": {\"size\": 2, \"color\": \"blue\"}, \"x\": [1.1040065288543701, 1.0949499607086182], \"z\": [1.7618659734725952, 1.6602421998977661]}, {\"type\": \"scatter3d\", \"line\": {\"color\": \"black\", \"width\": 5}, \"text\": [\"LShoulder\"], \"y\": [0.8759331703186035, 0.8745746612548828], \"marker\": {\"size\": 2, \"color\": \"blue\"}, \"x\": [0.9049551486968994, 1.0760293006896973], \"z\": [1.4888914823532104, 1.5546773672103882]}, {\"type\": \"scatter3d\", \"line\": {\"color\": \"black\", \"width\": 5}, \"text\": [\"LElbow\"], \"y\": [0.8688473701477051, 0.8759331703186035], \"marker\": {\"size\": 2, \"color\": \"blue\"}, \"x\": [0.7630624771118164, 0.9049551486968994], \"z\": [1.2288483381271362, 1.4888914823532104]}, {\"type\": \"scatter3d\", \"line\": {\"color\": \"black\", \"width\": 5}, \"text\": [\"LWrist\"], \"y\": [0.9812500476837158, 0.8688473701477051], \"marker\": {\"size\": 2, \"color\": \"blue\"}, \"x\": [0.8572443723678589, 0.7630624771118164], \"z\": [1.0275925397872925, 1.2288483381271362]}, {\"type\": \"scatter3d\", \"line\": {\"color\": \"red\", \"width\": 5}, \"text\": [\"RShoulder\"], \"y\": [0.8368391990661621, 0.8745746612548828], \"marker\": {\"size\": 2, \"color\": \"blue\"}, \"x\": [1.2331748008728027, 1.0760293006896973], \"z\": [1.4682053327560425, 1.5546773672103882]}, {\"type\": \"scatter3d\", \"line\": {\"color\": \"red\", \"width\": 5}, \"text\": [\"RElbow\"], \"y\": [0.7901372909545898, 0.8368391990661621], \"marker\": {\"size\": 2, \"color\": \"blue\"}, \"x\": [1.3578109741210938, 1.2331748008728027], \"z\": [1.2034591436386108, 1.4682053327560425]}, {\"type\": \"scatter3d\", \"line\": {\"color\": \"red\", \"width\": 5}, \"text\": [\"RWrist\"], \"y\": [0.9419465065002441, 0.7901372909545898], \"marker\": {\"size\": 2, \"color\": \"blue\"}, \"x\": [1.2929725646972656, 1.3578109741210938], \"z\": [1.0170232057571411, 1.2034591436386108]}, {\"type\": \"scatter3d\", \"line\": {\"color\": \"#1f77b4\", \"width\": 1}, \"y\": [0.027873992919921875, -0.35009336471557617, -1.438657283782959, -0.2805147171020508, 1.579770565032959, 0.9985404014587402, -0.9113945960998535, -0.9276556968688965, 0.6878371238708496, 1.807086706161499, 0.4292325973510742, -1.2573628425598145, -0.6638197898864746], \"marker\": {\"size\": 1, \"color\": \"#1f77b4\"}, \"z\": [1.0595725774765015, 1.0333908796310425, 1.04411780834198, 1.0447648763656616, 1.0300863981246948, 1.0346969366073608, 1.038784384727478, 1.034580111503601, 1.0448054075241089, 1.0287479162216187, 1.0376280546188354, 1.0517657995224, 1.0515035390853882], \"x\": [-0.0631488561630249, -0.23460090160369873, 0.031986117362976074, 0.9085721969604492, 0.5869547128677368, -0.5753010511398315, -0.632104754447937, 0.49917006492614746, 0.8725070357322693, -0.0122908353805542, -0.8624705076217651, -0.3573344945907593, 0.6926779747009277]}], \"name\": \"frame14\"}, {\"data\": [{\"type\": \"scatter3d\", \"line\": {\"color\": \"red\", \"width\": 5}, \"text\": [\"RHip\"], \"y\": [2.3055531978607178, 2.2002804279327393], \"marker\": {\"size\": 2, \"color\": \"blue\"}, \"x\": [0.7593439817428589, 0.6983271837234497], \"z\": [1.0688496828079224, 1.0445762872695923]}, {\"type\": \"scatter3d\", \"line\": {\"color\": \"red\", \"width\": 5}, \"text\": [\"RKnee\"], \"y\": [2.277400255203247, 2.3055531978607178], \"marker\": {\"size\": 2, \"color\": \"blue\"}, \"x\": [0.8379436731338501, 0.7593439817428589], \"z\": [0.6040962934494019, 1.0688496828079224]}, {\"type\": \"scatter3d\", \"line\": {\"color\": \"red\", \"width\": 5}, \"text\": [\"RAnkle\"], \"y\": [2.1535449028015137, 2.277400255203247], \"marker\": {\"size\": 2, \"color\": \"blue\"}, \"x\": [1.021986484527588, 0.8379436731338501], \"z\": [0.19130408763885498, 0.6040962934494019]}, {\"type\": \"scatter3d\", \"line\": {\"color\": \"black\", \"width\": 5}, \"text\": [\"LHip\"], \"y\": [2.095008373260498, 2.2002804279327393], \"marker\": {\"size\": 2, \"color\": \"blue\"}, \"x\": [0.6373099088668823, 0.6983271837234497], \"z\": [1.0203031301498413, 1.0445762872695923]}, {\"type\": \"scatter3d\", \"line\": {\"color\": \"black\", \"width\": 5}, \"text\": [\"LKnee\"], \"y\": [2.1759767532348633, 2.095008373260498], \"marker\": {\"size\": 2, \"color\": \"blue\"}, \"x\": [0.5173918008804321, 0.6373099088668823], \"z\": [0.5708240270614624, 1.0203031301498413]}, {\"type\": \"scatter3d\", \"line\": {\"color\": \"black\", \"width\": 5}, \"text\": [\"LAnkle\"], \"y\": [2.258967399597168, 2.1759767532348633], \"marker\": {\"size\": 2, \"color\": \"blue\"}, \"x\": [0.5011595487594604, 0.5173918008804321], \"z\": [0.10989320278167725, 0.5708240270614624]}, {\"type\": \"scatter3d\", \"line\": {\"color\": \"black\", \"width\": 5}, \"text\": [\"Spine1\"], \"y\": [2.211609125137329, 2.2002804279327393], \"marker\": {\"size\": 2, \"color\": \"blue\"}, \"x\": [0.7118041515350342, 0.6983271837234497], \"z\": [1.300256609916687, 1.0445762872695923]}, {\"type\": \"scatter3d\", \"line\": {\"color\": \"black\", \"width\": 5}, \"text\": [\"Neck\"], \"y\": [2.2229931354522705, 2.211609125137329], \"marker\": {\"size\": 2, \"color\": \"blue\"}, \"x\": [0.6746009588241577, 0.7118041515350342], \"z\": [1.5475717782974243, 1.300256609916687]}, {\"type\": \"scatter3d\", \"line\": {\"color\": \"black\", \"width\": 5}, \"text\": [\"Head\"], \"y\": [2.2512621879577637, 2.2229931354522705], \"marker\": {\"size\": 2, \"color\": \"blue\"}, \"x\": [0.5986548662185669, 0.6746009588241577], \"z\": [1.6368247270584106, 1.5475717782974243]}, {\"type\": \"scatter3d\", \"line\": {\"color\": \"black\", \"width\": 5}, \"text\": [\"Site\"], \"y\": [2.2425692081451416, 2.2512621879577637], \"marker\": {\"size\": 2, \"color\": \"blue\"}, \"x\": [0.5994231700897217, 0.5986548662185669], \"z\": [1.7514904737472534, 1.6368247270584106]}, {\"type\": \"scatter3d\", \"line\": {\"color\": \"black\", \"width\": 5}, \"text\": [\"LShoulder\"], \"y\": [2.0641989707946777, 2.2229931354522705], \"marker\": {\"size\": 2, \"color\": \"blue\"}, \"x\": [0.620524525642395, 0.6746009588241577], \"z\": [1.4737046957015991, 1.5475717782974243]}, {\"type\": \"scatter3d\", \"line\": {\"color\": \"black\", \"width\": 5}, \"text\": [\"LElbow\"], \"y\": [1.932208776473999, 2.0641989707946777], \"marker\": {\"size\": 2, \"color\": \"blue\"}, \"x\": [0.590552568435669, 0.620524525642395], \"z\": [1.210103154182434, 1.4737046957015991]}, {\"type\": \"scatter3d\", \"line\": {\"color\": \"black\", \"width\": 5}, \"text\": [\"LWrist\"], \"y\": [2.0771830081939697, 1.932208776473999], \"marker\": {\"size\": 2, \"color\": \"blue\"}, \"x\": [0.5466798543930054, 0.590552568435669], \"z\": [1.0124510526657104, 1.210103154182434]}, {\"type\": \"scatter3d\", \"line\": {\"color\": \"red\", \"width\": 5}, \"text\": [\"RShoulder\"], \"y\": [2.364539384841919, 2.2229931354522705], \"marker\": {\"size\": 2, \"color\": \"blue\"}, \"x\": [0.7620868682861328, 0.6746009588241577], \"z\": [1.4707154035568237, 1.5475717782974243]}, {\"type\": \"scatter3d\", \"line\": {\"color\": \"red\", \"width\": 5}, \"text\": [\"RElbow\"], \"y\": [2.464367389678955, 2.364539384841919], \"marker\": {\"size\": 2, \"color\": \"blue\"}, \"x\": [0.8801144361495972, 0.7620868682861328], \"z\": [1.2179116010665894, 1.4707154035568237]}, {\"type\": \"scatter3d\", \"line\": {\"color\": \"red\", \"width\": 5}, \"text\": [\"RWrist\"], \"y\": [2.423006057739258, 2.464367389678955], \"marker\": {\"size\": 2, \"color\": \"blue\"}, \"x\": [0.7669250965118408, 0.8801144361495972], \"z\": [0.9999991655349731, 1.2179116010665894]}, {\"type\": \"scatter3d\", \"line\": {\"color\": \"#1f77b4\", \"width\": 1}, \"y\": [0.027873992919921875, -0.35009336471557617, -1.438657283782959, -0.2805147171020508, 1.579770565032959, 0.9985404014587402, -0.9113945960998535, -0.9276556968688965, 0.6878371238708496, 1.807086706161499, 0.4292325973510742, -1.2573628425598145, -0.6638197898864746, 0.874967098236084], \"marker\": {\"size\": 1, \"color\": \"#1f77b4\"}, \"z\": [1.0595725774765015, 1.0333908796310425, 1.04411780834198, 1.0447648763656616, 1.0300863981246948, 1.0346969366073608, 1.038784384727478, 1.034580111503601, 1.0448054075241089, 1.0287479162216187, 1.0376280546188354, 1.0517657995224, 1.0515035390853882, 1.0505608320236206], \"x\": [-0.0631488561630249, -0.23460090160369873, 0.031986117362976074, 0.9085721969604492, 0.5869547128677368, -0.5753010511398315, -0.632104754447937, 0.49917006492614746, 0.8725070357322693, -0.0122908353805542, -0.8624705076217651, -0.3573344945907593, 0.6926779747009277, 1.0585362911224365]}], \"name\": \"frame15\"}, {\"data\": [{\"type\": \"scatter3d\", \"line\": {\"color\": \"red\", \"width\": 5}, \"text\": [\"RHip\"], \"y\": [1.3310410976409912, 1.256180763244629], \"marker\": {\"size\": 2, \"color\": \"blue\"}, \"x\": [-0.5085028409957886, -0.41105473041534424], \"z\": [1.0512975454330444, 1.0341414213180542]}, {\"type\": \"scatter3d\", \"line\": {\"color\": \"red\", \"width\": 5}, \"text\": [\"RKnee\"], \"y\": [1.2116074562072754, 1.3310410976409912], \"marker\": {\"size\": 2, \"color\": \"blue\"}, \"x\": [-0.6167980432510376, -0.5085028409957886], \"z\": [0.6074799299240112, 1.0512975454330444]}, {\"type\": \"scatter3d\", \"line\": {\"color\": \"red\", \"width\": 5}, \"text\": [\"RAnkle\"], \"y\": [1.26808500289917, 1.2116074562072754], \"marker\": {\"size\": 2, \"color\": \"blue\"}, \"x\": [-0.5535029172897339, -0.6167980432510376], \"z\": [0.1465972661972046, 0.6074799299240112]}, {\"type\": \"scatter3d\", \"line\": {\"color\": \"black\", \"width\": 5}, \"text\": [\"LHip\"], \"y\": [1.1813209056854248, 1.256180763244629], \"marker\": {\"size\": 2, \"color\": \"blue\"}, \"x\": [-0.3136059045791626, -0.41105473041534424], \"z\": [1.0169867277145386, 1.0341414213180542]}, {\"type\": \"scatter3d\", \"line\": {\"color\": \"black\", \"width\": 5}, \"text\": [\"LKnee\"], \"y\": [1.2374019622802734, 1.1813209056854248], \"marker\": {\"size\": 2, \"color\": \"blue\"}, \"x\": [-0.3417562246322632, -0.3136059045791626], \"z\": [0.5489805936813354, 1.0169867277145386]}, {\"type\": \"scatter3d\", \"line\": {\"color\": \"black\", \"width\": 5}, \"text\": [\"LAnkle\"], \"y\": [1.420450210571289, 1.2374019622802734], \"marker\": {\"size\": 2, \"color\": \"blue\"}, \"x\": [-0.3018254041671753, -0.3417562246322632], \"z\": [0.11943709850311279, 0.5489805936813354]}, {\"type\": \"scatter3d\", \"line\": {\"color\": \"black\", \"width\": 5}, \"text\": [\"Spine1\"], \"y\": [1.254849910736084, 1.256180763244629], \"marker\": {\"size\": 2, \"color\": \"blue\"}, \"x\": [-0.41087353229522705, -0.41105473041534424], \"z\": [1.2904266119003296, 1.0341414213180542]}, {\"type\": \"scatter3d\", \"line\": {\"color\": \"black\", \"width\": 5}, \"text\": [\"Neck\"], \"y\": [1.2187583446502686, 1.254849910736084], \"marker\": {\"size\": 2, \"color\": \"blue\"}, \"x\": [-0.44506585597991943, -0.41087353229522705], \"z\": [1.5357974767684937, 1.2904266119003296]}, {\"type\": \"scatter3d\", \"line\": {\"color\": \"black\", \"width\": 5}, \"text\": [\"Head\"], \"y\": [1.154195785522461, 1.2187583446502686], \"marker\": {\"size\": 2, \"color\": \"blue\"}, \"x\": [-0.4993964433670044, -0.44506585597991943], \"z\": [1.621895670890808, 1.5357974767684937]}, {\"type\": \"scatter3d\", \"line\": {\"color\": \"black\", \"width\": 5}, \"text\": [\"Site\"], \"y\": [1.1534326076507568, 1.154195785522461], \"marker\": {\"size\": 2, \"color\": \"blue\"}, \"x\": [-0.5026460886001587, -0.4993964433670044], \"z\": [1.7368444204330444, 1.621895670890808]}, {\"type\": \"scatter3d\", \"line\": {\"color\": \"black\", \"width\": 5}, \"text\": [\"LShoulder\"], \"y\": [1.1277527809143066, 1.2187583446502686], \"marker\": {\"size\": 2, \"color\": \"blue\"}, \"x\": [-0.30026566982269287, -0.44506585597991943], \"z\": [1.4698671102523804, 1.5357974767684937]}, {\"type\": \"scatter3d\", \"line\": {\"color\": \"black\", \"width\": 5}, \"text\": [\"LElbow\"], \"y\": [1.0863149166107178, 1.1277527809143066], \"marker\": {\"size\": 2, \"color\": \"blue\"}, \"x\": [-0.16883575916290283, -0.30026566982269287], \"z\": [1.2075413465499878, 1.4698671102523804]}, {\"type\": \"scatter3d\", \"line\": {\"color\": \"black\", \"width\": 5}, \"text\": [\"LWrist\"], \"y\": [1.082629680633545, 1.0863149166107178], \"marker\": {\"size\": 2, \"color\": \"blue\"}, \"x\": [-0.30507218837738037, -0.16883575916290283], \"z\": [0.9991320371627808, 1.2075413465499878]}, {\"type\": \"scatter3d\", \"line\": {\"color\": \"red\", \"width\": 5}, \"text\": [\"RShoulder\"], \"y\": [1.3427505493164062, 1.2187583446502686], \"marker\": {\"size\": 2, \"color\": \"blue\"}, \"x\": [-0.5586820840835571, -0.44506585597991943], \"z\": [1.4629043340682983, 1.5357974767684937]}, {\"type\": \"scatter3d\", \"line\": {\"color\": \"red\", \"width\": 5}, \"text\": [\"RElbow\"], \"y\": [1.4805302619934082, 1.3427505493164062], \"marker\": {\"size\": 2, \"color\": \"blue\"}, \"x\": [-0.6135882139205933, -0.5586820840835571], \"z\": [1.2063740491867065, 1.4629043340682983]}, {\"type\": \"scatter3d\", \"line\": {\"color\": \"red\", \"width\": 5}, \"text\": [\"RWrist\"], \"y\": [1.3336074352264404, 1.4805302619934082], \"marker\": {\"size\": 2, \"color\": \"blue\"}, \"x\": [-0.6103485822677612, -0.6135882139205933], \"z\": [1.0053480863571167, 1.2063740491867065]}, {\"type\": \"scatter3d\", \"line\": {\"color\": \"#1f77b4\", \"width\": 1}, \"y\": [0.027873992919921875, -0.35009336471557617, -1.438657283782959, -0.2805147171020508, 1.579770565032959, 0.9985404014587402, -0.9113945960998535, -0.9276556968688965, 0.6878371238708496, 1.807086706161499, 0.4292325973510742, -1.2573628425598145, -0.6638197898864746, 0.874967098236084, 2.2002804279327393], \"marker\": {\"size\": 1, \"color\": \"#1f77b4\"}, \"z\": [1.0595725774765015, 1.0333908796310425, 1.04411780834198, 1.0447648763656616, 1.0300863981246948, 1.0346969366073608, 1.038784384727478, 1.034580111503601, 1.0448054075241089, 1.0287479162216187, 1.0376280546188354, 1.0517657995224, 1.0515035390853882, 1.0505608320236206, 1.0445762872695923], \"x\": [-0.0631488561630249, -0.23460090160369873, 0.031986117362976074, 0.9085721969604492, 0.5869547128677368, -0.5753010511398315, -0.632104754447937, 0.49917006492614746, 0.8725070357322693, -0.0122908353805542, -0.8624705076217651, -0.3573344945907593, 0.6926779747009277, 1.0585362911224365, 0.6983271837234497]}], \"name\": \"frame16\"}, {\"data\": [{\"type\": \"scatter3d\", \"line\": {\"color\": \"red\", \"width\": 5}, \"text\": [\"RHip\"], \"y\": [-0.4475541114807129, -0.4227867126464844], \"marker\": {\"size\": 2, \"color\": \"blue\"}, \"x\": [-0.9158166646957397, -0.7955857515335083], \"z\": [1.0592654943466187, 1.0412229299545288]}, {\"type\": \"scatter3d\", \"line\": {\"color\": \"red\", \"width\": 5}, \"text\": [\"RKnee\"], \"y\": [-0.4724717140197754, -0.4475541114807129], \"marker\": {\"size\": 2, \"color\": \"blue\"}, \"x\": [-0.8825501203536987, -0.9158166646957397], \"z\": [0.5889052152633667, 1.0592654943466187]}, {\"type\": \"scatter3d\", \"line\": {\"color\": \"red\", \"width\": 5}, \"text\": [\"RAnkle\"], \"y\": [-0.33567190170288086, -0.4724717140197754], \"marker\": {\"size\": 2, \"color\": \"blue\"}, \"x\": [-0.8845926523208618, -0.8825501203536987], \"z\": [0.14069736003875732, 0.5889052152633667]}, {\"type\": \"scatter3d\", \"line\": {\"color\": \"black\", \"width\": 5}, \"text\": [\"LHip\"], \"y\": [-0.39801979064941406, -0.4227867126464844], \"marker\": {\"size\": 2, \"color\": \"blue\"}, \"x\": [-0.6753541231155396, -0.7955857515335083], \"z\": [1.0231798887252808, 1.0412229299545288]}, {\"type\": \"scatter3d\", \"line\": {\"color\": \"black\", \"width\": 5}, \"text\": [\"LKnee\"], \"y\": [-0.5543756484985352, -0.39801979064941406], \"marker\": {\"size\": 2, \"color\": \"blue\"}, \"x\": [-0.6118487119674683, -0.6753541231155396], \"z\": [0.5821727514266968, 1.0231798887252808]}, {\"type\": \"scatter3d\", \"line\": {\"color\": \"black\", \"width\": 5}, \"text\": [\"LAnkle\"], \"y\": [-0.3974299430847168, -0.5543756484985352], \"marker\": {\"size\": 2, \"color\": \"blue\"}, \"x\": [-0.7749944925308228, -0.6118487119674683], \"z\": [0.17185628414154053, 0.5821727514266968]}, {\"type\": \"scatter3d\", \"line\": {\"color\": \"black\", \"width\": 5}, \"text\": [\"Spine1\"], \"y\": [-0.4142327308654785, -0.4227867126464844], \"marker\": {\"size\": 2, \"color\": \"blue\"}, \"x\": [-0.8187874555587769, -0.7955857515335083], \"z\": [1.2963141202926636, 1.0412229299545288]}, {\"type\": \"scatter3d\", \"line\": {\"color\": \"black\", \"width\": 5}, \"text\": [\"Neck\"], \"y\": [-0.45099353790283203, -0.4142327308654785], \"marker\": {\"size\": 2, \"color\": \"blue\"}, \"x\": [-0.8234339952468872, -0.8187874555587769], \"z\": [1.543913722038269, 1.2963141202926636]}, {\"type\": \"scatter3d\", \"line\": {\"color\": \"black\", \"width\": 5}, \"text\": [\"Head\"], \"y\": [-0.5245537757873535, -0.45099353790283203], \"marker\": {\"size\": 2, \"color\": \"blue\"}, \"x\": [-0.805519700050354, -0.8234339952468872], \"z\": [1.6377266645431519, 1.543913722038269]}, {\"type\": \"scatter3d\", \"line\": {\"color\": \"black\", \"width\": 5}, \"text\": [\"Site\"], \"y\": [-0.5199594497680664, -0.5245537757873535], \"marker\": {\"size\": 2, \"color\": \"blue\"}, \"x\": [-0.8097978830337524, -0.805519700050354], \"z\": [1.75255286693573, 1.6377266645431519]}, {\"type\": \"scatter3d\", \"line\": {\"color\": \"black\", \"width\": 5}, \"text\": [\"LShoulder\"], \"y\": [-0.3840055465698242, -0.45099353790283203], \"marker\": {\"size\": 2, \"color\": \"blue\"}, \"x\": [-0.6627382040023804, -0.8234339952468872], \"z\": [1.4865931272506714, 1.543913722038269]}, {\"type\": \"scatter3d\", \"line\": {\"color\": \"black\", \"width\": 5}, \"text\": [\"LElbow\"], \"y\": [-0.31952714920043945, -0.3840055465698242], \"marker\": {\"size\": 2, \"color\": \"blue\"}, \"x\": [-0.530328631401062, -0.6627382040023804], \"z\": [1.2294620275497437, 1.4865931272506714]}, {\"type\": \"scatter3d\", \"line\": {\"color\": \"black\", \"width\": 5}, \"text\": [\"LWrist\"], \"y\": [-0.4620351791381836, -0.31952714920043945], \"marker\": {\"size\": 2, \"color\": \"blue\"}, \"x\": [-0.598882794380188, -0.530328631401062], \"z\": [1.0371068716049194, 1.2294620275497437]}, {\"type\": \"scatter3d\", \"line\": {\"color\": \"red\", \"width\": 5}, \"text\": [\"RShoulder\"], \"y\": [-0.474057674407959, -0.45099353790283203], \"marker\": {\"size\": 2, \"color\": \"blue\"}, \"x\": [-0.985519289970398, -0.8234339952468872], \"z\": [1.4614962339401245, 1.543913722038269]}, {\"type\": \"scatter3d\", \"line\": {\"color\": \"red\", \"width\": 5}, \"text\": [\"RElbow\"], \"y\": [-0.46204185485839844, -0.474057674407959], \"marker\": {\"size\": 2, \"color\": \"blue\"}, \"x\": [-1.1155980825424194, -0.985519289970398], \"z\": [1.1955240964889526, 1.4614962339401245]}, {\"type\": \"scatter3d\", \"line\": {\"color\": \"red\", \"width\": 5}, \"text\": [\"RWrist\"], \"y\": [-0.5378379821777344, -0.46204185485839844], \"marker\": {\"size\": 2, \"color\": \"blue\"}, \"x\": [-0.987078070640564, -1.1155980825424194], \"z\": [0.9961603879928589, 1.1955240964889526]}, {\"type\": \"scatter3d\", \"line\": {\"color\": \"#1f77b4\", \"width\": 1}, \"y\": [0.027873992919921875, -0.35009336471557617, -1.438657283782959, -0.2805147171020508, 1.579770565032959, 0.9985404014587402, -0.9113945960998535, -0.9276556968688965, 0.6878371238708496, 1.807086706161499, 0.4292325973510742, -1.2573628425598145, -0.6638197898864746, 0.874967098236084, 2.2002804279327393, 1.256180763244629], \"marker\": {\"size\": 1, \"color\": \"#1f77b4\"}, \"z\": [1.0595725774765015, 1.0333908796310425, 1.04411780834198, 1.0447648763656616, 1.0300863981246948, 1.0346969366073608, 1.038784384727478, 1.034580111503601, 1.0448054075241089, 1.0287479162216187, 1.0376280546188354, 1.0517657995224, 1.0515035390853882, 1.0505608320236206, 1.0445762872695923, 1.0341414213180542], \"x\": [-0.0631488561630249, -0.23460090160369873, 0.031986117362976074, 0.9085721969604492, 0.5869547128677368, -0.5753010511398315, -0.632104754447937, 0.49917006492614746, 0.8725070357322693, -0.0122908353805542, -0.8624705076217651, -0.3573344945907593, 0.6926779747009277, 1.0585362911224365, 0.6983271837234497, -0.41105473041534424]}], \"name\": \"frame17\"}]);\n",
       "                        }).then(function(){\n",
       "                            Plotly.animate('f9b99899-1eb6-477a-a9fd-de6bf56df544', null);\n",
       "                        }).then(function(){\n",
       "                            \n",
       "var gd = document.getElementById('f9b99899-1eb6-477a-a9fd-de6bf56df544');\n",
       "var x = new MutationObserver(function (mutations, observer) {{\n",
       "        var display = window.getComputedStyle(gd).display;\n",
       "        if (!display || display === 'none') {{\n",
       "            console.log([gd, 'removed!']);\n",
       "            Plotly.purge(gd);\n",
       "            observer.disconnect();\n",
       "        }}\n",
       "}});\n",
       "\n",
       "// Listen for the removal of the full notebook cells\n",
       "var notebookContainer = gd.closest('#notebook-container');\n",
       "if (notebookContainer) {{\n",
       "    x.observe(notebookContainer, {childList: true});\n",
       "}}\n",
       "\n",
       "// Listen for the clearing of the current output cell\n",
       "var outputEl = gd.closest('.output');\n",
       "if (outputEl) {{\n",
       "    x.observe(outputEl, {childList: true});\n",
       "}}\n",
       "\n",
       "                        })\n",
       "                };\n",
       "                });\n",
       "            </script>\n",
       "        </div>"
      ]
     },
     "metadata": {},
     "output_type": "display_data"
    }
   ],
   "source": [
    "frames, layout = generate_frames_layout(gt[::100], dataset.skeleton(), human36m_kpts_name)\n",
    "fig = dict(data=get_line_3d_segs(gt, 0, dataset.skeleton(), human36m_kpts_name), layout=layout, frames=frames)\n",
    "plotly.offline.iplot(fig)"
   ]
  },
  {
   "cell_type": "markdown",
   "metadata": {},
   "source": [
    "## visualize predictions"
   ]
  },
  {
   "cell_type": "code",
   "execution_count": 57,
   "metadata": {},
   "outputs": [
    {
     "data": {
      "application/vnd.plotly.v1+json": {
       "config": {
        "linkText": "Export to plot.ly",
        "plotlyServerURL": "https://plot.ly",
        "responsive": true,
        "showLink": false
       },
       "data": [
        {
         "line": {
          "color": "red",
          "width": 5
         },
         "marker": {
          "color": "blue",
          "size": 2
         },
         "text": [
          "RHip"
         ],
         "type": "scatter3d",
         "uid": "99280f0d-9ca8-43d0-9932-ca762737db0a",
         "x": [
          -0.20358693599700928,
          -0.06316161155700684
         ],
         "y": [
          0.01765918731689453,
          0.02784585952758789
         ],
         "z": [
          1.0625661611557007,
          1.0595601797103882
         ]
        },
        {
         "line": {
          "color": "red",
          "width": 5
         },
         "marker": {
          "color": "blue",
          "size": 2
         },
         "text": [
          "RKnee"
         ],
         "type": "scatter3d",
         "uid": "e392c17e-e3a6-4745-b3e0-7217b4bbb180",
         "x": [
          -0.206534743309021,
          -0.20358693599700928
         ],
         "y": [
          0.04522371292114258,
          0.01765918731689453
         ],
         "z": [
          0.6097873449325562,
          1.0625661611557007
         ]
        },
        {
         "line": {
          "color": "red",
          "width": 5
         },
         "marker": {
          "color": "blue",
          "size": 2
         },
         "text": [
          "RAnkle"
         ],
         "type": "scatter3d",
         "uid": "19e38d69-5def-4b8e-88b0-f84592b8900f",
         "x": [
          -0.22039377689361572,
          -0.206534743309021
         ],
         "y": [
          0.10761117935180664,
          0.04522371292114258
         ],
         "z": [
          0.17624080181121826,
          0.6097873449325562
         ]
        },
        {
         "line": {
          "color": "black",
          "width": 5
         },
         "marker": {
          "color": "blue",
          "size": 2
         },
         "text": [
          "LHip"
         ],
         "type": "scatter3d",
         "uid": "5374b7de-44cf-4a6f-888f-ed7e3aa4e8df",
         "x": [
          0.0772925615310669,
          -0.06316161155700684
         ],
         "y": [
          0.03808784484863281,
          0.02784585952758789
         ],
         "z": [
          1.0565794706344604,
          1.0595601797103882
         ]
        },
        {
         "line": {
          "color": "black",
          "width": 5
         },
         "marker": {
          "color": "blue",
          "size": 2
         },
         "text": [
          "LKnee"
         ],
         "type": "scatter3d",
         "uid": "88a574b5-7027-4a62-8c06-8dd8bad89b27",
         "x": [
          0.10148048400878906,
          0.0772925615310669
         ],
         "y": [
          0.059401512145996094,
          0.03808784484863281
         ],
         "z": [
          0.6029170751571655,
          1.0565794706344604
         ]
        },
        {
         "line": {
          "color": "black",
          "width": 5
         },
         "marker": {
          "color": "blue",
          "size": 2
         },
         "text": [
          "LAnkle"
         ],
         "type": "scatter3d",
         "uid": "b604766a-0e97-491c-a217-f19a8ef673d5",
         "x": [
          0.13269007205963135,
          0.10148048400878906
         ],
         "y": [
          0.12624216079711914,
          0.059401512145996094
         ],
         "z": [
          0.16382062435150146,
          0.6029170751571655
         ]
        },
        {
         "line": {
          "color": "black",
          "width": 5
         },
         "marker": {
          "color": "blue",
          "size": 2
         },
         "text": [
          "Spine1"
         ],
         "type": "scatter3d",
         "uid": "ff6061b9-2916-4be0-b41c-7438633ee0e9",
         "x": [
          -0.0619736909866333,
          -0.06316161155700684
         ],
         "y": [
          0.03876447677612305,
          0.02784585952758789
         ],
         "z": [
          1.317872405052185,
          1.0595601797103882
         ]
        },
        {
         "line": {
          "color": "black",
          "width": 5
         },
         "marker": {
          "color": "blue",
          "size": 2
         },
         "text": [
          "Neck"
         ],
         "type": "scatter3d",
         "uid": "7b8d6aa1-65f7-4f83-abc8-f4c0929eb4e5",
         "x": [
          -0.052529215812683105,
          -0.0619736909866333
         ],
         "y": [
          0.03572702407836914,
          0.03876447677612305
         ],
         "z": [
          1.5694106817245483,
          1.317872405052185
         ]
        },
        {
         "line": {
          "color": "black",
          "width": 5
         },
         "marker": {
          "color": "blue",
          "size": 2
         },
         "text": [
          "Head"
         ],
         "type": "scatter3d",
         "uid": "d9a1f204-f2ae-4f5e-a4ef-2ab433d4fce1",
         "x": [
          -0.0621105432510376,
          -0.052529215812683105
         ],
         "y": [
          -0.028594493865966797,
          0.03572702407836914
         ],
         "z": [
          1.667385458946228,
          1.5694106817245483
         ]
        },
        {
         "line": {
          "color": "black",
          "width": 5
         },
         "marker": {
          "color": "blue",
          "size": 2
         },
         "text": [
          "Site"
         ],
         "type": "scatter3d",
         "uid": "5bbb9497-0bf1-4403-bdb7-c01b789a41b2",
         "x": [
          -0.06957602500915527,
          -0.0621105432510376
         ],
         "y": [
          0.009552001953125,
          -0.028594493865966797
         ],
         "z": [
          1.7723015546798706,
          1.667385458946228
         ]
        },
        {
         "line": {
          "color": "black",
          "width": 5
         },
         "marker": {
          "color": "blue",
          "size": 2
         },
         "text": [
          "LShoulder"
         ],
         "type": "scatter3d",
         "uid": "ca363936-46a6-4027-b4f4-34a31189c0f3",
         "x": [
          0.11152493953704834,
          -0.052529215812683105
         ],
         "y": [
          0.06675386428833008,
          0.03572702407836914
         ],
         "z": [
          1.5484880208969116,
          1.5694106817245483
         ]
        },
        {
         "line": {
          "color": "black",
          "width": 5
         },
         "marker": {
          "color": "blue",
          "size": 2
         },
         "text": [
          "LElbow"
         ],
         "type": "scatter3d",
         "uid": "9267312e-86e5-4d50-b35a-05be7144f764",
         "x": [
          0.39663684368133545,
          0.11152493953704834
         ],
         "y": [
          0.08874177932739258,
          0.06675386428833008
         ],
         "z": [
          1.4825419187545776,
          1.5484880208969116
         ]
        },
        {
         "line": {
          "color": "black",
          "width": 5
         },
         "marker": {
          "color": "blue",
          "size": 2
         },
         "text": [
          "LWrist"
         ],
         "type": "scatter3d",
         "uid": "065bf89a-3855-4693-b7df-1b2f1fde7486",
         "x": [
          0.6430068016052246,
          0.39663684368133545
         ],
         "y": [
          0.06914138793945312,
          0.08874177932739258
         ],
         "z": [
          1.4790366888046265,
          1.4825419187545776
         ]
        },
        {
         "line": {
          "color": "red",
          "width": 5
         },
         "marker": {
          "color": "blue",
          "size": 2
         },
         "text": [
          "RShoulder"
         ],
         "type": "scatter3d",
         "uid": "cbce133b-cf35-4cea-909e-001250eef096",
         "x": [
          -0.2172938585281372,
          -0.052529215812683105
         ],
         "y": [
          0.058331966400146484,
          0.03572702407836914
         ],
         "z": [
          1.5449689626693726,
          1.5694106817245483
         ]
        },
        {
         "line": {
          "color": "red",
          "width": 5
         },
         "marker": {
          "color": "blue",
          "size": 2
         },
         "text": [
          "RElbow"
         ],
         "type": "scatter3d",
         "uid": "1c39fbfd-5804-4dc0-9509-a37129441984",
         "x": [
          -0.49363696575164795,
          -0.2172938585281372
         ],
         "y": [
          0.0825200080871582,
          0.058331966400146484
         ],
         "z": [
          1.4703377485275269,
          1.5449689626693726
         ]
        },
        {
         "line": {
          "color": "red",
          "width": 5
         },
         "marker": {
          "color": "blue",
          "size": 2
         },
         "text": [
          "RWrist"
         ],
         "type": "scatter3d",
         "uid": "1c750728-f029-406d-8646-194508387864",
         "x": [
          -0.7368916273117065,
          -0.49363696575164795
         ],
         "y": [
          0.043140411376953125,
          0.0825200080871582
         ],
         "z": [
          1.4481347799301147,
          1.4703377485275269
         ]
        },
        {
         "line": {
          "color": "#1f77b4",
          "width": 1
         },
         "marker": {
          "color": "#1f77b4",
          "size": 1
         },
         "type": "scatter3d",
         "uid": "83a465d2-42da-49e6-9641-5a97ad1154de",
         "x": [],
         "y": [],
         "z": []
        }
       ],
       "frames": [
        {
         "data": [
          {
           "line": {
            "color": "red",
            "width": 5
           },
           "marker": {
            "color": "blue",
            "size": 2
           },
           "text": [
            "RHip"
           ],
           "type": "scatter3d",
           "x": [
            -0.20358693599700928,
            -0.06316161155700684
           ],
           "y": [
            0.01765918731689453,
            0.02784585952758789
           ],
           "z": [
            1.0625661611557007,
            1.0595601797103882
           ]
          },
          {
           "line": {
            "color": "red",
            "width": 5
           },
           "marker": {
            "color": "blue",
            "size": 2
           },
           "text": [
            "RKnee"
           ],
           "type": "scatter3d",
           "x": [
            -0.206534743309021,
            -0.20358693599700928
           ],
           "y": [
            0.04522371292114258,
            0.01765918731689453
           ],
           "z": [
            0.6097873449325562,
            1.0625661611557007
           ]
          },
          {
           "line": {
            "color": "red",
            "width": 5
           },
           "marker": {
            "color": "blue",
            "size": 2
           },
           "text": [
            "RAnkle"
           ],
           "type": "scatter3d",
           "x": [
            -0.22039377689361572,
            -0.206534743309021
           ],
           "y": [
            0.10761117935180664,
            0.04522371292114258
           ],
           "z": [
            0.17624080181121826,
            0.6097873449325562
           ]
          },
          {
           "line": {
            "color": "black",
            "width": 5
           },
           "marker": {
            "color": "blue",
            "size": 2
           },
           "text": [
            "LHip"
           ],
           "type": "scatter3d",
           "x": [
            0.0772925615310669,
            -0.06316161155700684
           ],
           "y": [
            0.03808784484863281,
            0.02784585952758789
           ],
           "z": [
            1.0565794706344604,
            1.0595601797103882
           ]
          },
          {
           "line": {
            "color": "black",
            "width": 5
           },
           "marker": {
            "color": "blue",
            "size": 2
           },
           "text": [
            "LKnee"
           ],
           "type": "scatter3d",
           "x": [
            0.10148048400878906,
            0.0772925615310669
           ],
           "y": [
            0.059401512145996094,
            0.03808784484863281
           ],
           "z": [
            0.6029170751571655,
            1.0565794706344604
           ]
          },
          {
           "line": {
            "color": "black",
            "width": 5
           },
           "marker": {
            "color": "blue",
            "size": 2
           },
           "text": [
            "LAnkle"
           ],
           "type": "scatter3d",
           "x": [
            0.13269007205963135,
            0.10148048400878906
           ],
           "y": [
            0.12624216079711914,
            0.059401512145996094
           ],
           "z": [
            0.16382062435150146,
            0.6029170751571655
           ]
          },
          {
           "line": {
            "color": "black",
            "width": 5
           },
           "marker": {
            "color": "blue",
            "size": 2
           },
           "text": [
            "Spine1"
           ],
           "type": "scatter3d",
           "x": [
            -0.0619736909866333,
            -0.06316161155700684
           ],
           "y": [
            0.03876447677612305,
            0.02784585952758789
           ],
           "z": [
            1.317872405052185,
            1.0595601797103882
           ]
          },
          {
           "line": {
            "color": "black",
            "width": 5
           },
           "marker": {
            "color": "blue",
            "size": 2
           },
           "text": [
            "Neck"
           ],
           "type": "scatter3d",
           "x": [
            -0.052529215812683105,
            -0.0619736909866333
           ],
           "y": [
            0.03572702407836914,
            0.03876447677612305
           ],
           "z": [
            1.5694106817245483,
            1.317872405052185
           ]
          },
          {
           "line": {
            "color": "black",
            "width": 5
           },
           "marker": {
            "color": "blue",
            "size": 2
           },
           "text": [
            "Head"
           ],
           "type": "scatter3d",
           "x": [
            -0.0621105432510376,
            -0.052529215812683105
           ],
           "y": [
            -0.028594493865966797,
            0.03572702407836914
           ],
           "z": [
            1.667385458946228,
            1.5694106817245483
           ]
          },
          {
           "line": {
            "color": "black",
            "width": 5
           },
           "marker": {
            "color": "blue",
            "size": 2
           },
           "text": [
            "Site"
           ],
           "type": "scatter3d",
           "x": [
            -0.06957602500915527,
            -0.0621105432510376
           ],
           "y": [
            0.009552001953125,
            -0.028594493865966797
           ],
           "z": [
            1.7723015546798706,
            1.667385458946228
           ]
          },
          {
           "line": {
            "color": "black",
            "width": 5
           },
           "marker": {
            "color": "blue",
            "size": 2
           },
           "text": [
            "LShoulder"
           ],
           "type": "scatter3d",
           "x": [
            0.11152493953704834,
            -0.052529215812683105
           ],
           "y": [
            0.06675386428833008,
            0.03572702407836914
           ],
           "z": [
            1.5484880208969116,
            1.5694106817245483
           ]
          },
          {
           "line": {
            "color": "black",
            "width": 5
           },
           "marker": {
            "color": "blue",
            "size": 2
           },
           "text": [
            "LElbow"
           ],
           "type": "scatter3d",
           "x": [
            0.39663684368133545,
            0.11152493953704834
           ],
           "y": [
            0.08874177932739258,
            0.06675386428833008
           ],
           "z": [
            1.4825419187545776,
            1.5484880208969116
           ]
          },
          {
           "line": {
            "color": "black",
            "width": 5
           },
           "marker": {
            "color": "blue",
            "size": 2
           },
           "text": [
            "LWrist"
           ],
           "type": "scatter3d",
           "x": [
            0.6430068016052246,
            0.39663684368133545
           ],
           "y": [
            0.06914138793945312,
            0.08874177932739258
           ],
           "z": [
            1.4790366888046265,
            1.4825419187545776
           ]
          },
          {
           "line": {
            "color": "red",
            "width": 5
           },
           "marker": {
            "color": "blue",
            "size": 2
           },
           "text": [
            "RShoulder"
           ],
           "type": "scatter3d",
           "x": [
            -0.2172938585281372,
            -0.052529215812683105
           ],
           "y": [
            0.058331966400146484,
            0.03572702407836914
           ],
           "z": [
            1.5449689626693726,
            1.5694106817245483
           ]
          },
          {
           "line": {
            "color": "red",
            "width": 5
           },
           "marker": {
            "color": "blue",
            "size": 2
           },
           "text": [
            "RElbow"
           ],
           "type": "scatter3d",
           "x": [
            -0.49363696575164795,
            -0.2172938585281372
           ],
           "y": [
            0.0825200080871582,
            0.058331966400146484
           ],
           "z": [
            1.4703377485275269,
            1.5449689626693726
           ]
          },
          {
           "line": {
            "color": "red",
            "width": 5
           },
           "marker": {
            "color": "blue",
            "size": 2
           },
           "text": [
            "RWrist"
           ],
           "type": "scatter3d",
           "x": [
            -0.7368916273117065,
            -0.49363696575164795
           ],
           "y": [
            0.043140411376953125,
            0.0825200080871582
           ],
           "z": [
            1.4481347799301147,
            1.4703377485275269
           ]
          },
          {
           "line": {
            "color": "#1f77b4",
            "width": 1
           },
           "marker": {
            "color": "#1f77b4",
            "size": 1
           },
           "type": "scatter3d",
           "x": [],
           "y": [],
           "z": []
          }
         ],
         "name": "frame1"
        },
        {
         "data": [
          {
           "line": {
            "color": "red",
            "width": 5
           },
           "marker": {
            "color": "blue",
            "size": 2
           },
           "text": [
            "RHip"
           ],
           "type": "scatter3d",
           "x": [
            -0.3656836748123169,
            -0.23460161685943604
           ],
           "y": [
            -0.3159613609313965,
            -0.350095272064209
           ],
           "z": [
            1.0315994024276733,
            1.0333861112594604
           ]
          },
          {
           "line": {
            "color": "red",
            "width": 5
           },
           "marker": {
            "color": "blue",
            "size": 2
           },
           "text": [
            "RKnee"
           ],
           "type": "scatter3d",
           "x": [
            -0.3401838541030884,
            -0.3656836748123169
           ],
           "y": [
            -0.2561664581298828,
            -0.3159613609313965
           ],
           "z": [
            0.5836137533187866,
            1.0315994024276733
           ]
          },
          {
           "line": {
            "color": "red",
            "width": 5
           },
           "marker": {
            "color": "blue",
            "size": 2
           },
           "text": [
            "RAnkle"
           ],
           "type": "scatter3d",
           "x": [
            -0.2825990915298462,
            -0.3401838541030884
           ],
           "y": [
            -0.0006108283996582031,
            -0.2561664581298828
           ],
           "z": [
            0.23037421703338623,
            0.5836137533187866
           ]
          },
          {
           "line": {
            "color": "black",
            "width": 5
           },
           "marker": {
            "color": "blue",
            "size": 2
           },
           "text": [
            "LHip"
           ],
           "type": "scatter3d",
           "x": [
            -0.10351705551147461,
            -0.23460161685943604
           ],
           "y": [
            -0.3842277526855469,
            -0.350095272064209
           ],
           "z": [
            1.0351842641830444,
            1.0333861112594604
           ]
          },
          {
           "line": {
            "color": "black",
            "width": 5
           },
           "marker": {
            "color": "blue",
            "size": 2
           },
           "text": [
            "LKnee"
           ],
           "type": "scatter3d",
           "x": [
            -0.15301835536956787,
            -0.10351705551147461
           ],
           "y": [
            -0.46961307525634766,
            -0.3842277526855469
           ],
           "z": [
            0.5922096967697144,
            1.0351842641830444
           ]
          },
          {
           "line": {
            "color": "black",
            "width": 5
           },
           "marker": {
            "color": "blue",
            "size": 2
           },
           "text": [
            "LAnkle"
           ],
           "type": "scatter3d",
           "x": [
            -0.16819703578948975,
            -0.15301835536956787
           ],
           "y": [
            -0.4765815734863281,
            -0.46961307525634766
           ],
           "z": [
            0.1522282361984253,
            0.5922096967697144
           ]
          },
          {
           "line": {
            "color": "black",
            "width": 5
           },
           "marker": {
            "color": "blue",
            "size": 2
           },
           "text": [
            "Spine1"
           ],
           "type": "scatter3d",
           "x": [
            -0.23994863033294678,
            -0.23460161685943604
           ],
           "y": [
            -0.3253049850463867,
            -0.350095272064209
           ],
           "z": [
            1.2855342626571655,
            1.0333861112594604
           ]
          },
          {
           "line": {
            "color": "black",
            "width": 5
           },
           "marker": {
            "color": "blue",
            "size": 2
           },
           "text": [
            "Neck"
           ],
           "type": "scatter3d",
           "x": [
            -0.24100148677825928,
            -0.23994863033294678
           ],
           "y": [
            -0.36526918411254883,
            -0.3253049850463867
           ],
           "z": [
            1.534756064414978,
            1.2855342626571655
           ]
          },
          {
           "line": {
            "color": "black",
            "width": 5
           },
           "marker": {
            "color": "blue",
            "size": 2
           },
           "text": [
            "Head"
           ],
           "type": "scatter3d",
           "x": [
            -0.24706637859344482,
            -0.24100148677825928
           ],
           "y": [
            -0.4545893669128418,
            -0.36526918411254883
           ],
           "z": [
            1.6124590635299683,
            1.534756064414978
           ]
          },
          {
           "line": {
            "color": "black",
            "width": 5
           },
           "marker": {
            "color": "blue",
            "size": 2
           },
           "text": [
            "Site"
           ],
           "type": "scatter3d",
           "x": [
            -0.2481602430343628,
            -0.24706637859344482
           ],
           "y": [
            -0.4474005699157715,
            -0.4545893669128418
           ],
           "z": [
            1.7275222539901733,
            1.6124590635299683
           ]
          },
          {
           "line": {
            "color": "black",
            "width": 5
           },
           "marker": {
            "color": "blue",
            "size": 2
           },
           "text": [
            "LShoulder"
           ],
           "type": "scatter3d",
           "x": [
            -0.09022235870361328,
            -0.24100148677825928
           ],
           "y": [
            -0.3783602714538574,
            -0.36526918411254883
           ],
           "z": [
            1.4724668264389038,
            1.534756064414978
           ]
          },
          {
           "line": {
            "color": "black",
            "width": 5
           },
           "marker": {
            "color": "blue",
            "size": 2
           },
           "text": [
            "LElbow"
           ],
           "type": "scatter3d",
           "x": [
            0.018250226974487305,
            -0.09022235870361328
           ],
           "y": [
            -0.36348485946655273,
            -0.3783602714538574
           ],
           "z": [
            1.2068809270858765,
            1.4724668264389038
           ]
          },
          {
           "line": {
            "color": "black",
            "width": 5
           },
           "marker": {
            "color": "blue",
            "size": 2
           },
           "text": [
            "LWrist"
           ],
           "type": "scatter3d",
           "x": [
            0.01643848419189453,
            0.018250226974487305
           ],
           "y": [
            -0.41871023178100586,
            -0.36348485946655273
           ],
           "z": [
            0.9711068868637085,
            1.2068809270858765
           ]
          },
          {
           "line": {
            "color": "red",
            "width": 5
           },
           "marker": {
            "color": "blue",
            "size": 2
           },
           "text": [
            "RShoulder"
           ],
           "type": "scatter3d",
           "x": [
            -0.38202035427093506,
            -0.24100148677825928
           ],
           "y": [
            -0.31003379821777344,
            -0.36526918411254883
           ],
           "z": [
            1.4748796224594116,
            1.534756064414978
           ]
          },
          {
           "line": {
            "color": "red",
            "width": 5
           },
           "marker": {
            "color": "blue",
            "size": 2
           },
           "text": [
            "RElbow"
           ],
           "type": "scatter3d",
           "x": [
            -0.46184051036834717,
            -0.38202035427093506
           ],
           "y": [
            -0.25078344345092773,
            -0.31003379821777344
           ],
           "z": [
            1.2062324285507202,
            1.4748796224594116
           ]
          },
          {
           "line": {
            "color": "red",
            "width": 5
           },
           "marker": {
            "color": "blue",
            "size": 2
           },
           "text": [
            "RWrist"
           ],
           "type": "scatter3d",
           "x": [
            -0.5110574960708618,
            -0.46184051036834717
           ],
           "y": [
            -0.29571104049682617,
            -0.25078344345092773
           ],
           "z": [
            0.972434401512146,
            1.2062324285507202
           ]
          },
          {
           "line": {
            "color": "#1f77b4",
            "width": 1
           },
           "marker": {
            "color": "#1f77b4",
            "size": 1
           },
           "type": "scatter3d",
           "x": [
            -0.06316161155700684
           ],
           "y": [
            0.02784585952758789
           ],
           "z": [
            1.0595601797103882
           ]
          }
         ],
         "name": "frame2"
        },
        {
         "data": [
          {
           "line": {
            "color": "red",
            "width": 5
           },
           "marker": {
            "color": "blue",
            "size": 2
           },
           "text": [
            "RHip"
           ],
           "type": "scatter3d",
           "x": [
            0.05288398265838623,
            0.031981825828552246
           ],
           "y": [
            -1.577688217163086,
            -1.438666820526123
           ],
           "z": [
            1.0589555501937866,
            1.044106364250183
           ]
          },
          {
           "line": {
            "color": "red",
            "width": 5
           },
           "marker": {
            "color": "blue",
            "size": 2
           },
           "text": [
            "RKnee"
           ],
           "type": "scatter3d",
           "x": [
            0.129175066947937,
            0.05288398265838623
           ],
           "y": [
            -1.5661249160766602,
            -1.577688217163086
           ],
           "z": [
            0.6169852018356323,
            1.0589555501937866
           ]
          },
          {
           "line": {
            "color": "red",
            "width": 5
           },
           "marker": {
            "color": "blue",
            "size": 2
           },
           "text": [
            "RAnkle"
           ],
           "type": "scatter3d",
           "x": [
            0.037165164947509766,
            0.129175066947937
           ],
           "y": [
            -1.569845199584961,
            -1.5661249160766602
           ],
           "z": [
            0.1806548833847046,
            0.6169852018356323
           ]
          },
          {
           "line": {
            "color": "black",
            "width": 5
           },
           "marker": {
            "color": "blue",
            "size": 2
           },
           "text": [
            "LHip"
           ],
           "type": "scatter3d",
           "x": [
            0.011088013648986816,
            0.031981825828552246
           ],
           "y": [
            -1.2996301651000977,
            -1.438666820526123
           ],
           "z": [
            1.029283881187439,
            1.044106364250183
           ]
          },
          {
           "line": {
            "color": "black",
            "width": 5
           },
           "marker": {
            "color": "blue",
            "size": 2
           },
           "text": [
            "LKnee"
           ],
           "type": "scatter3d",
           "x": [
            0.007738471031188965,
            0.011088013648986816
           ],
           "y": [
            -1.3706860542297363,
            -1.2996301651000977
           ],
           "z": [
            0.5869745016098022,
            1.029283881187439
           ]
          },
          {
           "line": {
            "color": "black",
            "width": 5
           },
           "marker": {
            "color": "blue",
            "size": 2
           },
           "text": [
            "LAnkle"
           ],
           "type": "scatter3d",
           "x": [
            -0.19877922534942627,
            0.007738471031188965
           ],
           "y": [
            -1.390577793121338,
            -1.3706860542297363
           ],
           "z": [
            0.2096918821334839,
            0.5869745016098022
           ]
          },
          {
           "line": {
            "color": "black",
            "width": 5
           },
           "marker": {
            "color": "blue",
            "size": 2
           },
           "text": [
            "Spine1"
           ],
           "type": "scatter3d",
           "x": [
            0.009687066078186035,
            0.031981825828552246
           ],
           "y": [
            -1.434131145477295,
            -1.438666820526123
           ],
           "z": [
            1.3006013631820679,
            1.044106364250183
           ]
          },
          {
           "line": {
            "color": "black",
            "width": 5
           },
           "marker": {
            "color": "blue",
            "size": 2
           },
           "text": [
            "Neck"
           ],
           "type": "scatter3d",
           "x": [
            0.06404650211334229,
            0.009687066078186035
           ],
           "y": [
            -1.4326624870300293,
            -1.434131145477295
           ],
           "z": [
            1.5455869436264038,
            1.3006013631820679
           ]
          },
          {
           "line": {
            "color": "black",
            "width": 5
           },
           "marker": {
            "color": "blue",
            "size": 2
           },
           "text": [
            "Head"
           ],
           "type": "scatter3d",
           "x": [
            0.16592156887054443,
            0.06404650211334229
           ],
           "y": [
            -1.3956847190856934,
            -1.4326624870300293
           ],
           "z": [
            1.6133750677108765,
            1.5455869436264038
           ]
          },
          {
           "line": {
            "color": "black",
            "width": 5
           },
           "marker": {
            "color": "blue",
            "size": 2
           },
           "text": [
            "Site"
           ],
           "type": "scatter3d",
           "x": [
            0.17160701751708984,
            0.16592156887054443
           ],
           "y": [
            -1.394533634185791,
            -1.3956847190856934
           ],
           "z": [
            1.7245515584945679,
            1.6133750677108765
           ]
          },
          {
           "line": {
            "color": "black",
            "width": 5
           },
           "marker": {
            "color": "blue",
            "size": 2
           },
           "text": [
            "LShoulder"
           ],
           "type": "scatter3d",
           "x": [
            0.015937209129333496,
            0.06404650211334229
           ],
           "y": [
            -1.2827787399291992,
            -1.4326624870300293
           ],
           "z": [
            1.4916704893112183,
            1.5455869436264038
           ]
          },
          {
           "line": {
            "color": "black",
            "width": 5
           },
           "marker": {
            "color": "blue",
            "size": 2
           },
           "text": [
            "LElbow"
           ],
           "type": "scatter3d",
           "x": [
            -0.06346011161804199,
            0.015937209129333496
           ],
           "y": [
            -1.1794257164001465,
            -1.2827787399291992
           ],
           "z": [
            1.2241114377975464,
            1.4916704893112183
           ]
          },
          {
           "line": {
            "color": "black",
            "width": 5
           },
           "marker": {
            "color": "blue",
            "size": 2
           },
           "text": [
            "LWrist"
           ],
           "type": "scatter3d",
           "x": [
            -0.002539515495300293,
            -0.06346011161804199
           ],
           "y": [
            -1.13734769821167,
            -1.1794257164001465
           ],
           "z": [
            0.9828046560287476,
            1.2241114377975464
           ]
          },
          {
           "line": {
            "color": "red",
            "width": 5
           },
           "marker": {
            "color": "blue",
            "size": 2
           },
           "text": [
            "RShoulder"
           ],
           "type": "scatter3d",
           "x": [
            0.06567347049713135,
            0.06404650211334229
           ],
           "y": [
            -1.5885505676269531,
            -1.4326624870300293
           ],
           "z": [
            1.4842923879623413,
            1.5455869436264038
           ]
          },
          {
           "line": {
            "color": "red",
            "width": 5
           },
           "marker": {
            "color": "blue",
            "size": 2
           },
           "text": [
            "RElbow"
           ],
           "type": "scatter3d",
           "x": [
            0.020369887351989746,
            0.06567347049713135
           ],
           "y": [
            -1.703737735748291,
            -1.5885505676269531
           ],
           "z": [
            1.222004771232605,
            1.4842923879623413
           ]
          },
          {
           "line": {
            "color": "red",
            "width": 5
           },
           "marker": {
            "color": "blue",
            "size": 2
           },
           "text": [
            "RWrist"
           ],
           "type": "scatter3d",
           "x": [
            0.055254578590393066,
            0.020369887351989746
           ],
           "y": [
            -1.7549595832824707,
            -1.703737735748291
           ],
           "z": [
            0.9745253324508667,
            1.222004771232605
           ]
          },
          {
           "line": {
            "color": "#1f77b4",
            "width": 1
           },
           "marker": {
            "color": "#1f77b4",
            "size": 1
           },
           "type": "scatter3d",
           "x": [
            -0.06316161155700684,
            -0.23460161685943604
           ],
           "y": [
            0.02784585952758789,
            -0.350095272064209
           ],
           "z": [
            1.0595601797103882,
            1.0333861112594604
           ]
          }
         ],
         "name": "frame3"
        },
        {
         "data": [
          {
           "line": {
            "color": "red",
            "width": 5
           },
           "marker": {
            "color": "blue",
            "size": 2
           },
           "text": [
            "RHip"
           ],
           "type": "scatter3d",
           "x": [
            1.0424573421478271,
            0.9085777997970581
           ],
           "y": [
            -0.31832075119018555,
            -0.2805013656616211
           ],
           "z": [
            1.0532387495040894,
            1.0447620153427124
           ]
          },
          {
           "line": {
            "color": "red",
            "width": 5
           },
           "marker": {
            "color": "blue",
            "size": 2
           },
           "text": [
            "RKnee"
           ],
           "type": "scatter3d",
           "x": [
            1.0112253427505493,
            1.0424573421478271
           ],
           "y": [
            -0.419863224029541,
            -0.31832075119018555
           ],
           "z": [
            0.6159857511520386,
            1.0532387495040894
           ]
          },
          {
           "line": {
            "color": "red",
            "width": 5
           },
           "marker": {
            "color": "blue",
            "size": 2
           },
           "text": [
            "RAnkle"
           ],
           "type": "scatter3d",
           "x": [
            0.969917893409729,
            1.0112253427505493
           ],
           "y": [
            -0.679166316986084,
            -0.419863224029541
           ],
           "z": [
            0.2588762044906616,
            0.6159857511520386
           ]
          },
          {
           "line": {
            "color": "black",
            "width": 5
           },
           "marker": {
            "color": "blue",
            "size": 2
           },
           "text": [
            "LHip"
           ],
           "type": "scatter3d",
           "x": [
            0.7746868133544922,
            0.9085777997970581
           ],
           "y": [
            -0.24270915985107422,
            -0.2805013656616211
           ],
           "z": [
            1.0362905263900757,
            1.0447620153427124
           ]
          },
          {
           "line": {
            "color": "black",
            "width": 5
           },
           "marker": {
            "color": "blue",
            "size": 2
           },
           "text": [
            "LKnee"
           ],
           "type": "scatter3d",
           "x": [
            0.8535749912261963,
            0.7746868133544922
           ],
           "y": [
            -0.127471923828125,
            -0.24270915985107422
           ],
           "z": [
            0.6032336950302124,
            1.0362905263900757
           ]
          },
          {
           "line": {
            "color": "black",
            "width": 5
           },
           "marker": {
            "color": "blue",
            "size": 2
           },
           "text": [
            "LAnkle"
           ],
           "type": "scatter3d",
           "x": [
            0.8816858530044556,
            0.8535749912261963
           ],
           "y": [
            -0.09206533432006836,
            -0.127471923828125
           ],
           "z": [
            0.16136443614959717,
            0.6032336950302124
           ]
          },
          {
           "line": {
            "color": "black",
            "width": 5
           },
           "marker": {
            "color": "blue",
            "size": 2
           },
           "text": [
            "Spine1"
           ],
           "type": "scatter3d",
           "x": [
            0.8978428840637207,
            0.9085777997970581
           ],
           "y": [
            -0.29631757736206055,
            -0.2805013656616211
           ],
           "z": [
            1.3008016347885132,
            1.0447620153427124
           ]
          },
          {
           "line": {
            "color": "black",
            "width": 5
           },
           "marker": {
            "color": "blue",
            "size": 2
           },
           "text": [
            "Neck"
           ],
           "type": "scatter3d",
           "x": [
            0.8965001106262207,
            0.8978428840637207
           ],
           "y": [
            -0.2560157775878906,
            -0.29631757736206055
           ],
           "z": [
            1.546310305595398,
            1.3008016347885132
           ]
          },
          {
           "line": {
            "color": "black",
            "width": 5
           },
           "marker": {
            "color": "blue",
            "size": 2
           },
           "text": [
            "Head"
           ],
           "type": "scatter3d",
           "x": [
            0.8969265818595886,
            0.8965001106262207
           ],
           "y": [
            -0.1705794334411621,
            -0.2560157775878906
           ],
           "z": [
            1.6305516958236694,
            1.546310305595398
           ]
          },
          {
           "line": {
            "color": "black",
            "width": 5
           },
           "marker": {
            "color": "blue",
            "size": 2
           },
           "text": [
            "Site"
           ],
           "type": "scatter3d",
           "x": [
            0.8871974945068359,
            0.8969265818595886
           ],
           "y": [
            -0.17789649963378906,
            -0.1705794334411621
           ],
           "z": [
            1.7458118200302124,
            1.6305516958236694
           ]
          },
          {
           "line": {
            "color": "black",
            "width": 5
           },
           "marker": {
            "color": "blue",
            "size": 2
           },
           "text": [
            "LShoulder"
           ],
           "type": "scatter3d",
           "x": [
            0.7500174045562744,
            0.8965001106262207
           ],
           "y": [
            -0.24536752700805664,
            -0.2560157775878906
           ],
           "z": [
            1.4806212186813354,
            1.546310305595398
           ]
          },
          {
           "line": {
            "color": "black",
            "width": 5
           },
           "marker": {
            "color": "blue",
            "size": 2
           },
           "text": [
            "LElbow"
           ],
           "type": "scatter3d",
           "x": [
            0.6599191427230835,
            0.7500174045562744
           ],
           "y": [
            -0.2867889404296875,
            -0.24536752700805664
           ],
           "z": [
            1.2077158689498901,
            1.4806212186813354
           ]
          },
          {
           "line": {
            "color": "black",
            "width": 5
           },
           "marker": {
            "color": "blue",
            "size": 2
           },
           "text": [
            "LWrist"
           ],
           "type": "scatter3d",
           "x": [
            0.6528106927871704,
            0.6599191427230835
           ],
           "y": [
            -0.28035736083984375,
            -0.2867889404296875
           ],
           "z": [
            0.9564603567123413,
            1.2077158689498901
           ]
          },
          {
           "line": {
            "color": "red",
            "width": 5
           },
           "marker": {
            "color": "blue",
            "size": 2
           },
           "text": [
            "RShoulder"
           ],
           "type": "scatter3d",
           "x": [
            1.0415515899658203,
            0.8965001106262207
           ],
           "y": [
            -0.30422306060791016,
            -0.2560157775878906
           ],
           "z": [
            1.4901632070541382,
            1.546310305595398
           ]
          },
          {
           "line": {
            "color": "red",
            "width": 5
           },
           "marker": {
            "color": "blue",
            "size": 2
           },
           "text": [
            "RElbow"
           ],
           "type": "scatter3d",
           "x": [
            1.1539230346679688,
            1.0415515899658203
           ],
           "y": [
            -0.3337221145629883,
            -0.30422306060791016
           ],
           "z": [
            1.231249213218689,
            1.4901632070541382
           ]
          },
          {
           "line": {
            "color": "red",
            "width": 5
           },
           "marker": {
            "color": "blue",
            "size": 2
           },
           "text": [
            "RWrist"
           ],
           "type": "scatter3d",
           "x": [
            1.182938814163208,
            1.1539230346679688
           ],
           "y": [
            -0.22517156600952148,
            -0.3337221145629883
           ],
           "z": [
            1.0100692510604858,
            1.231249213218689
           ]
          },
          {
           "line": {
            "color": "#1f77b4",
            "width": 1
           },
           "marker": {
            "color": "#1f77b4",
            "size": 1
           },
           "type": "scatter3d",
           "x": [
            -0.06316161155700684,
            -0.23460161685943604,
            0.031981825828552246
           ],
           "y": [
            0.02784585952758789,
            -0.350095272064209,
            -1.438666820526123
           ],
           "z": [
            1.0595601797103882,
            1.0333861112594604,
            1.044106364250183
           ]
          }
         ],
         "name": "frame4"
        },
        {
         "data": [
          {
           "line": {
            "color": "red",
            "width": 5
           },
           "marker": {
            "color": "blue",
            "size": 2
           },
           "text": [
            "RHip"
           ],
           "type": "scatter3d",
           "x": [
            0.679486870765686,
            0.5869458913803101
           ],
           "y": [
            1.681586742401123,
            1.5797510147094727
           ],
           "z": [
            1.049345850944519,
            1.0300780534744263
           ]
          },
          {
           "line": {
            "color": "red",
            "width": 5
           },
           "marker": {
            "color": "blue",
            "size": 2
           },
           "text": [
            "RKnee"
           ],
           "type": "scatter3d",
           "x": [
            0.5946873426437378,
            0.679486870765686
           ],
           "y": [
            1.7476146221160889,
            1.681586742401123
           ],
           "z": [
            0.610120415687561,
            1.049345850944519
           ]
          },
          {
           "line": {
            "color": "red",
            "width": 5
           },
           "marker": {
            "color": "blue",
            "size": 2
           },
           "text": [
            "RAnkle"
           ],
           "type": "scatter3d",
           "x": [
            0.6371124982833862,
            0.5946873426437378
           ],
           "y": [
            1.7464470863342285,
            1.7476146221160889
           ],
           "z": [
            0.16361653804779053,
            0.610120415687561
           ]
          },
          {
           "line": {
            "color": "black",
            "width": 5
           },
           "marker": {
            "color": "blue",
            "size": 2
           },
           "text": [
            "LHip"
           ],
           "type": "scatter3d",
           "x": [
            0.49441826343536377,
            0.5869458913803101
           ],
           "y": [
            1.4779505729675293,
            1.5797510147094727
           ],
           "z": [
            1.010825514793396,
            1.0300780534744263
           ]
          },
          {
           "line": {
            "color": "black",
            "width": 5
           },
           "marker": {
            "color": "blue",
            "size": 2
           },
           "text": [
            "LKnee"
           ],
           "type": "scatter3d",
           "x": [
            0.5539402961730957,
            0.49441826343536377
           ],
           "y": [
            1.4720113277435303,
            1.4779505729675293
           ],
           "z": [
            0.5719479322433472,
            1.010825514793396
           ]
          },
          {
           "line": {
            "color": "black",
            "width": 5
           },
           "marker": {
            "color": "blue",
            "size": 2
           },
           "text": [
            "LAnkle"
           ],
           "type": "scatter3d",
           "x": [
            0.7744626998901367,
            0.5539402961730957
           ],
           "y": [
            1.2358670234680176,
            1.4720113277435303
           ],
           "z": [
            0.2625373601913452,
            0.5719479322433472
           ]
          },
          {
           "line": {
            "color": "black",
            "width": 5
           },
           "marker": {
            "color": "blue",
            "size": 2
           },
           "text": [
            "Spine1"
           ],
           "type": "scatter3d",
           "x": [
            0.6081007719039917,
            0.5869458913803101
           ],
           "y": [
            1.5512497425079346,
            1.5797510147094727
           ],
           "z": [
            1.2735921144485474,
            1.0300780534744263
           ]
          },
          {
           "line": {
            "color": "black",
            "width": 5
           },
           "marker": {
            "color": "blue",
            "size": 2
           },
           "text": [
            "Neck"
           ],
           "type": "scatter3d",
           "x": [
            0.6026091575622559,
            0.6081007719039917
           ],
           "y": [
            1.581739902496338,
            1.5512497425079346
           ],
           "z": [
            1.5214964151382446,
            1.2735921144485474
           ]
          },
          {
           "line": {
            "color": "black",
            "width": 5
           },
           "marker": {
            "color": "blue",
            "size": 2
           },
           "text": [
            "Head"
           ],
           "type": "scatter3d",
           "x": [
            0.5237400531768799,
            0.6026091575622559
           ],
           "y": [
            1.6276252269744873,
            1.581739902496338
           ],
           "z": [
            1.6022449731826782,
            1.5214964151382446
           ]
          },
          {
           "line": {
            "color": "black",
            "width": 5
           },
           "marker": {
            "color": "blue",
            "size": 2
           },
           "text": [
            "Site"
           ],
           "type": "scatter3d",
           "x": [
            0.5397876501083374,
            0.5237400531768799
           ],
           "y": [
            1.6182358264923096,
            1.6276252269744873
           ],
           "z": [
            1.7138253450393677,
            1.6022449731826782
           ]
          },
          {
           "line": {
            "color": "black",
            "width": 5
           },
           "marker": {
            "color": "blue",
            "size": 2
           },
           "text": [
            "LShoulder"
           ],
           "type": "scatter3d",
           "x": [
            0.5022072792053223,
            0.6026091575622559
           ],
           "y": [
            1.4759573936462402,
            1.581739902496338
           ],
           "z": [
            1.4662960767745972,
            1.5214964151382446
           ]
          },
          {
           "line": {
            "color": "black",
            "width": 5
           },
           "marker": {
            "color": "blue",
            "size": 2
           },
           "text": [
            "LElbow"
           ],
           "type": "scatter3d",
           "x": [
            0.43327176570892334,
            0.5022072792053223
           ],
           "y": [
            1.3967957496643066,
            1.4759573936462402
           ],
           "z": [
            1.1983803510665894,
            1.4662960767745972
           ]
          },
          {
           "line": {
            "color": "black",
            "width": 5
           },
           "marker": {
            "color": "blue",
            "size": 2
           },
           "text": [
            "LWrist"
           ],
           "type": "scatter3d",
           "x": [
            0.36780834197998047,
            0.43327176570892334
           ],
           "y": [
            1.4310641288757324,
            1.3967957496643066
           ],
           "z": [
            0.9606863260269165,
            1.1983803510665894
           ]
          },
          {
           "line": {
            "color": "red",
            "width": 5
           },
           "marker": {
            "color": "blue",
            "size": 2
           },
           "text": [
            "RShoulder"
           ],
           "type": "scatter3d",
           "x": [
            0.7183539867401123,
            0.6026091575622559
           ],
           "y": [
            1.6552529335021973,
            1.581739902496338
           ],
           "z": [
            1.4499367475509644,
            1.5214964151382446
           ]
          },
          {
           "line": {
            "color": "red",
            "width": 5
           },
           "marker": {
            "color": "blue",
            "size": 2
           },
           "text": [
            "RElbow"
           ],
           "type": "scatter3d",
           "x": [
            0.8031542301177979,
            0.7183539867401123
           ],
           "y": [
            1.6859893798828125,
            1.6552529335021973
           ],
           "z": [
            1.1770042181015015,
            1.4499367475509644
           ]
          },
          {
           "line": {
            "color": "red",
            "width": 5
           },
           "marker": {
            "color": "blue",
            "size": 2
           },
           "text": [
            "RWrist"
           ],
           "type": "scatter3d",
           "x": [
            0.7983289957046509,
            0.8031542301177979
           ],
           "y": [
            1.751441478729248,
            1.6859893798828125
           ],
           "z": [
            0.9418841600418091,
            1.1770042181015015
           ]
          },
          {
           "line": {
            "color": "#1f77b4",
            "width": 1
           },
           "marker": {
            "color": "#1f77b4",
            "size": 1
           },
           "type": "scatter3d",
           "x": [
            -0.06316161155700684,
            -0.23460161685943604,
            0.031981825828552246,
            0.9085777997970581
           ],
           "y": [
            0.02784585952758789,
            -0.350095272064209,
            -1.438666820526123,
            -0.2805013656616211
           ],
           "z": [
            1.0595601797103882,
            1.0333861112594604,
            1.044106364250183,
            1.0447620153427124
           ]
          }
         ],
         "name": "frame5"
        },
        {
         "data": [
          {
           "line": {
            "color": "red",
            "width": 5
           },
           "marker": {
            "color": "blue",
            "size": 2
           },
           "text": [
            "RHip"
           ],
           "type": "scatter3d",
           "x": [
            -0.702973484992981,
            -0.5753084421157837
           ],
           "y": [
            1.0520522594451904,
            0.998523473739624
           ],
           "z": [
            1.03546941280365,
            1.0346888303756714
           ]
          },
          {
           "line": {
            "color": "red",
            "width": 5
           },
           "marker": {
            "color": "blue",
            "size": 2
           },
           "text": [
            "RKnee"
           ],
           "type": "scatter3d",
           "x": [
            -0.7127200365066528,
            -0.702973484992981
           ],
           "y": [
            1.0783989429473877,
            1.0520522594451904
           ],
           "z": [
            0.5821942090988159,
            1.03546941280365
           ]
          },
          {
           "line": {
            "color": "red",
            "width": 5
           },
           "marker": {
            "color": "blue",
            "size": 2
           },
           "text": [
            "RAnkle"
           ],
           "type": "scatter3d",
           "x": [
            -0.5951200723648071,
            -0.7127200365066528
           ],
           "y": [
            1.3797576427459717,
            1.0783989429473877
           ],
           "z": [
            0.285244345664978,
            0.5821942090988159
           ]
          },
          {
           "line": {
            "color": "black",
            "width": 5
           },
           "marker": {
            "color": "blue",
            "size": 2
           },
           "text": [
            "LHip"
           ],
           "type": "scatter3d",
           "x": [
            -0.447628378868103,
            -0.5753084421157837
           ],
           "y": [
            0.9450268745422363,
            0.998523473739624
           ],
           "z": [
            1.0339254140853882,
            1.0346888303756714
           ]
          },
          {
           "line": {
            "color": "black",
            "width": 5
           },
           "marker": {
            "color": "blue",
            "size": 2
           },
           "text": [
            "LKnee"
           ],
           "type": "scatter3d",
           "x": [
            -0.5325711965560913,
            -0.447628378868103
           ],
           "y": [
            0.8839740753173828,
            0.9450268745422363
           ],
           "z": [
            0.591399073600769,
            1.0339254140853882
           ]
          },
          {
           "line": {
            "color": "black",
            "width": 5
           },
           "marker": {
            "color": "blue",
            "size": 2
           },
           "text": [
            "LAnkle"
           ],
           "type": "scatter3d",
           "x": [
            -0.5700372457504272,
            -0.5325711965560913
           ],
           "y": [
            0.9201493263244629,
            0.8839740753173828
           ],
           "z": [
            0.15248429775238037,
            0.591399073600769
           ]
          },
          {
           "line": {
            "color": "black",
            "width": 5
           },
           "marker": {
            "color": "blue",
            "size": 2
           },
           "text": [
            "Spine1"
           ],
           "type": "scatter3d",
           "x": [
            -0.5709460973739624,
            -0.5753084421157837
           ],
           "y": [
            1.0357470512390137,
            0.998523473739624
           ],
           "z": [
            1.283431887626648,
            1.0346888303756714
           ]
          },
          {
           "line": {
            "color": "black",
            "width": 5
           },
           "marker": {
            "color": "blue",
            "size": 2
           },
           "text": [
            "Neck"
           ],
           "type": "scatter3d",
           "x": [
            -0.558674693107605,
            -0.5709460973739624
           ],
           "y": [
            1.0055396556854248,
            1.0357470512390137
           ],
           "z": [
            1.5313023328781128,
            1.283431887626648
           ]
          },
          {
           "line": {
            "color": "black",
            "width": 5
           },
           "marker": {
            "color": "blue",
            "size": 2
           },
           "text": [
            "Head"
           ],
           "type": "scatter3d",
           "x": [
            -0.5681794881820679,
            -0.558674693107605
           ],
           "y": [
            0.9145412445068359,
            1.0055396556854248
           ],
           "z": [
            1.6064919233322144,
            1.5313023328781128
           ]
          },
          {
           "line": {
            "color": "black",
            "width": 5
           },
           "marker": {
            "color": "blue",
            "size": 2
           },
           "text": [
            "Site"
           ],
           "type": "scatter3d",
           "x": [
            -0.5650094747543335,
            -0.5681794881820679
           ],
           "y": [
            0.9225039482116699,
            0.9145412445068359
           ],
           "z": [
            1.7233299016952515,
            1.6064919233322144
           ]
          },
          {
           "line": {
            "color": "black",
            "width": 5
           },
           "marker": {
            "color": "blue",
            "size": 2
           },
           "text": [
            "LShoulder"
           ],
           "type": "scatter3d",
           "x": [
            -0.4164808988571167,
            -0.558674693107605
           ],
           "y": [
            0.9713938236236572,
            1.0055396556854248
           ],
           "z": [
            1.4637569189071655,
            1.5313023328781128
           ]
          },
          {
           "line": {
            "color": "black",
            "width": 5
           },
           "marker": {
            "color": "blue",
            "size": 2
           },
           "text": [
            "LElbow"
           ],
           "type": "scatter3d",
           "x": [
            -0.33483803272247314,
            -0.4164808988571167
           ],
           "y": [
            0.9626519680023193,
            0.9713938236236572
           ],
           "z": [
            1.1879748106002808,
            1.4637569189071655
           ]
          },
          {
           "line": {
            "color": "black",
            "width": 5
           },
           "marker": {
            "color": "blue",
            "size": 2
           },
           "text": [
            "LWrist"
           ],
           "type": "scatter3d",
           "x": [
            -0.3537498712539673,
            -0.33483803272247314
           ],
           "y": [
            0.8954124450683594,
            0.9626519680023193
           ],
           "z": [
            0.9510473012924194,
            1.1879748106002808
           ]
          },
          {
           "line": {
            "color": "red",
            "width": 5
           },
           "marker": {
            "color": "blue",
            "size": 2
           },
           "text": [
            "RShoulder"
           ],
           "type": "scatter3d",
           "x": [
            -0.6994451284408569,
            -0.558674693107605
           ],
           "y": [
            1.0715219974517822,
            1.0055396556854248
           ],
           "z": [
            1.4733251333236694,
            1.5313023328781128
           ]
          },
          {
           "line": {
            "color": "red",
            "width": 5
           },
           "marker": {
            "color": "blue",
            "size": 2
           },
           "text": [
            "RElbow"
           ],
           "type": "scatter3d",
           "x": [
            -0.7955249547958374,
            -0.6994451284408569
           ],
           "y": [
            1.1222219467163086,
            1.0715219974517822
           ],
           "z": [
            1.20767343044281,
            1.4733251333236694
           ]
          },
          {
           "line": {
            "color": "red",
            "width": 5
           },
           "marker": {
            "color": "blue",
            "size": 2
           },
           "text": [
            "RWrist"
           ],
           "type": "scatter3d",
           "x": [
            -0.8550080060958862,
            -0.7955249547958374
           ],
           "y": [
            1.049187421798706,
            1.1222219467163086
           ],
           "z": [
            0.9804815053939819,
            1.20767343044281
           ]
          },
          {
           "line": {
            "color": "#1f77b4",
            "width": 1
           },
           "marker": {
            "color": "#1f77b4",
            "size": 1
           },
           "type": "scatter3d",
           "x": [
            -0.06316161155700684,
            -0.23460161685943604,
            0.031981825828552246,
            0.9085777997970581,
            0.5869458913803101
           ],
           "y": [
            0.02784585952758789,
            -0.350095272064209,
            -1.438666820526123,
            -0.2805013656616211,
            1.5797510147094727
           ],
           "z": [
            1.0595601797103882,
            1.0333861112594604,
            1.044106364250183,
            1.0447620153427124,
            1.0300780534744263
           ]
          }
         ],
         "name": "frame6"
        },
        {
         "data": [
          {
           "line": {
            "color": "red",
            "width": 5
           },
           "marker": {
            "color": "blue",
            "size": 2
           },
           "text": [
            "RHip"
           ],
           "type": "scatter3d",
           "x": [
            -0.7539733648300171,
            -0.6321121454238892
           ],
           "y": [
            -0.990389347076416,
            -0.911412239074707
           ],
           "z": [
            1.052458643913269,
            1.038772463798523
           ]
          },
          {
           "line": {
            "color": "red",
            "width": 5
           },
           "marker": {
            "color": "blue",
            "size": 2
           },
           "text": [
            "RKnee"
           ],
           "type": "scatter3d",
           "x": [
            -0.6776922941207886,
            -0.7539733648300171
           ],
           "y": [
            -1.0782232284545898,
            -0.990389347076416
           ],
           "z": [
            0.6136559247970581,
            1.052458643913269
           ]
          },
          {
           "line": {
            "color": "red",
            "width": 5
           },
           "marker": {
            "color": "blue",
            "size": 2
           },
           "text": [
            "RAnkle"
           ],
           "type": "scatter3d",
           "x": [
            -0.7192486524581909,
            -0.6776922941207886
           ],
           "y": [
            -1.053910732269287,
            -1.0782232284545898
           ],
           "z": [
            0.17082202434539795,
            0.6136559247970581
           ]
          },
          {
           "line": {
            "color": "black",
            "width": 5
           },
           "marker": {
            "color": "blue",
            "size": 2
           },
           "text": [
            "LHip"
           ],
           "type": "scatter3d",
           "x": [
            -0.5102351903915405,
            -0.6321121454238892
           ],
           "y": [
            -0.8324089050292969,
            -0.911412239074707
           ],
           "z": [
            1.0251106023788452,
            1.038772463798523
           ]
          },
          {
           "line": {
            "color": "black",
            "width": 5
           },
           "marker": {
            "color": "blue",
            "size": 2
           },
           "text": [
            "LKnee"
           ],
           "type": "scatter3d",
           "x": [
            -0.5053859949111938,
            -0.5102351903915405
           ],
           "y": [
            -0.8921713829040527,
            -0.8324089050292969
           ],
           "z": [
            0.5805186033248901,
            1.0251106023788452
           ]
          },
          {
           "line": {
            "color": "black",
            "width": 5
           },
           "marker": {
            "color": "blue",
            "size": 2
           },
           "text": [
            "LAnkle"
           ],
           "type": "scatter3d",
           "x": [
            -0.662803053855896,
            -0.5053859949111938
           ],
           "y": [
            -0.5825676918029785,
            -0.8921713829040527
           ],
           "z": [
            0.2886303663253784,
            0.5805186033248901
           ]
          },
          {
           "line": {
            "color": "black",
            "width": 5
           },
           "marker": {
            "color": "blue",
            "size": 2
           },
           "text": [
            "Spine1"
           ],
           "type": "scatter3d",
           "x": [
            -0.6463221311569214,
            -0.6321121454238892
           ],
           "y": [
            -0.869990348815918,
            -0.911412239074707
           ],
           "z": [
            1.2884610891342163,
            1.038772463798523
           ]
          },
          {
           "line": {
            "color": "black",
            "width": 5
           },
           "marker": {
            "color": "blue",
            "size": 2
           },
           "text": [
            "Neck"
           ],
           "type": "scatter3d",
           "x": [
            -0.6464818716049194,
            -0.6463221311569214
           ],
           "y": [
            -0.9104776382446289,
            -0.869990348815918
           ],
           "z": [
            1.5352214574813843,
            1.2884610891342163
           ]
          },
          {
           "line": {
            "color": "black",
            "width": 5
           },
           "marker": {
            "color": "blue",
            "size": 2
           },
           "text": [
            "Head"
           ],
           "type": "scatter3d",
           "x": [
            -0.6063703298568726,
            -0.6464818716049194
           ],
           "y": [
            -0.9829893112182617,
            -0.9104776382446289
           ],
           "z": [
            1.6156734228134155,
            1.5352214574813843
           ]
          },
          {
           "line": {
            "color": "black",
            "width": 5
           },
           "marker": {
            "color": "blue",
            "size": 2
           },
           "text": [
            "Site"
           ],
           "type": "scatter3d",
           "x": [
            -0.6130706071853638,
            -0.6063703298568726
           ],
           "y": [
            -0.9680676460266113,
            -0.9829893112182617
           ],
           "z": [
            1.7316354513168335,
            1.6156734228134155
           ]
          },
          {
           "line": {
            "color": "black",
            "width": 5
           },
           "marker": {
            "color": "blue",
            "size": 2
           },
           "text": [
            "LShoulder"
           ],
           "type": "scatter3d",
           "x": [
            -0.5062636137008667,
            -0.6464818716049194
           ],
           "y": [
            -0.849329948425293,
            -0.9104776382446289
           ],
           "z": [
            1.4832452535629272,
            1.5352214574813843
           ]
          },
          {
           "line": {
            "color": "black",
            "width": 5
           },
           "marker": {
            "color": "blue",
            "size": 2
           },
           "text": [
            "LElbow"
           ],
           "type": "scatter3d",
           "x": [
            -0.39608633518218994,
            -0.5062636137008667
           ],
           "y": [
            -0.8117518424987793,
            -0.849329948425293
           ],
           "z": [
            1.2178658246994019,
            1.4832452535629272
           ]
          },
          {
           "line": {
            "color": "black",
            "width": 5
           },
           "marker": {
            "color": "blue",
            "size": 2
           },
           "text": [
            "LWrist"
           ],
           "type": "scatter3d",
           "x": [
            -0.37195885181427,
            -0.39608633518218994
           ],
           "y": [
            -0.8903312683105469,
            -0.8117518424987793
           ],
           "z": [
            0.9880088567733765,
            1.2178658246994019
           ]
          },
          {
           "line": {
            "color": "red",
            "width": 5
           },
           "marker": {
            "color": "blue",
            "size": 2
           },
           "text": [
            "RShoulder"
           ],
           "type": "scatter3d",
           "x": [
            -0.7897475957870483,
            -0.6464818716049194
           ],
           "y": [
            -0.9415578842163086,
            -0.9104776382446289
           ],
           "z": [
            1.4622482061386108,
            1.5352214574813843
           ]
          },
          {
           "line": {
            "color": "red",
            "width": 5
           },
           "marker": {
            "color": "blue",
            "size": 2
           },
           "text": [
            "RElbow"
           ],
           "type": "scatter3d",
           "x": [
            -0.885621190071106,
            -0.7897475957870483
           ],
           "y": [
            -0.9290585517883301,
            -0.9415578842163086
           ],
           "z": [
            1.1880820989608765,
            1.4622482061386108
           ]
          },
          {
           "line": {
            "color": "red",
            "width": 5
           },
           "marker": {
            "color": "blue",
            "size": 2
           },
           "text": [
            "RWrist"
           ],
           "type": "scatter3d",
           "x": [
            -0.8851124048233032,
            -0.885621190071106
           ],
           "y": [
            -0.9920997619628906,
            -0.9290585517883301
           ],
           "z": [
            0.9528158903121948,
            1.1880820989608765
           ]
          },
          {
           "line": {
            "color": "#1f77b4",
            "width": 1
           },
           "marker": {
            "color": "#1f77b4",
            "size": 1
           },
           "type": "scatter3d",
           "x": [
            -0.06316161155700684,
            -0.23460161685943604,
            0.031981825828552246,
            0.9085777997970581,
            0.5869458913803101,
            -0.5753084421157837
           ],
           "y": [
            0.02784585952758789,
            -0.350095272064209,
            -1.438666820526123,
            -0.2805013656616211,
            1.5797510147094727,
            0.998523473739624
           ],
           "z": [
            1.0595601797103882,
            1.0333861112594604,
            1.044106364250183,
            1.0447620153427124,
            1.0300780534744263,
            1.0346888303756714
           ]
          }
         ],
         "name": "frame7"
        },
        {
         "data": [
          {
           "line": {
            "color": "red",
            "width": 5
           },
           "marker": {
            "color": "blue",
            "size": 2
           },
           "text": [
            "RHip"
           ],
           "type": "scatter3d",
           "x": [
            0.6038922071456909,
            0.49917566776275635
           ],
           "y": [
            -1.0256133079528809,
            -0.9276432991027832
           ],
           "z": [
            1.0433558225631714,
            1.034575343132019
           ]
          },
          {
           "line": {
            "color": "red",
            "width": 5
           },
           "marker": {
            "color": "blue",
            "size": 2
           },
           "text": [
            "RKnee"
           ],
           "type": "scatter3d",
           "x": [
            0.5040794610977173,
            0.6038922071456909
           ],
           "y": [
            -1.0855598449707031,
            -1.0256133079528809
           ],
           "z": [
            0.6027110815048218,
            1.0433558225631714
           ]
          },
          {
           "line": {
            "color": "red",
            "width": 5
           },
           "marker": {
            "color": "blue",
            "size": 2
           },
           "text": [
            "RAnkle"
           ],
           "type": "scatter3d",
           "x": [
            0.3602137565612793,
            0.5040794610977173
           ],
           "y": [
            -1.2419238090515137,
            -1.0855598449707031
           ],
           "z": [
            0.22123801708221436,
            0.6027110815048218
           ]
          },
          {
           "line": {
            "color": "black",
            "width": 5
           },
           "marker": {
            "color": "blue",
            "size": 2
           },
           "text": [
            "LHip"
           ],
           "type": "scatter3d",
           "x": [
            0.3944483995437622,
            0.49917566776275635
           ],
           "y": [
            -0.8297004699707031,
            -0.9276432991027832
           ],
           "z": [
            1.0258082151412964,
            1.034575343132019
           ]
          },
          {
           "line": {
            "color": "black",
            "width": 5
           },
           "marker": {
            "color": "blue",
            "size": 2
           },
           "text": [
            "LKnee"
           ],
           "type": "scatter3d",
           "x": [
            0.5297000408172607,
            0.3944483995437622
           ],
           "y": [
            -0.7569198608398438,
            -0.8297004699707031
           ],
           "z": [
            0.5992010831832886,
            1.0258082151412964
           ]
          },
          {
           "line": {
            "color": "black",
            "width": 5
           },
           "marker": {
            "color": "blue",
            "size": 2
           },
           "text": [
            "LAnkle"
           ],
           "type": "scatter3d",
           "x": [
            0.5931004285812378,
            0.5297000408172607
           ],
           "y": [
            -0.7571802139282227,
            -0.7569198608398438
           ],
           "z": [
            0.16898620128631592,
            0.5992010831832886
           ]
          },
          {
           "line": {
            "color": "black",
            "width": 5
           },
           "marker": {
            "color": "blue",
            "size": 2
           },
           "text": [
            "Spine1"
           ],
           "type": "scatter3d",
           "x": [
            0.48568880558013916,
            0.49917566776275635
           ],
           "y": [
            -0.9334921836853027,
            -0.9276432991027832
           ],
           "z": [
            1.2972902059555054,
            1.034575343132019
           ]
          },
          {
           "line": {
            "color": "black",
            "width": 5
           },
           "marker": {
            "color": "blue",
            "size": 2
           },
           "text": [
            "Neck"
           ],
           "type": "scatter3d",
           "x": [
            0.5305060148239136,
            0.48568880558013916
           ],
           "y": [
            -0.8851900100708008,
            -0.9334921836853027
           ],
           "z": [
            1.540218710899353,
            1.2972902059555054
           ]
          },
          {
           "line": {
            "color": "black",
            "width": 5
           },
           "marker": {
            "color": "blue",
            "size": 2
           },
           "text": [
            "Head"
           ],
           "type": "scatter3d",
           "x": [
            0.5673532485961914,
            0.5305060148239136
           ],
           "y": [
            -0.8077816963195801,
            -0.8851900100708008
           ],
           "z": [
            1.6309164762496948,
            1.540218710899353
           ]
          },
          {
           "line": {
            "color": "black",
            "width": 5
           },
           "marker": {
            "color": "blue",
            "size": 2
           },
           "text": [
            "Site"
           ],
           "type": "scatter3d",
           "x": [
            0.5695253610610962,
            0.5673532485961914
           ],
           "y": [
            -0.8175382614135742,
            -0.8077816963195801
           ],
           "z": [
            1.738181471824646,
            1.6309164762496948
           ]
          },
          {
           "line": {
            "color": "black",
            "width": 5
           },
           "marker": {
            "color": "blue",
            "size": 2
           },
           "text": [
            "LShoulder"
           ],
           "type": "scatter3d",
           "x": [
            0.3914145231246948,
            0.5305060148239136
           ],
           "y": [
            -0.7954859733581543,
            -0.8851900100708008
           ],
           "z": [
            1.494202971458435,
            1.540218710899353
           ]
          },
          {
           "line": {
            "color": "black",
            "width": 5
           },
           "marker": {
            "color": "blue",
            "size": 2
           },
           "text": [
            "LElbow"
           ],
           "type": "scatter3d",
           "x": [
            0.22039687633514404,
            0.3914145231246948
           ],
           "y": [
            -0.8127646446228027,
            -0.7954859733581543
           ],
           "z": [
            1.2551063299179077,
            1.494202971458435
           ]
          },
          {
           "line": {
            "color": "black",
            "width": 5
           },
           "marker": {
            "color": "blue",
            "size": 2
           },
           "text": [
            "LWrist"
           ],
           "type": "scatter3d",
           "x": [
            0.33761441707611084,
            0.22039687633514404
           ],
           "y": [
            -0.915651798248291,
            -0.8127646446228027
           ],
           "z": [
            1.0557736158370972,
            1.2551063299179077
           ]
          },
          {
           "line": {
            "color": "red",
            "width": 5
           },
           "marker": {
            "color": "blue",
            "size": 2
           },
           "text": [
            "RShoulder"
           ],
           "type": "scatter3d",
           "x": [
            0.6260877847671509,
            0.5305060148239136
           ],
           "y": [
            -1.0204687118530273,
            -0.8851900100708008
           ],
           "z": [
            1.48831307888031,
            1.540218710899353
           ]
          },
          {
           "line": {
            "color": "red",
            "width": 5
           },
           "marker": {
            "color": "blue",
            "size": 2
           },
           "text": [
            "RElbow"
           ],
           "type": "scatter3d",
           "x": [
            0.6173951625823975,
            0.6260877847671509
           ],
           "y": [
            -1.2067451477050781,
            -1.0204687118530273
           ],
           "z": [
            1.2619141340255737,
            1.48831307888031
           ]
          },
          {
           "line": {
            "color": "red",
            "width": 5
           },
           "marker": {
            "color": "blue",
            "size": 2
           },
           "text": [
            "RWrist"
           ],
           "type": "scatter3d",
           "x": [
            0.49038589000701904,
            0.6173951625823975
           ],
           "y": [
            -1.1352310180664062,
            -1.2067451477050781
           ],
           "z": [
            1.0716074705123901,
            1.2619141340255737
           ]
          },
          {
           "line": {
            "color": "#1f77b4",
            "width": 1
           },
           "marker": {
            "color": "#1f77b4",
            "size": 1
           },
           "type": "scatter3d",
           "x": [
            -0.06316161155700684,
            -0.23460161685943604,
            0.031981825828552246,
            0.9085777997970581,
            0.5869458913803101,
            -0.5753084421157837,
            -0.6321121454238892
           ],
           "y": [
            0.02784585952758789,
            -0.350095272064209,
            -1.438666820526123,
            -0.2805013656616211,
            1.5797510147094727,
            0.998523473739624,
            -0.911412239074707
           ],
           "z": [
            1.0595601797103882,
            1.0333861112594604,
            1.044106364250183,
            1.0447620153427124,
            1.0300780534744263,
            1.0346888303756714,
            1.038772463798523
           ]
          }
         ],
         "name": "frame8"
        },
        {
         "data": [
          {
           "line": {
            "color": "red",
            "width": 5
           },
           "marker": {
            "color": "blue",
            "size": 2
           },
           "text": [
            "RHip"
           ],
           "type": "scatter3d",
           "x": [
            1.010270357131958,
            0.872507631778717
           ],
           "y": [
            0.7087807655334473,
            0.6878385543823242
           ],
           "z": [
            1.0585092306137085,
            1.044796347618103
           ]
          },
          {
           "line": {
            "color": "red",
            "width": 5
           },
           "marker": {
            "color": "blue",
            "size": 2
           },
           "text": [
            "RKnee"
           ],
           "type": "scatter3d",
           "x": [
            0.9894373416900635,
            1.010270357131958
           ],
           "y": [
            0.8447737693786621,
            0.7087807655334473
           ],
           "z": [
            0.633600115776062,
            1.0585092306137085
           ]
          },
          {
           "line": {
            "color": "red",
            "width": 5
           },
           "marker": {
            "color": "blue",
            "size": 2
           },
           "text": [
            "RAnkle"
           ],
           "type": "scatter3d",
           "x": [
            1.005469560623169,
            0.9894373416900635
           ],
           "y": [
            0.9474730491638184,
            0.8447737693786621
           ],
           "z": [
            0.19488179683685303,
            0.633600115776062
           ]
          },
          {
           "line": {
            "color": "black",
            "width": 5
           },
           "marker": {
            "color": "blue",
            "size": 2
           },
           "text": [
            "LHip"
           ],
           "type": "scatter3d",
           "x": [
            0.7347415685653687,
            0.872507631778717
           ],
           "y": [
            0.666893482208252,
            0.6878385543823242
           ],
           "z": [
            1.0311039686203003,
            1.044796347618103
           ]
          },
          {
           "line": {
            "color": "black",
            "width": 5
           },
           "marker": {
            "color": "blue",
            "size": 2
           },
           "text": [
            "LKnee"
           ],
           "type": "scatter3d",
           "x": [
            0.8235169649124146,
            0.7347415685653687
           ],
           "y": [
            0.5821161270141602,
            0.666893482208252
           ],
           "z": [
            0.5973809957504272,
            1.0311039686203003
           ]
          },
          {
           "line": {
            "color": "black",
            "width": 5
           },
           "marker": {
            "color": "blue",
            "size": 2
           },
           "text": [
            "LAnkle"
           ],
           "type": "scatter3d",
           "x": [
            0.8890998363494873,
            0.8235169649124146
           ],
           "y": [
            0.4147911071777344,
            0.5821161270141602
           ],
           "z": [
            0.19089877605438232,
            0.5973809957504272
           ]
          },
          {
           "line": {
            "color": "black",
            "width": 5
           },
           "marker": {
            "color": "blue",
            "size": 2
           },
           "text": [
            "Spine1"
           ],
           "type": "scatter3d",
           "x": [
            0.8553605675697327,
            0.872507631778717
           ],
           "y": [
            0.6743912696838379,
            0.6878385543823242
           ],
           "z": [
            1.2988227605819702,
            1.044796347618103
           ]
          },
          {
           "line": {
            "color": "black",
            "width": 5
           },
           "marker": {
            "color": "blue",
            "size": 2
           },
           "text": [
            "Neck"
           ],
           "type": "scatter3d",
           "x": [
            0.8579243421554565,
            0.8553605675697327
           ],
           "y": [
            0.7342133522033691,
            0.6743912696838379
           ],
           "z": [
            1.5443295240402222,
            1.2988227605819702
           ]
          },
          {
           "line": {
            "color": "black",
            "width": 5
           },
           "marker": {
            "color": "blue",
            "size": 2
           },
           "text": [
            "Head"
           ],
           "type": "scatter3d",
           "x": [
            0.8573822379112244,
            0.8579243421554565
           ],
           "y": [
            0.8110671043395996,
            0.7342133522033691
           ],
           "z": [
            1.6412376165390015,
            1.5443295240402222
           ]
          },
          {
           "line": {
            "color": "black",
            "width": 5
           },
           "marker": {
            "color": "blue",
            "size": 2
           },
           "text": [
            "Site"
           ],
           "type": "scatter3d",
           "x": [
            0.8693622350692749,
            0.8573822379112244
           ],
           "y": [
            0.7876067161560059,
            0.8110671043395996
           ],
           "z": [
            1.7415114641189575,
            1.6412376165390015
           ]
          },
          {
           "line": {
            "color": "black",
            "width": 5
           },
           "marker": {
            "color": "blue",
            "size": 2
           },
           "text": [
            "LShoulder"
           ],
           "type": "scatter3d",
           "x": [
            0.7057967185974121,
            0.8579243421554565
           ],
           "y": [
            0.7098627090454102,
            0.7342133522033691
           ],
           "z": [
            1.4941414594650269,
            1.5443295240402222
           ]
          },
          {
           "line": {
            "color": "black",
            "width": 5
           },
           "marker": {
            "color": "blue",
            "size": 2
           },
           "text": [
            "LElbow"
           ],
           "type": "scatter3d",
           "x": [
            0.5902785062789917,
            0.7057967185974121
           ],
           "y": [
            0.6038937568664551,
            0.7098627090454102
           ],
           "z": [
            1.2550934553146362,
            1.4941414594650269
           ]
          },
          {
           "line": {
            "color": "black",
            "width": 5
           },
           "marker": {
            "color": "blue",
            "size": 2
           },
           "text": [
            "LWrist"
           ],
           "type": "scatter3d",
           "x": [
            0.767816424369812,
            0.5902785062789917
           ],
           "y": [
            0.5828056335449219,
            0.6038937568664551
           ],
           "z": [
            1.0640891790390015,
            1.2550934553146362
           ]
          },
          {
           "line": {
            "color": "red",
            "width": 5
           },
           "marker": {
            "color": "blue",
            "size": 2
           },
           "text": [
            "RShoulder"
           ],
           "type": "scatter3d",
           "x": [
            1.0100212097167969,
            0.8579243421554565
           ],
           "y": [
            0.7027525901794434,
            0.7342133522033691
           ],
           "z": [
            1.4895027875900269,
            1.5443295240402222
           ]
          },
          {
           "line": {
            "color": "red",
            "width": 5
           },
           "marker": {
            "color": "blue",
            "size": 2
           },
           "text": [
            "RElbow"
           ],
           "type": "scatter3d",
           "x": [
            1.1242473125457764,
            1.0100212097167969
           ],
           "y": [
            0.5570344924926758,
            0.7027525901794434
           ],
           "z": [
            1.2640174627304077,
            1.4895027875900269
           ]
          },
          {
           "line": {
            "color": "red",
            "width": 5
           },
           "marker": {
            "color": "blue",
            "size": 2
           },
           "text": [
            "RWrist"
           ],
           "type": "scatter3d",
           "x": [
            0.9678266644477844,
            1.1242473125457764
           ],
           "y": [
            0.5415410995483398,
            0.5570344924926758
           ],
           "z": [
            1.0452088117599487,
            1.2640174627304077
           ]
          },
          {
           "line": {
            "color": "#1f77b4",
            "width": 1
           },
           "marker": {
            "color": "#1f77b4",
            "size": 1
           },
           "type": "scatter3d",
           "x": [
            -0.06316161155700684,
            -0.23460161685943604,
            0.031981825828552246,
            0.9085777997970581,
            0.5869458913803101,
            -0.5753084421157837,
            -0.6321121454238892,
            0.49917566776275635
           ],
           "y": [
            0.02784585952758789,
            -0.350095272064209,
            -1.438666820526123,
            -0.2805013656616211,
            1.5797510147094727,
            0.998523473739624,
            -0.911412239074707,
            -0.9276432991027832
           ],
           "z": [
            1.0595601797103882,
            1.0333861112594604,
            1.044106364250183,
            1.0447620153427124,
            1.0300780534744263,
            1.0346888303756714,
            1.038772463798523,
            1.034575343132019
           ]
          }
         ],
         "name": "frame9"
        },
        {
         "data": [
          {
           "line": {
            "color": "red",
            "width": 5
           },
           "marker": {
            "color": "blue",
            "size": 2
           },
           "text": [
            "RHip"
           ],
           "type": "scatter3d",
           "x": [
            -0.06448519229888916,
            -0.012309551239013672
           ],
           "y": [
            1.9381515979766846,
            1.8070440292358398
           ],
           "z": [
            1.03886878490448,
            1.0287336111068726
           ]
          },
          {
           "line": {
            "color": "red",
            "width": 5
           },
           "marker": {
            "color": "blue",
            "size": 2
           },
           "text": [
            "RKnee"
           ],
           "type": "scatter3d",
           "x": [
            0.006031632423400879,
            -0.06448519229888916
           ],
           "y": [
            1.9278430938720703,
            1.9381515979766846
           ],
           "z": [
            0.5958858728408813,
            1.03886878490448
           ]
          },
          {
           "line": {
            "color": "red",
            "width": 5
           },
           "marker": {
            "color": "blue",
            "size": 2
           },
           "text": [
            "RAnkle"
           ],
           "type": "scatter3d",
           "x": [
            0.11533832550048828,
            0.006031632423400879
           ],
           "y": [
            1.9465227127075195,
            1.9278430938720703
           ],
           "z": [
            0.16421854496002197,
            0.5958858728408813
           ]
          },
          {
           "line": {
            "color": "black",
            "width": 5
           },
           "marker": {
            "color": "blue",
            "size": 2
           },
           "text": [
            "LHip"
           ],
           "type": "scatter3d",
           "x": [
            0.039903879165649414,
            -0.012309551239013672
           ],
           "y": [
            1.6760165691375732,
            1.8070440292358398
           ],
           "z": [
            1.0186253786087036,
            1.0287336111068726
           ]
          },
          {
           "line": {
            "color": "black",
            "width": 5
           },
           "marker": {
            "color": "blue",
            "size": 2
           },
           "text": [
            "LKnee"
           ],
           "type": "scatter3d",
           "x": [
            -0.134269118309021,
            0.039903879165649414
           ],
           "y": [
            1.6364634037017822,
            1.6760165691375732
           ],
           "z": [
            0.6056350469589233,
            1.0186253786087036
           ]
          },
          {
           "line": {
            "color": "black",
            "width": 5
           },
           "marker": {
            "color": "blue",
            "size": 2
           },
           "text": [
            "LAnkle"
           ],
           "type": "scatter3d",
           "x": [
            -0.14001131057739258,
            -0.134269118309021
           ],
           "y": [
            1.6563212871551514,
            1.6364634037017822
           ],
           "z": [
            0.1710127592086792,
            0.6056350469589233
           ]
          },
          {
           "line": {
            "color": "black",
            "width": 5
           },
           "marker": {
            "color": "blue",
            "size": 2
           },
           "text": [
            "Spine1"
           ],
           "type": "scatter3d",
           "x": [
            -0.01276099681854248,
            -0.012309551239013672
           ],
           "y": [
            1.8200349807739258,
            1.8070440292358398
           ],
           "z": [
            1.2824569940567017,
            1.0287336111068726
           ]
          },
          {
           "line": {
            "color": "black",
            "width": 5
           },
           "marker": {
            "color": "blue",
            "size": 2
           },
           "text": [
            "Neck"
           ],
           "type": "scatter3d",
           "x": [
            -0.0905236005783081,
            -0.01276099681854248
           ],
           "y": [
            1.7977447509765625,
            1.8200349807739258
           ],
           "z": [
            1.5282338857650757,
            1.2824569940567017
           ]
          },
          {
           "line": {
            "color": "black",
            "width": 5
           },
           "marker": {
            "color": "blue",
            "size": 2
           },
           "text": [
            "Head"
           ],
           "type": "scatter3d",
           "x": [
            -0.17683565616607666,
            -0.0905236005783081
           ],
           "y": [
            1.742687463760376,
            1.7977447509765625
           ],
           "z": [
            1.604831337928772,
            1.5282338857650757
           ]
          },
          {
           "line": {
            "color": "black",
            "width": 5
           },
           "marker": {
            "color": "blue",
            "size": 2
           },
           "text": [
            "Site"
           ],
           "type": "scatter3d",
           "x": [
            -0.16092908382415771,
            -0.17683565616607666
           ],
           "y": [
            1.7531771659851074,
            1.742687463760376
           ],
           "z": [
            1.7126413583755493,
            1.604831337928772
           ]
          },
          {
           "line": {
            "color": "black",
            "width": 5
           },
           "marker": {
            "color": "blue",
            "size": 2
           },
           "text": [
            "LShoulder"
           ],
           "type": "scatter3d",
           "x": [
            0.004624605178833008,
            -0.0905236005783081
           ],
           "y": [
            1.6685373783111572,
            1.7977447509765625
           ],
           "z": [
            1.483458399772644,
            1.5282338857650757
           ]
          },
          {
           "line": {
            "color": "black",
            "width": 5
           },
           "marker": {
            "color": "blue",
            "size": 2
           },
           "text": [
            "LElbow"
           ],
           "type": "scatter3d",
           "x": [
            0.1863694190979004,
            0.004624605178833008
           ],
           "y": [
            1.6767232418060303,
            1.6685373783111572
           ],
           "z": [
            1.2531808614730835,
            1.483458399772644
           ]
          },
          {
           "line": {
            "color": "black",
            "width": 5
           },
           "marker": {
            "color": "blue",
            "size": 2
           },
           "text": [
            "LWrist"
           ],
           "type": "scatter3d",
           "x": [
            0.16305458545684814,
            0.1863694190979004
           ],
           "y": [
            1.8102245330810547,
            1.6767232418060303
           ],
           "z": [
            1.056310772895813,
            1.2531808614730835
           ]
          },
          {
           "line": {
            "color": "red",
            "width": 5
           },
           "marker": {
            "color": "blue",
            "size": 2
           },
           "text": [
            "RShoulder"
           ],
           "type": "scatter3d",
           "x": [
            -0.12564551830291748,
            -0.0905236005783081
           ],
           "y": [
            1.9523911476135254,
            1.7977447509765625
           ],
           "z": [
            1.4707030057907104,
            1.5282338857650757
           ]
          },
          {
           "line": {
            "color": "red",
            "width": 5
           },
           "marker": {
            "color": "blue",
            "size": 2
           },
           "text": [
            "RElbow"
           ],
           "type": "scatter3d",
           "x": [
            -0.033855319023132324,
            -0.12564551830291748
           ],
           "y": [
            2.113344669342041,
            1.9523911476135254
           ],
           "z": [
            1.2410815954208374,
            1.4707030057907104
           ]
          },
          {
           "line": {
            "color": "red",
            "width": 5
           },
           "marker": {
            "color": "blue",
            "size": 2
           },
           "text": [
            "RWrist"
           ],
           "type": "scatter3d",
           "x": [
            0.0659562349319458,
            -0.033855319023132324
           ],
           "y": [
            1.99277663230896,
            2.113344669342041
           ],
           "z": [
            1.047597050666809,
            1.2410815954208374
           ]
          },
          {
           "line": {
            "color": "#1f77b4",
            "width": 1
           },
           "marker": {
            "color": "#1f77b4",
            "size": 1
           },
           "type": "scatter3d",
           "x": [
            -0.06316161155700684,
            -0.23460161685943604,
            0.031981825828552246,
            0.9085777997970581,
            0.5869458913803101,
            -0.5753084421157837,
            -0.6321121454238892,
            0.49917566776275635,
            0.872507631778717
           ],
           "y": [
            0.02784585952758789,
            -0.350095272064209,
            -1.438666820526123,
            -0.2805013656616211,
            1.5797510147094727,
            0.998523473739624,
            -0.911412239074707,
            -0.9276432991027832,
            0.6878385543823242
           ],
           "z": [
            1.0595601797103882,
            1.0333861112594604,
            1.044106364250183,
            1.0447620153427124,
            1.0300780534744263,
            1.0346888303756714,
            1.038772463798523,
            1.034575343132019,
            1.044796347618103
           ]
          }
         ],
         "name": "frame10"
        },
        {
         "data": [
          {
           "line": {
            "color": "red",
            "width": 5
           },
           "marker": {
            "color": "blue",
            "size": 2
           },
           "text": [
            "RHip"
           ],
           "type": "scatter3d",
           "x": [
            -1.0065690279006958,
            -0.8624786138534546
           ],
           "y": [
            0.42325258255004883,
            0.4292144775390625
           ],
           "z": [
            1.0536612272262573,
            1.0376185178756714
           ]
          },
          {
           "line": {
            "color": "red",
            "width": 5
           },
           "marker": {
            "color": "blue",
            "size": 2
           },
           "text": [
            "RKnee"
           ],
           "type": "scatter3d",
           "x": [
            -0.9887560606002808,
            -1.0065690279006958
           ],
           "y": [
            0.26361656188964844,
            0.42325258255004883
           ],
           "z": [
            0.6276563405990601,
            1.0536612272262573
           ]
          },
          {
           "line": {
            "color": "red",
            "width": 5
           },
           "marker": {
            "color": "blue",
            "size": 2
           },
           "text": [
            "RAnkle"
           ],
           "type": "scatter3d",
           "x": [
            -1.0038269758224487,
            -0.9887560606002808
           ],
           "y": [
            0.34006261825561523,
            0.26361656188964844
           ],
           "z": [
            0.19816386699676514,
            0.6276563405990601
           ]
          },
          {
           "line": {
            "color": "black",
            "width": 5
           },
           "marker": {
            "color": "blue",
            "size": 2
           },
           "text": [
            "LHip"
           ],
           "type": "scatter3d",
           "x": [
            -0.7183722257614136,
            -0.8624786138534546
           ],
           "y": [
            0.4352102279663086,
            0.4292144775390625
           ],
           "z": [
            1.0215967893600464,
            1.0376185178756714
           ]
          },
          {
           "line": {
            "color": "black",
            "width": 5
           },
           "marker": {
            "color": "blue",
            "size": 2
           },
           "text": [
            "LKnee"
           ],
           "type": "scatter3d",
           "x": [
            -0.8015393018722534,
            -0.7183722257614136
           ],
           "y": [
            0.4554915428161621,
            0.4352102279663086
           ],
           "z": [
            0.5752800703048706,
            1.0215967893600464
           ]
          },
          {
           "line": {
            "color": "black",
            "width": 5
           },
           "marker": {
            "color": "blue",
            "size": 2
           },
           "text": [
            "LAnkle"
           ],
           "type": "scatter3d",
           "x": [
            -0.8671101331710815,
            -0.8015393018722534
           ],
           "y": [
            0.5567374229431152,
            0.4554915428161621
           ],
           "z": [
            0.15052878856658936,
            0.5752800703048706
           ]
          },
          {
           "line": {
            "color": "black",
            "width": 5
           },
           "marker": {
            "color": "blue",
            "size": 2
           },
           "text": [
            "Spine1"
           ],
           "type": "scatter3d",
           "x": [
            -0.8413807153701782,
            -0.8624786138534546
           ],
           "y": [
            0.4511079788208008,
            0.4292144775390625
           ],
           "z": [
            1.296897292137146,
            1.0376185178756714
           ]
          },
          {
           "line": {
            "color": "black",
            "width": 5
           },
           "marker": {
            "color": "blue",
            "size": 2
           },
           "text": [
            "Neck"
           ],
           "type": "scatter3d",
           "x": [
            -0.8374253511428833,
            -0.8413807153701782
           ],
           "y": [
            0.38266754150390625,
            0.4511079788208008
           ],
           "z": [
            1.5383976697921753,
            1.296897292137146
           ]
          },
          {
           "line": {
            "color": "black",
            "width": 5
           },
           "marker": {
            "color": "blue",
            "size": 2
           },
           "text": [
            "Head"
           ],
           "type": "scatter3d",
           "x": [
            -0.8349677324295044,
            -0.8374253511428833
           ],
           "y": [
            0.2915530204772949,
            0.38266754150390625
           ],
           "z": [
            1.618325114250183,
            1.5383976697921753
           ]
          },
          {
           "line": {
            "color": "black",
            "width": 5
           },
           "marker": {
            "color": "blue",
            "size": 2
           },
           "text": [
            "Site"
           ],
           "type": "scatter3d",
           "x": [
            -0.8423494100570679,
            -0.8349677324295044
           ],
           "y": [
            0.2944960594177246,
            0.2915530204772949
           ],
           "z": [
            1.7343801259994507,
            1.618325114250183
           ]
          },
          {
           "line": {
            "color": "black",
            "width": 5
           },
           "marker": {
            "color": "blue",
            "size": 2
           },
           "text": [
            "LShoulder"
           ],
           "type": "scatter3d",
           "x": [
            -0.6703838109970093,
            -0.8374253511428833
           ],
           "y": [
            0.4022560119628906,
            0.38266754150390625
           ],
           "z": [
            1.4931501150131226,
            1.5383976697921753
           ]
          },
          {
           "line": {
            "color": "black",
            "width": 5
           },
           "marker": {
            "color": "blue",
            "size": 2
           },
           "text": [
            "LElbow"
           ],
           "type": "scatter3d",
           "x": [
            -0.5631018877029419,
            -0.6703838109970093
           ],
           "y": [
            0.5301265716552734,
            0.4022560119628906
           ],
           "z": [
            1.2485312223434448,
            1.4931501150131226
           ]
          },
          {
           "line": {
            "color": "black",
            "width": 5
           },
           "marker": {
            "color": "blue",
            "size": 2
           },
           "text": [
            "LWrist"
           ],
           "type": "scatter3d",
           "x": [
            -0.7092956304550171,
            -0.5631018877029419
           ],
           "y": [
            0.5815234184265137,
            0.5301265716552734
           ],
           "z": [
            1.0632466077804565,
            1.2485312223434448
           ]
          },
          {
           "line": {
            "color": "red",
            "width": 5
           },
           "marker": {
            "color": "blue",
            "size": 2
           },
           "text": [
            "RShoulder"
           ],
           "type": "scatter3d",
           "x": [
            -0.9965595006942749,
            -0.8374253511428833
           ],
           "y": [
            0.43006086349487305,
            0.38266754150390625
           ],
           "z": [
            1.4909614324569702,
            1.5383976697921753
           ]
          },
          {
           "line": {
            "color": "red",
            "width": 5
           },
           "marker": {
            "color": "blue",
            "size": 2
           },
           "text": [
            "RElbow"
           ],
           "type": "scatter3d",
           "x": [
            -1.0677169561386108,
            -0.9965595006942749
           ],
           "y": [
            0.5935187339782715,
            0.43006086349487305
           ],
           "z": [
            1.264203429222107,
            1.4909614324569702
           ]
          },
          {
           "line": {
            "color": "red",
            "width": 5
           },
           "marker": {
            "color": "blue",
            "size": 2
           },
           "text": [
            "RWrist"
           ],
           "type": "scatter3d",
           "x": [
            -0.9319766759872437,
            -1.0677169561386108
           ],
           "y": [
            0.6238288879394531,
            0.5935187339782715
           ],
           "z": [
            1.065700888633728,
            1.264203429222107
           ]
          },
          {
           "line": {
            "color": "#1f77b4",
            "width": 1
           },
           "marker": {
            "color": "#1f77b4",
            "size": 1
           },
           "type": "scatter3d",
           "x": [
            -0.06316161155700684,
            -0.23460161685943604,
            0.031981825828552246,
            0.9085777997970581,
            0.5869458913803101,
            -0.5753084421157837,
            -0.6321121454238892,
            0.49917566776275635,
            0.872507631778717,
            -0.012309551239013672
           ],
           "y": [
            0.02784585952758789,
            -0.350095272064209,
            -1.438666820526123,
            -0.2805013656616211,
            1.5797510147094727,
            0.998523473739624,
            -0.911412239074707,
            -0.9276432991027832,
            0.6878385543823242,
            1.8070440292358398
           ],
           "z": [
            1.0595601797103882,
            1.0333861112594604,
            1.044106364250183,
            1.0447620153427124,
            1.0300780534744263,
            1.0346888303756714,
            1.038772463798523,
            1.034575343132019,
            1.044796347618103,
            1.0287336111068726
           ]
          }
         ],
         "name": "frame11"
        },
        {
         "data": [
          {
           "line": {
            "color": "red",
            "width": 5
           },
           "marker": {
            "color": "blue",
            "size": 2
           },
           "text": [
            "RHip"
           ],
           "type": "scatter3d",
           "x": [
            -0.41667401790618896,
            -0.35734355449676514
           ],
           "y": [
            -1.3905768394470215,
            -1.257382869720459
           ],
           "z": [
            1.0609601736068726,
            1.0517534017562866
           ]
          },
          {
           "line": {
            "color": "red",
            "width": 5
           },
           "marker": {
            "color": "blue",
            "size": 2
           },
           "text": [
            "RKnee"
           ],
           "type": "scatter3d",
           "x": [
            -0.3930553197860718,
            -0.41667401790618896
           ],
           "y": [
            -1.3989925384521484,
            -1.3905768394470215
           ],
           "z": [
            0.6123517751693726,
            1.0609601736068726
           ]
          },
          {
           "line": {
            "color": "red",
            "width": 5
           },
           "marker": {
            "color": "blue",
            "size": 2
           },
           "text": [
            "RAnkle"
           ],
           "type": "scatter3d",
           "x": [
            -0.5028773546218872,
            -0.3930553197860718
           ],
           "y": [
            -1.3240108489990234,
            -1.3989925384521484
           ],
           "z": [
            0.1815704107284546,
            0.6123517751693726
           ]
          },
          {
           "line": {
            "color": "black",
            "width": 5
           },
           "marker": {
            "color": "blue",
            "size": 2
           },
           "text": [
            "LHip"
           ],
           "type": "scatter3d",
           "x": [
            -0.2979956865310669,
            -0.35734355449676514
           ],
           "y": [
            -1.1241583824157715,
            -1.257382869720459
           ],
           "z": [
            1.0425719022750854,
            1.0517534017562866
           ]
          },
          {
           "line": {
            "color": "black",
            "width": 5
           },
           "marker": {
            "color": "blue",
            "size": 2
           },
           "text": [
            "LKnee"
           ],
           "type": "scatter3d",
           "x": [
            -0.1705838441848755,
            -0.2979956865310669
           ],
           "y": [
            -1.1978249549865723,
            -1.1241583824157715
           ],
           "z": [
            0.617881178855896,
            1.0425719022750854
           ]
          },
          {
           "line": {
            "color": "black",
            "width": 5
           },
           "marker": {
            "color": "blue",
            "size": 2
           },
           "text": [
            "LAnkle"
           ],
           "type": "scatter3d",
           "x": [
            -0.33583247661590576,
            -0.1705838441848755
           ],
           "y": [
            -1.1516823768615723,
            -1.1978249549865723
           ],
           "z": [
            0.21355903148651123,
            0.617881178855896
           ]
          },
          {
           "line": {
            "color": "black",
            "width": 5
           },
           "marker": {
            "color": "blue",
            "size": 2
           },
           "text": [
            "Spine1"
           ],
           "type": "scatter3d",
           "x": [
            -0.37361466884613037,
            -0.35734355449676514
           ],
           "y": [
            -1.250185489654541,
            -1.257382869720459
           ],
           "z": [
            1.3064826726913452,
            1.0517534017562866
           ]
          },
          {
           "line": {
            "color": "black",
            "width": 5
           },
           "marker": {
            "color": "blue",
            "size": 2
           },
           "text": [
            "Neck"
           ],
           "type": "scatter3d",
           "x": [
            -0.3107057809829712,
            -0.37361466884613037
           ],
           "y": [
            -1.2992472648620605,
            -1.250185489654541
           ],
           "z": [
            1.5474032163619995,
            1.3064826726913452
           ]
          },
          {
           "line": {
            "color": "black",
            "width": 5
           },
           "marker": {
            "color": "blue",
            "size": 2
           },
           "text": [
            "Head"
           ],
           "type": "scatter3d",
           "x": [
            -0.21568119525909424,
            -0.3107057809829712
           ],
           "y": [
            -1.3209376335144043,
            -1.2992472648620605
           ],
           "z": [
            1.610564112663269,
            1.5474032163619995
           ]
          },
          {
           "line": {
            "color": "black",
            "width": 5
           },
           "marker": {
            "color": "blue",
            "size": 2
           },
           "text": [
            "Site"
           ],
           "type": "scatter3d",
           "x": [
            -0.22142517566680908,
            -0.21568119525909424
           ],
           "y": [
            -1.3317852020263672,
            -1.3209376335144043
           ],
           "z": [
            1.7241696119308472,
            1.610564112663269
           ]
          },
          {
           "line": {
            "color": "black",
            "width": 5
           },
           "marker": {
            "color": "blue",
            "size": 2
           },
           "text": [
            "LShoulder"
           ],
           "type": "scatter3d",
           "x": [
            -0.265832781791687,
            -0.3107057809829712
           ],
           "y": [
            -1.149275302886963,
            -1.2992472648620605
           ],
           "z": [
            1.517276644706726,
            1.5474032163619995
           ]
          },
          {
           "line": {
            "color": "black",
            "width": 5
           },
           "marker": {
            "color": "blue",
            "size": 2
           },
           "text": [
            "LElbow"
           ],
           "type": "scatter3d",
           "x": [
            -0.3540877103805542,
            -0.265832781791687
           ],
           "y": [
            -0.9940857887268066,
            -1.149275302886963
           ],
           "z": [
            1.2777379751205444,
            1.517276644706726
           ]
          },
          {
           "line": {
            "color": "black",
            "width": 5
           },
           "marker": {
            "color": "blue",
            "size": 2
           },
           "text": [
            "LWrist"
           ],
           "type": "scatter3d",
           "x": [
            -0.41540729999542236,
            -0.3540877103805542
           ],
           "y": [
            -1.0395779609680176,
            -0.9940857887268066
           ],
           "z": [
            1.0701230764389038,
            1.2777379751205444
           ]
          },
          {
           "line": {
            "color": "red",
            "width": 5
           },
           "marker": {
            "color": "blue",
            "size": 2
           },
           "text": [
            "RShoulder"
           ],
           "type": "scatter3d",
           "x": [
            -0.40923774242401123,
            -0.3107057809829712
           ],
           "y": [
            -1.4109082221984863,
            -1.2992472648620605
           ],
           "z": [
            1.4965466260910034,
            1.5474032163619995
           ]
          },
          {
           "line": {
            "color": "red",
            "width": 5
           },
           "marker": {
            "color": "blue",
            "size": 2
           },
           "text": [
            "RElbow"
           ],
           "type": "scatter3d",
           "x": [
            -0.5635913610458374,
            -0.40923774242401123
           ],
           "y": [
            -1.4141879081726074,
            -1.4109082221984863
           ],
           "z": [
            1.2483638525009155,
            1.4965466260910034
           ]
          },
          {
           "line": {
            "color": "red",
            "width": 5
           },
           "marker": {
            "color": "blue",
            "size": 2
           },
           "text": [
            "RWrist"
           ],
           "type": "scatter3d",
           "x": [
            -0.5386747121810913,
            -0.5635913610458374
           ],
           "y": [
            -1.3143095970153809,
            -1.4141879081726074
           ],
           "z": [
            1.0495952367782593,
            1.2483638525009155
           ]
          },
          {
           "line": {
            "color": "#1f77b4",
            "width": 1
           },
           "marker": {
            "color": "#1f77b4",
            "size": 1
           },
           "type": "scatter3d",
           "x": [
            -0.06316161155700684,
            -0.23460161685943604,
            0.031981825828552246,
            0.9085777997970581,
            0.5869458913803101,
            -0.5753084421157837,
            -0.6321121454238892,
            0.49917566776275635,
            0.872507631778717,
            -0.012309551239013672,
            -0.8624786138534546
           ],
           "y": [
            0.02784585952758789,
            -0.350095272064209,
            -1.438666820526123,
            -0.2805013656616211,
            1.5797510147094727,
            0.998523473739624,
            -0.911412239074707,
            -0.9276432991027832,
            0.6878385543823242,
            1.8070440292358398,
            0.4292144775390625
           ],
           "z": [
            1.0595601797103882,
            1.0333861112594604,
            1.044106364250183,
            1.0447620153427124,
            1.0300780534744263,
            1.0346888303756714,
            1.038772463798523,
            1.034575343132019,
            1.044796347618103,
            1.0287336111068726,
            1.0376185178756714
           ]
          }
         ],
         "name": "frame12"
        },
        {
         "data": [
          {
           "line": {
            "color": "red",
            "width": 5
           },
           "marker": {
            "color": "blue",
            "size": 2
           },
           "text": [
            "RHip"
           ],
           "type": "scatter3d",
           "x": [
            0.7925277948379517,
            0.6926766633987427
           ],
           "y": [
            -0.7586779594421387,
            -0.6638216972351074
           ],
           "z": [
            1.060301661491394,
            1.0514940023422241
           ]
          },
          {
           "line": {
            "color": "red",
            "width": 5
           },
           "marker": {
            "color": "blue",
            "size": 2
           },
           "text": [
            "RKnee"
           ],
           "type": "scatter3d",
           "x": [
            0.8816730976104736,
            0.7925277948379517
           ],
           "y": [
            -0.7199044227600098,
            -0.7586779594421387
           ],
           "z": [
            0.6248129606246948,
            1.060301661491394
           ]
          },
          {
           "line": {
            "color": "red",
            "width": 5
           },
           "marker": {
            "color": "blue",
            "size": 2
           },
           "text": [
            "RAnkle"
           ],
           "type": "scatter3d",
           "x": [
            0.644851565361023,
            0.8816730976104736
           ],
           "y": [
            -0.9872899055480957,
            -0.7199044227600098
           ],
           "z": [
            0.3486875295639038,
            0.6248129606246948
           ]
          },
          {
           "line": {
            "color": "black",
            "width": 5
           },
           "marker": {
            "color": "blue",
            "size": 2
           },
           "text": [
            "LHip"
           ],
           "type": "scatter3d",
           "x": [
            0.5928283929824829,
            0.6926766633987427
           ],
           "y": [
            -0.568962574005127,
            -0.6638216972351074
           ],
           "z": [
            1.0427058935165405,
            1.0514940023422241
           ]
          },
          {
           "line": {
            "color": "black",
            "width": 5
           },
           "marker": {
            "color": "blue",
            "size": 2
           },
           "text": [
            "LKnee"
           ],
           "type": "scatter3d",
           "x": [
            0.6767946481704712,
            0.5928283929824829
           ],
           "y": [
            -0.5845494270324707,
            -0.568962574005127
           ],
           "z": [
            0.6001423597335815,
            1.0427058935165405
           ]
          },
          {
           "line": {
            "color": "black",
            "width": 5
           },
           "marker": {
            "color": "blue",
            "size": 2
           },
           "text": [
            "LAnkle"
           ],
           "type": "scatter3d",
           "x": [
            0.6838525533676147,
            0.6767946481704712
           ],
           "y": [
            -0.666374683380127,
            -0.5845494270324707
           ],
           "z": [
            0.1584857702255249,
            0.6001423597335815
           ]
          },
          {
           "line": {
            "color": "black",
            "width": 5
           },
           "marker": {
            "color": "blue",
            "size": 2
           },
           "text": [
            "Spine1"
           ],
           "type": "scatter3d",
           "x": [
            0.6753599643707275,
            0.6926766633987427
           ],
           "y": [
            -0.6794662475585938,
            -0.6638216972351074
           ],
           "z": [
            1.3018306493759155,
            1.0514940023422241
           ]
          },
          {
           "line": {
            "color": "black",
            "width": 5
           },
           "marker": {
            "color": "blue",
            "size": 2
           },
           "text": [
            "Neck"
           ],
           "type": "scatter3d",
           "x": [
            0.6780914068222046,
            0.6753599643707275
           ],
           "y": [
            -0.643592357635498,
            -0.6794662475585938
           ],
           "z": [
            1.552441954612732,
            1.3018306493759155
           ]
          },
          {
           "line": {
            "color": "black",
            "width": 5
           },
           "marker": {
            "color": "blue",
            "size": 2
           },
           "text": [
            "Head"
           ],
           "type": "scatter3d",
           "x": [
            0.6865652799606323,
            0.6780914068222046
           ],
           "y": [
            -0.5820231437683105,
            -0.643592357635498
           ],
           "z": [
            1.6603444814682007,
            1.552441954612732
           ]
          },
          {
           "line": {
            "color": "black",
            "width": 5
           },
           "marker": {
            "color": "blue",
            "size": 2
           },
           "text": [
            "Site"
           ],
           "type": "scatter3d",
           "x": [
            0.6561093330383301,
            0.6865652799606323
           ],
           "y": [
            -0.6084170341491699,
            -0.5820231437683105
           ],
           "z": [
            1.7530893087387085,
            1.6603444814682007
           ]
          },
          {
           "line": {
            "color": "black",
            "width": 5
           },
           "marker": {
            "color": "blue",
            "size": 2
           },
           "text": [
            "LShoulder"
           ],
           "type": "scatter3d",
           "x": [
            0.5591076612472534,
            0.6780914068222046
           ],
           "y": [
            -0.5599503517150879,
            -0.643592357635498
           ],
           "z": [
            1.4828146696090698,
            1.552441954612732
           ]
          },
          {
           "line": {
            "color": "black",
            "width": 5
           },
           "marker": {
            "color": "blue",
            "size": 2
           },
           "text": [
            "LElbow"
           ],
           "type": "scatter3d",
           "x": [
            0.45921945571899414,
            0.5591076612472534
           ],
           "y": [
            -0.5018930435180664,
            -0.5599503517150879
           ],
           "z": [
            1.2120078802108765,
            1.4828146696090698
           ]
          },
          {
           "line": {
            "color": "black",
            "width": 5
           },
           "marker": {
            "color": "blue",
            "size": 2
           },
           "text": [
            "LWrist"
           ],
           "type": "scatter3d",
           "x": [
            0.6075958013534546,
            0.45921945571899414
           ],
           "y": [
            -0.44072961807250977,
            -0.5018930435180664
           ],
           "z": [
            1.0195478200912476,
            1.2120078802108765
           ]
          },
          {
           "line": {
            "color": "red",
            "width": 5
           },
           "marker": {
            "color": "blue",
            "size": 2
           },
           "text": [
            "RShoulder"
           ],
           "type": "scatter3d",
           "x": [
            0.7911732196807861,
            0.6780914068222046
           ],
           "y": [
            -0.7521424293518066,
            -0.643592357635498
           ],
           "z": [
            1.5009855031967163,
            1.552441954612732
           ]
          },
          {
           "line": {
            "color": "red",
            "width": 5
           },
           "marker": {
            "color": "blue",
            "size": 2
           },
           "text": [
            "RElbow"
           ],
           "type": "scatter3d",
           "x": [
            0.910973072052002,
            0.7911732196807861
           ],
           "y": [
            -0.8441839218139648,
            -0.7521424293518066
           ],
           "z": [
            1.2505263090133667,
            1.5009855031967163
           ]
          },
          {
           "line": {
            "color": "red",
            "width": 5
           },
           "marker": {
            "color": "blue",
            "size": 2
           },
           "text": [
            "RWrist"
           ],
           "type": "scatter3d",
           "x": [
            0.9385358095169067,
            0.910973072052002
           ],
           "y": [
            -0.7161030769348145,
            -0.8441839218139648
           ],
           "z": [
            1.0498617887496948,
            1.2505263090133667
           ]
          },
          {
           "line": {
            "color": "#1f77b4",
            "width": 1
           },
           "marker": {
            "color": "#1f77b4",
            "size": 1
           },
           "type": "scatter3d",
           "x": [
            -0.06316161155700684,
            -0.23460161685943604,
            0.031981825828552246,
            0.9085777997970581,
            0.5869458913803101,
            -0.5753084421157837,
            -0.6321121454238892,
            0.49917566776275635,
            0.872507631778717,
            -0.012309551239013672,
            -0.8624786138534546,
            -0.35734355449676514
           ],
           "y": [
            0.02784585952758789,
            -0.350095272064209,
            -1.438666820526123,
            -0.2805013656616211,
            1.5797510147094727,
            0.998523473739624,
            -0.911412239074707,
            -0.9276432991027832,
            0.6878385543823242,
            1.8070440292358398,
            0.4292144775390625,
            -1.257382869720459
           ],
           "z": [
            1.0595601797103882,
            1.0333861112594604,
            1.044106364250183,
            1.0447620153427124,
            1.0300780534744263,
            1.0346888303756714,
            1.038772463798523,
            1.034575343132019,
            1.044796347618103,
            1.0287336111068726,
            1.0376185178756714,
            1.0517534017562866
           ]
          }
         ],
         "name": "frame13"
        },
        {
         "data": [
          {
           "line": {
            "color": "red",
            "width": 5
           },
           "marker": {
            "color": "blue",
            "size": 2
           },
           "text": [
            "RHip"
           ],
           "type": "scatter3d",
           "x": [
            1.1957817077636719,
            1.0585377216339111
           ],
           "y": [
            0.8877520561218262,
            0.8749704360961914
           ],
           "z": [
            1.0726560354232788,
            1.0505551099777222
           ]
          },
          {
           "line": {
            "color": "red",
            "width": 5
           },
           "marker": {
            "color": "blue",
            "size": 2
           },
           "text": [
            "RKnee"
           ],
           "type": "scatter3d",
           "x": [
            1.156799077987671,
            1.1957817077636719
           ],
           "y": [
            0.986687183380127,
            0.8877520561218262
           ],
           "z": [
            0.6354464292526245,
            1.0726560354232788
           ]
          },
          {
           "line": {
            "color": "red",
            "width": 5
           },
           "marker": {
            "color": "blue",
            "size": 2
           },
           "text": [
            "RAnkle"
           ],
           "type": "scatter3d",
           "x": [
            1.1747863292694092,
            1.156799077987671
           ],
           "y": [
            0.9552512168884277,
            0.986687183380127
           ],
           "z": [
            0.1867431402206421,
            0.6354464292526245
           ]
          },
          {
           "line": {
            "color": "black",
            "width": 5
           },
           "marker": {
            "color": "blue",
            "size": 2
           },
           "text": [
            "LHip"
           ],
           "type": "scatter3d",
           "x": [
            0.9212886691093445,
            1.0585377216339111
           ],
           "y": [
            0.8621821403503418,
            0.8749704360961914
           ],
           "z": [
            1.0284661054611206,
            1.0505551099777222
           ]
          },
          {
           "line": {
            "color": "black",
            "width": 5
           },
           "marker": {
            "color": "blue",
            "size": 2
           },
           "text": [
            "LKnee"
           ],
           "type": "scatter3d",
           "x": [
            0.9537708163261414,
            0.9212886691093445
           ],
           "y": [
            0.8306279182434082,
            0.8621821403503418
           ],
           "z": [
            0.5844434499740601,
            1.0284661054611206
           ]
          },
          {
           "line": {
            "color": "black",
            "width": 5
           },
           "marker": {
            "color": "blue",
            "size": 2
           },
           "text": [
            "LAnkle"
           ],
           "type": "scatter3d",
           "x": [
            0.9794226884841919,
            0.9537708163261414
           ],
           "y": [
            0.5091090202331543,
            0.8306279182434082
           ],
           "z": [
            0.2659114599227905,
            0.5844434499740601
           ]
          },
          {
           "line": {
            "color": "black",
            "width": 5
           },
           "marker": {
            "color": "blue",
            "size": 2
           },
           "text": [
            "Spine1"
           ],
           "type": "scatter3d",
           "x": [
            1.049381971359253,
            1.0585377216339111
           ],
           "y": [
            0.8404688835144043,
            0.8749704360961914
           ],
           "z": [
            1.2953914403915405,
            1.0505551099777222
           ]
          },
          {
           "line": {
            "color": "black",
            "width": 5
           },
           "marker": {
            "color": "blue",
            "size": 2
           },
           "text": [
            "Neck"
           ],
           "type": "scatter3d",
           "x": [
            1.0720202922821045,
            1.049381971359253
           ],
           "y": [
            0.8649020195007324,
            0.8404688835144043
           ],
           "z": [
            1.5450152158737183,
            1.2953914403915405
           ]
          },
          {
           "line": {
            "color": "black",
            "width": 5
           },
           "marker": {
            "color": "blue",
            "size": 2
           },
           "text": [
            "Head"
           ],
           "type": "scatter3d",
           "x": [
            1.0914032459259033,
            1.0720202922821045
           ],
           "y": [
            0.9221153259277344,
            0.8649020195007324
           ],
           "z": [
            1.658227562904358,
            1.5450152158737183
           ]
          },
          {
           "line": {
            "color": "black",
            "width": 5
           },
           "marker": {
            "color": "blue",
            "size": 2
           },
           "text": [
            "Site"
           ],
           "type": "scatter3d",
           "x": [
            1.0875720977783203,
            1.0914032459259033
           ],
           "y": [
            0.8612570762634277,
            0.9221153259277344
           ],
           "z": [
            1.7435795068740845,
            1.658227562904358
           ]
          },
          {
           "line": {
            "color": "black",
            "width": 5
           },
           "marker": {
            "color": "blue",
            "size": 2
           },
           "text": [
            "LShoulder"
           ],
           "type": "scatter3d",
           "x": [
            0.9198511242866516,
            1.0720202922821045
           ],
           "y": [
            0.8788571357727051,
            0.8649020195007324
           ],
           "z": [
            1.48517644405365,
            1.5450152158737183
           ]
          },
          {
           "line": {
            "color": "black",
            "width": 5
           },
           "marker": {
            "color": "blue",
            "size": 2
           },
           "text": [
            "LElbow"
           ],
           "type": "scatter3d",
           "x": [
            0.7909196615219116,
            0.9198511242866516
           ],
           "y": [
            0.9150805473327637,
            0.8788571357727051
           ],
           "z": [
            1.2363008260726929,
            1.48517644405365
           ]
          },
          {
           "line": {
            "color": "black",
            "width": 5
           },
           "marker": {
            "color": "blue",
            "size": 2
           },
           "text": [
            "LWrist"
           ],
           "type": "scatter3d",
           "x": [
            0.8801031708717346,
            0.7909196615219116
           ],
           "y": [
            1.018928050994873,
            0.9150805473327637
           ],
           "z": [
            1.028276801109314,
            1.2363008260726929
           ]
          },
          {
           "line": {
            "color": "red",
            "width": 5
           },
           "marker": {
            "color": "blue",
            "size": 2
           },
           "text": [
            "RShoulder"
           ],
           "type": "scatter3d",
           "x": [
            1.2179679870605469,
            1.0720202922821045
           ],
           "y": [
            0.835930347442627,
            0.8649020195007324
           ],
           "z": [
            1.474427342414856,
            1.5450152158737183
           ]
          },
          {
           "line": {
            "color": "red",
            "width": 5
           },
           "marker": {
            "color": "blue",
            "size": 2
           },
           "text": [
            "RElbow"
           ],
           "type": "scatter3d",
           "x": [
            1.3366395235061646,
            1.2179679870605469
           ],
           "y": [
            0.7973928451538086,
            0.835930347442627
           ],
           "z": [
            1.2189644575119019,
            1.474427342414856
           ]
          },
          {
           "line": {
            "color": "red",
            "width": 5
           },
           "marker": {
            "color": "blue",
            "size": 2
           },
           "text": [
            "RWrist"
           ],
           "type": "scatter3d",
           "x": [
            1.276009202003479,
            1.3366395235061646
           ],
           "y": [
            0.9176154136657715,
            0.7973928451538086
           ],
           "z": [
            1.005212664604187,
            1.2189644575119019
           ]
          },
          {
           "line": {
            "color": "#1f77b4",
            "width": 1
           },
           "marker": {
            "color": "#1f77b4",
            "size": 1
           },
           "type": "scatter3d",
           "x": [
            -0.06316161155700684,
            -0.23460161685943604,
            0.031981825828552246,
            0.9085777997970581,
            0.5869458913803101,
            -0.5753084421157837,
            -0.6321121454238892,
            0.49917566776275635,
            0.872507631778717,
            -0.012309551239013672,
            -0.8624786138534546,
            -0.35734355449676514,
            0.6926766633987427
           ],
           "y": [
            0.02784585952758789,
            -0.350095272064209,
            -1.438666820526123,
            -0.2805013656616211,
            1.5797510147094727,
            0.998523473739624,
            -0.911412239074707,
            -0.9276432991027832,
            0.6878385543823242,
            1.8070440292358398,
            0.4292144775390625,
            -1.257382869720459,
            -0.6638216972351074
           ],
           "z": [
            1.0595601797103882,
            1.0333861112594604,
            1.044106364250183,
            1.0447620153427124,
            1.0300780534744263,
            1.0346888303756714,
            1.038772463798523,
            1.034575343132019,
            1.044796347618103,
            1.0287336111068726,
            1.0376185178756714,
            1.0517534017562866,
            1.0514940023422241
           ]
          }
         ],
         "name": "frame14"
        },
        {
         "data": [
          {
           "line": {
            "color": "red",
            "width": 5
           },
           "marker": {
            "color": "blue",
            "size": 2
           },
           "text": [
            "RHip"
           ],
           "type": "scatter3d",
           "x": [
            0.7512770891189575,
            0.6983240842819214
           ],
           "y": [
            2.3269524574279785,
            2.200273036956787
           ],
           "z": [
            1.0577815771102905,
            1.0445703268051147
           ]
          },
          {
           "line": {
            "color": "red",
            "width": 5
           },
           "marker": {
            "color": "blue",
            "size": 2
           },
           "text": [
            "RKnee"
           ],
           "type": "scatter3d",
           "x": [
            0.837140679359436,
            0.7512770891189575
           ],
           "y": [
            2.2246737480163574,
            2.3269524574279785
           ],
           "z": [
            0.6211401224136353,
            1.0577815771102905
           ]
          },
          {
           "line": {
            "color": "red",
            "width": 5
           },
           "marker": {
            "color": "blue",
            "size": 2
           },
           "text": [
            "RAnkle"
           ],
           "type": "scatter3d",
           "x": [
            0.9692350625991821,
            0.837140679359436
           ],
           "y": [
            2.1193881034851074,
            2.2246737480163574
           ],
           "z": [
            0.20759952068328857,
            0.6211401224136353
           ]
          },
          {
           "line": {
            "color": "black",
            "width": 5
           },
           "marker": {
            "color": "blue",
            "size": 2
           },
           "text": [
            "LHip"
           ],
           "type": "scatter3d",
           "x": [
            0.6453750133514404,
            0.6983240842819214
           ],
           "y": [
            2.0736043453216553,
            2.200273036956787
           ],
           "z": [
            1.0313693284988403,
            1.0445703268051147
           ]
          },
          {
           "line": {
            "color": "black",
            "width": 5
           },
           "marker": {
            "color": "blue",
            "size": 2
           },
           "text": [
            "LKnee"
           ],
           "type": "scatter3d",
           "x": [
            0.5388525724411011,
            0.6453750133514404
           ],
           "y": [
            2.1627259254455566,
            2.0736043453216553
           ],
           "z": [
            0.6052602529525757,
            1.0313693284988403
           ]
          },
          {
           "line": {
            "color": "black",
            "width": 5
           },
           "marker": {
            "color": "blue",
            "size": 2
           },
           "text": [
            "LAnkle"
           ],
           "type": "scatter3d",
           "x": [
            0.47557270526885986,
            0.5388525724411011
           ],
           "y": [
            2.247546672821045,
            2.1627259254455566
           ],
           "z": [
            0.16949999332427979,
            0.6052602529525757
           ]
          },
          {
           "line": {
            "color": "black",
            "width": 5
           },
           "marker": {
            "color": "blue",
            "size": 2
           },
           "text": [
            "Spine1"
           ],
           "type": "scatter3d",
           "x": [
            0.7210278511047363,
            0.6983240842819214
           ],
           "y": [
            2.191920042037964,
            2.200273036956787
           ],
           "z": [
            1.2882589101791382,
            1.0445703268051147
           ]
          },
          {
           "line": {
            "color": "black",
            "width": 5
           },
           "marker": {
            "color": "blue",
            "size": 2
           },
           "text": [
            "Neck"
           ],
           "type": "scatter3d",
           "x": [
            0.6856889724731445,
            0.7210278511047363
           ],
           "y": [
            2.217241048812866,
            2.191920042037964
           ],
           "z": [
            1.5414592027664185,
            1.2882589101791382
           ]
          },
          {
           "line": {
            "color": "black",
            "width": 5
           },
           "marker": {
            "color": "blue",
            "size": 2
           },
           "text": [
            "Head"
           ],
           "type": "scatter3d",
           "x": [
            0.5954512357711792,
            0.6856889724731445
           ],
           "y": [
            2.235840320587158,
            2.217241048812866
           ],
           "z": [
            1.6133681535720825,
            1.5414592027664185
           ]
          },
          {
           "line": {
            "color": "black",
            "width": 5
           },
           "marker": {
            "color": "blue",
            "size": 2
           },
           "text": [
            "Site"
           ],
           "type": "scatter3d",
           "x": [
            0.6116014719009399,
            0.5954512357711792
           ],
           "y": [
            2.237126350402832,
            2.235840320587158
           ],
           "z": [
            1.7244304418563843,
            1.6133681535720825
           ]
          },
          {
           "line": {
            "color": "black",
            "width": 5
           },
           "marker": {
            "color": "blue",
            "size": 2
           },
           "text": [
            "LShoulder"
           ],
           "type": "scatter3d",
           "x": [
            0.6481790542602539,
            0.6856889724731445
           ],
           "y": [
            2.0787885189056396,
            2.217241048812866
           ],
           "z": [
            1.4960519075393677,
            1.5414592027664185
           ]
          },
          {
           "line": {
            "color": "black",
            "width": 5
           },
           "marker": {
            "color": "blue",
            "size": 2
           },
           "text": [
            "LElbow"
           ],
           "type": "scatter3d",
           "x": [
            0.6712409257888794,
            0.6481790542602539
           ],
           "y": [
            1.9589312076568604,
            2.0787885189056396
           ],
           "z": [
            1.240094542503357,
            1.4960519075393677
           ]
          },
          {
           "line": {
            "color": "black",
            "width": 5
           },
           "marker": {
            "color": "blue",
            "size": 2
           },
           "text": [
            "LWrist"
           ],
           "type": "scatter3d",
           "x": [
            0.5984536409378052,
            0.6712409257888794
           ],
           "y": [
            1.9888577461242676,
            1.9589312076568604
           ],
           "z": [
            1.0026291608810425,
            1.240094542503357
           ]
          },
          {
           "line": {
            "color": "red",
            "width": 5
           },
           "marker": {
            "color": "blue",
            "size": 2
           },
           "text": [
            "RShoulder"
           ],
           "type": "scatter3d",
           "x": [
            0.7610030174255371,
            0.6856889724731445
           ],
           "y": [
            2.3344810009002686,
            2.217241048812866
           ],
           "z": [
            1.4734548330307007,
            1.5414592027664185
           ]
          },
          {
           "line": {
            "color": "red",
            "width": 5
           },
           "marker": {
            "color": "blue",
            "size": 2
           },
           "text": [
            "RElbow"
           ],
           "type": "scatter3d",
           "x": [
            0.8582828044891357,
            0.7610030174255371
           ],
           "y": [
            2.3972408771514893,
            2.3344810009002686
           ],
           "z": [
            1.2074044942855835,
            1.4734548330307007
           ]
          },
          {
           "line": {
            "color": "red",
            "width": 5
           },
           "marker": {
            "color": "blue",
            "size": 2
           },
           "text": [
            "RWrist"
           ],
           "type": "scatter3d",
           "x": [
            0.7658416032791138,
            0.8582828044891357
           ],
           "y": [
            2.428825616836548,
            2.3972408771514893
           ],
           "z": [
            0.9933832883834839,
            1.2074044942855835
           ]
          },
          {
           "line": {
            "color": "#1f77b4",
            "width": 1
           },
           "marker": {
            "color": "#1f77b4",
            "size": 1
           },
           "type": "scatter3d",
           "x": [
            -0.06316161155700684,
            -0.23460161685943604,
            0.031981825828552246,
            0.9085777997970581,
            0.5869458913803101,
            -0.5753084421157837,
            -0.6321121454238892,
            0.49917566776275635,
            0.872507631778717,
            -0.012309551239013672,
            -0.8624786138534546,
            -0.35734355449676514,
            0.6926766633987427,
            1.0585377216339111
           ],
           "y": [
            0.02784585952758789,
            -0.350095272064209,
            -1.438666820526123,
            -0.2805013656616211,
            1.5797510147094727,
            0.998523473739624,
            -0.911412239074707,
            -0.9276432991027832,
            0.6878385543823242,
            1.8070440292358398,
            0.4292144775390625,
            -1.257382869720459,
            -0.6638216972351074,
            0.8749704360961914
           ],
           "z": [
            1.0595601797103882,
            1.0333861112594604,
            1.044106364250183,
            1.0447620153427124,
            1.0300780534744263,
            1.0346888303756714,
            1.038772463798523,
            1.034575343132019,
            1.044796347618103,
            1.0287336111068726,
            1.0376185178756714,
            1.0517534017562866,
            1.0514940023422241,
            1.0505551099777222
           ]
          }
         ],
         "name": "frame15"
        },
        {
         "data": [
          {
           "line": {
            "color": "red",
            "width": 5
           },
           "marker": {
            "color": "blue",
            "size": 2
           },
           "text": [
            "RHip"
           ],
           "type": "scatter3d",
           "x": [
            -0.5277851819992065,
            -0.4110628366470337
           ],
           "y": [
            1.3352246284484863,
            1.256162166595459
           ],
           "z": [
            1.0457209348678589,
            1.0341342687606812
           ]
          },
          {
           "line": {
            "color": "red",
            "width": 5
           },
           "marker": {
            "color": "blue",
            "size": 2
           },
           "text": [
            "RKnee"
           ],
           "type": "scatter3d",
           "x": [
            -0.6106263399124146,
            -0.5277851819992065
           ],
           "y": [
            1.2140991687774658,
            1.3352246284484863
           ],
           "z": [
            0.6166890859603882,
            1.0457209348678589
           ]
          },
          {
           "line": {
            "color": "red",
            "width": 5
           },
           "marker": {
            "color": "blue",
            "size": 2
           },
           "text": [
            "RAnkle"
           ],
           "type": "scatter3d",
           "x": [
            -0.6006778478622437,
            -0.6106263399124146
           ],
           "y": [
            1.2520666122436523,
            1.2140991687774658
           ],
           "z": [
            0.17493140697479248,
            0.6166890859603882
           ]
          },
          {
           "line": {
            "color": "black",
            "width": 5
           },
           "marker": {
            "color": "blue",
            "size": 2
           },
           "text": [
            "LHip"
           ],
           "type": "scatter3d",
           "x": [
            -0.29432356357574463,
            -0.4110628366470337
           ],
           "y": [
            1.1771328449249268,
            1.256162166595459
           ],
           "z": [
            1.0225633382797241,
            1.0341342687606812
           ]
          },
          {
           "line": {
            "color": "black",
            "width": 5
           },
           "marker": {
            "color": "blue",
            "size": 2
           },
           "text": [
            "LKnee"
           ],
           "type": "scatter3d",
           "x": [
            -0.3329504728317261,
            -0.29432356357574463
           ],
           "y": [
            1.2410802841186523,
            1.1771328449249268
           ],
           "z": [
            0.576593279838562,
            1.0225633382797241
           ]
          },
          {
           "line": {
            "color": "black",
            "width": 5
           },
           "marker": {
            "color": "blue",
            "size": 2
           },
           "text": [
            "LAnkle"
           ],
           "type": "scatter3d",
           "x": [
            -0.3260403871536255,
            -0.3329504728317261
           ],
           "y": [
            1.3627419471740723,
            1.2410802841186523
           ],
           "z": [
            0.1504596471786499,
            0.576593279838562
           ]
          },
          {
           "line": {
            "color": "black",
            "width": 5
           },
           "marker": {
            "color": "blue",
            "size": 2
           },
           "text": [
            "Spine1"
           ],
           "type": "scatter3d",
           "x": [
            -0.39459002017974854,
            -0.4110628366470337
           ],
           "y": [
            1.2703063488006592,
            1.256162166595459
           ],
           "z": [
            1.2911704778671265,
            1.0341342687606812
           ]
          },
          {
           "line": {
            "color": "black",
            "width": 5
           },
           "marker": {
            "color": "blue",
            "size": 2
           },
           "text": [
            "Neck"
           ],
           "type": "scatter3d",
           "x": [
            -0.42690885066986084,
            -0.39459002017974854
           ],
           "y": [
            1.2373895645141602,
            1.2703063488006592
           ],
           "z": [
            1.534939169883728,
            1.2911704778671265
           ]
          },
          {
           "line": {
            "color": "black",
            "width": 5
           },
           "marker": {
            "color": "blue",
            "size": 2
           },
           "text": [
            "Head"
           ],
           "type": "scatter3d",
           "x": [
            -0.47660839557647705,
            -0.42690885066986084
           ],
           "y": [
            1.1702749729156494,
            1.2373895645141602
           ],
           "z": [
            1.6224573850631714,
            1.534939169883728
           ]
          },
          {
           "line": {
            "color": "black",
            "width": 5
           },
           "marker": {
            "color": "blue",
            "size": 2
           },
           "text": [
            "Site"
           ],
           "type": "scatter3d",
           "x": [
            -0.4695690870285034,
            -0.47660839557647705
           ],
           "y": [
            1.1825084686279297,
            1.1702749729156494
           ],
           "z": [
            1.7350891828536987,
            1.6224573850631714
           ]
          },
          {
           "line": {
            "color": "black",
            "width": 5
           },
           "marker": {
            "color": "blue",
            "size": 2
           },
           "text": [
            "LShoulder"
           ],
           "type": "scatter3d",
           "x": [
            -0.29053938388824463,
            -0.42690885066986084
           ],
           "y": [
            1.150400161743164,
            1.2373895645141602
           ],
           "z": [
            1.4762409925460815,
            1.534939169883728
           ]
          },
          {
           "line": {
            "color": "black",
            "width": 5
           },
           "marker": {
            "color": "blue",
            "size": 2
           },
           "text": [
            "LElbow"
           ],
           "type": "scatter3d",
           "x": [
            -0.18026220798492432,
            -0.29053938388824463
           ],
           "y": [
            1.080033779144287,
            1.150400161743164
           ],
           "z": [
            1.219082236289978,
            1.4762409925460815
           ]
          },
          {
           "line": {
            "color": "black",
            "width": 5
           },
           "marker": {
            "color": "blue",
            "size": 2
           },
           "text": [
            "LWrist"
           ],
           "type": "scatter3d",
           "x": [
            -0.32110393047332764,
            -0.18026220798492432
           ],
           "y": [
            1.0426719188690186,
            1.080033779144287
           ],
           "z": [
            1.0248721837997437,
            1.219082236289978
           ]
          },
          {
           "line": {
            "color": "red",
            "width": 5
           },
           "marker": {
            "color": "blue",
            "size": 2
           },
           "text": [
            "RShoulder"
           ],
           "type": "scatter3d",
           "x": [
            -0.5388139486312866,
            -0.42690885066986084
           ],
           "y": [
            1.350848913192749,
            1.2373895645141602
           ],
           "z": [
            1.4789751768112183,
            1.534939169883728
           ]
          },
          {
           "line": {
            "color": "red",
            "width": 5
           },
           "marker": {
            "color": "blue",
            "size": 2
           },
           "text": [
            "RElbow"
           ],
           "type": "scatter3d",
           "x": [
            -0.6158760786056519,
            -0.5388139486312866
           ],
           "y": [
            1.4476728439331055,
            1.350848913192749
           ],
           "z": [
            1.2131270170211792,
            1.4789751768112183
           ]
          },
          {
           "line": {
            "color": "red",
            "width": 5
           },
           "marker": {
            "color": "blue",
            "size": 2
           },
           "text": [
            "RWrist"
           ],
           "type": "scatter3d",
           "x": [
            -0.6344736814498901,
            -0.6158760786056519
           ],
           "y": [
            1.308696985244751,
            1.4476728439331055
           ],
           "z": [
            1.0174297094345093,
            1.2131270170211792
           ]
          },
          {
           "line": {
            "color": "#1f77b4",
            "width": 1
           },
           "marker": {
            "color": "#1f77b4",
            "size": 1
           },
           "type": "scatter3d",
           "x": [
            -0.06316161155700684,
            -0.23460161685943604,
            0.031981825828552246,
            0.9085777997970581,
            0.5869458913803101,
            -0.5753084421157837,
            -0.6321121454238892,
            0.49917566776275635,
            0.872507631778717,
            -0.012309551239013672,
            -0.8624786138534546,
            -0.35734355449676514,
            0.6926766633987427,
            1.0585377216339111,
            0.6983240842819214
           ],
           "y": [
            0.02784585952758789,
            -0.350095272064209,
            -1.438666820526123,
            -0.2805013656616211,
            1.5797510147094727,
            0.998523473739624,
            -0.911412239074707,
            -0.9276432991027832,
            0.6878385543823242,
            1.8070440292358398,
            0.4292144775390625,
            -1.257382869720459,
            -0.6638216972351074,
            0.8749704360961914,
            2.200273036956787
           ],
           "z": [
            1.0595601797103882,
            1.0333861112594604,
            1.044106364250183,
            1.0447620153427124,
            1.0300780534744263,
            1.0346888303756714,
            1.038772463798523,
            1.034575343132019,
            1.044796347618103,
            1.0287336111068726,
            1.0376185178756714,
            1.0517534017562866,
            1.0514940023422241,
            1.0505551099777222,
            1.0445703268051147
           ]
          }
         ],
         "name": "frame16"
        },
        {
         "data": [
          {
           "line": {
            "color": "red",
            "width": 5
           },
           "marker": {
            "color": "blue",
            "size": 2
           },
           "text": [
            "RHip"
           ],
           "type": "scatter3d",
           "x": [
            -0.9326058626174927,
            -0.7955883741378784
           ],
           "y": [
            -0.4712090492248535,
            -0.4227924346923828
           ],
           "z": [
            1.0434526205062866,
            1.0412148237228394
           ]
          },
          {
           "line": {
            "color": "red",
            "width": 5
           },
           "marker": {
            "color": "blue",
            "size": 2
           },
           "text": [
            "RKnee"
           ],
           "type": "scatter3d",
           "x": [
            -0.8998419046401978,
            -0.9326058626174927
           ],
           "y": [
            -0.47642946243286133,
            -0.4712090492248535
           ],
           "z": [
            0.5927389860153198,
            1.0434526205062866
           ]
          },
          {
           "line": {
            "color": "red",
            "width": 5
           },
           "marker": {
            "color": "blue",
            "size": 2
           },
           "text": [
            "RAnkle"
           ],
           "type": "scatter3d",
           "x": [
            -0.9098488092422485,
            -0.8998419046401978
           ],
           "y": [
            -0.3911290168762207,
            -0.47642946243286133
           ],
           "z": [
            0.15830695629119873,
            0.5927389860153198
           ]
          },
          {
           "line": {
            "color": "black",
            "width": 5
           },
           "marker": {
            "color": "blue",
            "size": 2
           },
           "text": [
            "LHip"
           ],
           "type": "scatter3d",
           "x": [
            -0.658563494682312,
            -0.7955883741378784
           ],
           "y": [
            -0.37436771392822266,
            -0.4227924346923828
           ],
           "z": [
            1.0389946699142456,
            1.0412148237228394
           ]
          },
          {
           "line": {
            "color": "black",
            "width": 5
           },
           "marker": {
            "color": "blue",
            "size": 2
           },
           "text": [
            "LKnee"
           ],
           "type": "scatter3d",
           "x": [
            -0.6152728796005249,
            -0.658563494682312
           ],
           "y": [
            -0.49336671829223633,
            -0.37436771392822266
           ],
           "z": [
            0.6128929853439331,
            1.0389946699142456
           ]
          },
          {
           "line": {
            "color": "black",
            "width": 5
           },
           "marker": {
            "color": "blue",
            "size": 2
           },
           "text": [
            "LAnkle"
           ],
           "type": "scatter3d",
           "x": [
            -0.6649173498153687,
            -0.6152728796005249
           ],
           "y": [
            -0.24420976638793945,
            -0.49336671829223633
           ],
           "z": [
            0.2485111951828003,
            0.6128929853439331
           ]
          },
          {
           "line": {
            "color": "black",
            "width": 5
           },
           "marker": {
            "color": "blue",
            "size": 2
           },
           "text": [
            "Spine1"
           ],
           "type": "scatter3d",
           "x": [
            -0.8312097787857056,
            -0.7955883741378784
           ],
           "y": [
            -0.38536691665649414,
            -0.4227924346923828
           ],
           "z": [
            1.2962716817855835,
            1.0412148237228394
           ]
          },
          {
           "line": {
            "color": "black",
            "width": 5
           },
           "marker": {
            "color": "blue",
            "size": 2
           },
           "text": [
            "Neck"
           ],
           "type": "scatter3d",
           "x": [
            -0.8307880163192749,
            -0.8312097787857056
           ],
           "y": [
            -0.4273343086242676,
            -0.38536691665649414
           ],
           "z": [
            1.5452646017074585,
            1.2962716817855835
           ]
          },
          {
           "line": {
            "color": "black",
            "width": 5
           },
           "marker": {
            "color": "blue",
            "size": 2
           },
           "text": [
            "Head"
           ],
           "type": "scatter3d",
           "x": [
            -0.7908931970596313,
            -0.8307880163192749
           ],
           "y": [
            -0.5068149566650391,
            -0.4273343086242676
           ],
           "z": [
            1.6294716596603394,
            1.5452646017074585
           ]
          },
          {
           "line": {
            "color": "black",
            "width": 5
           },
           "marker": {
            "color": "blue",
            "size": 2
           },
           "text": [
            "Site"
           ],
           "type": "scatter3d",
           "x": [
            -0.8041390180587769,
            -0.7908931970596313
           ],
           "y": [
            -0.5076436996459961,
            -0.5068149566650391
           ],
           "z": [
            1.7469733953475952,
            1.6294716596603394
           ]
          },
          {
           "line": {
            "color": "black",
            "width": 5
           },
           "marker": {
            "color": "blue",
            "size": 2
           },
           "text": [
            "LShoulder"
           ],
           "type": "scatter3d",
           "x": [
            -0.6784907579421997,
            -0.8307880163192749
           ],
           "y": [
            -0.3698105812072754,
            -0.4273343086242676
           ],
           "z": [
            1.494775652885437,
            1.5452646017074585
           ]
          },
          {
           "line": {
            "color": "black",
            "width": 5
           },
           "marker": {
            "color": "blue",
            "size": 2
           },
           "text": [
            "LElbow"
           ],
           "type": "scatter3d",
           "x": [
            -0.5516685247421265,
            -0.6784907579421997
           ],
           "y": [
            -0.336946964263916,
            -0.3698105812072754
           ],
           "z": [
            1.232186198234558,
            1.494775652885437
           ]
          },
          {
           "line": {
            "color": "black",
            "width": 5
           },
           "marker": {
            "color": "blue",
            "size": 2
           },
           "text": [
            "LWrist"
           ],
           "type": "scatter3d",
           "x": [
            -0.6101714372634888,
            -0.5516685247421265
           ],
           "y": [
            -0.4869379997253418,
            -0.336946964263916
           ],
           "z": [
            1.051561713218689,
            1.232186198234558
           ]
          },
          {
           "line": {
            "color": "red",
            "width": 5
           },
           "marker": {
            "color": "blue",
            "size": 2
           },
           "text": [
            "RShoulder"
           ],
           "type": "scatter3d",
           "x": [
            -0.9846826791763306,
            -0.8307880163192749
           ],
           "y": [
            -0.4450716972351074,
            -0.4273343086242676
           ],
           "z": [
            1.482448935508728,
            1.5452646017074585
           ]
          },
          {
           "line": {
            "color": "red",
            "width": 5
           },
           "marker": {
            "color": "blue",
            "size": 2
           },
           "text": [
            "RElbow"
           ],
           "type": "scatter3d",
           "x": [
            -1.0992974042892456,
            -0.9846826791763306
           ],
           "y": [
            -0.43438005447387695,
            -0.4450716972351074
           ],
           "z": [
            1.2171005010604858,
            1.482448935508728
           ]
          },
          {
           "line": {
            "color": "red",
            "width": 5
           },
           "marker": {
            "color": "blue",
            "size": 2
           },
           "text": [
            "RWrist"
           ],
           "type": "scatter3d",
           "x": [
            -1.0094248056411743,
            -1.0992974042892456
           ],
           "y": [
            -0.5549397468566895,
            -0.43438005447387695
           ],
           "z": [
            1.0158642530441284,
            1.2171005010604858
           ]
          },
          {
           "line": {
            "color": "#1f77b4",
            "width": 1
           },
           "marker": {
            "color": "#1f77b4",
            "size": 1
           },
           "type": "scatter3d",
           "x": [
            -0.06316161155700684,
            -0.23460161685943604,
            0.031981825828552246,
            0.9085777997970581,
            0.5869458913803101,
            -0.5753084421157837,
            -0.6321121454238892,
            0.49917566776275635,
            0.872507631778717,
            -0.012309551239013672,
            -0.8624786138534546,
            -0.35734355449676514,
            0.6926766633987427,
            1.0585377216339111,
            0.6983240842819214,
            -0.4110628366470337
           ],
           "y": [
            0.02784585952758789,
            -0.350095272064209,
            -1.438666820526123,
            -0.2805013656616211,
            1.5797510147094727,
            0.998523473739624,
            -0.911412239074707,
            -0.9276432991027832,
            0.6878385543823242,
            1.8070440292358398,
            0.4292144775390625,
            -1.257382869720459,
            -0.6638216972351074,
            0.8749704360961914,
            2.200273036956787,
            1.256162166595459
           ],
           "z": [
            1.0595601797103882,
            1.0333861112594604,
            1.044106364250183,
            1.0447620153427124,
            1.0300780534744263,
            1.0346888303756714,
            1.038772463798523,
            1.034575343132019,
            1.044796347618103,
            1.0287336111068726,
            1.0376185178756714,
            1.0517534017562866,
            1.0514940023422241,
            1.0505551099777222,
            1.0445703268051147,
            1.0341342687606812
           ]
          }
         ],
         "name": "frame17"
        }
       ],
       "layout": {
        "autosize": false,
        "height": 700,
        "scene": {
         "aspectratio": {
          "x": 1.1666666666666667,
          "y": 0.6666666666666666,
          "z": 1.1666666666666667
         },
         "camera": {
          "eye": {
           "x": -1.7428,
           "y": 1.0707,
           "z": 0.71
          },
          "up": {
           "x": 0,
           "y": 1,
           "z": 0
          }
         },
         "xaxis": {
          "range": [
           -2,
           5
          ]
         },
         "yaxis": {
          "range": [
           -2,
           2
          ]
         },
         "zaxis": {
          "range": [
           -2,
           5
          ]
         }
        },
        "sliders": [
         {
          "currentvalue": {
           "font": {
            "size": 12
           },
           "prefix": "slice: ",
           "visible": true,
           "xanchor": "center"
          },
          "len": 1,
          "steps": [
           {
            "args": [
             [
              "frame1"
             ],
             {
              "frame": {
               "duration": 70,
               "redraw": true
              },
              "mode": "immediate",
              "transition": {
               "duration": 0
              }
             }
            ],
            "label": "1",
            "method": "animate"
           },
           {
            "args": [
             [
              "frame2"
             ],
             {
              "frame": {
               "duration": 70,
               "redraw": true
              },
              "mode": "immediate",
              "transition": {
               "duration": 0
              }
             }
            ],
            "label": "2",
            "method": "animate"
           },
           {
            "args": [
             [
              "frame3"
             ],
             {
              "frame": {
               "duration": 70,
               "redraw": true
              },
              "mode": "immediate",
              "transition": {
               "duration": 0
              }
             }
            ],
            "label": "3",
            "method": "animate"
           },
           {
            "args": [
             [
              "frame4"
             ],
             {
              "frame": {
               "duration": 70,
               "redraw": true
              },
              "mode": "immediate",
              "transition": {
               "duration": 0
              }
             }
            ],
            "label": "4",
            "method": "animate"
           },
           {
            "args": [
             [
              "frame5"
             ],
             {
              "frame": {
               "duration": 70,
               "redraw": true
              },
              "mode": "immediate",
              "transition": {
               "duration": 0
              }
             }
            ],
            "label": "5",
            "method": "animate"
           },
           {
            "args": [
             [
              "frame6"
             ],
             {
              "frame": {
               "duration": 70,
               "redraw": true
              },
              "mode": "immediate",
              "transition": {
               "duration": 0
              }
             }
            ],
            "label": "6",
            "method": "animate"
           },
           {
            "args": [
             [
              "frame7"
             ],
             {
              "frame": {
               "duration": 70,
               "redraw": true
              },
              "mode": "immediate",
              "transition": {
               "duration": 0
              }
             }
            ],
            "label": "7",
            "method": "animate"
           },
           {
            "args": [
             [
              "frame8"
             ],
             {
              "frame": {
               "duration": 70,
               "redraw": true
              },
              "mode": "immediate",
              "transition": {
               "duration": 0
              }
             }
            ],
            "label": "8",
            "method": "animate"
           },
           {
            "args": [
             [
              "frame9"
             ],
             {
              "frame": {
               "duration": 70,
               "redraw": true
              },
              "mode": "immediate",
              "transition": {
               "duration": 0
              }
             }
            ],
            "label": "9",
            "method": "animate"
           },
           {
            "args": [
             [
              "frame10"
             ],
             {
              "frame": {
               "duration": 70,
               "redraw": true
              },
              "mode": "immediate",
              "transition": {
               "duration": 0
              }
             }
            ],
            "label": "10",
            "method": "animate"
           },
           {
            "args": [
             [
              "frame11"
             ],
             {
              "frame": {
               "duration": 70,
               "redraw": true
              },
              "mode": "immediate",
              "transition": {
               "duration": 0
              }
             }
            ],
            "label": "11",
            "method": "animate"
           },
           {
            "args": [
             [
              "frame12"
             ],
             {
              "frame": {
               "duration": 70,
               "redraw": true
              },
              "mode": "immediate",
              "transition": {
               "duration": 0
              }
             }
            ],
            "label": "12",
            "method": "animate"
           },
           {
            "args": [
             [
              "frame13"
             ],
             {
              "frame": {
               "duration": 70,
               "redraw": true
              },
              "mode": "immediate",
              "transition": {
               "duration": 0
              }
             }
            ],
            "label": "13",
            "method": "animate"
           },
           {
            "args": [
             [
              "frame14"
             ],
             {
              "frame": {
               "duration": 70,
               "redraw": true
              },
              "mode": "immediate",
              "transition": {
               "duration": 0
              }
             }
            ],
            "label": "14",
            "method": "animate"
           },
           {
            "args": [
             [
              "frame15"
             ],
             {
              "frame": {
               "duration": 70,
               "redraw": true
              },
              "mode": "immediate",
              "transition": {
               "duration": 0
              }
             }
            ],
            "label": "15",
            "method": "animate"
           },
           {
            "args": [
             [
              "frame16"
             ],
             {
              "frame": {
               "duration": 70,
               "redraw": true
              },
              "mode": "immediate",
              "transition": {
               "duration": 0
              }
             }
            ],
            "label": "16",
            "method": "animate"
           },
           {
            "args": [
             [
              "frame17"
             ],
             {
              "frame": {
               "duration": 70,
               "redraw": true
              },
              "mode": "immediate",
              "transition": {
               "duration": 0
              }
             }
            ],
            "label": "17",
            "method": "animate"
           }
          ],
          "transition": {
           "duration": 0
          },
          "x": 0,
          "y": 0
         }
        ],
        "title": {
         "text": "action animation"
        },
        "updatemenus": [
         {
          "buttons": [
           {
            "args": [
             null
            ],
            "label": "Play",
            "method": "animate"
           }
          ],
          "pad": {
           "r": 10,
           "t": 0
          },
          "showactive": false,
          "type": "buttons",
          "x": 1.3,
          "xanchor": "right",
          "y": 1,
          "yanchor": "top"
         }
        ],
        "width": 800
       }
      },
      "text/html": [
       "<div>\n",
       "        \n",
       "        \n",
       "            <div id=\"328e412f-d854-4cb6-bb34-4f609c8207b1\" class=\"plotly-graph-div\" style=\"height:700px; width:800px;\"></div>\n",
       "            <script type=\"text/javascript\">\n",
       "                require([\"plotly\"], function(Plotly) {\n",
       "                    window.PLOTLYENV=window.PLOTLYENV || {};\n",
       "                    window.PLOTLYENV.BASE_URL='https://plot.ly';\n",
       "                    \n",
       "                if (document.getElementById(\"328e412f-d854-4cb6-bb34-4f609c8207b1\")) {\n",
       "                    Plotly.newPlot(\n",
       "                        '328e412f-d854-4cb6-bb34-4f609c8207b1',\n",
       "                        [{\"line\": {\"color\": \"red\", \"width\": 5}, \"marker\": {\"color\": \"blue\", \"size\": 2}, \"text\": [\"RHip\"], \"type\": \"scatter3d\", \"uid\": \"66293bac-8ca5-4f53-b632-ec1ebefda445\", \"x\": [-0.20358693599700928, -0.06316161155700684], \"y\": [0.01765918731689453, 0.02784585952758789], \"z\": [1.0625661611557007, 1.0595601797103882]}, {\"line\": {\"color\": \"red\", \"width\": 5}, \"marker\": {\"color\": \"blue\", \"size\": 2}, \"text\": [\"RKnee\"], \"type\": \"scatter3d\", \"uid\": \"16876cd3-d92c-4e49-b3e9-7e8aacf5e9e5\", \"x\": [-0.206534743309021, -0.20358693599700928], \"y\": [0.04522371292114258, 0.01765918731689453], \"z\": [0.6097873449325562, 1.0625661611557007]}, {\"line\": {\"color\": \"red\", \"width\": 5}, \"marker\": {\"color\": \"blue\", \"size\": 2}, \"text\": [\"RAnkle\"], \"type\": \"scatter3d\", \"uid\": \"7ebe94ac-cb1c-4980-974a-f6aa5af569b3\", \"x\": [-0.22039377689361572, -0.206534743309021], \"y\": [0.10761117935180664, 0.04522371292114258], \"z\": [0.17624080181121826, 0.6097873449325562]}, {\"line\": {\"color\": \"black\", \"width\": 5}, \"marker\": {\"color\": \"blue\", \"size\": 2}, \"text\": [\"LHip\"], \"type\": \"scatter3d\", \"uid\": \"6b9031dc-0bb9-4d0f-a743-79ae0c52aee1\", \"x\": [0.0772925615310669, -0.06316161155700684], \"y\": [0.03808784484863281, 0.02784585952758789], \"z\": [1.0565794706344604, 1.0595601797103882]}, {\"line\": {\"color\": \"black\", \"width\": 5}, \"marker\": {\"color\": \"blue\", \"size\": 2}, \"text\": [\"LKnee\"], \"type\": \"scatter3d\", \"uid\": \"c7443c2f-dbb8-46f0-9a18-ac72ed1316c9\", \"x\": [0.10148048400878906, 0.0772925615310669], \"y\": [0.059401512145996094, 0.03808784484863281], \"z\": [0.6029170751571655, 1.0565794706344604]}, {\"line\": {\"color\": \"black\", \"width\": 5}, \"marker\": {\"color\": \"blue\", \"size\": 2}, \"text\": [\"LAnkle\"], \"type\": \"scatter3d\", \"uid\": \"da11b2d5-3b8b-47b3-b274-3d2508cd996b\", \"x\": [0.13269007205963135, 0.10148048400878906], \"y\": [0.12624216079711914, 0.059401512145996094], \"z\": [0.16382062435150146, 0.6029170751571655]}, {\"line\": {\"color\": \"black\", \"width\": 5}, \"marker\": {\"color\": \"blue\", \"size\": 2}, \"text\": [\"Spine1\"], \"type\": \"scatter3d\", \"uid\": \"cae53dbe-41a1-4c2a-93c0-247eba82d5df\", \"x\": [-0.0619736909866333, -0.06316161155700684], \"y\": [0.03876447677612305, 0.02784585952758789], \"z\": [1.317872405052185, 1.0595601797103882]}, {\"line\": {\"color\": \"black\", \"width\": 5}, \"marker\": {\"color\": \"blue\", \"size\": 2}, \"text\": [\"Neck\"], \"type\": \"scatter3d\", \"uid\": \"138be673-66fb-4074-8078-ab89522ff105\", \"x\": [-0.052529215812683105, -0.0619736909866333], \"y\": [0.03572702407836914, 0.03876447677612305], \"z\": [1.5694106817245483, 1.317872405052185]}, {\"line\": {\"color\": \"black\", \"width\": 5}, \"marker\": {\"color\": \"blue\", \"size\": 2}, \"text\": [\"Head\"], \"type\": \"scatter3d\", \"uid\": \"362a5b51-b2e9-4d29-aeaf-eb2c99229d66\", \"x\": [-0.0621105432510376, -0.052529215812683105], \"y\": [-0.028594493865966797, 0.03572702407836914], \"z\": [1.667385458946228, 1.5694106817245483]}, {\"line\": {\"color\": \"black\", \"width\": 5}, \"marker\": {\"color\": \"blue\", \"size\": 2}, \"text\": [\"Site\"], \"type\": \"scatter3d\", \"uid\": \"695ff947-d11c-4424-b103-891118b9d176\", \"x\": [-0.06957602500915527, -0.0621105432510376], \"y\": [0.009552001953125, -0.028594493865966797], \"z\": [1.7723015546798706, 1.667385458946228]}, {\"line\": {\"color\": \"black\", \"width\": 5}, \"marker\": {\"color\": \"blue\", \"size\": 2}, \"text\": [\"LShoulder\"], \"type\": \"scatter3d\", \"uid\": \"5099a37e-f809-4ff7-be27-ceb2ef06fca1\", \"x\": [0.11152493953704834, -0.052529215812683105], \"y\": [0.06675386428833008, 0.03572702407836914], \"z\": [1.5484880208969116, 1.5694106817245483]}, {\"line\": {\"color\": \"black\", \"width\": 5}, \"marker\": {\"color\": \"blue\", \"size\": 2}, \"text\": [\"LElbow\"], \"type\": \"scatter3d\", \"uid\": \"a29bf3c1-9012-48ba-b50b-69478add2d5d\", \"x\": [0.39663684368133545, 0.11152493953704834], \"y\": [0.08874177932739258, 0.06675386428833008], \"z\": [1.4825419187545776, 1.5484880208969116]}, {\"line\": {\"color\": \"black\", \"width\": 5}, \"marker\": {\"color\": \"blue\", \"size\": 2}, \"text\": [\"LWrist\"], \"type\": \"scatter3d\", \"uid\": \"230dde2d-ebc2-45f6-b528-49f465d1ce80\", \"x\": [0.6430068016052246, 0.39663684368133545], \"y\": [0.06914138793945312, 0.08874177932739258], \"z\": [1.4790366888046265, 1.4825419187545776]}, {\"line\": {\"color\": \"red\", \"width\": 5}, \"marker\": {\"color\": \"blue\", \"size\": 2}, \"text\": [\"RShoulder\"], \"type\": \"scatter3d\", \"uid\": \"151c97e1-9ede-43dd-81a0-d0f27b37dee2\", \"x\": [-0.2172938585281372, -0.052529215812683105], \"y\": [0.058331966400146484, 0.03572702407836914], \"z\": [1.5449689626693726, 1.5694106817245483]}, {\"line\": {\"color\": \"red\", \"width\": 5}, \"marker\": {\"color\": \"blue\", \"size\": 2}, \"text\": [\"RElbow\"], \"type\": \"scatter3d\", \"uid\": \"1c7c8ca3-7609-4875-800f-2433bbe49062\", \"x\": [-0.49363696575164795, -0.2172938585281372], \"y\": [0.0825200080871582, 0.058331966400146484], \"z\": [1.4703377485275269, 1.5449689626693726]}, {\"line\": {\"color\": \"red\", \"width\": 5}, \"marker\": {\"color\": \"blue\", \"size\": 2}, \"text\": [\"RWrist\"], \"type\": \"scatter3d\", \"uid\": \"97c26619-7d6a-4108-be9b-727794d4bb1e\", \"x\": [-0.7368916273117065, -0.49363696575164795], \"y\": [0.043140411376953125, 0.0825200080871582], \"z\": [1.4481347799301147, 1.4703377485275269]}, {\"line\": {\"color\": \"#1f77b4\", \"width\": 1}, \"marker\": {\"color\": \"#1f77b4\", \"size\": 1}, \"type\": \"scatter3d\", \"uid\": \"87dcae50-e501-4bd9-8cc2-59622aa6a647\", \"x\": [], \"y\": [], \"z\": []}],\n",
       "                        {\"autosize\": false, \"height\": 700, \"scene\": {\"aspectratio\": {\"x\": 1.1666666666666667, \"y\": 0.6666666666666666, \"z\": 1.1666666666666667}, \"camera\": {\"eye\": {\"x\": -1.7428, \"y\": 1.0707, \"z\": 0.71}, \"up\": {\"x\": 0, \"y\": 1, \"z\": 0}}, \"xaxis\": {\"range\": [-2, 5]}, \"yaxis\": {\"range\": [-2, 2]}, \"zaxis\": {\"range\": [-2, 5]}}, \"sliders\": [{\"currentvalue\": {\"font\": {\"size\": 12}, \"prefix\": \"slice: \", \"visible\": true, \"xanchor\": \"center\"}, \"len\": 1.0, \"steps\": [{\"args\": [[\"frame1\"], {\"frame\": {\"duration\": 70, \"redraw\": true}, \"mode\": \"immediate\", \"transition\": {\"duration\": 0}}], \"label\": \"1\", \"method\": \"animate\"}, {\"args\": [[\"frame2\"], {\"frame\": {\"duration\": 70, \"redraw\": true}, \"mode\": \"immediate\", \"transition\": {\"duration\": 0}}], \"label\": \"2\", \"method\": \"animate\"}, {\"args\": [[\"frame3\"], {\"frame\": {\"duration\": 70, \"redraw\": true}, \"mode\": \"immediate\", \"transition\": {\"duration\": 0}}], \"label\": \"3\", \"method\": \"animate\"}, {\"args\": [[\"frame4\"], {\"frame\": {\"duration\": 70, \"redraw\": true}, \"mode\": \"immediate\", \"transition\": {\"duration\": 0}}], \"label\": \"4\", \"method\": \"animate\"}, {\"args\": [[\"frame5\"], {\"frame\": {\"duration\": 70, \"redraw\": true}, \"mode\": \"immediate\", \"transition\": {\"duration\": 0}}], \"label\": \"5\", \"method\": \"animate\"}, {\"args\": [[\"frame6\"], {\"frame\": {\"duration\": 70, \"redraw\": true}, \"mode\": \"immediate\", \"transition\": {\"duration\": 0}}], \"label\": \"6\", \"method\": \"animate\"}, {\"args\": [[\"frame7\"], {\"frame\": {\"duration\": 70, \"redraw\": true}, \"mode\": \"immediate\", \"transition\": {\"duration\": 0}}], \"label\": \"7\", \"method\": \"animate\"}, {\"args\": [[\"frame8\"], {\"frame\": {\"duration\": 70, \"redraw\": true}, \"mode\": \"immediate\", \"transition\": {\"duration\": 0}}], \"label\": \"8\", \"method\": \"animate\"}, {\"args\": [[\"frame9\"], {\"frame\": {\"duration\": 70, \"redraw\": true}, \"mode\": \"immediate\", \"transition\": {\"duration\": 0}}], \"label\": \"9\", \"method\": \"animate\"}, {\"args\": [[\"frame10\"], {\"frame\": {\"duration\": 70, \"redraw\": true}, \"mode\": \"immediate\", \"transition\": {\"duration\": 0}}], \"label\": \"10\", \"method\": \"animate\"}, {\"args\": [[\"frame11\"], {\"frame\": {\"duration\": 70, \"redraw\": true}, \"mode\": \"immediate\", \"transition\": {\"duration\": 0}}], \"label\": \"11\", \"method\": \"animate\"}, {\"args\": [[\"frame12\"], {\"frame\": {\"duration\": 70, \"redraw\": true}, \"mode\": \"immediate\", \"transition\": {\"duration\": 0}}], \"label\": \"12\", \"method\": \"animate\"}, {\"args\": [[\"frame13\"], {\"frame\": {\"duration\": 70, \"redraw\": true}, \"mode\": \"immediate\", \"transition\": {\"duration\": 0}}], \"label\": \"13\", \"method\": \"animate\"}, {\"args\": [[\"frame14\"], {\"frame\": {\"duration\": 70, \"redraw\": true}, \"mode\": \"immediate\", \"transition\": {\"duration\": 0}}], \"label\": \"14\", \"method\": \"animate\"}, {\"args\": [[\"frame15\"], {\"frame\": {\"duration\": 70, \"redraw\": true}, \"mode\": \"immediate\", \"transition\": {\"duration\": 0}}], \"label\": \"15\", \"method\": \"animate\"}, {\"args\": [[\"frame16\"], {\"frame\": {\"duration\": 70, \"redraw\": true}, \"mode\": \"immediate\", \"transition\": {\"duration\": 0}}], \"label\": \"16\", \"method\": \"animate\"}, {\"args\": [[\"frame17\"], {\"frame\": {\"duration\": 70, \"redraw\": true}, \"mode\": \"immediate\", \"transition\": {\"duration\": 0}}], \"label\": \"17\", \"method\": \"animate\"}], \"transition\": {\"duration\": 0}, \"x\": 0, \"y\": 0}], \"title\": {\"text\": \"action animation\"}, \"updatemenus\": [{\"buttons\": [{\"args\": [null], \"label\": \"Play\", \"method\": \"animate\"}], \"pad\": {\"r\": 10, \"t\": 0}, \"showactive\": false, \"type\": \"buttons\", \"x\": 1.3, \"xanchor\": \"right\", \"y\": 1, \"yanchor\": \"top\"}], \"width\": 800},\n",
       "                        {\"linkText\": \"Export to plot.ly\", \"showLink\": false, \"plotlyServerURL\": \"https://plot.ly\", \"responsive\": true}\n",
       "                    ).then(function(){\n",
       "                            Plotly.addFrames('328e412f-d854-4cb6-bb34-4f609c8207b1', [{\"data\": [{\"type\": \"scatter3d\", \"line\": {\"color\": \"red\", \"width\": 5}, \"text\": [\"RHip\"], \"y\": [0.01765918731689453, 0.02784585952758789], \"marker\": {\"size\": 2, \"color\": \"blue\"}, \"x\": [-0.20358693599700928, -0.06316161155700684], \"z\": [1.0625661611557007, 1.0595601797103882]}, {\"type\": \"scatter3d\", \"line\": {\"color\": \"red\", \"width\": 5}, \"text\": [\"RKnee\"], \"y\": [0.04522371292114258, 0.01765918731689453], \"marker\": {\"size\": 2, \"color\": \"blue\"}, \"x\": [-0.206534743309021, -0.20358693599700928], \"z\": [0.6097873449325562, 1.0625661611557007]}, {\"type\": \"scatter3d\", \"line\": {\"color\": \"red\", \"width\": 5}, \"text\": [\"RAnkle\"], \"y\": [0.10761117935180664, 0.04522371292114258], \"marker\": {\"size\": 2, \"color\": \"blue\"}, \"x\": [-0.22039377689361572, -0.206534743309021], \"z\": [0.17624080181121826, 0.6097873449325562]}, {\"type\": \"scatter3d\", \"line\": {\"color\": \"black\", \"width\": 5}, \"text\": [\"LHip\"], \"y\": [0.03808784484863281, 0.02784585952758789], \"marker\": {\"size\": 2, \"color\": \"blue\"}, \"x\": [0.0772925615310669, -0.06316161155700684], \"z\": [1.0565794706344604, 1.0595601797103882]}, {\"type\": \"scatter3d\", \"line\": {\"color\": \"black\", \"width\": 5}, \"text\": [\"LKnee\"], \"y\": [0.059401512145996094, 0.03808784484863281], \"marker\": {\"size\": 2, \"color\": \"blue\"}, \"x\": [0.10148048400878906, 0.0772925615310669], \"z\": [0.6029170751571655, 1.0565794706344604]}, {\"type\": \"scatter3d\", \"line\": {\"color\": \"black\", \"width\": 5}, \"text\": [\"LAnkle\"], \"y\": [0.12624216079711914, 0.059401512145996094], \"marker\": {\"size\": 2, \"color\": \"blue\"}, \"x\": [0.13269007205963135, 0.10148048400878906], \"z\": [0.16382062435150146, 0.6029170751571655]}, {\"type\": \"scatter3d\", \"line\": {\"color\": \"black\", \"width\": 5}, \"text\": [\"Spine1\"], \"y\": [0.03876447677612305, 0.02784585952758789], \"marker\": {\"size\": 2, \"color\": \"blue\"}, \"x\": [-0.0619736909866333, -0.06316161155700684], \"z\": [1.317872405052185, 1.0595601797103882]}, {\"type\": \"scatter3d\", \"line\": {\"color\": \"black\", \"width\": 5}, \"text\": [\"Neck\"], \"y\": [0.03572702407836914, 0.03876447677612305], \"marker\": {\"size\": 2, \"color\": \"blue\"}, \"x\": [-0.052529215812683105, -0.0619736909866333], \"z\": [1.5694106817245483, 1.317872405052185]}, {\"type\": \"scatter3d\", \"line\": {\"color\": \"black\", \"width\": 5}, \"text\": [\"Head\"], \"y\": [-0.028594493865966797, 0.03572702407836914], \"marker\": {\"size\": 2, \"color\": \"blue\"}, \"x\": [-0.0621105432510376, -0.052529215812683105], \"z\": [1.667385458946228, 1.5694106817245483]}, {\"type\": \"scatter3d\", \"line\": {\"color\": \"black\", \"width\": 5}, \"text\": [\"Site\"], \"y\": [0.009552001953125, -0.028594493865966797], \"marker\": {\"size\": 2, \"color\": \"blue\"}, \"x\": [-0.06957602500915527, -0.0621105432510376], \"z\": [1.7723015546798706, 1.667385458946228]}, {\"type\": \"scatter3d\", \"line\": {\"color\": \"black\", \"width\": 5}, \"text\": [\"LShoulder\"], \"y\": [0.06675386428833008, 0.03572702407836914], \"marker\": {\"size\": 2, \"color\": \"blue\"}, \"x\": [0.11152493953704834, -0.052529215812683105], \"z\": [1.5484880208969116, 1.5694106817245483]}, {\"type\": \"scatter3d\", \"line\": {\"color\": \"black\", \"width\": 5}, \"text\": [\"LElbow\"], \"y\": [0.08874177932739258, 0.06675386428833008], \"marker\": {\"size\": 2, \"color\": \"blue\"}, \"x\": [0.39663684368133545, 0.11152493953704834], \"z\": [1.4825419187545776, 1.5484880208969116]}, {\"type\": \"scatter3d\", \"line\": {\"color\": \"black\", \"width\": 5}, \"text\": [\"LWrist\"], \"y\": [0.06914138793945312, 0.08874177932739258], \"marker\": {\"size\": 2, \"color\": \"blue\"}, \"x\": [0.6430068016052246, 0.39663684368133545], \"z\": [1.4790366888046265, 1.4825419187545776]}, {\"type\": \"scatter3d\", \"line\": {\"color\": \"red\", \"width\": 5}, \"text\": [\"RShoulder\"], \"y\": [0.058331966400146484, 0.03572702407836914], \"marker\": {\"size\": 2, \"color\": \"blue\"}, \"x\": [-0.2172938585281372, -0.052529215812683105], \"z\": [1.5449689626693726, 1.5694106817245483]}, {\"type\": \"scatter3d\", \"line\": {\"color\": \"red\", \"width\": 5}, \"text\": [\"RElbow\"], \"y\": [0.0825200080871582, 0.058331966400146484], \"marker\": {\"size\": 2, \"color\": \"blue\"}, \"x\": [-0.49363696575164795, -0.2172938585281372], \"z\": [1.4703377485275269, 1.5449689626693726]}, {\"type\": \"scatter3d\", \"line\": {\"color\": \"red\", \"width\": 5}, \"text\": [\"RWrist\"], \"y\": [0.043140411376953125, 0.0825200080871582], \"marker\": {\"size\": 2, \"color\": \"blue\"}, \"x\": [-0.7368916273117065, -0.49363696575164795], \"z\": [1.4481347799301147, 1.4703377485275269]}, {\"type\": \"scatter3d\", \"line\": {\"color\": \"#1f77b4\", \"width\": 1}, \"y\": [], \"marker\": {\"size\": 1, \"color\": \"#1f77b4\"}, \"z\": [], \"x\": []}], \"name\": \"frame1\"}, {\"data\": [{\"type\": \"scatter3d\", \"line\": {\"color\": \"red\", \"width\": 5}, \"text\": [\"RHip\"], \"y\": [-0.3159613609313965, -0.350095272064209], \"marker\": {\"size\": 2, \"color\": \"blue\"}, \"x\": [-0.3656836748123169, -0.23460161685943604], \"z\": [1.0315994024276733, 1.0333861112594604]}, {\"type\": \"scatter3d\", \"line\": {\"color\": \"red\", \"width\": 5}, \"text\": [\"RKnee\"], \"y\": [-0.2561664581298828, -0.3159613609313965], \"marker\": {\"size\": 2, \"color\": \"blue\"}, \"x\": [-0.3401838541030884, -0.3656836748123169], \"z\": [0.5836137533187866, 1.0315994024276733]}, {\"type\": \"scatter3d\", \"line\": {\"color\": \"red\", \"width\": 5}, \"text\": [\"RAnkle\"], \"y\": [-0.0006108283996582031, -0.2561664581298828], \"marker\": {\"size\": 2, \"color\": \"blue\"}, \"x\": [-0.2825990915298462, -0.3401838541030884], \"z\": [0.23037421703338623, 0.5836137533187866]}, {\"type\": \"scatter3d\", \"line\": {\"color\": \"black\", \"width\": 5}, \"text\": [\"LHip\"], \"y\": [-0.3842277526855469, -0.350095272064209], \"marker\": {\"size\": 2, \"color\": \"blue\"}, \"x\": [-0.10351705551147461, -0.23460161685943604], \"z\": [1.0351842641830444, 1.0333861112594604]}, {\"type\": \"scatter3d\", \"line\": {\"color\": \"black\", \"width\": 5}, \"text\": [\"LKnee\"], \"y\": [-0.46961307525634766, -0.3842277526855469], \"marker\": {\"size\": 2, \"color\": \"blue\"}, \"x\": [-0.15301835536956787, -0.10351705551147461], \"z\": [0.5922096967697144, 1.0351842641830444]}, {\"type\": \"scatter3d\", \"line\": {\"color\": \"black\", \"width\": 5}, \"text\": [\"LAnkle\"], \"y\": [-0.4765815734863281, -0.46961307525634766], \"marker\": {\"size\": 2, \"color\": \"blue\"}, \"x\": [-0.16819703578948975, -0.15301835536956787], \"z\": [0.1522282361984253, 0.5922096967697144]}, {\"type\": \"scatter3d\", \"line\": {\"color\": \"black\", \"width\": 5}, \"text\": [\"Spine1\"], \"y\": [-0.3253049850463867, -0.350095272064209], \"marker\": {\"size\": 2, \"color\": \"blue\"}, \"x\": [-0.23994863033294678, -0.23460161685943604], \"z\": [1.2855342626571655, 1.0333861112594604]}, {\"type\": \"scatter3d\", \"line\": {\"color\": \"black\", \"width\": 5}, \"text\": [\"Neck\"], \"y\": [-0.36526918411254883, -0.3253049850463867], \"marker\": {\"size\": 2, \"color\": \"blue\"}, \"x\": [-0.24100148677825928, -0.23994863033294678], \"z\": [1.534756064414978, 1.2855342626571655]}, {\"type\": \"scatter3d\", \"line\": {\"color\": \"black\", \"width\": 5}, \"text\": [\"Head\"], \"y\": [-0.4545893669128418, -0.36526918411254883], \"marker\": {\"size\": 2, \"color\": \"blue\"}, \"x\": [-0.24706637859344482, -0.24100148677825928], \"z\": [1.6124590635299683, 1.534756064414978]}, {\"type\": \"scatter3d\", \"line\": {\"color\": \"black\", \"width\": 5}, \"text\": [\"Site\"], \"y\": [-0.4474005699157715, -0.4545893669128418], \"marker\": {\"size\": 2, \"color\": \"blue\"}, \"x\": [-0.2481602430343628, -0.24706637859344482], \"z\": [1.7275222539901733, 1.6124590635299683]}, {\"type\": \"scatter3d\", \"line\": {\"color\": \"black\", \"width\": 5}, \"text\": [\"LShoulder\"], \"y\": [-0.3783602714538574, -0.36526918411254883], \"marker\": {\"size\": 2, \"color\": \"blue\"}, \"x\": [-0.09022235870361328, -0.24100148677825928], \"z\": [1.4724668264389038, 1.534756064414978]}, {\"type\": \"scatter3d\", \"line\": {\"color\": \"black\", \"width\": 5}, \"text\": [\"LElbow\"], \"y\": [-0.36348485946655273, -0.3783602714538574], \"marker\": {\"size\": 2, \"color\": \"blue\"}, \"x\": [0.018250226974487305, -0.09022235870361328], \"z\": [1.2068809270858765, 1.4724668264389038]}, {\"type\": \"scatter3d\", \"line\": {\"color\": \"black\", \"width\": 5}, \"text\": [\"LWrist\"], \"y\": [-0.41871023178100586, -0.36348485946655273], \"marker\": {\"size\": 2, \"color\": \"blue\"}, \"x\": [0.01643848419189453, 0.018250226974487305], \"z\": [0.9711068868637085, 1.2068809270858765]}, {\"type\": \"scatter3d\", \"line\": {\"color\": \"red\", \"width\": 5}, \"text\": [\"RShoulder\"], \"y\": [-0.31003379821777344, -0.36526918411254883], \"marker\": {\"size\": 2, \"color\": \"blue\"}, \"x\": [-0.38202035427093506, -0.24100148677825928], \"z\": [1.4748796224594116, 1.534756064414978]}, {\"type\": \"scatter3d\", \"line\": {\"color\": \"red\", \"width\": 5}, \"text\": [\"RElbow\"], \"y\": [-0.25078344345092773, -0.31003379821777344], \"marker\": {\"size\": 2, \"color\": \"blue\"}, \"x\": [-0.46184051036834717, -0.38202035427093506], \"z\": [1.2062324285507202, 1.4748796224594116]}, {\"type\": \"scatter3d\", \"line\": {\"color\": \"red\", \"width\": 5}, \"text\": [\"RWrist\"], \"y\": [-0.29571104049682617, -0.25078344345092773], \"marker\": {\"size\": 2, \"color\": \"blue\"}, \"x\": [-0.5110574960708618, -0.46184051036834717], \"z\": [0.972434401512146, 1.2062324285507202]}, {\"type\": \"scatter3d\", \"line\": {\"color\": \"#1f77b4\", \"width\": 1}, \"y\": [0.02784585952758789], \"marker\": {\"size\": 1, \"color\": \"#1f77b4\"}, \"z\": [1.0595601797103882], \"x\": [-0.06316161155700684]}], \"name\": \"frame2\"}, {\"data\": [{\"type\": \"scatter3d\", \"line\": {\"color\": \"red\", \"width\": 5}, \"text\": [\"RHip\"], \"y\": [-1.577688217163086, -1.438666820526123], \"marker\": {\"size\": 2, \"color\": \"blue\"}, \"x\": [0.05288398265838623, 0.031981825828552246], \"z\": [1.0589555501937866, 1.044106364250183]}, {\"type\": \"scatter3d\", \"line\": {\"color\": \"red\", \"width\": 5}, \"text\": [\"RKnee\"], \"y\": [-1.5661249160766602, -1.577688217163086], \"marker\": {\"size\": 2, \"color\": \"blue\"}, \"x\": [0.129175066947937, 0.05288398265838623], \"z\": [0.6169852018356323, 1.0589555501937866]}, {\"type\": \"scatter3d\", \"line\": {\"color\": \"red\", \"width\": 5}, \"text\": [\"RAnkle\"], \"y\": [-1.569845199584961, -1.5661249160766602], \"marker\": {\"size\": 2, \"color\": \"blue\"}, \"x\": [0.037165164947509766, 0.129175066947937], \"z\": [0.1806548833847046, 0.6169852018356323]}, {\"type\": \"scatter3d\", \"line\": {\"color\": \"black\", \"width\": 5}, \"text\": [\"LHip\"], \"y\": [-1.2996301651000977, -1.438666820526123], \"marker\": {\"size\": 2, \"color\": \"blue\"}, \"x\": [0.011088013648986816, 0.031981825828552246], \"z\": [1.029283881187439, 1.044106364250183]}, {\"type\": \"scatter3d\", \"line\": {\"color\": \"black\", \"width\": 5}, \"text\": [\"LKnee\"], \"y\": [-1.3706860542297363, -1.2996301651000977], \"marker\": {\"size\": 2, \"color\": \"blue\"}, \"x\": [0.007738471031188965, 0.011088013648986816], \"z\": [0.5869745016098022, 1.029283881187439]}, {\"type\": \"scatter3d\", \"line\": {\"color\": \"black\", \"width\": 5}, \"text\": [\"LAnkle\"], \"y\": [-1.390577793121338, -1.3706860542297363], \"marker\": {\"size\": 2, \"color\": \"blue\"}, \"x\": [-0.19877922534942627, 0.007738471031188965], \"z\": [0.2096918821334839, 0.5869745016098022]}, {\"type\": \"scatter3d\", \"line\": {\"color\": \"black\", \"width\": 5}, \"text\": [\"Spine1\"], \"y\": [-1.434131145477295, -1.438666820526123], \"marker\": {\"size\": 2, \"color\": \"blue\"}, \"x\": [0.009687066078186035, 0.031981825828552246], \"z\": [1.3006013631820679, 1.044106364250183]}, {\"type\": \"scatter3d\", \"line\": {\"color\": \"black\", \"width\": 5}, \"text\": [\"Neck\"], \"y\": [-1.4326624870300293, -1.434131145477295], \"marker\": {\"size\": 2, \"color\": \"blue\"}, \"x\": [0.06404650211334229, 0.009687066078186035], \"z\": [1.5455869436264038, 1.3006013631820679]}, {\"type\": \"scatter3d\", \"line\": {\"color\": \"black\", \"width\": 5}, \"text\": [\"Head\"], \"y\": [-1.3956847190856934, -1.4326624870300293], \"marker\": {\"size\": 2, \"color\": \"blue\"}, \"x\": [0.16592156887054443, 0.06404650211334229], \"z\": [1.6133750677108765, 1.5455869436264038]}, {\"type\": \"scatter3d\", \"line\": {\"color\": \"black\", \"width\": 5}, \"text\": [\"Site\"], \"y\": [-1.394533634185791, -1.3956847190856934], \"marker\": {\"size\": 2, \"color\": \"blue\"}, \"x\": [0.17160701751708984, 0.16592156887054443], \"z\": [1.7245515584945679, 1.6133750677108765]}, {\"type\": \"scatter3d\", \"line\": {\"color\": \"black\", \"width\": 5}, \"text\": [\"LShoulder\"], \"y\": [-1.2827787399291992, -1.4326624870300293], \"marker\": {\"size\": 2, \"color\": \"blue\"}, \"x\": [0.015937209129333496, 0.06404650211334229], \"z\": [1.4916704893112183, 1.5455869436264038]}, {\"type\": \"scatter3d\", \"line\": {\"color\": \"black\", \"width\": 5}, \"text\": [\"LElbow\"], \"y\": [-1.1794257164001465, -1.2827787399291992], \"marker\": {\"size\": 2, \"color\": \"blue\"}, \"x\": [-0.06346011161804199, 0.015937209129333496], \"z\": [1.2241114377975464, 1.4916704893112183]}, {\"type\": \"scatter3d\", \"line\": {\"color\": \"black\", \"width\": 5}, \"text\": [\"LWrist\"], \"y\": [-1.13734769821167, -1.1794257164001465], \"marker\": {\"size\": 2, \"color\": \"blue\"}, \"x\": [-0.002539515495300293, -0.06346011161804199], \"z\": [0.9828046560287476, 1.2241114377975464]}, {\"type\": \"scatter3d\", \"line\": {\"color\": \"red\", \"width\": 5}, \"text\": [\"RShoulder\"], \"y\": [-1.5885505676269531, -1.4326624870300293], \"marker\": {\"size\": 2, \"color\": \"blue\"}, \"x\": [0.06567347049713135, 0.06404650211334229], \"z\": [1.4842923879623413, 1.5455869436264038]}, {\"type\": \"scatter3d\", \"line\": {\"color\": \"red\", \"width\": 5}, \"text\": [\"RElbow\"], \"y\": [-1.703737735748291, -1.5885505676269531], \"marker\": {\"size\": 2, \"color\": \"blue\"}, \"x\": [0.020369887351989746, 0.06567347049713135], \"z\": [1.222004771232605, 1.4842923879623413]}, {\"type\": \"scatter3d\", \"line\": {\"color\": \"red\", \"width\": 5}, \"text\": [\"RWrist\"], \"y\": [-1.7549595832824707, -1.703737735748291], \"marker\": {\"size\": 2, \"color\": \"blue\"}, \"x\": [0.055254578590393066, 0.020369887351989746], \"z\": [0.9745253324508667, 1.222004771232605]}, {\"type\": \"scatter3d\", \"line\": {\"color\": \"#1f77b4\", \"width\": 1}, \"y\": [0.02784585952758789, -0.350095272064209], \"marker\": {\"size\": 1, \"color\": \"#1f77b4\"}, \"z\": [1.0595601797103882, 1.0333861112594604], \"x\": [-0.06316161155700684, -0.23460161685943604]}], \"name\": \"frame3\"}, {\"data\": [{\"type\": \"scatter3d\", \"line\": {\"color\": \"red\", \"width\": 5}, \"text\": [\"RHip\"], \"y\": [-0.31832075119018555, -0.2805013656616211], \"marker\": {\"size\": 2, \"color\": \"blue\"}, \"x\": [1.0424573421478271, 0.9085777997970581], \"z\": [1.0532387495040894, 1.0447620153427124]}, {\"type\": \"scatter3d\", \"line\": {\"color\": \"red\", \"width\": 5}, \"text\": [\"RKnee\"], \"y\": [-0.419863224029541, -0.31832075119018555], \"marker\": {\"size\": 2, \"color\": \"blue\"}, \"x\": [1.0112253427505493, 1.0424573421478271], \"z\": [0.6159857511520386, 1.0532387495040894]}, {\"type\": \"scatter3d\", \"line\": {\"color\": \"red\", \"width\": 5}, \"text\": [\"RAnkle\"], \"y\": [-0.679166316986084, -0.419863224029541], \"marker\": {\"size\": 2, \"color\": \"blue\"}, \"x\": [0.969917893409729, 1.0112253427505493], \"z\": [0.2588762044906616, 0.6159857511520386]}, {\"type\": \"scatter3d\", \"line\": {\"color\": \"black\", \"width\": 5}, \"text\": [\"LHip\"], \"y\": [-0.24270915985107422, -0.2805013656616211], \"marker\": {\"size\": 2, \"color\": \"blue\"}, \"x\": [0.7746868133544922, 0.9085777997970581], \"z\": [1.0362905263900757, 1.0447620153427124]}, {\"type\": \"scatter3d\", \"line\": {\"color\": \"black\", \"width\": 5}, \"text\": [\"LKnee\"], \"y\": [-0.127471923828125, -0.24270915985107422], \"marker\": {\"size\": 2, \"color\": \"blue\"}, \"x\": [0.8535749912261963, 0.7746868133544922], \"z\": [0.6032336950302124, 1.0362905263900757]}, {\"type\": \"scatter3d\", \"line\": {\"color\": \"black\", \"width\": 5}, \"text\": [\"LAnkle\"], \"y\": [-0.09206533432006836, -0.127471923828125], \"marker\": {\"size\": 2, \"color\": \"blue\"}, \"x\": [0.8816858530044556, 0.8535749912261963], \"z\": [0.16136443614959717, 0.6032336950302124]}, {\"type\": \"scatter3d\", \"line\": {\"color\": \"black\", \"width\": 5}, \"text\": [\"Spine1\"], \"y\": [-0.29631757736206055, -0.2805013656616211], \"marker\": {\"size\": 2, \"color\": \"blue\"}, \"x\": [0.8978428840637207, 0.9085777997970581], \"z\": [1.3008016347885132, 1.0447620153427124]}, {\"type\": \"scatter3d\", \"line\": {\"color\": \"black\", \"width\": 5}, \"text\": [\"Neck\"], \"y\": [-0.2560157775878906, -0.29631757736206055], \"marker\": {\"size\": 2, \"color\": \"blue\"}, \"x\": [0.8965001106262207, 0.8978428840637207], \"z\": [1.546310305595398, 1.3008016347885132]}, {\"type\": \"scatter3d\", \"line\": {\"color\": \"black\", \"width\": 5}, \"text\": [\"Head\"], \"y\": [-0.1705794334411621, -0.2560157775878906], \"marker\": {\"size\": 2, \"color\": \"blue\"}, \"x\": [0.8969265818595886, 0.8965001106262207], \"z\": [1.6305516958236694, 1.546310305595398]}, {\"type\": \"scatter3d\", \"line\": {\"color\": \"black\", \"width\": 5}, \"text\": [\"Site\"], \"y\": [-0.17789649963378906, -0.1705794334411621], \"marker\": {\"size\": 2, \"color\": \"blue\"}, \"x\": [0.8871974945068359, 0.8969265818595886], \"z\": [1.7458118200302124, 1.6305516958236694]}, {\"type\": \"scatter3d\", \"line\": {\"color\": \"black\", \"width\": 5}, \"text\": [\"LShoulder\"], \"y\": [-0.24536752700805664, -0.2560157775878906], \"marker\": {\"size\": 2, \"color\": \"blue\"}, \"x\": [0.7500174045562744, 0.8965001106262207], \"z\": [1.4806212186813354, 1.546310305595398]}, {\"type\": \"scatter3d\", \"line\": {\"color\": \"black\", \"width\": 5}, \"text\": [\"LElbow\"], \"y\": [-0.2867889404296875, -0.24536752700805664], \"marker\": {\"size\": 2, \"color\": \"blue\"}, \"x\": [0.6599191427230835, 0.7500174045562744], \"z\": [1.2077158689498901, 1.4806212186813354]}, {\"type\": \"scatter3d\", \"line\": {\"color\": \"black\", \"width\": 5}, \"text\": [\"LWrist\"], \"y\": [-0.28035736083984375, -0.2867889404296875], \"marker\": {\"size\": 2, \"color\": \"blue\"}, \"x\": [0.6528106927871704, 0.6599191427230835], \"z\": [0.9564603567123413, 1.2077158689498901]}, {\"type\": \"scatter3d\", \"line\": {\"color\": \"red\", \"width\": 5}, \"text\": [\"RShoulder\"], \"y\": [-0.30422306060791016, -0.2560157775878906], \"marker\": {\"size\": 2, \"color\": \"blue\"}, \"x\": [1.0415515899658203, 0.8965001106262207], \"z\": [1.4901632070541382, 1.546310305595398]}, {\"type\": \"scatter3d\", \"line\": {\"color\": \"red\", \"width\": 5}, \"text\": [\"RElbow\"], \"y\": [-0.3337221145629883, -0.30422306060791016], \"marker\": {\"size\": 2, \"color\": \"blue\"}, \"x\": [1.1539230346679688, 1.0415515899658203], \"z\": [1.231249213218689, 1.4901632070541382]}, {\"type\": \"scatter3d\", \"line\": {\"color\": \"red\", \"width\": 5}, \"text\": [\"RWrist\"], \"y\": [-0.22517156600952148, -0.3337221145629883], \"marker\": {\"size\": 2, \"color\": \"blue\"}, \"x\": [1.182938814163208, 1.1539230346679688], \"z\": [1.0100692510604858, 1.231249213218689]}, {\"type\": \"scatter3d\", \"line\": {\"color\": \"#1f77b4\", \"width\": 1}, \"y\": [0.02784585952758789, -0.350095272064209, -1.438666820526123], \"marker\": {\"size\": 1, \"color\": \"#1f77b4\"}, \"z\": [1.0595601797103882, 1.0333861112594604, 1.044106364250183], \"x\": [-0.06316161155700684, -0.23460161685943604, 0.031981825828552246]}], \"name\": \"frame4\"}, {\"data\": [{\"type\": \"scatter3d\", \"line\": {\"color\": \"red\", \"width\": 5}, \"text\": [\"RHip\"], \"y\": [1.681586742401123, 1.5797510147094727], \"marker\": {\"size\": 2, \"color\": \"blue\"}, \"x\": [0.679486870765686, 0.5869458913803101], \"z\": [1.049345850944519, 1.0300780534744263]}, {\"type\": \"scatter3d\", \"line\": {\"color\": \"red\", \"width\": 5}, \"text\": [\"RKnee\"], \"y\": [1.7476146221160889, 1.681586742401123], \"marker\": {\"size\": 2, \"color\": \"blue\"}, \"x\": [0.5946873426437378, 0.679486870765686], \"z\": [0.610120415687561, 1.049345850944519]}, {\"type\": \"scatter3d\", \"line\": {\"color\": \"red\", \"width\": 5}, \"text\": [\"RAnkle\"], \"y\": [1.7464470863342285, 1.7476146221160889], \"marker\": {\"size\": 2, \"color\": \"blue\"}, \"x\": [0.6371124982833862, 0.5946873426437378], \"z\": [0.16361653804779053, 0.610120415687561]}, {\"type\": \"scatter3d\", \"line\": {\"color\": \"black\", \"width\": 5}, \"text\": [\"LHip\"], \"y\": [1.4779505729675293, 1.5797510147094727], \"marker\": {\"size\": 2, \"color\": \"blue\"}, \"x\": [0.49441826343536377, 0.5869458913803101], \"z\": [1.010825514793396, 1.0300780534744263]}, {\"type\": \"scatter3d\", \"line\": {\"color\": \"black\", \"width\": 5}, \"text\": [\"LKnee\"], \"y\": [1.4720113277435303, 1.4779505729675293], \"marker\": {\"size\": 2, \"color\": \"blue\"}, \"x\": [0.5539402961730957, 0.49441826343536377], \"z\": [0.5719479322433472, 1.010825514793396]}, {\"type\": \"scatter3d\", \"line\": {\"color\": \"black\", \"width\": 5}, \"text\": [\"LAnkle\"], \"y\": [1.2358670234680176, 1.4720113277435303], \"marker\": {\"size\": 2, \"color\": \"blue\"}, \"x\": [0.7744626998901367, 0.5539402961730957], \"z\": [0.2625373601913452, 0.5719479322433472]}, {\"type\": \"scatter3d\", \"line\": {\"color\": \"black\", \"width\": 5}, \"text\": [\"Spine1\"], \"y\": [1.5512497425079346, 1.5797510147094727], \"marker\": {\"size\": 2, \"color\": \"blue\"}, \"x\": [0.6081007719039917, 0.5869458913803101], \"z\": [1.2735921144485474, 1.0300780534744263]}, {\"type\": \"scatter3d\", \"line\": {\"color\": \"black\", \"width\": 5}, \"text\": [\"Neck\"], \"y\": [1.581739902496338, 1.5512497425079346], \"marker\": {\"size\": 2, \"color\": \"blue\"}, \"x\": [0.6026091575622559, 0.6081007719039917], \"z\": [1.5214964151382446, 1.2735921144485474]}, {\"type\": \"scatter3d\", \"line\": {\"color\": \"black\", \"width\": 5}, \"text\": [\"Head\"], \"y\": [1.6276252269744873, 1.581739902496338], \"marker\": {\"size\": 2, \"color\": \"blue\"}, \"x\": [0.5237400531768799, 0.6026091575622559], \"z\": [1.6022449731826782, 1.5214964151382446]}, {\"type\": \"scatter3d\", \"line\": {\"color\": \"black\", \"width\": 5}, \"text\": [\"Site\"], \"y\": [1.6182358264923096, 1.6276252269744873], \"marker\": {\"size\": 2, \"color\": \"blue\"}, \"x\": [0.5397876501083374, 0.5237400531768799], \"z\": [1.7138253450393677, 1.6022449731826782]}, {\"type\": \"scatter3d\", \"line\": {\"color\": \"black\", \"width\": 5}, \"text\": [\"LShoulder\"], \"y\": [1.4759573936462402, 1.581739902496338], \"marker\": {\"size\": 2, \"color\": \"blue\"}, \"x\": [0.5022072792053223, 0.6026091575622559], \"z\": [1.4662960767745972, 1.5214964151382446]}, {\"type\": \"scatter3d\", \"line\": {\"color\": \"black\", \"width\": 5}, \"text\": [\"LElbow\"], \"y\": [1.3967957496643066, 1.4759573936462402], \"marker\": {\"size\": 2, \"color\": \"blue\"}, \"x\": [0.43327176570892334, 0.5022072792053223], \"z\": [1.1983803510665894, 1.4662960767745972]}, {\"type\": \"scatter3d\", \"line\": {\"color\": \"black\", \"width\": 5}, \"text\": [\"LWrist\"], \"y\": [1.4310641288757324, 1.3967957496643066], \"marker\": {\"size\": 2, \"color\": \"blue\"}, \"x\": [0.36780834197998047, 0.43327176570892334], \"z\": [0.9606863260269165, 1.1983803510665894]}, {\"type\": \"scatter3d\", \"line\": {\"color\": \"red\", \"width\": 5}, \"text\": [\"RShoulder\"], \"y\": [1.6552529335021973, 1.581739902496338], \"marker\": {\"size\": 2, \"color\": \"blue\"}, \"x\": [0.7183539867401123, 0.6026091575622559], \"z\": [1.4499367475509644, 1.5214964151382446]}, {\"type\": \"scatter3d\", \"line\": {\"color\": \"red\", \"width\": 5}, \"text\": [\"RElbow\"], \"y\": [1.6859893798828125, 1.6552529335021973], \"marker\": {\"size\": 2, \"color\": \"blue\"}, \"x\": [0.8031542301177979, 0.7183539867401123], \"z\": [1.1770042181015015, 1.4499367475509644]}, {\"type\": \"scatter3d\", \"line\": {\"color\": \"red\", \"width\": 5}, \"text\": [\"RWrist\"], \"y\": [1.751441478729248, 1.6859893798828125], \"marker\": {\"size\": 2, \"color\": \"blue\"}, \"x\": [0.7983289957046509, 0.8031542301177979], \"z\": [0.9418841600418091, 1.1770042181015015]}, {\"type\": \"scatter3d\", \"line\": {\"color\": \"#1f77b4\", \"width\": 1}, \"y\": [0.02784585952758789, -0.350095272064209, -1.438666820526123, -0.2805013656616211], \"marker\": {\"size\": 1, \"color\": \"#1f77b4\"}, \"z\": [1.0595601797103882, 1.0333861112594604, 1.044106364250183, 1.0447620153427124], \"x\": [-0.06316161155700684, -0.23460161685943604, 0.031981825828552246, 0.9085777997970581]}], \"name\": \"frame5\"}, {\"data\": [{\"type\": \"scatter3d\", \"line\": {\"color\": \"red\", \"width\": 5}, \"text\": [\"RHip\"], \"y\": [1.0520522594451904, 0.998523473739624], \"marker\": {\"size\": 2, \"color\": \"blue\"}, \"x\": [-0.702973484992981, -0.5753084421157837], \"z\": [1.03546941280365, 1.0346888303756714]}, {\"type\": \"scatter3d\", \"line\": {\"color\": \"red\", \"width\": 5}, \"text\": [\"RKnee\"], \"y\": [1.0783989429473877, 1.0520522594451904], \"marker\": {\"size\": 2, \"color\": \"blue\"}, \"x\": [-0.7127200365066528, -0.702973484992981], \"z\": [0.5821942090988159, 1.03546941280365]}, {\"type\": \"scatter3d\", \"line\": {\"color\": \"red\", \"width\": 5}, \"text\": [\"RAnkle\"], \"y\": [1.3797576427459717, 1.0783989429473877], \"marker\": {\"size\": 2, \"color\": \"blue\"}, \"x\": [-0.5951200723648071, -0.7127200365066528], \"z\": [0.285244345664978, 0.5821942090988159]}, {\"type\": \"scatter3d\", \"line\": {\"color\": \"black\", \"width\": 5}, \"text\": [\"LHip\"], \"y\": [0.9450268745422363, 0.998523473739624], \"marker\": {\"size\": 2, \"color\": \"blue\"}, \"x\": [-0.447628378868103, -0.5753084421157837], \"z\": [1.0339254140853882, 1.0346888303756714]}, {\"type\": \"scatter3d\", \"line\": {\"color\": \"black\", \"width\": 5}, \"text\": [\"LKnee\"], \"y\": [0.8839740753173828, 0.9450268745422363], \"marker\": {\"size\": 2, \"color\": \"blue\"}, \"x\": [-0.5325711965560913, -0.447628378868103], \"z\": [0.591399073600769, 1.0339254140853882]}, {\"type\": \"scatter3d\", \"line\": {\"color\": \"black\", \"width\": 5}, \"text\": [\"LAnkle\"], \"y\": [0.9201493263244629, 0.8839740753173828], \"marker\": {\"size\": 2, \"color\": \"blue\"}, \"x\": [-0.5700372457504272, -0.5325711965560913], \"z\": [0.15248429775238037, 0.591399073600769]}, {\"type\": \"scatter3d\", \"line\": {\"color\": \"black\", \"width\": 5}, \"text\": [\"Spine1\"], \"y\": [1.0357470512390137, 0.998523473739624], \"marker\": {\"size\": 2, \"color\": \"blue\"}, \"x\": [-0.5709460973739624, -0.5753084421157837], \"z\": [1.283431887626648, 1.0346888303756714]}, {\"type\": \"scatter3d\", \"line\": {\"color\": \"black\", \"width\": 5}, \"text\": [\"Neck\"], \"y\": [1.0055396556854248, 1.0357470512390137], \"marker\": {\"size\": 2, \"color\": \"blue\"}, \"x\": [-0.558674693107605, -0.5709460973739624], \"z\": [1.5313023328781128, 1.283431887626648]}, {\"type\": \"scatter3d\", \"line\": {\"color\": \"black\", \"width\": 5}, \"text\": [\"Head\"], \"y\": [0.9145412445068359, 1.0055396556854248], \"marker\": {\"size\": 2, \"color\": \"blue\"}, \"x\": [-0.5681794881820679, -0.558674693107605], \"z\": [1.6064919233322144, 1.5313023328781128]}, {\"type\": \"scatter3d\", \"line\": {\"color\": \"black\", \"width\": 5}, \"text\": [\"Site\"], \"y\": [0.9225039482116699, 0.9145412445068359], \"marker\": {\"size\": 2, \"color\": \"blue\"}, \"x\": [-0.5650094747543335, -0.5681794881820679], \"z\": [1.7233299016952515, 1.6064919233322144]}, {\"type\": \"scatter3d\", \"line\": {\"color\": \"black\", \"width\": 5}, \"text\": [\"LShoulder\"], \"y\": [0.9713938236236572, 1.0055396556854248], \"marker\": {\"size\": 2, \"color\": \"blue\"}, \"x\": [-0.4164808988571167, -0.558674693107605], \"z\": [1.4637569189071655, 1.5313023328781128]}, {\"type\": \"scatter3d\", \"line\": {\"color\": \"black\", \"width\": 5}, \"text\": [\"LElbow\"], \"y\": [0.9626519680023193, 0.9713938236236572], \"marker\": {\"size\": 2, \"color\": \"blue\"}, \"x\": [-0.33483803272247314, -0.4164808988571167], \"z\": [1.1879748106002808, 1.4637569189071655]}, {\"type\": \"scatter3d\", \"line\": {\"color\": \"black\", \"width\": 5}, \"text\": [\"LWrist\"], \"y\": [0.8954124450683594, 0.9626519680023193], \"marker\": {\"size\": 2, \"color\": \"blue\"}, \"x\": [-0.3537498712539673, -0.33483803272247314], \"z\": [0.9510473012924194, 1.1879748106002808]}, {\"type\": \"scatter3d\", \"line\": {\"color\": \"red\", \"width\": 5}, \"text\": [\"RShoulder\"], \"y\": [1.0715219974517822, 1.0055396556854248], \"marker\": {\"size\": 2, \"color\": \"blue\"}, \"x\": [-0.6994451284408569, -0.558674693107605], \"z\": [1.4733251333236694, 1.5313023328781128]}, {\"type\": \"scatter3d\", \"line\": {\"color\": \"red\", \"width\": 5}, \"text\": [\"RElbow\"], \"y\": [1.1222219467163086, 1.0715219974517822], \"marker\": {\"size\": 2, \"color\": \"blue\"}, \"x\": [-0.7955249547958374, -0.6994451284408569], \"z\": [1.20767343044281, 1.4733251333236694]}, {\"type\": \"scatter3d\", \"line\": {\"color\": \"red\", \"width\": 5}, \"text\": [\"RWrist\"], \"y\": [1.049187421798706, 1.1222219467163086], \"marker\": {\"size\": 2, \"color\": \"blue\"}, \"x\": [-0.8550080060958862, -0.7955249547958374], \"z\": [0.9804815053939819, 1.20767343044281]}, {\"type\": \"scatter3d\", \"line\": {\"color\": \"#1f77b4\", \"width\": 1}, \"y\": [0.02784585952758789, -0.350095272064209, -1.438666820526123, -0.2805013656616211, 1.5797510147094727], \"marker\": {\"size\": 1, \"color\": \"#1f77b4\"}, \"z\": [1.0595601797103882, 1.0333861112594604, 1.044106364250183, 1.0447620153427124, 1.0300780534744263], \"x\": [-0.06316161155700684, -0.23460161685943604, 0.031981825828552246, 0.9085777997970581, 0.5869458913803101]}], \"name\": \"frame6\"}, {\"data\": [{\"type\": \"scatter3d\", \"line\": {\"color\": \"red\", \"width\": 5}, \"text\": [\"RHip\"], \"y\": [-0.990389347076416, -0.911412239074707], \"marker\": {\"size\": 2, \"color\": \"blue\"}, \"x\": [-0.7539733648300171, -0.6321121454238892], \"z\": [1.052458643913269, 1.038772463798523]}, {\"type\": \"scatter3d\", \"line\": {\"color\": \"red\", \"width\": 5}, \"text\": [\"RKnee\"], \"y\": [-1.0782232284545898, -0.990389347076416], \"marker\": {\"size\": 2, \"color\": \"blue\"}, \"x\": [-0.6776922941207886, -0.7539733648300171], \"z\": [0.6136559247970581, 1.052458643913269]}, {\"type\": \"scatter3d\", \"line\": {\"color\": \"red\", \"width\": 5}, \"text\": [\"RAnkle\"], \"y\": [-1.053910732269287, -1.0782232284545898], \"marker\": {\"size\": 2, \"color\": \"blue\"}, \"x\": [-0.7192486524581909, -0.6776922941207886], \"z\": [0.17082202434539795, 0.6136559247970581]}, {\"type\": \"scatter3d\", \"line\": {\"color\": \"black\", \"width\": 5}, \"text\": [\"LHip\"], \"y\": [-0.8324089050292969, -0.911412239074707], \"marker\": {\"size\": 2, \"color\": \"blue\"}, \"x\": [-0.5102351903915405, -0.6321121454238892], \"z\": [1.0251106023788452, 1.038772463798523]}, {\"type\": \"scatter3d\", \"line\": {\"color\": \"black\", \"width\": 5}, \"text\": [\"LKnee\"], \"y\": [-0.8921713829040527, -0.8324089050292969], \"marker\": {\"size\": 2, \"color\": \"blue\"}, \"x\": [-0.5053859949111938, -0.5102351903915405], \"z\": [0.5805186033248901, 1.0251106023788452]}, {\"type\": \"scatter3d\", \"line\": {\"color\": \"black\", \"width\": 5}, \"text\": [\"LAnkle\"], \"y\": [-0.5825676918029785, -0.8921713829040527], \"marker\": {\"size\": 2, \"color\": \"blue\"}, \"x\": [-0.662803053855896, -0.5053859949111938], \"z\": [0.2886303663253784, 0.5805186033248901]}, {\"type\": \"scatter3d\", \"line\": {\"color\": \"black\", \"width\": 5}, \"text\": [\"Spine1\"], \"y\": [-0.869990348815918, -0.911412239074707], \"marker\": {\"size\": 2, \"color\": \"blue\"}, \"x\": [-0.6463221311569214, -0.6321121454238892], \"z\": [1.2884610891342163, 1.038772463798523]}, {\"type\": \"scatter3d\", \"line\": {\"color\": \"black\", \"width\": 5}, \"text\": [\"Neck\"], \"y\": [-0.9104776382446289, -0.869990348815918], \"marker\": {\"size\": 2, \"color\": \"blue\"}, \"x\": [-0.6464818716049194, -0.6463221311569214], \"z\": [1.5352214574813843, 1.2884610891342163]}, {\"type\": \"scatter3d\", \"line\": {\"color\": \"black\", \"width\": 5}, \"text\": [\"Head\"], \"y\": [-0.9829893112182617, -0.9104776382446289], \"marker\": {\"size\": 2, \"color\": \"blue\"}, \"x\": [-0.6063703298568726, -0.6464818716049194], \"z\": [1.6156734228134155, 1.5352214574813843]}, {\"type\": \"scatter3d\", \"line\": {\"color\": \"black\", \"width\": 5}, \"text\": [\"Site\"], \"y\": [-0.9680676460266113, -0.9829893112182617], \"marker\": {\"size\": 2, \"color\": \"blue\"}, \"x\": [-0.6130706071853638, -0.6063703298568726], \"z\": [1.7316354513168335, 1.6156734228134155]}, {\"type\": \"scatter3d\", \"line\": {\"color\": \"black\", \"width\": 5}, \"text\": [\"LShoulder\"], \"y\": [-0.849329948425293, -0.9104776382446289], \"marker\": {\"size\": 2, \"color\": \"blue\"}, \"x\": [-0.5062636137008667, -0.6464818716049194], \"z\": [1.4832452535629272, 1.5352214574813843]}, {\"type\": \"scatter3d\", \"line\": {\"color\": \"black\", \"width\": 5}, \"text\": [\"LElbow\"], \"y\": [-0.8117518424987793, -0.849329948425293], \"marker\": {\"size\": 2, \"color\": \"blue\"}, \"x\": [-0.39608633518218994, -0.5062636137008667], \"z\": [1.2178658246994019, 1.4832452535629272]}, {\"type\": \"scatter3d\", \"line\": {\"color\": \"black\", \"width\": 5}, \"text\": [\"LWrist\"], \"y\": [-0.8903312683105469, -0.8117518424987793], \"marker\": {\"size\": 2, \"color\": \"blue\"}, \"x\": [-0.37195885181427, -0.39608633518218994], \"z\": [0.9880088567733765, 1.2178658246994019]}, {\"type\": \"scatter3d\", \"line\": {\"color\": \"red\", \"width\": 5}, \"text\": [\"RShoulder\"], \"y\": [-0.9415578842163086, -0.9104776382446289], \"marker\": {\"size\": 2, \"color\": \"blue\"}, \"x\": [-0.7897475957870483, -0.6464818716049194], \"z\": [1.4622482061386108, 1.5352214574813843]}, {\"type\": \"scatter3d\", \"line\": {\"color\": \"red\", \"width\": 5}, \"text\": [\"RElbow\"], \"y\": [-0.9290585517883301, -0.9415578842163086], \"marker\": {\"size\": 2, \"color\": \"blue\"}, \"x\": [-0.885621190071106, -0.7897475957870483], \"z\": [1.1880820989608765, 1.4622482061386108]}, {\"type\": \"scatter3d\", \"line\": {\"color\": \"red\", \"width\": 5}, \"text\": [\"RWrist\"], \"y\": [-0.9920997619628906, -0.9290585517883301], \"marker\": {\"size\": 2, \"color\": \"blue\"}, \"x\": [-0.8851124048233032, -0.885621190071106], \"z\": [0.9528158903121948, 1.1880820989608765]}, {\"type\": \"scatter3d\", \"line\": {\"color\": \"#1f77b4\", \"width\": 1}, \"y\": [0.02784585952758789, -0.350095272064209, -1.438666820526123, -0.2805013656616211, 1.5797510147094727, 0.998523473739624], \"marker\": {\"size\": 1, \"color\": \"#1f77b4\"}, \"z\": [1.0595601797103882, 1.0333861112594604, 1.044106364250183, 1.0447620153427124, 1.0300780534744263, 1.0346888303756714], \"x\": [-0.06316161155700684, -0.23460161685943604, 0.031981825828552246, 0.9085777997970581, 0.5869458913803101, -0.5753084421157837]}], \"name\": \"frame7\"}, {\"data\": [{\"type\": \"scatter3d\", \"line\": {\"color\": \"red\", \"width\": 5}, \"text\": [\"RHip\"], \"y\": [-1.0256133079528809, -0.9276432991027832], \"marker\": {\"size\": 2, \"color\": \"blue\"}, \"x\": [0.6038922071456909, 0.49917566776275635], \"z\": [1.0433558225631714, 1.034575343132019]}, {\"type\": \"scatter3d\", \"line\": {\"color\": \"red\", \"width\": 5}, \"text\": [\"RKnee\"], \"y\": [-1.0855598449707031, -1.0256133079528809], \"marker\": {\"size\": 2, \"color\": \"blue\"}, \"x\": [0.5040794610977173, 0.6038922071456909], \"z\": [0.6027110815048218, 1.0433558225631714]}, {\"type\": \"scatter3d\", \"line\": {\"color\": \"red\", \"width\": 5}, \"text\": [\"RAnkle\"], \"y\": [-1.2419238090515137, -1.0855598449707031], \"marker\": {\"size\": 2, \"color\": \"blue\"}, \"x\": [0.3602137565612793, 0.5040794610977173], \"z\": [0.22123801708221436, 0.6027110815048218]}, {\"type\": \"scatter3d\", \"line\": {\"color\": \"black\", \"width\": 5}, \"text\": [\"LHip\"], \"y\": [-0.8297004699707031, -0.9276432991027832], \"marker\": {\"size\": 2, \"color\": \"blue\"}, \"x\": [0.3944483995437622, 0.49917566776275635], \"z\": [1.0258082151412964, 1.034575343132019]}, {\"type\": \"scatter3d\", \"line\": {\"color\": \"black\", \"width\": 5}, \"text\": [\"LKnee\"], \"y\": [-0.7569198608398438, -0.8297004699707031], \"marker\": {\"size\": 2, \"color\": \"blue\"}, \"x\": [0.5297000408172607, 0.3944483995437622], \"z\": [0.5992010831832886, 1.0258082151412964]}, {\"type\": \"scatter3d\", \"line\": {\"color\": \"black\", \"width\": 5}, \"text\": [\"LAnkle\"], \"y\": [-0.7571802139282227, -0.7569198608398438], \"marker\": {\"size\": 2, \"color\": \"blue\"}, \"x\": [0.5931004285812378, 0.5297000408172607], \"z\": [0.16898620128631592, 0.5992010831832886]}, {\"type\": \"scatter3d\", \"line\": {\"color\": \"black\", \"width\": 5}, \"text\": [\"Spine1\"], \"y\": [-0.9334921836853027, -0.9276432991027832], \"marker\": {\"size\": 2, \"color\": \"blue\"}, \"x\": [0.48568880558013916, 0.49917566776275635], \"z\": [1.2972902059555054, 1.034575343132019]}, {\"type\": \"scatter3d\", \"line\": {\"color\": \"black\", \"width\": 5}, \"text\": [\"Neck\"], \"y\": [-0.8851900100708008, -0.9334921836853027], \"marker\": {\"size\": 2, \"color\": \"blue\"}, \"x\": [0.5305060148239136, 0.48568880558013916], \"z\": [1.540218710899353, 1.2972902059555054]}, {\"type\": \"scatter3d\", \"line\": {\"color\": \"black\", \"width\": 5}, \"text\": [\"Head\"], \"y\": [-0.8077816963195801, -0.8851900100708008], \"marker\": {\"size\": 2, \"color\": \"blue\"}, \"x\": [0.5673532485961914, 0.5305060148239136], \"z\": [1.6309164762496948, 1.540218710899353]}, {\"type\": \"scatter3d\", \"line\": {\"color\": \"black\", \"width\": 5}, \"text\": [\"Site\"], \"y\": [-0.8175382614135742, -0.8077816963195801], \"marker\": {\"size\": 2, \"color\": \"blue\"}, \"x\": [0.5695253610610962, 0.5673532485961914], \"z\": [1.738181471824646, 1.6309164762496948]}, {\"type\": \"scatter3d\", \"line\": {\"color\": \"black\", \"width\": 5}, \"text\": [\"LShoulder\"], \"y\": [-0.7954859733581543, -0.8851900100708008], \"marker\": {\"size\": 2, \"color\": \"blue\"}, \"x\": [0.3914145231246948, 0.5305060148239136], \"z\": [1.494202971458435, 1.540218710899353]}, {\"type\": \"scatter3d\", \"line\": {\"color\": \"black\", \"width\": 5}, \"text\": [\"LElbow\"], \"y\": [-0.8127646446228027, -0.7954859733581543], \"marker\": {\"size\": 2, \"color\": \"blue\"}, \"x\": [0.22039687633514404, 0.3914145231246948], \"z\": [1.2551063299179077, 1.494202971458435]}, {\"type\": \"scatter3d\", \"line\": {\"color\": \"black\", \"width\": 5}, \"text\": [\"LWrist\"], \"y\": [-0.915651798248291, -0.8127646446228027], \"marker\": {\"size\": 2, \"color\": \"blue\"}, \"x\": [0.33761441707611084, 0.22039687633514404], \"z\": [1.0557736158370972, 1.2551063299179077]}, {\"type\": \"scatter3d\", \"line\": {\"color\": \"red\", \"width\": 5}, \"text\": [\"RShoulder\"], \"y\": [-1.0204687118530273, -0.8851900100708008], \"marker\": {\"size\": 2, \"color\": \"blue\"}, \"x\": [0.6260877847671509, 0.5305060148239136], \"z\": [1.48831307888031, 1.540218710899353]}, {\"type\": \"scatter3d\", \"line\": {\"color\": \"red\", \"width\": 5}, \"text\": [\"RElbow\"], \"y\": [-1.2067451477050781, -1.0204687118530273], \"marker\": {\"size\": 2, \"color\": \"blue\"}, \"x\": [0.6173951625823975, 0.6260877847671509], \"z\": [1.2619141340255737, 1.48831307888031]}, {\"type\": \"scatter3d\", \"line\": {\"color\": \"red\", \"width\": 5}, \"text\": [\"RWrist\"], \"y\": [-1.1352310180664062, -1.2067451477050781], \"marker\": {\"size\": 2, \"color\": \"blue\"}, \"x\": [0.49038589000701904, 0.6173951625823975], \"z\": [1.0716074705123901, 1.2619141340255737]}, {\"type\": \"scatter3d\", \"line\": {\"color\": \"#1f77b4\", \"width\": 1}, \"y\": [0.02784585952758789, -0.350095272064209, -1.438666820526123, -0.2805013656616211, 1.5797510147094727, 0.998523473739624, -0.911412239074707], \"marker\": {\"size\": 1, \"color\": \"#1f77b4\"}, \"z\": [1.0595601797103882, 1.0333861112594604, 1.044106364250183, 1.0447620153427124, 1.0300780534744263, 1.0346888303756714, 1.038772463798523], \"x\": [-0.06316161155700684, -0.23460161685943604, 0.031981825828552246, 0.9085777997970581, 0.5869458913803101, -0.5753084421157837, -0.6321121454238892]}], \"name\": \"frame8\"}, {\"data\": [{\"type\": \"scatter3d\", \"line\": {\"color\": \"red\", \"width\": 5}, \"text\": [\"RHip\"], \"y\": [0.7087807655334473, 0.6878385543823242], \"marker\": {\"size\": 2, \"color\": \"blue\"}, \"x\": [1.010270357131958, 0.872507631778717], \"z\": [1.0585092306137085, 1.044796347618103]}, {\"type\": \"scatter3d\", \"line\": {\"color\": \"red\", \"width\": 5}, \"text\": [\"RKnee\"], \"y\": [0.8447737693786621, 0.7087807655334473], \"marker\": {\"size\": 2, \"color\": \"blue\"}, \"x\": [0.9894373416900635, 1.010270357131958], \"z\": [0.633600115776062, 1.0585092306137085]}, {\"type\": \"scatter3d\", \"line\": {\"color\": \"red\", \"width\": 5}, \"text\": [\"RAnkle\"], \"y\": [0.9474730491638184, 0.8447737693786621], \"marker\": {\"size\": 2, \"color\": \"blue\"}, \"x\": [1.005469560623169, 0.9894373416900635], \"z\": [0.19488179683685303, 0.633600115776062]}, {\"type\": \"scatter3d\", \"line\": {\"color\": \"black\", \"width\": 5}, \"text\": [\"LHip\"], \"y\": [0.666893482208252, 0.6878385543823242], \"marker\": {\"size\": 2, \"color\": \"blue\"}, \"x\": [0.7347415685653687, 0.872507631778717], \"z\": [1.0311039686203003, 1.044796347618103]}, {\"type\": \"scatter3d\", \"line\": {\"color\": \"black\", \"width\": 5}, \"text\": [\"LKnee\"], \"y\": [0.5821161270141602, 0.666893482208252], \"marker\": {\"size\": 2, \"color\": \"blue\"}, \"x\": [0.8235169649124146, 0.7347415685653687], \"z\": [0.5973809957504272, 1.0311039686203003]}, {\"type\": \"scatter3d\", \"line\": {\"color\": \"black\", \"width\": 5}, \"text\": [\"LAnkle\"], \"y\": [0.4147911071777344, 0.5821161270141602], \"marker\": {\"size\": 2, \"color\": \"blue\"}, \"x\": [0.8890998363494873, 0.8235169649124146], \"z\": [0.19089877605438232, 0.5973809957504272]}, {\"type\": \"scatter3d\", \"line\": {\"color\": \"black\", \"width\": 5}, \"text\": [\"Spine1\"], \"y\": [0.6743912696838379, 0.6878385543823242], \"marker\": {\"size\": 2, \"color\": \"blue\"}, \"x\": [0.8553605675697327, 0.872507631778717], \"z\": [1.2988227605819702, 1.044796347618103]}, {\"type\": \"scatter3d\", \"line\": {\"color\": \"black\", \"width\": 5}, \"text\": [\"Neck\"], \"y\": [0.7342133522033691, 0.6743912696838379], \"marker\": {\"size\": 2, \"color\": \"blue\"}, \"x\": [0.8579243421554565, 0.8553605675697327], \"z\": [1.5443295240402222, 1.2988227605819702]}, {\"type\": \"scatter3d\", \"line\": {\"color\": \"black\", \"width\": 5}, \"text\": [\"Head\"], \"y\": [0.8110671043395996, 0.7342133522033691], \"marker\": {\"size\": 2, \"color\": \"blue\"}, \"x\": [0.8573822379112244, 0.8579243421554565], \"z\": [1.6412376165390015, 1.5443295240402222]}, {\"type\": \"scatter3d\", \"line\": {\"color\": \"black\", \"width\": 5}, \"text\": [\"Site\"], \"y\": [0.7876067161560059, 0.8110671043395996], \"marker\": {\"size\": 2, \"color\": \"blue\"}, \"x\": [0.8693622350692749, 0.8573822379112244], \"z\": [1.7415114641189575, 1.6412376165390015]}, {\"type\": \"scatter3d\", \"line\": {\"color\": \"black\", \"width\": 5}, \"text\": [\"LShoulder\"], \"y\": [0.7098627090454102, 0.7342133522033691], \"marker\": {\"size\": 2, \"color\": \"blue\"}, \"x\": [0.7057967185974121, 0.8579243421554565], \"z\": [1.4941414594650269, 1.5443295240402222]}, {\"type\": \"scatter3d\", \"line\": {\"color\": \"black\", \"width\": 5}, \"text\": [\"LElbow\"], \"y\": [0.6038937568664551, 0.7098627090454102], \"marker\": {\"size\": 2, \"color\": \"blue\"}, \"x\": [0.5902785062789917, 0.7057967185974121], \"z\": [1.2550934553146362, 1.4941414594650269]}, {\"type\": \"scatter3d\", \"line\": {\"color\": \"black\", \"width\": 5}, \"text\": [\"LWrist\"], \"y\": [0.5828056335449219, 0.6038937568664551], \"marker\": {\"size\": 2, \"color\": \"blue\"}, \"x\": [0.767816424369812, 0.5902785062789917], \"z\": [1.0640891790390015, 1.2550934553146362]}, {\"type\": \"scatter3d\", \"line\": {\"color\": \"red\", \"width\": 5}, \"text\": [\"RShoulder\"], \"y\": [0.7027525901794434, 0.7342133522033691], \"marker\": {\"size\": 2, \"color\": \"blue\"}, \"x\": [1.0100212097167969, 0.8579243421554565], \"z\": [1.4895027875900269, 1.5443295240402222]}, {\"type\": \"scatter3d\", \"line\": {\"color\": \"red\", \"width\": 5}, \"text\": [\"RElbow\"], \"y\": [0.5570344924926758, 0.7027525901794434], \"marker\": {\"size\": 2, \"color\": \"blue\"}, \"x\": [1.1242473125457764, 1.0100212097167969], \"z\": [1.2640174627304077, 1.4895027875900269]}, {\"type\": \"scatter3d\", \"line\": {\"color\": \"red\", \"width\": 5}, \"text\": [\"RWrist\"], \"y\": [0.5415410995483398, 0.5570344924926758], \"marker\": {\"size\": 2, \"color\": \"blue\"}, \"x\": [0.9678266644477844, 1.1242473125457764], \"z\": [1.0452088117599487, 1.2640174627304077]}, {\"type\": \"scatter3d\", \"line\": {\"color\": \"#1f77b4\", \"width\": 1}, \"y\": [0.02784585952758789, -0.350095272064209, -1.438666820526123, -0.2805013656616211, 1.5797510147094727, 0.998523473739624, -0.911412239074707, -0.9276432991027832], \"marker\": {\"size\": 1, \"color\": \"#1f77b4\"}, \"z\": [1.0595601797103882, 1.0333861112594604, 1.044106364250183, 1.0447620153427124, 1.0300780534744263, 1.0346888303756714, 1.038772463798523, 1.034575343132019], \"x\": [-0.06316161155700684, -0.23460161685943604, 0.031981825828552246, 0.9085777997970581, 0.5869458913803101, -0.5753084421157837, -0.6321121454238892, 0.49917566776275635]}], \"name\": \"frame9\"}, {\"data\": [{\"type\": \"scatter3d\", \"line\": {\"color\": \"red\", \"width\": 5}, \"text\": [\"RHip\"], \"y\": [1.9381515979766846, 1.8070440292358398], \"marker\": {\"size\": 2, \"color\": \"blue\"}, \"x\": [-0.06448519229888916, -0.012309551239013672], \"z\": [1.03886878490448, 1.0287336111068726]}, {\"type\": \"scatter3d\", \"line\": {\"color\": \"red\", \"width\": 5}, \"text\": [\"RKnee\"], \"y\": [1.9278430938720703, 1.9381515979766846], \"marker\": {\"size\": 2, \"color\": \"blue\"}, \"x\": [0.006031632423400879, -0.06448519229888916], \"z\": [0.5958858728408813, 1.03886878490448]}, {\"type\": \"scatter3d\", \"line\": {\"color\": \"red\", \"width\": 5}, \"text\": [\"RAnkle\"], \"y\": [1.9465227127075195, 1.9278430938720703], \"marker\": {\"size\": 2, \"color\": \"blue\"}, \"x\": [0.11533832550048828, 0.006031632423400879], \"z\": [0.16421854496002197, 0.5958858728408813]}, {\"type\": \"scatter3d\", \"line\": {\"color\": \"black\", \"width\": 5}, \"text\": [\"LHip\"], \"y\": [1.6760165691375732, 1.8070440292358398], \"marker\": {\"size\": 2, \"color\": \"blue\"}, \"x\": [0.039903879165649414, -0.012309551239013672], \"z\": [1.0186253786087036, 1.0287336111068726]}, {\"type\": \"scatter3d\", \"line\": {\"color\": \"black\", \"width\": 5}, \"text\": [\"LKnee\"], \"y\": [1.6364634037017822, 1.6760165691375732], \"marker\": {\"size\": 2, \"color\": \"blue\"}, \"x\": [-0.134269118309021, 0.039903879165649414], \"z\": [0.6056350469589233, 1.0186253786087036]}, {\"type\": \"scatter3d\", \"line\": {\"color\": \"black\", \"width\": 5}, \"text\": [\"LAnkle\"], \"y\": [1.6563212871551514, 1.6364634037017822], \"marker\": {\"size\": 2, \"color\": \"blue\"}, \"x\": [-0.14001131057739258, -0.134269118309021], \"z\": [0.1710127592086792, 0.6056350469589233]}, {\"type\": \"scatter3d\", \"line\": {\"color\": \"black\", \"width\": 5}, \"text\": [\"Spine1\"], \"y\": [1.8200349807739258, 1.8070440292358398], \"marker\": {\"size\": 2, \"color\": \"blue\"}, \"x\": [-0.01276099681854248, -0.012309551239013672], \"z\": [1.2824569940567017, 1.0287336111068726]}, {\"type\": \"scatter3d\", \"line\": {\"color\": \"black\", \"width\": 5}, \"text\": [\"Neck\"], \"y\": [1.7977447509765625, 1.8200349807739258], \"marker\": {\"size\": 2, \"color\": \"blue\"}, \"x\": [-0.0905236005783081, -0.01276099681854248], \"z\": [1.5282338857650757, 1.2824569940567017]}, {\"type\": \"scatter3d\", \"line\": {\"color\": \"black\", \"width\": 5}, \"text\": [\"Head\"], \"y\": [1.742687463760376, 1.7977447509765625], \"marker\": {\"size\": 2, \"color\": \"blue\"}, \"x\": [-0.17683565616607666, -0.0905236005783081], \"z\": [1.604831337928772, 1.5282338857650757]}, {\"type\": \"scatter3d\", \"line\": {\"color\": \"black\", \"width\": 5}, \"text\": [\"Site\"], \"y\": [1.7531771659851074, 1.742687463760376], \"marker\": {\"size\": 2, \"color\": \"blue\"}, \"x\": [-0.16092908382415771, -0.17683565616607666], \"z\": [1.7126413583755493, 1.604831337928772]}, {\"type\": \"scatter3d\", \"line\": {\"color\": \"black\", \"width\": 5}, \"text\": [\"LShoulder\"], \"y\": [1.6685373783111572, 1.7977447509765625], \"marker\": {\"size\": 2, \"color\": \"blue\"}, \"x\": [0.004624605178833008, -0.0905236005783081], \"z\": [1.483458399772644, 1.5282338857650757]}, {\"type\": \"scatter3d\", \"line\": {\"color\": \"black\", \"width\": 5}, \"text\": [\"LElbow\"], \"y\": [1.6767232418060303, 1.6685373783111572], \"marker\": {\"size\": 2, \"color\": \"blue\"}, \"x\": [0.1863694190979004, 0.004624605178833008], \"z\": [1.2531808614730835, 1.483458399772644]}, {\"type\": \"scatter3d\", \"line\": {\"color\": \"black\", \"width\": 5}, \"text\": [\"LWrist\"], \"y\": [1.8102245330810547, 1.6767232418060303], \"marker\": {\"size\": 2, \"color\": \"blue\"}, \"x\": [0.16305458545684814, 0.1863694190979004], \"z\": [1.056310772895813, 1.2531808614730835]}, {\"type\": \"scatter3d\", \"line\": {\"color\": \"red\", \"width\": 5}, \"text\": [\"RShoulder\"], \"y\": [1.9523911476135254, 1.7977447509765625], \"marker\": {\"size\": 2, \"color\": \"blue\"}, \"x\": [-0.12564551830291748, -0.0905236005783081], \"z\": [1.4707030057907104, 1.5282338857650757]}, {\"type\": \"scatter3d\", \"line\": {\"color\": \"red\", \"width\": 5}, \"text\": [\"RElbow\"], \"y\": [2.113344669342041, 1.9523911476135254], \"marker\": {\"size\": 2, \"color\": \"blue\"}, \"x\": [-0.033855319023132324, -0.12564551830291748], \"z\": [1.2410815954208374, 1.4707030057907104]}, {\"type\": \"scatter3d\", \"line\": {\"color\": \"red\", \"width\": 5}, \"text\": [\"RWrist\"], \"y\": [1.99277663230896, 2.113344669342041], \"marker\": {\"size\": 2, \"color\": \"blue\"}, \"x\": [0.0659562349319458, -0.033855319023132324], \"z\": [1.047597050666809, 1.2410815954208374]}, {\"type\": \"scatter3d\", \"line\": {\"color\": \"#1f77b4\", \"width\": 1}, \"y\": [0.02784585952758789, -0.350095272064209, -1.438666820526123, -0.2805013656616211, 1.5797510147094727, 0.998523473739624, -0.911412239074707, -0.9276432991027832, 0.6878385543823242], \"marker\": {\"size\": 1, \"color\": \"#1f77b4\"}, \"z\": [1.0595601797103882, 1.0333861112594604, 1.044106364250183, 1.0447620153427124, 1.0300780534744263, 1.0346888303756714, 1.038772463798523, 1.034575343132019, 1.044796347618103], \"x\": [-0.06316161155700684, -0.23460161685943604, 0.031981825828552246, 0.9085777997970581, 0.5869458913803101, -0.5753084421157837, -0.6321121454238892, 0.49917566776275635, 0.872507631778717]}], \"name\": \"frame10\"}, {\"data\": [{\"type\": \"scatter3d\", \"line\": {\"color\": \"red\", \"width\": 5}, \"text\": [\"RHip\"], \"y\": [0.42325258255004883, 0.4292144775390625], \"marker\": {\"size\": 2, \"color\": \"blue\"}, \"x\": [-1.0065690279006958, -0.8624786138534546], \"z\": [1.0536612272262573, 1.0376185178756714]}, {\"type\": \"scatter3d\", \"line\": {\"color\": \"red\", \"width\": 5}, \"text\": [\"RKnee\"], \"y\": [0.26361656188964844, 0.42325258255004883], \"marker\": {\"size\": 2, \"color\": \"blue\"}, \"x\": [-0.9887560606002808, -1.0065690279006958], \"z\": [0.6276563405990601, 1.0536612272262573]}, {\"type\": \"scatter3d\", \"line\": {\"color\": \"red\", \"width\": 5}, \"text\": [\"RAnkle\"], \"y\": [0.34006261825561523, 0.26361656188964844], \"marker\": {\"size\": 2, \"color\": \"blue\"}, \"x\": [-1.0038269758224487, -0.9887560606002808], \"z\": [0.19816386699676514, 0.6276563405990601]}, {\"type\": \"scatter3d\", \"line\": {\"color\": \"black\", \"width\": 5}, \"text\": [\"LHip\"], \"y\": [0.4352102279663086, 0.4292144775390625], \"marker\": {\"size\": 2, \"color\": \"blue\"}, \"x\": [-0.7183722257614136, -0.8624786138534546], \"z\": [1.0215967893600464, 1.0376185178756714]}, {\"type\": \"scatter3d\", \"line\": {\"color\": \"black\", \"width\": 5}, \"text\": [\"LKnee\"], \"y\": [0.4554915428161621, 0.4352102279663086], \"marker\": {\"size\": 2, \"color\": \"blue\"}, \"x\": [-0.8015393018722534, -0.7183722257614136], \"z\": [0.5752800703048706, 1.0215967893600464]}, {\"type\": \"scatter3d\", \"line\": {\"color\": \"black\", \"width\": 5}, \"text\": [\"LAnkle\"], \"y\": [0.5567374229431152, 0.4554915428161621], \"marker\": {\"size\": 2, \"color\": \"blue\"}, \"x\": [-0.8671101331710815, -0.8015393018722534], \"z\": [0.15052878856658936, 0.5752800703048706]}, {\"type\": \"scatter3d\", \"line\": {\"color\": \"black\", \"width\": 5}, \"text\": [\"Spine1\"], \"y\": [0.4511079788208008, 0.4292144775390625], \"marker\": {\"size\": 2, \"color\": \"blue\"}, \"x\": [-0.8413807153701782, -0.8624786138534546], \"z\": [1.296897292137146, 1.0376185178756714]}, {\"type\": \"scatter3d\", \"line\": {\"color\": \"black\", \"width\": 5}, \"text\": [\"Neck\"], \"y\": [0.38266754150390625, 0.4511079788208008], \"marker\": {\"size\": 2, \"color\": \"blue\"}, \"x\": [-0.8374253511428833, -0.8413807153701782], \"z\": [1.5383976697921753, 1.296897292137146]}, {\"type\": \"scatter3d\", \"line\": {\"color\": \"black\", \"width\": 5}, \"text\": [\"Head\"], \"y\": [0.2915530204772949, 0.38266754150390625], \"marker\": {\"size\": 2, \"color\": \"blue\"}, \"x\": [-0.8349677324295044, -0.8374253511428833], \"z\": [1.618325114250183, 1.5383976697921753]}, {\"type\": \"scatter3d\", \"line\": {\"color\": \"black\", \"width\": 5}, \"text\": [\"Site\"], \"y\": [0.2944960594177246, 0.2915530204772949], \"marker\": {\"size\": 2, \"color\": \"blue\"}, \"x\": [-0.8423494100570679, -0.8349677324295044], \"z\": [1.7343801259994507, 1.618325114250183]}, {\"type\": \"scatter3d\", \"line\": {\"color\": \"black\", \"width\": 5}, \"text\": [\"LShoulder\"], \"y\": [0.4022560119628906, 0.38266754150390625], \"marker\": {\"size\": 2, \"color\": \"blue\"}, \"x\": [-0.6703838109970093, -0.8374253511428833], \"z\": [1.4931501150131226, 1.5383976697921753]}, {\"type\": \"scatter3d\", \"line\": {\"color\": \"black\", \"width\": 5}, \"text\": [\"LElbow\"], \"y\": [0.5301265716552734, 0.4022560119628906], \"marker\": {\"size\": 2, \"color\": \"blue\"}, \"x\": [-0.5631018877029419, -0.6703838109970093], \"z\": [1.2485312223434448, 1.4931501150131226]}, {\"type\": \"scatter3d\", \"line\": {\"color\": \"black\", \"width\": 5}, \"text\": [\"LWrist\"], \"y\": [0.5815234184265137, 0.5301265716552734], \"marker\": {\"size\": 2, \"color\": \"blue\"}, \"x\": [-0.7092956304550171, -0.5631018877029419], \"z\": [1.0632466077804565, 1.2485312223434448]}, {\"type\": \"scatter3d\", \"line\": {\"color\": \"red\", \"width\": 5}, \"text\": [\"RShoulder\"], \"y\": [0.43006086349487305, 0.38266754150390625], \"marker\": {\"size\": 2, \"color\": \"blue\"}, \"x\": [-0.9965595006942749, -0.8374253511428833], \"z\": [1.4909614324569702, 1.5383976697921753]}, {\"type\": \"scatter3d\", \"line\": {\"color\": \"red\", \"width\": 5}, \"text\": [\"RElbow\"], \"y\": [0.5935187339782715, 0.43006086349487305], \"marker\": {\"size\": 2, \"color\": \"blue\"}, \"x\": [-1.0677169561386108, -0.9965595006942749], \"z\": [1.264203429222107, 1.4909614324569702]}, {\"type\": \"scatter3d\", \"line\": {\"color\": \"red\", \"width\": 5}, \"text\": [\"RWrist\"], \"y\": [0.6238288879394531, 0.5935187339782715], \"marker\": {\"size\": 2, \"color\": \"blue\"}, \"x\": [-0.9319766759872437, -1.0677169561386108], \"z\": [1.065700888633728, 1.264203429222107]}, {\"type\": \"scatter3d\", \"line\": {\"color\": \"#1f77b4\", \"width\": 1}, \"y\": [0.02784585952758789, -0.350095272064209, -1.438666820526123, -0.2805013656616211, 1.5797510147094727, 0.998523473739624, -0.911412239074707, -0.9276432991027832, 0.6878385543823242, 1.8070440292358398], \"marker\": {\"size\": 1, \"color\": \"#1f77b4\"}, \"z\": [1.0595601797103882, 1.0333861112594604, 1.044106364250183, 1.0447620153427124, 1.0300780534744263, 1.0346888303756714, 1.038772463798523, 1.034575343132019, 1.044796347618103, 1.0287336111068726], \"x\": [-0.06316161155700684, -0.23460161685943604, 0.031981825828552246, 0.9085777997970581, 0.5869458913803101, -0.5753084421157837, -0.6321121454238892, 0.49917566776275635, 0.872507631778717, -0.012309551239013672]}], \"name\": \"frame11\"}, {\"data\": [{\"type\": \"scatter3d\", \"line\": {\"color\": \"red\", \"width\": 5}, \"text\": [\"RHip\"], \"y\": [-1.3905768394470215, -1.257382869720459], \"marker\": {\"size\": 2, \"color\": \"blue\"}, \"x\": [-0.41667401790618896, -0.35734355449676514], \"z\": [1.0609601736068726, 1.0517534017562866]}, {\"type\": \"scatter3d\", \"line\": {\"color\": \"red\", \"width\": 5}, \"text\": [\"RKnee\"], \"y\": [-1.3989925384521484, -1.3905768394470215], \"marker\": {\"size\": 2, \"color\": \"blue\"}, \"x\": [-0.3930553197860718, -0.41667401790618896], \"z\": [0.6123517751693726, 1.0609601736068726]}, {\"type\": \"scatter3d\", \"line\": {\"color\": \"red\", \"width\": 5}, \"text\": [\"RAnkle\"], \"y\": [-1.3240108489990234, -1.3989925384521484], \"marker\": {\"size\": 2, \"color\": \"blue\"}, \"x\": [-0.5028773546218872, -0.3930553197860718], \"z\": [0.1815704107284546, 0.6123517751693726]}, {\"type\": \"scatter3d\", \"line\": {\"color\": \"black\", \"width\": 5}, \"text\": [\"LHip\"], \"y\": [-1.1241583824157715, -1.257382869720459], \"marker\": {\"size\": 2, \"color\": \"blue\"}, \"x\": [-0.2979956865310669, -0.35734355449676514], \"z\": [1.0425719022750854, 1.0517534017562866]}, {\"type\": \"scatter3d\", \"line\": {\"color\": \"black\", \"width\": 5}, \"text\": [\"LKnee\"], \"y\": [-1.1978249549865723, -1.1241583824157715], \"marker\": {\"size\": 2, \"color\": \"blue\"}, \"x\": [-0.1705838441848755, -0.2979956865310669], \"z\": [0.617881178855896, 1.0425719022750854]}, {\"type\": \"scatter3d\", \"line\": {\"color\": \"black\", \"width\": 5}, \"text\": [\"LAnkle\"], \"y\": [-1.1516823768615723, -1.1978249549865723], \"marker\": {\"size\": 2, \"color\": \"blue\"}, \"x\": [-0.33583247661590576, -0.1705838441848755], \"z\": [0.21355903148651123, 0.617881178855896]}, {\"type\": \"scatter3d\", \"line\": {\"color\": \"black\", \"width\": 5}, \"text\": [\"Spine1\"], \"y\": [-1.250185489654541, -1.257382869720459], \"marker\": {\"size\": 2, \"color\": \"blue\"}, \"x\": [-0.37361466884613037, -0.35734355449676514], \"z\": [1.3064826726913452, 1.0517534017562866]}, {\"type\": \"scatter3d\", \"line\": {\"color\": \"black\", \"width\": 5}, \"text\": [\"Neck\"], \"y\": [-1.2992472648620605, -1.250185489654541], \"marker\": {\"size\": 2, \"color\": \"blue\"}, \"x\": [-0.3107057809829712, -0.37361466884613037], \"z\": [1.5474032163619995, 1.3064826726913452]}, {\"type\": \"scatter3d\", \"line\": {\"color\": \"black\", \"width\": 5}, \"text\": [\"Head\"], \"y\": [-1.3209376335144043, -1.2992472648620605], \"marker\": {\"size\": 2, \"color\": \"blue\"}, \"x\": [-0.21568119525909424, -0.3107057809829712], \"z\": [1.610564112663269, 1.5474032163619995]}, {\"type\": \"scatter3d\", \"line\": {\"color\": \"black\", \"width\": 5}, \"text\": [\"Site\"], \"y\": [-1.3317852020263672, -1.3209376335144043], \"marker\": {\"size\": 2, \"color\": \"blue\"}, \"x\": [-0.22142517566680908, -0.21568119525909424], \"z\": [1.7241696119308472, 1.610564112663269]}, {\"type\": \"scatter3d\", \"line\": {\"color\": \"black\", \"width\": 5}, \"text\": [\"LShoulder\"], \"y\": [-1.149275302886963, -1.2992472648620605], \"marker\": {\"size\": 2, \"color\": \"blue\"}, \"x\": [-0.265832781791687, -0.3107057809829712], \"z\": [1.517276644706726, 1.5474032163619995]}, {\"type\": \"scatter3d\", \"line\": {\"color\": \"black\", \"width\": 5}, \"text\": [\"LElbow\"], \"y\": [-0.9940857887268066, -1.149275302886963], \"marker\": {\"size\": 2, \"color\": \"blue\"}, \"x\": [-0.3540877103805542, -0.265832781791687], \"z\": [1.2777379751205444, 1.517276644706726]}, {\"type\": \"scatter3d\", \"line\": {\"color\": \"black\", \"width\": 5}, \"text\": [\"LWrist\"], \"y\": [-1.0395779609680176, -0.9940857887268066], \"marker\": {\"size\": 2, \"color\": \"blue\"}, \"x\": [-0.41540729999542236, -0.3540877103805542], \"z\": [1.0701230764389038, 1.2777379751205444]}, {\"type\": \"scatter3d\", \"line\": {\"color\": \"red\", \"width\": 5}, \"text\": [\"RShoulder\"], \"y\": [-1.4109082221984863, -1.2992472648620605], \"marker\": {\"size\": 2, \"color\": \"blue\"}, \"x\": [-0.40923774242401123, -0.3107057809829712], \"z\": [1.4965466260910034, 1.5474032163619995]}, {\"type\": \"scatter3d\", \"line\": {\"color\": \"red\", \"width\": 5}, \"text\": [\"RElbow\"], \"y\": [-1.4141879081726074, -1.4109082221984863], \"marker\": {\"size\": 2, \"color\": \"blue\"}, \"x\": [-0.5635913610458374, -0.40923774242401123], \"z\": [1.2483638525009155, 1.4965466260910034]}, {\"type\": \"scatter3d\", \"line\": {\"color\": \"red\", \"width\": 5}, \"text\": [\"RWrist\"], \"y\": [-1.3143095970153809, -1.4141879081726074], \"marker\": {\"size\": 2, \"color\": \"blue\"}, \"x\": [-0.5386747121810913, -0.5635913610458374], \"z\": [1.0495952367782593, 1.2483638525009155]}, {\"type\": \"scatter3d\", \"line\": {\"color\": \"#1f77b4\", \"width\": 1}, \"y\": [0.02784585952758789, -0.350095272064209, -1.438666820526123, -0.2805013656616211, 1.5797510147094727, 0.998523473739624, -0.911412239074707, -0.9276432991027832, 0.6878385543823242, 1.8070440292358398, 0.4292144775390625], \"marker\": {\"size\": 1, \"color\": \"#1f77b4\"}, \"z\": [1.0595601797103882, 1.0333861112594604, 1.044106364250183, 1.0447620153427124, 1.0300780534744263, 1.0346888303756714, 1.038772463798523, 1.034575343132019, 1.044796347618103, 1.0287336111068726, 1.0376185178756714], \"x\": [-0.06316161155700684, -0.23460161685943604, 0.031981825828552246, 0.9085777997970581, 0.5869458913803101, -0.5753084421157837, -0.6321121454238892, 0.49917566776275635, 0.872507631778717, -0.012309551239013672, -0.8624786138534546]}], \"name\": \"frame12\"}, {\"data\": [{\"type\": \"scatter3d\", \"line\": {\"color\": \"red\", \"width\": 5}, \"text\": [\"RHip\"], \"y\": [-0.7586779594421387, -0.6638216972351074], \"marker\": {\"size\": 2, \"color\": \"blue\"}, \"x\": [0.7925277948379517, 0.6926766633987427], \"z\": [1.060301661491394, 1.0514940023422241]}, {\"type\": \"scatter3d\", \"line\": {\"color\": \"red\", \"width\": 5}, \"text\": [\"RKnee\"], \"y\": [-0.7199044227600098, -0.7586779594421387], \"marker\": {\"size\": 2, \"color\": \"blue\"}, \"x\": [0.8816730976104736, 0.7925277948379517], \"z\": [0.6248129606246948, 1.060301661491394]}, {\"type\": \"scatter3d\", \"line\": {\"color\": \"red\", \"width\": 5}, \"text\": [\"RAnkle\"], \"y\": [-0.9872899055480957, -0.7199044227600098], \"marker\": {\"size\": 2, \"color\": \"blue\"}, \"x\": [0.644851565361023, 0.8816730976104736], \"z\": [0.3486875295639038, 0.6248129606246948]}, {\"type\": \"scatter3d\", \"line\": {\"color\": \"black\", \"width\": 5}, \"text\": [\"LHip\"], \"y\": [-0.568962574005127, -0.6638216972351074], \"marker\": {\"size\": 2, \"color\": \"blue\"}, \"x\": [0.5928283929824829, 0.6926766633987427], \"z\": [1.0427058935165405, 1.0514940023422241]}, {\"type\": \"scatter3d\", \"line\": {\"color\": \"black\", \"width\": 5}, \"text\": [\"LKnee\"], \"y\": [-0.5845494270324707, -0.568962574005127], \"marker\": {\"size\": 2, \"color\": \"blue\"}, \"x\": [0.6767946481704712, 0.5928283929824829], \"z\": [0.6001423597335815, 1.0427058935165405]}, {\"type\": \"scatter3d\", \"line\": {\"color\": \"black\", \"width\": 5}, \"text\": [\"LAnkle\"], \"y\": [-0.666374683380127, -0.5845494270324707], \"marker\": {\"size\": 2, \"color\": \"blue\"}, \"x\": [0.6838525533676147, 0.6767946481704712], \"z\": [0.1584857702255249, 0.6001423597335815]}, {\"type\": \"scatter3d\", \"line\": {\"color\": \"black\", \"width\": 5}, \"text\": [\"Spine1\"], \"y\": [-0.6794662475585938, -0.6638216972351074], \"marker\": {\"size\": 2, \"color\": \"blue\"}, \"x\": [0.6753599643707275, 0.6926766633987427], \"z\": [1.3018306493759155, 1.0514940023422241]}, {\"type\": \"scatter3d\", \"line\": {\"color\": \"black\", \"width\": 5}, \"text\": [\"Neck\"], \"y\": [-0.643592357635498, -0.6794662475585938], \"marker\": {\"size\": 2, \"color\": \"blue\"}, \"x\": [0.6780914068222046, 0.6753599643707275], \"z\": [1.552441954612732, 1.3018306493759155]}, {\"type\": \"scatter3d\", \"line\": {\"color\": \"black\", \"width\": 5}, \"text\": [\"Head\"], \"y\": [-0.5820231437683105, -0.643592357635498], \"marker\": {\"size\": 2, \"color\": \"blue\"}, \"x\": [0.6865652799606323, 0.6780914068222046], \"z\": [1.6603444814682007, 1.552441954612732]}, {\"type\": \"scatter3d\", \"line\": {\"color\": \"black\", \"width\": 5}, \"text\": [\"Site\"], \"y\": [-0.6084170341491699, -0.5820231437683105], \"marker\": {\"size\": 2, \"color\": \"blue\"}, \"x\": [0.6561093330383301, 0.6865652799606323], \"z\": [1.7530893087387085, 1.6603444814682007]}, {\"type\": \"scatter3d\", \"line\": {\"color\": \"black\", \"width\": 5}, \"text\": [\"LShoulder\"], \"y\": [-0.5599503517150879, -0.643592357635498], \"marker\": {\"size\": 2, \"color\": \"blue\"}, \"x\": [0.5591076612472534, 0.6780914068222046], \"z\": [1.4828146696090698, 1.552441954612732]}, {\"type\": \"scatter3d\", \"line\": {\"color\": \"black\", \"width\": 5}, \"text\": [\"LElbow\"], \"y\": [-0.5018930435180664, -0.5599503517150879], \"marker\": {\"size\": 2, \"color\": \"blue\"}, \"x\": [0.45921945571899414, 0.5591076612472534], \"z\": [1.2120078802108765, 1.4828146696090698]}, {\"type\": \"scatter3d\", \"line\": {\"color\": \"black\", \"width\": 5}, \"text\": [\"LWrist\"], \"y\": [-0.44072961807250977, -0.5018930435180664], \"marker\": {\"size\": 2, \"color\": \"blue\"}, \"x\": [0.6075958013534546, 0.45921945571899414], \"z\": [1.0195478200912476, 1.2120078802108765]}, {\"type\": \"scatter3d\", \"line\": {\"color\": \"red\", \"width\": 5}, \"text\": [\"RShoulder\"], \"y\": [-0.7521424293518066, -0.643592357635498], \"marker\": {\"size\": 2, \"color\": \"blue\"}, \"x\": [0.7911732196807861, 0.6780914068222046], \"z\": [1.5009855031967163, 1.552441954612732]}, {\"type\": \"scatter3d\", \"line\": {\"color\": \"red\", \"width\": 5}, \"text\": [\"RElbow\"], \"y\": [-0.8441839218139648, -0.7521424293518066], \"marker\": {\"size\": 2, \"color\": \"blue\"}, \"x\": [0.910973072052002, 0.7911732196807861], \"z\": [1.2505263090133667, 1.5009855031967163]}, {\"type\": \"scatter3d\", \"line\": {\"color\": \"red\", \"width\": 5}, \"text\": [\"RWrist\"], \"y\": [-0.7161030769348145, -0.8441839218139648], \"marker\": {\"size\": 2, \"color\": \"blue\"}, \"x\": [0.9385358095169067, 0.910973072052002], \"z\": [1.0498617887496948, 1.2505263090133667]}, {\"type\": \"scatter3d\", \"line\": {\"color\": \"#1f77b4\", \"width\": 1}, \"y\": [0.02784585952758789, -0.350095272064209, -1.438666820526123, -0.2805013656616211, 1.5797510147094727, 0.998523473739624, -0.911412239074707, -0.9276432991027832, 0.6878385543823242, 1.8070440292358398, 0.4292144775390625, -1.257382869720459], \"marker\": {\"size\": 1, \"color\": \"#1f77b4\"}, \"z\": [1.0595601797103882, 1.0333861112594604, 1.044106364250183, 1.0447620153427124, 1.0300780534744263, 1.0346888303756714, 1.038772463798523, 1.034575343132019, 1.044796347618103, 1.0287336111068726, 1.0376185178756714, 1.0517534017562866], \"x\": [-0.06316161155700684, -0.23460161685943604, 0.031981825828552246, 0.9085777997970581, 0.5869458913803101, -0.5753084421157837, -0.6321121454238892, 0.49917566776275635, 0.872507631778717, -0.012309551239013672, -0.8624786138534546, -0.35734355449676514]}], \"name\": \"frame13\"}, {\"data\": [{\"type\": \"scatter3d\", \"line\": {\"color\": \"red\", \"width\": 5}, \"text\": [\"RHip\"], \"y\": [0.8877520561218262, 0.8749704360961914], \"marker\": {\"size\": 2, \"color\": \"blue\"}, \"x\": [1.1957817077636719, 1.0585377216339111], \"z\": [1.0726560354232788, 1.0505551099777222]}, {\"type\": \"scatter3d\", \"line\": {\"color\": \"red\", \"width\": 5}, \"text\": [\"RKnee\"], \"y\": [0.986687183380127, 0.8877520561218262], \"marker\": {\"size\": 2, \"color\": \"blue\"}, \"x\": [1.156799077987671, 1.1957817077636719], \"z\": [0.6354464292526245, 1.0726560354232788]}, {\"type\": \"scatter3d\", \"line\": {\"color\": \"red\", \"width\": 5}, \"text\": [\"RAnkle\"], \"y\": [0.9552512168884277, 0.986687183380127], \"marker\": {\"size\": 2, \"color\": \"blue\"}, \"x\": [1.1747863292694092, 1.156799077987671], \"z\": [0.1867431402206421, 0.6354464292526245]}, {\"type\": \"scatter3d\", \"line\": {\"color\": \"black\", \"width\": 5}, \"text\": [\"LHip\"], \"y\": [0.8621821403503418, 0.8749704360961914], \"marker\": {\"size\": 2, \"color\": \"blue\"}, \"x\": [0.9212886691093445, 1.0585377216339111], \"z\": [1.0284661054611206, 1.0505551099777222]}, {\"type\": \"scatter3d\", \"line\": {\"color\": \"black\", \"width\": 5}, \"text\": [\"LKnee\"], \"y\": [0.8306279182434082, 0.8621821403503418], \"marker\": {\"size\": 2, \"color\": \"blue\"}, \"x\": [0.9537708163261414, 0.9212886691093445], \"z\": [0.5844434499740601, 1.0284661054611206]}, {\"type\": \"scatter3d\", \"line\": {\"color\": \"black\", \"width\": 5}, \"text\": [\"LAnkle\"], \"y\": [0.5091090202331543, 0.8306279182434082], \"marker\": {\"size\": 2, \"color\": \"blue\"}, \"x\": [0.9794226884841919, 0.9537708163261414], \"z\": [0.2659114599227905, 0.5844434499740601]}, {\"type\": \"scatter3d\", \"line\": {\"color\": \"black\", \"width\": 5}, \"text\": [\"Spine1\"], \"y\": [0.8404688835144043, 0.8749704360961914], \"marker\": {\"size\": 2, \"color\": \"blue\"}, \"x\": [1.049381971359253, 1.0585377216339111], \"z\": [1.2953914403915405, 1.0505551099777222]}, {\"type\": \"scatter3d\", \"line\": {\"color\": \"black\", \"width\": 5}, \"text\": [\"Neck\"], \"y\": [0.8649020195007324, 0.8404688835144043], \"marker\": {\"size\": 2, \"color\": \"blue\"}, \"x\": [1.0720202922821045, 1.049381971359253], \"z\": [1.5450152158737183, 1.2953914403915405]}, {\"type\": \"scatter3d\", \"line\": {\"color\": \"black\", \"width\": 5}, \"text\": [\"Head\"], \"y\": [0.9221153259277344, 0.8649020195007324], \"marker\": {\"size\": 2, \"color\": \"blue\"}, \"x\": [1.0914032459259033, 1.0720202922821045], \"z\": [1.658227562904358, 1.5450152158737183]}, {\"type\": \"scatter3d\", \"line\": {\"color\": \"black\", \"width\": 5}, \"text\": [\"Site\"], \"y\": [0.8612570762634277, 0.9221153259277344], \"marker\": {\"size\": 2, \"color\": \"blue\"}, \"x\": [1.0875720977783203, 1.0914032459259033], \"z\": [1.7435795068740845, 1.658227562904358]}, {\"type\": \"scatter3d\", \"line\": {\"color\": \"black\", \"width\": 5}, \"text\": [\"LShoulder\"], \"y\": [0.8788571357727051, 0.8649020195007324], \"marker\": {\"size\": 2, \"color\": \"blue\"}, \"x\": [0.9198511242866516, 1.0720202922821045], \"z\": [1.48517644405365, 1.5450152158737183]}, {\"type\": \"scatter3d\", \"line\": {\"color\": \"black\", \"width\": 5}, \"text\": [\"LElbow\"], \"y\": [0.9150805473327637, 0.8788571357727051], \"marker\": {\"size\": 2, \"color\": \"blue\"}, \"x\": [0.7909196615219116, 0.9198511242866516], \"z\": [1.2363008260726929, 1.48517644405365]}, {\"type\": \"scatter3d\", \"line\": {\"color\": \"black\", \"width\": 5}, \"text\": [\"LWrist\"], \"y\": [1.018928050994873, 0.9150805473327637], \"marker\": {\"size\": 2, \"color\": \"blue\"}, \"x\": [0.8801031708717346, 0.7909196615219116], \"z\": [1.028276801109314, 1.2363008260726929]}, {\"type\": \"scatter3d\", \"line\": {\"color\": \"red\", \"width\": 5}, \"text\": [\"RShoulder\"], \"y\": [0.835930347442627, 0.8649020195007324], \"marker\": {\"size\": 2, \"color\": \"blue\"}, \"x\": [1.2179679870605469, 1.0720202922821045], \"z\": [1.474427342414856, 1.5450152158737183]}, {\"type\": \"scatter3d\", \"line\": {\"color\": \"red\", \"width\": 5}, \"text\": [\"RElbow\"], \"y\": [0.7973928451538086, 0.835930347442627], \"marker\": {\"size\": 2, \"color\": \"blue\"}, \"x\": [1.3366395235061646, 1.2179679870605469], \"z\": [1.2189644575119019, 1.474427342414856]}, {\"type\": \"scatter3d\", \"line\": {\"color\": \"red\", \"width\": 5}, \"text\": [\"RWrist\"], \"y\": [0.9176154136657715, 0.7973928451538086], \"marker\": {\"size\": 2, \"color\": \"blue\"}, \"x\": [1.276009202003479, 1.3366395235061646], \"z\": [1.005212664604187, 1.2189644575119019]}, {\"type\": \"scatter3d\", \"line\": {\"color\": \"#1f77b4\", \"width\": 1}, \"y\": [0.02784585952758789, -0.350095272064209, -1.438666820526123, -0.2805013656616211, 1.5797510147094727, 0.998523473739624, -0.911412239074707, -0.9276432991027832, 0.6878385543823242, 1.8070440292358398, 0.4292144775390625, -1.257382869720459, -0.6638216972351074], \"marker\": {\"size\": 1, \"color\": \"#1f77b4\"}, \"z\": [1.0595601797103882, 1.0333861112594604, 1.044106364250183, 1.0447620153427124, 1.0300780534744263, 1.0346888303756714, 1.038772463798523, 1.034575343132019, 1.044796347618103, 1.0287336111068726, 1.0376185178756714, 1.0517534017562866, 1.0514940023422241], \"x\": [-0.06316161155700684, -0.23460161685943604, 0.031981825828552246, 0.9085777997970581, 0.5869458913803101, -0.5753084421157837, -0.6321121454238892, 0.49917566776275635, 0.872507631778717, -0.012309551239013672, -0.8624786138534546, -0.35734355449676514, 0.6926766633987427]}], \"name\": \"frame14\"}, {\"data\": [{\"type\": \"scatter3d\", \"line\": {\"color\": \"red\", \"width\": 5}, \"text\": [\"RHip\"], \"y\": [2.3269524574279785, 2.200273036956787], \"marker\": {\"size\": 2, \"color\": \"blue\"}, \"x\": [0.7512770891189575, 0.6983240842819214], \"z\": [1.0577815771102905, 1.0445703268051147]}, {\"type\": \"scatter3d\", \"line\": {\"color\": \"red\", \"width\": 5}, \"text\": [\"RKnee\"], \"y\": [2.2246737480163574, 2.3269524574279785], \"marker\": {\"size\": 2, \"color\": \"blue\"}, \"x\": [0.837140679359436, 0.7512770891189575], \"z\": [0.6211401224136353, 1.0577815771102905]}, {\"type\": \"scatter3d\", \"line\": {\"color\": \"red\", \"width\": 5}, \"text\": [\"RAnkle\"], \"y\": [2.1193881034851074, 2.2246737480163574], \"marker\": {\"size\": 2, \"color\": \"blue\"}, \"x\": [0.9692350625991821, 0.837140679359436], \"z\": [0.20759952068328857, 0.6211401224136353]}, {\"type\": \"scatter3d\", \"line\": {\"color\": \"black\", \"width\": 5}, \"text\": [\"LHip\"], \"y\": [2.0736043453216553, 2.200273036956787], \"marker\": {\"size\": 2, \"color\": \"blue\"}, \"x\": [0.6453750133514404, 0.6983240842819214], \"z\": [1.0313693284988403, 1.0445703268051147]}, {\"type\": \"scatter3d\", \"line\": {\"color\": \"black\", \"width\": 5}, \"text\": [\"LKnee\"], \"y\": [2.1627259254455566, 2.0736043453216553], \"marker\": {\"size\": 2, \"color\": \"blue\"}, \"x\": [0.5388525724411011, 0.6453750133514404], \"z\": [0.6052602529525757, 1.0313693284988403]}, {\"type\": \"scatter3d\", \"line\": {\"color\": \"black\", \"width\": 5}, \"text\": [\"LAnkle\"], \"y\": [2.247546672821045, 2.1627259254455566], \"marker\": {\"size\": 2, \"color\": \"blue\"}, \"x\": [0.47557270526885986, 0.5388525724411011], \"z\": [0.16949999332427979, 0.6052602529525757]}, {\"type\": \"scatter3d\", \"line\": {\"color\": \"black\", \"width\": 5}, \"text\": [\"Spine1\"], \"y\": [2.191920042037964, 2.200273036956787], \"marker\": {\"size\": 2, \"color\": \"blue\"}, \"x\": [0.7210278511047363, 0.6983240842819214], \"z\": [1.2882589101791382, 1.0445703268051147]}, {\"type\": \"scatter3d\", \"line\": {\"color\": \"black\", \"width\": 5}, \"text\": [\"Neck\"], \"y\": [2.217241048812866, 2.191920042037964], \"marker\": {\"size\": 2, \"color\": \"blue\"}, \"x\": [0.6856889724731445, 0.7210278511047363], \"z\": [1.5414592027664185, 1.2882589101791382]}, {\"type\": \"scatter3d\", \"line\": {\"color\": \"black\", \"width\": 5}, \"text\": [\"Head\"], \"y\": [2.235840320587158, 2.217241048812866], \"marker\": {\"size\": 2, \"color\": \"blue\"}, \"x\": [0.5954512357711792, 0.6856889724731445], \"z\": [1.6133681535720825, 1.5414592027664185]}, {\"type\": \"scatter3d\", \"line\": {\"color\": \"black\", \"width\": 5}, \"text\": [\"Site\"], \"y\": [2.237126350402832, 2.235840320587158], \"marker\": {\"size\": 2, \"color\": \"blue\"}, \"x\": [0.6116014719009399, 0.5954512357711792], \"z\": [1.7244304418563843, 1.6133681535720825]}, {\"type\": \"scatter3d\", \"line\": {\"color\": \"black\", \"width\": 5}, \"text\": [\"LShoulder\"], \"y\": [2.0787885189056396, 2.217241048812866], \"marker\": {\"size\": 2, \"color\": \"blue\"}, \"x\": [0.6481790542602539, 0.6856889724731445], \"z\": [1.4960519075393677, 1.5414592027664185]}, {\"type\": \"scatter3d\", \"line\": {\"color\": \"black\", \"width\": 5}, \"text\": [\"LElbow\"], \"y\": [1.9589312076568604, 2.0787885189056396], \"marker\": {\"size\": 2, \"color\": \"blue\"}, \"x\": [0.6712409257888794, 0.6481790542602539], \"z\": [1.240094542503357, 1.4960519075393677]}, {\"type\": \"scatter3d\", \"line\": {\"color\": \"black\", \"width\": 5}, \"text\": [\"LWrist\"], \"y\": [1.9888577461242676, 1.9589312076568604], \"marker\": {\"size\": 2, \"color\": \"blue\"}, \"x\": [0.5984536409378052, 0.6712409257888794], \"z\": [1.0026291608810425, 1.240094542503357]}, {\"type\": \"scatter3d\", \"line\": {\"color\": \"red\", \"width\": 5}, \"text\": [\"RShoulder\"], \"y\": [2.3344810009002686, 2.217241048812866], \"marker\": {\"size\": 2, \"color\": \"blue\"}, \"x\": [0.7610030174255371, 0.6856889724731445], \"z\": [1.4734548330307007, 1.5414592027664185]}, {\"type\": \"scatter3d\", \"line\": {\"color\": \"red\", \"width\": 5}, \"text\": [\"RElbow\"], \"y\": [2.3972408771514893, 2.3344810009002686], \"marker\": {\"size\": 2, \"color\": \"blue\"}, \"x\": [0.8582828044891357, 0.7610030174255371], \"z\": [1.2074044942855835, 1.4734548330307007]}, {\"type\": \"scatter3d\", \"line\": {\"color\": \"red\", \"width\": 5}, \"text\": [\"RWrist\"], \"y\": [2.428825616836548, 2.3972408771514893], \"marker\": {\"size\": 2, \"color\": \"blue\"}, \"x\": [0.7658416032791138, 0.8582828044891357], \"z\": [0.9933832883834839, 1.2074044942855835]}, {\"type\": \"scatter3d\", \"line\": {\"color\": \"#1f77b4\", \"width\": 1}, \"y\": [0.02784585952758789, -0.350095272064209, -1.438666820526123, -0.2805013656616211, 1.5797510147094727, 0.998523473739624, -0.911412239074707, -0.9276432991027832, 0.6878385543823242, 1.8070440292358398, 0.4292144775390625, -1.257382869720459, -0.6638216972351074, 0.8749704360961914], \"marker\": {\"size\": 1, \"color\": \"#1f77b4\"}, \"z\": [1.0595601797103882, 1.0333861112594604, 1.044106364250183, 1.0447620153427124, 1.0300780534744263, 1.0346888303756714, 1.038772463798523, 1.034575343132019, 1.044796347618103, 1.0287336111068726, 1.0376185178756714, 1.0517534017562866, 1.0514940023422241, 1.0505551099777222], \"x\": [-0.06316161155700684, -0.23460161685943604, 0.031981825828552246, 0.9085777997970581, 0.5869458913803101, -0.5753084421157837, -0.6321121454238892, 0.49917566776275635, 0.872507631778717, -0.012309551239013672, -0.8624786138534546, -0.35734355449676514, 0.6926766633987427, 1.0585377216339111]}], \"name\": \"frame15\"}, {\"data\": [{\"type\": \"scatter3d\", \"line\": {\"color\": \"red\", \"width\": 5}, \"text\": [\"RHip\"], \"y\": [1.3352246284484863, 1.256162166595459], \"marker\": {\"size\": 2, \"color\": \"blue\"}, \"x\": [-0.5277851819992065, -0.4110628366470337], \"z\": [1.0457209348678589, 1.0341342687606812]}, {\"type\": \"scatter3d\", \"line\": {\"color\": \"red\", \"width\": 5}, \"text\": [\"RKnee\"], \"y\": [1.2140991687774658, 1.3352246284484863], \"marker\": {\"size\": 2, \"color\": \"blue\"}, \"x\": [-0.6106263399124146, -0.5277851819992065], \"z\": [0.6166890859603882, 1.0457209348678589]}, {\"type\": \"scatter3d\", \"line\": {\"color\": \"red\", \"width\": 5}, \"text\": [\"RAnkle\"], \"y\": [1.2520666122436523, 1.2140991687774658], \"marker\": {\"size\": 2, \"color\": \"blue\"}, \"x\": [-0.6006778478622437, -0.6106263399124146], \"z\": [0.17493140697479248, 0.6166890859603882]}, {\"type\": \"scatter3d\", \"line\": {\"color\": \"black\", \"width\": 5}, \"text\": [\"LHip\"], \"y\": [1.1771328449249268, 1.256162166595459], \"marker\": {\"size\": 2, \"color\": \"blue\"}, \"x\": [-0.29432356357574463, -0.4110628366470337], \"z\": [1.0225633382797241, 1.0341342687606812]}, {\"type\": \"scatter3d\", \"line\": {\"color\": \"black\", \"width\": 5}, \"text\": [\"LKnee\"], \"y\": [1.2410802841186523, 1.1771328449249268], \"marker\": {\"size\": 2, \"color\": \"blue\"}, \"x\": [-0.3329504728317261, -0.29432356357574463], \"z\": [0.576593279838562, 1.0225633382797241]}, {\"type\": \"scatter3d\", \"line\": {\"color\": \"black\", \"width\": 5}, \"text\": [\"LAnkle\"], \"y\": [1.3627419471740723, 1.2410802841186523], \"marker\": {\"size\": 2, \"color\": \"blue\"}, \"x\": [-0.3260403871536255, -0.3329504728317261], \"z\": [0.1504596471786499, 0.576593279838562]}, {\"type\": \"scatter3d\", \"line\": {\"color\": \"black\", \"width\": 5}, \"text\": [\"Spine1\"], \"y\": [1.2703063488006592, 1.256162166595459], \"marker\": {\"size\": 2, \"color\": \"blue\"}, \"x\": [-0.39459002017974854, -0.4110628366470337], \"z\": [1.2911704778671265, 1.0341342687606812]}, {\"type\": \"scatter3d\", \"line\": {\"color\": \"black\", \"width\": 5}, \"text\": [\"Neck\"], \"y\": [1.2373895645141602, 1.2703063488006592], \"marker\": {\"size\": 2, \"color\": \"blue\"}, \"x\": [-0.42690885066986084, -0.39459002017974854], \"z\": [1.534939169883728, 1.2911704778671265]}, {\"type\": \"scatter3d\", \"line\": {\"color\": \"black\", \"width\": 5}, \"text\": [\"Head\"], \"y\": [1.1702749729156494, 1.2373895645141602], \"marker\": {\"size\": 2, \"color\": \"blue\"}, \"x\": [-0.47660839557647705, -0.42690885066986084], \"z\": [1.6224573850631714, 1.534939169883728]}, {\"type\": \"scatter3d\", \"line\": {\"color\": \"black\", \"width\": 5}, \"text\": [\"Site\"], \"y\": [1.1825084686279297, 1.1702749729156494], \"marker\": {\"size\": 2, \"color\": \"blue\"}, \"x\": [-0.4695690870285034, -0.47660839557647705], \"z\": [1.7350891828536987, 1.6224573850631714]}, {\"type\": \"scatter3d\", \"line\": {\"color\": \"black\", \"width\": 5}, \"text\": [\"LShoulder\"], \"y\": [1.150400161743164, 1.2373895645141602], \"marker\": {\"size\": 2, \"color\": \"blue\"}, \"x\": [-0.29053938388824463, -0.42690885066986084], \"z\": [1.4762409925460815, 1.534939169883728]}, {\"type\": \"scatter3d\", \"line\": {\"color\": \"black\", \"width\": 5}, \"text\": [\"LElbow\"], \"y\": [1.080033779144287, 1.150400161743164], \"marker\": {\"size\": 2, \"color\": \"blue\"}, \"x\": [-0.18026220798492432, -0.29053938388824463], \"z\": [1.219082236289978, 1.4762409925460815]}, {\"type\": \"scatter3d\", \"line\": {\"color\": \"black\", \"width\": 5}, \"text\": [\"LWrist\"], \"y\": [1.0426719188690186, 1.080033779144287], \"marker\": {\"size\": 2, \"color\": \"blue\"}, \"x\": [-0.32110393047332764, -0.18026220798492432], \"z\": [1.0248721837997437, 1.219082236289978]}, {\"type\": \"scatter3d\", \"line\": {\"color\": \"red\", \"width\": 5}, \"text\": [\"RShoulder\"], \"y\": [1.350848913192749, 1.2373895645141602], \"marker\": {\"size\": 2, \"color\": \"blue\"}, \"x\": [-0.5388139486312866, -0.42690885066986084], \"z\": [1.4789751768112183, 1.534939169883728]}, {\"type\": \"scatter3d\", \"line\": {\"color\": \"red\", \"width\": 5}, \"text\": [\"RElbow\"], \"y\": [1.4476728439331055, 1.350848913192749], \"marker\": {\"size\": 2, \"color\": \"blue\"}, \"x\": [-0.6158760786056519, -0.5388139486312866], \"z\": [1.2131270170211792, 1.4789751768112183]}, {\"type\": \"scatter3d\", \"line\": {\"color\": \"red\", \"width\": 5}, \"text\": [\"RWrist\"], \"y\": [1.308696985244751, 1.4476728439331055], \"marker\": {\"size\": 2, \"color\": \"blue\"}, \"x\": [-0.6344736814498901, -0.6158760786056519], \"z\": [1.0174297094345093, 1.2131270170211792]}, {\"type\": \"scatter3d\", \"line\": {\"color\": \"#1f77b4\", \"width\": 1}, \"y\": [0.02784585952758789, -0.350095272064209, -1.438666820526123, -0.2805013656616211, 1.5797510147094727, 0.998523473739624, -0.911412239074707, -0.9276432991027832, 0.6878385543823242, 1.8070440292358398, 0.4292144775390625, -1.257382869720459, -0.6638216972351074, 0.8749704360961914, 2.200273036956787], \"marker\": {\"size\": 1, \"color\": \"#1f77b4\"}, \"z\": [1.0595601797103882, 1.0333861112594604, 1.044106364250183, 1.0447620153427124, 1.0300780534744263, 1.0346888303756714, 1.038772463798523, 1.034575343132019, 1.044796347618103, 1.0287336111068726, 1.0376185178756714, 1.0517534017562866, 1.0514940023422241, 1.0505551099777222, 1.0445703268051147], \"x\": [-0.06316161155700684, -0.23460161685943604, 0.031981825828552246, 0.9085777997970581, 0.5869458913803101, -0.5753084421157837, -0.6321121454238892, 0.49917566776275635, 0.872507631778717, -0.012309551239013672, -0.8624786138534546, -0.35734355449676514, 0.6926766633987427, 1.0585377216339111, 0.6983240842819214]}], \"name\": \"frame16\"}, {\"data\": [{\"type\": \"scatter3d\", \"line\": {\"color\": \"red\", \"width\": 5}, \"text\": [\"RHip\"], \"y\": [-0.4712090492248535, -0.4227924346923828], \"marker\": {\"size\": 2, \"color\": \"blue\"}, \"x\": [-0.9326058626174927, -0.7955883741378784], \"z\": [1.0434526205062866, 1.0412148237228394]}, {\"type\": \"scatter3d\", \"line\": {\"color\": \"red\", \"width\": 5}, \"text\": [\"RKnee\"], \"y\": [-0.47642946243286133, -0.4712090492248535], \"marker\": {\"size\": 2, \"color\": \"blue\"}, \"x\": [-0.8998419046401978, -0.9326058626174927], \"z\": [0.5927389860153198, 1.0434526205062866]}, {\"type\": \"scatter3d\", \"line\": {\"color\": \"red\", \"width\": 5}, \"text\": [\"RAnkle\"], \"y\": [-0.3911290168762207, -0.47642946243286133], \"marker\": {\"size\": 2, \"color\": \"blue\"}, \"x\": [-0.9098488092422485, -0.8998419046401978], \"z\": [0.15830695629119873, 0.5927389860153198]}, {\"type\": \"scatter3d\", \"line\": {\"color\": \"black\", \"width\": 5}, \"text\": [\"LHip\"], \"y\": [-0.37436771392822266, -0.4227924346923828], \"marker\": {\"size\": 2, \"color\": \"blue\"}, \"x\": [-0.658563494682312, -0.7955883741378784], \"z\": [1.0389946699142456, 1.0412148237228394]}, {\"type\": \"scatter3d\", \"line\": {\"color\": \"black\", \"width\": 5}, \"text\": [\"LKnee\"], \"y\": [-0.49336671829223633, -0.37436771392822266], \"marker\": {\"size\": 2, \"color\": \"blue\"}, \"x\": [-0.6152728796005249, -0.658563494682312], \"z\": [0.6128929853439331, 1.0389946699142456]}, {\"type\": \"scatter3d\", \"line\": {\"color\": \"black\", \"width\": 5}, \"text\": [\"LAnkle\"], \"y\": [-0.24420976638793945, -0.49336671829223633], \"marker\": {\"size\": 2, \"color\": \"blue\"}, \"x\": [-0.6649173498153687, -0.6152728796005249], \"z\": [0.2485111951828003, 0.6128929853439331]}, {\"type\": \"scatter3d\", \"line\": {\"color\": \"black\", \"width\": 5}, \"text\": [\"Spine1\"], \"y\": [-0.38536691665649414, -0.4227924346923828], \"marker\": {\"size\": 2, \"color\": \"blue\"}, \"x\": [-0.8312097787857056, -0.7955883741378784], \"z\": [1.2962716817855835, 1.0412148237228394]}, {\"type\": \"scatter3d\", \"line\": {\"color\": \"black\", \"width\": 5}, \"text\": [\"Neck\"], \"y\": [-0.4273343086242676, -0.38536691665649414], \"marker\": {\"size\": 2, \"color\": \"blue\"}, \"x\": [-0.8307880163192749, -0.8312097787857056], \"z\": [1.5452646017074585, 1.2962716817855835]}, {\"type\": \"scatter3d\", \"line\": {\"color\": \"black\", \"width\": 5}, \"text\": [\"Head\"], \"y\": [-0.5068149566650391, -0.4273343086242676], \"marker\": {\"size\": 2, \"color\": \"blue\"}, \"x\": [-0.7908931970596313, -0.8307880163192749], \"z\": [1.6294716596603394, 1.5452646017074585]}, {\"type\": \"scatter3d\", \"line\": {\"color\": \"black\", \"width\": 5}, \"text\": [\"Site\"], \"y\": [-0.5076436996459961, -0.5068149566650391], \"marker\": {\"size\": 2, \"color\": \"blue\"}, \"x\": [-0.8041390180587769, -0.7908931970596313], \"z\": [1.7469733953475952, 1.6294716596603394]}, {\"type\": \"scatter3d\", \"line\": {\"color\": \"black\", \"width\": 5}, \"text\": [\"LShoulder\"], \"y\": [-0.3698105812072754, -0.4273343086242676], \"marker\": {\"size\": 2, \"color\": \"blue\"}, \"x\": [-0.6784907579421997, -0.8307880163192749], \"z\": [1.494775652885437, 1.5452646017074585]}, {\"type\": \"scatter3d\", \"line\": {\"color\": \"black\", \"width\": 5}, \"text\": [\"LElbow\"], \"y\": [-0.336946964263916, -0.3698105812072754], \"marker\": {\"size\": 2, \"color\": \"blue\"}, \"x\": [-0.5516685247421265, -0.6784907579421997], \"z\": [1.232186198234558, 1.494775652885437]}, {\"type\": \"scatter3d\", \"line\": {\"color\": \"black\", \"width\": 5}, \"text\": [\"LWrist\"], \"y\": [-0.4869379997253418, -0.336946964263916], \"marker\": {\"size\": 2, \"color\": \"blue\"}, \"x\": [-0.6101714372634888, -0.5516685247421265], \"z\": [1.051561713218689, 1.232186198234558]}, {\"type\": \"scatter3d\", \"line\": {\"color\": \"red\", \"width\": 5}, \"text\": [\"RShoulder\"], \"y\": [-0.4450716972351074, -0.4273343086242676], \"marker\": {\"size\": 2, \"color\": \"blue\"}, \"x\": [-0.9846826791763306, -0.8307880163192749], \"z\": [1.482448935508728, 1.5452646017074585]}, {\"type\": \"scatter3d\", \"line\": {\"color\": \"red\", \"width\": 5}, \"text\": [\"RElbow\"], \"y\": [-0.43438005447387695, -0.4450716972351074], \"marker\": {\"size\": 2, \"color\": \"blue\"}, \"x\": [-1.0992974042892456, -0.9846826791763306], \"z\": [1.2171005010604858, 1.482448935508728]}, {\"type\": \"scatter3d\", \"line\": {\"color\": \"red\", \"width\": 5}, \"text\": [\"RWrist\"], \"y\": [-0.5549397468566895, -0.43438005447387695], \"marker\": {\"size\": 2, \"color\": \"blue\"}, \"x\": [-1.0094248056411743, -1.0992974042892456], \"z\": [1.0158642530441284, 1.2171005010604858]}, {\"type\": \"scatter3d\", \"line\": {\"color\": \"#1f77b4\", \"width\": 1}, \"y\": [0.02784585952758789, -0.350095272064209, -1.438666820526123, -0.2805013656616211, 1.5797510147094727, 0.998523473739624, -0.911412239074707, -0.9276432991027832, 0.6878385543823242, 1.8070440292358398, 0.4292144775390625, -1.257382869720459, -0.6638216972351074, 0.8749704360961914, 2.200273036956787, 1.256162166595459], \"marker\": {\"size\": 1, \"color\": \"#1f77b4\"}, \"z\": [1.0595601797103882, 1.0333861112594604, 1.044106364250183, 1.0447620153427124, 1.0300780534744263, 1.0346888303756714, 1.038772463798523, 1.034575343132019, 1.044796347618103, 1.0287336111068726, 1.0376185178756714, 1.0517534017562866, 1.0514940023422241, 1.0505551099777222, 1.0445703268051147, 1.0341342687606812], \"x\": [-0.06316161155700684, -0.23460161685943604, 0.031981825828552246, 0.9085777997970581, 0.5869458913803101, -0.5753084421157837, -0.6321121454238892, 0.49917566776275635, 0.872507631778717, -0.012309551239013672, -0.8624786138534546, -0.35734355449676514, 0.6926766633987427, 1.0585377216339111, 0.6983240842819214, -0.4110628366470337]}], \"name\": \"frame17\"}]);\n",
       "                        }).then(function(){\n",
       "                            Plotly.animate('328e412f-d854-4cb6-bb34-4f609c8207b1', null);\n",
       "                        }).then(function(){\n",
       "                            \n",
       "var gd = document.getElementById('328e412f-d854-4cb6-bb34-4f609c8207b1');\n",
       "var x = new MutationObserver(function (mutations, observer) {{\n",
       "        var display = window.getComputedStyle(gd).display;\n",
       "        if (!display || display === 'none') {{\n",
       "            console.log([gd, 'removed!']);\n",
       "            Plotly.purge(gd);\n",
       "            observer.disconnect();\n",
       "        }}\n",
       "}});\n",
       "\n",
       "// Listen for the removal of the full notebook cells\n",
       "var notebookContainer = gd.closest('#notebook-container');\n",
       "if (notebookContainer) {{\n",
       "    x.observe(notebookContainer, {childList: true});\n",
       "}}\n",
       "\n",
       "// Listen for the clearing of the current output cell\n",
       "var outputEl = gd.closest('.output');\n",
       "if (outputEl) {{\n",
       "    x.observe(outputEl, {childList: true});\n",
       "}}\n",
       "\n",
       "                        })\n",
       "                };\n",
       "                });\n",
       "            </script>\n",
       "        </div>"
      ]
     },
     "metadata": {},
     "output_type": "display_data"
    }
   ],
   "source": [
    "frames, layout = generate_frames_layout(prediction[::100], dataset.skeleton(), human36m_kpts_name)\n",
    "fig = dict(data=get_line_3d_segs(prediction, 0, dataset.skeleton(), human36m_kpts_name), layout=layout, frames=frames)\n",
    "plotly.offline.iplot(fig)"
   ]
  },
  {
   "cell_type": "code",
   "execution_count": null,
   "metadata": {},
   "outputs": [],
   "source": []
  }
 ],
 "metadata": {
  "kernelspec": {
   "display_name": "Python 3",
   "language": "python",
   "name": "python3"
  },
  "language_info": {
   "codemirror_mode": {
    "name": "ipython",
    "version": 3
   },
   "file_extension": ".py",
   "mimetype": "text/x-python",
   "name": "python",
   "nbconvert_exporter": "python",
   "pygments_lexer": "ipython3",
   "version": "3.5.2"
  }
 },
 "nbformat": 4,
 "nbformat_minor": 2
}
