{
 "cells": [
  {
   "cell_type": "code",
   "execution_count": 1,
   "metadata": {},
   "outputs": [
    {
     "data": {
      "text/html": [
       "        <script type=\"text/javascript\">\n",
       "        window.PlotlyConfig = {MathJaxConfig: 'local'};\n",
       "        if (window.MathJax) {MathJax.Hub.Config({SVG: {font: \"STIX-Web\"}});}\n",
       "        if (typeof require !== 'undefined') {\n",
       "        require.undef(\"plotly\");\n",
       "        requirejs.config({\n",
       "            paths: {\n",
       "                'plotly': ['https://cdn.plot.ly/plotly-latest.min']\n",
       "            }\n",
       "        });\n",
       "        require(['plotly'], function(Plotly) {\n",
       "            window._Plotly = Plotly;\n",
       "        });\n",
       "        }\n",
       "        </script>\n",
       "        "
      ]
     },
     "metadata": {},
     "output_type": "display_data"
    }
   ],
   "source": [
    "import numpy as np\n",
    "import cv2\n",
    "from common.camera import *\n",
    "from common.mocap_dataset import MocapDataset\n",
    "from common.xianhui_dataset import XianhuiDataset, xianhui_data_processing\n",
    "from common.skeleton import Skeleton\n",
    "from common.utils import *\n",
    "import glob\n",
    "\n",
    "import plotly\n",
    "import plotly.graph_objs as go\n",
    "import numpy as np\n",
    "import json\n",
    "from common.h36m_dataset import Human36mDataset\n",
    "from common.visualization import *\n",
    "%matplotlib inline\n",
    "plotly.offline.init_notebook_mode(connected=True)"
   ]
  },
  {
   "cell_type": "code",
   "execution_count": 2,
   "metadata": {},
   "outputs": [
    {
     "name": "stdout",
     "output_type": "stream",
     "text": [
      "calibrate camera\n",
      "load 3d and 2d skeletons\n",
      "estimate extrinsics\n"
     ]
    }
   ],
   "source": [
    "cam_0_data_path = \"./wild_data/2019.05.30_14.03/1.json\"\n",
    "cam_0_img_paths = [\"./wild_data/2019.05.30_14.03/BonesInfo_Camera_1/{}.png\".format(str(i+1)) for i in range(49)]\n",
    "cam_0_img_cal_paths = glob.glob('./wild_data/2019.05.30_14.03/Camera_0/*.png')\n",
    "pts_3d, cam_0_pts_2d, cam_0_params, cam_0_imgs = xianhui_data_processing(cam_0_data_path, cam_0_img_paths, cam_0_img_cal_paths, cam_id = \"cam_0\", chess_board_shape = (7, 5))\n",
    "np.save(\"./wild_data/2019.05.30_14.03/camera_0_params.npy\", cam_0_params)"
   ]
  },
  {
   "cell_type": "code",
   "execution_count": 3,
   "metadata": {},
   "outputs": [
    {
     "name": "stdout",
     "output_type": "stream",
     "text": [
      "calibrate camera\n",
      "load 3d and 2d skeletons\n",
      "estimate extrinsics\n"
     ]
    }
   ],
   "source": [
    "cam_1_data_path = \"./wild_data/2019.05.30_14.03/2.json\"\n",
    "cam_1_img_paths = [\"./wild_data/2019.05.30_14.03/BonesInfo_Camera_2/{}.png\".format(str(i+1)) for i in range(49)]\n",
    "cam_1_img_cal_paths = glob.glob('./wild_data/2019.05.30_14.03/Camera_1/*.png')\n",
    "pts_3d, cam_1_pts_2d, cam_1_params, cam_1_imgs = xianhui_data_processing(cam_1_data_path, cam_1_img_paths, cam_1_img_cal_paths, cam_id = \"cam_1\", chess_board_shape = (7, 5))\n",
    "np.save(\"./wild_data/2019.05.30_14.03/camera_1_params.npy\", cam_1_params)"
   ]
  },
  {
   "cell_type": "code",
   "execution_count": 4,
   "metadata": {},
   "outputs": [],
   "source": [
    "cameras = {}\n",
    "cameras[\"S1\"] = [cam_0_params, cam_1_params]\n",
    "data = {}\n",
    "data[\"S1\"] = {}\n",
    "data[\"S1\"][\"somba\"] = {\n",
    "    \"positions\" : pts_3d,\n",
    "    \"cameras\" : cameras[\"S1\"]\n",
    "}\n",
    "\n",
    "dataset = XianhuiDataset(cameras, data)"
   ]
  },
  {
   "cell_type": "code",
   "execution_count": 5,
   "metadata": {},
   "outputs": [],
   "source": [
    "skeleton = dataset.skeleton()"
   ]
  },
  {
   "cell_type": "code",
   "execution_count": 11,
   "metadata": {},
   "outputs": [],
   "source": [
    "# def xianhui_data_processing(data_path, img_paths, img_cal_paths, cam_id, chess_board_shape = (7, 5)):\n",
    "#     # camera calibration\n",
    "#     intrinsics, distortion = camera_calibration(chess_board_shape, img_cal_paths)\n",
    "#     print(\"calibrate camera\")\n",
    "    \n",
    "#     # load simulation data\n",
    "#     with open(data_path, 'r') as f:\n",
    "#         data = json.loads(f.read())\n",
    "    \n",
    "#     imgs = np.array([plt.imread(img) for img in img_paths])\n",
    "#     img_id, h, w, n_channel = imgs.shape\n",
    "\n",
    "#     pts_3d, pts_2d = wild2human36m_xianhui(data, w, h)\n",
    "#     print(\"load 3d and 2d skeletons\")\n",
    "    \n",
    "#     # estimate extrinsics\n",
    "#     obj_pts = pts_3d.reshape(-1,3,1)\n",
    "#     img_pts = pts_2d.reshape(-1,2,1)\n",
    "#     _, rvec, tvec, _ = cv2.solvePnPRansac(obj_pts, img_pts, intrinsics, distortion)\n",
    "#     rmat, _ = cv2.Rodrigues(rvec)\n",
    "#     extrinsics = np.zeros((3,4))\n",
    "#     extrinsics[:,:3] = rmat\n",
    "#     extrinsics[:,3] = tvec.reshape(-1)\n",
    "#     print(\"estimate extrinsics\")\n",
    "\n",
    "#     camera_params = {}\n",
    "#     camera_params[\"intrinsics\"] = intrinsics\n",
    "#     camera_params[\"extrinsics\"] = extrinsics\n",
    "#     camera_params[\"rvec\"] = rvec\n",
    "#     camera_params[\"tvec\"] = tvec\n",
    "#     camera_params[\"distortion\"] = distortion\n",
    "#     camera_params[\"res_w\"] = w\n",
    "#     camera_params[\"res_h\"] = h\n",
    "#     camera_params[\"id\"] = cam_id\n",
    "    \n",
    "#     return pts_3d, pts_2d, camera_params, imgs"
   ]
  },
  {
   "cell_type": "code",
   "execution_count": 12,
   "metadata": {},
   "outputs": [],
   "source": [
    "# xianhui_skeleton = Skeleton(parents=[-1,  0,  1,  2,  0,  4,  5,  0,  7,  8,  9,  8, 11, 12,  8, 14, 15],\n",
    "#        joints_left=[4, 5, 6, 11, 12, 13],\n",
    "#        joints_right=[1, 2, 3, 14, 15, 16])\n",
    "\n",
    "\n",
    "# class XianhuiDataset(MocapDataset):\n",
    "#     def __init__(self, cameras, data):\n",
    "#         super().__init__(fps=60, skeleton=xianhui_skeleton)\n",
    "#         self._cameras = cameras\n",
    "#         self._data = data"
   ]
  },
  {
   "cell_type": "code",
   "execution_count": 16,
   "metadata": {},
   "outputs": [],
   "source": [
    "# human36m_path = \"./data/data_3d_h36m.npz\"\n",
    "# human36m = Human36mDataset(human36m_path)\n",
    "# skeleton = human36m.skeleton()\n"
   ]
  },
  {
   "cell_type": "code",
   "execution_count": 6,
   "metadata": {},
   "outputs": [],
   "source": [
    "def world2camera(pts_3d_world_homo, rvec, tvec):\n",
    "    rmat, _ = cv2.Rodrigues(rvec)\n",
    "    extrinsics = np.zeros((3,4))\n",
    "    extrinsics[:,:3] = rmat\n",
    "    extrinsics[:,3] = tvec.reshape(-1)\n",
    "    \n",
    "    pts_3d_cam = np.matmul(extrinsics, pts_3d_world_homo)\n",
    "    \n",
    "    return pts_3d_cam"
   ]
  },
  {
   "cell_type": "code",
   "execution_count": 7,
   "metadata": {},
   "outputs": [],
   "source": [
    "def camera2screen(pts_3d_cam, intrinsics):\n",
    "    proj_2d = np.matmul(intrinsics, pts_3d_cam)\n",
    "    proj_2d_homo = proj_2d / proj_2d[-1]\n",
    "    \n",
    "    return proj_2d_homo[:2].T"
   ]
  },
  {
   "cell_type": "code",
   "execution_count": 8,
   "metadata": {},
   "outputs": [],
   "source": [
    "# projection from 3d to 2d\n",
    "obj_pts = pts_3d.reshape(-1,3,1)\n",
    "proj_2d, _ = cv2.projectPoints(obj_pts, \n",
    "                               cam_0_params[\"rvec\"], \n",
    "                               cam_0_params[\"tvec\"], \n",
    "                               cam_0_params[\"intrinsics\"],\n",
    "                               cam_0_params[\"distortion\"])\n",
    "proj_2d = proj_2d.reshape(-1,17,2)"
   ]
  },
  {
   "cell_type": "code",
   "execution_count": 9,
   "metadata": {},
   "outputs": [],
   "source": [
    "# projection from 3d to 2d seperate, without distortion\n",
    "nframe = 49\n",
    "pts_3d_homo = np.ones((nframe, 17, 4))\n",
    "pts_3d_homo[... , :3] = pts_3d\n",
    "pts_3d_homo = pts_3d_homo.reshape(-1, 4).T\n",
    "\n",
    "pts_3d_cam = world2camera(pts_3d_homo, cam_0_params[\"rvec\"], cam_0_params[\"tvec\"])\n",
    "proj_2d = camera2screen(pts_3d_cam, cam_0_params[\"intrinsics\"])\n",
    "proj_2d = proj_2d.reshape(-1, 17, 2)"
   ]
  },
  {
   "cell_type": "code",
   "execution_count": 10,
   "metadata": {},
   "outputs": [],
   "source": [
    "from common.visualization import *"
   ]
  },
  {
   "cell_type": "code",
   "execution_count": 11,
   "metadata": {},
   "outputs": [
    {
     "data": {
      "image/png": "[encoded data removed]",
      "text/plain": [
       "<Figure size 1440x1440 with 2 Axes>"
      ]
     },
     "metadata": {
      "needs_background": "light"
     },
     "output_type": "display_data"
    }
   ],
   "source": [
    "m = 10\n",
    "gt_2d = cam_0_pts_2d[m]\n",
    "fig = plt.figure(figsize=(20,20))\n",
    "ax_2d_gt = fig.add_subplot(1,2,1, aspect='equal')\n",
    "ax_2d_gt = display_2D_skeleton_beta(ax_2d_gt, gt_2d, skeleton, cam_0_imgs[m])\n",
    "ax_2d_gt.scatter(gt_2d[0][0], gt_2d[0][1], c = \"b\")\n",
    "ax_2d_gt.set_title(\"{:6.2f},{:6.2f}\".format(gt_2d[0][0], gt_2d[0][1]))\n",
    "\n",
    "pr_2d = proj_2d[m]\n",
    "ax_2d_pr = fig.add_subplot(1,2,2, aspect='equal')\n",
    "ax_2d_pr = display_2D_skeleton_beta(ax_2d_pr, pr_2d, skeleton, cam_0_imgs[m])\n",
    "ax_2d_pr.scatter(pr_2d[0][0], pr_2d[0][1], c = \"b\")\n",
    "ax_2d_pr.set_title(\"{:6.2f},{:6.2f}\".format(pr_2d[0][0], pr_2d[0][1]))\n",
    "\n",
    "plt.show()"
   ]
  },
  {
   "cell_type": "code",
   "execution_count": null,
   "metadata": {},
   "outputs": [],
   "source": [
    "# def camera_calibration(chess_board_shape, images):\n",
    "#     # termination criteria\n",
    "#     criteria = (cv2.TERM_CRITERIA_EPS + cv2.TERM_CRITERIA_MAX_ITER, 30, 0.001)\n",
    "#     c_columns = chess_board_shape[0]\n",
    "#     c_rows = chess_board_shape[1]\n",
    "    \n",
    "#     # prepare object points, like (0,0,0), (1,0,0), (2,0,0) ....,(6,5,0)\n",
    "#     objp = np.zeros((c_rows * c_columns,3), np.float32)\n",
    "#     objp[:,:2] = np.mgrid[0:c_columns, 0:c_rows].T.reshape(-1,2) * 1000\n",
    "    \n",
    "#     # Arrays to store object points and image points from all the images.\n",
    "#     objpoints = [] # 3d point in real world space\n",
    "#     imgpoints = [] # 2d points in image plane.\n",
    "    \n",
    "#     for fname in images:\n",
    "#         img = cv2.imread(fname)\n",
    "#         gray = cv2.cvtColor(img,cv2.COLOR_BGR2GRAY)\n",
    "\n",
    "#         # Find the chess board corners\n",
    "#         ret, corners = cv2.findChessboardCorners(gray, (c_columns,c_rows),None)\n",
    "\n",
    "#         # If found, add object points, image points (after refining them)\n",
    "#         if ret == True:\n",
    "#             objpoints.append(objp)\n",
    "\n",
    "#             corners2 = cv2.cornerSubPix(gray,corners,(11,11),(-1,-1),criteria)\n",
    "#             imgpoints.append(corners2)\n",
    "            \n",
    "#     ret, mtx, dist, rvecs, tvecs = cv2.calibrateCamera(objpoints, imgpoints, gray.shape[::-1],None,None)\n",
    "#     return mtx, dist"
   ]
  },
  {
   "cell_type": "code",
   "execution_count": null,
   "metadata": {},
   "outputs": [],
   "source": [
    "# xianhui_kpts_name = list(data[\"1\"].keys())[1:]\n",
    "# xianhui_kpts_dict = {}\n",
    "# xianhui_kpts_inverse_dict = {}\n",
    "# for i in range(len(xianhui_kpts_name)):\n",
    "#     xianhui_kpts_dict[xianhui_kpts_name[i]] = i\n",
    "#     xianhui_kpts_inverse_dict[i] = xianhui_kpts_name[i]\n",
    "\n",
    "# human36m_kpts_name = ['Pelvis', 'RHip', 'RKnee', 'RAnkle','LHip','LKnee',\n",
    "#                       'LAnkle','Spine1','Neck', 'Head','Site','LShoulder',\n",
    "#                       'LElbow','LWrist','RShoulder', 'RElbow','RWrist']\n",
    "# human36m_kpts_dict = {}\n",
    "# human36m_kpts_inverse_dict = {}\n",
    "# for i in range(17):\n",
    "#     human36m_kpts_dict[human36m_kpts_name[i]] = i\n",
    "#     human36m_kpts_inverse_dict[i] = human36m_kpts_name[i]\n",
    "    \n",
    "# pair = [(0,5),(1,18),(2,19),(3,20),(4,10),(5,11),(6,12),(7,3),(8,1),(9,0),(10,0),(11,7),(12,8),(13,9),(14,15),(15,16),(16,17)]\n",
    "\n",
    "# pts_3d = []\n",
    "# pts_2d = []\n",
    "\n",
    "# for i in range(len(data)-1):\n",
    "#     pts_3d_ = []\n",
    "#     pts_2d_ = []\n",
    "\n",
    "#     for p in pair:\n",
    "#         x = data[str(i+1)][xianhui_kpts_inverse_dict[p[1]]][\"x\"]\n",
    "#         y = data[str(i+1)][xianhui_kpts_inverse_dict[p[1]]][\"y\"]\n",
    "#         z = data[str(i+1)][xianhui_kpts_inverse_dict[p[1]]][\"z\"]\n",
    "#         x_2d = data[str(i+1)][xianhui_kpts_inverse_dict[p[1]]][\"view_x\"]\n",
    "#         y_2d = data[str(i+1)][xianhui_kpts_inverse_dict[p[1]]][\"view_y\"]\n",
    "#         pts_3d_.append([x,y,z])\n",
    "#         # pts_2d_.append([(x_2d), (y_2d)])\n",
    "#         pts_2d_.append([(x_2d)*w, (1-y_2d)*h])\n",
    "        \n",
    "#     pts_3d.append(pts_3d_)\n",
    "#     pts_2d.append(pts_2d_)\n",
    "    \n",
    "    \n",
    "# pts_3d = np.array(pts_3d)\n",
    "# pts_2d = np.array(pts_2d)"
   ]
  },
  {
   "cell_type": "code",
   "execution_count": null,
   "metadata": {},
   "outputs": [],
   "source": []
  }
 ],
 "metadata": {
  "kernelspec": {
   "display_name": "PyTorch",
   "language": "python",
   "name": "pytorch"
  },
  "language_info": {
   "codemirror_mode": {
    "name": "ipython",
    "version": 3
   },
   "file_extension": ".py",
   "mimetype": "text/x-python",
   "name": "python",
   "nbconvert_exporter": "python",
   "pygments_lexer": "ipython3",
   "version": "3.6.6"
  }
 },
 "nbformat": 4,
 "nbformat_minor": 2
}
